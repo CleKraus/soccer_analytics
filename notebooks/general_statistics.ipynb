{
 "cells": [
  {
   "cell_type": "code",
   "execution_count": 322,
   "metadata": {},
   "outputs": [],
   "source": [
    "import pandas as pd\n",
    "import numpy as np\n",
    "import os\n",
    "import plotly.express as px\n",
    "import plotly.graph_objects as go\n",
    "from plotly.subplots import make_subplots"
   ]
  },
  {
   "cell_type": "code",
   "execution_count": 323,
   "metadata": {},
   "outputs": [],
   "source": [
    "if os.getcwd().split(os.sep)[-1] == \"notebooks\":\n",
    "    os.chdir(\"../\")"
   ]
  },
  {
   "cell_type": "code",
   "execution_count": 324,
   "metadata": {},
   "outputs": [],
   "source": [
    "import dashboard.helper as helper"
   ]
  },
  {
   "cell_type": "code",
   "execution_count": 325,
   "metadata": {},
   "outputs": [],
   "source": [
    "pd.set_option('display.max_columns', None)\n",
    "pd.set_option('display.max_rows', None)"
   ]
  },
  {
   "cell_type": "code",
   "execution_count": 326,
   "metadata": {},
   "outputs": [],
   "source": [
    "FIELD_LENGTH = 105\n",
    "FIELD_WIDTH = 68"
   ]
  },
  {
   "cell_type": "code",
   "execution_count": 327,
   "metadata": {},
   "outputs": [],
   "source": [
    "fname_events = os.path.join(os.getcwd(), \"data//events_germany.parquet\")\n",
    "fname_players = os.path.join(os.getcwd(), \"data//players.parquet\")\n",
    "fname_teams = os.path.join(os.getcwd(), \"data//teams.parquet\")"
   ]
  },
  {
   "cell_type": "code",
   "execution_count": 328,
   "metadata": {},
   "outputs": [],
   "source": [
    "df_events = pd.read_parquet(fname_events)\n"
   ]
  },
  {
   "cell_type": "code",
   "execution_count": 329,
   "metadata": {},
   "outputs": [],
   "source": [
    "df_teams = pd.read_parquet(fname_teams)"
   ]
  },
  {
   "cell_type": "markdown",
   "metadata": {},
   "source": [
    "Add the name, favourite foot and position for each player"
   ]
  },
  {
   "cell_type": "code",
   "execution_count": 330,
   "metadata": {},
   "outputs": [],
   "source": [
    "df_players = pd.read_parquet(fname_players)\n",
    "df_players = df_players[[\"playerId\", \"shortName\", \"foot\", \"role.code2\"]].copy()\n",
    "df_players.rename(columns={\"role.code2\": \"position\"}, inplace=True)\n",
    "df_events = pd.merge(df_events, df_players, how=\"left\")"
   ]
  },
  {
   "cell_type": "code",
   "execution_count": 331,
   "metadata": {},
   "outputs": [
    {
     "data": {
      "text/html": [
       "<div>\n",
       "<style scoped>\n",
       "    .dataframe tbody tr th:only-of-type {\n",
       "        vertical-align: middle;\n",
       "    }\n",
       "\n",
       "    .dataframe tbody tr th {\n",
       "        vertical-align: top;\n",
       "    }\n",
       "\n",
       "    .dataframe thead th {\n",
       "        text-align: right;\n",
       "    }\n",
       "</style>\n",
       "<table border=\"1\" class=\"dataframe\">\n",
       "  <thead>\n",
       "    <tr style=\"text-align: right;\">\n",
       "      <th></th>\n",
       "      <th>eventId</th>\n",
       "      <th>subEventName</th>\n",
       "      <th>playerId</th>\n",
       "      <th>matchId</th>\n",
       "      <th>eventName</th>\n",
       "      <th>teamId</th>\n",
       "      <th>matchPeriod</th>\n",
       "      <th>eventSec</th>\n",
       "      <th>subEventId</th>\n",
       "      <th>id</th>\n",
       "      <th>posBeforeX</th>\n",
       "      <th>posBeforeY</th>\n",
       "      <th>posAfterX</th>\n",
       "      <th>posAfterY</th>\n",
       "      <th>Goal</th>\n",
       "      <th>Own goal</th>\n",
       "      <th>Assist</th>\n",
       "      <th>Key pass</th>\n",
       "      <th>Counter attack</th>\n",
       "      <th>Left foot</th>\n",
       "      <th>Right foot</th>\n",
       "      <th>Head/body</th>\n",
       "      <th>Direct</th>\n",
       "      <th>Indirect</th>\n",
       "      <th>Dangerous ball lost</th>\n",
       "      <th>Blocked</th>\n",
       "      <th>High</th>\n",
       "      <th>Low</th>\n",
       "      <th>Interception</th>\n",
       "      <th>Clearance</th>\n",
       "      <th>Opportunity</th>\n",
       "      <th>Feint</th>\n",
       "      <th>Missed ball</th>\n",
       "      <th>Free space right</th>\n",
       "      <th>Free space left</th>\n",
       "      <th>Take on left</th>\n",
       "      <th>Take on right</th>\n",
       "      <th>Sliding tackle</th>\n",
       "      <th>Anticipated</th>\n",
       "      <th>Anticipation</th>\n",
       "      <th>Red card</th>\n",
       "      <th>Yellow card</th>\n",
       "      <th>Second yellow card</th>\n",
       "      <th>Position: Goal low center</th>\n",
       "      <th>Position: Goal low right</th>\n",
       "      <th>Position: Goal center</th>\n",
       "      <th>Position: Goal center left</th>\n",
       "      <th>Position: Goal low left</th>\n",
       "      <th>Position: Goal center right</th>\n",
       "      <th>Position: Goal high center</th>\n",
       "      <th>Position: Goal high left</th>\n",
       "      <th>Position: Goal high right</th>\n",
       "      <th>Position: Out low right</th>\n",
       "      <th>Position: Out center left</th>\n",
       "      <th>Position: Out low left</th>\n",
       "      <th>Position: Out center right</th>\n",
       "      <th>Position: Out high center</th>\n",
       "      <th>Position: Out high left</th>\n",
       "      <th>Position: Out high right</th>\n",
       "      <th>Position: Post low right</th>\n",
       "      <th>Position: Post center left</th>\n",
       "      <th>Position: Post low left</th>\n",
       "      <th>Position: Post center right</th>\n",
       "      <th>Position: Post high center</th>\n",
       "      <th>Position: Post high left</th>\n",
       "      <th>Position: Post high right</th>\n",
       "      <th>Through</th>\n",
       "      <th>Fairplay</th>\n",
       "      <th>Lost</th>\n",
       "      <th>Neutral</th>\n",
       "      <th>Won</th>\n",
       "      <th>Accurate</th>\n",
       "      <th>Not accurate</th>\n",
       "      <th>shortName</th>\n",
       "      <th>foot</th>\n",
       "      <th>position</th>\n",
       "    </tr>\n",
       "  </thead>\n",
       "  <tbody>\n",
       "    <tr>\n",
       "      <th>0</th>\n",
       "      <td>8</td>\n",
       "      <td>Simple pass</td>\n",
       "      <td>15231</td>\n",
       "      <td>2516739</td>\n",
       "      <td>Pass</td>\n",
       "      <td>2446</td>\n",
       "      <td>1H</td>\n",
       "      <td>2.409746</td>\n",
       "      <td>85.0</td>\n",
       "      <td>179896442</td>\n",
       "      <td>50</td>\n",
       "      <td>50</td>\n",
       "      <td>50.0</td>\n",
       "      <td>48.0</td>\n",
       "      <td>0</td>\n",
       "      <td>0</td>\n",
       "      <td>0</td>\n",
       "      <td>0</td>\n",
       "      <td>0</td>\n",
       "      <td>0</td>\n",
       "      <td>0</td>\n",
       "      <td>0</td>\n",
       "      <td>0</td>\n",
       "      <td>0</td>\n",
       "      <td>0</td>\n",
       "      <td>0</td>\n",
       "      <td>0</td>\n",
       "      <td>0</td>\n",
       "      <td>0</td>\n",
       "      <td>0</td>\n",
       "      <td>0</td>\n",
       "      <td>0</td>\n",
       "      <td>0</td>\n",
       "      <td>0</td>\n",
       "      <td>0</td>\n",
       "      <td>0</td>\n",
       "      <td>0</td>\n",
       "      <td>0</td>\n",
       "      <td>0</td>\n",
       "      <td>0</td>\n",
       "      <td>0</td>\n",
       "      <td>0</td>\n",
       "      <td>0</td>\n",
       "      <td>0</td>\n",
       "      <td>0</td>\n",
       "      <td>0</td>\n",
       "      <td>0</td>\n",
       "      <td>0</td>\n",
       "      <td>0</td>\n",
       "      <td>0</td>\n",
       "      <td>0</td>\n",
       "      <td>0</td>\n",
       "      <td>0</td>\n",
       "      <td>0</td>\n",
       "      <td>0</td>\n",
       "      <td>0</td>\n",
       "      <td>0</td>\n",
       "      <td>0</td>\n",
       "      <td>0</td>\n",
       "      <td>0</td>\n",
       "      <td>0</td>\n",
       "      <td>0</td>\n",
       "      <td>0</td>\n",
       "      <td>0</td>\n",
       "      <td>0</td>\n",
       "      <td>0</td>\n",
       "      <td>0</td>\n",
       "      <td>0</td>\n",
       "      <td>0</td>\n",
       "      <td>0</td>\n",
       "      <td>0</td>\n",
       "      <td>1</td>\n",
       "      <td>0</td>\n",
       "      <td>K. Volland</td>\n",
       "      <td>left</td>\n",
       "      <td>FW</td>\n",
       "    </tr>\n",
       "    <tr>\n",
       "      <th>1</th>\n",
       "      <td>8</td>\n",
       "      <td>Simple pass</td>\n",
       "      <td>14786</td>\n",
       "      <td>2516739</td>\n",
       "      <td>Pass</td>\n",
       "      <td>2446</td>\n",
       "      <td>1H</td>\n",
       "      <td>2.506082</td>\n",
       "      <td>85.0</td>\n",
       "      <td>179896443</td>\n",
       "      <td>50</td>\n",
       "      <td>48</td>\n",
       "      <td>22.0</td>\n",
       "      <td>22.0</td>\n",
       "      <td>0</td>\n",
       "      <td>0</td>\n",
       "      <td>0</td>\n",
       "      <td>0</td>\n",
       "      <td>0</td>\n",
       "      <td>0</td>\n",
       "      <td>0</td>\n",
       "      <td>0</td>\n",
       "      <td>0</td>\n",
       "      <td>0</td>\n",
       "      <td>0</td>\n",
       "      <td>0</td>\n",
       "      <td>0</td>\n",
       "      <td>0</td>\n",
       "      <td>0</td>\n",
       "      <td>0</td>\n",
       "      <td>0</td>\n",
       "      <td>0</td>\n",
       "      <td>0</td>\n",
       "      <td>0</td>\n",
       "      <td>0</td>\n",
       "      <td>0</td>\n",
       "      <td>0</td>\n",
       "      <td>0</td>\n",
       "      <td>0</td>\n",
       "      <td>0</td>\n",
       "      <td>0</td>\n",
       "      <td>0</td>\n",
       "      <td>0</td>\n",
       "      <td>0</td>\n",
       "      <td>0</td>\n",
       "      <td>0</td>\n",
       "      <td>0</td>\n",
       "      <td>0</td>\n",
       "      <td>0</td>\n",
       "      <td>0</td>\n",
       "      <td>0</td>\n",
       "      <td>0</td>\n",
       "      <td>0</td>\n",
       "      <td>0</td>\n",
       "      <td>0</td>\n",
       "      <td>0</td>\n",
       "      <td>0</td>\n",
       "      <td>0</td>\n",
       "      <td>0</td>\n",
       "      <td>0</td>\n",
       "      <td>0</td>\n",
       "      <td>0</td>\n",
       "      <td>0</td>\n",
       "      <td>0</td>\n",
       "      <td>0</td>\n",
       "      <td>0</td>\n",
       "      <td>0</td>\n",
       "      <td>0</td>\n",
       "      <td>0</td>\n",
       "      <td>0</td>\n",
       "      <td>0</td>\n",
       "      <td>1</td>\n",
       "      <td>0</td>\n",
       "      <td>K. Bellarabi</td>\n",
       "      <td>right</td>\n",
       "      <td>MD</td>\n",
       "    </tr>\n",
       "    <tr>\n",
       "      <th>2</th>\n",
       "      <td>8</td>\n",
       "      <td>Simple pass</td>\n",
       "      <td>14803</td>\n",
       "      <td>2516739</td>\n",
       "      <td>Pass</td>\n",
       "      <td>2446</td>\n",
       "      <td>1H</td>\n",
       "      <td>6.946706</td>\n",
       "      <td>85.0</td>\n",
       "      <td>179896444</td>\n",
       "      <td>22</td>\n",
       "      <td>22</td>\n",
       "      <td>6.0</td>\n",
       "      <td>46.0</td>\n",
       "      <td>0</td>\n",
       "      <td>0</td>\n",
       "      <td>0</td>\n",
       "      <td>0</td>\n",
       "      <td>0</td>\n",
       "      <td>0</td>\n",
       "      <td>0</td>\n",
       "      <td>0</td>\n",
       "      <td>0</td>\n",
       "      <td>0</td>\n",
       "      <td>0</td>\n",
       "      <td>0</td>\n",
       "      <td>0</td>\n",
       "      <td>0</td>\n",
       "      <td>0</td>\n",
       "      <td>0</td>\n",
       "      <td>0</td>\n",
       "      <td>0</td>\n",
       "      <td>0</td>\n",
       "      <td>0</td>\n",
       "      <td>0</td>\n",
       "      <td>0</td>\n",
       "      <td>0</td>\n",
       "      <td>0</td>\n",
       "      <td>0</td>\n",
       "      <td>0</td>\n",
       "      <td>0</td>\n",
       "      <td>0</td>\n",
       "      <td>0</td>\n",
       "      <td>0</td>\n",
       "      <td>0</td>\n",
       "      <td>0</td>\n",
       "      <td>0</td>\n",
       "      <td>0</td>\n",
       "      <td>0</td>\n",
       "      <td>0</td>\n",
       "      <td>0</td>\n",
       "      <td>0</td>\n",
       "      <td>0</td>\n",
       "      <td>0</td>\n",
       "      <td>0</td>\n",
       "      <td>0</td>\n",
       "      <td>0</td>\n",
       "      <td>0</td>\n",
       "      <td>0</td>\n",
       "      <td>0</td>\n",
       "      <td>0</td>\n",
       "      <td>0</td>\n",
       "      <td>0</td>\n",
       "      <td>0</td>\n",
       "      <td>0</td>\n",
       "      <td>0</td>\n",
       "      <td>0</td>\n",
       "      <td>0</td>\n",
       "      <td>0</td>\n",
       "      <td>0</td>\n",
       "      <td>0</td>\n",
       "      <td>1</td>\n",
       "      <td>0</td>\n",
       "      <td>S. Bender</td>\n",
       "      <td>right</td>\n",
       "      <td>DF</td>\n",
       "    </tr>\n",
       "    <tr>\n",
       "      <th>3</th>\n",
       "      <td>8</td>\n",
       "      <td>Simple pass</td>\n",
       "      <td>14768</td>\n",
       "      <td>2516739</td>\n",
       "      <td>Pass</td>\n",
       "      <td>2446</td>\n",
       "      <td>1H</td>\n",
       "      <td>10.786491</td>\n",
       "      <td>85.0</td>\n",
       "      <td>179896445</td>\n",
       "      <td>6</td>\n",
       "      <td>46</td>\n",
       "      <td>20.0</td>\n",
       "      <td>10.0</td>\n",
       "      <td>0</td>\n",
       "      <td>0</td>\n",
       "      <td>0</td>\n",
       "      <td>0</td>\n",
       "      <td>0</td>\n",
       "      <td>0</td>\n",
       "      <td>0</td>\n",
       "      <td>0</td>\n",
       "      <td>0</td>\n",
       "      <td>0</td>\n",
       "      <td>0</td>\n",
       "      <td>0</td>\n",
       "      <td>0</td>\n",
       "      <td>0</td>\n",
       "      <td>0</td>\n",
       "      <td>0</td>\n",
       "      <td>0</td>\n",
       "      <td>0</td>\n",
       "      <td>0</td>\n",
       "      <td>0</td>\n",
       "      <td>0</td>\n",
       "      <td>0</td>\n",
       "      <td>0</td>\n",
       "      <td>0</td>\n",
       "      <td>0</td>\n",
       "      <td>0</td>\n",
       "      <td>0</td>\n",
       "      <td>0</td>\n",
       "      <td>0</td>\n",
       "      <td>0</td>\n",
       "      <td>0</td>\n",
       "      <td>0</td>\n",
       "      <td>0</td>\n",
       "      <td>0</td>\n",
       "      <td>0</td>\n",
       "      <td>0</td>\n",
       "      <td>0</td>\n",
       "      <td>0</td>\n",
       "      <td>0</td>\n",
       "      <td>0</td>\n",
       "      <td>0</td>\n",
       "      <td>0</td>\n",
       "      <td>0</td>\n",
       "      <td>0</td>\n",
       "      <td>0</td>\n",
       "      <td>0</td>\n",
       "      <td>0</td>\n",
       "      <td>0</td>\n",
       "      <td>0</td>\n",
       "      <td>0</td>\n",
       "      <td>0</td>\n",
       "      <td>0</td>\n",
       "      <td>0</td>\n",
       "      <td>0</td>\n",
       "      <td>0</td>\n",
       "      <td>0</td>\n",
       "      <td>0</td>\n",
       "      <td>1</td>\n",
       "      <td>0</td>\n",
       "      <td>B. Leno</td>\n",
       "      <td>right</td>\n",
       "      <td>GK</td>\n",
       "    </tr>\n",
       "    <tr>\n",
       "      <th>4</th>\n",
       "      <td>8</td>\n",
       "      <td>Simple pass</td>\n",
       "      <td>14803</td>\n",
       "      <td>2516739</td>\n",
       "      <td>Pass</td>\n",
       "      <td>2446</td>\n",
       "      <td>1H</td>\n",
       "      <td>12.684514</td>\n",
       "      <td>85.0</td>\n",
       "      <td>179896446</td>\n",
       "      <td>20</td>\n",
       "      <td>10</td>\n",
       "      <td>27.0</td>\n",
       "      <td>4.0</td>\n",
       "      <td>0</td>\n",
       "      <td>0</td>\n",
       "      <td>0</td>\n",
       "      <td>0</td>\n",
       "      <td>0</td>\n",
       "      <td>0</td>\n",
       "      <td>0</td>\n",
       "      <td>0</td>\n",
       "      <td>0</td>\n",
       "      <td>0</td>\n",
       "      <td>0</td>\n",
       "      <td>0</td>\n",
       "      <td>0</td>\n",
       "      <td>0</td>\n",
       "      <td>0</td>\n",
       "      <td>0</td>\n",
       "      <td>0</td>\n",
       "      <td>0</td>\n",
       "      <td>0</td>\n",
       "      <td>0</td>\n",
       "      <td>0</td>\n",
       "      <td>0</td>\n",
       "      <td>0</td>\n",
       "      <td>0</td>\n",
       "      <td>0</td>\n",
       "      <td>0</td>\n",
       "      <td>0</td>\n",
       "      <td>0</td>\n",
       "      <td>0</td>\n",
       "      <td>0</td>\n",
       "      <td>0</td>\n",
       "      <td>0</td>\n",
       "      <td>0</td>\n",
       "      <td>0</td>\n",
       "      <td>0</td>\n",
       "      <td>0</td>\n",
       "      <td>0</td>\n",
       "      <td>0</td>\n",
       "      <td>0</td>\n",
       "      <td>0</td>\n",
       "      <td>0</td>\n",
       "      <td>0</td>\n",
       "      <td>0</td>\n",
       "      <td>0</td>\n",
       "      <td>0</td>\n",
       "      <td>0</td>\n",
       "      <td>0</td>\n",
       "      <td>0</td>\n",
       "      <td>0</td>\n",
       "      <td>0</td>\n",
       "      <td>0</td>\n",
       "      <td>0</td>\n",
       "      <td>0</td>\n",
       "      <td>0</td>\n",
       "      <td>0</td>\n",
       "      <td>0</td>\n",
       "      <td>0</td>\n",
       "      <td>1</td>\n",
       "      <td>0</td>\n",
       "      <td>S. Bender</td>\n",
       "      <td>right</td>\n",
       "      <td>DF</td>\n",
       "    </tr>\n",
       "  </tbody>\n",
       "</table>\n",
       "</div>"
      ],
      "text/plain": [
       "   eventId subEventName  playerId  matchId eventName  teamId matchPeriod  \\\n",
       "0        8  Simple pass     15231  2516739      Pass    2446          1H   \n",
       "1        8  Simple pass     14786  2516739      Pass    2446          1H   \n",
       "2        8  Simple pass     14803  2516739      Pass    2446          1H   \n",
       "3        8  Simple pass     14768  2516739      Pass    2446          1H   \n",
       "4        8  Simple pass     14803  2516739      Pass    2446          1H   \n",
       "\n",
       "    eventSec  subEventId         id  posBeforeX  posBeforeY  posAfterX  \\\n",
       "0   2.409746        85.0  179896442          50          50       50.0   \n",
       "1   2.506082        85.0  179896443          50          48       22.0   \n",
       "2   6.946706        85.0  179896444          22          22        6.0   \n",
       "3  10.786491        85.0  179896445           6          46       20.0   \n",
       "4  12.684514        85.0  179896446          20          10       27.0   \n",
       "\n",
       "   posAfterY  Goal  Own goal  Assist  Key pass  Counter attack  Left foot  \\\n",
       "0       48.0     0         0       0         0               0          0   \n",
       "1       22.0     0         0       0         0               0          0   \n",
       "2       46.0     0         0       0         0               0          0   \n",
       "3       10.0     0         0       0         0               0          0   \n",
       "4        4.0     0         0       0         0               0          0   \n",
       "\n",
       "   Right foot  Head/body  Direct  Indirect  Dangerous ball lost  Blocked  \\\n",
       "0           0          0       0         0                    0        0   \n",
       "1           0          0       0         0                    0        0   \n",
       "2           0          0       0         0                    0        0   \n",
       "3           0          0       0         0                    0        0   \n",
       "4           0          0       0         0                    0        0   \n",
       "\n",
       "   High  Low  Interception  Clearance  Opportunity  Feint  Missed ball  \\\n",
       "0     0    0             0          0            0      0            0   \n",
       "1     0    0             0          0            0      0            0   \n",
       "2     0    0             0          0            0      0            0   \n",
       "3     0    0             0          0            0      0            0   \n",
       "4     0    0             0          0            0      0            0   \n",
       "\n",
       "   Free space right  Free space left  Take on left  Take on right  \\\n",
       "0                 0                0             0              0   \n",
       "1                 0                0             0              0   \n",
       "2                 0                0             0              0   \n",
       "3                 0                0             0              0   \n",
       "4                 0                0             0              0   \n",
       "\n",
       "   Sliding tackle  Anticipated  Anticipation  Red card  Yellow card  \\\n",
       "0               0            0             0         0            0   \n",
       "1               0            0             0         0            0   \n",
       "2               0            0             0         0            0   \n",
       "3               0            0             0         0            0   \n",
       "4               0            0             0         0            0   \n",
       "\n",
       "   Second yellow card  Position: Goal low center  Position: Goal low right  \\\n",
       "0                   0                          0                         0   \n",
       "1                   0                          0                         0   \n",
       "2                   0                          0                         0   \n",
       "3                   0                          0                         0   \n",
       "4                   0                          0                         0   \n",
       "\n",
       "   Position: Goal center  Position: Goal center left  Position: Goal low left  \\\n",
       "0                      0                           0                        0   \n",
       "1                      0                           0                        0   \n",
       "2                      0                           0                        0   \n",
       "3                      0                           0                        0   \n",
       "4                      0                           0                        0   \n",
       "\n",
       "   Position: Goal center right  Position: Goal high center  \\\n",
       "0                            0                           0   \n",
       "1                            0                           0   \n",
       "2                            0                           0   \n",
       "3                            0                           0   \n",
       "4                            0                           0   \n",
       "\n",
       "   Position: Goal high left  Position: Goal high right  \\\n",
       "0                         0                          0   \n",
       "1                         0                          0   \n",
       "2                         0                          0   \n",
       "3                         0                          0   \n",
       "4                         0                          0   \n",
       "\n",
       "   Position: Out low right  Position: Out center left  Position: Out low left  \\\n",
       "0                        0                          0                       0   \n",
       "1                        0                          0                       0   \n",
       "2                        0                          0                       0   \n",
       "3                        0                          0                       0   \n",
       "4                        0                          0                       0   \n",
       "\n",
       "   Position: Out center right  Position: Out high center  \\\n",
       "0                           0                          0   \n",
       "1                           0                          0   \n",
       "2                           0                          0   \n",
       "3                           0                          0   \n",
       "4                           0                          0   \n",
       "\n",
       "   Position: Out high left  Position: Out high right  \\\n",
       "0                        0                         0   \n",
       "1                        0                         0   \n",
       "2                        0                         0   \n",
       "3                        0                         0   \n",
       "4                        0                         0   \n",
       "\n",
       "   Position: Post low right  Position: Post center left  \\\n",
       "0                         0                           0   \n",
       "1                         0                           0   \n",
       "2                         0                           0   \n",
       "3                         0                           0   \n",
       "4                         0                           0   \n",
       "\n",
       "   Position: Post low left  Position: Post center right  \\\n",
       "0                        0                            0   \n",
       "1                        0                            0   \n",
       "2                        0                            0   \n",
       "3                        0                            0   \n",
       "4                        0                            0   \n",
       "\n",
       "   Position: Post high center  Position: Post high left  \\\n",
       "0                           0                         0   \n",
       "1                           0                         0   \n",
       "2                           0                         0   \n",
       "3                           0                         0   \n",
       "4                           0                         0   \n",
       "\n",
       "   Position: Post high right  Through  Fairplay  Lost  Neutral  Won  Accurate  \\\n",
       "0                          0        0         0     0        0    0         1   \n",
       "1                          0        0         0     0        0    0         1   \n",
       "2                          0        0         0     0        0    0         1   \n",
       "3                          0        0         0     0        0    0         1   \n",
       "4                          0        0         0     0        0    0         1   \n",
       "\n",
       "   Not accurate     shortName   foot position  \n",
       "0             0    K. Volland   left       FW  \n",
       "1             0  K. Bellarabi  right       MD  \n",
       "2             0     S. Bender  right       DF  \n",
       "3             0       B. Leno  right       GK  \n",
       "4             0     S. Bender  right       DF  "
      ]
     },
     "execution_count": 331,
     "metadata": {},
     "output_type": "execute_result"
    }
   ],
   "source": [
    "df_events.head()"
   ]
  },
  {
   "cell_type": "code",
   "execution_count": 332,
   "metadata": {},
   "outputs": [],
   "source": [
    "df_teams_per_match = df_events.groupby(\"matchId\").agg(team1Id = (\"teamId\",\"min\"), team2Id= (\"teamId\",\"max\")).reset_index()\n",
    "df_events = pd.merge(df_events, df_teams_per_match, how=\"left\")"
   ]
  },
  {
   "cell_type": "code",
   "execution_count": 333,
   "metadata": {},
   "outputs": [
    {
     "data": {
      "text/html": [
       "<div>\n",
       "<style scoped>\n",
       "    .dataframe tbody tr th:only-of-type {\n",
       "        vertical-align: middle;\n",
       "    }\n",
       "\n",
       "    .dataframe tbody tr th {\n",
       "        vertical-align: top;\n",
       "    }\n",
       "\n",
       "    .dataframe thead th {\n",
       "        text-align: right;\n",
       "    }\n",
       "</style>\n",
       "<table border=\"1\" class=\"dataframe\">\n",
       "  <thead>\n",
       "    <tr style=\"text-align: right;\">\n",
       "      <th></th>\n",
       "      <th>eventId</th>\n",
       "      <th>subEventName</th>\n",
       "      <th>playerId</th>\n",
       "      <th>matchId</th>\n",
       "      <th>eventName</th>\n",
       "      <th>teamId</th>\n",
       "      <th>matchPeriod</th>\n",
       "      <th>eventSec</th>\n",
       "      <th>subEventId</th>\n",
       "      <th>id</th>\n",
       "      <th>posBeforeX</th>\n",
       "      <th>posBeforeY</th>\n",
       "      <th>posAfterX</th>\n",
       "      <th>posAfterY</th>\n",
       "      <th>Goal</th>\n",
       "      <th>Own goal</th>\n",
       "      <th>Assist</th>\n",
       "      <th>Key pass</th>\n",
       "      <th>Counter attack</th>\n",
       "      <th>Left foot</th>\n",
       "      <th>Right foot</th>\n",
       "      <th>Head/body</th>\n",
       "      <th>Direct</th>\n",
       "      <th>Indirect</th>\n",
       "      <th>Dangerous ball lost</th>\n",
       "      <th>Blocked</th>\n",
       "      <th>High</th>\n",
       "      <th>Low</th>\n",
       "      <th>Interception</th>\n",
       "      <th>Clearance</th>\n",
       "      <th>Opportunity</th>\n",
       "      <th>Feint</th>\n",
       "      <th>Missed ball</th>\n",
       "      <th>Free space right</th>\n",
       "      <th>Free space left</th>\n",
       "      <th>Take on left</th>\n",
       "      <th>Take on right</th>\n",
       "      <th>Sliding tackle</th>\n",
       "      <th>Anticipated</th>\n",
       "      <th>Anticipation</th>\n",
       "      <th>Red card</th>\n",
       "      <th>Yellow card</th>\n",
       "      <th>Second yellow card</th>\n",
       "      <th>Position: Goal low center</th>\n",
       "      <th>Position: Goal low right</th>\n",
       "      <th>Position: Goal center</th>\n",
       "      <th>Position: Goal center left</th>\n",
       "      <th>Position: Goal low left</th>\n",
       "      <th>Position: Goal center right</th>\n",
       "      <th>Position: Goal high center</th>\n",
       "      <th>Position: Goal high left</th>\n",
       "      <th>Position: Goal high right</th>\n",
       "      <th>Position: Out low right</th>\n",
       "      <th>Position: Out center left</th>\n",
       "      <th>Position: Out low left</th>\n",
       "      <th>Position: Out center right</th>\n",
       "      <th>Position: Out high center</th>\n",
       "      <th>Position: Out high left</th>\n",
       "      <th>Position: Out high right</th>\n",
       "      <th>Position: Post low right</th>\n",
       "      <th>Position: Post center left</th>\n",
       "      <th>Position: Post low left</th>\n",
       "      <th>Position: Post center right</th>\n",
       "      <th>Position: Post high center</th>\n",
       "      <th>Position: Post high left</th>\n",
       "      <th>Position: Post high right</th>\n",
       "      <th>Through</th>\n",
       "      <th>Fairplay</th>\n",
       "      <th>Lost</th>\n",
       "      <th>Neutral</th>\n",
       "      <th>Won</th>\n",
       "      <th>Accurate</th>\n",
       "      <th>Not accurate</th>\n",
       "      <th>shortName</th>\n",
       "      <th>foot</th>\n",
       "      <th>position</th>\n",
       "      <th>team1Id</th>\n",
       "      <th>team2Id</th>\n",
       "    </tr>\n",
       "  </thead>\n",
       "  <tbody>\n",
       "    <tr>\n",
       "      <th>0</th>\n",
       "      <td>8</td>\n",
       "      <td>Simple pass</td>\n",
       "      <td>15231</td>\n",
       "      <td>2516739</td>\n",
       "      <td>Pass</td>\n",
       "      <td>2446</td>\n",
       "      <td>1H</td>\n",
       "      <td>2.409746</td>\n",
       "      <td>85.0</td>\n",
       "      <td>179896442</td>\n",
       "      <td>50</td>\n",
       "      <td>50</td>\n",
       "      <td>50.0</td>\n",
       "      <td>48.0</td>\n",
       "      <td>0</td>\n",
       "      <td>0</td>\n",
       "      <td>0</td>\n",
       "      <td>0</td>\n",
       "      <td>0</td>\n",
       "      <td>0</td>\n",
       "      <td>0</td>\n",
       "      <td>0</td>\n",
       "      <td>0</td>\n",
       "      <td>0</td>\n",
       "      <td>0</td>\n",
       "      <td>0</td>\n",
       "      <td>0</td>\n",
       "      <td>0</td>\n",
       "      <td>0</td>\n",
       "      <td>0</td>\n",
       "      <td>0</td>\n",
       "      <td>0</td>\n",
       "      <td>0</td>\n",
       "      <td>0</td>\n",
       "      <td>0</td>\n",
       "      <td>0</td>\n",
       "      <td>0</td>\n",
       "      <td>0</td>\n",
       "      <td>0</td>\n",
       "      <td>0</td>\n",
       "      <td>0</td>\n",
       "      <td>0</td>\n",
       "      <td>0</td>\n",
       "      <td>0</td>\n",
       "      <td>0</td>\n",
       "      <td>0</td>\n",
       "      <td>0</td>\n",
       "      <td>0</td>\n",
       "      <td>0</td>\n",
       "      <td>0</td>\n",
       "      <td>0</td>\n",
       "      <td>0</td>\n",
       "      <td>0</td>\n",
       "      <td>0</td>\n",
       "      <td>0</td>\n",
       "      <td>0</td>\n",
       "      <td>0</td>\n",
       "      <td>0</td>\n",
       "      <td>0</td>\n",
       "      <td>0</td>\n",
       "      <td>0</td>\n",
       "      <td>0</td>\n",
       "      <td>0</td>\n",
       "      <td>0</td>\n",
       "      <td>0</td>\n",
       "      <td>0</td>\n",
       "      <td>0</td>\n",
       "      <td>0</td>\n",
       "      <td>0</td>\n",
       "      <td>0</td>\n",
       "      <td>0</td>\n",
       "      <td>1</td>\n",
       "      <td>0</td>\n",
       "      <td>K. Volland</td>\n",
       "      <td>left</td>\n",
       "      <td>FW</td>\n",
       "      <td>2444</td>\n",
       "      <td>2446</td>\n",
       "    </tr>\n",
       "    <tr>\n",
       "      <th>1</th>\n",
       "      <td>8</td>\n",
       "      <td>Simple pass</td>\n",
       "      <td>14786</td>\n",
       "      <td>2516739</td>\n",
       "      <td>Pass</td>\n",
       "      <td>2446</td>\n",
       "      <td>1H</td>\n",
       "      <td>2.506082</td>\n",
       "      <td>85.0</td>\n",
       "      <td>179896443</td>\n",
       "      <td>50</td>\n",
       "      <td>48</td>\n",
       "      <td>22.0</td>\n",
       "      <td>22.0</td>\n",
       "      <td>0</td>\n",
       "      <td>0</td>\n",
       "      <td>0</td>\n",
       "      <td>0</td>\n",
       "      <td>0</td>\n",
       "      <td>0</td>\n",
       "      <td>0</td>\n",
       "      <td>0</td>\n",
       "      <td>0</td>\n",
       "      <td>0</td>\n",
       "      <td>0</td>\n",
       "      <td>0</td>\n",
       "      <td>0</td>\n",
       "      <td>0</td>\n",
       "      <td>0</td>\n",
       "      <td>0</td>\n",
       "      <td>0</td>\n",
       "      <td>0</td>\n",
       "      <td>0</td>\n",
       "      <td>0</td>\n",
       "      <td>0</td>\n",
       "      <td>0</td>\n",
       "      <td>0</td>\n",
       "      <td>0</td>\n",
       "      <td>0</td>\n",
       "      <td>0</td>\n",
       "      <td>0</td>\n",
       "      <td>0</td>\n",
       "      <td>0</td>\n",
       "      <td>0</td>\n",
       "      <td>0</td>\n",
       "      <td>0</td>\n",
       "      <td>0</td>\n",
       "      <td>0</td>\n",
       "      <td>0</td>\n",
       "      <td>0</td>\n",
       "      <td>0</td>\n",
       "      <td>0</td>\n",
       "      <td>0</td>\n",
       "      <td>0</td>\n",
       "      <td>0</td>\n",
       "      <td>0</td>\n",
       "      <td>0</td>\n",
       "      <td>0</td>\n",
       "      <td>0</td>\n",
       "      <td>0</td>\n",
       "      <td>0</td>\n",
       "      <td>0</td>\n",
       "      <td>0</td>\n",
       "      <td>0</td>\n",
       "      <td>0</td>\n",
       "      <td>0</td>\n",
       "      <td>0</td>\n",
       "      <td>0</td>\n",
       "      <td>0</td>\n",
       "      <td>0</td>\n",
       "      <td>0</td>\n",
       "      <td>1</td>\n",
       "      <td>0</td>\n",
       "      <td>K. Bellarabi</td>\n",
       "      <td>right</td>\n",
       "      <td>MD</td>\n",
       "      <td>2444</td>\n",
       "      <td>2446</td>\n",
       "    </tr>\n",
       "    <tr>\n",
       "      <th>2</th>\n",
       "      <td>8</td>\n",
       "      <td>Simple pass</td>\n",
       "      <td>14803</td>\n",
       "      <td>2516739</td>\n",
       "      <td>Pass</td>\n",
       "      <td>2446</td>\n",
       "      <td>1H</td>\n",
       "      <td>6.946706</td>\n",
       "      <td>85.0</td>\n",
       "      <td>179896444</td>\n",
       "      <td>22</td>\n",
       "      <td>22</td>\n",
       "      <td>6.0</td>\n",
       "      <td>46.0</td>\n",
       "      <td>0</td>\n",
       "      <td>0</td>\n",
       "      <td>0</td>\n",
       "      <td>0</td>\n",
       "      <td>0</td>\n",
       "      <td>0</td>\n",
       "      <td>0</td>\n",
       "      <td>0</td>\n",
       "      <td>0</td>\n",
       "      <td>0</td>\n",
       "      <td>0</td>\n",
       "      <td>0</td>\n",
       "      <td>0</td>\n",
       "      <td>0</td>\n",
       "      <td>0</td>\n",
       "      <td>0</td>\n",
       "      <td>0</td>\n",
       "      <td>0</td>\n",
       "      <td>0</td>\n",
       "      <td>0</td>\n",
       "      <td>0</td>\n",
       "      <td>0</td>\n",
       "      <td>0</td>\n",
       "      <td>0</td>\n",
       "      <td>0</td>\n",
       "      <td>0</td>\n",
       "      <td>0</td>\n",
       "      <td>0</td>\n",
       "      <td>0</td>\n",
       "      <td>0</td>\n",
       "      <td>0</td>\n",
       "      <td>0</td>\n",
       "      <td>0</td>\n",
       "      <td>0</td>\n",
       "      <td>0</td>\n",
       "      <td>0</td>\n",
       "      <td>0</td>\n",
       "      <td>0</td>\n",
       "      <td>0</td>\n",
       "      <td>0</td>\n",
       "      <td>0</td>\n",
       "      <td>0</td>\n",
       "      <td>0</td>\n",
       "      <td>0</td>\n",
       "      <td>0</td>\n",
       "      <td>0</td>\n",
       "      <td>0</td>\n",
       "      <td>0</td>\n",
       "      <td>0</td>\n",
       "      <td>0</td>\n",
       "      <td>0</td>\n",
       "      <td>0</td>\n",
       "      <td>0</td>\n",
       "      <td>0</td>\n",
       "      <td>0</td>\n",
       "      <td>0</td>\n",
       "      <td>0</td>\n",
       "      <td>1</td>\n",
       "      <td>0</td>\n",
       "      <td>S. Bender</td>\n",
       "      <td>right</td>\n",
       "      <td>DF</td>\n",
       "      <td>2444</td>\n",
       "      <td>2446</td>\n",
       "    </tr>\n",
       "    <tr>\n",
       "      <th>3</th>\n",
       "      <td>8</td>\n",
       "      <td>Simple pass</td>\n",
       "      <td>14768</td>\n",
       "      <td>2516739</td>\n",
       "      <td>Pass</td>\n",
       "      <td>2446</td>\n",
       "      <td>1H</td>\n",
       "      <td>10.786491</td>\n",
       "      <td>85.0</td>\n",
       "      <td>179896445</td>\n",
       "      <td>6</td>\n",
       "      <td>46</td>\n",
       "      <td>20.0</td>\n",
       "      <td>10.0</td>\n",
       "      <td>0</td>\n",
       "      <td>0</td>\n",
       "      <td>0</td>\n",
       "      <td>0</td>\n",
       "      <td>0</td>\n",
       "      <td>0</td>\n",
       "      <td>0</td>\n",
       "      <td>0</td>\n",
       "      <td>0</td>\n",
       "      <td>0</td>\n",
       "      <td>0</td>\n",
       "      <td>0</td>\n",
       "      <td>0</td>\n",
       "      <td>0</td>\n",
       "      <td>0</td>\n",
       "      <td>0</td>\n",
       "      <td>0</td>\n",
       "      <td>0</td>\n",
       "      <td>0</td>\n",
       "      <td>0</td>\n",
       "      <td>0</td>\n",
       "      <td>0</td>\n",
       "      <td>0</td>\n",
       "      <td>0</td>\n",
       "      <td>0</td>\n",
       "      <td>0</td>\n",
       "      <td>0</td>\n",
       "      <td>0</td>\n",
       "      <td>0</td>\n",
       "      <td>0</td>\n",
       "      <td>0</td>\n",
       "      <td>0</td>\n",
       "      <td>0</td>\n",
       "      <td>0</td>\n",
       "      <td>0</td>\n",
       "      <td>0</td>\n",
       "      <td>0</td>\n",
       "      <td>0</td>\n",
       "      <td>0</td>\n",
       "      <td>0</td>\n",
       "      <td>0</td>\n",
       "      <td>0</td>\n",
       "      <td>0</td>\n",
       "      <td>0</td>\n",
       "      <td>0</td>\n",
       "      <td>0</td>\n",
       "      <td>0</td>\n",
       "      <td>0</td>\n",
       "      <td>0</td>\n",
       "      <td>0</td>\n",
       "      <td>0</td>\n",
       "      <td>0</td>\n",
       "      <td>0</td>\n",
       "      <td>0</td>\n",
       "      <td>0</td>\n",
       "      <td>0</td>\n",
       "      <td>0</td>\n",
       "      <td>1</td>\n",
       "      <td>0</td>\n",
       "      <td>B. Leno</td>\n",
       "      <td>right</td>\n",
       "      <td>GK</td>\n",
       "      <td>2444</td>\n",
       "      <td>2446</td>\n",
       "    </tr>\n",
       "    <tr>\n",
       "      <th>4</th>\n",
       "      <td>8</td>\n",
       "      <td>Simple pass</td>\n",
       "      <td>14803</td>\n",
       "      <td>2516739</td>\n",
       "      <td>Pass</td>\n",
       "      <td>2446</td>\n",
       "      <td>1H</td>\n",
       "      <td>12.684514</td>\n",
       "      <td>85.0</td>\n",
       "      <td>179896446</td>\n",
       "      <td>20</td>\n",
       "      <td>10</td>\n",
       "      <td>27.0</td>\n",
       "      <td>4.0</td>\n",
       "      <td>0</td>\n",
       "      <td>0</td>\n",
       "      <td>0</td>\n",
       "      <td>0</td>\n",
       "      <td>0</td>\n",
       "      <td>0</td>\n",
       "      <td>0</td>\n",
       "      <td>0</td>\n",
       "      <td>0</td>\n",
       "      <td>0</td>\n",
       "      <td>0</td>\n",
       "      <td>0</td>\n",
       "      <td>0</td>\n",
       "      <td>0</td>\n",
       "      <td>0</td>\n",
       "      <td>0</td>\n",
       "      <td>0</td>\n",
       "      <td>0</td>\n",
       "      <td>0</td>\n",
       "      <td>0</td>\n",
       "      <td>0</td>\n",
       "      <td>0</td>\n",
       "      <td>0</td>\n",
       "      <td>0</td>\n",
       "      <td>0</td>\n",
       "      <td>0</td>\n",
       "      <td>0</td>\n",
       "      <td>0</td>\n",
       "      <td>0</td>\n",
       "      <td>0</td>\n",
       "      <td>0</td>\n",
       "      <td>0</td>\n",
       "      <td>0</td>\n",
       "      <td>0</td>\n",
       "      <td>0</td>\n",
       "      <td>0</td>\n",
       "      <td>0</td>\n",
       "      <td>0</td>\n",
       "      <td>0</td>\n",
       "      <td>0</td>\n",
       "      <td>0</td>\n",
       "      <td>0</td>\n",
       "      <td>0</td>\n",
       "      <td>0</td>\n",
       "      <td>0</td>\n",
       "      <td>0</td>\n",
       "      <td>0</td>\n",
       "      <td>0</td>\n",
       "      <td>0</td>\n",
       "      <td>0</td>\n",
       "      <td>0</td>\n",
       "      <td>0</td>\n",
       "      <td>0</td>\n",
       "      <td>0</td>\n",
       "      <td>0</td>\n",
       "      <td>0</td>\n",
       "      <td>0</td>\n",
       "      <td>1</td>\n",
       "      <td>0</td>\n",
       "      <td>S. Bender</td>\n",
       "      <td>right</td>\n",
       "      <td>DF</td>\n",
       "      <td>2444</td>\n",
       "      <td>2446</td>\n",
       "    </tr>\n",
       "  </tbody>\n",
       "</table>\n",
       "</div>"
      ],
      "text/plain": [
       "   eventId subEventName  playerId  matchId eventName  teamId matchPeriod  \\\n",
       "0        8  Simple pass     15231  2516739      Pass    2446          1H   \n",
       "1        8  Simple pass     14786  2516739      Pass    2446          1H   \n",
       "2        8  Simple pass     14803  2516739      Pass    2446          1H   \n",
       "3        8  Simple pass     14768  2516739      Pass    2446          1H   \n",
       "4        8  Simple pass     14803  2516739      Pass    2446          1H   \n",
       "\n",
       "    eventSec  subEventId         id  posBeforeX  posBeforeY  posAfterX  \\\n",
       "0   2.409746        85.0  179896442          50          50       50.0   \n",
       "1   2.506082        85.0  179896443          50          48       22.0   \n",
       "2   6.946706        85.0  179896444          22          22        6.0   \n",
       "3  10.786491        85.0  179896445           6          46       20.0   \n",
       "4  12.684514        85.0  179896446          20          10       27.0   \n",
       "\n",
       "   posAfterY  Goal  Own goal  Assist  Key pass  Counter attack  Left foot  \\\n",
       "0       48.0     0         0       0         0               0          0   \n",
       "1       22.0     0         0       0         0               0          0   \n",
       "2       46.0     0         0       0         0               0          0   \n",
       "3       10.0     0         0       0         0               0          0   \n",
       "4        4.0     0         0       0         0               0          0   \n",
       "\n",
       "   Right foot  Head/body  Direct  Indirect  Dangerous ball lost  Blocked  \\\n",
       "0           0          0       0         0                    0        0   \n",
       "1           0          0       0         0                    0        0   \n",
       "2           0          0       0         0                    0        0   \n",
       "3           0          0       0         0                    0        0   \n",
       "4           0          0       0         0                    0        0   \n",
       "\n",
       "   High  Low  Interception  Clearance  Opportunity  Feint  Missed ball  \\\n",
       "0     0    0             0          0            0      0            0   \n",
       "1     0    0             0          0            0      0            0   \n",
       "2     0    0             0          0            0      0            0   \n",
       "3     0    0             0          0            0      0            0   \n",
       "4     0    0             0          0            0      0            0   \n",
       "\n",
       "   Free space right  Free space left  Take on left  Take on right  \\\n",
       "0                 0                0             0              0   \n",
       "1                 0                0             0              0   \n",
       "2                 0                0             0              0   \n",
       "3                 0                0             0              0   \n",
       "4                 0                0             0              0   \n",
       "\n",
       "   Sliding tackle  Anticipated  Anticipation  Red card  Yellow card  \\\n",
       "0               0            0             0         0            0   \n",
       "1               0            0             0         0            0   \n",
       "2               0            0             0         0            0   \n",
       "3               0            0             0         0            0   \n",
       "4               0            0             0         0            0   \n",
       "\n",
       "   Second yellow card  Position: Goal low center  Position: Goal low right  \\\n",
       "0                   0                          0                         0   \n",
       "1                   0                          0                         0   \n",
       "2                   0                          0                         0   \n",
       "3                   0                          0                         0   \n",
       "4                   0                          0                         0   \n",
       "\n",
       "   Position: Goal center  Position: Goal center left  Position: Goal low left  \\\n",
       "0                      0                           0                        0   \n",
       "1                      0                           0                        0   \n",
       "2                      0                           0                        0   \n",
       "3                      0                           0                        0   \n",
       "4                      0                           0                        0   \n",
       "\n",
       "   Position: Goal center right  Position: Goal high center  \\\n",
       "0                            0                           0   \n",
       "1                            0                           0   \n",
       "2                            0                           0   \n",
       "3                            0                           0   \n",
       "4                            0                           0   \n",
       "\n",
       "   Position: Goal high left  Position: Goal high right  \\\n",
       "0                         0                          0   \n",
       "1                         0                          0   \n",
       "2                         0                          0   \n",
       "3                         0                          0   \n",
       "4                         0                          0   \n",
       "\n",
       "   Position: Out low right  Position: Out center left  Position: Out low left  \\\n",
       "0                        0                          0                       0   \n",
       "1                        0                          0                       0   \n",
       "2                        0                          0                       0   \n",
       "3                        0                          0                       0   \n",
       "4                        0                          0                       0   \n",
       "\n",
       "   Position: Out center right  Position: Out high center  \\\n",
       "0                           0                          0   \n",
       "1                           0                          0   \n",
       "2                           0                          0   \n",
       "3                           0                          0   \n",
       "4                           0                          0   \n",
       "\n",
       "   Position: Out high left  Position: Out high right  \\\n",
       "0                        0                         0   \n",
       "1                        0                         0   \n",
       "2                        0                         0   \n",
       "3                        0                         0   \n",
       "4                        0                         0   \n",
       "\n",
       "   Position: Post low right  Position: Post center left  \\\n",
       "0                         0                           0   \n",
       "1                         0                           0   \n",
       "2                         0                           0   \n",
       "3                         0                           0   \n",
       "4                         0                           0   \n",
       "\n",
       "   Position: Post low left  Position: Post center right  \\\n",
       "0                        0                            0   \n",
       "1                        0                            0   \n",
       "2                        0                            0   \n",
       "3                        0                            0   \n",
       "4                        0                            0   \n",
       "\n",
       "   Position: Post high center  Position: Post high left  \\\n",
       "0                           0                         0   \n",
       "1                           0                         0   \n",
       "2                           0                         0   \n",
       "3                           0                         0   \n",
       "4                           0                         0   \n",
       "\n",
       "   Position: Post high right  Through  Fairplay  Lost  Neutral  Won  Accurate  \\\n",
       "0                          0        0         0     0        0    0         1   \n",
       "1                          0        0         0     0        0    0         1   \n",
       "2                          0        0         0     0        0    0         1   \n",
       "3                          0        0         0     0        0    0         1   \n",
       "4                          0        0         0     0        0    0         1   \n",
       "\n",
       "   Not accurate     shortName   foot position  team1Id  team2Id  \n",
       "0             0    K. Volland   left       FW     2444     2446  \n",
       "1             0  K. Bellarabi  right       MD     2444     2446  \n",
       "2             0     S. Bender  right       DF     2444     2446  \n",
       "3             0       B. Leno  right       GK     2444     2446  \n",
       "4             0     S. Bender  right       DF     2444     2446  "
      ]
     },
     "execution_count": 333,
     "metadata": {},
     "output_type": "execute_result"
    }
   ],
   "source": [
    "df_events.head()"
   ]
  },
  {
   "cell_type": "markdown",
   "metadata": {},
   "source": [
    "Add the team that is in the possession of the ball for each event"
   ]
  },
  {
   "cell_type": "code",
   "execution_count": 334,
   "metadata": {},
   "outputs": [],
   "source": [
    "def compute_possession(row):\n",
    "    if row[\"eventName\"] in [\"Pass\", \"Free Kick\", \"Others on the ball\", \"Shot\", \"Save attempt\", \"Goalkeeper leaving line\"]:\n",
    "        return row[\"teamId\"]\n",
    "    elif row[\"eventName\"] == \"Duel\" and row[\"Accurate\"] == 1:\n",
    "        return row[\"teamId\"]\n",
    "    elif row[\"eventName\"] == \"Duel\" and row[\"Accurate\"] == 0: \n",
    "        if row[\"teamId\"] == row[\"team1Id\"]:\n",
    "            return row[\"team2Id\"]\n",
    "        else: \n",
    "            return row[\"team1Id\"]\n",
    "    elif row[\"eventName\"] in [\"Foul\", \"Interruption\", \"Offside\"]:\n",
    "        return 0\n",
    "    else:\n",
    "        np.nan"
   ]
  },
  {
   "cell_type": "code",
   "execution_count": 335,
   "metadata": {},
   "outputs": [],
   "source": [
    "df_events[\"teamPossession\"] = df_events.apply(lambda row: compute_possession(row), axis=1)"
   ]
  },
  {
   "cell_type": "markdown",
   "metadata": {},
   "source": [
    "Add position in meters"
   ]
  },
  {
   "cell_type": "code",
   "execution_count": 336,
   "metadata": {},
   "outputs": [],
   "source": [
    "def add_position_in_meters(df, cols_length, cols_width, field_length, field_width):\n",
    "    for col in cols_length:\n",
    "        df[col+\"Meters\"] = np.where(df[col].notnull(), df[col]*field_length / 100, np.nan)\n",
    "    for col in cols_width:\n",
    "        df[col+\"Meters\"] = np.where(df[col].notnull(), df[col]*field_width / 100, np.nan)\n",
    "    return df"
   ]
  },
  {
   "cell_type": "code",
   "execution_count": 337,
   "metadata": {},
   "outputs": [],
   "source": [
    "df_events = add_position_in_meters(df_events, cols_length = [\"posBeforeX\", \"posAfterX\"], \n",
    "                                   cols_width = [\"posBeforeY\", \"posAfterY\"], field_length=FIELD_LENGTH, \n",
    "                                   field_width=FIELD_WIDTH)"
   ]
  },
  {
   "cell_type": "markdown",
   "metadata": {},
   "source": [
    "## Build a first model for expected goals"
   ]
  },
  {
   "cell_type": "code",
   "execution_count": 338,
   "metadata": {},
   "outputs": [],
   "source": [
    "df_shots = df_events[df_events[\"eventName\"] == \"Shot\"].copy()"
   ]
  },
  {
   "cell_type": "code",
   "execution_count": 339,
   "metadata": {},
   "outputs": [
    {
     "data": {
      "text/html": [
       "<div>\n",
       "<style scoped>\n",
       "    .dataframe tbody tr th:only-of-type {\n",
       "        vertical-align: middle;\n",
       "    }\n",
       "\n",
       "    .dataframe tbody tr th {\n",
       "        vertical-align: top;\n",
       "    }\n",
       "\n",
       "    .dataframe thead th {\n",
       "        text-align: right;\n",
       "    }\n",
       "</style>\n",
       "<table border=\"1\" class=\"dataframe\">\n",
       "  <thead>\n",
       "    <tr style=\"text-align: right;\">\n",
       "      <th></th>\n",
       "      <th>eventId</th>\n",
       "      <th>subEventName</th>\n",
       "      <th>playerId</th>\n",
       "      <th>matchId</th>\n",
       "      <th>eventName</th>\n",
       "      <th>teamId</th>\n",
       "      <th>matchPeriod</th>\n",
       "      <th>eventSec</th>\n",
       "      <th>subEventId</th>\n",
       "      <th>id</th>\n",
       "      <th>posBeforeX</th>\n",
       "      <th>posBeforeY</th>\n",
       "      <th>posAfterX</th>\n",
       "      <th>posAfterY</th>\n",
       "      <th>Goal</th>\n",
       "      <th>Own goal</th>\n",
       "      <th>Assist</th>\n",
       "      <th>Key pass</th>\n",
       "      <th>Counter attack</th>\n",
       "      <th>Left foot</th>\n",
       "      <th>Right foot</th>\n",
       "      <th>Head/body</th>\n",
       "      <th>Direct</th>\n",
       "      <th>Indirect</th>\n",
       "      <th>Dangerous ball lost</th>\n",
       "      <th>Blocked</th>\n",
       "      <th>High</th>\n",
       "      <th>Low</th>\n",
       "      <th>Interception</th>\n",
       "      <th>Clearance</th>\n",
       "      <th>Opportunity</th>\n",
       "      <th>Feint</th>\n",
       "      <th>Missed ball</th>\n",
       "      <th>Free space right</th>\n",
       "      <th>Free space left</th>\n",
       "      <th>Take on left</th>\n",
       "      <th>Take on right</th>\n",
       "      <th>Sliding tackle</th>\n",
       "      <th>Anticipated</th>\n",
       "      <th>Anticipation</th>\n",
       "      <th>Red card</th>\n",
       "      <th>Yellow card</th>\n",
       "      <th>Second yellow card</th>\n",
       "      <th>Position: Goal low center</th>\n",
       "      <th>Position: Goal low right</th>\n",
       "      <th>Position: Goal center</th>\n",
       "      <th>Position: Goal center left</th>\n",
       "      <th>Position: Goal low left</th>\n",
       "      <th>Position: Goal center right</th>\n",
       "      <th>Position: Goal high center</th>\n",
       "      <th>Position: Goal high left</th>\n",
       "      <th>Position: Goal high right</th>\n",
       "      <th>Position: Out low right</th>\n",
       "      <th>Position: Out center left</th>\n",
       "      <th>Position: Out low left</th>\n",
       "      <th>Position: Out center right</th>\n",
       "      <th>Position: Out high center</th>\n",
       "      <th>Position: Out high left</th>\n",
       "      <th>Position: Out high right</th>\n",
       "      <th>Position: Post low right</th>\n",
       "      <th>Position: Post center left</th>\n",
       "      <th>Position: Post low left</th>\n",
       "      <th>Position: Post center right</th>\n",
       "      <th>Position: Post high center</th>\n",
       "      <th>Position: Post high left</th>\n",
       "      <th>Position: Post high right</th>\n",
       "      <th>Through</th>\n",
       "      <th>Fairplay</th>\n",
       "      <th>Lost</th>\n",
       "      <th>Neutral</th>\n",
       "      <th>Won</th>\n",
       "      <th>Accurate</th>\n",
       "      <th>Not accurate</th>\n",
       "      <th>shortName</th>\n",
       "      <th>foot</th>\n",
       "      <th>position</th>\n",
       "      <th>team1Id</th>\n",
       "      <th>team2Id</th>\n",
       "      <th>teamPossession</th>\n",
       "      <th>posBeforeXMeters</th>\n",
       "      <th>posAfterXMeters</th>\n",
       "      <th>posBeforeYMeters</th>\n",
       "      <th>posAfterYMeters</th>\n",
       "    </tr>\n",
       "  </thead>\n",
       "  <tbody>\n",
       "    <tr>\n",
       "      <th>104</th>\n",
       "      <td>10</td>\n",
       "      <td>Shot</td>\n",
       "      <td>209091</td>\n",
       "      <td>2516739</td>\n",
       "      <td>Shot</td>\n",
       "      <td>2444</td>\n",
       "      <td>1H</td>\n",
       "      <td>247.703507</td>\n",
       "      <td>100.0</td>\n",
       "      <td>179896573</td>\n",
       "      <td>83</td>\n",
       "      <td>66</td>\n",
       "      <td>0.0</td>\n",
       "      <td>0.0</td>\n",
       "      <td>0</td>\n",
       "      <td>0</td>\n",
       "      <td>0</td>\n",
       "      <td>0</td>\n",
       "      <td>0</td>\n",
       "      <td>0</td>\n",
       "      <td>1</td>\n",
       "      <td>0</td>\n",
       "      <td>0</td>\n",
       "      <td>0</td>\n",
       "      <td>0</td>\n",
       "      <td>0</td>\n",
       "      <td>0</td>\n",
       "      <td>0</td>\n",
       "      <td>0</td>\n",
       "      <td>0</td>\n",
       "      <td>1</td>\n",
       "      <td>0</td>\n",
       "      <td>0</td>\n",
       "      <td>0</td>\n",
       "      <td>0</td>\n",
       "      <td>0</td>\n",
       "      <td>0</td>\n",
       "      <td>0</td>\n",
       "      <td>0</td>\n",
       "      <td>0</td>\n",
       "      <td>0</td>\n",
       "      <td>0</td>\n",
       "      <td>0</td>\n",
       "      <td>0</td>\n",
       "      <td>0</td>\n",
       "      <td>0</td>\n",
       "      <td>0</td>\n",
       "      <td>0</td>\n",
       "      <td>1</td>\n",
       "      <td>0</td>\n",
       "      <td>0</td>\n",
       "      <td>0</td>\n",
       "      <td>0</td>\n",
       "      <td>0</td>\n",
       "      <td>0</td>\n",
       "      <td>0</td>\n",
       "      <td>0</td>\n",
       "      <td>0</td>\n",
       "      <td>0</td>\n",
       "      <td>0</td>\n",
       "      <td>0</td>\n",
       "      <td>0</td>\n",
       "      <td>0</td>\n",
       "      <td>0</td>\n",
       "      <td>0</td>\n",
       "      <td>0</td>\n",
       "      <td>0</td>\n",
       "      <td>0</td>\n",
       "      <td>0</td>\n",
       "      <td>0</td>\n",
       "      <td>0</td>\n",
       "      <td>1</td>\n",
       "      <td>0</td>\n",
       "      <td>C. Tolisso</td>\n",
       "      <td>right</td>\n",
       "      <td>MD</td>\n",
       "      <td>2444</td>\n",
       "      <td>2446</td>\n",
       "      <td>2444</td>\n",
       "      <td>87.15</td>\n",
       "      <td>0.0</td>\n",
       "      <td>44.88</td>\n",
       "      <td>0.0</td>\n",
       "    </tr>\n",
       "    <tr>\n",
       "      <th>178</th>\n",
       "      <td>10</td>\n",
       "      <td>Shot</td>\n",
       "      <td>134383</td>\n",
       "      <td>2516739</td>\n",
       "      <td>Shot</td>\n",
       "      <td>2444</td>\n",
       "      <td>1H</td>\n",
       "      <td>529.393731</td>\n",
       "      <td>100.0</td>\n",
       "      <td>179896639</td>\n",
       "      <td>95</td>\n",
       "      <td>59</td>\n",
       "      <td>0.0</td>\n",
       "      <td>0.0</td>\n",
       "      <td>1</td>\n",
       "      <td>0</td>\n",
       "      <td>0</td>\n",
       "      <td>0</td>\n",
       "      <td>0</td>\n",
       "      <td>0</td>\n",
       "      <td>0</td>\n",
       "      <td>1</td>\n",
       "      <td>0</td>\n",
       "      <td>0</td>\n",
       "      <td>0</td>\n",
       "      <td>0</td>\n",
       "      <td>0</td>\n",
       "      <td>0</td>\n",
       "      <td>0</td>\n",
       "      <td>0</td>\n",
       "      <td>1</td>\n",
       "      <td>0</td>\n",
       "      <td>0</td>\n",
       "      <td>0</td>\n",
       "      <td>0</td>\n",
       "      <td>0</td>\n",
       "      <td>0</td>\n",
       "      <td>0</td>\n",
       "      <td>0</td>\n",
       "      <td>0</td>\n",
       "      <td>0</td>\n",
       "      <td>0</td>\n",
       "      <td>0</td>\n",
       "      <td>0</td>\n",
       "      <td>0</td>\n",
       "      <td>0</td>\n",
       "      <td>0</td>\n",
       "      <td>1</td>\n",
       "      <td>0</td>\n",
       "      <td>0</td>\n",
       "      <td>0</td>\n",
       "      <td>0</td>\n",
       "      <td>0</td>\n",
       "      <td>0</td>\n",
       "      <td>0</td>\n",
       "      <td>0</td>\n",
       "      <td>0</td>\n",
       "      <td>0</td>\n",
       "      <td>0</td>\n",
       "      <td>0</td>\n",
       "      <td>0</td>\n",
       "      <td>0</td>\n",
       "      <td>0</td>\n",
       "      <td>0</td>\n",
       "      <td>0</td>\n",
       "      <td>0</td>\n",
       "      <td>0</td>\n",
       "      <td>0</td>\n",
       "      <td>0</td>\n",
       "      <td>0</td>\n",
       "      <td>0</td>\n",
       "      <td>1</td>\n",
       "      <td>0</td>\n",
       "      <td>N. Süle</td>\n",
       "      <td>right</td>\n",
       "      <td>DF</td>\n",
       "      <td>2444</td>\n",
       "      <td>2446</td>\n",
       "      <td>2444</td>\n",
       "      <td>99.75</td>\n",
       "      <td>0.0</td>\n",
       "      <td>40.12</td>\n",
       "      <td>0.0</td>\n",
       "    </tr>\n",
       "    <tr>\n",
       "      <th>216</th>\n",
       "      <td>10</td>\n",
       "      <td>Shot</td>\n",
       "      <td>105619</td>\n",
       "      <td>2516739</td>\n",
       "      <td>Shot</td>\n",
       "      <td>2446</td>\n",
       "      <td>1H</td>\n",
       "      <td>668.234340</td>\n",
       "      <td>100.0</td>\n",
       "      <td>179896684</td>\n",
       "      <td>91</td>\n",
       "      <td>66</td>\n",
       "      <td>100.0</td>\n",
       "      <td>100.0</td>\n",
       "      <td>0</td>\n",
       "      <td>0</td>\n",
       "      <td>0</td>\n",
       "      <td>0</td>\n",
       "      <td>0</td>\n",
       "      <td>0</td>\n",
       "      <td>1</td>\n",
       "      <td>0</td>\n",
       "      <td>0</td>\n",
       "      <td>0</td>\n",
       "      <td>0</td>\n",
       "      <td>0</td>\n",
       "      <td>0</td>\n",
       "      <td>0</td>\n",
       "      <td>0</td>\n",
       "      <td>0</td>\n",
       "      <td>1</td>\n",
       "      <td>0</td>\n",
       "      <td>0</td>\n",
       "      <td>0</td>\n",
       "      <td>0</td>\n",
       "      <td>0</td>\n",
       "      <td>0</td>\n",
       "      <td>0</td>\n",
       "      <td>0</td>\n",
       "      <td>0</td>\n",
       "      <td>0</td>\n",
       "      <td>0</td>\n",
       "      <td>0</td>\n",
       "      <td>1</td>\n",
       "      <td>0</td>\n",
       "      <td>0</td>\n",
       "      <td>0</td>\n",
       "      <td>0</td>\n",
       "      <td>0</td>\n",
       "      <td>0</td>\n",
       "      <td>0</td>\n",
       "      <td>0</td>\n",
       "      <td>0</td>\n",
       "      <td>0</td>\n",
       "      <td>0</td>\n",
       "      <td>0</td>\n",
       "      <td>0</td>\n",
       "      <td>0</td>\n",
       "      <td>0</td>\n",
       "      <td>0</td>\n",
       "      <td>0</td>\n",
       "      <td>0</td>\n",
       "      <td>0</td>\n",
       "      <td>0</td>\n",
       "      <td>0</td>\n",
       "      <td>0</td>\n",
       "      <td>0</td>\n",
       "      <td>0</td>\n",
       "      <td>0</td>\n",
       "      <td>0</td>\n",
       "      <td>0</td>\n",
       "      <td>1</td>\n",
       "      <td>0</td>\n",
       "      <td>A. Mehmedi</td>\n",
       "      <td>right</td>\n",
       "      <td>FW</td>\n",
       "      <td>2444</td>\n",
       "      <td>2446</td>\n",
       "      <td>2446</td>\n",
       "      <td>95.55</td>\n",
       "      <td>105.0</td>\n",
       "      <td>44.88</td>\n",
       "      <td>68.0</td>\n",
       "    </tr>\n",
       "    <tr>\n",
       "      <th>220</th>\n",
       "      <td>10</td>\n",
       "      <td>Shot</td>\n",
       "      <td>14786</td>\n",
       "      <td>2516739</td>\n",
       "      <td>Shot</td>\n",
       "      <td>2446</td>\n",
       "      <td>1H</td>\n",
       "      <td>672.925920</td>\n",
       "      <td>100.0</td>\n",
       "      <td>179896693</td>\n",
       "      <td>88</td>\n",
       "      <td>49</td>\n",
       "      <td>100.0</td>\n",
       "      <td>100.0</td>\n",
       "      <td>0</td>\n",
       "      <td>0</td>\n",
       "      <td>0</td>\n",
       "      <td>0</td>\n",
       "      <td>0</td>\n",
       "      <td>0</td>\n",
       "      <td>1</td>\n",
       "      <td>0</td>\n",
       "      <td>0</td>\n",
       "      <td>0</td>\n",
       "      <td>0</td>\n",
       "      <td>0</td>\n",
       "      <td>0</td>\n",
       "      <td>0</td>\n",
       "      <td>0</td>\n",
       "      <td>0</td>\n",
       "      <td>1</td>\n",
       "      <td>0</td>\n",
       "      <td>0</td>\n",
       "      <td>0</td>\n",
       "      <td>0</td>\n",
       "      <td>0</td>\n",
       "      <td>0</td>\n",
       "      <td>0</td>\n",
       "      <td>0</td>\n",
       "      <td>0</td>\n",
       "      <td>0</td>\n",
       "      <td>0</td>\n",
       "      <td>0</td>\n",
       "      <td>0</td>\n",
       "      <td>0</td>\n",
       "      <td>0</td>\n",
       "      <td>0</td>\n",
       "      <td>0</td>\n",
       "      <td>0</td>\n",
       "      <td>0</td>\n",
       "      <td>0</td>\n",
       "      <td>0</td>\n",
       "      <td>0</td>\n",
       "      <td>0</td>\n",
       "      <td>1</td>\n",
       "      <td>0</td>\n",
       "      <td>0</td>\n",
       "      <td>0</td>\n",
       "      <td>0</td>\n",
       "      <td>0</td>\n",
       "      <td>0</td>\n",
       "      <td>0</td>\n",
       "      <td>0</td>\n",
       "      <td>0</td>\n",
       "      <td>0</td>\n",
       "      <td>0</td>\n",
       "      <td>0</td>\n",
       "      <td>0</td>\n",
       "      <td>0</td>\n",
       "      <td>0</td>\n",
       "      <td>0</td>\n",
       "      <td>0</td>\n",
       "      <td>1</td>\n",
       "      <td>K. Bellarabi</td>\n",
       "      <td>right</td>\n",
       "      <td>MD</td>\n",
       "      <td>2444</td>\n",
       "      <td>2446</td>\n",
       "      <td>2446</td>\n",
       "      <td>92.40</td>\n",
       "      <td>105.0</td>\n",
       "      <td>33.32</td>\n",
       "      <td>68.0</td>\n",
       "    </tr>\n",
       "    <tr>\n",
       "      <th>313</th>\n",
       "      <td>10</td>\n",
       "      <td>Shot</td>\n",
       "      <td>20475</td>\n",
       "      <td>2516739</td>\n",
       "      <td>Shot</td>\n",
       "      <td>2444</td>\n",
       "      <td>1H</td>\n",
       "      <td>949.131592</td>\n",
       "      <td>100.0</td>\n",
       "      <td>179896798</td>\n",
       "      <td>74</td>\n",
       "      <td>42</td>\n",
       "      <td>0.0</td>\n",
       "      <td>0.0</td>\n",
       "      <td>0</td>\n",
       "      <td>0</td>\n",
       "      <td>0</td>\n",
       "      <td>0</td>\n",
       "      <td>0</td>\n",
       "      <td>0</td>\n",
       "      <td>1</td>\n",
       "      <td>0</td>\n",
       "      <td>0</td>\n",
       "      <td>0</td>\n",
       "      <td>0</td>\n",
       "      <td>0</td>\n",
       "      <td>0</td>\n",
       "      <td>0</td>\n",
       "      <td>0</td>\n",
       "      <td>0</td>\n",
       "      <td>0</td>\n",
       "      <td>0</td>\n",
       "      <td>0</td>\n",
       "      <td>0</td>\n",
       "      <td>0</td>\n",
       "      <td>0</td>\n",
       "      <td>0</td>\n",
       "      <td>0</td>\n",
       "      <td>0</td>\n",
       "      <td>0</td>\n",
       "      <td>0</td>\n",
       "      <td>0</td>\n",
       "      <td>0</td>\n",
       "      <td>0</td>\n",
       "      <td>0</td>\n",
       "      <td>0</td>\n",
       "      <td>0</td>\n",
       "      <td>0</td>\n",
       "      <td>0</td>\n",
       "      <td>0</td>\n",
       "      <td>0</td>\n",
       "      <td>0</td>\n",
       "      <td>0</td>\n",
       "      <td>0</td>\n",
       "      <td>0</td>\n",
       "      <td>0</td>\n",
       "      <td>0</td>\n",
       "      <td>0</td>\n",
       "      <td>1</td>\n",
       "      <td>0</td>\n",
       "      <td>0</td>\n",
       "      <td>0</td>\n",
       "      <td>0</td>\n",
       "      <td>0</td>\n",
       "      <td>0</td>\n",
       "      <td>0</td>\n",
       "      <td>0</td>\n",
       "      <td>0</td>\n",
       "      <td>0</td>\n",
       "      <td>0</td>\n",
       "      <td>0</td>\n",
       "      <td>0</td>\n",
       "      <td>1</td>\n",
       "      <td>A. Vidal</td>\n",
       "      <td>right</td>\n",
       "      <td>MD</td>\n",
       "      <td>2444</td>\n",
       "      <td>2446</td>\n",
       "      <td>2444</td>\n",
       "      <td>77.70</td>\n",
       "      <td>0.0</td>\n",
       "      <td>28.56</td>\n",
       "      <td>0.0</td>\n",
       "    </tr>\n",
       "  </tbody>\n",
       "</table>\n",
       "</div>"
      ],
      "text/plain": [
       "     eventId subEventName  playerId  matchId eventName  teamId matchPeriod  \\\n",
       "104       10         Shot    209091  2516739      Shot    2444          1H   \n",
       "178       10         Shot    134383  2516739      Shot    2444          1H   \n",
       "216       10         Shot    105619  2516739      Shot    2446          1H   \n",
       "220       10         Shot     14786  2516739      Shot    2446          1H   \n",
       "313       10         Shot     20475  2516739      Shot    2444          1H   \n",
       "\n",
       "       eventSec  subEventId         id  posBeforeX  posBeforeY  posAfterX  \\\n",
       "104  247.703507       100.0  179896573          83          66        0.0   \n",
       "178  529.393731       100.0  179896639          95          59        0.0   \n",
       "216  668.234340       100.0  179896684          91          66      100.0   \n",
       "220  672.925920       100.0  179896693          88          49      100.0   \n",
       "313  949.131592       100.0  179896798          74          42        0.0   \n",
       "\n",
       "     posAfterY  Goal  Own goal  Assist  Key pass  Counter attack  Left foot  \\\n",
       "104        0.0     0         0       0         0               0          0   \n",
       "178        0.0     1         0       0         0               0          0   \n",
       "216      100.0     0         0       0         0               0          0   \n",
       "220      100.0     0         0       0         0               0          0   \n",
       "313        0.0     0         0       0         0               0          0   \n",
       "\n",
       "     Right foot  Head/body  Direct  Indirect  Dangerous ball lost  Blocked  \\\n",
       "104           1          0       0         0                    0        0   \n",
       "178           0          1       0         0                    0        0   \n",
       "216           1          0       0         0                    0        0   \n",
       "220           1          0       0         0                    0        0   \n",
       "313           1          0       0         0                    0        0   \n",
       "\n",
       "     High  Low  Interception  Clearance  Opportunity  Feint  Missed ball  \\\n",
       "104     0    0             0          0            1      0            0   \n",
       "178     0    0             0          0            1      0            0   \n",
       "216     0    0             0          0            1      0            0   \n",
       "220     0    0             0          0            1      0            0   \n",
       "313     0    0             0          0            0      0            0   \n",
       "\n",
       "     Free space right  Free space left  Take on left  Take on right  \\\n",
       "104                 0                0             0              0   \n",
       "178                 0                0             0              0   \n",
       "216                 0                0             0              0   \n",
       "220                 0                0             0              0   \n",
       "313                 0                0             0              0   \n",
       "\n",
       "     Sliding tackle  Anticipated  Anticipation  Red card  Yellow card  \\\n",
       "104               0            0             0         0            0   \n",
       "178               0            0             0         0            0   \n",
       "216               0            0             0         0            0   \n",
       "220               0            0             0         0            0   \n",
       "313               0            0             0         0            0   \n",
       "\n",
       "     Second yellow card  Position: Goal low center  Position: Goal low right  \\\n",
       "104                   0                          0                         0   \n",
       "178                   0                          0                         0   \n",
       "216                   0                          1                         0   \n",
       "220                   0                          0                         0   \n",
       "313                   0                          0                         0   \n",
       "\n",
       "     Position: Goal center  Position: Goal center left  \\\n",
       "104                      0                           0   \n",
       "178                      0                           0   \n",
       "216                      0                           0   \n",
       "220                      0                           0   \n",
       "313                      0                           0   \n",
       "\n",
       "     Position: Goal low left  Position: Goal center right  \\\n",
       "104                        0                            1   \n",
       "178                        1                            0   \n",
       "216                        0                            0   \n",
       "220                        0                            0   \n",
       "313                        0                            0   \n",
       "\n",
       "     Position: Goal high center  Position: Goal high left  \\\n",
       "104                           0                         0   \n",
       "178                           0                         0   \n",
       "216                           0                         0   \n",
       "220                           0                         0   \n",
       "313                           0                         0   \n",
       "\n",
       "     Position: Goal high right  Position: Out low right  \\\n",
       "104                          0                        0   \n",
       "178                          0                        0   \n",
       "216                          0                        0   \n",
       "220                          0                        0   \n",
       "313                          0                        0   \n",
       "\n",
       "     Position: Out center left  Position: Out low left  \\\n",
       "104                          0                       0   \n",
       "178                          0                       0   \n",
       "216                          0                       0   \n",
       "220                          0                       1   \n",
       "313                          0                       0   \n",
       "\n",
       "     Position: Out center right  Position: Out high center  \\\n",
       "104                           0                          0   \n",
       "178                           0                          0   \n",
       "216                           0                          0   \n",
       "220                           0                          0   \n",
       "313                           0                          0   \n",
       "\n",
       "     Position: Out high left  Position: Out high right  \\\n",
       "104                        0                         0   \n",
       "178                        0                         0   \n",
       "216                        0                         0   \n",
       "220                        0                         0   \n",
       "313                        0                         1   \n",
       "\n",
       "     Position: Post low right  Position: Post center left  \\\n",
       "104                         0                           0   \n",
       "178                         0                           0   \n",
       "216                         0                           0   \n",
       "220                         0                           0   \n",
       "313                         0                           0   \n",
       "\n",
       "     Position: Post low left  Position: Post center right  \\\n",
       "104                        0                            0   \n",
       "178                        0                            0   \n",
       "216                        0                            0   \n",
       "220                        0                            0   \n",
       "313                        0                            0   \n",
       "\n",
       "     Position: Post high center  Position: Post high left  \\\n",
       "104                           0                         0   \n",
       "178                           0                         0   \n",
       "216                           0                         0   \n",
       "220                           0                         0   \n",
       "313                           0                         0   \n",
       "\n",
       "     Position: Post high right  Through  Fairplay  Lost  Neutral  Won  \\\n",
       "104                          0        0         0     0        0    0   \n",
       "178                          0        0         0     0        0    0   \n",
       "216                          0        0         0     0        0    0   \n",
       "220                          0        0         0     0        0    0   \n",
       "313                          0        0         0     0        0    0   \n",
       "\n",
       "     Accurate  Not accurate     shortName   foot position  team1Id  team2Id  \\\n",
       "104         1             0    C. Tolisso  right       MD     2444     2446   \n",
       "178         1             0       N. Süle  right       DF     2444     2446   \n",
       "216         1             0    A. Mehmedi  right       FW     2444     2446   \n",
       "220         0             1  K. Bellarabi  right       MD     2444     2446   \n",
       "313         0             1      A. Vidal  right       MD     2444     2446   \n",
       "\n",
       "     teamPossession  posBeforeXMeters  posAfterXMeters  posBeforeYMeters  \\\n",
       "104            2444             87.15              0.0             44.88   \n",
       "178            2444             99.75              0.0             40.12   \n",
       "216            2446             95.55            105.0             44.88   \n",
       "220            2446             92.40            105.0             33.32   \n",
       "313            2444             77.70              0.0             28.56   \n",
       "\n",
       "     posAfterYMeters  \n",
       "104              0.0  \n",
       "178              0.0  \n",
       "216             68.0  \n",
       "220             68.0  \n",
       "313              0.0  "
      ]
     },
     "execution_count": 339,
     "metadata": {},
     "output_type": "execute_result"
    }
   ],
   "source": [
    "df_shots.head()"
   ]
  },
  {
   "cell_type": "code",
   "execution_count": 340,
   "metadata": {},
   "outputs": [
    {
     "name": "stdout",
     "output_type": "stream",
     "text": [
      "Total shots: 6898\n",
      "Expected goal when shooting: 10.83%\n"
     ]
    }
   ],
   "source": [
    "print(f\"Total shots: {len(df_shots)}\")\n",
    "print(f\"Expected goal when shooting: {df_shots['Goal'].mean()*100:.2f}%\")"
   ]
  },
  {
   "cell_type": "markdown",
   "metadata": {},
   "source": [
    "#### Head vs. foot"
   ]
  },
  {
   "cell_type": "code",
   "execution_count": 341,
   "metadata": {},
   "outputs": [],
   "source": [
    "def from_dummy(df, cols, category_col):\n",
    "    \"\"\" \n",
    "    Function reverts the pd.to_dummies function by getting retrieving the category\n",
    "    \n",
    "    :param df: (pd.DataFrame) Data frame with some columns belonging together as dummy columns\n",
    "    :param cols: (list) Columns the contain the dummy variables\n",
    "    :param category_col: (str) Name of the created category column\n",
    "    :return: pd.DataFrame with an additional column *category_col* containing the category retrieved from the dummies.\n",
    "    \"\"\"\n",
    "    df[category_col] = np.nan    \n",
    "    for col in cols:\n",
    "        df[category_col] = np.where(df[col] != 0, col, df[category_col])\n",
    "    df[category_col].fillna(\"Unknown\", inplace=True)\n",
    "    return df"
   ]
  },
  {
   "cell_type": "code",
   "execution_count": 342,
   "metadata": {},
   "outputs": [],
   "source": [
    "def create_univariate_variable_graph(df, col, target_col, y1_axis_name, y2_axis_name, binned_cols=False, title_name=None):\n",
    "    \"\"\" \n",
    "    Function creates a plotly figure showing the distribution over the different values in column *col* as well as the share\n",
    "    of positives for the *target_col* per value in *col*. \n",
    "    \n",
    "    :param df: (pd.DataFrame) Data frame with all relevant data\n",
    "    :param col: (str) Column for which the different values should be analyzed\n",
    "    :param target_col: (str) Column with the target, e.g. \"Goal\", \"Successful pass\", ...\n",
    "    :param y1_axis_name: (str) String to be displayed on left y-axis\n",
    "    :param y2_axis_name: (str) String to be displayed on right y-axis\n",
    "    :param binned_cols: (bool, default=False) Set to true of columns were manually binned and x-axis tick names should\n",
    "                                              therefore be updated\n",
    "    :param title_name: (str) Title of the plotly plot\n",
    "    :return: go.Figure containing the univariate variable graph\n",
    "    \"\"\"    \n",
    "    # if columns were manually binned before, we show the x-axis ticks like (\"<3\", \"3-6\", \">=6\")\n",
    "    if binned_cols:\n",
    "        diff_vals = sorted(df[col].unique())\n",
    "        lst_x_title = list()\n",
    "        for i in range(len(diff_vals)):\n",
    "            if i == 0:\n",
    "                lst_x_title.append(f\"<{diff_vals[i+1]}\")\n",
    "            elif i == len(diff_vals)-1:\n",
    "                lst_x_title.append(f\">={diff_vals[i]}\")\n",
    "            else:\n",
    "                lst_x_title.append(f\"{diff_vals[i]} - {diff_vals[i+1]}\")\n",
    "    \n",
    "    # compute the share of observations for each group and the probability of the target\n",
    "    df_group = df.groupby(col).agg(total_count=(col, \"count\"),\n",
    "                                   total_target=(target_col,\"sum\")).reset_index()\n",
    "    df_group[\"share\"] = df_group[\"total_count\"] / len(df) * 100\n",
    "    df_group[\"share_target\"] = df_group[\"total_target\"] / df_group[\"total_count\"] * 100\n",
    "\n",
    "    # create the plotly figure\n",
    "    fig = make_subplots(specs=[[{\"secondary_y\": True}]])\n",
    "    \n",
    "    # right y-axis corresponds to the share of observations per group\n",
    "    fig.add_trace(\n",
    "        go.Bar(\n",
    "            x=df_group[col],\n",
    "            y=df_group[\"share\"],\n",
    "            name=y2_axis_name\n",
    "        ))\n",
    "\n",
    "    # left y-axis corresponds to the probability of the target for each group\n",
    "    fig.add_trace(\n",
    "        go.Scatter(\n",
    "            x=df_group[col],\n",
    "            y=df_group[\"share_target\"],\n",
    "            name=y1_axis_name\n",
    "        ), secondary_y=True)\n",
    "    \n",
    "    if title_name is None:\n",
    "        title_name = col\n",
    "    \n",
    "    # update the layout of the figure\n",
    "    fig.update_layout(\n",
    "        title=title_name,\n",
    "        hovermode=False,\n",
    "        yaxis=dict(\n",
    "            title=y1_axis_name,\n",
    "            titlefont_size=16,\n",
    "            tickfont_size=14,\n",
    "            rangemode=\"tozero\"\n",
    "        ),\n",
    "        yaxis2=dict(\n",
    "            title=y2_axis_name,\n",
    "            titlefont_size=16,\n",
    "            tickfont_size=14,\n",
    "            rangemode=\"tozero\"\n",
    "        ),    \n",
    "    )\n",
    "    \n",
    "    # update the x-axis title in case of a binned column\n",
    "    if binned_cols:\n",
    "        fig.data[0][\"x\"] = np.array(lst_x_title)\n",
    "        fig.data[1][\"x\"] = np.array(lst_x_title)\n",
    "    \n",
    "    return fig"
   ]
  },
  {
   "cell_type": "code",
   "execution_count": 343,
   "metadata": {},
   "outputs": [],
   "source": [
    "cols = [\"Left foot\", \"Right foot\", \"Head/body\"]\n",
    "comb_col = \"shotFoot\""
   ]
  },
  {
   "cell_type": "code",
   "execution_count": 344,
   "metadata": {},
   "outputs": [],
   "source": [
    "df_shots = from_dummy(df_shots, cols, comb_col)"
   ]
  },
  {
   "cell_type": "code",
   "execution_count": 345,
   "metadata": {},
   "outputs": [
    {
     "data": {
      "application/vnd.plotly.v1+json": {
       "config": {
        "plotlyServerURL": "https://plot.ly"
       },
       "data": [
        {
         "name": "Goal (in %)",
         "type": "bar",
         "x": [
          "Head/body",
          "Left foot",
          "Right foot"
         ],
         "y": [
          16.468541606262686,
          31.081472890692957,
          52.44998550304436
         ]
        },
        {
         "name": "Share shots (in %)",
         "type": "scatter",
         "x": [
          "Head/body",
          "Left foot",
          "Right foot"
         ],
         "xaxis": "x",
         "y": [
          12.676056338028168,
          10.121268656716417,
          10.668877833056937
         ],
         "yaxis": "y2"
        }
       ],
       "layout": {
        "hovermode": false,
        "template": {
         "data": {
          "bar": [
           {
            "error_x": {
             "color": "#2a3f5f"
            },
            "error_y": {
             "color": "#2a3f5f"
            },
            "marker": {
             "line": {
              "color": "#E5ECF6",
              "width": 0.5
             }
            },
            "type": "bar"
           }
          ],
          "barpolar": [
           {
            "marker": {
             "line": {
              "color": "#E5ECF6",
              "width": 0.5
             }
            },
            "type": "barpolar"
           }
          ],
          "carpet": [
           {
            "aaxis": {
             "endlinecolor": "#2a3f5f",
             "gridcolor": "white",
             "linecolor": "white",
             "minorgridcolor": "white",
             "startlinecolor": "#2a3f5f"
            },
            "baxis": {
             "endlinecolor": "#2a3f5f",
             "gridcolor": "white",
             "linecolor": "white",
             "minorgridcolor": "white",
             "startlinecolor": "#2a3f5f"
            },
            "type": "carpet"
           }
          ],
          "choropleth": [
           {
            "colorbar": {
             "outlinewidth": 0,
             "ticks": ""
            },
            "type": "choropleth"
           }
          ],
          "contour": [
           {
            "colorbar": {
             "outlinewidth": 0,
             "ticks": ""
            },
            "colorscale": [
             [
              0,
              "#0d0887"
             ],
             [
              0.1111111111111111,
              "#46039f"
             ],
             [
              0.2222222222222222,
              "#7201a8"
             ],
             [
              0.3333333333333333,
              "#9c179e"
             ],
             [
              0.4444444444444444,
              "#bd3786"
             ],
             [
              0.5555555555555556,
              "#d8576b"
             ],
             [
              0.6666666666666666,
              "#ed7953"
             ],
             [
              0.7777777777777778,
              "#fb9f3a"
             ],
             [
              0.8888888888888888,
              "#fdca26"
             ],
             [
              1,
              "#f0f921"
             ]
            ],
            "type": "contour"
           }
          ],
          "contourcarpet": [
           {
            "colorbar": {
             "outlinewidth": 0,
             "ticks": ""
            },
            "type": "contourcarpet"
           }
          ],
          "heatmap": [
           {
            "colorbar": {
             "outlinewidth": 0,
             "ticks": ""
            },
            "colorscale": [
             [
              0,
              "#0d0887"
             ],
             [
              0.1111111111111111,
              "#46039f"
             ],
             [
              0.2222222222222222,
              "#7201a8"
             ],
             [
              0.3333333333333333,
              "#9c179e"
             ],
             [
              0.4444444444444444,
              "#bd3786"
             ],
             [
              0.5555555555555556,
              "#d8576b"
             ],
             [
              0.6666666666666666,
              "#ed7953"
             ],
             [
              0.7777777777777778,
              "#fb9f3a"
             ],
             [
              0.8888888888888888,
              "#fdca26"
             ],
             [
              1,
              "#f0f921"
             ]
            ],
            "type": "heatmap"
           }
          ],
          "heatmapgl": [
           {
            "colorbar": {
             "outlinewidth": 0,
             "ticks": ""
            },
            "colorscale": [
             [
              0,
              "#0d0887"
             ],
             [
              0.1111111111111111,
              "#46039f"
             ],
             [
              0.2222222222222222,
              "#7201a8"
             ],
             [
              0.3333333333333333,
              "#9c179e"
             ],
             [
              0.4444444444444444,
              "#bd3786"
             ],
             [
              0.5555555555555556,
              "#d8576b"
             ],
             [
              0.6666666666666666,
              "#ed7953"
             ],
             [
              0.7777777777777778,
              "#fb9f3a"
             ],
             [
              0.8888888888888888,
              "#fdca26"
             ],
             [
              1,
              "#f0f921"
             ]
            ],
            "type": "heatmapgl"
           }
          ],
          "histogram": [
           {
            "marker": {
             "colorbar": {
              "outlinewidth": 0,
              "ticks": ""
             }
            },
            "type": "histogram"
           }
          ],
          "histogram2d": [
           {
            "colorbar": {
             "outlinewidth": 0,
             "ticks": ""
            },
            "colorscale": [
             [
              0,
              "#0d0887"
             ],
             [
              0.1111111111111111,
              "#46039f"
             ],
             [
              0.2222222222222222,
              "#7201a8"
             ],
             [
              0.3333333333333333,
              "#9c179e"
             ],
             [
              0.4444444444444444,
              "#bd3786"
             ],
             [
              0.5555555555555556,
              "#d8576b"
             ],
             [
              0.6666666666666666,
              "#ed7953"
             ],
             [
              0.7777777777777778,
              "#fb9f3a"
             ],
             [
              0.8888888888888888,
              "#fdca26"
             ],
             [
              1,
              "#f0f921"
             ]
            ],
            "type": "histogram2d"
           }
          ],
          "histogram2dcontour": [
           {
            "colorbar": {
             "outlinewidth": 0,
             "ticks": ""
            },
            "colorscale": [
             [
              0,
              "#0d0887"
             ],
             [
              0.1111111111111111,
              "#46039f"
             ],
             [
              0.2222222222222222,
              "#7201a8"
             ],
             [
              0.3333333333333333,
              "#9c179e"
             ],
             [
              0.4444444444444444,
              "#bd3786"
             ],
             [
              0.5555555555555556,
              "#d8576b"
             ],
             [
              0.6666666666666666,
              "#ed7953"
             ],
             [
              0.7777777777777778,
              "#fb9f3a"
             ],
             [
              0.8888888888888888,
              "#fdca26"
             ],
             [
              1,
              "#f0f921"
             ]
            ],
            "type": "histogram2dcontour"
           }
          ],
          "mesh3d": [
           {
            "colorbar": {
             "outlinewidth": 0,
             "ticks": ""
            },
            "type": "mesh3d"
           }
          ],
          "parcoords": [
           {
            "line": {
             "colorbar": {
              "outlinewidth": 0,
              "ticks": ""
             }
            },
            "type": "parcoords"
           }
          ],
          "pie": [
           {
            "automargin": true,
            "type": "pie"
           }
          ],
          "scatter": [
           {
            "marker": {
             "colorbar": {
              "outlinewidth": 0,
              "ticks": ""
             }
            },
            "type": "scatter"
           }
          ],
          "scatter3d": [
           {
            "line": {
             "colorbar": {
              "outlinewidth": 0,
              "ticks": ""
             }
            },
            "marker": {
             "colorbar": {
              "outlinewidth": 0,
              "ticks": ""
             }
            },
            "type": "scatter3d"
           }
          ],
          "scattercarpet": [
           {
            "marker": {
             "colorbar": {
              "outlinewidth": 0,
              "ticks": ""
             }
            },
            "type": "scattercarpet"
           }
          ],
          "scattergeo": [
           {
            "marker": {
             "colorbar": {
              "outlinewidth": 0,
              "ticks": ""
             }
            },
            "type": "scattergeo"
           }
          ],
          "scattergl": [
           {
            "marker": {
             "colorbar": {
              "outlinewidth": 0,
              "ticks": ""
             }
            },
            "type": "scattergl"
           }
          ],
          "scattermapbox": [
           {
            "marker": {
             "colorbar": {
              "outlinewidth": 0,
              "ticks": ""
             }
            },
            "type": "scattermapbox"
           }
          ],
          "scatterpolar": [
           {
            "marker": {
             "colorbar": {
              "outlinewidth": 0,
              "ticks": ""
             }
            },
            "type": "scatterpolar"
           }
          ],
          "scatterpolargl": [
           {
            "marker": {
             "colorbar": {
              "outlinewidth": 0,
              "ticks": ""
             }
            },
            "type": "scatterpolargl"
           }
          ],
          "scatterternary": [
           {
            "marker": {
             "colorbar": {
              "outlinewidth": 0,
              "ticks": ""
             }
            },
            "type": "scatterternary"
           }
          ],
          "surface": [
           {
            "colorbar": {
             "outlinewidth": 0,
             "ticks": ""
            },
            "colorscale": [
             [
              0,
              "#0d0887"
             ],
             [
              0.1111111111111111,
              "#46039f"
             ],
             [
              0.2222222222222222,
              "#7201a8"
             ],
             [
              0.3333333333333333,
              "#9c179e"
             ],
             [
              0.4444444444444444,
              "#bd3786"
             ],
             [
              0.5555555555555556,
              "#d8576b"
             ],
             [
              0.6666666666666666,
              "#ed7953"
             ],
             [
              0.7777777777777778,
              "#fb9f3a"
             ],
             [
              0.8888888888888888,
              "#fdca26"
             ],
             [
              1,
              "#f0f921"
             ]
            ],
            "type": "surface"
           }
          ],
          "table": [
           {
            "cells": {
             "fill": {
              "color": "#EBF0F8"
             },
             "line": {
              "color": "white"
             }
            },
            "header": {
             "fill": {
              "color": "#C8D4E3"
             },
             "line": {
              "color": "white"
             }
            },
            "type": "table"
           }
          ]
         },
         "layout": {
          "annotationdefaults": {
           "arrowcolor": "#2a3f5f",
           "arrowhead": 0,
           "arrowwidth": 1
          },
          "coloraxis": {
           "colorbar": {
            "outlinewidth": 0,
            "ticks": ""
           }
          },
          "colorscale": {
           "diverging": [
            [
             0,
             "#8e0152"
            ],
            [
             0.1,
             "#c51b7d"
            ],
            [
             0.2,
             "#de77ae"
            ],
            [
             0.3,
             "#f1b6da"
            ],
            [
             0.4,
             "#fde0ef"
            ],
            [
             0.5,
             "#f7f7f7"
            ],
            [
             0.6,
             "#e6f5d0"
            ],
            [
             0.7,
             "#b8e186"
            ],
            [
             0.8,
             "#7fbc41"
            ],
            [
             0.9,
             "#4d9221"
            ],
            [
             1,
             "#276419"
            ]
           ],
           "sequential": [
            [
             0,
             "#0d0887"
            ],
            [
             0.1111111111111111,
             "#46039f"
            ],
            [
             0.2222222222222222,
             "#7201a8"
            ],
            [
             0.3333333333333333,
             "#9c179e"
            ],
            [
             0.4444444444444444,
             "#bd3786"
            ],
            [
             0.5555555555555556,
             "#d8576b"
            ],
            [
             0.6666666666666666,
             "#ed7953"
            ],
            [
             0.7777777777777778,
             "#fb9f3a"
            ],
            [
             0.8888888888888888,
             "#fdca26"
            ],
            [
             1,
             "#f0f921"
            ]
           ],
           "sequentialminus": [
            [
             0,
             "#0d0887"
            ],
            [
             0.1111111111111111,
             "#46039f"
            ],
            [
             0.2222222222222222,
             "#7201a8"
            ],
            [
             0.3333333333333333,
             "#9c179e"
            ],
            [
             0.4444444444444444,
             "#bd3786"
            ],
            [
             0.5555555555555556,
             "#d8576b"
            ],
            [
             0.6666666666666666,
             "#ed7953"
            ],
            [
             0.7777777777777778,
             "#fb9f3a"
            ],
            [
             0.8888888888888888,
             "#fdca26"
            ],
            [
             1,
             "#f0f921"
            ]
           ]
          },
          "colorway": [
           "#636efa",
           "#EF553B",
           "#00cc96",
           "#ab63fa",
           "#FFA15A",
           "#19d3f3",
           "#FF6692",
           "#B6E880",
           "#FF97FF",
           "#FECB52"
          ],
          "font": {
           "color": "#2a3f5f"
          },
          "geo": {
           "bgcolor": "white",
           "lakecolor": "white",
           "landcolor": "#E5ECF6",
           "showlakes": true,
           "showland": true,
           "subunitcolor": "white"
          },
          "hoverlabel": {
           "align": "left"
          },
          "hovermode": "closest",
          "mapbox": {
           "style": "light"
          },
          "paper_bgcolor": "white",
          "plot_bgcolor": "#E5ECF6",
          "polar": {
           "angularaxis": {
            "gridcolor": "white",
            "linecolor": "white",
            "ticks": ""
           },
           "bgcolor": "#E5ECF6",
           "radialaxis": {
            "gridcolor": "white",
            "linecolor": "white",
            "ticks": ""
           }
          },
          "scene": {
           "xaxis": {
            "backgroundcolor": "#E5ECF6",
            "gridcolor": "white",
            "gridwidth": 2,
            "linecolor": "white",
            "showbackground": true,
            "ticks": "",
            "zerolinecolor": "white"
           },
           "yaxis": {
            "backgroundcolor": "#E5ECF6",
            "gridcolor": "white",
            "gridwidth": 2,
            "linecolor": "white",
            "showbackground": true,
            "ticks": "",
            "zerolinecolor": "white"
           },
           "zaxis": {
            "backgroundcolor": "#E5ECF6",
            "gridcolor": "white",
            "gridwidth": 2,
            "linecolor": "white",
            "showbackground": true,
            "ticks": "",
            "zerolinecolor": "white"
           }
          },
          "shapedefaults": {
           "line": {
            "color": "#2a3f5f"
           }
          },
          "ternary": {
           "aaxis": {
            "gridcolor": "white",
            "linecolor": "white",
            "ticks": ""
           },
           "baxis": {
            "gridcolor": "white",
            "linecolor": "white",
            "ticks": ""
           },
           "bgcolor": "#E5ECF6",
           "caxis": {
            "gridcolor": "white",
            "linecolor": "white",
            "ticks": ""
           }
          },
          "title": {
           "x": 0.05
          },
          "xaxis": {
           "automargin": true,
           "gridcolor": "white",
           "linecolor": "white",
           "ticks": "",
           "title": {
            "standoff": 15
           },
           "zerolinecolor": "white",
           "zerolinewidth": 2
          },
          "yaxis": {
           "automargin": true,
           "gridcolor": "white",
           "linecolor": "white",
           "ticks": "",
           "title": {
            "standoff": 15
           },
           "zerolinecolor": "white",
           "zerolinewidth": 2
          }
         }
        },
        "title": {
         "text": "Foot vs header"
        },
        "xaxis": {
         "anchor": "y",
         "domain": [
          0,
          0.94
         ]
        },
        "yaxis": {
         "anchor": "x",
         "domain": [
          0,
          1
         ],
         "rangemode": "tozero",
         "tickfont": {
          "size": 14
         },
         "title": {
          "font": {
           "size": 16
          },
          "text": "Share shots (in %)"
         }
        },
        "yaxis2": {
         "anchor": "x",
         "overlaying": "y",
         "rangemode": "tozero",
         "side": "right",
         "tickfont": {
          "size": 14
         },
         "title": {
          "font": {
           "size": 16
          },
          "text": "Goal (in %)"
         }
        }
       }
      },
      "text/html": [
       "<div>\n",
       "        \n",
       "        \n",
       "            <div id=\"891d95b5-c7a5-44c8-902e-d17379336a06\" class=\"plotly-graph-div\" style=\"height:525px; width:100%;\"></div>\n",
       "            <script type=\"text/javascript\">\n",
       "                require([\"plotly\"], function(Plotly) {\n",
       "                    window.PLOTLYENV=window.PLOTLYENV || {};\n",
       "                    \n",
       "                if (document.getElementById(\"891d95b5-c7a5-44c8-902e-d17379336a06\")) {\n",
       "                    Plotly.newPlot(\n",
       "                        '891d95b5-c7a5-44c8-902e-d17379336a06',\n",
       "                        [{\"name\": \"Goal (in %)\", \"type\": \"bar\", \"x\": [\"Head/body\", \"Left foot\", \"Right foot\"], \"y\": [16.468541606262686, 31.081472890692957, 52.44998550304436]}, {\"name\": \"Share shots (in %)\", \"type\": \"scatter\", \"x\": [\"Head/body\", \"Left foot\", \"Right foot\"], \"xaxis\": \"x\", \"y\": [12.676056338028168, 10.121268656716417, 10.668877833056937], \"yaxis\": \"y2\"}],\n",
       "                        {\"hovermode\": false, \"template\": {\"data\": {\"bar\": [{\"error_x\": {\"color\": \"#2a3f5f\"}, \"error_y\": {\"color\": \"#2a3f5f\"}, \"marker\": {\"line\": {\"color\": \"#E5ECF6\", \"width\": 0.5}}, \"type\": \"bar\"}], \"barpolar\": [{\"marker\": {\"line\": {\"color\": \"#E5ECF6\", \"width\": 0.5}}, \"type\": \"barpolar\"}], \"carpet\": [{\"aaxis\": {\"endlinecolor\": \"#2a3f5f\", \"gridcolor\": \"white\", \"linecolor\": \"white\", \"minorgridcolor\": \"white\", \"startlinecolor\": \"#2a3f5f\"}, \"baxis\": {\"endlinecolor\": \"#2a3f5f\", \"gridcolor\": \"white\", \"linecolor\": \"white\", \"minorgridcolor\": \"white\", \"startlinecolor\": \"#2a3f5f\"}, \"type\": \"carpet\"}], \"choropleth\": [{\"colorbar\": {\"outlinewidth\": 0, \"ticks\": \"\"}, \"type\": \"choropleth\"}], \"contour\": [{\"colorbar\": {\"outlinewidth\": 0, \"ticks\": \"\"}, \"colorscale\": [[0.0, \"#0d0887\"], [0.1111111111111111, \"#46039f\"], [0.2222222222222222, \"#7201a8\"], [0.3333333333333333, \"#9c179e\"], [0.4444444444444444, \"#bd3786\"], [0.5555555555555556, \"#d8576b\"], [0.6666666666666666, \"#ed7953\"], [0.7777777777777778, \"#fb9f3a\"], [0.8888888888888888, \"#fdca26\"], [1.0, \"#f0f921\"]], \"type\": \"contour\"}], \"contourcarpet\": [{\"colorbar\": {\"outlinewidth\": 0, \"ticks\": \"\"}, \"type\": \"contourcarpet\"}], \"heatmap\": [{\"colorbar\": {\"outlinewidth\": 0, \"ticks\": \"\"}, \"colorscale\": [[0.0, \"#0d0887\"], [0.1111111111111111, \"#46039f\"], [0.2222222222222222, \"#7201a8\"], [0.3333333333333333, \"#9c179e\"], [0.4444444444444444, \"#bd3786\"], [0.5555555555555556, \"#d8576b\"], [0.6666666666666666, \"#ed7953\"], [0.7777777777777778, \"#fb9f3a\"], [0.8888888888888888, \"#fdca26\"], [1.0, \"#f0f921\"]], \"type\": \"heatmap\"}], \"heatmapgl\": [{\"colorbar\": {\"outlinewidth\": 0, \"ticks\": \"\"}, \"colorscale\": [[0.0, \"#0d0887\"], [0.1111111111111111, \"#46039f\"], [0.2222222222222222, \"#7201a8\"], [0.3333333333333333, \"#9c179e\"], [0.4444444444444444, \"#bd3786\"], [0.5555555555555556, \"#d8576b\"], [0.6666666666666666, \"#ed7953\"], [0.7777777777777778, \"#fb9f3a\"], [0.8888888888888888, \"#fdca26\"], [1.0, \"#f0f921\"]], \"type\": \"heatmapgl\"}], \"histogram\": [{\"marker\": {\"colorbar\": {\"outlinewidth\": 0, \"ticks\": \"\"}}, \"type\": \"histogram\"}], \"histogram2d\": [{\"colorbar\": {\"outlinewidth\": 0, \"ticks\": \"\"}, \"colorscale\": [[0.0, \"#0d0887\"], [0.1111111111111111, \"#46039f\"], [0.2222222222222222, \"#7201a8\"], [0.3333333333333333, \"#9c179e\"], [0.4444444444444444, \"#bd3786\"], [0.5555555555555556, \"#d8576b\"], [0.6666666666666666, \"#ed7953\"], [0.7777777777777778, \"#fb9f3a\"], [0.8888888888888888, \"#fdca26\"], [1.0, \"#f0f921\"]], \"type\": \"histogram2d\"}], \"histogram2dcontour\": [{\"colorbar\": {\"outlinewidth\": 0, \"ticks\": \"\"}, \"colorscale\": [[0.0, \"#0d0887\"], [0.1111111111111111, \"#46039f\"], [0.2222222222222222, \"#7201a8\"], [0.3333333333333333, \"#9c179e\"], [0.4444444444444444, \"#bd3786\"], [0.5555555555555556, \"#d8576b\"], [0.6666666666666666, \"#ed7953\"], [0.7777777777777778, \"#fb9f3a\"], [0.8888888888888888, \"#fdca26\"], [1.0, \"#f0f921\"]], \"type\": \"histogram2dcontour\"}], \"mesh3d\": [{\"colorbar\": {\"outlinewidth\": 0, \"ticks\": \"\"}, \"type\": \"mesh3d\"}], \"parcoords\": [{\"line\": {\"colorbar\": {\"outlinewidth\": 0, \"ticks\": \"\"}}, \"type\": \"parcoords\"}], \"pie\": [{\"automargin\": true, \"type\": \"pie\"}], \"scatter\": [{\"marker\": {\"colorbar\": {\"outlinewidth\": 0, \"ticks\": \"\"}}, \"type\": \"scatter\"}], \"scatter3d\": [{\"line\": {\"colorbar\": {\"outlinewidth\": 0, \"ticks\": \"\"}}, \"marker\": {\"colorbar\": {\"outlinewidth\": 0, \"ticks\": \"\"}}, \"type\": \"scatter3d\"}], \"scattercarpet\": [{\"marker\": {\"colorbar\": {\"outlinewidth\": 0, \"ticks\": \"\"}}, \"type\": \"scattercarpet\"}], \"scattergeo\": [{\"marker\": {\"colorbar\": {\"outlinewidth\": 0, \"ticks\": \"\"}}, \"type\": \"scattergeo\"}], \"scattergl\": [{\"marker\": {\"colorbar\": {\"outlinewidth\": 0, \"ticks\": \"\"}}, \"type\": \"scattergl\"}], \"scattermapbox\": [{\"marker\": {\"colorbar\": {\"outlinewidth\": 0, \"ticks\": \"\"}}, \"type\": \"scattermapbox\"}], \"scatterpolar\": [{\"marker\": {\"colorbar\": {\"outlinewidth\": 0, \"ticks\": \"\"}}, \"type\": \"scatterpolar\"}], \"scatterpolargl\": [{\"marker\": {\"colorbar\": {\"outlinewidth\": 0, \"ticks\": \"\"}}, \"type\": \"scatterpolargl\"}], \"scatterternary\": [{\"marker\": {\"colorbar\": {\"outlinewidth\": 0, \"ticks\": \"\"}}, \"type\": \"scatterternary\"}], \"surface\": [{\"colorbar\": {\"outlinewidth\": 0, \"ticks\": \"\"}, \"colorscale\": [[0.0, \"#0d0887\"], [0.1111111111111111, \"#46039f\"], [0.2222222222222222, \"#7201a8\"], [0.3333333333333333, \"#9c179e\"], [0.4444444444444444, \"#bd3786\"], [0.5555555555555556, \"#d8576b\"], [0.6666666666666666, \"#ed7953\"], [0.7777777777777778, \"#fb9f3a\"], [0.8888888888888888, \"#fdca26\"], [1.0, \"#f0f921\"]], \"type\": \"surface\"}], \"table\": [{\"cells\": {\"fill\": {\"color\": \"#EBF0F8\"}, \"line\": {\"color\": \"white\"}}, \"header\": {\"fill\": {\"color\": \"#C8D4E3\"}, \"line\": {\"color\": \"white\"}}, \"type\": \"table\"}]}, \"layout\": {\"annotationdefaults\": {\"arrowcolor\": \"#2a3f5f\", \"arrowhead\": 0, \"arrowwidth\": 1}, \"coloraxis\": {\"colorbar\": {\"outlinewidth\": 0, \"ticks\": \"\"}}, \"colorscale\": {\"diverging\": [[0, \"#8e0152\"], [0.1, \"#c51b7d\"], [0.2, \"#de77ae\"], [0.3, \"#f1b6da\"], [0.4, \"#fde0ef\"], [0.5, \"#f7f7f7\"], [0.6, \"#e6f5d0\"], [0.7, \"#b8e186\"], [0.8, \"#7fbc41\"], [0.9, \"#4d9221\"], [1, \"#276419\"]], \"sequential\": [[0.0, \"#0d0887\"], [0.1111111111111111, \"#46039f\"], [0.2222222222222222, \"#7201a8\"], [0.3333333333333333, \"#9c179e\"], [0.4444444444444444, \"#bd3786\"], [0.5555555555555556, \"#d8576b\"], [0.6666666666666666, \"#ed7953\"], [0.7777777777777778, \"#fb9f3a\"], [0.8888888888888888, \"#fdca26\"], [1.0, \"#f0f921\"]], \"sequentialminus\": [[0.0, \"#0d0887\"], [0.1111111111111111, \"#46039f\"], [0.2222222222222222, \"#7201a8\"], [0.3333333333333333, \"#9c179e\"], [0.4444444444444444, \"#bd3786\"], [0.5555555555555556, \"#d8576b\"], [0.6666666666666666, \"#ed7953\"], [0.7777777777777778, \"#fb9f3a\"], [0.8888888888888888, \"#fdca26\"], [1.0, \"#f0f921\"]]}, \"colorway\": [\"#636efa\", \"#EF553B\", \"#00cc96\", \"#ab63fa\", \"#FFA15A\", \"#19d3f3\", \"#FF6692\", \"#B6E880\", \"#FF97FF\", \"#FECB52\"], \"font\": {\"color\": \"#2a3f5f\"}, \"geo\": {\"bgcolor\": \"white\", \"lakecolor\": \"white\", \"landcolor\": \"#E5ECF6\", \"showlakes\": true, \"showland\": true, \"subunitcolor\": \"white\"}, \"hoverlabel\": {\"align\": \"left\"}, \"hovermode\": \"closest\", \"mapbox\": {\"style\": \"light\"}, \"paper_bgcolor\": \"white\", \"plot_bgcolor\": \"#E5ECF6\", \"polar\": {\"angularaxis\": {\"gridcolor\": \"white\", \"linecolor\": \"white\", \"ticks\": \"\"}, \"bgcolor\": \"#E5ECF6\", \"radialaxis\": {\"gridcolor\": \"white\", \"linecolor\": \"white\", \"ticks\": \"\"}}, \"scene\": {\"xaxis\": {\"backgroundcolor\": \"#E5ECF6\", \"gridcolor\": \"white\", \"gridwidth\": 2, \"linecolor\": \"white\", \"showbackground\": true, \"ticks\": \"\", \"zerolinecolor\": \"white\"}, \"yaxis\": {\"backgroundcolor\": \"#E5ECF6\", \"gridcolor\": \"white\", \"gridwidth\": 2, \"linecolor\": \"white\", \"showbackground\": true, \"ticks\": \"\", \"zerolinecolor\": \"white\"}, \"zaxis\": {\"backgroundcolor\": \"#E5ECF6\", \"gridcolor\": \"white\", \"gridwidth\": 2, \"linecolor\": \"white\", \"showbackground\": true, \"ticks\": \"\", \"zerolinecolor\": \"white\"}}, \"shapedefaults\": {\"line\": {\"color\": \"#2a3f5f\"}}, \"ternary\": {\"aaxis\": {\"gridcolor\": \"white\", \"linecolor\": \"white\", \"ticks\": \"\"}, \"baxis\": {\"gridcolor\": \"white\", \"linecolor\": \"white\", \"ticks\": \"\"}, \"bgcolor\": \"#E5ECF6\", \"caxis\": {\"gridcolor\": \"white\", \"linecolor\": \"white\", \"ticks\": \"\"}}, \"title\": {\"x\": 0.05}, \"xaxis\": {\"automargin\": true, \"gridcolor\": \"white\", \"linecolor\": \"white\", \"ticks\": \"\", \"title\": {\"standoff\": 15}, \"zerolinecolor\": \"white\", \"zerolinewidth\": 2}, \"yaxis\": {\"automargin\": true, \"gridcolor\": \"white\", \"linecolor\": \"white\", \"ticks\": \"\", \"title\": {\"standoff\": 15}, \"zerolinecolor\": \"white\", \"zerolinewidth\": 2}}}, \"title\": {\"text\": \"Foot vs header\"}, \"xaxis\": {\"anchor\": \"y\", \"domain\": [0.0, 0.94]}, \"yaxis\": {\"anchor\": \"x\", \"domain\": [0.0, 1.0], \"rangemode\": \"tozero\", \"tickfont\": {\"size\": 14}, \"title\": {\"font\": {\"size\": 16}, \"text\": \"Share shots (in %)\"}}, \"yaxis2\": {\"anchor\": \"x\", \"overlaying\": \"y\", \"rangemode\": \"tozero\", \"side\": \"right\", \"tickfont\": {\"size\": 14}, \"title\": {\"font\": {\"size\": 16}, \"text\": \"Goal (in %)\"}}},\n",
       "                        {\"responsive\": true}\n",
       "                    ).then(function(){\n",
       "                            \n",
       "var gd = document.getElementById('891d95b5-c7a5-44c8-902e-d17379336a06');\n",
       "var x = new MutationObserver(function (mutations, observer) {{\n",
       "        var display = window.getComputedStyle(gd).display;\n",
       "        if (!display || display === 'none') {{\n",
       "            console.log([gd, 'removed!']);\n",
       "            Plotly.purge(gd);\n",
       "            observer.disconnect();\n",
       "        }}\n",
       "}});\n",
       "\n",
       "// Listen for the removal of the full notebook cells\n",
       "var notebookContainer = gd.closest('#notebook-container');\n",
       "if (notebookContainer) {{\n",
       "    x.observe(notebookContainer, {childList: true});\n",
       "}}\n",
       "\n",
       "// Listen for the clearing of the current output cell\n",
       "var outputEl = gd.closest('.output');\n",
       "if (outputEl) {{\n",
       "    x.observe(outputEl, {childList: true});\n",
       "}}\n",
       "\n",
       "                        })\n",
       "                };\n",
       "                });\n",
       "            </script>\n",
       "        </div>"
      ]
     },
     "metadata": {},
     "output_type": "display_data"
    }
   ],
   "source": [
    "target_col = \"Goal\"\n",
    "y1_axis_name = \"Share shots (in %)\"\n",
    "y2_axis_name = \"Goal (in %)\"\n",
    "\n",
    "\n",
    "graph_shot_foot = create_univariate_variable_graph(df_shots, comb_col, target_col, y1_axis_name, y2_axis_name,\n",
    "                                        title_name=\"Foot vs header\")\n",
    "graph_shot_foot.show()"
   ]
  },
  {
   "cell_type": "code",
   "execution_count": 346,
   "metadata": {},
   "outputs": [],
   "source": [
    "df_shots_close = df_shots[df_shots[\"posBeforeXMeters\"] > FIELD_LENGTH - 16].copy()\n",
    "graph_shot_close = create_univariate_variable_graph(df_shots_close, comb_col, target_col, y1_axis_name, y2_axis_name,\n",
    "                                         title_name=\"Foot vs. head - Close distance\")"
   ]
  },
  {
   "cell_type": "code",
   "execution_count": 347,
   "metadata": {},
   "outputs": [
    {
     "data": {
      "application/vnd.plotly.v1+json": {
       "config": {
        "plotlyServerURL": "https://plot.ly"
       },
       "data": [
        {
         "name": "Goal (in %)",
         "type": "bar",
         "x": [
          "Head/body",
          "Left foot",
          "Right foot"
         ],
         "y": [
          26.70940170940171,
          28.513770180436847,
          44.776828110161446
         ]
        },
        {
         "name": "Share shots (in %)",
         "type": "scatter",
         "x": [
          "Head/body",
          "Left foot",
          "Right foot"
         ],
         "xaxis": "x",
         "y": [
          12.622222222222224,
          15.736885928393004,
          17.762460233297986
         ],
         "yaxis": "y2"
        }
       ],
       "layout": {
        "hovermode": false,
        "template": {
         "data": {
          "bar": [
           {
            "error_x": {
             "color": "#2a3f5f"
            },
            "error_y": {
             "color": "#2a3f5f"
            },
            "marker": {
             "line": {
              "color": "#E5ECF6",
              "width": 0.5
             }
            },
            "type": "bar"
           }
          ],
          "barpolar": [
           {
            "marker": {
             "line": {
              "color": "#E5ECF6",
              "width": 0.5
             }
            },
            "type": "barpolar"
           }
          ],
          "carpet": [
           {
            "aaxis": {
             "endlinecolor": "#2a3f5f",
             "gridcolor": "white",
             "linecolor": "white",
             "minorgridcolor": "white",
             "startlinecolor": "#2a3f5f"
            },
            "baxis": {
             "endlinecolor": "#2a3f5f",
             "gridcolor": "white",
             "linecolor": "white",
             "minorgridcolor": "white",
             "startlinecolor": "#2a3f5f"
            },
            "type": "carpet"
           }
          ],
          "choropleth": [
           {
            "colorbar": {
             "outlinewidth": 0,
             "ticks": ""
            },
            "type": "choropleth"
           }
          ],
          "contour": [
           {
            "colorbar": {
             "outlinewidth": 0,
             "ticks": ""
            },
            "colorscale": [
             [
              0,
              "#0d0887"
             ],
             [
              0.1111111111111111,
              "#46039f"
             ],
             [
              0.2222222222222222,
              "#7201a8"
             ],
             [
              0.3333333333333333,
              "#9c179e"
             ],
             [
              0.4444444444444444,
              "#bd3786"
             ],
             [
              0.5555555555555556,
              "#d8576b"
             ],
             [
              0.6666666666666666,
              "#ed7953"
             ],
             [
              0.7777777777777778,
              "#fb9f3a"
             ],
             [
              0.8888888888888888,
              "#fdca26"
             ],
             [
              1,
              "#f0f921"
             ]
            ],
            "type": "contour"
           }
          ],
          "contourcarpet": [
           {
            "colorbar": {
             "outlinewidth": 0,
             "ticks": ""
            },
            "type": "contourcarpet"
           }
          ],
          "heatmap": [
           {
            "colorbar": {
             "outlinewidth": 0,
             "ticks": ""
            },
            "colorscale": [
             [
              0,
              "#0d0887"
             ],
             [
              0.1111111111111111,
              "#46039f"
             ],
             [
              0.2222222222222222,
              "#7201a8"
             ],
             [
              0.3333333333333333,
              "#9c179e"
             ],
             [
              0.4444444444444444,
              "#bd3786"
             ],
             [
              0.5555555555555556,
              "#d8576b"
             ],
             [
              0.6666666666666666,
              "#ed7953"
             ],
             [
              0.7777777777777778,
              "#fb9f3a"
             ],
             [
              0.8888888888888888,
              "#fdca26"
             ],
             [
              1,
              "#f0f921"
             ]
            ],
            "type": "heatmap"
           }
          ],
          "heatmapgl": [
           {
            "colorbar": {
             "outlinewidth": 0,
             "ticks": ""
            },
            "colorscale": [
             [
              0,
              "#0d0887"
             ],
             [
              0.1111111111111111,
              "#46039f"
             ],
             [
              0.2222222222222222,
              "#7201a8"
             ],
             [
              0.3333333333333333,
              "#9c179e"
             ],
             [
              0.4444444444444444,
              "#bd3786"
             ],
             [
              0.5555555555555556,
              "#d8576b"
             ],
             [
              0.6666666666666666,
              "#ed7953"
             ],
             [
              0.7777777777777778,
              "#fb9f3a"
             ],
             [
              0.8888888888888888,
              "#fdca26"
             ],
             [
              1,
              "#f0f921"
             ]
            ],
            "type": "heatmapgl"
           }
          ],
          "histogram": [
           {
            "marker": {
             "colorbar": {
              "outlinewidth": 0,
              "ticks": ""
             }
            },
            "type": "histogram"
           }
          ],
          "histogram2d": [
           {
            "colorbar": {
             "outlinewidth": 0,
             "ticks": ""
            },
            "colorscale": [
             [
              0,
              "#0d0887"
             ],
             [
              0.1111111111111111,
              "#46039f"
             ],
             [
              0.2222222222222222,
              "#7201a8"
             ],
             [
              0.3333333333333333,
              "#9c179e"
             ],
             [
              0.4444444444444444,
              "#bd3786"
             ],
             [
              0.5555555555555556,
              "#d8576b"
             ],
             [
              0.6666666666666666,
              "#ed7953"
             ],
             [
              0.7777777777777778,
              "#fb9f3a"
             ],
             [
              0.8888888888888888,
              "#fdca26"
             ],
             [
              1,
              "#f0f921"
             ]
            ],
            "type": "histogram2d"
           }
          ],
          "histogram2dcontour": [
           {
            "colorbar": {
             "outlinewidth": 0,
             "ticks": ""
            },
            "colorscale": [
             [
              0,
              "#0d0887"
             ],
             [
              0.1111111111111111,
              "#46039f"
             ],
             [
              0.2222222222222222,
              "#7201a8"
             ],
             [
              0.3333333333333333,
              "#9c179e"
             ],
             [
              0.4444444444444444,
              "#bd3786"
             ],
             [
              0.5555555555555556,
              "#d8576b"
             ],
             [
              0.6666666666666666,
              "#ed7953"
             ],
             [
              0.7777777777777778,
              "#fb9f3a"
             ],
             [
              0.8888888888888888,
              "#fdca26"
             ],
             [
              1,
              "#f0f921"
             ]
            ],
            "type": "histogram2dcontour"
           }
          ],
          "mesh3d": [
           {
            "colorbar": {
             "outlinewidth": 0,
             "ticks": ""
            },
            "type": "mesh3d"
           }
          ],
          "parcoords": [
           {
            "line": {
             "colorbar": {
              "outlinewidth": 0,
              "ticks": ""
             }
            },
            "type": "parcoords"
           }
          ],
          "pie": [
           {
            "automargin": true,
            "type": "pie"
           }
          ],
          "scatter": [
           {
            "marker": {
             "colorbar": {
              "outlinewidth": 0,
              "ticks": ""
             }
            },
            "type": "scatter"
           }
          ],
          "scatter3d": [
           {
            "line": {
             "colorbar": {
              "outlinewidth": 0,
              "ticks": ""
             }
            },
            "marker": {
             "colorbar": {
              "outlinewidth": 0,
              "ticks": ""
             }
            },
            "type": "scatter3d"
           }
          ],
          "scattercarpet": [
           {
            "marker": {
             "colorbar": {
              "outlinewidth": 0,
              "ticks": ""
             }
            },
            "type": "scattercarpet"
           }
          ],
          "scattergeo": [
           {
            "marker": {
             "colorbar": {
              "outlinewidth": 0,
              "ticks": ""
             }
            },
            "type": "scattergeo"
           }
          ],
          "scattergl": [
           {
            "marker": {
             "colorbar": {
              "outlinewidth": 0,
              "ticks": ""
             }
            },
            "type": "scattergl"
           }
          ],
          "scattermapbox": [
           {
            "marker": {
             "colorbar": {
              "outlinewidth": 0,
              "ticks": ""
             }
            },
            "type": "scattermapbox"
           }
          ],
          "scatterpolar": [
           {
            "marker": {
             "colorbar": {
              "outlinewidth": 0,
              "ticks": ""
             }
            },
            "type": "scatterpolar"
           }
          ],
          "scatterpolargl": [
           {
            "marker": {
             "colorbar": {
              "outlinewidth": 0,
              "ticks": ""
             }
            },
            "type": "scatterpolargl"
           }
          ],
          "scatterternary": [
           {
            "marker": {
             "colorbar": {
              "outlinewidth": 0,
              "ticks": ""
             }
            },
            "type": "scatterternary"
           }
          ],
          "surface": [
           {
            "colorbar": {
             "outlinewidth": 0,
             "ticks": ""
            },
            "colorscale": [
             [
              0,
              "#0d0887"
             ],
             [
              0.1111111111111111,
              "#46039f"
             ],
             [
              0.2222222222222222,
              "#7201a8"
             ],
             [
              0.3333333333333333,
              "#9c179e"
             ],
             [
              0.4444444444444444,
              "#bd3786"
             ],
             [
              0.5555555555555556,
              "#d8576b"
             ],
             [
              0.6666666666666666,
              "#ed7953"
             ],
             [
              0.7777777777777778,
              "#fb9f3a"
             ],
             [
              0.8888888888888888,
              "#fdca26"
             ],
             [
              1,
              "#f0f921"
             ]
            ],
            "type": "surface"
           }
          ],
          "table": [
           {
            "cells": {
             "fill": {
              "color": "#EBF0F8"
             },
             "line": {
              "color": "white"
             }
            },
            "header": {
             "fill": {
              "color": "#C8D4E3"
             },
             "line": {
              "color": "white"
             }
            },
            "type": "table"
           }
          ]
         },
         "layout": {
          "annotationdefaults": {
           "arrowcolor": "#2a3f5f",
           "arrowhead": 0,
           "arrowwidth": 1
          },
          "coloraxis": {
           "colorbar": {
            "outlinewidth": 0,
            "ticks": ""
           }
          },
          "colorscale": {
           "diverging": [
            [
             0,
             "#8e0152"
            ],
            [
             0.1,
             "#c51b7d"
            ],
            [
             0.2,
             "#de77ae"
            ],
            [
             0.3,
             "#f1b6da"
            ],
            [
             0.4,
             "#fde0ef"
            ],
            [
             0.5,
             "#f7f7f7"
            ],
            [
             0.6,
             "#e6f5d0"
            ],
            [
             0.7,
             "#b8e186"
            ],
            [
             0.8,
             "#7fbc41"
            ],
            [
             0.9,
             "#4d9221"
            ],
            [
             1,
             "#276419"
            ]
           ],
           "sequential": [
            [
             0,
             "#0d0887"
            ],
            [
             0.1111111111111111,
             "#46039f"
            ],
            [
             0.2222222222222222,
             "#7201a8"
            ],
            [
             0.3333333333333333,
             "#9c179e"
            ],
            [
             0.4444444444444444,
             "#bd3786"
            ],
            [
             0.5555555555555556,
             "#d8576b"
            ],
            [
             0.6666666666666666,
             "#ed7953"
            ],
            [
             0.7777777777777778,
             "#fb9f3a"
            ],
            [
             0.8888888888888888,
             "#fdca26"
            ],
            [
             1,
             "#f0f921"
            ]
           ],
           "sequentialminus": [
            [
             0,
             "#0d0887"
            ],
            [
             0.1111111111111111,
             "#46039f"
            ],
            [
             0.2222222222222222,
             "#7201a8"
            ],
            [
             0.3333333333333333,
             "#9c179e"
            ],
            [
             0.4444444444444444,
             "#bd3786"
            ],
            [
             0.5555555555555556,
             "#d8576b"
            ],
            [
             0.6666666666666666,
             "#ed7953"
            ],
            [
             0.7777777777777778,
             "#fb9f3a"
            ],
            [
             0.8888888888888888,
             "#fdca26"
            ],
            [
             1,
             "#f0f921"
            ]
           ]
          },
          "colorway": [
           "#636efa",
           "#EF553B",
           "#00cc96",
           "#ab63fa",
           "#FFA15A",
           "#19d3f3",
           "#FF6692",
           "#B6E880",
           "#FF97FF",
           "#FECB52"
          ],
          "font": {
           "color": "#2a3f5f"
          },
          "geo": {
           "bgcolor": "white",
           "lakecolor": "white",
           "landcolor": "#E5ECF6",
           "showlakes": true,
           "showland": true,
           "subunitcolor": "white"
          },
          "hoverlabel": {
           "align": "left"
          },
          "hovermode": "closest",
          "mapbox": {
           "style": "light"
          },
          "paper_bgcolor": "white",
          "plot_bgcolor": "#E5ECF6",
          "polar": {
           "angularaxis": {
            "gridcolor": "white",
            "linecolor": "white",
            "ticks": ""
           },
           "bgcolor": "#E5ECF6",
           "radialaxis": {
            "gridcolor": "white",
            "linecolor": "white",
            "ticks": ""
           }
          },
          "scene": {
           "xaxis": {
            "backgroundcolor": "#E5ECF6",
            "gridcolor": "white",
            "gridwidth": 2,
            "linecolor": "white",
            "showbackground": true,
            "ticks": "",
            "zerolinecolor": "white"
           },
           "yaxis": {
            "backgroundcolor": "#E5ECF6",
            "gridcolor": "white",
            "gridwidth": 2,
            "linecolor": "white",
            "showbackground": true,
            "ticks": "",
            "zerolinecolor": "white"
           },
           "zaxis": {
            "backgroundcolor": "#E5ECF6",
            "gridcolor": "white",
            "gridwidth": 2,
            "linecolor": "white",
            "showbackground": true,
            "ticks": "",
            "zerolinecolor": "white"
           }
          },
          "shapedefaults": {
           "line": {
            "color": "#2a3f5f"
           }
          },
          "ternary": {
           "aaxis": {
            "gridcolor": "white",
            "linecolor": "white",
            "ticks": ""
           },
           "baxis": {
            "gridcolor": "white",
            "linecolor": "white",
            "ticks": ""
           },
           "bgcolor": "#E5ECF6",
           "caxis": {
            "gridcolor": "white",
            "linecolor": "white",
            "ticks": ""
           }
          },
          "title": {
           "x": 0.05
          },
          "xaxis": {
           "automargin": true,
           "gridcolor": "white",
           "linecolor": "white",
           "ticks": "",
           "title": {
            "standoff": 15
           },
           "zerolinecolor": "white",
           "zerolinewidth": 2
          },
          "yaxis": {
           "automargin": true,
           "gridcolor": "white",
           "linecolor": "white",
           "ticks": "",
           "title": {
            "standoff": 15
           },
           "zerolinecolor": "white",
           "zerolinewidth": 2
          }
         }
        },
        "title": {
         "text": "Foot vs. head - Close distance"
        },
        "xaxis": {
         "anchor": "y",
         "domain": [
          0,
          0.94
         ]
        },
        "yaxis": {
         "anchor": "x",
         "domain": [
          0,
          1
         ],
         "rangemode": "tozero",
         "tickfont": {
          "size": 14
         },
         "title": {
          "font": {
           "size": 16
          },
          "text": "Share shots (in %)"
         }
        },
        "yaxis2": {
         "anchor": "x",
         "overlaying": "y",
         "rangemode": "tozero",
         "side": "right",
         "tickfont": {
          "size": 14
         },
         "title": {
          "font": {
           "size": 16
          },
          "text": "Goal (in %)"
         }
        }
       }
      },
      "text/html": [
       "<div>\n",
       "        \n",
       "        \n",
       "            <div id=\"707313f0-9da8-4b2a-8004-78396e51eea6\" class=\"plotly-graph-div\" style=\"height:525px; width:100%;\"></div>\n",
       "            <script type=\"text/javascript\">\n",
       "                require([\"plotly\"], function(Plotly) {\n",
       "                    window.PLOTLYENV=window.PLOTLYENV || {};\n",
       "                    \n",
       "                if (document.getElementById(\"707313f0-9da8-4b2a-8004-78396e51eea6\")) {\n",
       "                    Plotly.newPlot(\n",
       "                        '707313f0-9da8-4b2a-8004-78396e51eea6',\n",
       "                        [{\"name\": \"Goal (in %)\", \"type\": \"bar\", \"x\": [\"Head/body\", \"Left foot\", \"Right foot\"], \"y\": [26.70940170940171, 28.513770180436847, 44.776828110161446]}, {\"name\": \"Share shots (in %)\", \"type\": \"scatter\", \"x\": [\"Head/body\", \"Left foot\", \"Right foot\"], \"xaxis\": \"x\", \"y\": [12.622222222222224, 15.736885928393004, 17.762460233297986], \"yaxis\": \"y2\"}],\n",
       "                        {\"hovermode\": false, \"template\": {\"data\": {\"bar\": [{\"error_x\": {\"color\": \"#2a3f5f\"}, \"error_y\": {\"color\": \"#2a3f5f\"}, \"marker\": {\"line\": {\"color\": \"#E5ECF6\", \"width\": 0.5}}, \"type\": \"bar\"}], \"barpolar\": [{\"marker\": {\"line\": {\"color\": \"#E5ECF6\", \"width\": 0.5}}, \"type\": \"barpolar\"}], \"carpet\": [{\"aaxis\": {\"endlinecolor\": \"#2a3f5f\", \"gridcolor\": \"white\", \"linecolor\": \"white\", \"minorgridcolor\": \"white\", \"startlinecolor\": \"#2a3f5f\"}, \"baxis\": {\"endlinecolor\": \"#2a3f5f\", \"gridcolor\": \"white\", \"linecolor\": \"white\", \"minorgridcolor\": \"white\", \"startlinecolor\": \"#2a3f5f\"}, \"type\": \"carpet\"}], \"choropleth\": [{\"colorbar\": {\"outlinewidth\": 0, \"ticks\": \"\"}, \"type\": \"choropleth\"}], \"contour\": [{\"colorbar\": {\"outlinewidth\": 0, \"ticks\": \"\"}, \"colorscale\": [[0.0, \"#0d0887\"], [0.1111111111111111, \"#46039f\"], [0.2222222222222222, \"#7201a8\"], [0.3333333333333333, \"#9c179e\"], [0.4444444444444444, \"#bd3786\"], [0.5555555555555556, \"#d8576b\"], [0.6666666666666666, \"#ed7953\"], [0.7777777777777778, \"#fb9f3a\"], [0.8888888888888888, \"#fdca26\"], [1.0, \"#f0f921\"]], \"type\": \"contour\"}], \"contourcarpet\": [{\"colorbar\": {\"outlinewidth\": 0, \"ticks\": \"\"}, \"type\": \"contourcarpet\"}], \"heatmap\": [{\"colorbar\": {\"outlinewidth\": 0, \"ticks\": \"\"}, \"colorscale\": [[0.0, \"#0d0887\"], [0.1111111111111111, \"#46039f\"], [0.2222222222222222, \"#7201a8\"], [0.3333333333333333, \"#9c179e\"], [0.4444444444444444, \"#bd3786\"], [0.5555555555555556, \"#d8576b\"], [0.6666666666666666, \"#ed7953\"], [0.7777777777777778, \"#fb9f3a\"], [0.8888888888888888, \"#fdca26\"], [1.0, \"#f0f921\"]], \"type\": \"heatmap\"}], \"heatmapgl\": [{\"colorbar\": {\"outlinewidth\": 0, \"ticks\": \"\"}, \"colorscale\": [[0.0, \"#0d0887\"], [0.1111111111111111, \"#46039f\"], [0.2222222222222222, \"#7201a8\"], [0.3333333333333333, \"#9c179e\"], [0.4444444444444444, \"#bd3786\"], [0.5555555555555556, \"#d8576b\"], [0.6666666666666666, \"#ed7953\"], [0.7777777777777778, \"#fb9f3a\"], [0.8888888888888888, \"#fdca26\"], [1.0, \"#f0f921\"]], \"type\": \"heatmapgl\"}], \"histogram\": [{\"marker\": {\"colorbar\": {\"outlinewidth\": 0, \"ticks\": \"\"}}, \"type\": \"histogram\"}], \"histogram2d\": [{\"colorbar\": {\"outlinewidth\": 0, \"ticks\": \"\"}, \"colorscale\": [[0.0, \"#0d0887\"], [0.1111111111111111, \"#46039f\"], [0.2222222222222222, \"#7201a8\"], [0.3333333333333333, \"#9c179e\"], [0.4444444444444444, \"#bd3786\"], [0.5555555555555556, \"#d8576b\"], [0.6666666666666666, \"#ed7953\"], [0.7777777777777778, \"#fb9f3a\"], [0.8888888888888888, \"#fdca26\"], [1.0, \"#f0f921\"]], \"type\": \"histogram2d\"}], \"histogram2dcontour\": [{\"colorbar\": {\"outlinewidth\": 0, \"ticks\": \"\"}, \"colorscale\": [[0.0, \"#0d0887\"], [0.1111111111111111, \"#46039f\"], [0.2222222222222222, \"#7201a8\"], [0.3333333333333333, \"#9c179e\"], [0.4444444444444444, \"#bd3786\"], [0.5555555555555556, \"#d8576b\"], [0.6666666666666666, \"#ed7953\"], [0.7777777777777778, \"#fb9f3a\"], [0.8888888888888888, \"#fdca26\"], [1.0, \"#f0f921\"]], \"type\": \"histogram2dcontour\"}], \"mesh3d\": [{\"colorbar\": {\"outlinewidth\": 0, \"ticks\": \"\"}, \"type\": \"mesh3d\"}], \"parcoords\": [{\"line\": {\"colorbar\": {\"outlinewidth\": 0, \"ticks\": \"\"}}, \"type\": \"parcoords\"}], \"pie\": [{\"automargin\": true, \"type\": \"pie\"}], \"scatter\": [{\"marker\": {\"colorbar\": {\"outlinewidth\": 0, \"ticks\": \"\"}}, \"type\": \"scatter\"}], \"scatter3d\": [{\"line\": {\"colorbar\": {\"outlinewidth\": 0, \"ticks\": \"\"}}, \"marker\": {\"colorbar\": {\"outlinewidth\": 0, \"ticks\": \"\"}}, \"type\": \"scatter3d\"}], \"scattercarpet\": [{\"marker\": {\"colorbar\": {\"outlinewidth\": 0, \"ticks\": \"\"}}, \"type\": \"scattercarpet\"}], \"scattergeo\": [{\"marker\": {\"colorbar\": {\"outlinewidth\": 0, \"ticks\": \"\"}}, \"type\": \"scattergeo\"}], \"scattergl\": [{\"marker\": {\"colorbar\": {\"outlinewidth\": 0, \"ticks\": \"\"}}, \"type\": \"scattergl\"}], \"scattermapbox\": [{\"marker\": {\"colorbar\": {\"outlinewidth\": 0, \"ticks\": \"\"}}, \"type\": \"scattermapbox\"}], \"scatterpolar\": [{\"marker\": {\"colorbar\": {\"outlinewidth\": 0, \"ticks\": \"\"}}, \"type\": \"scatterpolar\"}], \"scatterpolargl\": [{\"marker\": {\"colorbar\": {\"outlinewidth\": 0, \"ticks\": \"\"}}, \"type\": \"scatterpolargl\"}], \"scatterternary\": [{\"marker\": {\"colorbar\": {\"outlinewidth\": 0, \"ticks\": \"\"}}, \"type\": \"scatterternary\"}], \"surface\": [{\"colorbar\": {\"outlinewidth\": 0, \"ticks\": \"\"}, \"colorscale\": [[0.0, \"#0d0887\"], [0.1111111111111111, \"#46039f\"], [0.2222222222222222, \"#7201a8\"], [0.3333333333333333, \"#9c179e\"], [0.4444444444444444, \"#bd3786\"], [0.5555555555555556, \"#d8576b\"], [0.6666666666666666, \"#ed7953\"], [0.7777777777777778, \"#fb9f3a\"], [0.8888888888888888, \"#fdca26\"], [1.0, \"#f0f921\"]], \"type\": \"surface\"}], \"table\": [{\"cells\": {\"fill\": {\"color\": \"#EBF0F8\"}, \"line\": {\"color\": \"white\"}}, \"header\": {\"fill\": {\"color\": \"#C8D4E3\"}, \"line\": {\"color\": \"white\"}}, \"type\": \"table\"}]}, \"layout\": {\"annotationdefaults\": {\"arrowcolor\": \"#2a3f5f\", \"arrowhead\": 0, \"arrowwidth\": 1}, \"coloraxis\": {\"colorbar\": {\"outlinewidth\": 0, \"ticks\": \"\"}}, \"colorscale\": {\"diverging\": [[0, \"#8e0152\"], [0.1, \"#c51b7d\"], [0.2, \"#de77ae\"], [0.3, \"#f1b6da\"], [0.4, \"#fde0ef\"], [0.5, \"#f7f7f7\"], [0.6, \"#e6f5d0\"], [0.7, \"#b8e186\"], [0.8, \"#7fbc41\"], [0.9, \"#4d9221\"], [1, \"#276419\"]], \"sequential\": [[0.0, \"#0d0887\"], [0.1111111111111111, \"#46039f\"], [0.2222222222222222, \"#7201a8\"], [0.3333333333333333, \"#9c179e\"], [0.4444444444444444, \"#bd3786\"], [0.5555555555555556, \"#d8576b\"], [0.6666666666666666, \"#ed7953\"], [0.7777777777777778, \"#fb9f3a\"], [0.8888888888888888, \"#fdca26\"], [1.0, \"#f0f921\"]], \"sequentialminus\": [[0.0, \"#0d0887\"], [0.1111111111111111, \"#46039f\"], [0.2222222222222222, \"#7201a8\"], [0.3333333333333333, \"#9c179e\"], [0.4444444444444444, \"#bd3786\"], [0.5555555555555556, \"#d8576b\"], [0.6666666666666666, \"#ed7953\"], [0.7777777777777778, \"#fb9f3a\"], [0.8888888888888888, \"#fdca26\"], [1.0, \"#f0f921\"]]}, \"colorway\": [\"#636efa\", \"#EF553B\", \"#00cc96\", \"#ab63fa\", \"#FFA15A\", \"#19d3f3\", \"#FF6692\", \"#B6E880\", \"#FF97FF\", \"#FECB52\"], \"font\": {\"color\": \"#2a3f5f\"}, \"geo\": {\"bgcolor\": \"white\", \"lakecolor\": \"white\", \"landcolor\": \"#E5ECF6\", \"showlakes\": true, \"showland\": true, \"subunitcolor\": \"white\"}, \"hoverlabel\": {\"align\": \"left\"}, \"hovermode\": \"closest\", \"mapbox\": {\"style\": \"light\"}, \"paper_bgcolor\": \"white\", \"plot_bgcolor\": \"#E5ECF6\", \"polar\": {\"angularaxis\": {\"gridcolor\": \"white\", \"linecolor\": \"white\", \"ticks\": \"\"}, \"bgcolor\": \"#E5ECF6\", \"radialaxis\": {\"gridcolor\": \"white\", \"linecolor\": \"white\", \"ticks\": \"\"}}, \"scene\": {\"xaxis\": {\"backgroundcolor\": \"#E5ECF6\", \"gridcolor\": \"white\", \"gridwidth\": 2, \"linecolor\": \"white\", \"showbackground\": true, \"ticks\": \"\", \"zerolinecolor\": \"white\"}, \"yaxis\": {\"backgroundcolor\": \"#E5ECF6\", \"gridcolor\": \"white\", \"gridwidth\": 2, \"linecolor\": \"white\", \"showbackground\": true, \"ticks\": \"\", \"zerolinecolor\": \"white\"}, \"zaxis\": {\"backgroundcolor\": \"#E5ECF6\", \"gridcolor\": \"white\", \"gridwidth\": 2, \"linecolor\": \"white\", \"showbackground\": true, \"ticks\": \"\", \"zerolinecolor\": \"white\"}}, \"shapedefaults\": {\"line\": {\"color\": \"#2a3f5f\"}}, \"ternary\": {\"aaxis\": {\"gridcolor\": \"white\", \"linecolor\": \"white\", \"ticks\": \"\"}, \"baxis\": {\"gridcolor\": \"white\", \"linecolor\": \"white\", \"ticks\": \"\"}, \"bgcolor\": \"#E5ECF6\", \"caxis\": {\"gridcolor\": \"white\", \"linecolor\": \"white\", \"ticks\": \"\"}}, \"title\": {\"x\": 0.05}, \"xaxis\": {\"automargin\": true, \"gridcolor\": \"white\", \"linecolor\": \"white\", \"ticks\": \"\", \"title\": {\"standoff\": 15}, \"zerolinecolor\": \"white\", \"zerolinewidth\": 2}, \"yaxis\": {\"automargin\": true, \"gridcolor\": \"white\", \"linecolor\": \"white\", \"ticks\": \"\", \"title\": {\"standoff\": 15}, \"zerolinecolor\": \"white\", \"zerolinewidth\": 2}}}, \"title\": {\"text\": \"Foot vs. head - Close distance\"}, \"xaxis\": {\"anchor\": \"y\", \"domain\": [0.0, 0.94]}, \"yaxis\": {\"anchor\": \"x\", \"domain\": [0.0, 1.0], \"rangemode\": \"tozero\", \"tickfont\": {\"size\": 14}, \"title\": {\"font\": {\"size\": 16}, \"text\": \"Share shots (in %)\"}}, \"yaxis2\": {\"anchor\": \"x\", \"overlaying\": \"y\", \"rangemode\": \"tozero\", \"side\": \"right\", \"tickfont\": {\"size\": 14}, \"title\": {\"font\": {\"size\": 16}, \"text\": \"Goal (in %)\"}}},\n",
       "                        {\"responsive\": true}\n",
       "                    ).then(function(){\n",
       "                            \n",
       "var gd = document.getElementById('707313f0-9da8-4b2a-8004-78396e51eea6');\n",
       "var x = new MutationObserver(function (mutations, observer) {{\n",
       "        var display = window.getComputedStyle(gd).display;\n",
       "        if (!display || display === 'none') {{\n",
       "            console.log([gd, 'removed!']);\n",
       "            Plotly.purge(gd);\n",
       "            observer.disconnect();\n",
       "        }}\n",
       "}});\n",
       "\n",
       "// Listen for the removal of the full notebook cells\n",
       "var notebookContainer = gd.closest('#notebook-container');\n",
       "if (notebookContainer) {{\n",
       "    x.observe(notebookContainer, {childList: true});\n",
       "}}\n",
       "\n",
       "// Listen for the clearing of the current output cell\n",
       "var outputEl = gd.closest('.output');\n",
       "if (outputEl) {{\n",
       "    x.observe(outputEl, {childList: true});\n",
       "}}\n",
       "\n",
       "                        })\n",
       "                };\n",
       "                });\n",
       "            </script>\n",
       "        </div>"
      ]
     },
     "metadata": {},
     "output_type": "display_data"
    }
   ],
   "source": [
    "graph_shot_close.show()"
   ]
  },
  {
   "cell_type": "code",
   "execution_count": 356,
   "metadata": {},
   "outputs": [],
   "source": [
    "df_shots_long = df_shots[df_shots[\"posBeforeXMeters\"] <= FIELD_LENGTH - 16].copy()\n",
    "graph_shot_long = create_univariate_variable_graph(df_shots_long, comb_col, target_col, y1_axis_name, y2_axis_name,\n",
    "                                         title_name=\"Foot vs. head - Long distance\")"
   ]
  },
  {
   "cell_type": "code",
   "execution_count": 357,
   "metadata": {},
   "outputs": [
    {
     "data": {
      "application/vnd.plotly.v1+json": {
       "config": {
        "plotlyServerURL": "https://plot.ly"
       },
       "data": [
        {
         "name": "Goal (in %)",
         "type": "bar",
         "x": [
          "Head/body",
          "Left foot",
          "Right foot"
         ],
         "y": [
          0.4095309009679821,
          35.10796723752792,
          64.48250186150409
         ]
        },
        {
         "name": "Share shots (in %)",
         "type": "scatter",
         "x": [
          "Head/body",
          "Left foot",
          "Right foot"
         ],
         "xaxis": "x",
         "y": [
          18.181818181818183,
          2.9692470837751856,
          2.9445727482678983
         ],
         "yaxis": "y2"
        }
       ],
       "layout": {
        "hovermode": false,
        "template": {
         "data": {
          "bar": [
           {
            "error_x": {
             "color": "#2a3f5f"
            },
            "error_y": {
             "color": "#2a3f5f"
            },
            "marker": {
             "line": {
              "color": "#E5ECF6",
              "width": 0.5
             }
            },
            "type": "bar"
           }
          ],
          "barpolar": [
           {
            "marker": {
             "line": {
              "color": "#E5ECF6",
              "width": 0.5
             }
            },
            "type": "barpolar"
           }
          ],
          "carpet": [
           {
            "aaxis": {
             "endlinecolor": "#2a3f5f",
             "gridcolor": "white",
             "linecolor": "white",
             "minorgridcolor": "white",
             "startlinecolor": "#2a3f5f"
            },
            "baxis": {
             "endlinecolor": "#2a3f5f",
             "gridcolor": "white",
             "linecolor": "white",
             "minorgridcolor": "white",
             "startlinecolor": "#2a3f5f"
            },
            "type": "carpet"
           }
          ],
          "choropleth": [
           {
            "colorbar": {
             "outlinewidth": 0,
             "ticks": ""
            },
            "type": "choropleth"
           }
          ],
          "contour": [
           {
            "colorbar": {
             "outlinewidth": 0,
             "ticks": ""
            },
            "colorscale": [
             [
              0,
              "#0d0887"
             ],
             [
              0.1111111111111111,
              "#46039f"
             ],
             [
              0.2222222222222222,
              "#7201a8"
             ],
             [
              0.3333333333333333,
              "#9c179e"
             ],
             [
              0.4444444444444444,
              "#bd3786"
             ],
             [
              0.5555555555555556,
              "#d8576b"
             ],
             [
              0.6666666666666666,
              "#ed7953"
             ],
             [
              0.7777777777777778,
              "#fb9f3a"
             ],
             [
              0.8888888888888888,
              "#fdca26"
             ],
             [
              1,
              "#f0f921"
             ]
            ],
            "type": "contour"
           }
          ],
          "contourcarpet": [
           {
            "colorbar": {
             "outlinewidth": 0,
             "ticks": ""
            },
            "type": "contourcarpet"
           }
          ],
          "heatmap": [
           {
            "colorbar": {
             "outlinewidth": 0,
             "ticks": ""
            },
            "colorscale": [
             [
              0,
              "#0d0887"
             ],
             [
              0.1111111111111111,
              "#46039f"
             ],
             [
              0.2222222222222222,
              "#7201a8"
             ],
             [
              0.3333333333333333,
              "#9c179e"
             ],
             [
              0.4444444444444444,
              "#bd3786"
             ],
             [
              0.5555555555555556,
              "#d8576b"
             ],
             [
              0.6666666666666666,
              "#ed7953"
             ],
             [
              0.7777777777777778,
              "#fb9f3a"
             ],
             [
              0.8888888888888888,
              "#fdca26"
             ],
             [
              1,
              "#f0f921"
             ]
            ],
            "type": "heatmap"
           }
          ],
          "heatmapgl": [
           {
            "colorbar": {
             "outlinewidth": 0,
             "ticks": ""
            },
            "colorscale": [
             [
              0,
              "#0d0887"
             ],
             [
              0.1111111111111111,
              "#46039f"
             ],
             [
              0.2222222222222222,
              "#7201a8"
             ],
             [
              0.3333333333333333,
              "#9c179e"
             ],
             [
              0.4444444444444444,
              "#bd3786"
             ],
             [
              0.5555555555555556,
              "#d8576b"
             ],
             [
              0.6666666666666666,
              "#ed7953"
             ],
             [
              0.7777777777777778,
              "#fb9f3a"
             ],
             [
              0.8888888888888888,
              "#fdca26"
             ],
             [
              1,
              "#f0f921"
             ]
            ],
            "type": "heatmapgl"
           }
          ],
          "histogram": [
           {
            "marker": {
             "colorbar": {
              "outlinewidth": 0,
              "ticks": ""
             }
            },
            "type": "histogram"
           }
          ],
          "histogram2d": [
           {
            "colorbar": {
             "outlinewidth": 0,
             "ticks": ""
            },
            "colorscale": [
             [
              0,
              "#0d0887"
             ],
             [
              0.1111111111111111,
              "#46039f"
             ],
             [
              0.2222222222222222,
              "#7201a8"
             ],
             [
              0.3333333333333333,
              "#9c179e"
             ],
             [
              0.4444444444444444,
              "#bd3786"
             ],
             [
              0.5555555555555556,
              "#d8576b"
             ],
             [
              0.6666666666666666,
              "#ed7953"
             ],
             [
              0.7777777777777778,
              "#fb9f3a"
             ],
             [
              0.8888888888888888,
              "#fdca26"
             ],
             [
              1,
              "#f0f921"
             ]
            ],
            "type": "histogram2d"
           }
          ],
          "histogram2dcontour": [
           {
            "colorbar": {
             "outlinewidth": 0,
             "ticks": ""
            },
            "colorscale": [
             [
              0,
              "#0d0887"
             ],
             [
              0.1111111111111111,
              "#46039f"
             ],
             [
              0.2222222222222222,
              "#7201a8"
             ],
             [
              0.3333333333333333,
              "#9c179e"
             ],
             [
              0.4444444444444444,
              "#bd3786"
             ],
             [
              0.5555555555555556,
              "#d8576b"
             ],
             [
              0.6666666666666666,
              "#ed7953"
             ],
             [
              0.7777777777777778,
              "#fb9f3a"
             ],
             [
              0.8888888888888888,
              "#fdca26"
             ],
             [
              1,
              "#f0f921"
             ]
            ],
            "type": "histogram2dcontour"
           }
          ],
          "mesh3d": [
           {
            "colorbar": {
             "outlinewidth": 0,
             "ticks": ""
            },
            "type": "mesh3d"
           }
          ],
          "parcoords": [
           {
            "line": {
             "colorbar": {
              "outlinewidth": 0,
              "ticks": ""
             }
            },
            "type": "parcoords"
           }
          ],
          "pie": [
           {
            "automargin": true,
            "type": "pie"
           }
          ],
          "scatter": [
           {
            "marker": {
             "colorbar": {
              "outlinewidth": 0,
              "ticks": ""
             }
            },
            "type": "scatter"
           }
          ],
          "scatter3d": [
           {
            "line": {
             "colorbar": {
              "outlinewidth": 0,
              "ticks": ""
             }
            },
            "marker": {
             "colorbar": {
              "outlinewidth": 0,
              "ticks": ""
             }
            },
            "type": "scatter3d"
           }
          ],
          "scattercarpet": [
           {
            "marker": {
             "colorbar": {
              "outlinewidth": 0,
              "ticks": ""
             }
            },
            "type": "scattercarpet"
           }
          ],
          "scattergeo": [
           {
            "marker": {
             "colorbar": {
              "outlinewidth": 0,
              "ticks": ""
             }
            },
            "type": "scattergeo"
           }
          ],
          "scattergl": [
           {
            "marker": {
             "colorbar": {
              "outlinewidth": 0,
              "ticks": ""
             }
            },
            "type": "scattergl"
           }
          ],
          "scattermapbox": [
           {
            "marker": {
             "colorbar": {
              "outlinewidth": 0,
              "ticks": ""
             }
            },
            "type": "scattermapbox"
           }
          ],
          "scatterpolar": [
           {
            "marker": {
             "colorbar": {
              "outlinewidth": 0,
              "ticks": ""
             }
            },
            "type": "scatterpolar"
           }
          ],
          "scatterpolargl": [
           {
            "marker": {
             "colorbar": {
              "outlinewidth": 0,
              "ticks": ""
             }
            },
            "type": "scatterpolargl"
           }
          ],
          "scatterternary": [
           {
            "marker": {
             "colorbar": {
              "outlinewidth": 0,
              "ticks": ""
             }
            },
            "type": "scatterternary"
           }
          ],
          "surface": [
           {
            "colorbar": {
             "outlinewidth": 0,
             "ticks": ""
            },
            "colorscale": [
             [
              0,
              "#0d0887"
             ],
             [
              0.1111111111111111,
              "#46039f"
             ],
             [
              0.2222222222222222,
              "#7201a8"
             ],
             [
              0.3333333333333333,
              "#9c179e"
             ],
             [
              0.4444444444444444,
              "#bd3786"
             ],
             [
              0.5555555555555556,
              "#d8576b"
             ],
             [
              0.6666666666666666,
              "#ed7953"
             ],
             [
              0.7777777777777778,
              "#fb9f3a"
             ],
             [
              0.8888888888888888,
              "#fdca26"
             ],
             [
              1,
              "#f0f921"
             ]
            ],
            "type": "surface"
           }
          ],
          "table": [
           {
            "cells": {
             "fill": {
              "color": "#EBF0F8"
             },
             "line": {
              "color": "white"
             }
            },
            "header": {
             "fill": {
              "color": "#C8D4E3"
             },
             "line": {
              "color": "white"
             }
            },
            "type": "table"
           }
          ]
         },
         "layout": {
          "annotationdefaults": {
           "arrowcolor": "#2a3f5f",
           "arrowhead": 0,
           "arrowwidth": 1
          },
          "coloraxis": {
           "colorbar": {
            "outlinewidth": 0,
            "ticks": ""
           }
          },
          "colorscale": {
           "diverging": [
            [
             0,
             "#8e0152"
            ],
            [
             0.1,
             "#c51b7d"
            ],
            [
             0.2,
             "#de77ae"
            ],
            [
             0.3,
             "#f1b6da"
            ],
            [
             0.4,
             "#fde0ef"
            ],
            [
             0.5,
             "#f7f7f7"
            ],
            [
             0.6,
             "#e6f5d0"
            ],
            [
             0.7,
             "#b8e186"
            ],
            [
             0.8,
             "#7fbc41"
            ],
            [
             0.9,
             "#4d9221"
            ],
            [
             1,
             "#276419"
            ]
           ],
           "sequential": [
            [
             0,
             "#0d0887"
            ],
            [
             0.1111111111111111,
             "#46039f"
            ],
            [
             0.2222222222222222,
             "#7201a8"
            ],
            [
             0.3333333333333333,
             "#9c179e"
            ],
            [
             0.4444444444444444,
             "#bd3786"
            ],
            [
             0.5555555555555556,
             "#d8576b"
            ],
            [
             0.6666666666666666,
             "#ed7953"
            ],
            [
             0.7777777777777778,
             "#fb9f3a"
            ],
            [
             0.8888888888888888,
             "#fdca26"
            ],
            [
             1,
             "#f0f921"
            ]
           ],
           "sequentialminus": [
            [
             0,
             "#0d0887"
            ],
            [
             0.1111111111111111,
             "#46039f"
            ],
            [
             0.2222222222222222,
             "#7201a8"
            ],
            [
             0.3333333333333333,
             "#9c179e"
            ],
            [
             0.4444444444444444,
             "#bd3786"
            ],
            [
             0.5555555555555556,
             "#d8576b"
            ],
            [
             0.6666666666666666,
             "#ed7953"
            ],
            [
             0.7777777777777778,
             "#fb9f3a"
            ],
            [
             0.8888888888888888,
             "#fdca26"
            ],
            [
             1,
             "#f0f921"
            ]
           ]
          },
          "colorway": [
           "#636efa",
           "#EF553B",
           "#00cc96",
           "#ab63fa",
           "#FFA15A",
           "#19d3f3",
           "#FF6692",
           "#B6E880",
           "#FF97FF",
           "#FECB52"
          ],
          "font": {
           "color": "#2a3f5f"
          },
          "geo": {
           "bgcolor": "white",
           "lakecolor": "white",
           "landcolor": "#E5ECF6",
           "showlakes": true,
           "showland": true,
           "subunitcolor": "white"
          },
          "hoverlabel": {
           "align": "left"
          },
          "hovermode": "closest",
          "mapbox": {
           "style": "light"
          },
          "paper_bgcolor": "white",
          "plot_bgcolor": "#E5ECF6",
          "polar": {
           "angularaxis": {
            "gridcolor": "white",
            "linecolor": "white",
            "ticks": ""
           },
           "bgcolor": "#E5ECF6",
           "radialaxis": {
            "gridcolor": "white",
            "linecolor": "white",
            "ticks": ""
           }
          },
          "scene": {
           "xaxis": {
            "backgroundcolor": "#E5ECF6",
            "gridcolor": "white",
            "gridwidth": 2,
            "linecolor": "white",
            "showbackground": true,
            "ticks": "",
            "zerolinecolor": "white"
           },
           "yaxis": {
            "backgroundcolor": "#E5ECF6",
            "gridcolor": "white",
            "gridwidth": 2,
            "linecolor": "white",
            "showbackground": true,
            "ticks": "",
            "zerolinecolor": "white"
           },
           "zaxis": {
            "backgroundcolor": "#E5ECF6",
            "gridcolor": "white",
            "gridwidth": 2,
            "linecolor": "white",
            "showbackground": true,
            "ticks": "",
            "zerolinecolor": "white"
           }
          },
          "shapedefaults": {
           "line": {
            "color": "#2a3f5f"
           }
          },
          "ternary": {
           "aaxis": {
            "gridcolor": "white",
            "linecolor": "white",
            "ticks": ""
           },
           "baxis": {
            "gridcolor": "white",
            "linecolor": "white",
            "ticks": ""
           },
           "bgcolor": "#E5ECF6",
           "caxis": {
            "gridcolor": "white",
            "linecolor": "white",
            "ticks": ""
           }
          },
          "title": {
           "x": 0.05
          },
          "xaxis": {
           "automargin": true,
           "gridcolor": "white",
           "linecolor": "white",
           "ticks": "",
           "title": {
            "standoff": 15
           },
           "zerolinecolor": "white",
           "zerolinewidth": 2
          },
          "yaxis": {
           "automargin": true,
           "gridcolor": "white",
           "linecolor": "white",
           "ticks": "",
           "title": {
            "standoff": 15
           },
           "zerolinecolor": "white",
           "zerolinewidth": 2
          }
         }
        },
        "title": {
         "text": "Foot vs. head - Long distance"
        },
        "xaxis": {
         "anchor": "y",
         "domain": [
          0,
          0.94
         ]
        },
        "yaxis": {
         "anchor": "x",
         "domain": [
          0,
          1
         ],
         "rangemode": "tozero",
         "tickfont": {
          "size": 14
         },
         "title": {
          "font": {
           "size": 16
          },
          "text": "Share shots (in %)"
         }
        },
        "yaxis2": {
         "anchor": "x",
         "overlaying": "y",
         "rangemode": "tozero",
         "side": "right",
         "tickfont": {
          "size": 14
         },
         "title": {
          "font": {
           "size": 16
          },
          "text": "Goal (in %)"
         }
        }
       }
      },
      "text/html": [
       "<div>\n",
       "        \n",
       "        \n",
       "            <div id=\"16c77d5e-c184-4b3a-82f7-1e5ac9009483\" class=\"plotly-graph-div\" style=\"height:525px; width:100%;\"></div>\n",
       "            <script type=\"text/javascript\">\n",
       "                require([\"plotly\"], function(Plotly) {\n",
       "                    window.PLOTLYENV=window.PLOTLYENV || {};\n",
       "                    \n",
       "                if (document.getElementById(\"16c77d5e-c184-4b3a-82f7-1e5ac9009483\")) {\n",
       "                    Plotly.newPlot(\n",
       "                        '16c77d5e-c184-4b3a-82f7-1e5ac9009483',\n",
       "                        [{\"name\": \"Goal (in %)\", \"type\": \"bar\", \"x\": [\"Head/body\", \"Left foot\", \"Right foot\"], \"y\": [0.4095309009679821, 35.10796723752792, 64.48250186150409]}, {\"name\": \"Share shots (in %)\", \"type\": \"scatter\", \"x\": [\"Head/body\", \"Left foot\", \"Right foot\"], \"xaxis\": \"x\", \"y\": [18.181818181818183, 2.9692470837751856, 2.9445727482678983], \"yaxis\": \"y2\"}],\n",
       "                        {\"hovermode\": false, \"template\": {\"data\": {\"bar\": [{\"error_x\": {\"color\": \"#2a3f5f\"}, \"error_y\": {\"color\": \"#2a3f5f\"}, \"marker\": {\"line\": {\"color\": \"#E5ECF6\", \"width\": 0.5}}, \"type\": \"bar\"}], \"barpolar\": [{\"marker\": {\"line\": {\"color\": \"#E5ECF6\", \"width\": 0.5}}, \"type\": \"barpolar\"}], \"carpet\": [{\"aaxis\": {\"endlinecolor\": \"#2a3f5f\", \"gridcolor\": \"white\", \"linecolor\": \"white\", \"minorgridcolor\": \"white\", \"startlinecolor\": \"#2a3f5f\"}, \"baxis\": {\"endlinecolor\": \"#2a3f5f\", \"gridcolor\": \"white\", \"linecolor\": \"white\", \"minorgridcolor\": \"white\", \"startlinecolor\": \"#2a3f5f\"}, \"type\": \"carpet\"}], \"choropleth\": [{\"colorbar\": {\"outlinewidth\": 0, \"ticks\": \"\"}, \"type\": \"choropleth\"}], \"contour\": [{\"colorbar\": {\"outlinewidth\": 0, \"ticks\": \"\"}, \"colorscale\": [[0.0, \"#0d0887\"], [0.1111111111111111, \"#46039f\"], [0.2222222222222222, \"#7201a8\"], [0.3333333333333333, \"#9c179e\"], [0.4444444444444444, \"#bd3786\"], [0.5555555555555556, \"#d8576b\"], [0.6666666666666666, \"#ed7953\"], [0.7777777777777778, \"#fb9f3a\"], [0.8888888888888888, \"#fdca26\"], [1.0, \"#f0f921\"]], \"type\": \"contour\"}], \"contourcarpet\": [{\"colorbar\": {\"outlinewidth\": 0, \"ticks\": \"\"}, \"type\": \"contourcarpet\"}], \"heatmap\": [{\"colorbar\": {\"outlinewidth\": 0, \"ticks\": \"\"}, \"colorscale\": [[0.0, \"#0d0887\"], [0.1111111111111111, \"#46039f\"], [0.2222222222222222, \"#7201a8\"], [0.3333333333333333, \"#9c179e\"], [0.4444444444444444, \"#bd3786\"], [0.5555555555555556, \"#d8576b\"], [0.6666666666666666, \"#ed7953\"], [0.7777777777777778, \"#fb9f3a\"], [0.8888888888888888, \"#fdca26\"], [1.0, \"#f0f921\"]], \"type\": \"heatmap\"}], \"heatmapgl\": [{\"colorbar\": {\"outlinewidth\": 0, \"ticks\": \"\"}, \"colorscale\": [[0.0, \"#0d0887\"], [0.1111111111111111, \"#46039f\"], [0.2222222222222222, \"#7201a8\"], [0.3333333333333333, \"#9c179e\"], [0.4444444444444444, \"#bd3786\"], [0.5555555555555556, \"#d8576b\"], [0.6666666666666666, \"#ed7953\"], [0.7777777777777778, \"#fb9f3a\"], [0.8888888888888888, \"#fdca26\"], [1.0, \"#f0f921\"]], \"type\": \"heatmapgl\"}], \"histogram\": [{\"marker\": {\"colorbar\": {\"outlinewidth\": 0, \"ticks\": \"\"}}, \"type\": \"histogram\"}], \"histogram2d\": [{\"colorbar\": {\"outlinewidth\": 0, \"ticks\": \"\"}, \"colorscale\": [[0.0, \"#0d0887\"], [0.1111111111111111, \"#46039f\"], [0.2222222222222222, \"#7201a8\"], [0.3333333333333333, \"#9c179e\"], [0.4444444444444444, \"#bd3786\"], [0.5555555555555556, \"#d8576b\"], [0.6666666666666666, \"#ed7953\"], [0.7777777777777778, \"#fb9f3a\"], [0.8888888888888888, \"#fdca26\"], [1.0, \"#f0f921\"]], \"type\": \"histogram2d\"}], \"histogram2dcontour\": [{\"colorbar\": {\"outlinewidth\": 0, \"ticks\": \"\"}, \"colorscale\": [[0.0, \"#0d0887\"], [0.1111111111111111, \"#46039f\"], [0.2222222222222222, \"#7201a8\"], [0.3333333333333333, \"#9c179e\"], [0.4444444444444444, \"#bd3786\"], [0.5555555555555556, \"#d8576b\"], [0.6666666666666666, \"#ed7953\"], [0.7777777777777778, \"#fb9f3a\"], [0.8888888888888888, \"#fdca26\"], [1.0, \"#f0f921\"]], \"type\": \"histogram2dcontour\"}], \"mesh3d\": [{\"colorbar\": {\"outlinewidth\": 0, \"ticks\": \"\"}, \"type\": \"mesh3d\"}], \"parcoords\": [{\"line\": {\"colorbar\": {\"outlinewidth\": 0, \"ticks\": \"\"}}, \"type\": \"parcoords\"}], \"pie\": [{\"automargin\": true, \"type\": \"pie\"}], \"scatter\": [{\"marker\": {\"colorbar\": {\"outlinewidth\": 0, \"ticks\": \"\"}}, \"type\": \"scatter\"}], \"scatter3d\": [{\"line\": {\"colorbar\": {\"outlinewidth\": 0, \"ticks\": \"\"}}, \"marker\": {\"colorbar\": {\"outlinewidth\": 0, \"ticks\": \"\"}}, \"type\": \"scatter3d\"}], \"scattercarpet\": [{\"marker\": {\"colorbar\": {\"outlinewidth\": 0, \"ticks\": \"\"}}, \"type\": \"scattercarpet\"}], \"scattergeo\": [{\"marker\": {\"colorbar\": {\"outlinewidth\": 0, \"ticks\": \"\"}}, \"type\": \"scattergeo\"}], \"scattergl\": [{\"marker\": {\"colorbar\": {\"outlinewidth\": 0, \"ticks\": \"\"}}, \"type\": \"scattergl\"}], \"scattermapbox\": [{\"marker\": {\"colorbar\": {\"outlinewidth\": 0, \"ticks\": \"\"}}, \"type\": \"scattermapbox\"}], \"scatterpolar\": [{\"marker\": {\"colorbar\": {\"outlinewidth\": 0, \"ticks\": \"\"}}, \"type\": \"scatterpolar\"}], \"scatterpolargl\": [{\"marker\": {\"colorbar\": {\"outlinewidth\": 0, \"ticks\": \"\"}}, \"type\": \"scatterpolargl\"}], \"scatterternary\": [{\"marker\": {\"colorbar\": {\"outlinewidth\": 0, \"ticks\": \"\"}}, \"type\": \"scatterternary\"}], \"surface\": [{\"colorbar\": {\"outlinewidth\": 0, \"ticks\": \"\"}, \"colorscale\": [[0.0, \"#0d0887\"], [0.1111111111111111, \"#46039f\"], [0.2222222222222222, \"#7201a8\"], [0.3333333333333333, \"#9c179e\"], [0.4444444444444444, \"#bd3786\"], [0.5555555555555556, \"#d8576b\"], [0.6666666666666666, \"#ed7953\"], [0.7777777777777778, \"#fb9f3a\"], [0.8888888888888888, \"#fdca26\"], [1.0, \"#f0f921\"]], \"type\": \"surface\"}], \"table\": [{\"cells\": {\"fill\": {\"color\": \"#EBF0F8\"}, \"line\": {\"color\": \"white\"}}, \"header\": {\"fill\": {\"color\": \"#C8D4E3\"}, \"line\": {\"color\": \"white\"}}, \"type\": \"table\"}]}, \"layout\": {\"annotationdefaults\": {\"arrowcolor\": \"#2a3f5f\", \"arrowhead\": 0, \"arrowwidth\": 1}, \"coloraxis\": {\"colorbar\": {\"outlinewidth\": 0, \"ticks\": \"\"}}, \"colorscale\": {\"diverging\": [[0, \"#8e0152\"], [0.1, \"#c51b7d\"], [0.2, \"#de77ae\"], [0.3, \"#f1b6da\"], [0.4, \"#fde0ef\"], [0.5, \"#f7f7f7\"], [0.6, \"#e6f5d0\"], [0.7, \"#b8e186\"], [0.8, \"#7fbc41\"], [0.9, \"#4d9221\"], [1, \"#276419\"]], \"sequential\": [[0.0, \"#0d0887\"], [0.1111111111111111, \"#46039f\"], [0.2222222222222222, \"#7201a8\"], [0.3333333333333333, \"#9c179e\"], [0.4444444444444444, \"#bd3786\"], [0.5555555555555556, \"#d8576b\"], [0.6666666666666666, \"#ed7953\"], [0.7777777777777778, \"#fb9f3a\"], [0.8888888888888888, \"#fdca26\"], [1.0, \"#f0f921\"]], \"sequentialminus\": [[0.0, \"#0d0887\"], [0.1111111111111111, \"#46039f\"], [0.2222222222222222, \"#7201a8\"], [0.3333333333333333, \"#9c179e\"], [0.4444444444444444, \"#bd3786\"], [0.5555555555555556, \"#d8576b\"], [0.6666666666666666, \"#ed7953\"], [0.7777777777777778, \"#fb9f3a\"], [0.8888888888888888, \"#fdca26\"], [1.0, \"#f0f921\"]]}, \"colorway\": [\"#636efa\", \"#EF553B\", \"#00cc96\", \"#ab63fa\", \"#FFA15A\", \"#19d3f3\", \"#FF6692\", \"#B6E880\", \"#FF97FF\", \"#FECB52\"], \"font\": {\"color\": \"#2a3f5f\"}, \"geo\": {\"bgcolor\": \"white\", \"lakecolor\": \"white\", \"landcolor\": \"#E5ECF6\", \"showlakes\": true, \"showland\": true, \"subunitcolor\": \"white\"}, \"hoverlabel\": {\"align\": \"left\"}, \"hovermode\": \"closest\", \"mapbox\": {\"style\": \"light\"}, \"paper_bgcolor\": \"white\", \"plot_bgcolor\": \"#E5ECF6\", \"polar\": {\"angularaxis\": {\"gridcolor\": \"white\", \"linecolor\": \"white\", \"ticks\": \"\"}, \"bgcolor\": \"#E5ECF6\", \"radialaxis\": {\"gridcolor\": \"white\", \"linecolor\": \"white\", \"ticks\": \"\"}}, \"scene\": {\"xaxis\": {\"backgroundcolor\": \"#E5ECF6\", \"gridcolor\": \"white\", \"gridwidth\": 2, \"linecolor\": \"white\", \"showbackground\": true, \"ticks\": \"\", \"zerolinecolor\": \"white\"}, \"yaxis\": {\"backgroundcolor\": \"#E5ECF6\", \"gridcolor\": \"white\", \"gridwidth\": 2, \"linecolor\": \"white\", \"showbackground\": true, \"ticks\": \"\", \"zerolinecolor\": \"white\"}, \"zaxis\": {\"backgroundcolor\": \"#E5ECF6\", \"gridcolor\": \"white\", \"gridwidth\": 2, \"linecolor\": \"white\", \"showbackground\": true, \"ticks\": \"\", \"zerolinecolor\": \"white\"}}, \"shapedefaults\": {\"line\": {\"color\": \"#2a3f5f\"}}, \"ternary\": {\"aaxis\": {\"gridcolor\": \"white\", \"linecolor\": \"white\", \"ticks\": \"\"}, \"baxis\": {\"gridcolor\": \"white\", \"linecolor\": \"white\", \"ticks\": \"\"}, \"bgcolor\": \"#E5ECF6\", \"caxis\": {\"gridcolor\": \"white\", \"linecolor\": \"white\", \"ticks\": \"\"}}, \"title\": {\"x\": 0.05}, \"xaxis\": {\"automargin\": true, \"gridcolor\": \"white\", \"linecolor\": \"white\", \"ticks\": \"\", \"title\": {\"standoff\": 15}, \"zerolinecolor\": \"white\", \"zerolinewidth\": 2}, \"yaxis\": {\"automargin\": true, \"gridcolor\": \"white\", \"linecolor\": \"white\", \"ticks\": \"\", \"title\": {\"standoff\": 15}, \"zerolinecolor\": \"white\", \"zerolinewidth\": 2}}}, \"title\": {\"text\": \"Foot vs. head - Long distance\"}, \"xaxis\": {\"anchor\": \"y\", \"domain\": [0.0, 0.94]}, \"yaxis\": {\"anchor\": \"x\", \"domain\": [0.0, 1.0], \"rangemode\": \"tozero\", \"tickfont\": {\"size\": 14}, \"title\": {\"font\": {\"size\": 16}, \"text\": \"Share shots (in %)\"}}, \"yaxis2\": {\"anchor\": \"x\", \"overlaying\": \"y\", \"rangemode\": \"tozero\", \"side\": \"right\", \"tickfont\": {\"size\": 14}, \"title\": {\"font\": {\"size\": 16}, \"text\": \"Goal (in %)\"}}},\n",
       "                        {\"responsive\": true}\n",
       "                    ).then(function(){\n",
       "                            \n",
       "var gd = document.getElementById('16c77d5e-c184-4b3a-82f7-1e5ac9009483');\n",
       "var x = new MutationObserver(function (mutations, observer) {{\n",
       "        var display = window.getComputedStyle(gd).display;\n",
       "        if (!display || display === 'none') {{\n",
       "            console.log([gd, 'removed!']);\n",
       "            Plotly.purge(gd);\n",
       "            observer.disconnect();\n",
       "        }}\n",
       "}});\n",
       "\n",
       "// Listen for the removal of the full notebook cells\n",
       "var notebookContainer = gd.closest('#notebook-container');\n",
       "if (notebookContainer) {{\n",
       "    x.observe(notebookContainer, {childList: true});\n",
       "}}\n",
       "\n",
       "// Listen for the clearing of the current output cell\n",
       "var outputEl = gd.closest('.output');\n",
       "if (outputEl) {{\n",
       "    x.observe(outputEl, {childList: true});\n",
       "}}\n",
       "\n",
       "                        })\n",
       "                };\n",
       "                });\n",
       "            </script>\n",
       "        </div>"
      ]
     },
     "metadata": {},
     "output_type": "display_data"
    }
   ],
   "source": [
    "graph_shot_long"
   ]
  },
  {
   "cell_type": "markdown",
   "metadata": {},
   "source": [
    "Compute whether the shot was made with the preferred foot"
   ]
  },
  {
   "cell_type": "code",
   "execution_count": 349,
   "metadata": {},
   "outputs": [
    {
     "data": {
      "text/plain": [
       "array(['right', 'left'], dtype=object)"
      ]
     },
     "execution_count": 349,
     "metadata": {},
     "output_type": "execute_result"
    }
   ],
   "source": [
    "df_shots[\"foot\"].unique()"
   ]
  },
  {
   "cell_type": "code",
   "execution_count": 350,
   "metadata": {},
   "outputs": [],
   "source": [
    "df_shots[\"foot\"] = np.where(df_shots[\"foot\"] == \"right\", \"Right foot\", \"Left foot\") "
   ]
  },
  {
   "cell_type": "code",
   "execution_count": 351,
   "metadata": {},
   "outputs": [],
   "source": [
    "df_shots[\"preferredFoot\"] = np.where(df_shots[\"shotFoot\"] == \"Head/body\", \"Head/body\", \n",
    "                                     np.where(df_shots[\"shotFoot\"] == df_shots[\"foot\"], \"Preferred Foot\", \"Other Foot\"))"
   ]
  },
  {
   "cell_type": "code",
   "execution_count": 352,
   "metadata": {},
   "outputs": [
    {
     "data": {
      "text/html": [
       "<div>\n",
       "<style scoped>\n",
       "    .dataframe tbody tr th:only-of-type {\n",
       "        vertical-align: middle;\n",
       "    }\n",
       "\n",
       "    .dataframe tbody tr th {\n",
       "        vertical-align: top;\n",
       "    }\n",
       "\n",
       "    .dataframe thead th {\n",
       "        text-align: right;\n",
       "    }\n",
       "</style>\n",
       "<table border=\"1\" class=\"dataframe\">\n",
       "  <thead>\n",
       "    <tr style=\"text-align: right;\">\n",
       "      <th></th>\n",
       "      <th>eventId</th>\n",
       "      <th>subEventName</th>\n",
       "      <th>playerId</th>\n",
       "      <th>matchId</th>\n",
       "      <th>eventName</th>\n",
       "      <th>teamId</th>\n",
       "      <th>matchPeriod</th>\n",
       "      <th>eventSec</th>\n",
       "      <th>subEventId</th>\n",
       "      <th>id</th>\n",
       "      <th>posBeforeX</th>\n",
       "      <th>posBeforeY</th>\n",
       "      <th>posAfterX</th>\n",
       "      <th>posAfterY</th>\n",
       "      <th>Goal</th>\n",
       "      <th>Own goal</th>\n",
       "      <th>Assist</th>\n",
       "      <th>Key pass</th>\n",
       "      <th>Counter attack</th>\n",
       "      <th>Left foot</th>\n",
       "      <th>Right foot</th>\n",
       "      <th>Head/body</th>\n",
       "      <th>Direct</th>\n",
       "      <th>Indirect</th>\n",
       "      <th>Dangerous ball lost</th>\n",
       "      <th>Blocked</th>\n",
       "      <th>High</th>\n",
       "      <th>Low</th>\n",
       "      <th>Interception</th>\n",
       "      <th>Clearance</th>\n",
       "      <th>Opportunity</th>\n",
       "      <th>Feint</th>\n",
       "      <th>Missed ball</th>\n",
       "      <th>Free space right</th>\n",
       "      <th>Free space left</th>\n",
       "      <th>Take on left</th>\n",
       "      <th>Take on right</th>\n",
       "      <th>Sliding tackle</th>\n",
       "      <th>Anticipated</th>\n",
       "      <th>Anticipation</th>\n",
       "      <th>Red card</th>\n",
       "      <th>Yellow card</th>\n",
       "      <th>Second yellow card</th>\n",
       "      <th>Position: Goal low center</th>\n",
       "      <th>Position: Goal low right</th>\n",
       "      <th>Position: Goal center</th>\n",
       "      <th>Position: Goal center left</th>\n",
       "      <th>Position: Goal low left</th>\n",
       "      <th>Position: Goal center right</th>\n",
       "      <th>Position: Goal high center</th>\n",
       "      <th>Position: Goal high left</th>\n",
       "      <th>Position: Goal high right</th>\n",
       "      <th>Position: Out low right</th>\n",
       "      <th>Position: Out center left</th>\n",
       "      <th>Position: Out low left</th>\n",
       "      <th>Position: Out center right</th>\n",
       "      <th>Position: Out high center</th>\n",
       "      <th>Position: Out high left</th>\n",
       "      <th>Position: Out high right</th>\n",
       "      <th>Position: Post low right</th>\n",
       "      <th>Position: Post center left</th>\n",
       "      <th>Position: Post low left</th>\n",
       "      <th>Position: Post center right</th>\n",
       "      <th>Position: Post high center</th>\n",
       "      <th>Position: Post high left</th>\n",
       "      <th>Position: Post high right</th>\n",
       "      <th>Through</th>\n",
       "      <th>Fairplay</th>\n",
       "      <th>Lost</th>\n",
       "      <th>Neutral</th>\n",
       "      <th>Won</th>\n",
       "      <th>Accurate</th>\n",
       "      <th>Not accurate</th>\n",
       "      <th>shortName</th>\n",
       "      <th>foot</th>\n",
       "      <th>position</th>\n",
       "      <th>team1Id</th>\n",
       "      <th>team2Id</th>\n",
       "      <th>teamPossession</th>\n",
       "      <th>posBeforeXMeters</th>\n",
       "      <th>posAfterXMeters</th>\n",
       "      <th>posBeforeYMeters</th>\n",
       "      <th>posAfterYMeters</th>\n",
       "      <th>shotFoot</th>\n",
       "      <th>preferredFoot</th>\n",
       "    </tr>\n",
       "  </thead>\n",
       "  <tbody>\n",
       "    <tr>\n",
       "      <th>104</th>\n",
       "      <td>10</td>\n",
       "      <td>Shot</td>\n",
       "      <td>209091</td>\n",
       "      <td>2516739</td>\n",
       "      <td>Shot</td>\n",
       "      <td>2444</td>\n",
       "      <td>1H</td>\n",
       "      <td>247.703507</td>\n",
       "      <td>100.0</td>\n",
       "      <td>179896573</td>\n",
       "      <td>83</td>\n",
       "      <td>66</td>\n",
       "      <td>0.0</td>\n",
       "      <td>0.0</td>\n",
       "      <td>0</td>\n",
       "      <td>0</td>\n",
       "      <td>0</td>\n",
       "      <td>0</td>\n",
       "      <td>0</td>\n",
       "      <td>0</td>\n",
       "      <td>1</td>\n",
       "      <td>0</td>\n",
       "      <td>0</td>\n",
       "      <td>0</td>\n",
       "      <td>0</td>\n",
       "      <td>0</td>\n",
       "      <td>0</td>\n",
       "      <td>0</td>\n",
       "      <td>0</td>\n",
       "      <td>0</td>\n",
       "      <td>1</td>\n",
       "      <td>0</td>\n",
       "      <td>0</td>\n",
       "      <td>0</td>\n",
       "      <td>0</td>\n",
       "      <td>0</td>\n",
       "      <td>0</td>\n",
       "      <td>0</td>\n",
       "      <td>0</td>\n",
       "      <td>0</td>\n",
       "      <td>0</td>\n",
       "      <td>0</td>\n",
       "      <td>0</td>\n",
       "      <td>0</td>\n",
       "      <td>0</td>\n",
       "      <td>0</td>\n",
       "      <td>0</td>\n",
       "      <td>0</td>\n",
       "      <td>1</td>\n",
       "      <td>0</td>\n",
       "      <td>0</td>\n",
       "      <td>0</td>\n",
       "      <td>0</td>\n",
       "      <td>0</td>\n",
       "      <td>0</td>\n",
       "      <td>0</td>\n",
       "      <td>0</td>\n",
       "      <td>0</td>\n",
       "      <td>0</td>\n",
       "      <td>0</td>\n",
       "      <td>0</td>\n",
       "      <td>0</td>\n",
       "      <td>0</td>\n",
       "      <td>0</td>\n",
       "      <td>0</td>\n",
       "      <td>0</td>\n",
       "      <td>0</td>\n",
       "      <td>0</td>\n",
       "      <td>0</td>\n",
       "      <td>0</td>\n",
       "      <td>0</td>\n",
       "      <td>1</td>\n",
       "      <td>0</td>\n",
       "      <td>C. Tolisso</td>\n",
       "      <td>Right foot</td>\n",
       "      <td>MD</td>\n",
       "      <td>2444</td>\n",
       "      <td>2446</td>\n",
       "      <td>2444</td>\n",
       "      <td>87.15</td>\n",
       "      <td>0.0</td>\n",
       "      <td>44.88</td>\n",
       "      <td>0.0</td>\n",
       "      <td>Right foot</td>\n",
       "      <td>Preferred Foot</td>\n",
       "    </tr>\n",
       "    <tr>\n",
       "      <th>178</th>\n",
       "      <td>10</td>\n",
       "      <td>Shot</td>\n",
       "      <td>134383</td>\n",
       "      <td>2516739</td>\n",
       "      <td>Shot</td>\n",
       "      <td>2444</td>\n",
       "      <td>1H</td>\n",
       "      <td>529.393731</td>\n",
       "      <td>100.0</td>\n",
       "      <td>179896639</td>\n",
       "      <td>95</td>\n",
       "      <td>59</td>\n",
       "      <td>0.0</td>\n",
       "      <td>0.0</td>\n",
       "      <td>1</td>\n",
       "      <td>0</td>\n",
       "      <td>0</td>\n",
       "      <td>0</td>\n",
       "      <td>0</td>\n",
       "      <td>0</td>\n",
       "      <td>0</td>\n",
       "      <td>1</td>\n",
       "      <td>0</td>\n",
       "      <td>0</td>\n",
       "      <td>0</td>\n",
       "      <td>0</td>\n",
       "      <td>0</td>\n",
       "      <td>0</td>\n",
       "      <td>0</td>\n",
       "      <td>0</td>\n",
       "      <td>1</td>\n",
       "      <td>0</td>\n",
       "      <td>0</td>\n",
       "      <td>0</td>\n",
       "      <td>0</td>\n",
       "      <td>0</td>\n",
       "      <td>0</td>\n",
       "      <td>0</td>\n",
       "      <td>0</td>\n",
       "      <td>0</td>\n",
       "      <td>0</td>\n",
       "      <td>0</td>\n",
       "      <td>0</td>\n",
       "      <td>0</td>\n",
       "      <td>0</td>\n",
       "      <td>0</td>\n",
       "      <td>0</td>\n",
       "      <td>1</td>\n",
       "      <td>0</td>\n",
       "      <td>0</td>\n",
       "      <td>0</td>\n",
       "      <td>0</td>\n",
       "      <td>0</td>\n",
       "      <td>0</td>\n",
       "      <td>0</td>\n",
       "      <td>0</td>\n",
       "      <td>0</td>\n",
       "      <td>0</td>\n",
       "      <td>0</td>\n",
       "      <td>0</td>\n",
       "      <td>0</td>\n",
       "      <td>0</td>\n",
       "      <td>0</td>\n",
       "      <td>0</td>\n",
       "      <td>0</td>\n",
       "      <td>0</td>\n",
       "      <td>0</td>\n",
       "      <td>0</td>\n",
       "      <td>0</td>\n",
       "      <td>0</td>\n",
       "      <td>0</td>\n",
       "      <td>1</td>\n",
       "      <td>0</td>\n",
       "      <td>N. Süle</td>\n",
       "      <td>Right foot</td>\n",
       "      <td>DF</td>\n",
       "      <td>2444</td>\n",
       "      <td>2446</td>\n",
       "      <td>2444</td>\n",
       "      <td>99.75</td>\n",
       "      <td>0.0</td>\n",
       "      <td>40.12</td>\n",
       "      <td>0.0</td>\n",
       "      <td>Head/body</td>\n",
       "      <td>Head/body</td>\n",
       "    </tr>\n",
       "    <tr>\n",
       "      <th>216</th>\n",
       "      <td>10</td>\n",
       "      <td>Shot</td>\n",
       "      <td>105619</td>\n",
       "      <td>2516739</td>\n",
       "      <td>Shot</td>\n",
       "      <td>2446</td>\n",
       "      <td>1H</td>\n",
       "      <td>668.234340</td>\n",
       "      <td>100.0</td>\n",
       "      <td>179896684</td>\n",
       "      <td>91</td>\n",
       "      <td>66</td>\n",
       "      <td>100.0</td>\n",
       "      <td>100.0</td>\n",
       "      <td>0</td>\n",
       "      <td>0</td>\n",
       "      <td>0</td>\n",
       "      <td>0</td>\n",
       "      <td>0</td>\n",
       "      <td>0</td>\n",
       "      <td>1</td>\n",
       "      <td>0</td>\n",
       "      <td>0</td>\n",
       "      <td>0</td>\n",
       "      <td>0</td>\n",
       "      <td>0</td>\n",
       "      <td>0</td>\n",
       "      <td>0</td>\n",
       "      <td>0</td>\n",
       "      <td>0</td>\n",
       "      <td>1</td>\n",
       "      <td>0</td>\n",
       "      <td>0</td>\n",
       "      <td>0</td>\n",
       "      <td>0</td>\n",
       "      <td>0</td>\n",
       "      <td>0</td>\n",
       "      <td>0</td>\n",
       "      <td>0</td>\n",
       "      <td>0</td>\n",
       "      <td>0</td>\n",
       "      <td>0</td>\n",
       "      <td>0</td>\n",
       "      <td>1</td>\n",
       "      <td>0</td>\n",
       "      <td>0</td>\n",
       "      <td>0</td>\n",
       "      <td>0</td>\n",
       "      <td>0</td>\n",
       "      <td>0</td>\n",
       "      <td>0</td>\n",
       "      <td>0</td>\n",
       "      <td>0</td>\n",
       "      <td>0</td>\n",
       "      <td>0</td>\n",
       "      <td>0</td>\n",
       "      <td>0</td>\n",
       "      <td>0</td>\n",
       "      <td>0</td>\n",
       "      <td>0</td>\n",
       "      <td>0</td>\n",
       "      <td>0</td>\n",
       "      <td>0</td>\n",
       "      <td>0</td>\n",
       "      <td>0</td>\n",
       "      <td>0</td>\n",
       "      <td>0</td>\n",
       "      <td>0</td>\n",
       "      <td>0</td>\n",
       "      <td>0</td>\n",
       "      <td>0</td>\n",
       "      <td>1</td>\n",
       "      <td>0</td>\n",
       "      <td>A. Mehmedi</td>\n",
       "      <td>Right foot</td>\n",
       "      <td>FW</td>\n",
       "      <td>2444</td>\n",
       "      <td>2446</td>\n",
       "      <td>2446</td>\n",
       "      <td>95.55</td>\n",
       "      <td>105.0</td>\n",
       "      <td>44.88</td>\n",
       "      <td>68.0</td>\n",
       "      <td>Right foot</td>\n",
       "      <td>Preferred Foot</td>\n",
       "    </tr>\n",
       "    <tr>\n",
       "      <th>220</th>\n",
       "      <td>10</td>\n",
       "      <td>Shot</td>\n",
       "      <td>14786</td>\n",
       "      <td>2516739</td>\n",
       "      <td>Shot</td>\n",
       "      <td>2446</td>\n",
       "      <td>1H</td>\n",
       "      <td>672.925920</td>\n",
       "      <td>100.0</td>\n",
       "      <td>179896693</td>\n",
       "      <td>88</td>\n",
       "      <td>49</td>\n",
       "      <td>100.0</td>\n",
       "      <td>100.0</td>\n",
       "      <td>0</td>\n",
       "      <td>0</td>\n",
       "      <td>0</td>\n",
       "      <td>0</td>\n",
       "      <td>0</td>\n",
       "      <td>0</td>\n",
       "      <td>1</td>\n",
       "      <td>0</td>\n",
       "      <td>0</td>\n",
       "      <td>0</td>\n",
       "      <td>0</td>\n",
       "      <td>0</td>\n",
       "      <td>0</td>\n",
       "      <td>0</td>\n",
       "      <td>0</td>\n",
       "      <td>0</td>\n",
       "      <td>1</td>\n",
       "      <td>0</td>\n",
       "      <td>0</td>\n",
       "      <td>0</td>\n",
       "      <td>0</td>\n",
       "      <td>0</td>\n",
       "      <td>0</td>\n",
       "      <td>0</td>\n",
       "      <td>0</td>\n",
       "      <td>0</td>\n",
       "      <td>0</td>\n",
       "      <td>0</td>\n",
       "      <td>0</td>\n",
       "      <td>0</td>\n",
       "      <td>0</td>\n",
       "      <td>0</td>\n",
       "      <td>0</td>\n",
       "      <td>0</td>\n",
       "      <td>0</td>\n",
       "      <td>0</td>\n",
       "      <td>0</td>\n",
       "      <td>0</td>\n",
       "      <td>0</td>\n",
       "      <td>0</td>\n",
       "      <td>1</td>\n",
       "      <td>0</td>\n",
       "      <td>0</td>\n",
       "      <td>0</td>\n",
       "      <td>0</td>\n",
       "      <td>0</td>\n",
       "      <td>0</td>\n",
       "      <td>0</td>\n",
       "      <td>0</td>\n",
       "      <td>0</td>\n",
       "      <td>0</td>\n",
       "      <td>0</td>\n",
       "      <td>0</td>\n",
       "      <td>0</td>\n",
       "      <td>0</td>\n",
       "      <td>0</td>\n",
       "      <td>0</td>\n",
       "      <td>0</td>\n",
       "      <td>1</td>\n",
       "      <td>K. Bellarabi</td>\n",
       "      <td>Right foot</td>\n",
       "      <td>MD</td>\n",
       "      <td>2444</td>\n",
       "      <td>2446</td>\n",
       "      <td>2446</td>\n",
       "      <td>92.40</td>\n",
       "      <td>105.0</td>\n",
       "      <td>33.32</td>\n",
       "      <td>68.0</td>\n",
       "      <td>Right foot</td>\n",
       "      <td>Preferred Foot</td>\n",
       "    </tr>\n",
       "    <tr>\n",
       "      <th>313</th>\n",
       "      <td>10</td>\n",
       "      <td>Shot</td>\n",
       "      <td>20475</td>\n",
       "      <td>2516739</td>\n",
       "      <td>Shot</td>\n",
       "      <td>2444</td>\n",
       "      <td>1H</td>\n",
       "      <td>949.131592</td>\n",
       "      <td>100.0</td>\n",
       "      <td>179896798</td>\n",
       "      <td>74</td>\n",
       "      <td>42</td>\n",
       "      <td>0.0</td>\n",
       "      <td>0.0</td>\n",
       "      <td>0</td>\n",
       "      <td>0</td>\n",
       "      <td>0</td>\n",
       "      <td>0</td>\n",
       "      <td>0</td>\n",
       "      <td>0</td>\n",
       "      <td>1</td>\n",
       "      <td>0</td>\n",
       "      <td>0</td>\n",
       "      <td>0</td>\n",
       "      <td>0</td>\n",
       "      <td>0</td>\n",
       "      <td>0</td>\n",
       "      <td>0</td>\n",
       "      <td>0</td>\n",
       "      <td>0</td>\n",
       "      <td>0</td>\n",
       "      <td>0</td>\n",
       "      <td>0</td>\n",
       "      <td>0</td>\n",
       "      <td>0</td>\n",
       "      <td>0</td>\n",
       "      <td>0</td>\n",
       "      <td>0</td>\n",
       "      <td>0</td>\n",
       "      <td>0</td>\n",
       "      <td>0</td>\n",
       "      <td>0</td>\n",
       "      <td>0</td>\n",
       "      <td>0</td>\n",
       "      <td>0</td>\n",
       "      <td>0</td>\n",
       "      <td>0</td>\n",
       "      <td>0</td>\n",
       "      <td>0</td>\n",
       "      <td>0</td>\n",
       "      <td>0</td>\n",
       "      <td>0</td>\n",
       "      <td>0</td>\n",
       "      <td>0</td>\n",
       "      <td>0</td>\n",
       "      <td>0</td>\n",
       "      <td>0</td>\n",
       "      <td>0</td>\n",
       "      <td>1</td>\n",
       "      <td>0</td>\n",
       "      <td>0</td>\n",
       "      <td>0</td>\n",
       "      <td>0</td>\n",
       "      <td>0</td>\n",
       "      <td>0</td>\n",
       "      <td>0</td>\n",
       "      <td>0</td>\n",
       "      <td>0</td>\n",
       "      <td>0</td>\n",
       "      <td>0</td>\n",
       "      <td>0</td>\n",
       "      <td>0</td>\n",
       "      <td>1</td>\n",
       "      <td>A. Vidal</td>\n",
       "      <td>Right foot</td>\n",
       "      <td>MD</td>\n",
       "      <td>2444</td>\n",
       "      <td>2446</td>\n",
       "      <td>2444</td>\n",
       "      <td>77.70</td>\n",
       "      <td>0.0</td>\n",
       "      <td>28.56</td>\n",
       "      <td>0.0</td>\n",
       "      <td>Right foot</td>\n",
       "      <td>Preferred Foot</td>\n",
       "    </tr>\n",
       "  </tbody>\n",
       "</table>\n",
       "</div>"
      ],
      "text/plain": [
       "     eventId subEventName  playerId  matchId eventName  teamId matchPeriod  \\\n",
       "104       10         Shot    209091  2516739      Shot    2444          1H   \n",
       "178       10         Shot    134383  2516739      Shot    2444          1H   \n",
       "216       10         Shot    105619  2516739      Shot    2446          1H   \n",
       "220       10         Shot     14786  2516739      Shot    2446          1H   \n",
       "313       10         Shot     20475  2516739      Shot    2444          1H   \n",
       "\n",
       "       eventSec  subEventId         id  posBeforeX  posBeforeY  posAfterX  \\\n",
       "104  247.703507       100.0  179896573          83          66        0.0   \n",
       "178  529.393731       100.0  179896639          95          59        0.0   \n",
       "216  668.234340       100.0  179896684          91          66      100.0   \n",
       "220  672.925920       100.0  179896693          88          49      100.0   \n",
       "313  949.131592       100.0  179896798          74          42        0.0   \n",
       "\n",
       "     posAfterY  Goal  Own goal  Assist  Key pass  Counter attack  Left foot  \\\n",
       "104        0.0     0         0       0         0               0          0   \n",
       "178        0.0     1         0       0         0               0          0   \n",
       "216      100.0     0         0       0         0               0          0   \n",
       "220      100.0     0         0       0         0               0          0   \n",
       "313        0.0     0         0       0         0               0          0   \n",
       "\n",
       "     Right foot  Head/body  Direct  Indirect  Dangerous ball lost  Blocked  \\\n",
       "104           1          0       0         0                    0        0   \n",
       "178           0          1       0         0                    0        0   \n",
       "216           1          0       0         0                    0        0   \n",
       "220           1          0       0         0                    0        0   \n",
       "313           1          0       0         0                    0        0   \n",
       "\n",
       "     High  Low  Interception  Clearance  Opportunity  Feint  Missed ball  \\\n",
       "104     0    0             0          0            1      0            0   \n",
       "178     0    0             0          0            1      0            0   \n",
       "216     0    0             0          0            1      0            0   \n",
       "220     0    0             0          0            1      0            0   \n",
       "313     0    0             0          0            0      0            0   \n",
       "\n",
       "     Free space right  Free space left  Take on left  Take on right  \\\n",
       "104                 0                0             0              0   \n",
       "178                 0                0             0              0   \n",
       "216                 0                0             0              0   \n",
       "220                 0                0             0              0   \n",
       "313                 0                0             0              0   \n",
       "\n",
       "     Sliding tackle  Anticipated  Anticipation  Red card  Yellow card  \\\n",
       "104               0            0             0         0            0   \n",
       "178               0            0             0         0            0   \n",
       "216               0            0             0         0            0   \n",
       "220               0            0             0         0            0   \n",
       "313               0            0             0         0            0   \n",
       "\n",
       "     Second yellow card  Position: Goal low center  Position: Goal low right  \\\n",
       "104                   0                          0                         0   \n",
       "178                   0                          0                         0   \n",
       "216                   0                          1                         0   \n",
       "220                   0                          0                         0   \n",
       "313                   0                          0                         0   \n",
       "\n",
       "     Position: Goal center  Position: Goal center left  \\\n",
       "104                      0                           0   \n",
       "178                      0                           0   \n",
       "216                      0                           0   \n",
       "220                      0                           0   \n",
       "313                      0                           0   \n",
       "\n",
       "     Position: Goal low left  Position: Goal center right  \\\n",
       "104                        0                            1   \n",
       "178                        1                            0   \n",
       "216                        0                            0   \n",
       "220                        0                            0   \n",
       "313                        0                            0   \n",
       "\n",
       "     Position: Goal high center  Position: Goal high left  \\\n",
       "104                           0                         0   \n",
       "178                           0                         0   \n",
       "216                           0                         0   \n",
       "220                           0                         0   \n",
       "313                           0                         0   \n",
       "\n",
       "     Position: Goal high right  Position: Out low right  \\\n",
       "104                          0                        0   \n",
       "178                          0                        0   \n",
       "216                          0                        0   \n",
       "220                          0                        0   \n",
       "313                          0                        0   \n",
       "\n",
       "     Position: Out center left  Position: Out low left  \\\n",
       "104                          0                       0   \n",
       "178                          0                       0   \n",
       "216                          0                       0   \n",
       "220                          0                       1   \n",
       "313                          0                       0   \n",
       "\n",
       "     Position: Out center right  Position: Out high center  \\\n",
       "104                           0                          0   \n",
       "178                           0                          0   \n",
       "216                           0                          0   \n",
       "220                           0                          0   \n",
       "313                           0                          0   \n",
       "\n",
       "     Position: Out high left  Position: Out high right  \\\n",
       "104                        0                         0   \n",
       "178                        0                         0   \n",
       "216                        0                         0   \n",
       "220                        0                         0   \n",
       "313                        0                         1   \n",
       "\n",
       "     Position: Post low right  Position: Post center left  \\\n",
       "104                         0                           0   \n",
       "178                         0                           0   \n",
       "216                         0                           0   \n",
       "220                         0                           0   \n",
       "313                         0                           0   \n",
       "\n",
       "     Position: Post low left  Position: Post center right  \\\n",
       "104                        0                            0   \n",
       "178                        0                            0   \n",
       "216                        0                            0   \n",
       "220                        0                            0   \n",
       "313                        0                            0   \n",
       "\n",
       "     Position: Post high center  Position: Post high left  \\\n",
       "104                           0                         0   \n",
       "178                           0                         0   \n",
       "216                           0                         0   \n",
       "220                           0                         0   \n",
       "313                           0                         0   \n",
       "\n",
       "     Position: Post high right  Through  Fairplay  Lost  Neutral  Won  \\\n",
       "104                          0        0         0     0        0    0   \n",
       "178                          0        0         0     0        0    0   \n",
       "216                          0        0         0     0        0    0   \n",
       "220                          0        0         0     0        0    0   \n",
       "313                          0        0         0     0        0    0   \n",
       "\n",
       "     Accurate  Not accurate     shortName        foot position  team1Id  \\\n",
       "104         1             0    C. Tolisso  Right foot       MD     2444   \n",
       "178         1             0       N. Süle  Right foot       DF     2444   \n",
       "216         1             0    A. Mehmedi  Right foot       FW     2444   \n",
       "220         0             1  K. Bellarabi  Right foot       MD     2444   \n",
       "313         0             1      A. Vidal  Right foot       MD     2444   \n",
       "\n",
       "     team2Id  teamPossession  posBeforeXMeters  posAfterXMeters  \\\n",
       "104     2446            2444             87.15              0.0   \n",
       "178     2446            2444             99.75              0.0   \n",
       "216     2446            2446             95.55            105.0   \n",
       "220     2446            2446             92.40            105.0   \n",
       "313     2446            2444             77.70              0.0   \n",
       "\n",
       "     posBeforeYMeters  posAfterYMeters    shotFoot   preferredFoot  \n",
       "104             44.88              0.0  Right foot  Preferred Foot  \n",
       "178             40.12              0.0   Head/body       Head/body  \n",
       "216             44.88             68.0  Right foot  Preferred Foot  \n",
       "220             33.32             68.0  Right foot  Preferred Foot  \n",
       "313             28.56              0.0  Right foot  Preferred Foot  "
      ]
     },
     "execution_count": 352,
     "metadata": {},
     "output_type": "execute_result"
    }
   ],
   "source": [
    "df_shots.head()"
   ]
  },
  {
   "cell_type": "code",
   "execution_count": 353,
   "metadata": {},
   "outputs": [
    {
     "data": {
      "application/vnd.plotly.v1+json": {
       "config": {
        "plotlyServerURL": "https://plot.ly"
       },
       "data": [
        {
         "name": "Goal (in %)",
         "type": "bar",
         "x": [
          "Head/body",
          "Other Foot",
          "Preferred Foot"
         ],
         "y": [
          16.468541606262686,
          21.75993041461293,
          61.771527979124386
         ]
        },
        {
         "name": "Share shots (in %)",
         "type": "scatter",
         "x": [
          "Head/body",
          "Other Foot",
          "Preferred Foot"
         ],
         "xaxis": "x",
         "y": [
          12.676056338028168,
          10.992671552298468,
          10.279277164984746
         ],
         "yaxis": "y2"
        }
       ],
       "layout": {
        "hovermode": false,
        "template": {
         "data": {
          "bar": [
           {
            "error_x": {
             "color": "#2a3f5f"
            },
            "error_y": {
             "color": "#2a3f5f"
            },
            "marker": {
             "line": {
              "color": "#E5ECF6",
              "width": 0.5
             }
            },
            "type": "bar"
           }
          ],
          "barpolar": [
           {
            "marker": {
             "line": {
              "color": "#E5ECF6",
              "width": 0.5
             }
            },
            "type": "barpolar"
           }
          ],
          "carpet": [
           {
            "aaxis": {
             "endlinecolor": "#2a3f5f",
             "gridcolor": "white",
             "linecolor": "white",
             "minorgridcolor": "white",
             "startlinecolor": "#2a3f5f"
            },
            "baxis": {
             "endlinecolor": "#2a3f5f",
             "gridcolor": "white",
             "linecolor": "white",
             "minorgridcolor": "white",
             "startlinecolor": "#2a3f5f"
            },
            "type": "carpet"
           }
          ],
          "choropleth": [
           {
            "colorbar": {
             "outlinewidth": 0,
             "ticks": ""
            },
            "type": "choropleth"
           }
          ],
          "contour": [
           {
            "colorbar": {
             "outlinewidth": 0,
             "ticks": ""
            },
            "colorscale": [
             [
              0,
              "#0d0887"
             ],
             [
              0.1111111111111111,
              "#46039f"
             ],
             [
              0.2222222222222222,
              "#7201a8"
             ],
             [
              0.3333333333333333,
              "#9c179e"
             ],
             [
              0.4444444444444444,
              "#bd3786"
             ],
             [
              0.5555555555555556,
              "#d8576b"
             ],
             [
              0.6666666666666666,
              "#ed7953"
             ],
             [
              0.7777777777777778,
              "#fb9f3a"
             ],
             [
              0.8888888888888888,
              "#fdca26"
             ],
             [
              1,
              "#f0f921"
             ]
            ],
            "type": "contour"
           }
          ],
          "contourcarpet": [
           {
            "colorbar": {
             "outlinewidth": 0,
             "ticks": ""
            },
            "type": "contourcarpet"
           }
          ],
          "heatmap": [
           {
            "colorbar": {
             "outlinewidth": 0,
             "ticks": ""
            },
            "colorscale": [
             [
              0,
              "#0d0887"
             ],
             [
              0.1111111111111111,
              "#46039f"
             ],
             [
              0.2222222222222222,
              "#7201a8"
             ],
             [
              0.3333333333333333,
              "#9c179e"
             ],
             [
              0.4444444444444444,
              "#bd3786"
             ],
             [
              0.5555555555555556,
              "#d8576b"
             ],
             [
              0.6666666666666666,
              "#ed7953"
             ],
             [
              0.7777777777777778,
              "#fb9f3a"
             ],
             [
              0.8888888888888888,
              "#fdca26"
             ],
             [
              1,
              "#f0f921"
             ]
            ],
            "type": "heatmap"
           }
          ],
          "heatmapgl": [
           {
            "colorbar": {
             "outlinewidth": 0,
             "ticks": ""
            },
            "colorscale": [
             [
              0,
              "#0d0887"
             ],
             [
              0.1111111111111111,
              "#46039f"
             ],
             [
              0.2222222222222222,
              "#7201a8"
             ],
             [
              0.3333333333333333,
              "#9c179e"
             ],
             [
              0.4444444444444444,
              "#bd3786"
             ],
             [
              0.5555555555555556,
              "#d8576b"
             ],
             [
              0.6666666666666666,
              "#ed7953"
             ],
             [
              0.7777777777777778,
              "#fb9f3a"
             ],
             [
              0.8888888888888888,
              "#fdca26"
             ],
             [
              1,
              "#f0f921"
             ]
            ],
            "type": "heatmapgl"
           }
          ],
          "histogram": [
           {
            "marker": {
             "colorbar": {
              "outlinewidth": 0,
              "ticks": ""
             }
            },
            "type": "histogram"
           }
          ],
          "histogram2d": [
           {
            "colorbar": {
             "outlinewidth": 0,
             "ticks": ""
            },
            "colorscale": [
             [
              0,
              "#0d0887"
             ],
             [
              0.1111111111111111,
              "#46039f"
             ],
             [
              0.2222222222222222,
              "#7201a8"
             ],
             [
              0.3333333333333333,
              "#9c179e"
             ],
             [
              0.4444444444444444,
              "#bd3786"
             ],
             [
              0.5555555555555556,
              "#d8576b"
             ],
             [
              0.6666666666666666,
              "#ed7953"
             ],
             [
              0.7777777777777778,
              "#fb9f3a"
             ],
             [
              0.8888888888888888,
              "#fdca26"
             ],
             [
              1,
              "#f0f921"
             ]
            ],
            "type": "histogram2d"
           }
          ],
          "histogram2dcontour": [
           {
            "colorbar": {
             "outlinewidth": 0,
             "ticks": ""
            },
            "colorscale": [
             [
              0,
              "#0d0887"
             ],
             [
              0.1111111111111111,
              "#46039f"
             ],
             [
              0.2222222222222222,
              "#7201a8"
             ],
             [
              0.3333333333333333,
              "#9c179e"
             ],
             [
              0.4444444444444444,
              "#bd3786"
             ],
             [
              0.5555555555555556,
              "#d8576b"
             ],
             [
              0.6666666666666666,
              "#ed7953"
             ],
             [
              0.7777777777777778,
              "#fb9f3a"
             ],
             [
              0.8888888888888888,
              "#fdca26"
             ],
             [
              1,
              "#f0f921"
             ]
            ],
            "type": "histogram2dcontour"
           }
          ],
          "mesh3d": [
           {
            "colorbar": {
             "outlinewidth": 0,
             "ticks": ""
            },
            "type": "mesh3d"
           }
          ],
          "parcoords": [
           {
            "line": {
             "colorbar": {
              "outlinewidth": 0,
              "ticks": ""
             }
            },
            "type": "parcoords"
           }
          ],
          "pie": [
           {
            "automargin": true,
            "type": "pie"
           }
          ],
          "scatter": [
           {
            "marker": {
             "colorbar": {
              "outlinewidth": 0,
              "ticks": ""
             }
            },
            "type": "scatter"
           }
          ],
          "scatter3d": [
           {
            "line": {
             "colorbar": {
              "outlinewidth": 0,
              "ticks": ""
             }
            },
            "marker": {
             "colorbar": {
              "outlinewidth": 0,
              "ticks": ""
             }
            },
            "type": "scatter3d"
           }
          ],
          "scattercarpet": [
           {
            "marker": {
             "colorbar": {
              "outlinewidth": 0,
              "ticks": ""
             }
            },
            "type": "scattercarpet"
           }
          ],
          "scattergeo": [
           {
            "marker": {
             "colorbar": {
              "outlinewidth": 0,
              "ticks": ""
             }
            },
            "type": "scattergeo"
           }
          ],
          "scattergl": [
           {
            "marker": {
             "colorbar": {
              "outlinewidth": 0,
              "ticks": ""
             }
            },
            "type": "scattergl"
           }
          ],
          "scattermapbox": [
           {
            "marker": {
             "colorbar": {
              "outlinewidth": 0,
              "ticks": ""
             }
            },
            "type": "scattermapbox"
           }
          ],
          "scatterpolar": [
           {
            "marker": {
             "colorbar": {
              "outlinewidth": 0,
              "ticks": ""
             }
            },
            "type": "scatterpolar"
           }
          ],
          "scatterpolargl": [
           {
            "marker": {
             "colorbar": {
              "outlinewidth": 0,
              "ticks": ""
             }
            },
            "type": "scatterpolargl"
           }
          ],
          "scatterternary": [
           {
            "marker": {
             "colorbar": {
              "outlinewidth": 0,
              "ticks": ""
             }
            },
            "type": "scatterternary"
           }
          ],
          "surface": [
           {
            "colorbar": {
             "outlinewidth": 0,
             "ticks": ""
            },
            "colorscale": [
             [
              0,
              "#0d0887"
             ],
             [
              0.1111111111111111,
              "#46039f"
             ],
             [
              0.2222222222222222,
              "#7201a8"
             ],
             [
              0.3333333333333333,
              "#9c179e"
             ],
             [
              0.4444444444444444,
              "#bd3786"
             ],
             [
              0.5555555555555556,
              "#d8576b"
             ],
             [
              0.6666666666666666,
              "#ed7953"
             ],
             [
              0.7777777777777778,
              "#fb9f3a"
             ],
             [
              0.8888888888888888,
              "#fdca26"
             ],
             [
              1,
              "#f0f921"
             ]
            ],
            "type": "surface"
           }
          ],
          "table": [
           {
            "cells": {
             "fill": {
              "color": "#EBF0F8"
             },
             "line": {
              "color": "white"
             }
            },
            "header": {
             "fill": {
              "color": "#C8D4E3"
             },
             "line": {
              "color": "white"
             }
            },
            "type": "table"
           }
          ]
         },
         "layout": {
          "annotationdefaults": {
           "arrowcolor": "#2a3f5f",
           "arrowhead": 0,
           "arrowwidth": 1
          },
          "coloraxis": {
           "colorbar": {
            "outlinewidth": 0,
            "ticks": ""
           }
          },
          "colorscale": {
           "diverging": [
            [
             0,
             "#8e0152"
            ],
            [
             0.1,
             "#c51b7d"
            ],
            [
             0.2,
             "#de77ae"
            ],
            [
             0.3,
             "#f1b6da"
            ],
            [
             0.4,
             "#fde0ef"
            ],
            [
             0.5,
             "#f7f7f7"
            ],
            [
             0.6,
             "#e6f5d0"
            ],
            [
             0.7,
             "#b8e186"
            ],
            [
             0.8,
             "#7fbc41"
            ],
            [
             0.9,
             "#4d9221"
            ],
            [
             1,
             "#276419"
            ]
           ],
           "sequential": [
            [
             0,
             "#0d0887"
            ],
            [
             0.1111111111111111,
             "#46039f"
            ],
            [
             0.2222222222222222,
             "#7201a8"
            ],
            [
             0.3333333333333333,
             "#9c179e"
            ],
            [
             0.4444444444444444,
             "#bd3786"
            ],
            [
             0.5555555555555556,
             "#d8576b"
            ],
            [
             0.6666666666666666,
             "#ed7953"
            ],
            [
             0.7777777777777778,
             "#fb9f3a"
            ],
            [
             0.8888888888888888,
             "#fdca26"
            ],
            [
             1,
             "#f0f921"
            ]
           ],
           "sequentialminus": [
            [
             0,
             "#0d0887"
            ],
            [
             0.1111111111111111,
             "#46039f"
            ],
            [
             0.2222222222222222,
             "#7201a8"
            ],
            [
             0.3333333333333333,
             "#9c179e"
            ],
            [
             0.4444444444444444,
             "#bd3786"
            ],
            [
             0.5555555555555556,
             "#d8576b"
            ],
            [
             0.6666666666666666,
             "#ed7953"
            ],
            [
             0.7777777777777778,
             "#fb9f3a"
            ],
            [
             0.8888888888888888,
             "#fdca26"
            ],
            [
             1,
             "#f0f921"
            ]
           ]
          },
          "colorway": [
           "#636efa",
           "#EF553B",
           "#00cc96",
           "#ab63fa",
           "#FFA15A",
           "#19d3f3",
           "#FF6692",
           "#B6E880",
           "#FF97FF",
           "#FECB52"
          ],
          "font": {
           "color": "#2a3f5f"
          },
          "geo": {
           "bgcolor": "white",
           "lakecolor": "white",
           "landcolor": "#E5ECF6",
           "showlakes": true,
           "showland": true,
           "subunitcolor": "white"
          },
          "hoverlabel": {
           "align": "left"
          },
          "hovermode": "closest",
          "mapbox": {
           "style": "light"
          },
          "paper_bgcolor": "white",
          "plot_bgcolor": "#E5ECF6",
          "polar": {
           "angularaxis": {
            "gridcolor": "white",
            "linecolor": "white",
            "ticks": ""
           },
           "bgcolor": "#E5ECF6",
           "radialaxis": {
            "gridcolor": "white",
            "linecolor": "white",
            "ticks": ""
           }
          },
          "scene": {
           "xaxis": {
            "backgroundcolor": "#E5ECF6",
            "gridcolor": "white",
            "gridwidth": 2,
            "linecolor": "white",
            "showbackground": true,
            "ticks": "",
            "zerolinecolor": "white"
           },
           "yaxis": {
            "backgroundcolor": "#E5ECF6",
            "gridcolor": "white",
            "gridwidth": 2,
            "linecolor": "white",
            "showbackground": true,
            "ticks": "",
            "zerolinecolor": "white"
           },
           "zaxis": {
            "backgroundcolor": "#E5ECF6",
            "gridcolor": "white",
            "gridwidth": 2,
            "linecolor": "white",
            "showbackground": true,
            "ticks": "",
            "zerolinecolor": "white"
           }
          },
          "shapedefaults": {
           "line": {
            "color": "#2a3f5f"
           }
          },
          "ternary": {
           "aaxis": {
            "gridcolor": "white",
            "linecolor": "white",
            "ticks": ""
           },
           "baxis": {
            "gridcolor": "white",
            "linecolor": "white",
            "ticks": ""
           },
           "bgcolor": "#E5ECF6",
           "caxis": {
            "gridcolor": "white",
            "linecolor": "white",
            "ticks": ""
           }
          },
          "title": {
           "x": 0.05
          },
          "xaxis": {
           "automargin": true,
           "gridcolor": "white",
           "linecolor": "white",
           "ticks": "",
           "title": {
            "standoff": 15
           },
           "zerolinecolor": "white",
           "zerolinewidth": 2
          },
          "yaxis": {
           "automargin": true,
           "gridcolor": "white",
           "linecolor": "white",
           "ticks": "",
           "title": {
            "standoff": 15
           },
           "zerolinecolor": "white",
           "zerolinewidth": 2
          }
         }
        },
        "title": {
         "text": "Preferred foot"
        },
        "xaxis": {
         "anchor": "y",
         "domain": [
          0,
          0.94
         ]
        },
        "yaxis": {
         "anchor": "x",
         "domain": [
          0,
          1
         ],
         "rangemode": "tozero",
         "tickfont": {
          "size": 14
         },
         "title": {
          "font": {
           "size": 16
          },
          "text": "Share shots (in %)"
         }
        },
        "yaxis2": {
         "anchor": "x",
         "overlaying": "y",
         "rangemode": "tozero",
         "side": "right",
         "tickfont": {
          "size": 14
         },
         "title": {
          "font": {
           "size": 16
          },
          "text": "Goal (in %)"
         }
        }
       }
      },
      "text/html": [
       "<div>\n",
       "        \n",
       "        \n",
       "            <div id=\"a5ec3a09-44ea-4da8-a490-721590b0d510\" class=\"plotly-graph-div\" style=\"height:525px; width:100%;\"></div>\n",
       "            <script type=\"text/javascript\">\n",
       "                require([\"plotly\"], function(Plotly) {\n",
       "                    window.PLOTLYENV=window.PLOTLYENV || {};\n",
       "                    \n",
       "                if (document.getElementById(\"a5ec3a09-44ea-4da8-a490-721590b0d510\")) {\n",
       "                    Plotly.newPlot(\n",
       "                        'a5ec3a09-44ea-4da8-a490-721590b0d510',\n",
       "                        [{\"name\": \"Goal (in %)\", \"type\": \"bar\", \"x\": [\"Head/body\", \"Other Foot\", \"Preferred Foot\"], \"y\": [16.468541606262686, 21.75993041461293, 61.771527979124386]}, {\"name\": \"Share shots (in %)\", \"type\": \"scatter\", \"x\": [\"Head/body\", \"Other Foot\", \"Preferred Foot\"], \"xaxis\": \"x\", \"y\": [12.676056338028168, 10.992671552298468, 10.279277164984746], \"yaxis\": \"y2\"}],\n",
       "                        {\"hovermode\": false, \"template\": {\"data\": {\"bar\": [{\"error_x\": {\"color\": \"#2a3f5f\"}, \"error_y\": {\"color\": \"#2a3f5f\"}, \"marker\": {\"line\": {\"color\": \"#E5ECF6\", \"width\": 0.5}}, \"type\": \"bar\"}], \"barpolar\": [{\"marker\": {\"line\": {\"color\": \"#E5ECF6\", \"width\": 0.5}}, \"type\": \"barpolar\"}], \"carpet\": [{\"aaxis\": {\"endlinecolor\": \"#2a3f5f\", \"gridcolor\": \"white\", \"linecolor\": \"white\", \"minorgridcolor\": \"white\", \"startlinecolor\": \"#2a3f5f\"}, \"baxis\": {\"endlinecolor\": \"#2a3f5f\", \"gridcolor\": \"white\", \"linecolor\": \"white\", \"minorgridcolor\": \"white\", \"startlinecolor\": \"#2a3f5f\"}, \"type\": \"carpet\"}], \"choropleth\": [{\"colorbar\": {\"outlinewidth\": 0, \"ticks\": \"\"}, \"type\": \"choropleth\"}], \"contour\": [{\"colorbar\": {\"outlinewidth\": 0, \"ticks\": \"\"}, \"colorscale\": [[0.0, \"#0d0887\"], [0.1111111111111111, \"#46039f\"], [0.2222222222222222, \"#7201a8\"], [0.3333333333333333, \"#9c179e\"], [0.4444444444444444, \"#bd3786\"], [0.5555555555555556, \"#d8576b\"], [0.6666666666666666, \"#ed7953\"], [0.7777777777777778, \"#fb9f3a\"], [0.8888888888888888, \"#fdca26\"], [1.0, \"#f0f921\"]], \"type\": \"contour\"}], \"contourcarpet\": [{\"colorbar\": {\"outlinewidth\": 0, \"ticks\": \"\"}, \"type\": \"contourcarpet\"}], \"heatmap\": [{\"colorbar\": {\"outlinewidth\": 0, \"ticks\": \"\"}, \"colorscale\": [[0.0, \"#0d0887\"], [0.1111111111111111, \"#46039f\"], [0.2222222222222222, \"#7201a8\"], [0.3333333333333333, \"#9c179e\"], [0.4444444444444444, \"#bd3786\"], [0.5555555555555556, \"#d8576b\"], [0.6666666666666666, \"#ed7953\"], [0.7777777777777778, \"#fb9f3a\"], [0.8888888888888888, \"#fdca26\"], [1.0, \"#f0f921\"]], \"type\": \"heatmap\"}], \"heatmapgl\": [{\"colorbar\": {\"outlinewidth\": 0, \"ticks\": \"\"}, \"colorscale\": [[0.0, \"#0d0887\"], [0.1111111111111111, \"#46039f\"], [0.2222222222222222, \"#7201a8\"], [0.3333333333333333, \"#9c179e\"], [0.4444444444444444, \"#bd3786\"], [0.5555555555555556, \"#d8576b\"], [0.6666666666666666, \"#ed7953\"], [0.7777777777777778, \"#fb9f3a\"], [0.8888888888888888, \"#fdca26\"], [1.0, \"#f0f921\"]], \"type\": \"heatmapgl\"}], \"histogram\": [{\"marker\": {\"colorbar\": {\"outlinewidth\": 0, \"ticks\": \"\"}}, \"type\": \"histogram\"}], \"histogram2d\": [{\"colorbar\": {\"outlinewidth\": 0, \"ticks\": \"\"}, \"colorscale\": [[0.0, \"#0d0887\"], [0.1111111111111111, \"#46039f\"], [0.2222222222222222, \"#7201a8\"], [0.3333333333333333, \"#9c179e\"], [0.4444444444444444, \"#bd3786\"], [0.5555555555555556, \"#d8576b\"], [0.6666666666666666, \"#ed7953\"], [0.7777777777777778, \"#fb9f3a\"], [0.8888888888888888, \"#fdca26\"], [1.0, \"#f0f921\"]], \"type\": \"histogram2d\"}], \"histogram2dcontour\": [{\"colorbar\": {\"outlinewidth\": 0, \"ticks\": \"\"}, \"colorscale\": [[0.0, \"#0d0887\"], [0.1111111111111111, \"#46039f\"], [0.2222222222222222, \"#7201a8\"], [0.3333333333333333, \"#9c179e\"], [0.4444444444444444, \"#bd3786\"], [0.5555555555555556, \"#d8576b\"], [0.6666666666666666, \"#ed7953\"], [0.7777777777777778, \"#fb9f3a\"], [0.8888888888888888, \"#fdca26\"], [1.0, \"#f0f921\"]], \"type\": \"histogram2dcontour\"}], \"mesh3d\": [{\"colorbar\": {\"outlinewidth\": 0, \"ticks\": \"\"}, \"type\": \"mesh3d\"}], \"parcoords\": [{\"line\": {\"colorbar\": {\"outlinewidth\": 0, \"ticks\": \"\"}}, \"type\": \"parcoords\"}], \"pie\": [{\"automargin\": true, \"type\": \"pie\"}], \"scatter\": [{\"marker\": {\"colorbar\": {\"outlinewidth\": 0, \"ticks\": \"\"}}, \"type\": \"scatter\"}], \"scatter3d\": [{\"line\": {\"colorbar\": {\"outlinewidth\": 0, \"ticks\": \"\"}}, \"marker\": {\"colorbar\": {\"outlinewidth\": 0, \"ticks\": \"\"}}, \"type\": \"scatter3d\"}], \"scattercarpet\": [{\"marker\": {\"colorbar\": {\"outlinewidth\": 0, \"ticks\": \"\"}}, \"type\": \"scattercarpet\"}], \"scattergeo\": [{\"marker\": {\"colorbar\": {\"outlinewidth\": 0, \"ticks\": \"\"}}, \"type\": \"scattergeo\"}], \"scattergl\": [{\"marker\": {\"colorbar\": {\"outlinewidth\": 0, \"ticks\": \"\"}}, \"type\": \"scattergl\"}], \"scattermapbox\": [{\"marker\": {\"colorbar\": {\"outlinewidth\": 0, \"ticks\": \"\"}}, \"type\": \"scattermapbox\"}], \"scatterpolar\": [{\"marker\": {\"colorbar\": {\"outlinewidth\": 0, \"ticks\": \"\"}}, \"type\": \"scatterpolar\"}], \"scatterpolargl\": [{\"marker\": {\"colorbar\": {\"outlinewidth\": 0, \"ticks\": \"\"}}, \"type\": \"scatterpolargl\"}], \"scatterternary\": [{\"marker\": {\"colorbar\": {\"outlinewidth\": 0, \"ticks\": \"\"}}, \"type\": \"scatterternary\"}], \"surface\": [{\"colorbar\": {\"outlinewidth\": 0, \"ticks\": \"\"}, \"colorscale\": [[0.0, \"#0d0887\"], [0.1111111111111111, \"#46039f\"], [0.2222222222222222, \"#7201a8\"], [0.3333333333333333, \"#9c179e\"], [0.4444444444444444, \"#bd3786\"], [0.5555555555555556, \"#d8576b\"], [0.6666666666666666, \"#ed7953\"], [0.7777777777777778, \"#fb9f3a\"], [0.8888888888888888, \"#fdca26\"], [1.0, \"#f0f921\"]], \"type\": \"surface\"}], \"table\": [{\"cells\": {\"fill\": {\"color\": \"#EBF0F8\"}, \"line\": {\"color\": \"white\"}}, \"header\": {\"fill\": {\"color\": \"#C8D4E3\"}, \"line\": {\"color\": \"white\"}}, \"type\": \"table\"}]}, \"layout\": {\"annotationdefaults\": {\"arrowcolor\": \"#2a3f5f\", \"arrowhead\": 0, \"arrowwidth\": 1}, \"coloraxis\": {\"colorbar\": {\"outlinewidth\": 0, \"ticks\": \"\"}}, \"colorscale\": {\"diverging\": [[0, \"#8e0152\"], [0.1, \"#c51b7d\"], [0.2, \"#de77ae\"], [0.3, \"#f1b6da\"], [0.4, \"#fde0ef\"], [0.5, \"#f7f7f7\"], [0.6, \"#e6f5d0\"], [0.7, \"#b8e186\"], [0.8, \"#7fbc41\"], [0.9, \"#4d9221\"], [1, \"#276419\"]], \"sequential\": [[0.0, \"#0d0887\"], [0.1111111111111111, \"#46039f\"], [0.2222222222222222, \"#7201a8\"], [0.3333333333333333, \"#9c179e\"], [0.4444444444444444, \"#bd3786\"], [0.5555555555555556, \"#d8576b\"], [0.6666666666666666, \"#ed7953\"], [0.7777777777777778, \"#fb9f3a\"], [0.8888888888888888, \"#fdca26\"], [1.0, \"#f0f921\"]], \"sequentialminus\": [[0.0, \"#0d0887\"], [0.1111111111111111, \"#46039f\"], [0.2222222222222222, \"#7201a8\"], [0.3333333333333333, \"#9c179e\"], [0.4444444444444444, \"#bd3786\"], [0.5555555555555556, \"#d8576b\"], [0.6666666666666666, \"#ed7953\"], [0.7777777777777778, \"#fb9f3a\"], [0.8888888888888888, \"#fdca26\"], [1.0, \"#f0f921\"]]}, \"colorway\": [\"#636efa\", \"#EF553B\", \"#00cc96\", \"#ab63fa\", \"#FFA15A\", \"#19d3f3\", \"#FF6692\", \"#B6E880\", \"#FF97FF\", \"#FECB52\"], \"font\": {\"color\": \"#2a3f5f\"}, \"geo\": {\"bgcolor\": \"white\", \"lakecolor\": \"white\", \"landcolor\": \"#E5ECF6\", \"showlakes\": true, \"showland\": true, \"subunitcolor\": \"white\"}, \"hoverlabel\": {\"align\": \"left\"}, \"hovermode\": \"closest\", \"mapbox\": {\"style\": \"light\"}, \"paper_bgcolor\": \"white\", \"plot_bgcolor\": \"#E5ECF6\", \"polar\": {\"angularaxis\": {\"gridcolor\": \"white\", \"linecolor\": \"white\", \"ticks\": \"\"}, \"bgcolor\": \"#E5ECF6\", \"radialaxis\": {\"gridcolor\": \"white\", \"linecolor\": \"white\", \"ticks\": \"\"}}, \"scene\": {\"xaxis\": {\"backgroundcolor\": \"#E5ECF6\", \"gridcolor\": \"white\", \"gridwidth\": 2, \"linecolor\": \"white\", \"showbackground\": true, \"ticks\": \"\", \"zerolinecolor\": \"white\"}, \"yaxis\": {\"backgroundcolor\": \"#E5ECF6\", \"gridcolor\": \"white\", \"gridwidth\": 2, \"linecolor\": \"white\", \"showbackground\": true, \"ticks\": \"\", \"zerolinecolor\": \"white\"}, \"zaxis\": {\"backgroundcolor\": \"#E5ECF6\", \"gridcolor\": \"white\", \"gridwidth\": 2, \"linecolor\": \"white\", \"showbackground\": true, \"ticks\": \"\", \"zerolinecolor\": \"white\"}}, \"shapedefaults\": {\"line\": {\"color\": \"#2a3f5f\"}}, \"ternary\": {\"aaxis\": {\"gridcolor\": \"white\", \"linecolor\": \"white\", \"ticks\": \"\"}, \"baxis\": {\"gridcolor\": \"white\", \"linecolor\": \"white\", \"ticks\": \"\"}, \"bgcolor\": \"#E5ECF6\", \"caxis\": {\"gridcolor\": \"white\", \"linecolor\": \"white\", \"ticks\": \"\"}}, \"title\": {\"x\": 0.05}, \"xaxis\": {\"automargin\": true, \"gridcolor\": \"white\", \"linecolor\": \"white\", \"ticks\": \"\", \"title\": {\"standoff\": 15}, \"zerolinecolor\": \"white\", \"zerolinewidth\": 2}, \"yaxis\": {\"automargin\": true, \"gridcolor\": \"white\", \"linecolor\": \"white\", \"ticks\": \"\", \"title\": {\"standoff\": 15}, \"zerolinecolor\": \"white\", \"zerolinewidth\": 2}}}, \"title\": {\"text\": \"Preferred foot\"}, \"xaxis\": {\"anchor\": \"y\", \"domain\": [0.0, 0.94]}, \"yaxis\": {\"anchor\": \"x\", \"domain\": [0.0, 1.0], \"rangemode\": \"tozero\", \"tickfont\": {\"size\": 14}, \"title\": {\"font\": {\"size\": 16}, \"text\": \"Share shots (in %)\"}}, \"yaxis2\": {\"anchor\": \"x\", \"overlaying\": \"y\", \"rangemode\": \"tozero\", \"side\": \"right\", \"tickfont\": {\"size\": 14}, \"title\": {\"font\": {\"size\": 16}, \"text\": \"Goal (in %)\"}}},\n",
       "                        {\"responsive\": true}\n",
       "                    ).then(function(){\n",
       "                            \n",
       "var gd = document.getElementById('a5ec3a09-44ea-4da8-a490-721590b0d510');\n",
       "var x = new MutationObserver(function (mutations, observer) {{\n",
       "        var display = window.getComputedStyle(gd).display;\n",
       "        if (!display || display === 'none') {{\n",
       "            console.log([gd, 'removed!']);\n",
       "            Plotly.purge(gd);\n",
       "            observer.disconnect();\n",
       "        }}\n",
       "}});\n",
       "\n",
       "// Listen for the removal of the full notebook cells\n",
       "var notebookContainer = gd.closest('#notebook-container');\n",
       "if (notebookContainer) {{\n",
       "    x.observe(notebookContainer, {childList: true});\n",
       "}}\n",
       "\n",
       "// Listen for the clearing of the current output cell\n",
       "var outputEl = gd.closest('.output');\n",
       "if (outputEl) {{\n",
       "    x.observe(outputEl, {childList: true});\n",
       "}}\n",
       "\n",
       "                        })\n",
       "                };\n",
       "                });\n",
       "            </script>\n",
       "        </div>"
      ]
     },
     "metadata": {},
     "output_type": "display_data"
    }
   ],
   "source": [
    "graph_pref_foot = create_univariate_variable_graph(df_shots, \"preferredFoot\", target_col, y1_axis_name, y2_axis_name,\n",
    "                                        title_name=\"Preferred foot\")\n",
    "graph_pref_foot.show()"
   ]
  },
  {
   "cell_type": "code",
   "execution_count": 355,
   "metadata": {},
   "outputs": [
    {
     "data": {
      "application/vnd.plotly.v1+json": {
       "config": {
        "plotlyServerURL": "https://plot.ly"
       },
       "data": [
        {
         "name": "Goal (in %)",
         "type": "bar",
         "x": [
          "Head/body",
          "Other Foot",
          "Preferred Foot"
         ],
         "y": [
          26.70940170940171,
          22.41215574548908,
          50.878442545109216
         ]
        },
        {
         "name": "Share shots (in %)",
         "type": "scatter",
         "x": [
          "Head/body",
          "Other Foot",
          "Preferred Foot"
         ],
         "xaxis": "x",
         "y": [
          12.622222222222224,
          15.889830508474576,
          17.452169855342976
         ],
         "yaxis": "y2"
        }
       ],
       "layout": {
        "hovermode": false,
        "template": {
         "data": {
          "bar": [
           {
            "error_x": {
             "color": "#2a3f5f"
            },
            "error_y": {
             "color": "#2a3f5f"
            },
            "marker": {
             "line": {
              "color": "#E5ECF6",
              "width": 0.5
             }
            },
            "type": "bar"
           }
          ],
          "barpolar": [
           {
            "marker": {
             "line": {
              "color": "#E5ECF6",
              "width": 0.5
             }
            },
            "type": "barpolar"
           }
          ],
          "carpet": [
           {
            "aaxis": {
             "endlinecolor": "#2a3f5f",
             "gridcolor": "white",
             "linecolor": "white",
             "minorgridcolor": "white",
             "startlinecolor": "#2a3f5f"
            },
            "baxis": {
             "endlinecolor": "#2a3f5f",
             "gridcolor": "white",
             "linecolor": "white",
             "minorgridcolor": "white",
             "startlinecolor": "#2a3f5f"
            },
            "type": "carpet"
           }
          ],
          "choropleth": [
           {
            "colorbar": {
             "outlinewidth": 0,
             "ticks": ""
            },
            "type": "choropleth"
           }
          ],
          "contour": [
           {
            "colorbar": {
             "outlinewidth": 0,
             "ticks": ""
            },
            "colorscale": [
             [
              0,
              "#0d0887"
             ],
             [
              0.1111111111111111,
              "#46039f"
             ],
             [
              0.2222222222222222,
              "#7201a8"
             ],
             [
              0.3333333333333333,
              "#9c179e"
             ],
             [
              0.4444444444444444,
              "#bd3786"
             ],
             [
              0.5555555555555556,
              "#d8576b"
             ],
             [
              0.6666666666666666,
              "#ed7953"
             ],
             [
              0.7777777777777778,
              "#fb9f3a"
             ],
             [
              0.8888888888888888,
              "#fdca26"
             ],
             [
              1,
              "#f0f921"
             ]
            ],
            "type": "contour"
           }
          ],
          "contourcarpet": [
           {
            "colorbar": {
             "outlinewidth": 0,
             "ticks": ""
            },
            "type": "contourcarpet"
           }
          ],
          "heatmap": [
           {
            "colorbar": {
             "outlinewidth": 0,
             "ticks": ""
            },
            "colorscale": [
             [
              0,
              "#0d0887"
             ],
             [
              0.1111111111111111,
              "#46039f"
             ],
             [
              0.2222222222222222,
              "#7201a8"
             ],
             [
              0.3333333333333333,
              "#9c179e"
             ],
             [
              0.4444444444444444,
              "#bd3786"
             ],
             [
              0.5555555555555556,
              "#d8576b"
             ],
             [
              0.6666666666666666,
              "#ed7953"
             ],
             [
              0.7777777777777778,
              "#fb9f3a"
             ],
             [
              0.8888888888888888,
              "#fdca26"
             ],
             [
              1,
              "#f0f921"
             ]
            ],
            "type": "heatmap"
           }
          ],
          "heatmapgl": [
           {
            "colorbar": {
             "outlinewidth": 0,
             "ticks": ""
            },
            "colorscale": [
             [
              0,
              "#0d0887"
             ],
             [
              0.1111111111111111,
              "#46039f"
             ],
             [
              0.2222222222222222,
              "#7201a8"
             ],
             [
              0.3333333333333333,
              "#9c179e"
             ],
             [
              0.4444444444444444,
              "#bd3786"
             ],
             [
              0.5555555555555556,
              "#d8576b"
             ],
             [
              0.6666666666666666,
              "#ed7953"
             ],
             [
              0.7777777777777778,
              "#fb9f3a"
             ],
             [
              0.8888888888888888,
              "#fdca26"
             ],
             [
              1,
              "#f0f921"
             ]
            ],
            "type": "heatmapgl"
           }
          ],
          "histogram": [
           {
            "marker": {
             "colorbar": {
              "outlinewidth": 0,
              "ticks": ""
             }
            },
            "type": "histogram"
           }
          ],
          "histogram2d": [
           {
            "colorbar": {
             "outlinewidth": 0,
             "ticks": ""
            },
            "colorscale": [
             [
              0,
              "#0d0887"
             ],
             [
              0.1111111111111111,
              "#46039f"
             ],
             [
              0.2222222222222222,
              "#7201a8"
             ],
             [
              0.3333333333333333,
              "#9c179e"
             ],
             [
              0.4444444444444444,
              "#bd3786"
             ],
             [
              0.5555555555555556,
              "#d8576b"
             ],
             [
              0.6666666666666666,
              "#ed7953"
             ],
             [
              0.7777777777777778,
              "#fb9f3a"
             ],
             [
              0.8888888888888888,
              "#fdca26"
             ],
             [
              1,
              "#f0f921"
             ]
            ],
            "type": "histogram2d"
           }
          ],
          "histogram2dcontour": [
           {
            "colorbar": {
             "outlinewidth": 0,
             "ticks": ""
            },
            "colorscale": [
             [
              0,
              "#0d0887"
             ],
             [
              0.1111111111111111,
              "#46039f"
             ],
             [
              0.2222222222222222,
              "#7201a8"
             ],
             [
              0.3333333333333333,
              "#9c179e"
             ],
             [
              0.4444444444444444,
              "#bd3786"
             ],
             [
              0.5555555555555556,
              "#d8576b"
             ],
             [
              0.6666666666666666,
              "#ed7953"
             ],
             [
              0.7777777777777778,
              "#fb9f3a"
             ],
             [
              0.8888888888888888,
              "#fdca26"
             ],
             [
              1,
              "#f0f921"
             ]
            ],
            "type": "histogram2dcontour"
           }
          ],
          "mesh3d": [
           {
            "colorbar": {
             "outlinewidth": 0,
             "ticks": ""
            },
            "type": "mesh3d"
           }
          ],
          "parcoords": [
           {
            "line": {
             "colorbar": {
              "outlinewidth": 0,
              "ticks": ""
             }
            },
            "type": "parcoords"
           }
          ],
          "pie": [
           {
            "automargin": true,
            "type": "pie"
           }
          ],
          "scatter": [
           {
            "marker": {
             "colorbar": {
              "outlinewidth": 0,
              "ticks": ""
             }
            },
            "type": "scatter"
           }
          ],
          "scatter3d": [
           {
            "line": {
             "colorbar": {
              "outlinewidth": 0,
              "ticks": ""
             }
            },
            "marker": {
             "colorbar": {
              "outlinewidth": 0,
              "ticks": ""
             }
            },
            "type": "scatter3d"
           }
          ],
          "scattercarpet": [
           {
            "marker": {
             "colorbar": {
              "outlinewidth": 0,
              "ticks": ""
             }
            },
            "type": "scattercarpet"
           }
          ],
          "scattergeo": [
           {
            "marker": {
             "colorbar": {
              "outlinewidth": 0,
              "ticks": ""
             }
            },
            "type": "scattergeo"
           }
          ],
          "scattergl": [
           {
            "marker": {
             "colorbar": {
              "outlinewidth": 0,
              "ticks": ""
             }
            },
            "type": "scattergl"
           }
          ],
          "scattermapbox": [
           {
            "marker": {
             "colorbar": {
              "outlinewidth": 0,
              "ticks": ""
             }
            },
            "type": "scattermapbox"
           }
          ],
          "scatterpolar": [
           {
            "marker": {
             "colorbar": {
              "outlinewidth": 0,
              "ticks": ""
             }
            },
            "type": "scatterpolar"
           }
          ],
          "scatterpolargl": [
           {
            "marker": {
             "colorbar": {
              "outlinewidth": 0,
              "ticks": ""
             }
            },
            "type": "scatterpolargl"
           }
          ],
          "scatterternary": [
           {
            "marker": {
             "colorbar": {
              "outlinewidth": 0,
              "ticks": ""
             }
            },
            "type": "scatterternary"
           }
          ],
          "surface": [
           {
            "colorbar": {
             "outlinewidth": 0,
             "ticks": ""
            },
            "colorscale": [
             [
              0,
              "#0d0887"
             ],
             [
              0.1111111111111111,
              "#46039f"
             ],
             [
              0.2222222222222222,
              "#7201a8"
             ],
             [
              0.3333333333333333,
              "#9c179e"
             ],
             [
              0.4444444444444444,
              "#bd3786"
             ],
             [
              0.5555555555555556,
              "#d8576b"
             ],
             [
              0.6666666666666666,
              "#ed7953"
             ],
             [
              0.7777777777777778,
              "#fb9f3a"
             ],
             [
              0.8888888888888888,
              "#fdca26"
             ],
             [
              1,
              "#f0f921"
             ]
            ],
            "type": "surface"
           }
          ],
          "table": [
           {
            "cells": {
             "fill": {
              "color": "#EBF0F8"
             },
             "line": {
              "color": "white"
             }
            },
            "header": {
             "fill": {
              "color": "#C8D4E3"
             },
             "line": {
              "color": "white"
             }
            },
            "type": "table"
           }
          ]
         },
         "layout": {
          "annotationdefaults": {
           "arrowcolor": "#2a3f5f",
           "arrowhead": 0,
           "arrowwidth": 1
          },
          "coloraxis": {
           "colorbar": {
            "outlinewidth": 0,
            "ticks": ""
           }
          },
          "colorscale": {
           "diverging": [
            [
             0,
             "#8e0152"
            ],
            [
             0.1,
             "#c51b7d"
            ],
            [
             0.2,
             "#de77ae"
            ],
            [
             0.3,
             "#f1b6da"
            ],
            [
             0.4,
             "#fde0ef"
            ],
            [
             0.5,
             "#f7f7f7"
            ],
            [
             0.6,
             "#e6f5d0"
            ],
            [
             0.7,
             "#b8e186"
            ],
            [
             0.8,
             "#7fbc41"
            ],
            [
             0.9,
             "#4d9221"
            ],
            [
             1,
             "#276419"
            ]
           ],
           "sequential": [
            [
             0,
             "#0d0887"
            ],
            [
             0.1111111111111111,
             "#46039f"
            ],
            [
             0.2222222222222222,
             "#7201a8"
            ],
            [
             0.3333333333333333,
             "#9c179e"
            ],
            [
             0.4444444444444444,
             "#bd3786"
            ],
            [
             0.5555555555555556,
             "#d8576b"
            ],
            [
             0.6666666666666666,
             "#ed7953"
            ],
            [
             0.7777777777777778,
             "#fb9f3a"
            ],
            [
             0.8888888888888888,
             "#fdca26"
            ],
            [
             1,
             "#f0f921"
            ]
           ],
           "sequentialminus": [
            [
             0,
             "#0d0887"
            ],
            [
             0.1111111111111111,
             "#46039f"
            ],
            [
             0.2222222222222222,
             "#7201a8"
            ],
            [
             0.3333333333333333,
             "#9c179e"
            ],
            [
             0.4444444444444444,
             "#bd3786"
            ],
            [
             0.5555555555555556,
             "#d8576b"
            ],
            [
             0.6666666666666666,
             "#ed7953"
            ],
            [
             0.7777777777777778,
             "#fb9f3a"
            ],
            [
             0.8888888888888888,
             "#fdca26"
            ],
            [
             1,
             "#f0f921"
            ]
           ]
          },
          "colorway": [
           "#636efa",
           "#EF553B",
           "#00cc96",
           "#ab63fa",
           "#FFA15A",
           "#19d3f3",
           "#FF6692",
           "#B6E880",
           "#FF97FF",
           "#FECB52"
          ],
          "font": {
           "color": "#2a3f5f"
          },
          "geo": {
           "bgcolor": "white",
           "lakecolor": "white",
           "landcolor": "#E5ECF6",
           "showlakes": true,
           "showland": true,
           "subunitcolor": "white"
          },
          "hoverlabel": {
           "align": "left"
          },
          "hovermode": "closest",
          "mapbox": {
           "style": "light"
          },
          "paper_bgcolor": "white",
          "plot_bgcolor": "#E5ECF6",
          "polar": {
           "angularaxis": {
            "gridcolor": "white",
            "linecolor": "white",
            "ticks": ""
           },
           "bgcolor": "#E5ECF6",
           "radialaxis": {
            "gridcolor": "white",
            "linecolor": "white",
            "ticks": ""
           }
          },
          "scene": {
           "xaxis": {
            "backgroundcolor": "#E5ECF6",
            "gridcolor": "white",
            "gridwidth": 2,
            "linecolor": "white",
            "showbackground": true,
            "ticks": "",
            "zerolinecolor": "white"
           },
           "yaxis": {
            "backgroundcolor": "#E5ECF6",
            "gridcolor": "white",
            "gridwidth": 2,
            "linecolor": "white",
            "showbackground": true,
            "ticks": "",
            "zerolinecolor": "white"
           },
           "zaxis": {
            "backgroundcolor": "#E5ECF6",
            "gridcolor": "white",
            "gridwidth": 2,
            "linecolor": "white",
            "showbackground": true,
            "ticks": "",
            "zerolinecolor": "white"
           }
          },
          "shapedefaults": {
           "line": {
            "color": "#2a3f5f"
           }
          },
          "ternary": {
           "aaxis": {
            "gridcolor": "white",
            "linecolor": "white",
            "ticks": ""
           },
           "baxis": {
            "gridcolor": "white",
            "linecolor": "white",
            "ticks": ""
           },
           "bgcolor": "#E5ECF6",
           "caxis": {
            "gridcolor": "white",
            "linecolor": "white",
            "ticks": ""
           }
          },
          "title": {
           "x": 0.05
          },
          "xaxis": {
           "automargin": true,
           "gridcolor": "white",
           "linecolor": "white",
           "ticks": "",
           "title": {
            "standoff": 15
           },
           "zerolinecolor": "white",
           "zerolinewidth": 2
          },
          "yaxis": {
           "automargin": true,
           "gridcolor": "white",
           "linecolor": "white",
           "ticks": "",
           "title": {
            "standoff": 15
           },
           "zerolinecolor": "white",
           "zerolinewidth": 2
          }
         }
        },
        "title": {
         "text": "Preferred foot"
        },
        "xaxis": {
         "anchor": "y",
         "domain": [
          0,
          0.94
         ]
        },
        "yaxis": {
         "anchor": "x",
         "domain": [
          0,
          1
         ],
         "rangemode": "tozero",
         "tickfont": {
          "size": 14
         },
         "title": {
          "font": {
           "size": 16
          },
          "text": "Share shots (in %)"
         }
        },
        "yaxis2": {
         "anchor": "x",
         "overlaying": "y",
         "rangemode": "tozero",
         "side": "right",
         "tickfont": {
          "size": 14
         },
         "title": {
          "font": {
           "size": 16
          },
          "text": "Goal (in %)"
         }
        }
       }
      },
      "text/html": [
       "<div>\n",
       "        \n",
       "        \n",
       "            <div id=\"017f64ab-ac79-4b8d-b095-6d35aed27422\" class=\"plotly-graph-div\" style=\"height:525px; width:100%;\"></div>\n",
       "            <script type=\"text/javascript\">\n",
       "                require([\"plotly\"], function(Plotly) {\n",
       "                    window.PLOTLYENV=window.PLOTLYENV || {};\n",
       "                    \n",
       "                if (document.getElementById(\"017f64ab-ac79-4b8d-b095-6d35aed27422\")) {\n",
       "                    Plotly.newPlot(\n",
       "                        '017f64ab-ac79-4b8d-b095-6d35aed27422',\n",
       "                        [{\"name\": \"Goal (in %)\", \"type\": \"bar\", \"x\": [\"Head/body\", \"Other Foot\", \"Preferred Foot\"], \"y\": [26.70940170940171, 22.41215574548908, 50.878442545109216]}, {\"name\": \"Share shots (in %)\", \"type\": \"scatter\", \"x\": [\"Head/body\", \"Other Foot\", \"Preferred Foot\"], \"xaxis\": \"x\", \"y\": [12.622222222222224, 15.889830508474576, 17.452169855342976], \"yaxis\": \"y2\"}],\n",
       "                        {\"hovermode\": false, \"template\": {\"data\": {\"bar\": [{\"error_x\": {\"color\": \"#2a3f5f\"}, \"error_y\": {\"color\": \"#2a3f5f\"}, \"marker\": {\"line\": {\"color\": \"#E5ECF6\", \"width\": 0.5}}, \"type\": \"bar\"}], \"barpolar\": [{\"marker\": {\"line\": {\"color\": \"#E5ECF6\", \"width\": 0.5}}, \"type\": \"barpolar\"}], \"carpet\": [{\"aaxis\": {\"endlinecolor\": \"#2a3f5f\", \"gridcolor\": \"white\", \"linecolor\": \"white\", \"minorgridcolor\": \"white\", \"startlinecolor\": \"#2a3f5f\"}, \"baxis\": {\"endlinecolor\": \"#2a3f5f\", \"gridcolor\": \"white\", \"linecolor\": \"white\", \"minorgridcolor\": \"white\", \"startlinecolor\": \"#2a3f5f\"}, \"type\": \"carpet\"}], \"choropleth\": [{\"colorbar\": {\"outlinewidth\": 0, \"ticks\": \"\"}, \"type\": \"choropleth\"}], \"contour\": [{\"colorbar\": {\"outlinewidth\": 0, \"ticks\": \"\"}, \"colorscale\": [[0.0, \"#0d0887\"], [0.1111111111111111, \"#46039f\"], [0.2222222222222222, \"#7201a8\"], [0.3333333333333333, \"#9c179e\"], [0.4444444444444444, \"#bd3786\"], [0.5555555555555556, \"#d8576b\"], [0.6666666666666666, \"#ed7953\"], [0.7777777777777778, \"#fb9f3a\"], [0.8888888888888888, \"#fdca26\"], [1.0, \"#f0f921\"]], \"type\": \"contour\"}], \"contourcarpet\": [{\"colorbar\": {\"outlinewidth\": 0, \"ticks\": \"\"}, \"type\": \"contourcarpet\"}], \"heatmap\": [{\"colorbar\": {\"outlinewidth\": 0, \"ticks\": \"\"}, \"colorscale\": [[0.0, \"#0d0887\"], [0.1111111111111111, \"#46039f\"], [0.2222222222222222, \"#7201a8\"], [0.3333333333333333, \"#9c179e\"], [0.4444444444444444, \"#bd3786\"], [0.5555555555555556, \"#d8576b\"], [0.6666666666666666, \"#ed7953\"], [0.7777777777777778, \"#fb9f3a\"], [0.8888888888888888, \"#fdca26\"], [1.0, \"#f0f921\"]], \"type\": \"heatmap\"}], \"heatmapgl\": [{\"colorbar\": {\"outlinewidth\": 0, \"ticks\": \"\"}, \"colorscale\": [[0.0, \"#0d0887\"], [0.1111111111111111, \"#46039f\"], [0.2222222222222222, \"#7201a8\"], [0.3333333333333333, \"#9c179e\"], [0.4444444444444444, \"#bd3786\"], [0.5555555555555556, \"#d8576b\"], [0.6666666666666666, \"#ed7953\"], [0.7777777777777778, \"#fb9f3a\"], [0.8888888888888888, \"#fdca26\"], [1.0, \"#f0f921\"]], \"type\": \"heatmapgl\"}], \"histogram\": [{\"marker\": {\"colorbar\": {\"outlinewidth\": 0, \"ticks\": \"\"}}, \"type\": \"histogram\"}], \"histogram2d\": [{\"colorbar\": {\"outlinewidth\": 0, \"ticks\": \"\"}, \"colorscale\": [[0.0, \"#0d0887\"], [0.1111111111111111, \"#46039f\"], [0.2222222222222222, \"#7201a8\"], [0.3333333333333333, \"#9c179e\"], [0.4444444444444444, \"#bd3786\"], [0.5555555555555556, \"#d8576b\"], [0.6666666666666666, \"#ed7953\"], [0.7777777777777778, \"#fb9f3a\"], [0.8888888888888888, \"#fdca26\"], [1.0, \"#f0f921\"]], \"type\": \"histogram2d\"}], \"histogram2dcontour\": [{\"colorbar\": {\"outlinewidth\": 0, \"ticks\": \"\"}, \"colorscale\": [[0.0, \"#0d0887\"], [0.1111111111111111, \"#46039f\"], [0.2222222222222222, \"#7201a8\"], [0.3333333333333333, \"#9c179e\"], [0.4444444444444444, \"#bd3786\"], [0.5555555555555556, \"#d8576b\"], [0.6666666666666666, \"#ed7953\"], [0.7777777777777778, \"#fb9f3a\"], [0.8888888888888888, \"#fdca26\"], [1.0, \"#f0f921\"]], \"type\": \"histogram2dcontour\"}], \"mesh3d\": [{\"colorbar\": {\"outlinewidth\": 0, \"ticks\": \"\"}, \"type\": \"mesh3d\"}], \"parcoords\": [{\"line\": {\"colorbar\": {\"outlinewidth\": 0, \"ticks\": \"\"}}, \"type\": \"parcoords\"}], \"pie\": [{\"automargin\": true, \"type\": \"pie\"}], \"scatter\": [{\"marker\": {\"colorbar\": {\"outlinewidth\": 0, \"ticks\": \"\"}}, \"type\": \"scatter\"}], \"scatter3d\": [{\"line\": {\"colorbar\": {\"outlinewidth\": 0, \"ticks\": \"\"}}, \"marker\": {\"colorbar\": {\"outlinewidth\": 0, \"ticks\": \"\"}}, \"type\": \"scatter3d\"}], \"scattercarpet\": [{\"marker\": {\"colorbar\": {\"outlinewidth\": 0, \"ticks\": \"\"}}, \"type\": \"scattercarpet\"}], \"scattergeo\": [{\"marker\": {\"colorbar\": {\"outlinewidth\": 0, \"ticks\": \"\"}}, \"type\": \"scattergeo\"}], \"scattergl\": [{\"marker\": {\"colorbar\": {\"outlinewidth\": 0, \"ticks\": \"\"}}, \"type\": \"scattergl\"}], \"scattermapbox\": [{\"marker\": {\"colorbar\": {\"outlinewidth\": 0, \"ticks\": \"\"}}, \"type\": \"scattermapbox\"}], \"scatterpolar\": [{\"marker\": {\"colorbar\": {\"outlinewidth\": 0, \"ticks\": \"\"}}, \"type\": \"scatterpolar\"}], \"scatterpolargl\": [{\"marker\": {\"colorbar\": {\"outlinewidth\": 0, \"ticks\": \"\"}}, \"type\": \"scatterpolargl\"}], \"scatterternary\": [{\"marker\": {\"colorbar\": {\"outlinewidth\": 0, \"ticks\": \"\"}}, \"type\": \"scatterternary\"}], \"surface\": [{\"colorbar\": {\"outlinewidth\": 0, \"ticks\": \"\"}, \"colorscale\": [[0.0, \"#0d0887\"], [0.1111111111111111, \"#46039f\"], [0.2222222222222222, \"#7201a8\"], [0.3333333333333333, \"#9c179e\"], [0.4444444444444444, \"#bd3786\"], [0.5555555555555556, \"#d8576b\"], [0.6666666666666666, \"#ed7953\"], [0.7777777777777778, \"#fb9f3a\"], [0.8888888888888888, \"#fdca26\"], [1.0, \"#f0f921\"]], \"type\": \"surface\"}], \"table\": [{\"cells\": {\"fill\": {\"color\": \"#EBF0F8\"}, \"line\": {\"color\": \"white\"}}, \"header\": {\"fill\": {\"color\": \"#C8D4E3\"}, \"line\": {\"color\": \"white\"}}, \"type\": \"table\"}]}, \"layout\": {\"annotationdefaults\": {\"arrowcolor\": \"#2a3f5f\", \"arrowhead\": 0, \"arrowwidth\": 1}, \"coloraxis\": {\"colorbar\": {\"outlinewidth\": 0, \"ticks\": \"\"}}, \"colorscale\": {\"diverging\": [[0, \"#8e0152\"], [0.1, \"#c51b7d\"], [0.2, \"#de77ae\"], [0.3, \"#f1b6da\"], [0.4, \"#fde0ef\"], [0.5, \"#f7f7f7\"], [0.6, \"#e6f5d0\"], [0.7, \"#b8e186\"], [0.8, \"#7fbc41\"], [0.9, \"#4d9221\"], [1, \"#276419\"]], \"sequential\": [[0.0, \"#0d0887\"], [0.1111111111111111, \"#46039f\"], [0.2222222222222222, \"#7201a8\"], [0.3333333333333333, \"#9c179e\"], [0.4444444444444444, \"#bd3786\"], [0.5555555555555556, \"#d8576b\"], [0.6666666666666666, \"#ed7953\"], [0.7777777777777778, \"#fb9f3a\"], [0.8888888888888888, \"#fdca26\"], [1.0, \"#f0f921\"]], \"sequentialminus\": [[0.0, \"#0d0887\"], [0.1111111111111111, \"#46039f\"], [0.2222222222222222, \"#7201a8\"], [0.3333333333333333, \"#9c179e\"], [0.4444444444444444, \"#bd3786\"], [0.5555555555555556, \"#d8576b\"], [0.6666666666666666, \"#ed7953\"], [0.7777777777777778, \"#fb9f3a\"], [0.8888888888888888, \"#fdca26\"], [1.0, \"#f0f921\"]]}, \"colorway\": [\"#636efa\", \"#EF553B\", \"#00cc96\", \"#ab63fa\", \"#FFA15A\", \"#19d3f3\", \"#FF6692\", \"#B6E880\", \"#FF97FF\", \"#FECB52\"], \"font\": {\"color\": \"#2a3f5f\"}, \"geo\": {\"bgcolor\": \"white\", \"lakecolor\": \"white\", \"landcolor\": \"#E5ECF6\", \"showlakes\": true, \"showland\": true, \"subunitcolor\": \"white\"}, \"hoverlabel\": {\"align\": \"left\"}, \"hovermode\": \"closest\", \"mapbox\": {\"style\": \"light\"}, \"paper_bgcolor\": \"white\", \"plot_bgcolor\": \"#E5ECF6\", \"polar\": {\"angularaxis\": {\"gridcolor\": \"white\", \"linecolor\": \"white\", \"ticks\": \"\"}, \"bgcolor\": \"#E5ECF6\", \"radialaxis\": {\"gridcolor\": \"white\", \"linecolor\": \"white\", \"ticks\": \"\"}}, \"scene\": {\"xaxis\": {\"backgroundcolor\": \"#E5ECF6\", \"gridcolor\": \"white\", \"gridwidth\": 2, \"linecolor\": \"white\", \"showbackground\": true, \"ticks\": \"\", \"zerolinecolor\": \"white\"}, \"yaxis\": {\"backgroundcolor\": \"#E5ECF6\", \"gridcolor\": \"white\", \"gridwidth\": 2, \"linecolor\": \"white\", \"showbackground\": true, \"ticks\": \"\", \"zerolinecolor\": \"white\"}, \"zaxis\": {\"backgroundcolor\": \"#E5ECF6\", \"gridcolor\": \"white\", \"gridwidth\": 2, \"linecolor\": \"white\", \"showbackground\": true, \"ticks\": \"\", \"zerolinecolor\": \"white\"}}, \"shapedefaults\": {\"line\": {\"color\": \"#2a3f5f\"}}, \"ternary\": {\"aaxis\": {\"gridcolor\": \"white\", \"linecolor\": \"white\", \"ticks\": \"\"}, \"baxis\": {\"gridcolor\": \"white\", \"linecolor\": \"white\", \"ticks\": \"\"}, \"bgcolor\": \"#E5ECF6\", \"caxis\": {\"gridcolor\": \"white\", \"linecolor\": \"white\", \"ticks\": \"\"}}, \"title\": {\"x\": 0.05}, \"xaxis\": {\"automargin\": true, \"gridcolor\": \"white\", \"linecolor\": \"white\", \"ticks\": \"\", \"title\": {\"standoff\": 15}, \"zerolinecolor\": \"white\", \"zerolinewidth\": 2}, \"yaxis\": {\"automargin\": true, \"gridcolor\": \"white\", \"linecolor\": \"white\", \"ticks\": \"\", \"title\": {\"standoff\": 15}, \"zerolinecolor\": \"white\", \"zerolinewidth\": 2}}}, \"title\": {\"text\": \"Preferred foot\"}, \"xaxis\": {\"anchor\": \"y\", \"domain\": [0.0, 0.94]}, \"yaxis\": {\"anchor\": \"x\", \"domain\": [0.0, 1.0], \"rangemode\": \"tozero\", \"tickfont\": {\"size\": 14}, \"title\": {\"font\": {\"size\": 16}, \"text\": \"Share shots (in %)\"}}, \"yaxis2\": {\"anchor\": \"x\", \"overlaying\": \"y\", \"rangemode\": \"tozero\", \"side\": \"right\", \"tickfont\": {\"size\": 14}, \"title\": {\"font\": {\"size\": 16}, \"text\": \"Goal (in %)\"}}},\n",
       "                        {\"responsive\": true}\n",
       "                    ).then(function(){\n",
       "                            \n",
       "var gd = document.getElementById('017f64ab-ac79-4b8d-b095-6d35aed27422');\n",
       "var x = new MutationObserver(function (mutations, observer) {{\n",
       "        var display = window.getComputedStyle(gd).display;\n",
       "        if (!display || display === 'none') {{\n",
       "            console.log([gd, 'removed!']);\n",
       "            Plotly.purge(gd);\n",
       "            observer.disconnect();\n",
       "        }}\n",
       "}});\n",
       "\n",
       "// Listen for the removal of the full notebook cells\n",
       "var notebookContainer = gd.closest('#notebook-container');\n",
       "if (notebookContainer) {{\n",
       "    x.observe(notebookContainer, {childList: true});\n",
       "}}\n",
       "\n",
       "// Listen for the clearing of the current output cell\n",
       "var outputEl = gd.closest('.output');\n",
       "if (outputEl) {{\n",
       "    x.observe(outputEl, {childList: true});\n",
       "}}\n",
       "\n",
       "                        })\n",
       "                };\n",
       "                });\n",
       "            </script>\n",
       "        </div>"
      ]
     },
     "metadata": {},
     "output_type": "display_data"
    }
   ],
   "source": [
    "df_shots_close = df_shots[df_shots[\"posBeforeXMeters\"] > FIELD_LENGTH - 16].copy()\n",
    "graph_pref_foot = create_univariate_variable_graph(df_shots_close, \"preferredFoot\", target_col, y1_axis_name, y2_axis_name,\n",
    "                                        title_name=\"Preferred foot\")\n",
    "graph_pref_foot.show()"
   ]
  },
  {
   "cell_type": "markdown",
   "metadata": {},
   "source": [
    "### Position of shot"
   ]
  },
  {
   "cell_type": "markdown",
   "metadata": {},
   "source": [
    "Where did the shots happen?"
   ]
  },
  {
   "cell_type": "code",
   "execution_count": 294,
   "metadata": {},
   "outputs": [],
   "source": [
    "def calculate_bucket_for_position(series, nb_buckets, min_pos_val, max_pos_val):\n",
    "    \n",
    "    buckets = np.arange(min_pos_val,max_pos_val + 0.001,max_pos_val/nb_buckets)\n",
    "    \n",
    "    df_buckets = pd.DataFrame()\n",
    "    df_buckets[\"id\"] = np.arange(len(buckets) - 1)\n",
    "    df_buckets[\"minValueBucket\"] = list(buckets)[:-1]\n",
    "    df_buckets[\"maxValueBucket\"] = list(buckets)[1:]\n",
    "    df_buckets[\"meanValueBucket\"] = (df_buckets[\"minValueBucket\"] + df_buckets[\"maxValueBucket\"]) / 2\n",
    "    \n",
    "    buckets[-1] = buckets[-1] + 0.001\n",
    "    \n",
    "    return pd.cut(series, buckets, labels=False, include_lowest=True), df_buckets"
   ]
  },
  {
   "cell_type": "code",
   "execution_count": 295,
   "metadata": {},
   "outputs": [],
   "source": [
    "def prepare_heatmap(df, col_x, col_y, nb_buckets_x, nb_buckets_y, min_val_x=0, max_val_x=105, min_val_y=0, max_val_y=68):\n",
    "    \n",
    "    df = df.copy()\n",
    "    \n",
    "    df[col_x + \"Bucket\"], df_lookup_x_buckets = calculate_bucket_for_position(df[col_x], nb_buckets_x, min_val_x, max_val_x)\n",
    "    df[col_y + \"Bucket\"], df_lookup_y_buckets = calculate_bucket_for_position(df[col_y], nb_buckets_y, min_val_y, max_val_y)\n",
    "    \n",
    "    df_pos = df.groupby([col_x + \"Bucket\",col_y + \"Bucket\"]).\\\n",
    "                          agg(nbEvents=(col_x + \"Bucket\",\"count\")).reset_index()\n",
    "    \n",
    "    df_all_pos = pd.DataFrame([(x,y) for x in df_lookup_x_buckets[\"id\"] for y in df_lookup_y_buckets[\"id\"]],\n",
    "                          columns=[col_x + \"Bucket\", col_y + \"Bucket\"])\n",
    "    \n",
    "    df_lookup_x_buckets.rename(columns={\"id\": col_x + \"Bucket\", \"meanValueBucket\": col_x + \"BucketMean\"}, inplace=True)\n",
    "    df_lookup_y_buckets.rename(columns={\"id\": col_y + \"Bucket\", \"meanValueBucket\": col_y + \"BucketMean\"}, inplace=True)\n",
    "    \n",
    "    df_all_pos = pd.merge(df_all_pos, df_lookup_x_buckets[[col_x + \"Bucket\", col_x + \"BucketMean\"]], how=\"left\")\n",
    "    df_all_pos = pd.merge(df_all_pos, df_lookup_y_buckets[[col_y + \"Bucket\", col_y + \"BucketMean\"]], how=\"left\")\n",
    "    \n",
    "    df_pos = pd.merge(df_all_pos, df_pos, how=\"left\").fillna(0)\n",
    "    df_img = df_pos.pivot(col_y + \"BucketMean\", col_x + \"BucketMean\", \"nbEvents\")\n",
    "    \n",
    "    x = list(df_img.columns)\n",
    "    y = list(df_img.index)\n",
    "    \n",
    "    img = np.array(df_img)\n",
    "    \n",
    "    return img, x, y"
   ]
  },
  {
   "cell_type": "code",
   "execution_count": 315,
   "metadata": {},
   "outputs": [],
   "source": [
    "def create_heatmap(df, x, y, z, dict_info, title_name=None):\n",
    "    \n",
    "    # Prepare the text to be shown when hovering over the heatmap\n",
    "    hovertext=list()\n",
    "    for idy in range(len(z)):\n",
    "        hovertext.append(list())\n",
    "        for idx in range(len(z[1])):\n",
    "            text = \"\"\n",
    "            for key in dict_info.keys():\n",
    "                text += \"{}: {:^{display_type}}<br />\".format(key, dict_info[key][\"values\"][idy][idx], \n",
    "                                                              display_type=dict_info[key][\"display_type\"])\n",
    "            hovertext[-1].append(text)\n",
    "    \n",
    "    # get the empty soccer field\n",
    "    fig = helper.create_empty_field()\n",
    "    # overlay field with the heatmap\n",
    "    fig.add_trace(\n",
    "        go.Heatmap(x=x, y=y, z=nb_shots, hoverinfo='text', text=hovertext)\n",
    "    )\n",
    "    \n",
    "    if title_name is not None:\n",
    "        fig.update_layout(\n",
    "                title={\n",
    "                    'text': title_name,\n",
    "                    'y': 0.9,\n",
    "                    'x': 0.5,\n",
    "                    'xanchor': 'center',\n",
    "                    'yanchor': 'top'})\n",
    "    \n",
    "    return fig"
   ]
  },
  {
   "cell_type": "code",
   "execution_count": 316,
   "metadata": {},
   "outputs": [],
   "source": [
    "nb_shots, x, y = prepare_heatmap(df_shots, \"posBeforeXMeters\", \"posBeforeYMeters\", 24, 17)"
   ]
  },
  {
   "cell_type": "code",
   "execution_count": 317,
   "metadata": {},
   "outputs": [],
   "source": [
    "nb_goals, x, y = prepare_heatmap(df_shots[df_shots[\"Goal\"]==1], \"posBeforeXMeters\", \"posBeforeYMeters\", 24, 17)"
   ]
  },
  {
   "cell_type": "code",
   "execution_count": 318,
   "metadata": {},
   "outputs": [
    {
     "name": "stderr",
     "output_type": "stream",
     "text": [
      "c:\\programs_clemens\\anaconda3\\envs\\soccer_dashboard\\lib\\site-packages\\ipykernel_launcher.py:1: RuntimeWarning:\n",
      "\n",
      "invalid value encountered in true_divide\n",
      "\n"
     ]
    }
   ],
   "source": [
    "share_goal = np.where(nb_shots == 0, 0, nb_goals / nb_shots) * 100"
   ]
  },
  {
   "cell_type": "code",
   "execution_count": 319,
   "metadata": {},
   "outputs": [],
   "source": [
    "dict_info = {\"Shots\": {\"values\": nb_shots, \"display_type\": \".0f\"}, \n",
    "             \"Goals\": {\"values\": nb_goals, \"display_type\": \".0f\"},\n",
    "             \"Share goal (%)\": {\"values\": share_goal, \"display_type\": \".1f\"}}"
   ]
  },
  {
   "cell_type": "code",
   "execution_count": 320,
   "metadata": {},
   "outputs": [],
   "source": [
    "field = create_heatmap(df_shots, x, y, nb_shots, dict_info, title_name=\"Number of shots\")"
   ]
  },
  {
   "cell_type": "code",
   "execution_count": 321,
   "metadata": {},
   "outputs": [
    {
     "data": {
      "application/vnd.plotly.v1+json": {
       "config": {
        "plotlyServerURL": "https://plot.ly"
       },
       "data": [
        {
         "hoverinfo": "text",
         "text": [
          [
           "Shots: 0<br />Goals: 0<br />Share goal (%): 0.0<br />",
           "Shots: 0<br />Goals: 0<br />Share goal (%): 0.0<br />",
           "Shots: 0<br />Goals: 0<br />Share goal (%): 0.0<br />",
           "Shots: 0<br />Goals: 0<br />Share goal (%): 0.0<br />",
           "Shots: 0<br />Goals: 0<br />Share goal (%): 0.0<br />",
           "Shots: 0<br />Goals: 0<br />Share goal (%): 0.0<br />",
           "Shots: 0<br />Goals: 0<br />Share goal (%): 0.0<br />",
           "Shots: 0<br />Goals: 0<br />Share goal (%): 0.0<br />",
           "Shots: 1<br />Goals: 0<br />Share goal (%): 0.0<br />",
           "Shots: 1<br />Goals: 0<br />Share goal (%): 0.0<br />",
           "Shots: 0<br />Goals: 0<br />Share goal (%): 0.0<br />",
           "Shots: 0<br />Goals: 0<br />Share goal (%): 0.0<br />",
           "Shots: 0<br />Goals: 0<br />Share goal (%): 0.0<br />",
           "Shots: 0<br />Goals: 0<br />Share goal (%): 0.0<br />",
           "Shots: 0<br />Goals: 0<br />Share goal (%): 0.0<br />",
           "Shots: 0<br />Goals: 0<br />Share goal (%): 0.0<br />",
           "Shots: 0<br />Goals: 0<br />Share goal (%): 0.0<br />",
           "Shots: 0<br />Goals: 0<br />Share goal (%): 0.0<br />",
           "Shots: 1<br />Goals: 0<br />Share goal (%): 0.0<br />",
           "Shots: 0<br />Goals: 0<br />Share goal (%): 0.0<br />",
           "Shots: 0<br />Goals: 0<br />Share goal (%): 0.0<br />",
           "Shots: 0<br />Goals: 0<br />Share goal (%): 0.0<br />",
           "Shots: 0<br />Goals: 0<br />Share goal (%): 0.0<br />",
           "Shots: 0<br />Goals: 0<br />Share goal (%): 0.0<br />"
          ],
          [
           "Shots: 0<br />Goals: 0<br />Share goal (%): 0.0<br />",
           "Shots: 0<br />Goals: 0<br />Share goal (%): 0.0<br />",
           "Shots: 0<br />Goals: 0<br />Share goal (%): 0.0<br />",
           "Shots: 0<br />Goals: 0<br />Share goal (%): 0.0<br />",
           "Shots: 0<br />Goals: 0<br />Share goal (%): 0.0<br />",
           "Shots: 0<br />Goals: 0<br />Share goal (%): 0.0<br />",
           "Shots: 0<br />Goals: 0<br />Share goal (%): 0.0<br />",
           "Shots: 0<br />Goals: 0<br />Share goal (%): 0.0<br />",
           "Shots: 0<br />Goals: 0<br />Share goal (%): 0.0<br />",
           "Shots: 0<br />Goals: 0<br />Share goal (%): 0.0<br />",
           "Shots: 0<br />Goals: 0<br />Share goal (%): 0.0<br />",
           "Shots: 0<br />Goals: 0<br />Share goal (%): 0.0<br />",
           "Shots: 0<br />Goals: 0<br />Share goal (%): 0.0<br />",
           "Shots: 0<br />Goals: 0<br />Share goal (%): 0.0<br />",
           "Shots: 1<br />Goals: 0<br />Share goal (%): 0.0<br />",
           "Shots: 1<br />Goals: 0<br />Share goal (%): 0.0<br />",
           "Shots: 0<br />Goals: 0<br />Share goal (%): 0.0<br />",
           "Shots: 0<br />Goals: 0<br />Share goal (%): 0.0<br />",
           "Shots: 1<br />Goals: 0<br />Share goal (%): 0.0<br />",
           "Shots: 0<br />Goals: 0<br />Share goal (%): 0.0<br />",
           "Shots: 0<br />Goals: 0<br />Share goal (%): 0.0<br />",
           "Shots: 0<br />Goals: 0<br />Share goal (%): 0.0<br />",
           "Shots: 0<br />Goals: 0<br />Share goal (%): 0.0<br />",
           "Shots: 0<br />Goals: 0<br />Share goal (%): 0.0<br />"
          ],
          [
           "Shots: 0<br />Goals: 0<br />Share goal (%): 0.0<br />",
           "Shots: 0<br />Goals: 0<br />Share goal (%): 0.0<br />",
           "Shots: 0<br />Goals: 0<br />Share goal (%): 0.0<br />",
           "Shots: 0<br />Goals: 0<br />Share goal (%): 0.0<br />",
           "Shots: 0<br />Goals: 0<br />Share goal (%): 0.0<br />",
           "Shots: 0<br />Goals: 0<br />Share goal (%): 0.0<br />",
           "Shots: 0<br />Goals: 0<br />Share goal (%): 0.0<br />",
           "Shots: 0<br />Goals: 0<br />Share goal (%): 0.0<br />",
           "Shots: 0<br />Goals: 0<br />Share goal (%): 0.0<br />",
           "Shots: 0<br />Goals: 0<br />Share goal (%): 0.0<br />",
           "Shots: 0<br />Goals: 0<br />Share goal (%): 0.0<br />",
           "Shots: 0<br />Goals: 0<br />Share goal (%): 0.0<br />",
           "Shots: 0<br />Goals: 0<br />Share goal (%): 0.0<br />",
           "Shots: 0<br />Goals: 0<br />Share goal (%): 0.0<br />",
           "Shots: 0<br />Goals: 0<br />Share goal (%): 0.0<br />",
           "Shots: 1<br />Goals: 0<br />Share goal (%): 0.0<br />",
           "Shots: 3<br />Goals: 1<br />Share goal (%): 33.3<br />",
           "Shots: 7<br />Goals: 0<br />Share goal (%): 0.0<br />",
           "Shots: 6<br />Goals: 0<br />Share goal (%): 0.0<br />",
           "Shots: 2<br />Goals: 0<br />Share goal (%): 0.0<br />",
           "Shots: 2<br />Goals: 0<br />Share goal (%): 0.0<br />",
           "Shots: 1<br />Goals: 0<br />Share goal (%): 0.0<br />",
           "Shots: 1<br />Goals: 0<br />Share goal (%): 0.0<br />",
           "Shots: 0<br />Goals: 0<br />Share goal (%): 0.0<br />"
          ],
          [
           "Shots: 0<br />Goals: 0<br />Share goal (%): 0.0<br />",
           "Shots: 0<br />Goals: 0<br />Share goal (%): 0.0<br />",
           "Shots: 0<br />Goals: 0<br />Share goal (%): 0.0<br />",
           "Shots: 0<br />Goals: 0<br />Share goal (%): 0.0<br />",
           "Shots: 0<br />Goals: 0<br />Share goal (%): 0.0<br />",
           "Shots: 0<br />Goals: 0<br />Share goal (%): 0.0<br />",
           "Shots: 0<br />Goals: 0<br />Share goal (%): 0.0<br />",
           "Shots: 0<br />Goals: 0<br />Share goal (%): 0.0<br />",
           "Shots: 0<br />Goals: 0<br />Share goal (%): 0.0<br />",
           "Shots: 0<br />Goals: 0<br />Share goal (%): 0.0<br />",
           "Shots: 0<br />Goals: 0<br />Share goal (%): 0.0<br />",
           "Shots: 0<br />Goals: 0<br />Share goal (%): 0.0<br />",
           "Shots: 0<br />Goals: 0<br />Share goal (%): 0.0<br />",
           "Shots: 0<br />Goals: 0<br />Share goal (%): 0.0<br />",
           "Shots: 0<br />Goals: 0<br />Share goal (%): 0.0<br />",
           "Shots: 1<br />Goals: 0<br />Share goal (%): 0.0<br />",
           "Shots: 7<br />Goals: 0<br />Share goal (%): 0.0<br />",
           "Shots: 28<br />Goals: 0<br />Share goal (%): 0.0<br />",
           "Shots: 15<br />Goals: 0<br />Share goal (%): 0.0<br />",
           "Shots: 11<br />Goals: 0<br />Share goal (%): 0.0<br />",
           "Shots: 13<br />Goals: 0<br />Share goal (%): 0.0<br />",
           "Shots: 13<br />Goals: 0<br />Share goal (%): 0.0<br />",
           "Shots: 5<br />Goals: 0<br />Share goal (%): 0.0<br />",
           "Shots: 1<br />Goals: 0<br />Share goal (%): 0.0<br />"
          ],
          [
           "Shots: 0<br />Goals: 0<br />Share goal (%): 0.0<br />",
           "Shots: 0<br />Goals: 0<br />Share goal (%): 0.0<br />",
           "Shots: 0<br />Goals: 0<br />Share goal (%): 0.0<br />",
           "Shots: 0<br />Goals: 0<br />Share goal (%): 0.0<br />",
           "Shots: 0<br />Goals: 0<br />Share goal (%): 0.0<br />",
           "Shots: 0<br />Goals: 0<br />Share goal (%): 0.0<br />",
           "Shots: 0<br />Goals: 0<br />Share goal (%): 0.0<br />",
           "Shots: 0<br />Goals: 0<br />Share goal (%): 0.0<br />",
           "Shots: 0<br />Goals: 0<br />Share goal (%): 0.0<br />",
           "Shots: 0<br />Goals: 0<br />Share goal (%): 0.0<br />",
           "Shots: 0<br />Goals: 0<br />Share goal (%): 0.0<br />",
           "Shots: 0<br />Goals: 0<br />Share goal (%): 0.0<br />",
           "Shots: 0<br />Goals: 0<br />Share goal (%): 0.0<br />",
           "Shots: 0<br />Goals: 0<br />Share goal (%): 0.0<br />",
           "Shots: 0<br />Goals: 0<br />Share goal (%): 0.0<br />",
           "Shots: 2<br />Goals: 0<br />Share goal (%): 0.0<br />",
           "Shots: 9<br />Goals: 0<br />Share goal (%): 0.0<br />",
           "Shots: 64<br />Goals: 1<br />Share goal (%): 1.6<br />",
           "Shots: 59<br />Goals: 1<br />Share goal (%): 1.7<br />",
           "Shots: 51<br />Goals: 2<br />Share goal (%): 3.9<br />",
           "Shots: 67<br />Goals: 6<br />Share goal (%): 9.0<br />",
           "Shots: 91<br />Goals: 5<br />Share goal (%): 5.5<br />",
           "Shots: 38<br />Goals: 0<br />Share goal (%): 0.0<br />",
           "Shots: 6<br />Goals: 0<br />Share goal (%): 0.0<br />"
          ],
          [
           "Shots: 0<br />Goals: 0<br />Share goal (%): 0.0<br />",
           "Shots: 0<br />Goals: 0<br />Share goal (%): 0.0<br />",
           "Shots: 0<br />Goals: 0<br />Share goal (%): 0.0<br />",
           "Shots: 0<br />Goals: 0<br />Share goal (%): 0.0<br />",
           "Shots: 0<br />Goals: 0<br />Share goal (%): 0.0<br />",
           "Shots: 0<br />Goals: 0<br />Share goal (%): 0.0<br />",
           "Shots: 0<br />Goals: 0<br />Share goal (%): 0.0<br />",
           "Shots: 0<br />Goals: 0<br />Share goal (%): 0.0<br />",
           "Shots: 0<br />Goals: 0<br />Share goal (%): 0.0<br />",
           "Shots: 2<br />Goals: 0<br />Share goal (%): 0.0<br />",
           "Shots: 1<br />Goals: 0<br />Share goal (%): 0.0<br />",
           "Shots: 0<br />Goals: 0<br />Share goal (%): 0.0<br />",
           "Shots: 0<br />Goals: 0<br />Share goal (%): 0.0<br />",
           "Shots: 0<br />Goals: 0<br />Share goal (%): 0.0<br />",
           "Shots: 0<br />Goals: 0<br />Share goal (%): 0.0<br />",
           "Shots: 1<br />Goals: 0<br />Share goal (%): 0.0<br />",
           "Shots: 20<br />Goals: 0<br />Share goal (%): 0.0<br />",
           "Shots: 71<br />Goals: 1<br />Share goal (%): 1.4<br />",
           "Shots: 86<br />Goals: 3<br />Share goal (%): 3.5<br />",
           "Shots: 96<br />Goals: 3<br />Share goal (%): 3.1<br />",
           "Shots: 106<br />Goals: 6<br />Share goal (%): 5.7<br />",
           "Shots: 232<br />Goals: 25<br />Share goal (%): 10.8<br />",
           "Shots: 114<br />Goals: 11<br />Share goal (%): 9.6<br />",
           "Shots: 24<br />Goals: 1<br />Share goal (%): 4.2<br />"
          ],
          [
           "Shots: 1<br />Goals: 0<br />Share goal (%): 0.0<br />",
           "Shots: 1<br />Goals: 0<br />Share goal (%): 0.0<br />",
           "Shots: 0<br />Goals: 0<br />Share goal (%): 0.0<br />",
           "Shots: 0<br />Goals: 0<br />Share goal (%): 0.0<br />",
           "Shots: 0<br />Goals: 0<br />Share goal (%): 0.0<br />",
           "Shots: 0<br />Goals: 0<br />Share goal (%): 0.0<br />",
           "Shots: 0<br />Goals: 0<br />Share goal (%): 0.0<br />",
           "Shots: 0<br />Goals: 0<br />Share goal (%): 0.0<br />",
           "Shots: 0<br />Goals: 0<br />Share goal (%): 0.0<br />",
           "Shots: 0<br />Goals: 0<br />Share goal (%): 0.0<br />",
           "Shots: 0<br />Goals: 0<br />Share goal (%): 0.0<br />",
           "Shots: 0<br />Goals: 0<br />Share goal (%): 0.0<br />",
           "Shots: 0<br />Goals: 0<br />Share goal (%): 0.0<br />",
           "Shots: 0<br />Goals: 0<br />Share goal (%): 0.0<br />",
           "Shots: 2<br />Goals: 0<br />Share goal (%): 0.0<br />",
           "Shots: 1<br />Goals: 0<br />Share goal (%): 0.0<br />",
           "Shots: 21<br />Goals: 1<br />Share goal (%): 4.8<br />",
           "Shots: 103<br />Goals: 3<br />Share goal (%): 2.9<br />",
           "Shots: 113<br />Goals: 2<br />Share goal (%): 1.8<br />",
           "Shots: 102<br />Goals: 4<br />Share goal (%): 3.9<br />",
           "Shots: 123<br />Goals: 12<br />Share goal (%): 9.8<br />",
           "Shots: 276<br />Goals: 32<br />Share goal (%): 11.6<br />",
           "Shots: 132<br />Goals: 30<br />Share goal (%): 22.7<br />",
           "Shots: 51<br />Goals: 14<br />Share goal (%): 27.5<br />"
          ],
          [
           "Shots: 0<br />Goals: 0<br />Share goal (%): 0.0<br />",
           "Shots: 1<br />Goals: 0<br />Share goal (%): 0.0<br />",
           "Shots: 0<br />Goals: 0<br />Share goal (%): 0.0<br />",
           "Shots: 0<br />Goals: 0<br />Share goal (%): 0.0<br />",
           "Shots: 0<br />Goals: 0<br />Share goal (%): 0.0<br />",
           "Shots: 0<br />Goals: 0<br />Share goal (%): 0.0<br />",
           "Shots: 0<br />Goals: 0<br />Share goal (%): 0.0<br />",
           "Shots: 0<br />Goals: 0<br />Share goal (%): 0.0<br />",
           "Shots: 0<br />Goals: 0<br />Share goal (%): 0.0<br />",
           "Shots: 0<br />Goals: 0<br />Share goal (%): 0.0<br />",
           "Shots: 0<br />Goals: 0<br />Share goal (%): 0.0<br />",
           "Shots: 0<br />Goals: 0<br />Share goal (%): 0.0<br />",
           "Shots: 0<br />Goals: 0<br />Share goal (%): 0.0<br />",
           "Shots: 0<br />Goals: 0<br />Share goal (%): 0.0<br />",
           "Shots: 1<br />Goals: 0<br />Share goal (%): 0.0<br />",
           "Shots: 3<br />Goals: 0<br />Share goal (%): 0.0<br />",
           "Shots: 24<br />Goals: 1<br />Share goal (%): 4.2<br />",
           "Shots: 89<br />Goals: 2<br />Share goal (%): 2.2<br />",
           "Shots: 93<br />Goals: 4<br />Share goal (%): 4.3<br />",
           "Shots: 105<br />Goals: 11<br />Share goal (%): 10.5<br />",
           "Shots: 129<br />Goals: 7<br />Share goal (%): 5.4<br />",
           "Shots: 306<br />Goals: 53<br />Share goal (%): 17.3<br />",
           "Shots: 192<br />Goals: 50<br />Share goal (%): 26.0<br />",
           "Shots: 57<br />Goals: 31<br />Share goal (%): 54.4<br />"
          ],
          [
           "Shots: 1<br />Goals: 1<br />Share goal (%): 100.0<br />",
           "Shots: 1<br />Goals: 1<br />Share goal (%): 100.0<br />",
           "Shots: 0<br />Goals: 0<br />Share goal (%): 0.0<br />",
           "Shots: 0<br />Goals: 0<br />Share goal (%): 0.0<br />",
           "Shots: 0<br />Goals: 0<br />Share goal (%): 0.0<br />",
           "Shots: 0<br />Goals: 0<br />Share goal (%): 0.0<br />",
           "Shots: 0<br />Goals: 0<br />Share goal (%): 0.0<br />",
           "Shots: 0<br />Goals: 0<br />Share goal (%): 0.0<br />",
           "Shots: 0<br />Goals: 0<br />Share goal (%): 0.0<br />",
           "Shots: 0<br />Goals: 0<br />Share goal (%): 0.0<br />",
           "Shots: 2<br />Goals: 0<br />Share goal (%): 0.0<br />",
           "Shots: 1<br />Goals: 0<br />Share goal (%): 0.0<br />",
           "Shots: 0<br />Goals: 0<br />Share goal (%): 0.0<br />",
           "Shots: 1<br />Goals: 0<br />Share goal (%): 0.0<br />",
           "Shots: 0<br />Goals: 0<br />Share goal (%): 0.0<br />",
           "Shots: 2<br />Goals: 0<br />Share goal (%): 0.0<br />",
           "Shots: 15<br />Goals: 0<br />Share goal (%): 0.0<br />",
           "Shots: 97<br />Goals: 4<br />Share goal (%): 4.1<br />",
           "Shots: 95<br />Goals: 1<br />Share goal (%): 1.1<br />",
           "Shots: 102<br />Goals: 5<br />Share goal (%): 4.9<br />",
           "Shots: 120<br />Goals: 12<br />Share goal (%): 10.0<br />",
           "Shots: 236<br />Goals: 42<br />Share goal (%): 17.8<br />",
           "Shots: 194<br />Goals: 53<br />Share goal (%): 27.3<br />",
           "Shots: 67<br />Goals: 47<br />Share goal (%): 70.1<br />"
          ],
          [
           "Shots: 0<br />Goals: 0<br />Share goal (%): 0.0<br />",
           "Shots: 1<br />Goals: 0<br />Share goal (%): 0.0<br />",
           "Shots: 0<br />Goals: 0<br />Share goal (%): 0.0<br />",
           "Shots: 0<br />Goals: 0<br />Share goal (%): 0.0<br />",
           "Shots: 0<br />Goals: 0<br />Share goal (%): 0.0<br />",
           "Shots: 0<br />Goals: 0<br />Share goal (%): 0.0<br />",
           "Shots: 0<br />Goals: 0<br />Share goal (%): 0.0<br />",
           "Shots: 0<br />Goals: 0<br />Share goal (%): 0.0<br />",
           "Shots: 0<br />Goals: 0<br />Share goal (%): 0.0<br />",
           "Shots: 0<br />Goals: 0<br />Share goal (%): 0.0<br />",
           "Shots: 0<br />Goals: 0<br />Share goal (%): 0.0<br />",
           "Shots: 0<br />Goals: 0<br />Share goal (%): 0.0<br />",
           "Shots: 0<br />Goals: 0<br />Share goal (%): 0.0<br />",
           "Shots: 1<br />Goals: 0<br />Share goal (%): 0.0<br />",
           "Shots: 2<br />Goals: 1<br />Share goal (%): 50.0<br />",
           "Shots: 1<br />Goals: 0<br />Share goal (%): 0.0<br />",
           "Shots: 21<br />Goals: 0<br />Share goal (%): 0.0<br />",
           "Shots: 92<br />Goals: 0<br />Share goal (%): 0.0<br />",
           "Shots: 102<br />Goals: 1<br />Share goal (%): 1.0<br />",
           "Shots: 94<br />Goals: 8<br />Share goal (%): 8.5<br />",
           "Shots: 121<br />Goals: 17<br />Share goal (%): 14.0<br />",
           "Shots: 279<br />Goals: 40<br />Share goal (%): 14.3<br />",
           "Shots: 185<br />Goals: 47<br />Share goal (%): 25.4<br />",
           "Shots: 51<br />Goals: 23<br />Share goal (%): 45.1<br />"
          ],
          [
           "Shots: 1<br />Goals: 0<br />Share goal (%): 0.0<br />",
           "Shots: 0<br />Goals: 0<br />Share goal (%): 0.0<br />",
           "Shots: 0<br />Goals: 0<br />Share goal (%): 0.0<br />",
           "Shots: 0<br />Goals: 0<br />Share goal (%): 0.0<br />",
           "Shots: 0<br />Goals: 0<br />Share goal (%): 0.0<br />",
           "Shots: 0<br />Goals: 0<br />Share goal (%): 0.0<br />",
           "Shots: 0<br />Goals: 0<br />Share goal (%): 0.0<br />",
           "Shots: 0<br />Goals: 0<br />Share goal (%): 0.0<br />",
           "Shots: 0<br />Goals: 0<br />Share goal (%): 0.0<br />",
           "Shots: 0<br />Goals: 0<br />Share goal (%): 0.0<br />",
           "Shots: 1<br />Goals: 0<br />Share goal (%): 0.0<br />",
           "Shots: 0<br />Goals: 0<br />Share goal (%): 0.0<br />",
           "Shots: 0<br />Goals: 0<br />Share goal (%): 0.0<br />",
           "Shots: 0<br />Goals: 0<br />Share goal (%): 0.0<br />",
           "Shots: 1<br />Goals: 0<br />Share goal (%): 0.0<br />",
           "Shots: 2<br />Goals: 0<br />Share goal (%): 0.0<br />",
           "Shots: 17<br />Goals: 0<br />Share goal (%): 0.0<br />",
           "Shots: 100<br />Goals: 3<br />Share goal (%): 3.0<br />",
           "Shots: 111<br />Goals: 3<br />Share goal (%): 2.7<br />",
           "Shots: 71<br />Goals: 1<br />Share goal (%): 1.4<br />",
           "Shots: 123<br />Goals: 13<br />Share goal (%): 10.6<br />",
           "Shots: 242<br />Goals: 30<br />Share goal (%): 12.4<br />",
           "Shots: 101<br />Goals: 16<br />Share goal (%): 15.8<br />",
           "Shots: 48<br />Goals: 7<br />Share goal (%): 14.6<br />"
          ],
          [
           "Shots: 0<br />Goals: 0<br />Share goal (%): 0.0<br />",
           "Shots: 0<br />Goals: 0<br />Share goal (%): 0.0<br />",
           "Shots: 1<br />Goals: 0<br />Share goal (%): 0.0<br />",
           "Shots: 1<br />Goals: 0<br />Share goal (%): 0.0<br />",
           "Shots: 0<br />Goals: 0<br />Share goal (%): 0.0<br />",
           "Shots: 0<br />Goals: 0<br />Share goal (%): 0.0<br />",
           "Shots: 0<br />Goals: 0<br />Share goal (%): 0.0<br />",
           "Shots: 1<br />Goals: 0<br />Share goal (%): 0.0<br />",
           "Shots: 0<br />Goals: 0<br />Share goal (%): 0.0<br />",
           "Shots: 0<br />Goals: 0<br />Share goal (%): 0.0<br />",
           "Shots: 0<br />Goals: 0<br />Share goal (%): 0.0<br />",
           "Shots: 0<br />Goals: 0<br />Share goal (%): 0.0<br />",
           "Shots: 0<br />Goals: 0<br />Share goal (%): 0.0<br />",
           "Shots: 0<br />Goals: 0<br />Share goal (%): 0.0<br />",
           "Shots: 0<br />Goals: 0<br />Share goal (%): 0.0<br />",
           "Shots: 0<br />Goals: 0<br />Share goal (%): 0.0<br />",
           "Shots: 10<br />Goals: 0<br />Share goal (%): 0.0<br />",
           "Shots: 59<br />Goals: 0<br />Share goal (%): 0.0<br />",
           "Shots: 95<br />Goals: 1<br />Share goal (%): 1.1<br />",
           "Shots: 76<br />Goals: 0<br />Share goal (%): 0.0<br />",
           "Shots: 91<br />Goals: 5<br />Share goal (%): 5.5<br />",
           "Shots: 175<br />Goals: 15<br />Share goal (%): 8.6<br />",
           "Shots: 115<br />Goals: 9<br />Share goal (%): 7.8<br />",
           "Shots: 31<br />Goals: 1<br />Share goal (%): 3.2<br />"
          ],
          [
           "Shots: 0<br />Goals: 0<br />Share goal (%): 0.0<br />",
           "Shots: 0<br />Goals: 0<br />Share goal (%): 0.0<br />",
           "Shots: 0<br />Goals: 0<br />Share goal (%): 0.0<br />",
           "Shots: 0<br />Goals: 0<br />Share goal (%): 0.0<br />",
           "Shots: 0<br />Goals: 0<br />Share goal (%): 0.0<br />",
           "Shots: 0<br />Goals: 0<br />Share goal (%): 0.0<br />",
           "Shots: 0<br />Goals: 0<br />Share goal (%): 0.0<br />",
           "Shots: 0<br />Goals: 0<br />Share goal (%): 0.0<br />",
           "Shots: 0<br />Goals: 0<br />Share goal (%): 0.0<br />",
           "Shots: 1<br />Goals: 0<br />Share goal (%): 0.0<br />",
           "Shots: 0<br />Goals: 0<br />Share goal (%): 0.0<br />",
           "Shots: 0<br />Goals: 0<br />Share goal (%): 0.0<br />",
           "Shots: 0<br />Goals: 0<br />Share goal (%): 0.0<br />",
           "Shots: 1<br />Goals: 0<br />Share goal (%): 0.0<br />",
           "Shots: 3<br />Goals: 1<br />Share goal (%): 33.3<br />",
           "Shots: 0<br />Goals: 0<br />Share goal (%): 0.0<br />",
           "Shots: 8<br />Goals: 0<br />Share goal (%): 0.0<br />",
           "Shots: 27<br />Goals: 1<br />Share goal (%): 3.7<br />",
           "Shots: 42<br />Goals: 0<br />Share goal (%): 0.0<br />",
           "Shots: 43<br />Goals: 0<br />Share goal (%): 0.0<br />",
           "Shots: 49<br />Goals: 3<br />Share goal (%): 6.1<br />",
           "Shots: 77<br />Goals: 5<br />Share goal (%): 6.5<br />",
           "Shots: 35<br />Goals: 3<br />Share goal (%): 8.6<br />",
           "Shots: 6<br />Goals: 0<br />Share goal (%): 0.0<br />"
          ],
          [
           "Shots: 0<br />Goals: 0<br />Share goal (%): 0.0<br />",
           "Shots: 1<br />Goals: 0<br />Share goal (%): 0.0<br />",
           "Shots: 0<br />Goals: 0<br />Share goal (%): 0.0<br />",
           "Shots: 0<br />Goals: 0<br />Share goal (%): 0.0<br />",
           "Shots: 0<br />Goals: 0<br />Share goal (%): 0.0<br />",
           "Shots: 0<br />Goals: 0<br />Share goal (%): 0.0<br />",
           "Shots: 0<br />Goals: 0<br />Share goal (%): 0.0<br />",
           "Shots: 0<br />Goals: 0<br />Share goal (%): 0.0<br />",
           "Shots: 0<br />Goals: 0<br />Share goal (%): 0.0<br />",
           "Shots: 0<br />Goals: 0<br />Share goal (%): 0.0<br />",
           "Shots: 1<br />Goals: 0<br />Share goal (%): 0.0<br />",
           "Shots: 0<br />Goals: 0<br />Share goal (%): 0.0<br />",
           "Shots: 0<br />Goals: 0<br />Share goal (%): 0.0<br />",
           "Shots: 1<br />Goals: 0<br />Share goal (%): 0.0<br />",
           "Shots: 0<br />Goals: 0<br />Share goal (%): 0.0<br />",
           "Shots: 1<br />Goals: 0<br />Share goal (%): 0.0<br />",
           "Shots: 2<br />Goals: 0<br />Share goal (%): 0.0<br />",
           "Shots: 16<br />Goals: 0<br />Share goal (%): 0.0<br />",
           "Shots: 8<br />Goals: 0<br />Share goal (%): 0.0<br />",
           "Shots: 3<br />Goals: 0<br />Share goal (%): 0.0<br />",
           "Shots: 9<br />Goals: 1<br />Share goal (%): 11.1<br />",
           "Shots: 6<br />Goals: 0<br />Share goal (%): 0.0<br />",
           "Shots: 3<br />Goals: 0<br />Share goal (%): 0.0<br />",
           "Shots: 0<br />Goals: 0<br />Share goal (%): 0.0<br />"
          ],
          [
           "Shots: 0<br />Goals: 0<br />Share goal (%): 0.0<br />",
           "Shots: 0<br />Goals: 0<br />Share goal (%): 0.0<br />",
           "Shots: 0<br />Goals: 0<br />Share goal (%): 0.0<br />",
           "Shots: 0<br />Goals: 0<br />Share goal (%): 0.0<br />",
           "Shots: 0<br />Goals: 0<br />Share goal (%): 0.0<br />",
           "Shots: 0<br />Goals: 0<br />Share goal (%): 0.0<br />",
           "Shots: 0<br />Goals: 0<br />Share goal (%): 0.0<br />",
           "Shots: 0<br />Goals: 0<br />Share goal (%): 0.0<br />",
           "Shots: 0<br />Goals: 0<br />Share goal (%): 0.0<br />",
           "Shots: 0<br />Goals: 0<br />Share goal (%): 0.0<br />",
           "Shots: 0<br />Goals: 0<br />Share goal (%): 0.0<br />",
           "Shots: 0<br />Goals: 0<br />Share goal (%): 0.0<br />",
           "Shots: 0<br />Goals: 0<br />Share goal (%): 0.0<br />",
           "Shots: 0<br />Goals: 0<br />Share goal (%): 0.0<br />",
           "Shots: 0<br />Goals: 0<br />Share goal (%): 0.0<br />",
           "Shots: 0<br />Goals: 0<br />Share goal (%): 0.0<br />",
           "Shots: 0<br />Goals: 0<br />Share goal (%): 0.0<br />",
           "Shots: 3<br />Goals: 1<br />Share goal (%): 33.3<br />",
           "Shots: 1<br />Goals: 0<br />Share goal (%): 0.0<br />",
           "Shots: 0<br />Goals: 0<br />Share goal (%): 0.0<br />",
           "Shots: 0<br />Goals: 0<br />Share goal (%): 0.0<br />",
           "Shots: 2<br />Goals: 1<br />Share goal (%): 50.0<br />",
           "Shots: 0<br />Goals: 0<br />Share goal (%): 0.0<br />",
           "Shots: 0<br />Goals: 0<br />Share goal (%): 0.0<br />"
          ],
          [
           "Shots: 0<br />Goals: 0<br />Share goal (%): 0.0<br />",
           "Shots: 0<br />Goals: 0<br />Share goal (%): 0.0<br />",
           "Shots: 0<br />Goals: 0<br />Share goal (%): 0.0<br />",
           "Shots: 0<br />Goals: 0<br />Share goal (%): 0.0<br />",
           "Shots: 0<br />Goals: 0<br />Share goal (%): 0.0<br />",
           "Shots: 0<br />Goals: 0<br />Share goal (%): 0.0<br />",
           "Shots: 0<br />Goals: 0<br />Share goal (%): 0.0<br />",
           "Shots: 0<br />Goals: 0<br />Share goal (%): 0.0<br />",
           "Shots: 0<br />Goals: 0<br />Share goal (%): 0.0<br />",
           "Shots: 0<br />Goals: 0<br />Share goal (%): 0.0<br />",
           "Shots: 0<br />Goals: 0<br />Share goal (%): 0.0<br />",
           "Shots: 0<br />Goals: 0<br />Share goal (%): 0.0<br />",
           "Shots: 0<br />Goals: 0<br />Share goal (%): 0.0<br />",
           "Shots: 0<br />Goals: 0<br />Share goal (%): 0.0<br />",
           "Shots: 0<br />Goals: 0<br />Share goal (%): 0.0<br />",
           "Shots: 0<br />Goals: 0<br />Share goal (%): 0.0<br />",
           "Shots: 0<br />Goals: 0<br />Share goal (%): 0.0<br />",
           "Shots: 0<br />Goals: 0<br />Share goal (%): 0.0<br />",
           "Shots: 0<br />Goals: 0<br />Share goal (%): 0.0<br />",
           "Shots: 0<br />Goals: 0<br />Share goal (%): 0.0<br />",
           "Shots: 0<br />Goals: 0<br />Share goal (%): 0.0<br />",
           "Shots: 0<br />Goals: 0<br />Share goal (%): 0.0<br />",
           "Shots: 0<br />Goals: 0<br />Share goal (%): 0.0<br />",
           "Shots: 0<br />Goals: 0<br />Share goal (%): 0.0<br />"
          ],
          [
           "Shots: 0<br />Goals: 0<br />Share goal (%): 0.0<br />",
           "Shots: 0<br />Goals: 0<br />Share goal (%): 0.0<br />",
           "Shots: 0<br />Goals: 0<br />Share goal (%): 0.0<br />",
           "Shots: 0<br />Goals: 0<br />Share goal (%): 0.0<br />",
           "Shots: 0<br />Goals: 0<br />Share goal (%): 0.0<br />",
           "Shots: 0<br />Goals: 0<br />Share goal (%): 0.0<br />",
           "Shots: 0<br />Goals: 0<br />Share goal (%): 0.0<br />",
           "Shots: 0<br />Goals: 0<br />Share goal (%): 0.0<br />",
           "Shots: 1<br />Goals: 0<br />Share goal (%): 0.0<br />",
           "Shots: 0<br />Goals: 0<br />Share goal (%): 0.0<br />",
           "Shots: 0<br />Goals: 0<br />Share goal (%): 0.0<br />",
           "Shots: 0<br />Goals: 0<br />Share goal (%): 0.0<br />",
           "Shots: 0<br />Goals: 0<br />Share goal (%): 0.0<br />",
           "Shots: 1<br />Goals: 1<br />Share goal (%): 100.0<br />",
           "Shots: 0<br />Goals: 0<br />Share goal (%): 0.0<br />",
           "Shots: 0<br />Goals: 0<br />Share goal (%): 0.0<br />",
           "Shots: 0<br />Goals: 0<br />Share goal (%): 0.0<br />",
           "Shots: 0<br />Goals: 0<br />Share goal (%): 0.0<br />",
           "Shots: 1<br />Goals: 0<br />Share goal (%): 0.0<br />",
           "Shots: 0<br />Goals: 0<br />Share goal (%): 0.0<br />",
           "Shots: 0<br />Goals: 0<br />Share goal (%): 0.0<br />",
           "Shots: 0<br />Goals: 0<br />Share goal (%): 0.0<br />",
           "Shots: 0<br />Goals: 0<br />Share goal (%): 0.0<br />",
           "Shots: 0<br />Goals: 0<br />Share goal (%): 0.0<br />"
          ]
         ],
         "type": "heatmap",
         "x": [
          2.1875,
          6.5625,
          10.9375,
          15.3125,
          19.6875,
          24.0625,
          28.4375,
          32.8125,
          37.1875,
          41.5625,
          45.9375,
          50.3125,
          54.6875,
          59.0625,
          63.4375,
          67.8125,
          72.1875,
          76.5625,
          80.9375,
          85.3125,
          89.6875,
          94.0625,
          98.4375,
          102.8125
         ],
         "y": [
          2,
          6,
          10,
          14,
          18,
          22,
          26,
          30,
          34,
          38,
          42,
          46,
          50,
          54,
          58,
          62,
          66
         ],
         "z": [
          [
           0,
           0,
           0,
           0,
           0,
           0,
           0,
           0,
           1,
           1,
           0,
           0,
           0,
           0,
           0,
           0,
           0,
           0,
           1,
           0,
           0,
           0,
           0,
           0
          ],
          [
           0,
           0,
           0,
           0,
           0,
           0,
           0,
           0,
           0,
           0,
           0,
           0,
           0,
           0,
           1,
           1,
           0,
           0,
           1,
           0,
           0,
           0,
           0,
           0
          ],
          [
           0,
           0,
           0,
           0,
           0,
           0,
           0,
           0,
           0,
           0,
           0,
           0,
           0,
           0,
           0,
           1,
           3,
           7,
           6,
           2,
           2,
           1,
           1,
           0
          ],
          [
           0,
           0,
           0,
           0,
           0,
           0,
           0,
           0,
           0,
           0,
           0,
           0,
           0,
           0,
           0,
           1,
           7,
           28,
           15,
           11,
           13,
           13,
           5,
           1
          ],
          [
           0,
           0,
           0,
           0,
           0,
           0,
           0,
           0,
           0,
           0,
           0,
           0,
           0,
           0,
           0,
           2,
           9,
           64,
           59,
           51,
           67,
           91,
           38,
           6
          ],
          [
           0,
           0,
           0,
           0,
           0,
           0,
           0,
           0,
           0,
           2,
           1,
           0,
           0,
           0,
           0,
           1,
           20,
           71,
           86,
           96,
           106,
           232,
           114,
           24
          ],
          [
           1,
           1,
           0,
           0,
           0,
           0,
           0,
           0,
           0,
           0,
           0,
           0,
           0,
           0,
           2,
           1,
           21,
           103,
           113,
           102,
           123,
           276,
           132,
           51
          ],
          [
           0,
           1,
           0,
           0,
           0,
           0,
           0,
           0,
           0,
           0,
           0,
           0,
           0,
           0,
           1,
           3,
           24,
           89,
           93,
           105,
           129,
           306,
           192,
           57
          ],
          [
           1,
           1,
           0,
           0,
           0,
           0,
           0,
           0,
           0,
           0,
           2,
           1,
           0,
           1,
           0,
           2,
           15,
           97,
           95,
           102,
           120,
           236,
           194,
           67
          ],
          [
           0,
           1,
           0,
           0,
           0,
           0,
           0,
           0,
           0,
           0,
           0,
           0,
           0,
           1,
           2,
           1,
           21,
           92,
           102,
           94,
           121,
           279,
           185,
           51
          ],
          [
           1,
           0,
           0,
           0,
           0,
           0,
           0,
           0,
           0,
           0,
           1,
           0,
           0,
           0,
           1,
           2,
           17,
           100,
           111,
           71,
           123,
           242,
           101,
           48
          ],
          [
           0,
           0,
           1,
           1,
           0,
           0,
           0,
           1,
           0,
           0,
           0,
           0,
           0,
           0,
           0,
           0,
           10,
           59,
           95,
           76,
           91,
           175,
           115,
           31
          ],
          [
           0,
           0,
           0,
           0,
           0,
           0,
           0,
           0,
           0,
           1,
           0,
           0,
           0,
           1,
           3,
           0,
           8,
           27,
           42,
           43,
           49,
           77,
           35,
           6
          ],
          [
           0,
           1,
           0,
           0,
           0,
           0,
           0,
           0,
           0,
           0,
           1,
           0,
           0,
           1,
           0,
           1,
           2,
           16,
           8,
           3,
           9,
           6,
           3,
           0
          ],
          [
           0,
           0,
           0,
           0,
           0,
           0,
           0,
           0,
           0,
           0,
           0,
           0,
           0,
           0,
           0,
           0,
           0,
           3,
           1,
           0,
           0,
           2,
           0,
           0
          ],
          [
           0,
           0,
           0,
           0,
           0,
           0,
           0,
           0,
           0,
           0,
           0,
           0,
           0,
           0,
           0,
           0,
           0,
           0,
           0,
           0,
           0,
           0,
           0,
           0
          ],
          [
           0,
           0,
           0,
           0,
           0,
           0,
           0,
           0,
           1,
           0,
           0,
           0,
           0,
           1,
           0,
           0,
           0,
           0,
           1,
           0,
           0,
           0,
           0,
           0
          ]
         ]
        }
       ],
       "layout": {
        "autosize": false,
        "height": 612,
        "plot_bgcolor": "rgba(0,255,112,1)",
        "shapes": [
         {
          "line": {
           "color": "white",
           "width": 2
          },
          "type": "line",
          "x0": 52.5,
          "x1": 52.5,
          "y0": 0,
          "y1": 68
         },
         {
          "line": {
           "color": "white",
           "width": 2
          },
          "type": "line",
          "x0": 0,
          "x1": 16,
          "y0": 54.16,
          "y1": 54.16
         },
         {
          "line": {
           "color": "white",
           "width": 2
          },
          "type": "line",
          "x0": 16,
          "x1": 16,
          "y0": 54.16,
          "y1": 13.84
         },
         {
          "line": {
           "color": "white",
           "width": 2
          },
          "type": "line",
          "x0": 16,
          "x1": 0,
          "y0": 13.84,
          "y1": 13.84
         },
         {
          "line": {
           "color": "white",
           "width": 2
          },
          "type": "line",
          "x0": 0,
          "x1": 5.5,
          "y0": 24.84,
          "y1": 24.84
         },
         {
          "line": {
           "color": "white",
           "width": 2
          },
          "type": "line",
          "x0": 5.5,
          "x1": 5.5,
          "y0": 24.84,
          "y1": 43.16
         },
         {
          "line": {
           "color": "white",
           "width": 2
          },
          "type": "line",
          "x0": 5.5,
          "x1": 0,
          "y0": 43.16,
          "y1": 43.16
         },
         {
          "line": {
           "color": "white",
           "width": 2
          },
          "type": "line",
          "x0": 105,
          "x1": 89,
          "y0": 54.16,
          "y1": 54.16
         },
         {
          "line": {
           "color": "white",
           "width": 2
          },
          "type": "line",
          "x0": 89,
          "x1": 89,
          "y0": 54.16,
          "y1": 13.84
         },
         {
          "line": {
           "color": "white",
           "width": 2
          },
          "type": "line",
          "x0": 89,
          "x1": 105,
          "y0": 13.84,
          "y1": 13.84
         },
         {
          "line": {
           "color": "white",
           "width": 2
          },
          "type": "line",
          "x0": 105,
          "x1": 99.5,
          "y0": 24.84,
          "y1": 24.84
         },
         {
          "line": {
           "color": "white",
           "width": 2
          },
          "type": "line",
          "x0": 99.5,
          "x1": 99.5,
          "y0": 24.84,
          "y1": 43.16
         },
         {
          "line": {
           "color": "white",
           "width": 2
          },
          "type": "line",
          "x0": 99.5,
          "x1": 105,
          "y0": 43.16,
          "y1": 43.16
         },
         {
          "fillcolor": "white",
          "line": {
           "color": "white"
          },
          "type": "circle",
          "x0": 10.5,
          "x1": 11.5,
          "xref": "x",
          "y0": 33.5,
          "y1": 34.5,
          "yref": "y"
         },
         {
          "fillcolor": "white",
          "line": {
           "color": "white"
          },
          "type": "circle",
          "x0": 93.5,
          "x1": 94.5,
          "xref": "x",
          "y0": 33.5,
          "y1": 34.5,
          "yref": "y"
         },
         {
          "fillcolor": "white",
          "line": {
           "color": "white"
          },
          "type": "circle",
          "x0": 52,
          "x1": 53,
          "xref": "x",
          "y0": 33.5,
          "y1": 34.5,
          "yref": "y"
         },
         {
          "line": {
           "color": "white"
          },
          "type": "circle",
          "x0": 43.35,
          "x1": 61.65,
          "xref": "x",
          "y0": 24.85,
          "y1": 43.15,
          "yref": "y"
         }
        ],
        "template": {
         "data": {
          "bar": [
           {
            "error_x": {
             "color": "#2a3f5f"
            },
            "error_y": {
             "color": "#2a3f5f"
            },
            "marker": {
             "line": {
              "color": "#E5ECF6",
              "width": 0.5
             }
            },
            "type": "bar"
           }
          ],
          "barpolar": [
           {
            "marker": {
             "line": {
              "color": "#E5ECF6",
              "width": 0.5
             }
            },
            "type": "barpolar"
           }
          ],
          "carpet": [
           {
            "aaxis": {
             "endlinecolor": "#2a3f5f",
             "gridcolor": "white",
             "linecolor": "white",
             "minorgridcolor": "white",
             "startlinecolor": "#2a3f5f"
            },
            "baxis": {
             "endlinecolor": "#2a3f5f",
             "gridcolor": "white",
             "linecolor": "white",
             "minorgridcolor": "white",
             "startlinecolor": "#2a3f5f"
            },
            "type": "carpet"
           }
          ],
          "choropleth": [
           {
            "colorbar": {
             "outlinewidth": 0,
             "ticks": ""
            },
            "type": "choropleth"
           }
          ],
          "contour": [
           {
            "colorbar": {
             "outlinewidth": 0,
             "ticks": ""
            },
            "colorscale": [
             [
              0,
              "#0d0887"
             ],
             [
              0.1111111111111111,
              "#46039f"
             ],
             [
              0.2222222222222222,
              "#7201a8"
             ],
             [
              0.3333333333333333,
              "#9c179e"
             ],
             [
              0.4444444444444444,
              "#bd3786"
             ],
             [
              0.5555555555555556,
              "#d8576b"
             ],
             [
              0.6666666666666666,
              "#ed7953"
             ],
             [
              0.7777777777777778,
              "#fb9f3a"
             ],
             [
              0.8888888888888888,
              "#fdca26"
             ],
             [
              1,
              "#f0f921"
             ]
            ],
            "type": "contour"
           }
          ],
          "contourcarpet": [
           {
            "colorbar": {
             "outlinewidth": 0,
             "ticks": ""
            },
            "type": "contourcarpet"
           }
          ],
          "heatmap": [
           {
            "colorbar": {
             "outlinewidth": 0,
             "ticks": ""
            },
            "colorscale": [
             [
              0,
              "#0d0887"
             ],
             [
              0.1111111111111111,
              "#46039f"
             ],
             [
              0.2222222222222222,
              "#7201a8"
             ],
             [
              0.3333333333333333,
              "#9c179e"
             ],
             [
              0.4444444444444444,
              "#bd3786"
             ],
             [
              0.5555555555555556,
              "#d8576b"
             ],
             [
              0.6666666666666666,
              "#ed7953"
             ],
             [
              0.7777777777777778,
              "#fb9f3a"
             ],
             [
              0.8888888888888888,
              "#fdca26"
             ],
             [
              1,
              "#f0f921"
             ]
            ],
            "type": "heatmap"
           }
          ],
          "heatmapgl": [
           {
            "colorbar": {
             "outlinewidth": 0,
             "ticks": ""
            },
            "colorscale": [
             [
              0,
              "#0d0887"
             ],
             [
              0.1111111111111111,
              "#46039f"
             ],
             [
              0.2222222222222222,
              "#7201a8"
             ],
             [
              0.3333333333333333,
              "#9c179e"
             ],
             [
              0.4444444444444444,
              "#bd3786"
             ],
             [
              0.5555555555555556,
              "#d8576b"
             ],
             [
              0.6666666666666666,
              "#ed7953"
             ],
             [
              0.7777777777777778,
              "#fb9f3a"
             ],
             [
              0.8888888888888888,
              "#fdca26"
             ],
             [
              1,
              "#f0f921"
             ]
            ],
            "type": "heatmapgl"
           }
          ],
          "histogram": [
           {
            "marker": {
             "colorbar": {
              "outlinewidth": 0,
              "ticks": ""
             }
            },
            "type": "histogram"
           }
          ],
          "histogram2d": [
           {
            "colorbar": {
             "outlinewidth": 0,
             "ticks": ""
            },
            "colorscale": [
             [
              0,
              "#0d0887"
             ],
             [
              0.1111111111111111,
              "#46039f"
             ],
             [
              0.2222222222222222,
              "#7201a8"
             ],
             [
              0.3333333333333333,
              "#9c179e"
             ],
             [
              0.4444444444444444,
              "#bd3786"
             ],
             [
              0.5555555555555556,
              "#d8576b"
             ],
             [
              0.6666666666666666,
              "#ed7953"
             ],
             [
              0.7777777777777778,
              "#fb9f3a"
             ],
             [
              0.8888888888888888,
              "#fdca26"
             ],
             [
              1,
              "#f0f921"
             ]
            ],
            "type": "histogram2d"
           }
          ],
          "histogram2dcontour": [
           {
            "colorbar": {
             "outlinewidth": 0,
             "ticks": ""
            },
            "colorscale": [
             [
              0,
              "#0d0887"
             ],
             [
              0.1111111111111111,
              "#46039f"
             ],
             [
              0.2222222222222222,
              "#7201a8"
             ],
             [
              0.3333333333333333,
              "#9c179e"
             ],
             [
              0.4444444444444444,
              "#bd3786"
             ],
             [
              0.5555555555555556,
              "#d8576b"
             ],
             [
              0.6666666666666666,
              "#ed7953"
             ],
             [
              0.7777777777777778,
              "#fb9f3a"
             ],
             [
              0.8888888888888888,
              "#fdca26"
             ],
             [
              1,
              "#f0f921"
             ]
            ],
            "type": "histogram2dcontour"
           }
          ],
          "mesh3d": [
           {
            "colorbar": {
             "outlinewidth": 0,
             "ticks": ""
            },
            "type": "mesh3d"
           }
          ],
          "parcoords": [
           {
            "line": {
             "colorbar": {
              "outlinewidth": 0,
              "ticks": ""
             }
            },
            "type": "parcoords"
           }
          ],
          "pie": [
           {
            "automargin": true,
            "type": "pie"
           }
          ],
          "scatter": [
           {
            "marker": {
             "colorbar": {
              "outlinewidth": 0,
              "ticks": ""
             }
            },
            "type": "scatter"
           }
          ],
          "scatter3d": [
           {
            "line": {
             "colorbar": {
              "outlinewidth": 0,
              "ticks": ""
             }
            },
            "marker": {
             "colorbar": {
              "outlinewidth": 0,
              "ticks": ""
             }
            },
            "type": "scatter3d"
           }
          ],
          "scattercarpet": [
           {
            "marker": {
             "colorbar": {
              "outlinewidth": 0,
              "ticks": ""
             }
            },
            "type": "scattercarpet"
           }
          ],
          "scattergeo": [
           {
            "marker": {
             "colorbar": {
              "outlinewidth": 0,
              "ticks": ""
             }
            },
            "type": "scattergeo"
           }
          ],
          "scattergl": [
           {
            "marker": {
             "colorbar": {
              "outlinewidth": 0,
              "ticks": ""
             }
            },
            "type": "scattergl"
           }
          ],
          "scattermapbox": [
           {
            "marker": {
             "colorbar": {
              "outlinewidth": 0,
              "ticks": ""
             }
            },
            "type": "scattermapbox"
           }
          ],
          "scatterpolar": [
           {
            "marker": {
             "colorbar": {
              "outlinewidth": 0,
              "ticks": ""
             }
            },
            "type": "scatterpolar"
           }
          ],
          "scatterpolargl": [
           {
            "marker": {
             "colorbar": {
              "outlinewidth": 0,
              "ticks": ""
             }
            },
            "type": "scatterpolargl"
           }
          ],
          "scatterternary": [
           {
            "marker": {
             "colorbar": {
              "outlinewidth": 0,
              "ticks": ""
             }
            },
            "type": "scatterternary"
           }
          ],
          "surface": [
           {
            "colorbar": {
             "outlinewidth": 0,
             "ticks": ""
            },
            "colorscale": [
             [
              0,
              "#0d0887"
             ],
             [
              0.1111111111111111,
              "#46039f"
             ],
             [
              0.2222222222222222,
              "#7201a8"
             ],
             [
              0.3333333333333333,
              "#9c179e"
             ],
             [
              0.4444444444444444,
              "#bd3786"
             ],
             [
              0.5555555555555556,
              "#d8576b"
             ],
             [
              0.6666666666666666,
              "#ed7953"
             ],
             [
              0.7777777777777778,
              "#fb9f3a"
             ],
             [
              0.8888888888888888,
              "#fdca26"
             ],
             [
              1,
              "#f0f921"
             ]
            ],
            "type": "surface"
           }
          ],
          "table": [
           {
            "cells": {
             "fill": {
              "color": "#EBF0F8"
             },
             "line": {
              "color": "white"
             }
            },
            "header": {
             "fill": {
              "color": "#C8D4E3"
             },
             "line": {
              "color": "white"
             }
            },
            "type": "table"
           }
          ]
         },
         "layout": {
          "annotationdefaults": {
           "arrowcolor": "#2a3f5f",
           "arrowhead": 0,
           "arrowwidth": 1
          },
          "coloraxis": {
           "colorbar": {
            "outlinewidth": 0,
            "ticks": ""
           }
          },
          "colorscale": {
           "diverging": [
            [
             0,
             "#8e0152"
            ],
            [
             0.1,
             "#c51b7d"
            ],
            [
             0.2,
             "#de77ae"
            ],
            [
             0.3,
             "#f1b6da"
            ],
            [
             0.4,
             "#fde0ef"
            ],
            [
             0.5,
             "#f7f7f7"
            ],
            [
             0.6,
             "#e6f5d0"
            ],
            [
             0.7,
             "#b8e186"
            ],
            [
             0.8,
             "#7fbc41"
            ],
            [
             0.9,
             "#4d9221"
            ],
            [
             1,
             "#276419"
            ]
           ],
           "sequential": [
            [
             0,
             "#0d0887"
            ],
            [
             0.1111111111111111,
             "#46039f"
            ],
            [
             0.2222222222222222,
             "#7201a8"
            ],
            [
             0.3333333333333333,
             "#9c179e"
            ],
            [
             0.4444444444444444,
             "#bd3786"
            ],
            [
             0.5555555555555556,
             "#d8576b"
            ],
            [
             0.6666666666666666,
             "#ed7953"
            ],
            [
             0.7777777777777778,
             "#fb9f3a"
            ],
            [
             0.8888888888888888,
             "#fdca26"
            ],
            [
             1,
             "#f0f921"
            ]
           ],
           "sequentialminus": [
            [
             0,
             "#0d0887"
            ],
            [
             0.1111111111111111,
             "#46039f"
            ],
            [
             0.2222222222222222,
             "#7201a8"
            ],
            [
             0.3333333333333333,
             "#9c179e"
            ],
            [
             0.4444444444444444,
             "#bd3786"
            ],
            [
             0.5555555555555556,
             "#d8576b"
            ],
            [
             0.6666666666666666,
             "#ed7953"
            ],
            [
             0.7777777777777778,
             "#fb9f3a"
            ],
            [
             0.8888888888888888,
             "#fdca26"
            ],
            [
             1,
             "#f0f921"
            ]
           ]
          },
          "colorway": [
           "#636efa",
           "#EF553B",
           "#00cc96",
           "#ab63fa",
           "#FFA15A",
           "#19d3f3",
           "#FF6692",
           "#B6E880",
           "#FF97FF",
           "#FECB52"
          ],
          "font": {
           "color": "#2a3f5f"
          },
          "geo": {
           "bgcolor": "white",
           "lakecolor": "white",
           "landcolor": "#E5ECF6",
           "showlakes": true,
           "showland": true,
           "subunitcolor": "white"
          },
          "hoverlabel": {
           "align": "left"
          },
          "hovermode": "closest",
          "mapbox": {
           "style": "light"
          },
          "paper_bgcolor": "white",
          "plot_bgcolor": "#E5ECF6",
          "polar": {
           "angularaxis": {
            "gridcolor": "white",
            "linecolor": "white",
            "ticks": ""
           },
           "bgcolor": "#E5ECF6",
           "radialaxis": {
            "gridcolor": "white",
            "linecolor": "white",
            "ticks": ""
           }
          },
          "scene": {
           "xaxis": {
            "backgroundcolor": "#E5ECF6",
            "gridcolor": "white",
            "gridwidth": 2,
            "linecolor": "white",
            "showbackground": true,
            "ticks": "",
            "zerolinecolor": "white"
           },
           "yaxis": {
            "backgroundcolor": "#E5ECF6",
            "gridcolor": "white",
            "gridwidth": 2,
            "linecolor": "white",
            "showbackground": true,
            "ticks": "",
            "zerolinecolor": "white"
           },
           "zaxis": {
            "backgroundcolor": "#E5ECF6",
            "gridcolor": "white",
            "gridwidth": 2,
            "linecolor": "white",
            "showbackground": true,
            "ticks": "",
            "zerolinecolor": "white"
           }
          },
          "shapedefaults": {
           "line": {
            "color": "#2a3f5f"
           }
          },
          "ternary": {
           "aaxis": {
            "gridcolor": "white",
            "linecolor": "white",
            "ticks": ""
           },
           "baxis": {
            "gridcolor": "white",
            "linecolor": "white",
            "ticks": ""
           },
           "bgcolor": "#E5ECF6",
           "caxis": {
            "gridcolor": "white",
            "linecolor": "white",
            "ticks": ""
           }
          },
          "title": {
           "x": 0.05
          },
          "xaxis": {
           "automargin": true,
           "gridcolor": "white",
           "linecolor": "white",
           "ticks": "",
           "title": {
            "standoff": 15
           },
           "zerolinecolor": "white",
           "zerolinewidth": 2
          },
          "yaxis": {
           "automargin": true,
           "gridcolor": "white",
           "linecolor": "white",
           "ticks": "",
           "title": {
            "standoff": 15
           },
           "zerolinecolor": "white",
           "zerolinewidth": 2
          }
         }
        },
        "title": {
         "text": "Number of shots",
         "x": 0.5,
         "xanchor": "center",
         "y": 0.9,
         "yanchor": "top"
        },
        "width": 840,
        "xaxis": {
         "range": [
          0,
          105
         ],
         "showgrid": false,
         "showticklabels": false
        },
        "yaxis": {
         "range": [
          0,
          68
         ],
         "showgrid": false,
         "showticklabels": false
        }
       }
      },
      "text/html": [
       "<div>\n",
       "        \n",
       "        \n",
       "            <div id=\"a901739b-bec9-4d76-a82c-81a5ca898006\" class=\"plotly-graph-div\" style=\"height:612px; width:840px;\"></div>\n",
       "            <script type=\"text/javascript\">\n",
       "                require([\"plotly\"], function(Plotly) {\n",
       "                    window.PLOTLYENV=window.PLOTLYENV || {};\n",
       "                    \n",
       "                if (document.getElementById(\"a901739b-bec9-4d76-a82c-81a5ca898006\")) {\n",
       "                    Plotly.newPlot(\n",
       "                        'a901739b-bec9-4d76-a82c-81a5ca898006',\n",
       "                        [{\"hoverinfo\": \"text\", \"text\": [[\"Shots: 0<br />Goals: 0<br />Share goal (%): 0.0<br />\", \"Shots: 0<br />Goals: 0<br />Share goal (%): 0.0<br />\", \"Shots: 0<br />Goals: 0<br />Share goal (%): 0.0<br />\", \"Shots: 0<br />Goals: 0<br />Share goal (%): 0.0<br />\", \"Shots: 0<br />Goals: 0<br />Share goal (%): 0.0<br />\", \"Shots: 0<br />Goals: 0<br />Share goal (%): 0.0<br />\", \"Shots: 0<br />Goals: 0<br />Share goal (%): 0.0<br />\", \"Shots: 0<br />Goals: 0<br />Share goal (%): 0.0<br />\", \"Shots: 1<br />Goals: 0<br />Share goal (%): 0.0<br />\", \"Shots: 1<br />Goals: 0<br />Share goal (%): 0.0<br />\", \"Shots: 0<br />Goals: 0<br />Share goal (%): 0.0<br />\", \"Shots: 0<br />Goals: 0<br />Share goal (%): 0.0<br />\", \"Shots: 0<br />Goals: 0<br />Share goal (%): 0.0<br />\", \"Shots: 0<br />Goals: 0<br />Share goal (%): 0.0<br />\", \"Shots: 0<br />Goals: 0<br />Share goal (%): 0.0<br />\", \"Shots: 0<br />Goals: 0<br />Share goal (%): 0.0<br />\", \"Shots: 0<br />Goals: 0<br />Share goal (%): 0.0<br />\", \"Shots: 0<br />Goals: 0<br />Share goal (%): 0.0<br />\", \"Shots: 1<br />Goals: 0<br />Share goal (%): 0.0<br />\", \"Shots: 0<br />Goals: 0<br />Share goal (%): 0.0<br />\", \"Shots: 0<br />Goals: 0<br />Share goal (%): 0.0<br />\", \"Shots: 0<br />Goals: 0<br />Share goal (%): 0.0<br />\", \"Shots: 0<br />Goals: 0<br />Share goal (%): 0.0<br />\", \"Shots: 0<br />Goals: 0<br />Share goal (%): 0.0<br />\"], [\"Shots: 0<br />Goals: 0<br />Share goal (%): 0.0<br />\", \"Shots: 0<br />Goals: 0<br />Share goal (%): 0.0<br />\", \"Shots: 0<br />Goals: 0<br />Share goal (%): 0.0<br />\", \"Shots: 0<br />Goals: 0<br />Share goal (%): 0.0<br />\", \"Shots: 0<br />Goals: 0<br />Share goal (%): 0.0<br />\", \"Shots: 0<br />Goals: 0<br />Share goal (%): 0.0<br />\", \"Shots: 0<br />Goals: 0<br />Share goal (%): 0.0<br />\", \"Shots: 0<br />Goals: 0<br />Share goal (%): 0.0<br />\", \"Shots: 0<br />Goals: 0<br />Share goal (%): 0.0<br />\", \"Shots: 0<br />Goals: 0<br />Share goal (%): 0.0<br />\", \"Shots: 0<br />Goals: 0<br />Share goal (%): 0.0<br />\", \"Shots: 0<br />Goals: 0<br />Share goal (%): 0.0<br />\", \"Shots: 0<br />Goals: 0<br />Share goal (%): 0.0<br />\", \"Shots: 0<br />Goals: 0<br />Share goal (%): 0.0<br />\", \"Shots: 1<br />Goals: 0<br />Share goal (%): 0.0<br />\", \"Shots: 1<br />Goals: 0<br />Share goal (%): 0.0<br />\", \"Shots: 0<br />Goals: 0<br />Share goal (%): 0.0<br />\", \"Shots: 0<br />Goals: 0<br />Share goal (%): 0.0<br />\", \"Shots: 1<br />Goals: 0<br />Share goal (%): 0.0<br />\", \"Shots: 0<br />Goals: 0<br />Share goal (%): 0.0<br />\", \"Shots: 0<br />Goals: 0<br />Share goal (%): 0.0<br />\", \"Shots: 0<br />Goals: 0<br />Share goal (%): 0.0<br />\", \"Shots: 0<br />Goals: 0<br />Share goal (%): 0.0<br />\", \"Shots: 0<br />Goals: 0<br />Share goal (%): 0.0<br />\"], [\"Shots: 0<br />Goals: 0<br />Share goal (%): 0.0<br />\", \"Shots: 0<br />Goals: 0<br />Share goal (%): 0.0<br />\", \"Shots: 0<br />Goals: 0<br />Share goal (%): 0.0<br />\", \"Shots: 0<br />Goals: 0<br />Share goal (%): 0.0<br />\", \"Shots: 0<br />Goals: 0<br />Share goal (%): 0.0<br />\", \"Shots: 0<br />Goals: 0<br />Share goal (%): 0.0<br />\", \"Shots: 0<br />Goals: 0<br />Share goal (%): 0.0<br />\", \"Shots: 0<br />Goals: 0<br />Share goal (%): 0.0<br />\", \"Shots: 0<br />Goals: 0<br />Share goal (%): 0.0<br />\", \"Shots: 0<br />Goals: 0<br />Share goal (%): 0.0<br />\", \"Shots: 0<br />Goals: 0<br />Share goal (%): 0.0<br />\", \"Shots: 0<br />Goals: 0<br />Share goal (%): 0.0<br />\", \"Shots: 0<br />Goals: 0<br />Share goal (%): 0.0<br />\", \"Shots: 0<br />Goals: 0<br />Share goal (%): 0.0<br />\", \"Shots: 0<br />Goals: 0<br />Share goal (%): 0.0<br />\", \"Shots: 1<br />Goals: 0<br />Share goal (%): 0.0<br />\", \"Shots: 3<br />Goals: 1<br />Share goal (%): 33.3<br />\", \"Shots: 7<br />Goals: 0<br />Share goal (%): 0.0<br />\", \"Shots: 6<br />Goals: 0<br />Share goal (%): 0.0<br />\", \"Shots: 2<br />Goals: 0<br />Share goal (%): 0.0<br />\", \"Shots: 2<br />Goals: 0<br />Share goal (%): 0.0<br />\", \"Shots: 1<br />Goals: 0<br />Share goal (%): 0.0<br />\", \"Shots: 1<br />Goals: 0<br />Share goal (%): 0.0<br />\", \"Shots: 0<br />Goals: 0<br />Share goal (%): 0.0<br />\"], [\"Shots: 0<br />Goals: 0<br />Share goal (%): 0.0<br />\", \"Shots: 0<br />Goals: 0<br />Share goal (%): 0.0<br />\", \"Shots: 0<br />Goals: 0<br />Share goal (%): 0.0<br />\", \"Shots: 0<br />Goals: 0<br />Share goal (%): 0.0<br />\", \"Shots: 0<br />Goals: 0<br />Share goal (%): 0.0<br />\", \"Shots: 0<br />Goals: 0<br />Share goal (%): 0.0<br />\", \"Shots: 0<br />Goals: 0<br />Share goal (%): 0.0<br />\", \"Shots: 0<br />Goals: 0<br />Share goal (%): 0.0<br />\", \"Shots: 0<br />Goals: 0<br />Share goal (%): 0.0<br />\", \"Shots: 0<br />Goals: 0<br />Share goal (%): 0.0<br />\", \"Shots: 0<br />Goals: 0<br />Share goal (%): 0.0<br />\", \"Shots: 0<br />Goals: 0<br />Share goal (%): 0.0<br />\", \"Shots: 0<br />Goals: 0<br />Share goal (%): 0.0<br />\", \"Shots: 0<br />Goals: 0<br />Share goal (%): 0.0<br />\", \"Shots: 0<br />Goals: 0<br />Share goal (%): 0.0<br />\", \"Shots: 1<br />Goals: 0<br />Share goal (%): 0.0<br />\", \"Shots: 7<br />Goals: 0<br />Share goal (%): 0.0<br />\", \"Shots: 28<br />Goals: 0<br />Share goal (%): 0.0<br />\", \"Shots: 15<br />Goals: 0<br />Share goal (%): 0.0<br />\", \"Shots: 11<br />Goals: 0<br />Share goal (%): 0.0<br />\", \"Shots: 13<br />Goals: 0<br />Share goal (%): 0.0<br />\", \"Shots: 13<br />Goals: 0<br />Share goal (%): 0.0<br />\", \"Shots: 5<br />Goals: 0<br />Share goal (%): 0.0<br />\", \"Shots: 1<br />Goals: 0<br />Share goal (%): 0.0<br />\"], [\"Shots: 0<br />Goals: 0<br />Share goal (%): 0.0<br />\", \"Shots: 0<br />Goals: 0<br />Share goal (%): 0.0<br />\", \"Shots: 0<br />Goals: 0<br />Share goal (%): 0.0<br />\", \"Shots: 0<br />Goals: 0<br />Share goal (%): 0.0<br />\", \"Shots: 0<br />Goals: 0<br />Share goal (%): 0.0<br />\", \"Shots: 0<br />Goals: 0<br />Share goal (%): 0.0<br />\", \"Shots: 0<br />Goals: 0<br />Share goal (%): 0.0<br />\", \"Shots: 0<br />Goals: 0<br />Share goal (%): 0.0<br />\", \"Shots: 0<br />Goals: 0<br />Share goal (%): 0.0<br />\", \"Shots: 0<br />Goals: 0<br />Share goal (%): 0.0<br />\", \"Shots: 0<br />Goals: 0<br />Share goal (%): 0.0<br />\", \"Shots: 0<br />Goals: 0<br />Share goal (%): 0.0<br />\", \"Shots: 0<br />Goals: 0<br />Share goal (%): 0.0<br />\", \"Shots: 0<br />Goals: 0<br />Share goal (%): 0.0<br />\", \"Shots: 0<br />Goals: 0<br />Share goal (%): 0.0<br />\", \"Shots: 2<br />Goals: 0<br />Share goal (%): 0.0<br />\", \"Shots: 9<br />Goals: 0<br />Share goal (%): 0.0<br />\", \"Shots: 64<br />Goals: 1<br />Share goal (%): 1.6<br />\", \"Shots: 59<br />Goals: 1<br />Share goal (%): 1.7<br />\", \"Shots: 51<br />Goals: 2<br />Share goal (%): 3.9<br />\", \"Shots: 67<br />Goals: 6<br />Share goal (%): 9.0<br />\", \"Shots: 91<br />Goals: 5<br />Share goal (%): 5.5<br />\", \"Shots: 38<br />Goals: 0<br />Share goal (%): 0.0<br />\", \"Shots: 6<br />Goals: 0<br />Share goal (%): 0.0<br />\"], [\"Shots: 0<br />Goals: 0<br />Share goal (%): 0.0<br />\", \"Shots: 0<br />Goals: 0<br />Share goal (%): 0.0<br />\", \"Shots: 0<br />Goals: 0<br />Share goal (%): 0.0<br />\", \"Shots: 0<br />Goals: 0<br />Share goal (%): 0.0<br />\", \"Shots: 0<br />Goals: 0<br />Share goal (%): 0.0<br />\", \"Shots: 0<br />Goals: 0<br />Share goal (%): 0.0<br />\", \"Shots: 0<br />Goals: 0<br />Share goal (%): 0.0<br />\", \"Shots: 0<br />Goals: 0<br />Share goal (%): 0.0<br />\", \"Shots: 0<br />Goals: 0<br />Share goal (%): 0.0<br />\", \"Shots: 2<br />Goals: 0<br />Share goal (%): 0.0<br />\", \"Shots: 1<br />Goals: 0<br />Share goal (%): 0.0<br />\", \"Shots: 0<br />Goals: 0<br />Share goal (%): 0.0<br />\", \"Shots: 0<br />Goals: 0<br />Share goal (%): 0.0<br />\", \"Shots: 0<br />Goals: 0<br />Share goal (%): 0.0<br />\", \"Shots: 0<br />Goals: 0<br />Share goal (%): 0.0<br />\", \"Shots: 1<br />Goals: 0<br />Share goal (%): 0.0<br />\", \"Shots: 20<br />Goals: 0<br />Share goal (%): 0.0<br />\", \"Shots: 71<br />Goals: 1<br />Share goal (%): 1.4<br />\", \"Shots: 86<br />Goals: 3<br />Share goal (%): 3.5<br />\", \"Shots: 96<br />Goals: 3<br />Share goal (%): 3.1<br />\", \"Shots: 106<br />Goals: 6<br />Share goal (%): 5.7<br />\", \"Shots: 232<br />Goals: 25<br />Share goal (%): 10.8<br />\", \"Shots: 114<br />Goals: 11<br />Share goal (%): 9.6<br />\", \"Shots: 24<br />Goals: 1<br />Share goal (%): 4.2<br />\"], [\"Shots: 1<br />Goals: 0<br />Share goal (%): 0.0<br />\", \"Shots: 1<br />Goals: 0<br />Share goal (%): 0.0<br />\", \"Shots: 0<br />Goals: 0<br />Share goal (%): 0.0<br />\", \"Shots: 0<br />Goals: 0<br />Share goal (%): 0.0<br />\", \"Shots: 0<br />Goals: 0<br />Share goal (%): 0.0<br />\", \"Shots: 0<br />Goals: 0<br />Share goal (%): 0.0<br />\", \"Shots: 0<br />Goals: 0<br />Share goal (%): 0.0<br />\", \"Shots: 0<br />Goals: 0<br />Share goal (%): 0.0<br />\", \"Shots: 0<br />Goals: 0<br />Share goal (%): 0.0<br />\", \"Shots: 0<br />Goals: 0<br />Share goal (%): 0.0<br />\", \"Shots: 0<br />Goals: 0<br />Share goal (%): 0.0<br />\", \"Shots: 0<br />Goals: 0<br />Share goal (%): 0.0<br />\", \"Shots: 0<br />Goals: 0<br />Share goal (%): 0.0<br />\", \"Shots: 0<br />Goals: 0<br />Share goal (%): 0.0<br />\", \"Shots: 2<br />Goals: 0<br />Share goal (%): 0.0<br />\", \"Shots: 1<br />Goals: 0<br />Share goal (%): 0.0<br />\", \"Shots: 21<br />Goals: 1<br />Share goal (%): 4.8<br />\", \"Shots: 103<br />Goals: 3<br />Share goal (%): 2.9<br />\", \"Shots: 113<br />Goals: 2<br />Share goal (%): 1.8<br />\", \"Shots: 102<br />Goals: 4<br />Share goal (%): 3.9<br />\", \"Shots: 123<br />Goals: 12<br />Share goal (%): 9.8<br />\", \"Shots: 276<br />Goals: 32<br />Share goal (%): 11.6<br />\", \"Shots: 132<br />Goals: 30<br />Share goal (%): 22.7<br />\", \"Shots: 51<br />Goals: 14<br />Share goal (%): 27.5<br />\"], [\"Shots: 0<br />Goals: 0<br />Share goal (%): 0.0<br />\", \"Shots: 1<br />Goals: 0<br />Share goal (%): 0.0<br />\", \"Shots: 0<br />Goals: 0<br />Share goal (%): 0.0<br />\", \"Shots: 0<br />Goals: 0<br />Share goal (%): 0.0<br />\", \"Shots: 0<br />Goals: 0<br />Share goal (%): 0.0<br />\", \"Shots: 0<br />Goals: 0<br />Share goal (%): 0.0<br />\", \"Shots: 0<br />Goals: 0<br />Share goal (%): 0.0<br />\", \"Shots: 0<br />Goals: 0<br />Share goal (%): 0.0<br />\", \"Shots: 0<br />Goals: 0<br />Share goal (%): 0.0<br />\", \"Shots: 0<br />Goals: 0<br />Share goal (%): 0.0<br />\", \"Shots: 0<br />Goals: 0<br />Share goal (%): 0.0<br />\", \"Shots: 0<br />Goals: 0<br />Share goal (%): 0.0<br />\", \"Shots: 0<br />Goals: 0<br />Share goal (%): 0.0<br />\", \"Shots: 0<br />Goals: 0<br />Share goal (%): 0.0<br />\", \"Shots: 1<br />Goals: 0<br />Share goal (%): 0.0<br />\", \"Shots: 3<br />Goals: 0<br />Share goal (%): 0.0<br />\", \"Shots: 24<br />Goals: 1<br />Share goal (%): 4.2<br />\", \"Shots: 89<br />Goals: 2<br />Share goal (%): 2.2<br />\", \"Shots: 93<br />Goals: 4<br />Share goal (%): 4.3<br />\", \"Shots: 105<br />Goals: 11<br />Share goal (%): 10.5<br />\", \"Shots: 129<br />Goals: 7<br />Share goal (%): 5.4<br />\", \"Shots: 306<br />Goals: 53<br />Share goal (%): 17.3<br />\", \"Shots: 192<br />Goals: 50<br />Share goal (%): 26.0<br />\", \"Shots: 57<br />Goals: 31<br />Share goal (%): 54.4<br />\"], [\"Shots: 1<br />Goals: 1<br />Share goal (%): 100.0<br />\", \"Shots: 1<br />Goals: 1<br />Share goal (%): 100.0<br />\", \"Shots: 0<br />Goals: 0<br />Share goal (%): 0.0<br />\", \"Shots: 0<br />Goals: 0<br />Share goal (%): 0.0<br />\", \"Shots: 0<br />Goals: 0<br />Share goal (%): 0.0<br />\", \"Shots: 0<br />Goals: 0<br />Share goal (%): 0.0<br />\", \"Shots: 0<br />Goals: 0<br />Share goal (%): 0.0<br />\", \"Shots: 0<br />Goals: 0<br />Share goal (%): 0.0<br />\", \"Shots: 0<br />Goals: 0<br />Share goal (%): 0.0<br />\", \"Shots: 0<br />Goals: 0<br />Share goal (%): 0.0<br />\", \"Shots: 2<br />Goals: 0<br />Share goal (%): 0.0<br />\", \"Shots: 1<br />Goals: 0<br />Share goal (%): 0.0<br />\", \"Shots: 0<br />Goals: 0<br />Share goal (%): 0.0<br />\", \"Shots: 1<br />Goals: 0<br />Share goal (%): 0.0<br />\", \"Shots: 0<br />Goals: 0<br />Share goal (%): 0.0<br />\", \"Shots: 2<br />Goals: 0<br />Share goal (%): 0.0<br />\", \"Shots: 15<br />Goals: 0<br />Share goal (%): 0.0<br />\", \"Shots: 97<br />Goals: 4<br />Share goal (%): 4.1<br />\", \"Shots: 95<br />Goals: 1<br />Share goal (%): 1.1<br />\", \"Shots: 102<br />Goals: 5<br />Share goal (%): 4.9<br />\", \"Shots: 120<br />Goals: 12<br />Share goal (%): 10.0<br />\", \"Shots: 236<br />Goals: 42<br />Share goal (%): 17.8<br />\", \"Shots: 194<br />Goals: 53<br />Share goal (%): 27.3<br />\", \"Shots: 67<br />Goals: 47<br />Share goal (%): 70.1<br />\"], [\"Shots: 0<br />Goals: 0<br />Share goal (%): 0.0<br />\", \"Shots: 1<br />Goals: 0<br />Share goal (%): 0.0<br />\", \"Shots: 0<br />Goals: 0<br />Share goal (%): 0.0<br />\", \"Shots: 0<br />Goals: 0<br />Share goal (%): 0.0<br />\", \"Shots: 0<br />Goals: 0<br />Share goal (%): 0.0<br />\", \"Shots: 0<br />Goals: 0<br />Share goal (%): 0.0<br />\", \"Shots: 0<br />Goals: 0<br />Share goal (%): 0.0<br />\", \"Shots: 0<br />Goals: 0<br />Share goal (%): 0.0<br />\", \"Shots: 0<br />Goals: 0<br />Share goal (%): 0.0<br />\", \"Shots: 0<br />Goals: 0<br />Share goal (%): 0.0<br />\", \"Shots: 0<br />Goals: 0<br />Share goal (%): 0.0<br />\", \"Shots: 0<br />Goals: 0<br />Share goal (%): 0.0<br />\", \"Shots: 0<br />Goals: 0<br />Share goal (%): 0.0<br />\", \"Shots: 1<br />Goals: 0<br />Share goal (%): 0.0<br />\", \"Shots: 2<br />Goals: 1<br />Share goal (%): 50.0<br />\", \"Shots: 1<br />Goals: 0<br />Share goal (%): 0.0<br />\", \"Shots: 21<br />Goals: 0<br />Share goal (%): 0.0<br />\", \"Shots: 92<br />Goals: 0<br />Share goal (%): 0.0<br />\", \"Shots: 102<br />Goals: 1<br />Share goal (%): 1.0<br />\", \"Shots: 94<br />Goals: 8<br />Share goal (%): 8.5<br />\", \"Shots: 121<br />Goals: 17<br />Share goal (%): 14.0<br />\", \"Shots: 279<br />Goals: 40<br />Share goal (%): 14.3<br />\", \"Shots: 185<br />Goals: 47<br />Share goal (%): 25.4<br />\", \"Shots: 51<br />Goals: 23<br />Share goal (%): 45.1<br />\"], [\"Shots: 1<br />Goals: 0<br />Share goal (%): 0.0<br />\", \"Shots: 0<br />Goals: 0<br />Share goal (%): 0.0<br />\", \"Shots: 0<br />Goals: 0<br />Share goal (%): 0.0<br />\", \"Shots: 0<br />Goals: 0<br />Share goal (%): 0.0<br />\", \"Shots: 0<br />Goals: 0<br />Share goal (%): 0.0<br />\", \"Shots: 0<br />Goals: 0<br />Share goal (%): 0.0<br />\", \"Shots: 0<br />Goals: 0<br />Share goal (%): 0.0<br />\", \"Shots: 0<br />Goals: 0<br />Share goal (%): 0.0<br />\", \"Shots: 0<br />Goals: 0<br />Share goal (%): 0.0<br />\", \"Shots: 0<br />Goals: 0<br />Share goal (%): 0.0<br />\", \"Shots: 1<br />Goals: 0<br />Share goal (%): 0.0<br />\", \"Shots: 0<br />Goals: 0<br />Share goal (%): 0.0<br />\", \"Shots: 0<br />Goals: 0<br />Share goal (%): 0.0<br />\", \"Shots: 0<br />Goals: 0<br />Share goal (%): 0.0<br />\", \"Shots: 1<br />Goals: 0<br />Share goal (%): 0.0<br />\", \"Shots: 2<br />Goals: 0<br />Share goal (%): 0.0<br />\", \"Shots: 17<br />Goals: 0<br />Share goal (%): 0.0<br />\", \"Shots: 100<br />Goals: 3<br />Share goal (%): 3.0<br />\", \"Shots: 111<br />Goals: 3<br />Share goal (%): 2.7<br />\", \"Shots: 71<br />Goals: 1<br />Share goal (%): 1.4<br />\", \"Shots: 123<br />Goals: 13<br />Share goal (%): 10.6<br />\", \"Shots: 242<br />Goals: 30<br />Share goal (%): 12.4<br />\", \"Shots: 101<br />Goals: 16<br />Share goal (%): 15.8<br />\", \"Shots: 48<br />Goals: 7<br />Share goal (%): 14.6<br />\"], [\"Shots: 0<br />Goals: 0<br />Share goal (%): 0.0<br />\", \"Shots: 0<br />Goals: 0<br />Share goal (%): 0.0<br />\", \"Shots: 1<br />Goals: 0<br />Share goal (%): 0.0<br />\", \"Shots: 1<br />Goals: 0<br />Share goal (%): 0.0<br />\", \"Shots: 0<br />Goals: 0<br />Share goal (%): 0.0<br />\", \"Shots: 0<br />Goals: 0<br />Share goal (%): 0.0<br />\", \"Shots: 0<br />Goals: 0<br />Share goal (%): 0.0<br />\", \"Shots: 1<br />Goals: 0<br />Share goal (%): 0.0<br />\", \"Shots: 0<br />Goals: 0<br />Share goal (%): 0.0<br />\", \"Shots: 0<br />Goals: 0<br />Share goal (%): 0.0<br />\", \"Shots: 0<br />Goals: 0<br />Share goal (%): 0.0<br />\", \"Shots: 0<br />Goals: 0<br />Share goal (%): 0.0<br />\", \"Shots: 0<br />Goals: 0<br />Share goal (%): 0.0<br />\", \"Shots: 0<br />Goals: 0<br />Share goal (%): 0.0<br />\", \"Shots: 0<br />Goals: 0<br />Share goal (%): 0.0<br />\", \"Shots: 0<br />Goals: 0<br />Share goal (%): 0.0<br />\", \"Shots: 10<br />Goals: 0<br />Share goal (%): 0.0<br />\", \"Shots: 59<br />Goals: 0<br />Share goal (%): 0.0<br />\", \"Shots: 95<br />Goals: 1<br />Share goal (%): 1.1<br />\", \"Shots: 76<br />Goals: 0<br />Share goal (%): 0.0<br />\", \"Shots: 91<br />Goals: 5<br />Share goal (%): 5.5<br />\", \"Shots: 175<br />Goals: 15<br />Share goal (%): 8.6<br />\", \"Shots: 115<br />Goals: 9<br />Share goal (%): 7.8<br />\", \"Shots: 31<br />Goals: 1<br />Share goal (%): 3.2<br />\"], [\"Shots: 0<br />Goals: 0<br />Share goal (%): 0.0<br />\", \"Shots: 0<br />Goals: 0<br />Share goal (%): 0.0<br />\", \"Shots: 0<br />Goals: 0<br />Share goal (%): 0.0<br />\", \"Shots: 0<br />Goals: 0<br />Share goal (%): 0.0<br />\", \"Shots: 0<br />Goals: 0<br />Share goal (%): 0.0<br />\", \"Shots: 0<br />Goals: 0<br />Share goal (%): 0.0<br />\", \"Shots: 0<br />Goals: 0<br />Share goal (%): 0.0<br />\", \"Shots: 0<br />Goals: 0<br />Share goal (%): 0.0<br />\", \"Shots: 0<br />Goals: 0<br />Share goal (%): 0.0<br />\", \"Shots: 1<br />Goals: 0<br />Share goal (%): 0.0<br />\", \"Shots: 0<br />Goals: 0<br />Share goal (%): 0.0<br />\", \"Shots: 0<br />Goals: 0<br />Share goal (%): 0.0<br />\", \"Shots: 0<br />Goals: 0<br />Share goal (%): 0.0<br />\", \"Shots: 1<br />Goals: 0<br />Share goal (%): 0.0<br />\", \"Shots: 3<br />Goals: 1<br />Share goal (%): 33.3<br />\", \"Shots: 0<br />Goals: 0<br />Share goal (%): 0.0<br />\", \"Shots: 8<br />Goals: 0<br />Share goal (%): 0.0<br />\", \"Shots: 27<br />Goals: 1<br />Share goal (%): 3.7<br />\", \"Shots: 42<br />Goals: 0<br />Share goal (%): 0.0<br />\", \"Shots: 43<br />Goals: 0<br />Share goal (%): 0.0<br />\", \"Shots: 49<br />Goals: 3<br />Share goal (%): 6.1<br />\", \"Shots: 77<br />Goals: 5<br />Share goal (%): 6.5<br />\", \"Shots: 35<br />Goals: 3<br />Share goal (%): 8.6<br />\", \"Shots: 6<br />Goals: 0<br />Share goal (%): 0.0<br />\"], [\"Shots: 0<br />Goals: 0<br />Share goal (%): 0.0<br />\", \"Shots: 1<br />Goals: 0<br />Share goal (%): 0.0<br />\", \"Shots: 0<br />Goals: 0<br />Share goal (%): 0.0<br />\", \"Shots: 0<br />Goals: 0<br />Share goal (%): 0.0<br />\", \"Shots: 0<br />Goals: 0<br />Share goal (%): 0.0<br />\", \"Shots: 0<br />Goals: 0<br />Share goal (%): 0.0<br />\", \"Shots: 0<br />Goals: 0<br />Share goal (%): 0.0<br />\", \"Shots: 0<br />Goals: 0<br />Share goal (%): 0.0<br />\", \"Shots: 0<br />Goals: 0<br />Share goal (%): 0.0<br />\", \"Shots: 0<br />Goals: 0<br />Share goal (%): 0.0<br />\", \"Shots: 1<br />Goals: 0<br />Share goal (%): 0.0<br />\", \"Shots: 0<br />Goals: 0<br />Share goal (%): 0.0<br />\", \"Shots: 0<br />Goals: 0<br />Share goal (%): 0.0<br />\", \"Shots: 1<br />Goals: 0<br />Share goal (%): 0.0<br />\", \"Shots: 0<br />Goals: 0<br />Share goal (%): 0.0<br />\", \"Shots: 1<br />Goals: 0<br />Share goal (%): 0.0<br />\", \"Shots: 2<br />Goals: 0<br />Share goal (%): 0.0<br />\", \"Shots: 16<br />Goals: 0<br />Share goal (%): 0.0<br />\", \"Shots: 8<br />Goals: 0<br />Share goal (%): 0.0<br />\", \"Shots: 3<br />Goals: 0<br />Share goal (%): 0.0<br />\", \"Shots: 9<br />Goals: 1<br />Share goal (%): 11.1<br />\", \"Shots: 6<br />Goals: 0<br />Share goal (%): 0.0<br />\", \"Shots: 3<br />Goals: 0<br />Share goal (%): 0.0<br />\", \"Shots: 0<br />Goals: 0<br />Share goal (%): 0.0<br />\"], [\"Shots: 0<br />Goals: 0<br />Share goal (%): 0.0<br />\", \"Shots: 0<br />Goals: 0<br />Share goal (%): 0.0<br />\", \"Shots: 0<br />Goals: 0<br />Share goal (%): 0.0<br />\", \"Shots: 0<br />Goals: 0<br />Share goal (%): 0.0<br />\", \"Shots: 0<br />Goals: 0<br />Share goal (%): 0.0<br />\", \"Shots: 0<br />Goals: 0<br />Share goal (%): 0.0<br />\", \"Shots: 0<br />Goals: 0<br />Share goal (%): 0.0<br />\", \"Shots: 0<br />Goals: 0<br />Share goal (%): 0.0<br />\", \"Shots: 0<br />Goals: 0<br />Share goal (%): 0.0<br />\", \"Shots: 0<br />Goals: 0<br />Share goal (%): 0.0<br />\", \"Shots: 0<br />Goals: 0<br />Share goal (%): 0.0<br />\", \"Shots: 0<br />Goals: 0<br />Share goal (%): 0.0<br />\", \"Shots: 0<br />Goals: 0<br />Share goal (%): 0.0<br />\", \"Shots: 0<br />Goals: 0<br />Share goal (%): 0.0<br />\", \"Shots: 0<br />Goals: 0<br />Share goal (%): 0.0<br />\", \"Shots: 0<br />Goals: 0<br />Share goal (%): 0.0<br />\", \"Shots: 0<br />Goals: 0<br />Share goal (%): 0.0<br />\", \"Shots: 3<br />Goals: 1<br />Share goal (%): 33.3<br />\", \"Shots: 1<br />Goals: 0<br />Share goal (%): 0.0<br />\", \"Shots: 0<br />Goals: 0<br />Share goal (%): 0.0<br />\", \"Shots: 0<br />Goals: 0<br />Share goal (%): 0.0<br />\", \"Shots: 2<br />Goals: 1<br />Share goal (%): 50.0<br />\", \"Shots: 0<br />Goals: 0<br />Share goal (%): 0.0<br />\", \"Shots: 0<br />Goals: 0<br />Share goal (%): 0.0<br />\"], [\"Shots: 0<br />Goals: 0<br />Share goal (%): 0.0<br />\", \"Shots: 0<br />Goals: 0<br />Share goal (%): 0.0<br />\", \"Shots: 0<br />Goals: 0<br />Share goal (%): 0.0<br />\", \"Shots: 0<br />Goals: 0<br />Share goal (%): 0.0<br />\", \"Shots: 0<br />Goals: 0<br />Share goal (%): 0.0<br />\", \"Shots: 0<br />Goals: 0<br />Share goal (%): 0.0<br />\", \"Shots: 0<br />Goals: 0<br />Share goal (%): 0.0<br />\", \"Shots: 0<br />Goals: 0<br />Share goal (%): 0.0<br />\", \"Shots: 0<br />Goals: 0<br />Share goal (%): 0.0<br />\", \"Shots: 0<br />Goals: 0<br />Share goal (%): 0.0<br />\", \"Shots: 0<br />Goals: 0<br />Share goal (%): 0.0<br />\", \"Shots: 0<br />Goals: 0<br />Share goal (%): 0.0<br />\", \"Shots: 0<br />Goals: 0<br />Share goal (%): 0.0<br />\", \"Shots: 0<br />Goals: 0<br />Share goal (%): 0.0<br />\", \"Shots: 0<br />Goals: 0<br />Share goal (%): 0.0<br />\", \"Shots: 0<br />Goals: 0<br />Share goal (%): 0.0<br />\", \"Shots: 0<br />Goals: 0<br />Share goal (%): 0.0<br />\", \"Shots: 0<br />Goals: 0<br />Share goal (%): 0.0<br />\", \"Shots: 0<br />Goals: 0<br />Share goal (%): 0.0<br />\", \"Shots: 0<br />Goals: 0<br />Share goal (%): 0.0<br />\", \"Shots: 0<br />Goals: 0<br />Share goal (%): 0.0<br />\", \"Shots: 0<br />Goals: 0<br />Share goal (%): 0.0<br />\", \"Shots: 0<br />Goals: 0<br />Share goal (%): 0.0<br />\", \"Shots: 0<br />Goals: 0<br />Share goal (%): 0.0<br />\"], [\"Shots: 0<br />Goals: 0<br />Share goal (%): 0.0<br />\", \"Shots: 0<br />Goals: 0<br />Share goal (%): 0.0<br />\", \"Shots: 0<br />Goals: 0<br />Share goal (%): 0.0<br />\", \"Shots: 0<br />Goals: 0<br />Share goal (%): 0.0<br />\", \"Shots: 0<br />Goals: 0<br />Share goal (%): 0.0<br />\", \"Shots: 0<br />Goals: 0<br />Share goal (%): 0.0<br />\", \"Shots: 0<br />Goals: 0<br />Share goal (%): 0.0<br />\", \"Shots: 0<br />Goals: 0<br />Share goal (%): 0.0<br />\", \"Shots: 1<br />Goals: 0<br />Share goal (%): 0.0<br />\", \"Shots: 0<br />Goals: 0<br />Share goal (%): 0.0<br />\", \"Shots: 0<br />Goals: 0<br />Share goal (%): 0.0<br />\", \"Shots: 0<br />Goals: 0<br />Share goal (%): 0.0<br />\", \"Shots: 0<br />Goals: 0<br />Share goal (%): 0.0<br />\", \"Shots: 1<br />Goals: 1<br />Share goal (%): 100.0<br />\", \"Shots: 0<br />Goals: 0<br />Share goal (%): 0.0<br />\", \"Shots: 0<br />Goals: 0<br />Share goal (%): 0.0<br />\", \"Shots: 0<br />Goals: 0<br />Share goal (%): 0.0<br />\", \"Shots: 0<br />Goals: 0<br />Share goal (%): 0.0<br />\", \"Shots: 1<br />Goals: 0<br />Share goal (%): 0.0<br />\", \"Shots: 0<br />Goals: 0<br />Share goal (%): 0.0<br />\", \"Shots: 0<br />Goals: 0<br />Share goal (%): 0.0<br />\", \"Shots: 0<br />Goals: 0<br />Share goal (%): 0.0<br />\", \"Shots: 0<br />Goals: 0<br />Share goal (%): 0.0<br />\", \"Shots: 0<br />Goals: 0<br />Share goal (%): 0.0<br />\"]], \"type\": \"heatmap\", \"x\": [2.1875, 6.5625, 10.9375, 15.3125, 19.6875, 24.0625, 28.4375, 32.8125, 37.1875, 41.5625, 45.9375, 50.3125, 54.6875, 59.0625, 63.4375, 67.8125, 72.1875, 76.5625, 80.9375, 85.3125, 89.6875, 94.0625, 98.4375, 102.8125], \"y\": [2.0, 6.0, 10.0, 14.0, 18.0, 22.0, 26.0, 30.0, 34.0, 38.0, 42.0, 46.0, 50.0, 54.0, 58.0, 62.0, 66.0], \"z\": [[0.0, 0.0, 0.0, 0.0, 0.0, 0.0, 0.0, 0.0, 1.0, 1.0, 0.0, 0.0, 0.0, 0.0, 0.0, 0.0, 0.0, 0.0, 1.0, 0.0, 0.0, 0.0, 0.0, 0.0], [0.0, 0.0, 0.0, 0.0, 0.0, 0.0, 0.0, 0.0, 0.0, 0.0, 0.0, 0.0, 0.0, 0.0, 1.0, 1.0, 0.0, 0.0, 1.0, 0.0, 0.0, 0.0, 0.0, 0.0], [0.0, 0.0, 0.0, 0.0, 0.0, 0.0, 0.0, 0.0, 0.0, 0.0, 0.0, 0.0, 0.0, 0.0, 0.0, 1.0, 3.0, 7.0, 6.0, 2.0, 2.0, 1.0, 1.0, 0.0], [0.0, 0.0, 0.0, 0.0, 0.0, 0.0, 0.0, 0.0, 0.0, 0.0, 0.0, 0.0, 0.0, 0.0, 0.0, 1.0, 7.0, 28.0, 15.0, 11.0, 13.0, 13.0, 5.0, 1.0], [0.0, 0.0, 0.0, 0.0, 0.0, 0.0, 0.0, 0.0, 0.0, 0.0, 0.0, 0.0, 0.0, 0.0, 0.0, 2.0, 9.0, 64.0, 59.0, 51.0, 67.0, 91.0, 38.0, 6.0], [0.0, 0.0, 0.0, 0.0, 0.0, 0.0, 0.0, 0.0, 0.0, 2.0, 1.0, 0.0, 0.0, 0.0, 0.0, 1.0, 20.0, 71.0, 86.0, 96.0, 106.0, 232.0, 114.0, 24.0], [1.0, 1.0, 0.0, 0.0, 0.0, 0.0, 0.0, 0.0, 0.0, 0.0, 0.0, 0.0, 0.0, 0.0, 2.0, 1.0, 21.0, 103.0, 113.0, 102.0, 123.0, 276.0, 132.0, 51.0], [0.0, 1.0, 0.0, 0.0, 0.0, 0.0, 0.0, 0.0, 0.0, 0.0, 0.0, 0.0, 0.0, 0.0, 1.0, 3.0, 24.0, 89.0, 93.0, 105.0, 129.0, 306.0, 192.0, 57.0], [1.0, 1.0, 0.0, 0.0, 0.0, 0.0, 0.0, 0.0, 0.0, 0.0, 2.0, 1.0, 0.0, 1.0, 0.0, 2.0, 15.0, 97.0, 95.0, 102.0, 120.0, 236.0, 194.0, 67.0], [0.0, 1.0, 0.0, 0.0, 0.0, 0.0, 0.0, 0.0, 0.0, 0.0, 0.0, 0.0, 0.0, 1.0, 2.0, 1.0, 21.0, 92.0, 102.0, 94.0, 121.0, 279.0, 185.0, 51.0], [1.0, 0.0, 0.0, 0.0, 0.0, 0.0, 0.0, 0.0, 0.0, 0.0, 1.0, 0.0, 0.0, 0.0, 1.0, 2.0, 17.0, 100.0, 111.0, 71.0, 123.0, 242.0, 101.0, 48.0], [0.0, 0.0, 1.0, 1.0, 0.0, 0.0, 0.0, 1.0, 0.0, 0.0, 0.0, 0.0, 0.0, 0.0, 0.0, 0.0, 10.0, 59.0, 95.0, 76.0, 91.0, 175.0, 115.0, 31.0], [0.0, 0.0, 0.0, 0.0, 0.0, 0.0, 0.0, 0.0, 0.0, 1.0, 0.0, 0.0, 0.0, 1.0, 3.0, 0.0, 8.0, 27.0, 42.0, 43.0, 49.0, 77.0, 35.0, 6.0], [0.0, 1.0, 0.0, 0.0, 0.0, 0.0, 0.0, 0.0, 0.0, 0.0, 1.0, 0.0, 0.0, 1.0, 0.0, 1.0, 2.0, 16.0, 8.0, 3.0, 9.0, 6.0, 3.0, 0.0], [0.0, 0.0, 0.0, 0.0, 0.0, 0.0, 0.0, 0.0, 0.0, 0.0, 0.0, 0.0, 0.0, 0.0, 0.0, 0.0, 0.0, 3.0, 1.0, 0.0, 0.0, 2.0, 0.0, 0.0], [0.0, 0.0, 0.0, 0.0, 0.0, 0.0, 0.0, 0.0, 0.0, 0.0, 0.0, 0.0, 0.0, 0.0, 0.0, 0.0, 0.0, 0.0, 0.0, 0.0, 0.0, 0.0, 0.0, 0.0], [0.0, 0.0, 0.0, 0.0, 0.0, 0.0, 0.0, 0.0, 1.0, 0.0, 0.0, 0.0, 0.0, 1.0, 0.0, 0.0, 0.0, 0.0, 1.0, 0.0, 0.0, 0.0, 0.0, 0.0]]}],\n",
       "                        {\"autosize\": false, \"height\": 612, \"plot_bgcolor\": \"rgba(0,255,112,1)\", \"shapes\": [{\"line\": {\"color\": \"white\", \"width\": 2}, \"type\": \"line\", \"x0\": 52.5, \"x1\": 52.5, \"y0\": 0, \"y1\": 68}, {\"line\": {\"color\": \"white\", \"width\": 2}, \"type\": \"line\", \"x0\": 0, \"x1\": 16, \"y0\": 54.16, \"y1\": 54.16}, {\"line\": {\"color\": \"white\", \"width\": 2}, \"type\": \"line\", \"x0\": 16, \"x1\": 16, \"y0\": 54.16, \"y1\": 13.84}, {\"line\": {\"color\": \"white\", \"width\": 2}, \"type\": \"line\", \"x0\": 16, \"x1\": 0, \"y0\": 13.84, \"y1\": 13.84}, {\"line\": {\"color\": \"white\", \"width\": 2}, \"type\": \"line\", \"x0\": 0, \"x1\": 5.5, \"y0\": 24.84, \"y1\": 24.84}, {\"line\": {\"color\": \"white\", \"width\": 2}, \"type\": \"line\", \"x0\": 5.5, \"x1\": 5.5, \"y0\": 24.84, \"y1\": 43.16}, {\"line\": {\"color\": \"white\", \"width\": 2}, \"type\": \"line\", \"x0\": 5.5, \"x1\": 0, \"y0\": 43.16, \"y1\": 43.16}, {\"line\": {\"color\": \"white\", \"width\": 2}, \"type\": \"line\", \"x0\": 105, \"x1\": 89, \"y0\": 54.16, \"y1\": 54.16}, {\"line\": {\"color\": \"white\", \"width\": 2}, \"type\": \"line\", \"x0\": 89, \"x1\": 89, \"y0\": 54.16, \"y1\": 13.84}, {\"line\": {\"color\": \"white\", \"width\": 2}, \"type\": \"line\", \"x0\": 89, \"x1\": 105, \"y0\": 13.84, \"y1\": 13.84}, {\"line\": {\"color\": \"white\", \"width\": 2}, \"type\": \"line\", \"x0\": 105, \"x1\": 99.5, \"y0\": 24.84, \"y1\": 24.84}, {\"line\": {\"color\": \"white\", \"width\": 2}, \"type\": \"line\", \"x0\": 99.5, \"x1\": 99.5, \"y0\": 24.84, \"y1\": 43.16}, {\"line\": {\"color\": \"white\", \"width\": 2}, \"type\": \"line\", \"x0\": 99.5, \"x1\": 105, \"y0\": 43.16, \"y1\": 43.16}, {\"fillcolor\": \"white\", \"line\": {\"color\": \"white\"}, \"type\": \"circle\", \"x0\": 10.5, \"x1\": 11.5, \"xref\": \"x\", \"y0\": 33.5, \"y1\": 34.5, \"yref\": \"y\"}, {\"fillcolor\": \"white\", \"line\": {\"color\": \"white\"}, \"type\": \"circle\", \"x0\": 93.5, \"x1\": 94.5, \"xref\": \"x\", \"y0\": 33.5, \"y1\": 34.5, \"yref\": \"y\"}, {\"fillcolor\": \"white\", \"line\": {\"color\": \"white\"}, \"type\": \"circle\", \"x0\": 52.0, \"x1\": 53.0, \"xref\": \"x\", \"y0\": 33.5, \"y1\": 34.5, \"yref\": \"y\"}, {\"line\": {\"color\": \"white\"}, \"type\": \"circle\", \"x0\": 43.35, \"x1\": 61.65, \"xref\": \"x\", \"y0\": 24.85, \"y1\": 43.15, \"yref\": \"y\"}], \"template\": {\"data\": {\"bar\": [{\"error_x\": {\"color\": \"#2a3f5f\"}, \"error_y\": {\"color\": \"#2a3f5f\"}, \"marker\": {\"line\": {\"color\": \"#E5ECF6\", \"width\": 0.5}}, \"type\": \"bar\"}], \"barpolar\": [{\"marker\": {\"line\": {\"color\": \"#E5ECF6\", \"width\": 0.5}}, \"type\": \"barpolar\"}], \"carpet\": [{\"aaxis\": {\"endlinecolor\": \"#2a3f5f\", \"gridcolor\": \"white\", \"linecolor\": \"white\", \"minorgridcolor\": \"white\", \"startlinecolor\": \"#2a3f5f\"}, \"baxis\": {\"endlinecolor\": \"#2a3f5f\", \"gridcolor\": \"white\", \"linecolor\": \"white\", \"minorgridcolor\": \"white\", \"startlinecolor\": \"#2a3f5f\"}, \"type\": \"carpet\"}], \"choropleth\": [{\"colorbar\": {\"outlinewidth\": 0, \"ticks\": \"\"}, \"type\": \"choropleth\"}], \"contour\": [{\"colorbar\": {\"outlinewidth\": 0, \"ticks\": \"\"}, \"colorscale\": [[0.0, \"#0d0887\"], [0.1111111111111111, \"#46039f\"], [0.2222222222222222, \"#7201a8\"], [0.3333333333333333, \"#9c179e\"], [0.4444444444444444, \"#bd3786\"], [0.5555555555555556, \"#d8576b\"], [0.6666666666666666, \"#ed7953\"], [0.7777777777777778, \"#fb9f3a\"], [0.8888888888888888, \"#fdca26\"], [1.0, \"#f0f921\"]], \"type\": \"contour\"}], \"contourcarpet\": [{\"colorbar\": {\"outlinewidth\": 0, \"ticks\": \"\"}, \"type\": \"contourcarpet\"}], \"heatmap\": [{\"colorbar\": {\"outlinewidth\": 0, \"ticks\": \"\"}, \"colorscale\": [[0.0, \"#0d0887\"], [0.1111111111111111, \"#46039f\"], [0.2222222222222222, \"#7201a8\"], [0.3333333333333333, \"#9c179e\"], [0.4444444444444444, \"#bd3786\"], [0.5555555555555556, \"#d8576b\"], [0.6666666666666666, \"#ed7953\"], [0.7777777777777778, \"#fb9f3a\"], [0.8888888888888888, \"#fdca26\"], [1.0, \"#f0f921\"]], \"type\": \"heatmap\"}], \"heatmapgl\": [{\"colorbar\": {\"outlinewidth\": 0, \"ticks\": \"\"}, \"colorscale\": [[0.0, \"#0d0887\"], [0.1111111111111111, \"#46039f\"], [0.2222222222222222, \"#7201a8\"], [0.3333333333333333, \"#9c179e\"], [0.4444444444444444, \"#bd3786\"], [0.5555555555555556, \"#d8576b\"], [0.6666666666666666, \"#ed7953\"], [0.7777777777777778, \"#fb9f3a\"], [0.8888888888888888, \"#fdca26\"], [1.0, \"#f0f921\"]], \"type\": \"heatmapgl\"}], \"histogram\": [{\"marker\": {\"colorbar\": {\"outlinewidth\": 0, \"ticks\": \"\"}}, \"type\": \"histogram\"}], \"histogram2d\": [{\"colorbar\": {\"outlinewidth\": 0, \"ticks\": \"\"}, \"colorscale\": [[0.0, \"#0d0887\"], [0.1111111111111111, \"#46039f\"], [0.2222222222222222, \"#7201a8\"], [0.3333333333333333, \"#9c179e\"], [0.4444444444444444, \"#bd3786\"], [0.5555555555555556, \"#d8576b\"], [0.6666666666666666, \"#ed7953\"], [0.7777777777777778, \"#fb9f3a\"], [0.8888888888888888, \"#fdca26\"], [1.0, \"#f0f921\"]], \"type\": \"histogram2d\"}], \"histogram2dcontour\": [{\"colorbar\": {\"outlinewidth\": 0, \"ticks\": \"\"}, \"colorscale\": [[0.0, \"#0d0887\"], [0.1111111111111111, \"#46039f\"], [0.2222222222222222, \"#7201a8\"], [0.3333333333333333, \"#9c179e\"], [0.4444444444444444, \"#bd3786\"], [0.5555555555555556, \"#d8576b\"], [0.6666666666666666, \"#ed7953\"], [0.7777777777777778, \"#fb9f3a\"], [0.8888888888888888, \"#fdca26\"], [1.0, \"#f0f921\"]], \"type\": \"histogram2dcontour\"}], \"mesh3d\": [{\"colorbar\": {\"outlinewidth\": 0, \"ticks\": \"\"}, \"type\": \"mesh3d\"}], \"parcoords\": [{\"line\": {\"colorbar\": {\"outlinewidth\": 0, \"ticks\": \"\"}}, \"type\": \"parcoords\"}], \"pie\": [{\"automargin\": true, \"type\": \"pie\"}], \"scatter\": [{\"marker\": {\"colorbar\": {\"outlinewidth\": 0, \"ticks\": \"\"}}, \"type\": \"scatter\"}], \"scatter3d\": [{\"line\": {\"colorbar\": {\"outlinewidth\": 0, \"ticks\": \"\"}}, \"marker\": {\"colorbar\": {\"outlinewidth\": 0, \"ticks\": \"\"}}, \"type\": \"scatter3d\"}], \"scattercarpet\": [{\"marker\": {\"colorbar\": {\"outlinewidth\": 0, \"ticks\": \"\"}}, \"type\": \"scattercarpet\"}], \"scattergeo\": [{\"marker\": {\"colorbar\": {\"outlinewidth\": 0, \"ticks\": \"\"}}, \"type\": \"scattergeo\"}], \"scattergl\": [{\"marker\": {\"colorbar\": {\"outlinewidth\": 0, \"ticks\": \"\"}}, \"type\": \"scattergl\"}], \"scattermapbox\": [{\"marker\": {\"colorbar\": {\"outlinewidth\": 0, \"ticks\": \"\"}}, \"type\": \"scattermapbox\"}], \"scatterpolar\": [{\"marker\": {\"colorbar\": {\"outlinewidth\": 0, \"ticks\": \"\"}}, \"type\": \"scatterpolar\"}], \"scatterpolargl\": [{\"marker\": {\"colorbar\": {\"outlinewidth\": 0, \"ticks\": \"\"}}, \"type\": \"scatterpolargl\"}], \"scatterternary\": [{\"marker\": {\"colorbar\": {\"outlinewidth\": 0, \"ticks\": \"\"}}, \"type\": \"scatterternary\"}], \"surface\": [{\"colorbar\": {\"outlinewidth\": 0, \"ticks\": \"\"}, \"colorscale\": [[0.0, \"#0d0887\"], [0.1111111111111111, \"#46039f\"], [0.2222222222222222, \"#7201a8\"], [0.3333333333333333, \"#9c179e\"], [0.4444444444444444, \"#bd3786\"], [0.5555555555555556, \"#d8576b\"], [0.6666666666666666, \"#ed7953\"], [0.7777777777777778, \"#fb9f3a\"], [0.8888888888888888, \"#fdca26\"], [1.0, \"#f0f921\"]], \"type\": \"surface\"}], \"table\": [{\"cells\": {\"fill\": {\"color\": \"#EBF0F8\"}, \"line\": {\"color\": \"white\"}}, \"header\": {\"fill\": {\"color\": \"#C8D4E3\"}, \"line\": {\"color\": \"white\"}}, \"type\": \"table\"}]}, \"layout\": {\"annotationdefaults\": {\"arrowcolor\": \"#2a3f5f\", \"arrowhead\": 0, \"arrowwidth\": 1}, \"coloraxis\": {\"colorbar\": {\"outlinewidth\": 0, \"ticks\": \"\"}}, \"colorscale\": {\"diverging\": [[0, \"#8e0152\"], [0.1, \"#c51b7d\"], [0.2, \"#de77ae\"], [0.3, \"#f1b6da\"], [0.4, \"#fde0ef\"], [0.5, \"#f7f7f7\"], [0.6, \"#e6f5d0\"], [0.7, \"#b8e186\"], [0.8, \"#7fbc41\"], [0.9, \"#4d9221\"], [1, \"#276419\"]], \"sequential\": [[0.0, \"#0d0887\"], [0.1111111111111111, \"#46039f\"], [0.2222222222222222, \"#7201a8\"], [0.3333333333333333, \"#9c179e\"], [0.4444444444444444, \"#bd3786\"], [0.5555555555555556, \"#d8576b\"], [0.6666666666666666, \"#ed7953\"], [0.7777777777777778, \"#fb9f3a\"], [0.8888888888888888, \"#fdca26\"], [1.0, \"#f0f921\"]], \"sequentialminus\": [[0.0, \"#0d0887\"], [0.1111111111111111, \"#46039f\"], [0.2222222222222222, \"#7201a8\"], [0.3333333333333333, \"#9c179e\"], [0.4444444444444444, \"#bd3786\"], [0.5555555555555556, \"#d8576b\"], [0.6666666666666666, \"#ed7953\"], [0.7777777777777778, \"#fb9f3a\"], [0.8888888888888888, \"#fdca26\"], [1.0, \"#f0f921\"]]}, \"colorway\": [\"#636efa\", \"#EF553B\", \"#00cc96\", \"#ab63fa\", \"#FFA15A\", \"#19d3f3\", \"#FF6692\", \"#B6E880\", \"#FF97FF\", \"#FECB52\"], \"font\": {\"color\": \"#2a3f5f\"}, \"geo\": {\"bgcolor\": \"white\", \"lakecolor\": \"white\", \"landcolor\": \"#E5ECF6\", \"showlakes\": true, \"showland\": true, \"subunitcolor\": \"white\"}, \"hoverlabel\": {\"align\": \"left\"}, \"hovermode\": \"closest\", \"mapbox\": {\"style\": \"light\"}, \"paper_bgcolor\": \"white\", \"plot_bgcolor\": \"#E5ECF6\", \"polar\": {\"angularaxis\": {\"gridcolor\": \"white\", \"linecolor\": \"white\", \"ticks\": \"\"}, \"bgcolor\": \"#E5ECF6\", \"radialaxis\": {\"gridcolor\": \"white\", \"linecolor\": \"white\", \"ticks\": \"\"}}, \"scene\": {\"xaxis\": {\"backgroundcolor\": \"#E5ECF6\", \"gridcolor\": \"white\", \"gridwidth\": 2, \"linecolor\": \"white\", \"showbackground\": true, \"ticks\": \"\", \"zerolinecolor\": \"white\"}, \"yaxis\": {\"backgroundcolor\": \"#E5ECF6\", \"gridcolor\": \"white\", \"gridwidth\": 2, \"linecolor\": \"white\", \"showbackground\": true, \"ticks\": \"\", \"zerolinecolor\": \"white\"}, \"zaxis\": {\"backgroundcolor\": \"#E5ECF6\", \"gridcolor\": \"white\", \"gridwidth\": 2, \"linecolor\": \"white\", \"showbackground\": true, \"ticks\": \"\", \"zerolinecolor\": \"white\"}}, \"shapedefaults\": {\"line\": {\"color\": \"#2a3f5f\"}}, \"ternary\": {\"aaxis\": {\"gridcolor\": \"white\", \"linecolor\": \"white\", \"ticks\": \"\"}, \"baxis\": {\"gridcolor\": \"white\", \"linecolor\": \"white\", \"ticks\": \"\"}, \"bgcolor\": \"#E5ECF6\", \"caxis\": {\"gridcolor\": \"white\", \"linecolor\": \"white\", \"ticks\": \"\"}}, \"title\": {\"x\": 0.05}, \"xaxis\": {\"automargin\": true, \"gridcolor\": \"white\", \"linecolor\": \"white\", \"ticks\": \"\", \"title\": {\"standoff\": 15}, \"zerolinecolor\": \"white\", \"zerolinewidth\": 2}, \"yaxis\": {\"automargin\": true, \"gridcolor\": \"white\", \"linecolor\": \"white\", \"ticks\": \"\", \"title\": {\"standoff\": 15}, \"zerolinecolor\": \"white\", \"zerolinewidth\": 2}}}, \"title\": {\"text\": \"Number of shots\", \"x\": 0.5, \"xanchor\": \"center\", \"y\": 0.9, \"yanchor\": \"top\"}, \"width\": 840, \"xaxis\": {\"range\": [0, 105], \"showgrid\": false, \"showticklabels\": false}, \"yaxis\": {\"range\": [0, 68], \"showgrid\": false, \"showticklabels\": false}},\n",
       "                        {\"responsive\": true}\n",
       "                    ).then(function(){\n",
       "                            \n",
       "var gd = document.getElementById('a901739b-bec9-4d76-a82c-81a5ca898006');\n",
       "var x = new MutationObserver(function (mutations, observer) {{\n",
       "        var display = window.getComputedStyle(gd).display;\n",
       "        if (!display || display === 'none') {{\n",
       "            console.log([gd, 'removed!']);\n",
       "            Plotly.purge(gd);\n",
       "            observer.disconnect();\n",
       "        }}\n",
       "}});\n",
       "\n",
       "// Listen for the removal of the full notebook cells\n",
       "var notebookContainer = gd.closest('#notebook-container');\n",
       "if (notebookContainer) {{\n",
       "    x.observe(notebookContainer, {childList: true});\n",
       "}}\n",
       "\n",
       "// Listen for the clearing of the current output cell\n",
       "var outputEl = gd.closest('.output');\n",
       "if (outputEl) {{\n",
       "    x.observe(outputEl, {childList: true});\n",
       "}}\n",
       "\n",
       "                        })\n",
       "                };\n",
       "                });\n",
       "            </script>\n",
       "        </div>"
      ]
     },
     "metadata": {},
     "output_type": "display_data"
    }
   ],
   "source": [
    "field.show()"
   ]
  },
  {
   "cell_type": "markdown",
   "metadata": {},
   "source": [
    "Distance to the goal"
   ]
  },
  {
   "cell_type": "code",
   "execution_count": 740,
   "metadata": {},
   "outputs": [],
   "source": [
    "def build_buckets(df, col, step_size, min_val=None, max_val=None):\n",
    "\n",
    "    df = df.copy()\n",
    "\n",
    "    if max_val is not None:\n",
    "        df[col] = df[col].clip(upper=max_val)\n",
    "\n",
    "    if min_val is not None:\n",
    "        df[col] = df[col].clip(lower=min_val)\n",
    "\n",
    "    df[col] = df[col].map(lambda x: int(x/step_size)*step_size)\n",
    "    return df[col]\n"
   ]
  },
  {
   "cell_type": "code",
   "execution_count": 741,
   "metadata": {},
   "outputs": [],
   "source": [
    "df_shots[\"distToGoalLine\"] = FIELD_LENGTH - df_shots[\"posBeforeXMeters\"]"
   ]
  },
  {
   "cell_type": "code",
   "execution_count": 746,
   "metadata": {},
   "outputs": [],
   "source": [
    "df_shots[\"distToGoalLineBinned\"] = build_buckets(df_shots, \"distToGoalLine\", 3, max_val=30)"
   ]
  },
  {
   "cell_type": "code",
   "execution_count": 747,
   "metadata": {},
   "outputs": [
    {
     "data": {
      "application/vnd.plotly.v1+json": {
       "config": {
        "plotlyServerURL": "https://plot.ly"
       },
       "data": [
        {
         "name": "Share of shots",
         "type": "bar",
         "x": [
          "<3",
          "3 - 6",
          "6 - 9",
          "9 - 12",
          "12 - 15",
          "15 - 18",
          "18 - 21",
          "21 - 24",
          "24 - 27",
          "27 - 30",
          ">=30"
         ],
         "y": [
          1.0437808060307336,
          6.552623948970717,
          13.525659611481588,
          21.28153087851551,
          16.178602493476372,
          7.291968686575818,
          5.523340098579299,
          8.698173383589445,
          8.50971296027834,
          6.755581327921137,
          4.639025804581038
         ]
        },
        {
         "name": "Prob. to score",
         "type": "scatter",
         "x": [
          "<3",
          "3 - 6",
          "6 - 9",
          "9 - 12",
          "12 - 15",
          "15 - 18",
          "18 - 21",
          "21 - 24",
          "24 - 27",
          "27 - 30",
          ">=30"
         ],
         "xaxis": "x",
         "y": [
          38.88888888888889,
          33.1858407079646,
          17.684887459807076,
          13.010899182561309,
          10.39426523297491,
          6.36182902584493,
          3.674540682414698,
          3.166666666666667,
          2.0442930153321974,
          1.7167381974248928,
          3.75
         ],
         "yaxis": "y2"
        }
       ],
       "layout": {
        "template": {
         "data": {
          "bar": [
           {
            "error_x": {
             "color": "#2a3f5f"
            },
            "error_y": {
             "color": "#2a3f5f"
            },
            "marker": {
             "line": {
              "color": "#E5ECF6",
              "width": 0.5
             }
            },
            "type": "bar"
           }
          ],
          "barpolar": [
           {
            "marker": {
             "line": {
              "color": "#E5ECF6",
              "width": 0.5
             }
            },
            "type": "barpolar"
           }
          ],
          "carpet": [
           {
            "aaxis": {
             "endlinecolor": "#2a3f5f",
             "gridcolor": "white",
             "linecolor": "white",
             "minorgridcolor": "white",
             "startlinecolor": "#2a3f5f"
            },
            "baxis": {
             "endlinecolor": "#2a3f5f",
             "gridcolor": "white",
             "linecolor": "white",
             "minorgridcolor": "white",
             "startlinecolor": "#2a3f5f"
            },
            "type": "carpet"
           }
          ],
          "choropleth": [
           {
            "colorbar": {
             "outlinewidth": 0,
             "ticks": ""
            },
            "type": "choropleth"
           }
          ],
          "contour": [
           {
            "colorbar": {
             "outlinewidth": 0,
             "ticks": ""
            },
            "colorscale": [
             [
              0,
              "#0d0887"
             ],
             [
              0.1111111111111111,
              "#46039f"
             ],
             [
              0.2222222222222222,
              "#7201a8"
             ],
             [
              0.3333333333333333,
              "#9c179e"
             ],
             [
              0.4444444444444444,
              "#bd3786"
             ],
             [
              0.5555555555555556,
              "#d8576b"
             ],
             [
              0.6666666666666666,
              "#ed7953"
             ],
             [
              0.7777777777777778,
              "#fb9f3a"
             ],
             [
              0.8888888888888888,
              "#fdca26"
             ],
             [
              1,
              "#f0f921"
             ]
            ],
            "type": "contour"
           }
          ],
          "contourcarpet": [
           {
            "colorbar": {
             "outlinewidth": 0,
             "ticks": ""
            },
            "type": "contourcarpet"
           }
          ],
          "heatmap": [
           {
            "colorbar": {
             "outlinewidth": 0,
             "ticks": ""
            },
            "colorscale": [
             [
              0,
              "#0d0887"
             ],
             [
              0.1111111111111111,
              "#46039f"
             ],
             [
              0.2222222222222222,
              "#7201a8"
             ],
             [
              0.3333333333333333,
              "#9c179e"
             ],
             [
              0.4444444444444444,
              "#bd3786"
             ],
             [
              0.5555555555555556,
              "#d8576b"
             ],
             [
              0.6666666666666666,
              "#ed7953"
             ],
             [
              0.7777777777777778,
              "#fb9f3a"
             ],
             [
              0.8888888888888888,
              "#fdca26"
             ],
             [
              1,
              "#f0f921"
             ]
            ],
            "type": "heatmap"
           }
          ],
          "heatmapgl": [
           {
            "colorbar": {
             "outlinewidth": 0,
             "ticks": ""
            },
            "colorscale": [
             [
              0,
              "#0d0887"
             ],
             [
              0.1111111111111111,
              "#46039f"
             ],
             [
              0.2222222222222222,
              "#7201a8"
             ],
             [
              0.3333333333333333,
              "#9c179e"
             ],
             [
              0.4444444444444444,
              "#bd3786"
             ],
             [
              0.5555555555555556,
              "#d8576b"
             ],
             [
              0.6666666666666666,
              "#ed7953"
             ],
             [
              0.7777777777777778,
              "#fb9f3a"
             ],
             [
              0.8888888888888888,
              "#fdca26"
             ],
             [
              1,
              "#f0f921"
             ]
            ],
            "type": "heatmapgl"
           }
          ],
          "histogram": [
           {
            "marker": {
             "colorbar": {
              "outlinewidth": 0,
              "ticks": ""
             }
            },
            "type": "histogram"
           }
          ],
          "histogram2d": [
           {
            "colorbar": {
             "outlinewidth": 0,
             "ticks": ""
            },
            "colorscale": [
             [
              0,
              "#0d0887"
             ],
             [
              0.1111111111111111,
              "#46039f"
             ],
             [
              0.2222222222222222,
              "#7201a8"
             ],
             [
              0.3333333333333333,
              "#9c179e"
             ],
             [
              0.4444444444444444,
              "#bd3786"
             ],
             [
              0.5555555555555556,
              "#d8576b"
             ],
             [
              0.6666666666666666,
              "#ed7953"
             ],
             [
              0.7777777777777778,
              "#fb9f3a"
             ],
             [
              0.8888888888888888,
              "#fdca26"
             ],
             [
              1,
              "#f0f921"
             ]
            ],
            "type": "histogram2d"
           }
          ],
          "histogram2dcontour": [
           {
            "colorbar": {
             "outlinewidth": 0,
             "ticks": ""
            },
            "colorscale": [
             [
              0,
              "#0d0887"
             ],
             [
              0.1111111111111111,
              "#46039f"
             ],
             [
              0.2222222222222222,
              "#7201a8"
             ],
             [
              0.3333333333333333,
              "#9c179e"
             ],
             [
              0.4444444444444444,
              "#bd3786"
             ],
             [
              0.5555555555555556,
              "#d8576b"
             ],
             [
              0.6666666666666666,
              "#ed7953"
             ],
             [
              0.7777777777777778,
              "#fb9f3a"
             ],
             [
              0.8888888888888888,
              "#fdca26"
             ],
             [
              1,
              "#f0f921"
             ]
            ],
            "type": "histogram2dcontour"
           }
          ],
          "mesh3d": [
           {
            "colorbar": {
             "outlinewidth": 0,
             "ticks": ""
            },
            "type": "mesh3d"
           }
          ],
          "parcoords": [
           {
            "line": {
             "colorbar": {
              "outlinewidth": 0,
              "ticks": ""
             }
            },
            "type": "parcoords"
           }
          ],
          "pie": [
           {
            "automargin": true,
            "type": "pie"
           }
          ],
          "scatter": [
           {
            "marker": {
             "colorbar": {
              "outlinewidth": 0,
              "ticks": ""
             }
            },
            "type": "scatter"
           }
          ],
          "scatter3d": [
           {
            "line": {
             "colorbar": {
              "outlinewidth": 0,
              "ticks": ""
             }
            },
            "marker": {
             "colorbar": {
              "outlinewidth": 0,
              "ticks": ""
             }
            },
            "type": "scatter3d"
           }
          ],
          "scattercarpet": [
           {
            "marker": {
             "colorbar": {
              "outlinewidth": 0,
              "ticks": ""
             }
            },
            "type": "scattercarpet"
           }
          ],
          "scattergeo": [
           {
            "marker": {
             "colorbar": {
              "outlinewidth": 0,
              "ticks": ""
             }
            },
            "type": "scattergeo"
           }
          ],
          "scattergl": [
           {
            "marker": {
             "colorbar": {
              "outlinewidth": 0,
              "ticks": ""
             }
            },
            "type": "scattergl"
           }
          ],
          "scattermapbox": [
           {
            "marker": {
             "colorbar": {
              "outlinewidth": 0,
              "ticks": ""
             }
            },
            "type": "scattermapbox"
           }
          ],
          "scatterpolar": [
           {
            "marker": {
             "colorbar": {
              "outlinewidth": 0,
              "ticks": ""
             }
            },
            "type": "scatterpolar"
           }
          ],
          "scatterpolargl": [
           {
            "marker": {
             "colorbar": {
              "outlinewidth": 0,
              "ticks": ""
             }
            },
            "type": "scatterpolargl"
           }
          ],
          "scatterternary": [
           {
            "marker": {
             "colorbar": {
              "outlinewidth": 0,
              "ticks": ""
             }
            },
            "type": "scatterternary"
           }
          ],
          "surface": [
           {
            "colorbar": {
             "outlinewidth": 0,
             "ticks": ""
            },
            "colorscale": [
             [
              0,
              "#0d0887"
             ],
             [
              0.1111111111111111,
              "#46039f"
             ],
             [
              0.2222222222222222,
              "#7201a8"
             ],
             [
              0.3333333333333333,
              "#9c179e"
             ],
             [
              0.4444444444444444,
              "#bd3786"
             ],
             [
              0.5555555555555556,
              "#d8576b"
             ],
             [
              0.6666666666666666,
              "#ed7953"
             ],
             [
              0.7777777777777778,
              "#fb9f3a"
             ],
             [
              0.8888888888888888,
              "#fdca26"
             ],
             [
              1,
              "#f0f921"
             ]
            ],
            "type": "surface"
           }
          ],
          "table": [
           {
            "cells": {
             "fill": {
              "color": "#EBF0F8"
             },
             "line": {
              "color": "white"
             }
            },
            "header": {
             "fill": {
              "color": "#C8D4E3"
             },
             "line": {
              "color": "white"
             }
            },
            "type": "table"
           }
          ]
         },
         "layout": {
          "annotationdefaults": {
           "arrowcolor": "#2a3f5f",
           "arrowhead": 0,
           "arrowwidth": 1
          },
          "coloraxis": {
           "colorbar": {
            "outlinewidth": 0,
            "ticks": ""
           }
          },
          "colorscale": {
           "diverging": [
            [
             0,
             "#8e0152"
            ],
            [
             0.1,
             "#c51b7d"
            ],
            [
             0.2,
             "#de77ae"
            ],
            [
             0.3,
             "#f1b6da"
            ],
            [
             0.4,
             "#fde0ef"
            ],
            [
             0.5,
             "#f7f7f7"
            ],
            [
             0.6,
             "#e6f5d0"
            ],
            [
             0.7,
             "#b8e186"
            ],
            [
             0.8,
             "#7fbc41"
            ],
            [
             0.9,
             "#4d9221"
            ],
            [
             1,
             "#276419"
            ]
           ],
           "sequential": [
            [
             0,
             "#0d0887"
            ],
            [
             0.1111111111111111,
             "#46039f"
            ],
            [
             0.2222222222222222,
             "#7201a8"
            ],
            [
             0.3333333333333333,
             "#9c179e"
            ],
            [
             0.4444444444444444,
             "#bd3786"
            ],
            [
             0.5555555555555556,
             "#d8576b"
            ],
            [
             0.6666666666666666,
             "#ed7953"
            ],
            [
             0.7777777777777778,
             "#fb9f3a"
            ],
            [
             0.8888888888888888,
             "#fdca26"
            ],
            [
             1,
             "#f0f921"
            ]
           ],
           "sequentialminus": [
            [
             0,
             "#0d0887"
            ],
            [
             0.1111111111111111,
             "#46039f"
            ],
            [
             0.2222222222222222,
             "#7201a8"
            ],
            [
             0.3333333333333333,
             "#9c179e"
            ],
            [
             0.4444444444444444,
             "#bd3786"
            ],
            [
             0.5555555555555556,
             "#d8576b"
            ],
            [
             0.6666666666666666,
             "#ed7953"
            ],
            [
             0.7777777777777778,
             "#fb9f3a"
            ],
            [
             0.8888888888888888,
             "#fdca26"
            ],
            [
             1,
             "#f0f921"
            ]
           ]
          },
          "colorway": [
           "#636efa",
           "#EF553B",
           "#00cc96",
           "#ab63fa",
           "#FFA15A",
           "#19d3f3",
           "#FF6692",
           "#B6E880",
           "#FF97FF",
           "#FECB52"
          ],
          "font": {
           "color": "#2a3f5f"
          },
          "geo": {
           "bgcolor": "white",
           "lakecolor": "white",
           "landcolor": "#E5ECF6",
           "showlakes": true,
           "showland": true,
           "subunitcolor": "white"
          },
          "hoverlabel": {
           "align": "left"
          },
          "hovermode": "closest",
          "mapbox": {
           "style": "light"
          },
          "paper_bgcolor": "white",
          "plot_bgcolor": "#E5ECF6",
          "polar": {
           "angularaxis": {
            "gridcolor": "white",
            "linecolor": "white",
            "ticks": ""
           },
           "bgcolor": "#E5ECF6",
           "radialaxis": {
            "gridcolor": "white",
            "linecolor": "white",
            "ticks": ""
           }
          },
          "scene": {
           "xaxis": {
            "backgroundcolor": "#E5ECF6",
            "gridcolor": "white",
            "gridwidth": 2,
            "linecolor": "white",
            "showbackground": true,
            "ticks": "",
            "zerolinecolor": "white"
           },
           "yaxis": {
            "backgroundcolor": "#E5ECF6",
            "gridcolor": "white",
            "gridwidth": 2,
            "linecolor": "white",
            "showbackground": true,
            "ticks": "",
            "zerolinecolor": "white"
           },
           "zaxis": {
            "backgroundcolor": "#E5ECF6",
            "gridcolor": "white",
            "gridwidth": 2,
            "linecolor": "white",
            "showbackground": true,
            "ticks": "",
            "zerolinecolor": "white"
           }
          },
          "shapedefaults": {
           "line": {
            "color": "#2a3f5f"
           }
          },
          "ternary": {
           "aaxis": {
            "gridcolor": "white",
            "linecolor": "white",
            "ticks": ""
           },
           "baxis": {
            "gridcolor": "white",
            "linecolor": "white",
            "ticks": ""
           },
           "bgcolor": "#E5ECF6",
           "caxis": {
            "gridcolor": "white",
            "linecolor": "white",
            "ticks": ""
           }
          },
          "title": {
           "x": 0.05
          },
          "xaxis": {
           "automargin": true,
           "gridcolor": "white",
           "linecolor": "white",
           "ticks": "",
           "title": {
            "standoff": 15
           },
           "zerolinecolor": "white",
           "zerolinewidth": 2
          },
          "yaxis": {
           "automargin": true,
           "gridcolor": "white",
           "linecolor": "white",
           "ticks": "",
           "title": {
            "standoff": 15
           },
           "zerolinecolor": "white",
           "zerolinewidth": 2
          }
         }
        },
        "title": {
         "text": "Distance to goal line (m)"
        },
        "xaxis": {
         "anchor": "y",
         "domain": [
          0,
          0.94
         ]
        },
        "yaxis": {
         "anchor": "x",
         "domain": [
          0,
          1
         ],
         "tickfont": {
          "size": 14
         },
         "title": {
          "font": {
           "size": 16
          },
          "text": "Share shots (in %)"
         }
        },
        "yaxis2": {
         "anchor": "x",
         "overlaying": "y",
         "side": "right",
         "tickfont": {
          "size": 14
         },
         "title": {
          "font": {
           "size": 16
          },
          "text": "Goal (in %)"
         }
        }
       }
      },
      "text/html": [
       "<div>\n",
       "        \n",
       "        \n",
       "            <div id=\"cf69225b-2034-444b-9cdf-b87cf5c5d607\" class=\"plotly-graph-div\" style=\"height:525px; width:100%;\"></div>\n",
       "            <script type=\"text/javascript\">\n",
       "                require([\"plotly\"], function(Plotly) {\n",
       "                    window.PLOTLYENV=window.PLOTLYENV || {};\n",
       "                    \n",
       "                if (document.getElementById(\"cf69225b-2034-444b-9cdf-b87cf5c5d607\")) {\n",
       "                    Plotly.newPlot(\n",
       "                        'cf69225b-2034-444b-9cdf-b87cf5c5d607',\n",
       "                        [{\"name\": \"Share of shots\", \"type\": \"bar\", \"x\": [\"<3\", \"3 - 6\", \"6 - 9\", \"9 - 12\", \"12 - 15\", \"15 - 18\", \"18 - 21\", \"21 - 24\", \"24 - 27\", \"27 - 30\", \">=30\"], \"y\": [1.0437808060307336, 6.552623948970717, 13.525659611481588, 21.28153087851551, 16.178602493476372, 7.291968686575818, 5.523340098579299, 8.698173383589445, 8.50971296027834, 6.755581327921137, 4.639025804581038]}, {\"name\": \"Prob. to score\", \"type\": \"scatter\", \"x\": [\"<3\", \"3 - 6\", \"6 - 9\", \"9 - 12\", \"12 - 15\", \"15 - 18\", \"18 - 21\", \"21 - 24\", \"24 - 27\", \"27 - 30\", \">=30\"], \"xaxis\": \"x\", \"y\": [38.88888888888889, 33.1858407079646, 17.684887459807076, 13.010899182561309, 10.39426523297491, 6.36182902584493, 3.674540682414698, 3.166666666666667, 2.0442930153321974, 1.7167381974248928, 3.75], \"yaxis\": \"y2\"}],\n",
       "                        {\"template\": {\"data\": {\"bar\": [{\"error_x\": {\"color\": \"#2a3f5f\"}, \"error_y\": {\"color\": \"#2a3f5f\"}, \"marker\": {\"line\": {\"color\": \"#E5ECF6\", \"width\": 0.5}}, \"type\": \"bar\"}], \"barpolar\": [{\"marker\": {\"line\": {\"color\": \"#E5ECF6\", \"width\": 0.5}}, \"type\": \"barpolar\"}], \"carpet\": [{\"aaxis\": {\"endlinecolor\": \"#2a3f5f\", \"gridcolor\": \"white\", \"linecolor\": \"white\", \"minorgridcolor\": \"white\", \"startlinecolor\": \"#2a3f5f\"}, \"baxis\": {\"endlinecolor\": \"#2a3f5f\", \"gridcolor\": \"white\", \"linecolor\": \"white\", \"minorgridcolor\": \"white\", \"startlinecolor\": \"#2a3f5f\"}, \"type\": \"carpet\"}], \"choropleth\": [{\"colorbar\": {\"outlinewidth\": 0, \"ticks\": \"\"}, \"type\": \"choropleth\"}], \"contour\": [{\"colorbar\": {\"outlinewidth\": 0, \"ticks\": \"\"}, \"colorscale\": [[0.0, \"#0d0887\"], [0.1111111111111111, \"#46039f\"], [0.2222222222222222, \"#7201a8\"], [0.3333333333333333, \"#9c179e\"], [0.4444444444444444, \"#bd3786\"], [0.5555555555555556, \"#d8576b\"], [0.6666666666666666, \"#ed7953\"], [0.7777777777777778, \"#fb9f3a\"], [0.8888888888888888, \"#fdca26\"], [1.0, \"#f0f921\"]], \"type\": \"contour\"}], \"contourcarpet\": [{\"colorbar\": {\"outlinewidth\": 0, \"ticks\": \"\"}, \"type\": \"contourcarpet\"}], \"heatmap\": [{\"colorbar\": {\"outlinewidth\": 0, \"ticks\": \"\"}, \"colorscale\": [[0.0, \"#0d0887\"], [0.1111111111111111, \"#46039f\"], [0.2222222222222222, \"#7201a8\"], [0.3333333333333333, \"#9c179e\"], [0.4444444444444444, \"#bd3786\"], [0.5555555555555556, \"#d8576b\"], [0.6666666666666666, \"#ed7953\"], [0.7777777777777778, \"#fb9f3a\"], [0.8888888888888888, \"#fdca26\"], [1.0, \"#f0f921\"]], \"type\": \"heatmap\"}], \"heatmapgl\": [{\"colorbar\": {\"outlinewidth\": 0, \"ticks\": \"\"}, \"colorscale\": [[0.0, \"#0d0887\"], [0.1111111111111111, \"#46039f\"], [0.2222222222222222, \"#7201a8\"], [0.3333333333333333, \"#9c179e\"], [0.4444444444444444, \"#bd3786\"], [0.5555555555555556, \"#d8576b\"], [0.6666666666666666, \"#ed7953\"], [0.7777777777777778, \"#fb9f3a\"], [0.8888888888888888, \"#fdca26\"], [1.0, \"#f0f921\"]], \"type\": \"heatmapgl\"}], \"histogram\": [{\"marker\": {\"colorbar\": {\"outlinewidth\": 0, \"ticks\": \"\"}}, \"type\": \"histogram\"}], \"histogram2d\": [{\"colorbar\": {\"outlinewidth\": 0, \"ticks\": \"\"}, \"colorscale\": [[0.0, \"#0d0887\"], [0.1111111111111111, \"#46039f\"], [0.2222222222222222, \"#7201a8\"], [0.3333333333333333, \"#9c179e\"], [0.4444444444444444, \"#bd3786\"], [0.5555555555555556, \"#d8576b\"], [0.6666666666666666, \"#ed7953\"], [0.7777777777777778, \"#fb9f3a\"], [0.8888888888888888, \"#fdca26\"], [1.0, \"#f0f921\"]], \"type\": \"histogram2d\"}], \"histogram2dcontour\": [{\"colorbar\": {\"outlinewidth\": 0, \"ticks\": \"\"}, \"colorscale\": [[0.0, \"#0d0887\"], [0.1111111111111111, \"#46039f\"], [0.2222222222222222, \"#7201a8\"], [0.3333333333333333, \"#9c179e\"], [0.4444444444444444, \"#bd3786\"], [0.5555555555555556, \"#d8576b\"], [0.6666666666666666, \"#ed7953\"], [0.7777777777777778, \"#fb9f3a\"], [0.8888888888888888, \"#fdca26\"], [1.0, \"#f0f921\"]], \"type\": \"histogram2dcontour\"}], \"mesh3d\": [{\"colorbar\": {\"outlinewidth\": 0, \"ticks\": \"\"}, \"type\": \"mesh3d\"}], \"parcoords\": [{\"line\": {\"colorbar\": {\"outlinewidth\": 0, \"ticks\": \"\"}}, \"type\": \"parcoords\"}], \"pie\": [{\"automargin\": true, \"type\": \"pie\"}], \"scatter\": [{\"marker\": {\"colorbar\": {\"outlinewidth\": 0, \"ticks\": \"\"}}, \"type\": \"scatter\"}], \"scatter3d\": [{\"line\": {\"colorbar\": {\"outlinewidth\": 0, \"ticks\": \"\"}}, \"marker\": {\"colorbar\": {\"outlinewidth\": 0, \"ticks\": \"\"}}, \"type\": \"scatter3d\"}], \"scattercarpet\": [{\"marker\": {\"colorbar\": {\"outlinewidth\": 0, \"ticks\": \"\"}}, \"type\": \"scattercarpet\"}], \"scattergeo\": [{\"marker\": {\"colorbar\": {\"outlinewidth\": 0, \"ticks\": \"\"}}, \"type\": \"scattergeo\"}], \"scattergl\": [{\"marker\": {\"colorbar\": {\"outlinewidth\": 0, \"ticks\": \"\"}}, \"type\": \"scattergl\"}], \"scattermapbox\": [{\"marker\": {\"colorbar\": {\"outlinewidth\": 0, \"ticks\": \"\"}}, \"type\": \"scattermapbox\"}], \"scatterpolar\": [{\"marker\": {\"colorbar\": {\"outlinewidth\": 0, \"ticks\": \"\"}}, \"type\": \"scatterpolar\"}], \"scatterpolargl\": [{\"marker\": {\"colorbar\": {\"outlinewidth\": 0, \"ticks\": \"\"}}, \"type\": \"scatterpolargl\"}], \"scatterternary\": [{\"marker\": {\"colorbar\": {\"outlinewidth\": 0, \"ticks\": \"\"}}, \"type\": \"scatterternary\"}], \"surface\": [{\"colorbar\": {\"outlinewidth\": 0, \"ticks\": \"\"}, \"colorscale\": [[0.0, \"#0d0887\"], [0.1111111111111111, \"#46039f\"], [0.2222222222222222, \"#7201a8\"], [0.3333333333333333, \"#9c179e\"], [0.4444444444444444, \"#bd3786\"], [0.5555555555555556, \"#d8576b\"], [0.6666666666666666, \"#ed7953\"], [0.7777777777777778, \"#fb9f3a\"], [0.8888888888888888, \"#fdca26\"], [1.0, \"#f0f921\"]], \"type\": \"surface\"}], \"table\": [{\"cells\": {\"fill\": {\"color\": \"#EBF0F8\"}, \"line\": {\"color\": \"white\"}}, \"header\": {\"fill\": {\"color\": \"#C8D4E3\"}, \"line\": {\"color\": \"white\"}}, \"type\": \"table\"}]}, \"layout\": {\"annotationdefaults\": {\"arrowcolor\": \"#2a3f5f\", \"arrowhead\": 0, \"arrowwidth\": 1}, \"coloraxis\": {\"colorbar\": {\"outlinewidth\": 0, \"ticks\": \"\"}}, \"colorscale\": {\"diverging\": [[0, \"#8e0152\"], [0.1, \"#c51b7d\"], [0.2, \"#de77ae\"], [0.3, \"#f1b6da\"], [0.4, \"#fde0ef\"], [0.5, \"#f7f7f7\"], [0.6, \"#e6f5d0\"], [0.7, \"#b8e186\"], [0.8, \"#7fbc41\"], [0.9, \"#4d9221\"], [1, \"#276419\"]], \"sequential\": [[0.0, \"#0d0887\"], [0.1111111111111111, \"#46039f\"], [0.2222222222222222, \"#7201a8\"], [0.3333333333333333, \"#9c179e\"], [0.4444444444444444, \"#bd3786\"], [0.5555555555555556, \"#d8576b\"], [0.6666666666666666, \"#ed7953\"], [0.7777777777777778, \"#fb9f3a\"], [0.8888888888888888, \"#fdca26\"], [1.0, \"#f0f921\"]], \"sequentialminus\": [[0.0, \"#0d0887\"], [0.1111111111111111, \"#46039f\"], [0.2222222222222222, \"#7201a8\"], [0.3333333333333333, \"#9c179e\"], [0.4444444444444444, \"#bd3786\"], [0.5555555555555556, \"#d8576b\"], [0.6666666666666666, \"#ed7953\"], [0.7777777777777778, \"#fb9f3a\"], [0.8888888888888888, \"#fdca26\"], [1.0, \"#f0f921\"]]}, \"colorway\": [\"#636efa\", \"#EF553B\", \"#00cc96\", \"#ab63fa\", \"#FFA15A\", \"#19d3f3\", \"#FF6692\", \"#B6E880\", \"#FF97FF\", \"#FECB52\"], \"font\": {\"color\": \"#2a3f5f\"}, \"geo\": {\"bgcolor\": \"white\", \"lakecolor\": \"white\", \"landcolor\": \"#E5ECF6\", \"showlakes\": true, \"showland\": true, \"subunitcolor\": \"white\"}, \"hoverlabel\": {\"align\": \"left\"}, \"hovermode\": \"closest\", \"mapbox\": {\"style\": \"light\"}, \"paper_bgcolor\": \"white\", \"plot_bgcolor\": \"#E5ECF6\", \"polar\": {\"angularaxis\": {\"gridcolor\": \"white\", \"linecolor\": \"white\", \"ticks\": \"\"}, \"bgcolor\": \"#E5ECF6\", \"radialaxis\": {\"gridcolor\": \"white\", \"linecolor\": \"white\", \"ticks\": \"\"}}, \"scene\": {\"xaxis\": {\"backgroundcolor\": \"#E5ECF6\", \"gridcolor\": \"white\", \"gridwidth\": 2, \"linecolor\": \"white\", \"showbackground\": true, \"ticks\": \"\", \"zerolinecolor\": \"white\"}, \"yaxis\": {\"backgroundcolor\": \"#E5ECF6\", \"gridcolor\": \"white\", \"gridwidth\": 2, \"linecolor\": \"white\", \"showbackground\": true, \"ticks\": \"\", \"zerolinecolor\": \"white\"}, \"zaxis\": {\"backgroundcolor\": \"#E5ECF6\", \"gridcolor\": \"white\", \"gridwidth\": 2, \"linecolor\": \"white\", \"showbackground\": true, \"ticks\": \"\", \"zerolinecolor\": \"white\"}}, \"shapedefaults\": {\"line\": {\"color\": \"#2a3f5f\"}}, \"ternary\": {\"aaxis\": {\"gridcolor\": \"white\", \"linecolor\": \"white\", \"ticks\": \"\"}, \"baxis\": {\"gridcolor\": \"white\", \"linecolor\": \"white\", \"ticks\": \"\"}, \"bgcolor\": \"#E5ECF6\", \"caxis\": {\"gridcolor\": \"white\", \"linecolor\": \"white\", \"ticks\": \"\"}}, \"title\": {\"x\": 0.05}, \"xaxis\": {\"automargin\": true, \"gridcolor\": \"white\", \"linecolor\": \"white\", \"ticks\": \"\", \"title\": {\"standoff\": 15}, \"zerolinecolor\": \"white\", \"zerolinewidth\": 2}, \"yaxis\": {\"automargin\": true, \"gridcolor\": \"white\", \"linecolor\": \"white\", \"ticks\": \"\", \"title\": {\"standoff\": 15}, \"zerolinecolor\": \"white\", \"zerolinewidth\": 2}}}, \"title\": {\"text\": \"Distance to goal line (m)\"}, \"xaxis\": {\"anchor\": \"y\", \"domain\": [0.0, 0.94]}, \"yaxis\": {\"anchor\": \"x\", \"domain\": [0.0, 1.0], \"tickfont\": {\"size\": 14}, \"title\": {\"font\": {\"size\": 16}, \"text\": \"Share shots (in %)\"}}, \"yaxis2\": {\"anchor\": \"x\", \"overlaying\": \"y\", \"side\": \"right\", \"tickfont\": {\"size\": 14}, \"title\": {\"font\": {\"size\": 16}, \"text\": \"Goal (in %)\"}}},\n",
       "                        {\"responsive\": true}\n",
       "                    ).then(function(){\n",
       "                            \n",
       "var gd = document.getElementById('cf69225b-2034-444b-9cdf-b87cf5c5d607');\n",
       "var x = new MutationObserver(function (mutations, observer) {{\n",
       "        var display = window.getComputedStyle(gd).display;\n",
       "        if (!display || display === 'none') {{\n",
       "            console.log([gd, 'removed!']);\n",
       "            Plotly.purge(gd);\n",
       "            observer.disconnect();\n",
       "        }}\n",
       "}});\n",
       "\n",
       "// Listen for the removal of the full notebook cells\n",
       "var notebookContainer = gd.closest('#notebook-container');\n",
       "if (notebookContainer) {{\n",
       "    x.observe(notebookContainer, {childList: true});\n",
       "}}\n",
       "\n",
       "// Listen for the clearing of the current output cell\n",
       "var outputEl = gd.closest('.output');\n",
       "if (outputEl) {{\n",
       "    x.observe(outputEl, {childList: true});\n",
       "}}\n",
       "\n",
       "                        })\n",
       "                };\n",
       "                });\n",
       "            </script>\n",
       "        </div>"
      ]
     },
     "metadata": {},
     "output_type": "display_data"
    }
   ],
   "source": [
    "fig = create_variable_graph(df_shots, \"distToGoalLineBinned\", binned_cols=True, title_name=\"Distance to goal line (m)\")\n",
    "fig.show()"
   ]
  },
  {
   "cell_type": "markdown",
   "metadata": {},
   "source": [
    "Angle of shot"
   ]
  },
  {
   "cell_type": "code",
   "execution_count": 744,
   "metadata": {},
   "outputs": [
    {
     "data": {
      "text/html": [
       "<div>\n",
       "<style scoped>\n",
       "    .dataframe tbody tr th:only-of-type {\n",
       "        vertical-align: middle;\n",
       "    }\n",
       "\n",
       "    .dataframe tbody tr th {\n",
       "        vertical-align: top;\n",
       "    }\n",
       "\n",
       "    .dataframe thead th {\n",
       "        text-align: right;\n",
       "    }\n",
       "</style>\n",
       "<table border=\"1\" class=\"dataframe\">\n",
       "  <thead>\n",
       "    <tr style=\"text-align: right;\">\n",
       "      <th></th>\n",
       "      <th>eventId</th>\n",
       "      <th>subEventName</th>\n",
       "      <th>playerId</th>\n",
       "      <th>matchId</th>\n",
       "      <th>eventName</th>\n",
       "      <th>teamId</th>\n",
       "      <th>matchPeriod</th>\n",
       "      <th>eventSec</th>\n",
       "      <th>subEventId</th>\n",
       "      <th>id</th>\n",
       "      <th>posBeforeX</th>\n",
       "      <th>posBeforeY</th>\n",
       "      <th>posAfterX</th>\n",
       "      <th>posAfterY</th>\n",
       "      <th>Goal</th>\n",
       "      <th>Own goal</th>\n",
       "      <th>Assist</th>\n",
       "      <th>Key pass</th>\n",
       "      <th>Counter attack</th>\n",
       "      <th>Left foot</th>\n",
       "      <th>Right foot</th>\n",
       "      <th>Head/body</th>\n",
       "      <th>Direct</th>\n",
       "      <th>Indirect</th>\n",
       "      <th>Dangerous ball lost</th>\n",
       "      <th>Blocked</th>\n",
       "      <th>High</th>\n",
       "      <th>Low</th>\n",
       "      <th>Interception</th>\n",
       "      <th>Clearance</th>\n",
       "      <th>Opportunity</th>\n",
       "      <th>Feint</th>\n",
       "      <th>Missed ball</th>\n",
       "      <th>Free space right</th>\n",
       "      <th>Free space left</th>\n",
       "      <th>Take on left</th>\n",
       "      <th>Take on right</th>\n",
       "      <th>Sliding tackle</th>\n",
       "      <th>Anticipated</th>\n",
       "      <th>Anticipation</th>\n",
       "      <th>Red card</th>\n",
       "      <th>Yellow card</th>\n",
       "      <th>Second yellow card</th>\n",
       "      <th>Position: Goal low center</th>\n",
       "      <th>Position: Goal low right</th>\n",
       "      <th>Position: Goal center</th>\n",
       "      <th>Position: Goal center left</th>\n",
       "      <th>Position: Goal low left</th>\n",
       "      <th>Position: Goal center right</th>\n",
       "      <th>Position: Goal high center</th>\n",
       "      <th>Position: Goal high left</th>\n",
       "      <th>Position: Goal high right</th>\n",
       "      <th>Position: Out low right</th>\n",
       "      <th>Position: Out center left</th>\n",
       "      <th>Position: Out low left</th>\n",
       "      <th>Position: Out center right</th>\n",
       "      <th>Position: Out high center</th>\n",
       "      <th>Position: Out high left</th>\n",
       "      <th>Position: Out high right</th>\n",
       "      <th>Position: Post low right</th>\n",
       "      <th>Position: Post center left</th>\n",
       "      <th>Position: Post low left</th>\n",
       "      <th>Position: Post center right</th>\n",
       "      <th>Position: Post high center</th>\n",
       "      <th>Position: Post high left</th>\n",
       "      <th>Position: Post high right</th>\n",
       "      <th>Through</th>\n",
       "      <th>Fairplay</th>\n",
       "      <th>Lost</th>\n",
       "      <th>Neutral</th>\n",
       "      <th>Won</th>\n",
       "      <th>Accurate</th>\n",
       "      <th>Not accurate</th>\n",
       "      <th>shortName</th>\n",
       "      <th>foot</th>\n",
       "      <th>position</th>\n",
       "      <th>team1Id</th>\n",
       "      <th>team2Id</th>\n",
       "      <th>teamPossession</th>\n",
       "      <th>posBeforeXMeters</th>\n",
       "      <th>posAfterXMeters</th>\n",
       "      <th>posBeforeYMeters</th>\n",
       "      <th>posAfterYMeters</th>\n",
       "      <th>shotFoot</th>\n",
       "      <th>distToGoalLine</th>\n",
       "      <th>posXBinned</th>\n",
       "    </tr>\n",
       "  </thead>\n",
       "  <tbody>\n",
       "    <tr>\n",
       "      <th>104</th>\n",
       "      <td>10</td>\n",
       "      <td>Shot</td>\n",
       "      <td>209091</td>\n",
       "      <td>2516739</td>\n",
       "      <td>Shot</td>\n",
       "      <td>2444</td>\n",
       "      <td>1H</td>\n",
       "      <td>247.703507</td>\n",
       "      <td>100.0</td>\n",
       "      <td>179896573</td>\n",
       "      <td>83</td>\n",
       "      <td>66</td>\n",
       "      <td>0.0</td>\n",
       "      <td>0.0</td>\n",
       "      <td>0</td>\n",
       "      <td>0</td>\n",
       "      <td>0</td>\n",
       "      <td>0</td>\n",
       "      <td>0</td>\n",
       "      <td>0</td>\n",
       "      <td>1</td>\n",
       "      <td>0</td>\n",
       "      <td>0</td>\n",
       "      <td>0</td>\n",
       "      <td>0</td>\n",
       "      <td>0</td>\n",
       "      <td>0</td>\n",
       "      <td>0</td>\n",
       "      <td>0</td>\n",
       "      <td>0</td>\n",
       "      <td>1</td>\n",
       "      <td>0</td>\n",
       "      <td>0</td>\n",
       "      <td>0</td>\n",
       "      <td>0</td>\n",
       "      <td>0</td>\n",
       "      <td>0</td>\n",
       "      <td>0</td>\n",
       "      <td>0</td>\n",
       "      <td>0</td>\n",
       "      <td>0</td>\n",
       "      <td>0</td>\n",
       "      <td>0</td>\n",
       "      <td>0</td>\n",
       "      <td>0</td>\n",
       "      <td>0</td>\n",
       "      <td>0</td>\n",
       "      <td>0</td>\n",
       "      <td>1</td>\n",
       "      <td>0</td>\n",
       "      <td>0</td>\n",
       "      <td>0</td>\n",
       "      <td>0</td>\n",
       "      <td>0</td>\n",
       "      <td>0</td>\n",
       "      <td>0</td>\n",
       "      <td>0</td>\n",
       "      <td>0</td>\n",
       "      <td>0</td>\n",
       "      <td>0</td>\n",
       "      <td>0</td>\n",
       "      <td>0</td>\n",
       "      <td>0</td>\n",
       "      <td>0</td>\n",
       "      <td>0</td>\n",
       "      <td>0</td>\n",
       "      <td>0</td>\n",
       "      <td>0</td>\n",
       "      <td>0</td>\n",
       "      <td>0</td>\n",
       "      <td>0</td>\n",
       "      <td>1</td>\n",
       "      <td>0</td>\n",
       "      <td>C. Tolisso</td>\n",
       "      <td>right</td>\n",
       "      <td>MD</td>\n",
       "      <td>2444</td>\n",
       "      <td>2446</td>\n",
       "      <td>2444</td>\n",
       "      <td>87.15</td>\n",
       "      <td>0.0</td>\n",
       "      <td>44.88</td>\n",
       "      <td>0.0</td>\n",
       "      <td>Right foot</td>\n",
       "      <td>17.85</td>\n",
       "      <td>15</td>\n",
       "    </tr>\n",
       "    <tr>\n",
       "      <th>178</th>\n",
       "      <td>10</td>\n",
       "      <td>Shot</td>\n",
       "      <td>134383</td>\n",
       "      <td>2516739</td>\n",
       "      <td>Shot</td>\n",
       "      <td>2444</td>\n",
       "      <td>1H</td>\n",
       "      <td>529.393731</td>\n",
       "      <td>100.0</td>\n",
       "      <td>179896639</td>\n",
       "      <td>95</td>\n",
       "      <td>59</td>\n",
       "      <td>0.0</td>\n",
       "      <td>0.0</td>\n",
       "      <td>1</td>\n",
       "      <td>0</td>\n",
       "      <td>0</td>\n",
       "      <td>0</td>\n",
       "      <td>0</td>\n",
       "      <td>0</td>\n",
       "      <td>0</td>\n",
       "      <td>1</td>\n",
       "      <td>0</td>\n",
       "      <td>0</td>\n",
       "      <td>0</td>\n",
       "      <td>0</td>\n",
       "      <td>0</td>\n",
       "      <td>0</td>\n",
       "      <td>0</td>\n",
       "      <td>0</td>\n",
       "      <td>1</td>\n",
       "      <td>0</td>\n",
       "      <td>0</td>\n",
       "      <td>0</td>\n",
       "      <td>0</td>\n",
       "      <td>0</td>\n",
       "      <td>0</td>\n",
       "      <td>0</td>\n",
       "      <td>0</td>\n",
       "      <td>0</td>\n",
       "      <td>0</td>\n",
       "      <td>0</td>\n",
       "      <td>0</td>\n",
       "      <td>0</td>\n",
       "      <td>0</td>\n",
       "      <td>0</td>\n",
       "      <td>0</td>\n",
       "      <td>1</td>\n",
       "      <td>0</td>\n",
       "      <td>0</td>\n",
       "      <td>0</td>\n",
       "      <td>0</td>\n",
       "      <td>0</td>\n",
       "      <td>0</td>\n",
       "      <td>0</td>\n",
       "      <td>0</td>\n",
       "      <td>0</td>\n",
       "      <td>0</td>\n",
       "      <td>0</td>\n",
       "      <td>0</td>\n",
       "      <td>0</td>\n",
       "      <td>0</td>\n",
       "      <td>0</td>\n",
       "      <td>0</td>\n",
       "      <td>0</td>\n",
       "      <td>0</td>\n",
       "      <td>0</td>\n",
       "      <td>0</td>\n",
       "      <td>0</td>\n",
       "      <td>0</td>\n",
       "      <td>0</td>\n",
       "      <td>1</td>\n",
       "      <td>0</td>\n",
       "      <td>N. Süle</td>\n",
       "      <td>right</td>\n",
       "      <td>DF</td>\n",
       "      <td>2444</td>\n",
       "      <td>2446</td>\n",
       "      <td>2444</td>\n",
       "      <td>99.75</td>\n",
       "      <td>0.0</td>\n",
       "      <td>40.12</td>\n",
       "      <td>0.0</td>\n",
       "      <td>Head/body</td>\n",
       "      <td>5.25</td>\n",
       "      <td>3</td>\n",
       "    </tr>\n",
       "    <tr>\n",
       "      <th>216</th>\n",
       "      <td>10</td>\n",
       "      <td>Shot</td>\n",
       "      <td>105619</td>\n",
       "      <td>2516739</td>\n",
       "      <td>Shot</td>\n",
       "      <td>2446</td>\n",
       "      <td>1H</td>\n",
       "      <td>668.234340</td>\n",
       "      <td>100.0</td>\n",
       "      <td>179896684</td>\n",
       "      <td>91</td>\n",
       "      <td>66</td>\n",
       "      <td>100.0</td>\n",
       "      <td>100.0</td>\n",
       "      <td>0</td>\n",
       "      <td>0</td>\n",
       "      <td>0</td>\n",
       "      <td>0</td>\n",
       "      <td>0</td>\n",
       "      <td>0</td>\n",
       "      <td>1</td>\n",
       "      <td>0</td>\n",
       "      <td>0</td>\n",
       "      <td>0</td>\n",
       "      <td>0</td>\n",
       "      <td>0</td>\n",
       "      <td>0</td>\n",
       "      <td>0</td>\n",
       "      <td>0</td>\n",
       "      <td>0</td>\n",
       "      <td>1</td>\n",
       "      <td>0</td>\n",
       "      <td>0</td>\n",
       "      <td>0</td>\n",
       "      <td>0</td>\n",
       "      <td>0</td>\n",
       "      <td>0</td>\n",
       "      <td>0</td>\n",
       "      <td>0</td>\n",
       "      <td>0</td>\n",
       "      <td>0</td>\n",
       "      <td>0</td>\n",
       "      <td>0</td>\n",
       "      <td>1</td>\n",
       "      <td>0</td>\n",
       "      <td>0</td>\n",
       "      <td>0</td>\n",
       "      <td>0</td>\n",
       "      <td>0</td>\n",
       "      <td>0</td>\n",
       "      <td>0</td>\n",
       "      <td>0</td>\n",
       "      <td>0</td>\n",
       "      <td>0</td>\n",
       "      <td>0</td>\n",
       "      <td>0</td>\n",
       "      <td>0</td>\n",
       "      <td>0</td>\n",
       "      <td>0</td>\n",
       "      <td>0</td>\n",
       "      <td>0</td>\n",
       "      <td>0</td>\n",
       "      <td>0</td>\n",
       "      <td>0</td>\n",
       "      <td>0</td>\n",
       "      <td>0</td>\n",
       "      <td>0</td>\n",
       "      <td>0</td>\n",
       "      <td>0</td>\n",
       "      <td>0</td>\n",
       "      <td>0</td>\n",
       "      <td>1</td>\n",
       "      <td>0</td>\n",
       "      <td>A. Mehmedi</td>\n",
       "      <td>right</td>\n",
       "      <td>FW</td>\n",
       "      <td>2444</td>\n",
       "      <td>2446</td>\n",
       "      <td>2446</td>\n",
       "      <td>95.55</td>\n",
       "      <td>105.0</td>\n",
       "      <td>44.88</td>\n",
       "      <td>68.0</td>\n",
       "      <td>Right foot</td>\n",
       "      <td>9.45</td>\n",
       "      <td>9</td>\n",
       "    </tr>\n",
       "    <tr>\n",
       "      <th>220</th>\n",
       "      <td>10</td>\n",
       "      <td>Shot</td>\n",
       "      <td>14786</td>\n",
       "      <td>2516739</td>\n",
       "      <td>Shot</td>\n",
       "      <td>2446</td>\n",
       "      <td>1H</td>\n",
       "      <td>672.925920</td>\n",
       "      <td>100.0</td>\n",
       "      <td>179896693</td>\n",
       "      <td>88</td>\n",
       "      <td>49</td>\n",
       "      <td>100.0</td>\n",
       "      <td>100.0</td>\n",
       "      <td>0</td>\n",
       "      <td>0</td>\n",
       "      <td>0</td>\n",
       "      <td>0</td>\n",
       "      <td>0</td>\n",
       "      <td>0</td>\n",
       "      <td>1</td>\n",
       "      <td>0</td>\n",
       "      <td>0</td>\n",
       "      <td>0</td>\n",
       "      <td>0</td>\n",
       "      <td>0</td>\n",
       "      <td>0</td>\n",
       "      <td>0</td>\n",
       "      <td>0</td>\n",
       "      <td>0</td>\n",
       "      <td>1</td>\n",
       "      <td>0</td>\n",
       "      <td>0</td>\n",
       "      <td>0</td>\n",
       "      <td>0</td>\n",
       "      <td>0</td>\n",
       "      <td>0</td>\n",
       "      <td>0</td>\n",
       "      <td>0</td>\n",
       "      <td>0</td>\n",
       "      <td>0</td>\n",
       "      <td>0</td>\n",
       "      <td>0</td>\n",
       "      <td>0</td>\n",
       "      <td>0</td>\n",
       "      <td>0</td>\n",
       "      <td>0</td>\n",
       "      <td>0</td>\n",
       "      <td>0</td>\n",
       "      <td>0</td>\n",
       "      <td>0</td>\n",
       "      <td>0</td>\n",
       "      <td>0</td>\n",
       "      <td>0</td>\n",
       "      <td>1</td>\n",
       "      <td>0</td>\n",
       "      <td>0</td>\n",
       "      <td>0</td>\n",
       "      <td>0</td>\n",
       "      <td>0</td>\n",
       "      <td>0</td>\n",
       "      <td>0</td>\n",
       "      <td>0</td>\n",
       "      <td>0</td>\n",
       "      <td>0</td>\n",
       "      <td>0</td>\n",
       "      <td>0</td>\n",
       "      <td>0</td>\n",
       "      <td>0</td>\n",
       "      <td>0</td>\n",
       "      <td>0</td>\n",
       "      <td>0</td>\n",
       "      <td>1</td>\n",
       "      <td>K. Bellarabi</td>\n",
       "      <td>right</td>\n",
       "      <td>MD</td>\n",
       "      <td>2444</td>\n",
       "      <td>2446</td>\n",
       "      <td>2446</td>\n",
       "      <td>92.40</td>\n",
       "      <td>105.0</td>\n",
       "      <td>33.32</td>\n",
       "      <td>68.0</td>\n",
       "      <td>Right foot</td>\n",
       "      <td>12.60</td>\n",
       "      <td>12</td>\n",
       "    </tr>\n",
       "    <tr>\n",
       "      <th>313</th>\n",
       "      <td>10</td>\n",
       "      <td>Shot</td>\n",
       "      <td>20475</td>\n",
       "      <td>2516739</td>\n",
       "      <td>Shot</td>\n",
       "      <td>2444</td>\n",
       "      <td>1H</td>\n",
       "      <td>949.131592</td>\n",
       "      <td>100.0</td>\n",
       "      <td>179896798</td>\n",
       "      <td>74</td>\n",
       "      <td>42</td>\n",
       "      <td>0.0</td>\n",
       "      <td>0.0</td>\n",
       "      <td>0</td>\n",
       "      <td>0</td>\n",
       "      <td>0</td>\n",
       "      <td>0</td>\n",
       "      <td>0</td>\n",
       "      <td>0</td>\n",
       "      <td>1</td>\n",
       "      <td>0</td>\n",
       "      <td>0</td>\n",
       "      <td>0</td>\n",
       "      <td>0</td>\n",
       "      <td>0</td>\n",
       "      <td>0</td>\n",
       "      <td>0</td>\n",
       "      <td>0</td>\n",
       "      <td>0</td>\n",
       "      <td>0</td>\n",
       "      <td>0</td>\n",
       "      <td>0</td>\n",
       "      <td>0</td>\n",
       "      <td>0</td>\n",
       "      <td>0</td>\n",
       "      <td>0</td>\n",
       "      <td>0</td>\n",
       "      <td>0</td>\n",
       "      <td>0</td>\n",
       "      <td>0</td>\n",
       "      <td>0</td>\n",
       "      <td>0</td>\n",
       "      <td>0</td>\n",
       "      <td>0</td>\n",
       "      <td>0</td>\n",
       "      <td>0</td>\n",
       "      <td>0</td>\n",
       "      <td>0</td>\n",
       "      <td>0</td>\n",
       "      <td>0</td>\n",
       "      <td>0</td>\n",
       "      <td>0</td>\n",
       "      <td>0</td>\n",
       "      <td>0</td>\n",
       "      <td>0</td>\n",
       "      <td>0</td>\n",
       "      <td>0</td>\n",
       "      <td>1</td>\n",
       "      <td>0</td>\n",
       "      <td>0</td>\n",
       "      <td>0</td>\n",
       "      <td>0</td>\n",
       "      <td>0</td>\n",
       "      <td>0</td>\n",
       "      <td>0</td>\n",
       "      <td>0</td>\n",
       "      <td>0</td>\n",
       "      <td>0</td>\n",
       "      <td>0</td>\n",
       "      <td>0</td>\n",
       "      <td>0</td>\n",
       "      <td>1</td>\n",
       "      <td>A. Vidal</td>\n",
       "      <td>right</td>\n",
       "      <td>MD</td>\n",
       "      <td>2444</td>\n",
       "      <td>2446</td>\n",
       "      <td>2444</td>\n",
       "      <td>77.70</td>\n",
       "      <td>0.0</td>\n",
       "      <td>28.56</td>\n",
       "      <td>0.0</td>\n",
       "      <td>Right foot</td>\n",
       "      <td>27.30</td>\n",
       "      <td>27</td>\n",
       "    </tr>\n",
       "  </tbody>\n",
       "</table>\n",
       "</div>"
      ],
      "text/plain": [
       "     eventId subEventName  playerId  matchId eventName  teamId matchPeriod  \\\n",
       "104       10         Shot    209091  2516739      Shot    2444          1H   \n",
       "178       10         Shot    134383  2516739      Shot    2444          1H   \n",
       "216       10         Shot    105619  2516739      Shot    2446          1H   \n",
       "220       10         Shot     14786  2516739      Shot    2446          1H   \n",
       "313       10         Shot     20475  2516739      Shot    2444          1H   \n",
       "\n",
       "       eventSec  subEventId         id  posBeforeX  posBeforeY  posAfterX  \\\n",
       "104  247.703507       100.0  179896573          83          66        0.0   \n",
       "178  529.393731       100.0  179896639          95          59        0.0   \n",
       "216  668.234340       100.0  179896684          91          66      100.0   \n",
       "220  672.925920       100.0  179896693          88          49      100.0   \n",
       "313  949.131592       100.0  179896798          74          42        0.0   \n",
       "\n",
       "     posAfterY  Goal  Own goal  Assist  Key pass  Counter attack  Left foot  \\\n",
       "104        0.0     0         0       0         0               0          0   \n",
       "178        0.0     1         0       0         0               0          0   \n",
       "216      100.0     0         0       0         0               0          0   \n",
       "220      100.0     0         0       0         0               0          0   \n",
       "313        0.0     0         0       0         0               0          0   \n",
       "\n",
       "     Right foot  Head/body  Direct  Indirect  Dangerous ball lost  Blocked  \\\n",
       "104           1          0       0         0                    0        0   \n",
       "178           0          1       0         0                    0        0   \n",
       "216           1          0       0         0                    0        0   \n",
       "220           1          0       0         0                    0        0   \n",
       "313           1          0       0         0                    0        0   \n",
       "\n",
       "     High  Low  Interception  Clearance  Opportunity  Feint  Missed ball  \\\n",
       "104     0    0             0          0            1      0            0   \n",
       "178     0    0             0          0            1      0            0   \n",
       "216     0    0             0          0            1      0            0   \n",
       "220     0    0             0          0            1      0            0   \n",
       "313     0    0             0          0            0      0            0   \n",
       "\n",
       "     Free space right  Free space left  Take on left  Take on right  \\\n",
       "104                 0                0             0              0   \n",
       "178                 0                0             0              0   \n",
       "216                 0                0             0              0   \n",
       "220                 0                0             0              0   \n",
       "313                 0                0             0              0   \n",
       "\n",
       "     Sliding tackle  Anticipated  Anticipation  Red card  Yellow card  \\\n",
       "104               0            0             0         0            0   \n",
       "178               0            0             0         0            0   \n",
       "216               0            0             0         0            0   \n",
       "220               0            0             0         0            0   \n",
       "313               0            0             0         0            0   \n",
       "\n",
       "     Second yellow card  Position: Goal low center  Position: Goal low right  \\\n",
       "104                   0                          0                         0   \n",
       "178                   0                          0                         0   \n",
       "216                   0                          1                         0   \n",
       "220                   0                          0                         0   \n",
       "313                   0                          0                         0   \n",
       "\n",
       "     Position: Goal center  Position: Goal center left  \\\n",
       "104                      0                           0   \n",
       "178                      0                           0   \n",
       "216                      0                           0   \n",
       "220                      0                           0   \n",
       "313                      0                           0   \n",
       "\n",
       "     Position: Goal low left  Position: Goal center right  \\\n",
       "104                        0                            1   \n",
       "178                        1                            0   \n",
       "216                        0                            0   \n",
       "220                        0                            0   \n",
       "313                        0                            0   \n",
       "\n",
       "     Position: Goal high center  Position: Goal high left  \\\n",
       "104                           0                         0   \n",
       "178                           0                         0   \n",
       "216                           0                         0   \n",
       "220                           0                         0   \n",
       "313                           0                         0   \n",
       "\n",
       "     Position: Goal high right  Position: Out low right  \\\n",
       "104                          0                        0   \n",
       "178                          0                        0   \n",
       "216                          0                        0   \n",
       "220                          0                        0   \n",
       "313                          0                        0   \n",
       "\n",
       "     Position: Out center left  Position: Out low left  \\\n",
       "104                          0                       0   \n",
       "178                          0                       0   \n",
       "216                          0                       0   \n",
       "220                          0                       1   \n",
       "313                          0                       0   \n",
       "\n",
       "     Position: Out center right  Position: Out high center  \\\n",
       "104                           0                          0   \n",
       "178                           0                          0   \n",
       "216                           0                          0   \n",
       "220                           0                          0   \n",
       "313                           0                          0   \n",
       "\n",
       "     Position: Out high left  Position: Out high right  \\\n",
       "104                        0                         0   \n",
       "178                        0                         0   \n",
       "216                        0                         0   \n",
       "220                        0                         0   \n",
       "313                        0                         1   \n",
       "\n",
       "     Position: Post low right  Position: Post center left  \\\n",
       "104                         0                           0   \n",
       "178                         0                           0   \n",
       "216                         0                           0   \n",
       "220                         0                           0   \n",
       "313                         0                           0   \n",
       "\n",
       "     Position: Post low left  Position: Post center right  \\\n",
       "104                        0                            0   \n",
       "178                        0                            0   \n",
       "216                        0                            0   \n",
       "220                        0                            0   \n",
       "313                        0                            0   \n",
       "\n",
       "     Position: Post high center  Position: Post high left  \\\n",
       "104                           0                         0   \n",
       "178                           0                         0   \n",
       "216                           0                         0   \n",
       "220                           0                         0   \n",
       "313                           0                         0   \n",
       "\n",
       "     Position: Post high right  Through  Fairplay  Lost  Neutral  Won  \\\n",
       "104                          0        0         0     0        0    0   \n",
       "178                          0        0         0     0        0    0   \n",
       "216                          0        0         0     0        0    0   \n",
       "220                          0        0         0     0        0    0   \n",
       "313                          0        0         0     0        0    0   \n",
       "\n",
       "     Accurate  Not accurate     shortName   foot position  team1Id  team2Id  \\\n",
       "104         1             0    C. Tolisso  right       MD     2444     2446   \n",
       "178         1             0       N. Süle  right       DF     2444     2446   \n",
       "216         1             0    A. Mehmedi  right       FW     2444     2446   \n",
       "220         0             1  K. Bellarabi  right       MD     2444     2446   \n",
       "313         0             1      A. Vidal  right       MD     2444     2446   \n",
       "\n",
       "     teamPossession  posBeforeXMeters  posAfterXMeters  posBeforeYMeters  \\\n",
       "104            2444             87.15              0.0             44.88   \n",
       "178            2444             99.75              0.0             40.12   \n",
       "216            2446             95.55            105.0             44.88   \n",
       "220            2446             92.40            105.0             33.32   \n",
       "313            2444             77.70              0.0             28.56   \n",
       "\n",
       "     posAfterYMeters    shotFoot  distToGoalLine  posXBinned  \n",
       "104              0.0  Right foot           17.85          15  \n",
       "178              0.0   Head/body            5.25           3  \n",
       "216             68.0  Right foot            9.45           9  \n",
       "220             68.0  Right foot           12.60          12  \n",
       "313              0.0  Right foot           27.30          27  "
      ]
     },
     "execution_count": 744,
     "metadata": {},
     "output_type": "execute_result"
    }
   ],
   "source": [
    "df_shots.head()"
   ]
  },
  {
   "cell_type": "code",
   "execution_count": 766,
   "metadata": {},
   "outputs": [],
   "source": [
    "def get_angle_of_shot(x_position, y_position, field_length, field_width):\n",
    "    dx = field_length - x_position\n",
    "    dy = field_width/2 - y_position\n",
    "    return math.degrees(math.atan2(dy,dx))"
   ]
  },
  {
   "cell_type": "code",
   "execution_count": 767,
   "metadata": {},
   "outputs": [],
   "source": [
    "df_shots[\"angleShot\"] = df_shots.apply(lambda row: get_angle_of_shot(row[\"posBeforeXMeters\"], row[\"posBeforeYMeters\"], FIELD_LENGTH, FIELD_WIDTH), axis=1)"
   ]
  },
  {
   "cell_type": "code",
   "execution_count": 780,
   "metadata": {},
   "outputs": [
    {
     "data": {
      "application/vnd.plotly.v1+json": {
       "config": {
        "plotlyServerURL": "https://plot.ly"
       },
       "data": [
        {
         "alignmentgroup": "True",
         "bingroup": "x",
         "hovertemplate": "angleShot=%{x}<br>count=%{y}<extra></extra>",
         "legendgroup": "",
         "marker": {
          "color": "#636efa"
         },
         "name": "",
         "offsetgroup": "",
         "orientation": "v",
         "showlegend": false,
         "type": "histogram",
         "x": [
          -31.363302213950075,
          -49.37558357275064,
          -49.02352384274162,
          3.0891563753365396,
          11.269566284057243,
          -44.169684513742055,
          -59.92726561090238,
          -58.8587911283291,
          -16.40296798307723,
          50.2582397506173,
          -12.771242564901438,
          -20.94104797543842,
          -1.5457014988888864,
          -34.2824209358808,
          -82.66767282530614,
          -73.61045966596521,
          -55.53918372862822,
          -34.2824209358808,
          -28.35496178532406,
          0,
          -24.38637110180138,
          -56.504815326258814,
          6.160456533590615,
          45.71840472604885,
          19.330546516050507,
          29.385905947912228,
          -35.05301206344154,
          20.55289779157558,
          55.95894877696031,
          27.91778019825439,
          -37.85231021361412,
          62.76485330069747,
          37.073073317310424,
          -4.443768879358847,
          -38.99099404250545,
          32.92786265316414,
          18.611565005936257,
          8.189511376946337,
          -15.512048727561284,
          32.92786265316417,
          43.28904320188769,
          -26.481039830374417,
          8.499974673793053,
          4.628137537732349,
          29.92737207175847,
          16.40296798307723,
          -47.62163869046318,
          -1.4839016584330798,
          13.48808925715855,
          23.824260582895427,
          -30.23607619085647,
          11.150156592828946,
          -28.831736712839785,
          13.48808925715855,
          -38.6598082540901,
          19.934020408817528,
          -35.46534772100297,
          -16.532225964861233,
          7.380080224120985,
          32.927862653164134,
          -30.236076190856487,
          -54.7121713984186,
          -82.35257158983939,
          -9.798243007457405,
          39.49679443151137,
          -9.196655891628899,
          40.810347903697696,
          -45.02479263346477,
          -52.32974771675872,
          36.915270756100306,
          -27.079670088195172,
          17.942447089158676,
          53.67317404787977,
          59.92726561090233,
          52.32974771675876,
          30.236076190856487,
          -12.306022008799285,
          -14.523092131093053,
          -39.23380878189716,
          26.481039830374417,
          64.58699386342342,
          -65.7547397327976,
          -52.329747716758746,
          -55.5391837286282,
          65.1447628670635,
          -17.942447089158676,
          -4.273500455338617,
          -24.824554769183358,
          48.576334374997366,
          52.32974771675875,
          20.6954507340633,
          -1.1967884362849743,
          14.523092131093053,
          27.388458790744952,
          -3.3693686357925823,
          52.329747716758725,
          -34.893302550698664,
          -65.41513114188795,
          22.603257476182886,
          -2.55732376012029,
          61.1245566037719,
          17.94244708915867,
          -32.92786265316411,
          -21.729002372726416,
          -47.1858008067756,
          -15.101098161385437,
          3.474407367531663,
          -12.18168168665296,
          37.073073317310424,
          -20.307901967310784,
          30.23607619085648,
          -22.39759795282484,
          -48.576334374997366,
          37.85231021361413,
          -31.86980702811664,
          -21.729002372726416,
          -25.404007819133863,
          2.9658153093911825,
          -9.196655891628891,
          -37.85231021361412,
          41.684303451621034,
          1.7663848463315017,
          35.05301206344153,
          40.094185450916854,
          -5.778119069126655,
          10.648347796326064,
          52.32974771675877,
          24.06715461460875,
          -20.854458039578347,
          -58.8587911283291,
          -20.307901967310777,
          -32.927862653164134,
          37.243856086421374,
          52.329747716758746,
          50.73489274565668,
          -22.397597952824853,
          17.94244708915868,
          37.073073317310424,
          37.35323798643282,
          -60.365082096815655,
          -42.53514708200879,
          71.69153172110528,
          32.92786265316413,
          3.8998440419746827,
          62.76485330069748,
          -28.722095663828473,
          40.81034790369771,
          17.94244708915867,
          38.990994042505484,
          -32.92786265316414,
          1.5457014988888864,
          -22.036226940145454,
          17.94244708915866,
          -23.35208056231187,
          0,
          17.361524083798738,
          21.2347041342539,
          -39.49679443151138,
          -25.220232588615524,
          -17.139240533020793,
          -5.285787242388068,
          16.057442260839654,
          26.481039830374403,
          -49.894375198775116,
          -7.763884405677521,
          -21.464617106809328,
          -24.252402661467894,
          8.189511376946337,
          56.12434608694927,
          42.77407610488599,
          4.628137537732349,
          42.19754848013322,
          -10.7842978675626,
          -29.034744210959836,
          -50.8994636731489,
          27.917780198254395,
          6.715593152692915,
          6.59673829789421,
          3.223190216249565,
          5.285787242388068,
          19.45560221796105,
          0,
          6.371168015831028,
          26.96897351666366,
          -29.03474421095981,
          17.94244708915867,
          -1.5457014988888864,
          -32.92786265316414,
          -12.18168168665296,
          -24.386371101801394,
          61.87539543870606,
          -44.169684513741984,
          27.38845879074495,
          -6.160456533590611,
          0,
          -41.448266645179615,
          -10.277953356677108,
          40.810347903697725,
          14.780364217435102,
          -21.234704134253892,
          17.05428101145161,
          10.7842978675626,
          26.734564823055067,
          -52.32974771675873,
          -40.36453657309737,
          25.90650799951436,
          27.61302782308448,
          44.89487024731449,
          -10.198100845623392,
          -14.523092131093053,
          50.2582397506173,
          28.35496178532405,
          -32.04787293980783,
          -4.6281375377323455,
          49.89437519877513,
          -27.917780198254384,
          7.380080224120985,
          25.906507999514385,
          20.854458039578358,
          67.61986494804042,
          10.48310247701782,
          -2.648528937495261,
          -76.95923896610331,
          -30.23607619085647,
          -52.32974771675875,
          -26.481039830374392,
          -41.88268370243314,
          23.352080562311883,
          17.942447089158676,
          -40.09418545091686,
          -59.92726561090232,
          16.24763157278565,
          59.53445508054011,
          -17.94244708915866,
          42.77407610488597,
          -9.89060494175803,
          16.40296798307724,
          62.76485330069753,
          -55.807350807299194,
          59.92726561090238,
          -59.92726561090232,
          -19.78814077670171,
          17.942447089158676,
          58.29857033049429,
          65.57471928825053,
          -17.26823023887337,
          41.882683702433134,
          34.755912553541364,
          -8.49997467379305,
          29.034744210959836,
          -40.810347903697725,
          9.79824300745741,
          -14.274440091701669,
          -17.94244708915867,
          -30.871074989628912,
          -28.54619073104337,
          -19.45560221796105,
          -32.92786265316412,
          32.92786265316413,
          -13.488089257158542,
          1.686142077399159,
          32.92786265316413,
          -30.090088121236768,
          20.30790196731077,
          37.63132689865813,
          -10.483102477017828,
          32.92786265316413,
          32.927862653164134,
          13.12367188749145,
          24.38637110180139,
          -14.523092131093053,
          23.898504137359094,
          46.01824621163096,
          47.18580080677559,
          17.20936594392159,
          -15.512048727561293,
          56.50481532625883,
          0,
          -28.35496178532406,
          -4.115776985986843,
          -27.388458790744934,
          -52.32974771675874,
          13.986850566788776,
          25.0666610660642,
          17.432138084901684,
          37.30394827798342,
          30.325339056506383,
          -16.05744226083966,
          -32.92786265316413,
          -6.160456533590615,
          23.352080562311897,
          23.898504137359094,
          -16.88679112394405,
          0,
          6.160456533590615,
          -13.488089257158542,
          -24.06715461460875,
          44.89487024731449,
          -15.512048727561293,
          -31.02104083563495,
          43.28904320188769,
          4.356975005846295,
          -8.373026674782395,
          0.650951607572517,
          16.057442260839654,
          7.380080224120985,
          -7.380080224120985,
          -54.52367984093483,
          -40.09418545091686,
          21.72900237272643,
          6.715593152692915,
          -41.448266645179615,
          54.52367984093482,
          -22.24566871052963,
          -49.02352384274162,
          15.101098161385437,
          -59.92726561090238,
          -45.71840472604885,
          -4.935203451166515,
          56.969897865390834,
          -35.24095754208899,
          -18.611565005936264,
          5.285787242388068,
          38.990994042505484,
          -20.307901967310762,
          15.101098161385437,
          19.788140776701688,
          -17.942447089158666,
          41.31261241635549,
          40.094185450916854,
          -60.68590592006639,
          -13.986850566788776,
          -58.29857033049428,
          21.729002372726434,
          -5.838523364424373,
          -25.90650799951436,
          49.37558357275065,
          0,
          20.30790196731078,
          -27.917780198254395,
          13.801353361031603,
          19.224580320446275,
          -37.56199872856741,
          -40.8103479036977,
          -5.6898127164199845,
          34.755912553541364,
          -47.7509904287657,
          2.1816414035514655,
          -17.942447089158673,
          -35.24095754208899,
          0,
          60.68590592006639,
          6.160456533590611,
          48.57633437499734,
          64.24098213999892,
          -41.448266645179615,
          4.6281375377323455,
          -2.55732376012029,
          -19.788140776701688,
          35.46534772100298,
          19.788140776701702,
          -20.695450734063282,
          -52.329747716758746,
          39.49679443151137,
          -28.35496178532406,
          -17.942447089158673,
          38.990994042505456,
          -3.0891563753365396,
          32.92786265316414,
          41.684303451621034,
          -18.56217832404465,
          10.48310247701782,
          -35.24095754208899,
          -8.49997467379305,
          -24.824554769183333,
          -14.523092131093053,
          22.183676862510776,
          36.07601155636859,
          45.211422581039294,
          46.01824621163095,
          8.593016541030497,
          4.1157769859868445,
          -7.380080224120985,
          46.29216688624992,
          -10.483102477017828,
          -42.19754848013323,
          16.532225964861237,
          -22.03622694014543,
          -14.523092131093053,
          35.05301206344153,
          0,
          50.8994636731489,
          -9.531132158346363,
          -36.50647784642544,
          -19.05474993151104,
          -42.19754848013323,
          -77.56043798115343,
          32.927862653164134,
          31.021040835634945,
          -2.0605466502542913,
          -21.729002372726416,
          35.05301206344153,
          27.388458790744952,
          26.481039830374403,
          43.52641858177431,
          -7.763884405677521,
          65.57471928825053,
          -16.734995994930156,
          -23.35208056231189,
          -3.223190216249565,
          32.92786265316415,
          44.169684513742,
          -62.76485330069747,
          29.92737207175847,
          39.49679443151137,
          31.60141278091812,
          -50.25823975061727,
          -7.900789423839791,
          34.15524631294035,
          20.99551625424683,
          25.220232588615513,
          -3.3693686357925823,
          51.237584800597276,
          13.419673615513869,
          24.149157520429036,
          -47.18580080677554,
          21.234704134253892,
          32.92786265316413,
          34.82212051057543,
          41.882683702433134,
          -18.669504109061585,
          17.942447089158676,
          20.94104797543841,
          26.734564823055067,
          60.68590592006639,
          27.91778019825439,
          41.882683702433134,
          27.917780198254395,
          27.917780198254395,
          -49.02352384274162,
          7.099184168725565,
          37.852310213614125,
          41.44826664517961,
          32.92786265316415,
          31.6654572443245,
          68.8919450807573,
          -8.189511376946337,
          4.115776985986843,
          24.386371101801394,
          -53.996209976195985,
          -1.3740268396097135,
          3.3693686357925823,
          28.354961785324072,
          -29.927372071758466,
          -24.824554769183358,
          15.101098161385437,
          -50.734892745656694,
          -14.523092131093053,
          -30.871074989628912,
          -30.48721913046047,
          8.664135433108067,
          -39.49679443151138,
          -10.7842978675626,
          -17.942447089158684,
          -10.994777349292129,
          11.558251258084296,
          25.220232588615513,
          16.40296798307723,
          2.4721872163439333,
          25.9065079995144,
          24.824554769183358,
          -29.03474421095981,
          4.443768879358847,
          -20.307901967310777,
          5.915821844805735,
          -8.49997467379305,
          -4.356975005846297,
          -36.35049406855038,
          43.0898045170044,
          15.512048727561293,
          47.54046740461034,
          42.77407610488599,
          40.810347903697725,
          -12.694496308668345,
          10.696510735778118,
          14.931417178137561,
          7.763884405677521,
          32.92786265316415,
          -14.523092131093053,
          -1.7663848463315017,
          23.824260582895427,
          -28.07248693585297,
          15.322579774365499,
          -7.380080224120985,
          -47.1858008067756,
          -32.92786265316414,
          -23.352080562311894,
          -9.589235728739848,
          35.737911852783796,
          55.206381410914325,
          19.788140776701688,
          17.94244708915866,
          -23.352080562311876,
          56.969897865390834,
          42.77407610488599,
          12.635429180890839,
          0,
          30.23607619085648,
          -9.798243007457405,
          25.9065079995144,
          38.1813177954995,
          0,
          -24.998967260202665,
          27.917780198254395,
          -10.48310247701782,
          -43.08980451700442,
          9.196655891628891,
          66.78446308651675,
          -48.576334374997366,
          -9.1966558916289,
          -7.631615538405302,
          30.236076190856487,
          -42.77407610488598,
          3.223190216249565,
          21.846196297767015,
          -10.016469322717642,
          -27.388458790744934,
          -32.92786265316413,
          12.18168168665295,
          -17.942447089158676,
          6.160456533590615,
          -12.181681686652954,
          44.16968451374198,
          21.846196297767015,
          -17.94244708915867,
          -26.734564823055067,
          -65.1447628670635,
          27.388458790744952,
          -35.737911852783796,
          -32.92786265316412,
          -39.49679443151138,
          -13.123671887491446,
          -46.46198789878022,
          27.61302782308448,
          -16.05744226083966,
          0,
          21.234704134253892,
          10.696510735778118,
          14.523092131093053,
          29.92737207175847,
          30.786888492358944,
          4.776752186165459,
          59.92726561090233,
          27.388458790744952,
          -43.289043201887694,
          -45.502242788829506,
          -38.72312897706813,
          -9.196655891628891,
          -43.08980451700442,
          31.45163262913673,
          2.3178496429030178,
          68.8919450807573,
          -32.927862653164134,
          62.764853300697446,
          18.738427636487454,
          -11.26956628405723,
          71.99182748898198,
          44.169684513742,
          -29.03474421095981,
          -15.10109816138543,
          20.69545073406328,
          0,
          -12.694496308668345,
          3.223190216249565,
          34.35642890636523,
          -17.20936594392158,
          25.510148955760236,
          74.31798454009592,
          28.354961785324072,
          29.927372071758484,
          43.28904320188769,
          -23.8985041373591,
          39.36262700162062,
          29.034744210959836,
          49.8943751987751,
          -11.364200102718739,
          -41.68430345162106,
          39.49679443151137,
          -16.64146311248337,
          16.188646460058553,
          15.512048727561284,
          -21.234704134253906,
          -27.388458790744934,
          31.86980702811664,
          -10.994777349292129,
          52.32974771675876,
          43.0898045170044,
          15.322579774365499,
          9.196655891628897,
          -41.68430345162106,
          43.60281897270363,
          18.82178616748158,
          52.950773426393006,
          11.643431498761688,
          -2.851937567007021,
          3.3693686357925823,
          17.942447089158676,
          -14.523092131093053,
          -58.29857033049434,
          30.23607619085648,
          56.969897865390834,
          -42.19754848013323,
          -59.92726561090238,
          -14.274440091701669,
          34.89330255069864,
          31.45163262913673,
          2.9658153093911825,
          19.45560221796105,
          -17.94244708915866,
          -40.81034790369768,
          0,
          -3.0891563753365383,
          -32.92786265316413,
          7.900789423839791,
          54.93607119615005,
          27.917780198254395,
          44.89487024731449,
          1.3740268396097135,
          -22.828775034651386,
          44.169684513742,
          7.631615538405302,
          -17.318344263916956,
          36.915270756100306,
          -25.906507999514385,
          -14.523092131093053,
          26.96897351666366,
          28.722095663828487,
          -32.927862653164134,
          -7.380080224120985,
          -26.481039830374392,
          -17.94244708915868,
          0,
          38.36282618129002,
          4.6281375377323455,
          -30.23607619085647,
          -52.329747716758746,
          -25.906507999514385,
          49.37558357275065,
          -23.82426058289543,
          35.05301206344153,
          13.48808925715855,
          -17.318344263916956,
          65.41513114188795,
          19.45560221796105,
          7.380080224120985,
          -30.695519823651622,
          -12.181681686652954,
          32.927862653164134,
          -46.66132861881403,
          -30.487219130460485,
          52.329747716758725,
          34.35642890636523,
          10.994777349292129,
          41.684303451621034,
          11.643431498761688,
          -4.628137537732349,
          -35.73791185278378,
          -27.388458790744934,
          -32.927862653164134,
          -5.6898127164199845,
          -25.510148955760247,
          20.55289779157558,
          -9.196655891628897,
          -17.94244708915867,
          8.884677087365912,
          8.189511376946337,
          37.85231021361413,
          -41.31261241635549,
          40.26081072674037,
          17.26823023887338,
          -1.4839016584330798,
          -9.196655891628891,
          0,
          40.810347903697725,
          -40.09418545091686,
          -2.648528937495261,
          -39.49679443151138,
          -16.64146311248337,
          -15.001662688841549,
          -69.81419699053515,
          -36.50647784642545,
          49.89437519877513,
          -1.7663848463315017,
          31.363302213950067,
          29.927372071758477,
          9.53113215834637,
          0,
          -51.1441571843773,
          -6.160456533590615,
          -40.81034790369768,
          23.02549200852804,
          -48.57633437499734,
          29.034744210959825,
          -52.32974771675873,
          -8.499974673793053,
          -47.18580080677554,
          39.49679443151137,
          10.016469322717642,
          27.388458790744934,
          -29.538782259558072,
          9.196655891628891,
          65.7547397327976,
          41.882683702433134,
          -9.1966558916289,
          38.99099404250545,
          32.128583787625736,
          32.92786265316413,
          8.884677087365912,
          47.62163869046318,
          24.386371101801394,
          -36.76902489880967,
          26.734564823055056,
          -3.0891563753365383,
          56.50481532625883,
          30.487219130460485,
          55.95894877696031,
          -23.352080562311883,
          -18.82178616748157,
          35.05301206344153,
          -30.236076190856487,
          -22.60325747618288,
          -32.92786265316411,
          -16.057442260839654,
          27.079670088195165,
          6.923448914810531,
          -39.912749354494395,
          34.89330255069864,
          -23.352080562311883,
          49.742934868529375,
          -23.352080562311876,
          41.882683702433134,
          -23.352080562311894,
          -23.82426058289543,
          18.985656693189377,
          -18.669504109061585,
          7.380080224120985,
          47.62163869046318,
          -14.22031221979403,
          28.35496178532405,
          -4.6281375377323455,
          6.715593152692915,
          44.89487024731449,
          51.237584800597276,
          -44.16968451374199,
          -6.16045653359061,
          35.737911852783796,
          -50.8994636731489,
          4.6281375377323455,
          0,
          -35.46534772100297,
          -11.558251258084296,
          3.8998440419746827,
          -34.43898930880363,
          -28.606435096765008,
          20.307901967310784,
          17.94244708915866,
          -30.48721913046047,
          -32.92786265316415,
          68.89194508075731,
          30.596009467062675,
          -4.935203451166515,
          20.307901967310784,
          0,
          -2.648528937495261,
          -42.53514708200879,
          19.934020408817528,
          18.44982955486508,
          14.13606179814707,
          28.65345298919637,
          0,
          -50.52754015165616,
          47.18580080677559,
          -12.18168168665295,
          -45.502242788829484,
          14.780364217435102,
          15.90502849211302,
          -4.935203451166515,
          5.104498685313563,
          -27.66636151983567,
          6.16045653359061,
          23.352080562311837,
          47.18580080677562,
          -21.234704134253892,
          48.2044690023223,
          -54.7121713984186,
          -22.397597952824853,
          -55.206381410914325,
          -31.451632629136736,
          4.628137537732349,
          -50.8994636731489,
          8.834710662155677,
          17.942447089158676,
          53.67317404787977,
          44.16968451374199,
          26.481039830374403,
          16.641463112483383,
          -5.28578724238807,
          -56.969897865390834,
          41.44826664517961,
          -53.996209976195985,
          -17.94244708915867,
          5.48038633196813,
          -52.32974771675868,
          0,
          -32.92786265316413,
          21.72900237272643,
          -13.123671887491446,
          43.0898045170044,
          -7.380080224120985,
          -53.45502767717747,
          -29.538782259558097,
          -55.95894877696032,
          -13.650419134756977,
          -4.628137537732347,
          3.369368635792581,
          -9.798243007457405,
          -10.016469322717642,
          24.82455476918335,
          -29.03474421095983,
          21.2347041342539,
          30.695519823651622,
          31.776628885945097,
          31.6654572443245,
          15.101098161385437,
          -16.40296798307723,
          45.502242788829484,
          -13.650419134756977,
          -14.523092131093053,
          -10.483102477017828,
          14.780364217435102,
          49.023523842741604,
          -13.251579275087124,
          49.659930503247416,
          -1.4268525831695587,
          27.388458790744952,
          31.6654572443245,
          38.1813177954995,
          -17.942447089158673,
          5.48038633196813,
          -52.32974771675873,
          54.93607119615005,
          24.642351313556297,
          27.82014446666337,
          70.3872452342557,
          24.14915752042904,
          52.32974771675873,
          27.388458790744952,
          42.197548480133214,
          -37.303948277983444,
          9.196655891628899,
          19.455602217961058,
          55.53918372862821,
          -31.6654572443245,
          -19.330546516050514,
          29.034744210959836,
          40.81034790369772,
          11.558251258084296,
          -4.273500455338617,
          -34.89330255069866,
          -3.705409306127955,
          -34.10021125850712,
          -8.834710662155677,
          21.234704134253892,
          26.734564823055056,
          24.386371101801387,
          -27.61302782308448,
          46.29216688624992,
          72.16747491520738,
          28.35496178532406,
          12.181681686652954,
          -10.994777349292129,
          58.298570330494265,
          9.1966558916289,
          35.14300734014127,
          25.9065079995144,
          17.942447089158676,
          -9.589235728739848,
          -6.715593152692915,
          -26.734564823055052,
          8.834710662155677,
          39.23380878189716,
          29.927372071758477,
          44.16968451374196,
          7.032253053117949,
          38.04459022145636,
          -45.21142258103931,
          -19.133643205905482,
          8.499974673793053,
          -20.94104797543842,
          -20.995516254246837,
          -3.3693686357925823,
          -30.236076190856487,
          15.512048727561293,
          -29.034744210959836,
          11.70813361653406,
          15.512048727561293,
          14.931417178137561,
          -13.251579275087124,
          17.942447089158716,
          11.44104386876742,
          20.307901967310777,
          -38.36282618129,
          -37.42928585974292,
          -52.32974771675876,
          23.352080562311883,
          -27.388458790744934,
          -14.523092131093053,
          -34.89330255069866,
          30.236076190856487,
          -26.734564823055052,
          -7.631615538405302,
          45.50224278882949,
          27.666361519835664,
          19.054749931511033,
          -26.481039830374392,
          21.234704134253892,
          -38.9909940425055,
          -30.695519823651622,
          15.101098161385437,
          43.0898045170044,
          11.26956628405723,
          -18.738427636487447,
          -6.8387887280617266,
          46.01824621163095,
          -29.304183490693806,
          -28.35496178532406,
          1.2366691951690205,
          -17.94244708915867,
          11.26956628405723,
          -40.260810726740374,
          60.68590592006639,
          -26.20597196512165,
          63.83464458416822,
          41.44826664517961,
          -46.29216688624992,
          -65.14476286706355,
          0,
          41.97045934438969,
          -17.942447089158676,
          -55.95894877696032,
          -50.734892745656694,
          32.927862653164134,
          55.807350807299194,
          -61.61138659056721,
          -25.220232588615524,
          -9.196655891628897,
          28.35496178532406,
          -24.642351313556304,
          32.927862653164134,
          38.55728393028016,
          46.93624732534404,
          50.527540151656154,
          42.53514708200878,
          53.99620997619598,
          22.676086257473138,
          43.28904320188769,
          28.509232659916986,
          -40.260810726740374,
          5.778119069126655,
          29.30418349069379,
          41.16273788267235,
          -13.650419134756985,
          36.50647784642547,
          -45.21142258103931,
          -62.76485330069748,
          -35.24095754208899,
          -35.73791185278378,
          -3.8328075150827248,
          25.9065079995144,
          9.196655891628891,
          -3.3693686357925823,
          -46.01824621163096,
          0,
          -54.52367984093483,
          3.705409306127955,
          -46.66132861881403,
          32.92786265316408,
          -25.906507999514385,
          -32.927862653164134,
          13.986850566788776,
          -45.21142258103931,
          1.5457014988888864,
          34.755912553541364,
          18.669504109061588,
          40.525713711440986,
          3.8328075150827248,
          22.603257476182893,
          57.24348605303576,
          16.94922423382145,
          50.09098836384004,
          -6.371168015831028,
          -38.36282618129,
          -12.18168168665296,
          41.2245341757102,
          23.352080562311883,
          -12.18168168665296,
          55.53918372862821,
          -13.251579275087124,
          22.603257476182886,
          -10.483102477017823,
          4.628137537732347,
          35.84225034751062,
          -1.2366691951690205,
          14.523092131093057,
          -48.2044690023223,
          -37.0730733173104,
          -5.104498685313563,
          31.45163262913673,
          -27.388458790744934,
          12.181681686652963,
          7.380080224120985,
          7.099184168725565,
          -10.483102477017828,
          -55.53918372862822,
          -38.99099404250545,
          -7.380080224120985,
          49.023523842741604,
          -1.686142077399159,
          -19.05474993151103,
          65.14476286706355,
          0,
          -28.35496178532406,
          -52.329747716758746,
          -32.92786265316411,
          -14.523092131093053,
          44.89487024731449,
          0,
          -13.251579275087124,
          -15.819193947500137,
          -17.94244708915866,
          26.734564823055074,
          -41.448266645179615,
          -39.49679443151138,
          -15.512048727561293,
          21.846196297767015,
          2.9658153093911825,
          -32.92786265316412,
          32.927862653164134,
          -21.234704134253903,
          6.715593152692915,
          23.352080562311883,
          0,
          -55.95894877696032,
          23.898504137359094,
          6.715593152692915,
          25.220232588615524,
          -62.76485330069745,
          -6.160456533590615,
          -19.45560221796105,
          -22.60325747618288,
          -47.1858008067756,
          5.689812716419987,
          -4.6281375377323455,
          37.42928585974291,
          31.9843572348941,
          -15.252688547419702,
          -40.09418545091686,
          9.671769697334895,
          -70.38724523425572,
          13.650419134756977,
          -52.32974771675875,
          -10.7842978675626,
          30.695519823651622,
          -23.35208056231187,
          14.523092131093053,
          65.1447628670635,
          -5.285787242388073,
          28.7220956638285,
          27.917780198254395,
          11.44104386876742,
          62.76485330069747,
          -34.89330255069866,
          -38.9909940425055,
          -38.9909940425055,
          23.35208056231187,
          -37.0730733173104,
          -62.76485330069743,
          10.198100845623392,
          35.34796551935351,
          -32.927862653164134,
          -71.69153172110528,
          35.46534772100298,
          -14.83875062540359,
          8.189511376946337,
          -41.31261241635549,
          -51.03325300620072,
          48.57633437499734,
          23.35208056231187,
          -30.871074989628912,
          20.99551625424683,
          41.2245341757102,
          46.46198789878024,
          41.31261241635549,
          -30.871074989628912,
          -21.234704134253892,
          6.715593152692915,
          32.927862653164134,
          0,
          -2.1816414035514655,
          47.18580080677562,
          8.49997467379305,
          -8.49997467379305,
          -50.09098836384004,
          -12.18168168665295,
          12.18168168665295,
          -58.298570330494265,
          -24.38637110180138,
          1.6128711537946898,
          -24.386371101801394,
          35.8973775117081,
          19.662167524950675,
          -59.92726561090238,
          28.35496178532406,
          -24.500268850262316,
          47.18580080677562,
          -44.169684513742,
          -58.29857033049426,
          -14.523092131093053,
          40.43532347398004,
          11.44104386876742,
          25.404007819133874,
          52.329747716758725,
          -8.664135433108067,
          8.499974673793053,
          41.44826664517961,
          12.18168168665295,
          -67.16292149866352,
          -13.251579275087124,
          36.07601155636859,
          54.52367984093482,
          -74.75746363613963,
          -54.7121713984186,
          38.99099404250549,
          -34.2824209358808,
          -25.906507999514385,
          54.36281591780597,
          44.169684513741984,
          32.92786265316414,
          65.7547397327976,
          -30.48721913046047,
          27.917780198254395,
          5.285787242388068,
          1.2792990249604372,
          -45.21142258103931,
          -6.160456533590611,
          -14.523092131093053,
          20.99551625424683,
          14.07351305038447,
          65.57471928825053,
          44.169684513742055,
          19.788140776701702,
          51.03325300620072,
          -44.16968451374196,
          12.18168168665296,
          -56.50481532625884,
          14.274440091701676,
          -22.03622694014543,
          -11.364200102718739,
          17.94244708915868,
          -9.798243007457405,
          -44.169684513742006,
          48.886775290419195,
          46.01824621163096,
          10.696510735778118,
          17.94244708915866,
          1.4268525831695587,
          -58.29857033049426,
          10.994777349292129,
          -10.277953356677108,
          21.2347041342539,
          -43.42621755126606,
          21.234704134253892,
          21.2347041342539,
          11.643431498761688,
          -61.12455660377191,
          -68.89194508075725,
          0,
          0,
          9.196655891628891,
          52.329747716758746,
          14.838750625403595,
          17.20936594392159,
          -30.090088121236768,
          -7.380080224120985,
          6.715593152692915,
          -50.40224729095014,
          13.650419134756977,
          27.666361519835664,
          2.648528937495261,
          -4.443768879358847,
          -39.96621304379997,
          -22.03622694014543,
          -24.824554769183358,
          21.592034282719982,
          55.206381410914325,
          44.169684513742006,
          -10.48310247701782,
          -45.502242788829506,
          25.510148955760236,
          61.1245566037719,
          8.189511376946337,
          32.92786265316413,
          53.5544641164968,
          -6.519801751656986,
          -14.523092131093053,
          -23.352080562311883,
          19.788140776701695,
          -21.51450262295755,
          47.62163869046318,
          -14.780364217435094,
          44.16968451374196,
          17.94244708915866,
          36.0760115563686,
          12.181681686652961,
          -58.29857033049428,
          -2.1816414035514655,
          -22.512842636493016,
          30.596009467062675,
          48.576334374997366,
          -23.352080562311883,
          -32.92786265316414,
          -18.82178616748157,
          23.352080562311876,
          17.942447089158676,
          37.07307331731042,
          -42.53514708200879,
          -21.234704134253892,
          27.61302782308448,
          -37.85231021361414,
          47.989520183832674,
          37.852310213614125,
          57.55126280327039,
          58.298570330494265,
          23.35208056231187,
          21.234704134253903,
          35.5946884990431,
          -13.650419134756985,
          35.38586810396579,
          38.1813177954995,
          -4.115776985986843,
          17.05428101145161,
          -61.12455660377191,
          26.20597196512165,
          -10.016469322717642,
          0,
          23.824260582895427,
          15.725812822360153,
          25.220232588615513,
          28.722095663828487,
          -25.220232588615506,
          17.139240533020804,
          -40.81034790369768,
          -23.352080562311883,
          -45.02479263346477,
          -40.26081072674038,
          47.98952018383269,
          -52.32974771675873,
          7.032253053117949,
          27.079670088195165,
          11.558251258084296,
          -9.196655891628891,
          -7.380080224120985,
          31.021040835634945,
          -7.032253053117949,
          -21.51450262295755,
          21.72900237272643,
          43.28904320188769,
          24.386371101801394,
          -12.18168168665296,
          -35.14300734014127,
          -31.150630557988567,
          -4.356975005846297,
          -53.81736101153215,
          47.98952018383269,
          -24.38637110180138,
          -59.015596341067784,
          -27.576869006475214,
          12.181681686652961,
          -7.380080224120985,
          37.85231021361413,
          23.352080562311897,
          43.28904320188769,
          32.92786265316411,
          -32.927862653164134,
          5.28578724238807,
          3.705409306127955,
          0,
          7.380080224120985,
          -9.7275785514016,
          -24.38637110180138,
          -2.4721872163439333,
          -74.31798454009592,
          1.6128711537946898,
          17.05428101145161,
          -19.45560221796105,
          -32.9278626531642,
          -47.62163869046318,
          0,
          -37.42928585974291,
          42.53514708200878,
          66.92776606063273,
          20.30790196731078,
          -14.83875062540359,
          -6.923448914810531,
          -3.5294183699567334,
          17.942447089158676,
          51.03325300620072,
          52.32974771675875,
          -30.236076190856487,
          -37.85231021361414,
          -36.35049406855038,
          -32.92786265316414,
          13.023079670604975,
          -8.249788977020701,
          36.86530221920059,
          30.695519823651633,
          -52.329747716758746,
          -66.19405648154228,
          -50.25823975061731,
          -10.016469322717642,
          39.49679443151137,
          -5.689812716419987,
          -47.18580080677562,
          -1.4839016584330798,
          2.851937567007021,
          23.35208056231187,
          23.352080562311897,
          -8.189511376946337,
          15.512048727561277,
          20.30790196731078,
          7.032253053117949,
          -22.39759795282484,
          -16.057442260839654,
          -21.464617106809328,
          -25.510148955760247,
          -48.886775290419195,
          -22.60325747618288,
          0,
          -29.744881296942243,
          -25.220232588615506,
          -26.734564823055052,
          0,
          -3.3693686357925823,
          19.45560221796105,
          -15.819193947500152,
          25.9065079995144,
          1.1967884362849743,
          1.3740268396097135,
          17.94244708915866,
          4.1157769859868445,
          -48.576334374997366,
          -11.26956628405723,
          2.648528937495261,
          6.426108013768544,
          31.9843572348941,
          16.641463112483383,
          33.88550433314374,
          -14.523092131093053,
          38.04459022145636,
          6.160456533590615,
          25.9065079995144,
          36.76902489880966,
          35.05301206344153,
          4.115776985986843,
          -42.19754848013322,
          -28.722095663828473,
          -36.076011556368606,
          3.705409306127955,
          17.94244708915868,
          67.61986494804042,
          -52.32974771675875,
          -25.220232588615506,
          41.44826664517961,
          -10.48310247701782,
          52.329747716758746,
          -12.18168168665296,
          28.35496178532406,
          -13.801353361031598,
          38.36282618129002,
          17.31834426391695,
          24.149157520429036,
          -6.160456533590615,
          10.483102477017828,
          -32.927862653164134,
          0,
          23.723365445283243,
          51.03325300620072,
          26.734564823055056,
          -42.19754848013323,
          -9.798243007457405,
          -25.906507999514385,
          8.189511376946337,
          16.40296798307723,
          -4.115776985986843,
          -6.715593152692915,
          66.19405648154235,
          -43.60281897270363,
          -38.99099404250545,
          16.40296798307723,
          -26.481039830374392,
          66.19405648154235,
          -19.330546516050514,
          14.931417178137561,
          -29.927372071758466,
          37.85231021361413,
          -52.329747716758746,
          0,
          24.25240266146789,
          36.50647784642547,
          -13.986850566788783,
          9.196655891628891,
          24.386371101801394,
          45.02479263346476,
          -49.37558357275064,
          49.023523842741604,
          15.675974454627386,
          -46.774581738375126,
          48.57633437499734,
          25.220232588615524,
          15.101098161385437,
          38.990994042505456,
          16.815983639511252,
          65.7547397327976,
          12.18168168665296,
          24.56717132060132,
          13.986850566788776,
          32.92786265316413,
          41.44826664517961,
          46.29216688624992,
          -8.664135433108067,
          29.927372071758477,
          -70.03281339419854,
          35.240957542089,
          -52.32974771675876,
          -26.584890435119284,
          27.388458790744934,
          -6.715593152692915,
          25.0666610660642,
          32.92786265316414,
          2.1816414035514655,
          -32.92786265316411,
          -36.07601155636857,
          -15.512048727561293,
          -19.788140776701688,
          -39.36262700162062,
          -1.2792990249604372,
          -40.260810726740374,
          -6.160456533590615,
          63.83464458416822,
          -4.443768879358847,
          40.26081072674037,
          -77.5604379811535,
          -90,
          32.92786265316413,
          25.32632481122052,
          -19.788140776701688,
          -5.5484662937180635,
          30.236076190856487,
          22.245668710529635,
          29.30418349069379,
          -9.196655891628891,
          -42.53514708200879,
          -7.380080224120985,
          59.53445508054011,
          9.798243007457405,
          22.03622694014543,
          -25.906507999514382,
          -1.4839016584330798,
          -35.05301206344154,
          43.662998325117165,
          -3.0891563753365396,
          -32.92786265316415,
          0,
          -14.523092131093053,
          30.487219130460485,
          43.0898045170044,
          39.49679443151137,
          -7.380080224120985,
          -22.39759795282484,
          4.356975005846297,
          0,
          48.576334374997366,
          4.115776985986843,
          20.307901967310777,
          -4.6281375377323455,
          -47.1858008067756,
          -40.810347903697696,
          47.1858008067756,
          10.198100845623392,
          -47.1858008067756,
          -32.92786265316415,
          0,
          -37.85231021361412,
          -28.011762257629094,
          -42.77407610488598,
          36.63311276739521,
          74.31798454009589,
          -10.322852684236434,
          -6.371168015831028,
          17.94244708915866,
          20.695450734063286,
          49.37558357275065,
          11.10308940324289,
          19.788140776701688,
          -25.627863837148162,
          42.77407610488597,
          -27.388458790744934,
          29.538782259558104,
          20.307901967310784,
          -16.057442260839654,
          38.1813177954995,
          54.22392228210536,
          32.92786265316413,
          22.949899259748793,
          19.455602217961058,
          0,
          31.825182637227744,
          -11.44104386876742,
          32.927862653164134,
          26.96897351666366,
          12.18168168665296,
          -17.94244708915867,
          -8.189511376946337,
          16.40296798307723,
          -40.810347903697725,
          -27.38845879074495,
          -7.380080224120985,
          18.738427636487454,
          24.25240266146789,
          -19.78814077670171,
          8.189511376946337,
          -37.42928585974292,
          -34.21570213243741,
          -41.80725498819573,
          37.42928585974291,
          -12.18168168665295,
          -30.23607619085647,
          -32.927862653164134,
          64.24098213999892,
          8.765687148326284,
          40.810347903697725,
          24.149157520429036,
          10.696510735778118,
          -56.84419599405823,
          -4.6281375377323455,
          -37.85231021361414,
          2.0605466502542913,
          9.53113215834637,
          -11.269566284057234,
          12.18168168665295,
          10.483102477017823,
          62.76485330069748,
          -34.63647019480071,
          8.834710662155677,
          -19.788140776701688,
          -10.277953356677108,
          21.2347041342539,
          -9.1966558916289,
          38.55728393028016,
          -5.48038633196813,
          -16.40296798307723,
          21.729002372726434,
          20.6954507340633,
          17.31834426391695,
          14.523092131093053,
          -4.6281375377323455,
          49.37558357275066,
          -59.92726561090235,
          13.251579275087124,
          38.99099404250549,
          49.37558357275066,
          27.388458790744934,
          -10.8622878937598,
          7.900789423839791,
          -21.729002372726416,
          24.824554769183347,
          54.52367984093482,
          -24.824554769183358,
          -26.877364027704044,
          -53.37052383113033,
          -4.115776985986843,
          12.181681686652961,
          47.75099042876568,
          -10.48310247701782,
          16.302779173364055,
          -4.628137537732349,
          22.036226940145447,
          0,
          -46.46198789878022,
          -53.996209976195985,
          -78.3663660010596,
          -32.92786265316412,
          -29.03474421095981,
          -50.8994636731489,
          27.82014446666337,
          31.72360295768404,
          -44.16968451374196,
          -35.14300734014127,
          -65.1447628670635,
          10.016469322717642,
          29.034744210959825,
          34.2824209358808,
          36.67733693648981,
          -60.234958331084336,
          8.319765692280523,
          -14.523092131093053,
          23.352080562311883,
          -17.942447089158676,
          3.0891563753365396,
          -15.10109816138543,
          68.89194508075727,
          60.68590592006639,
          29.74488129694223,
          -21.51450262295755,
          -62.76485330069747,
          56.504815326258814,
          0,
          -30.48721913046047,
          -27.079670088195172,
          -11.758949766738542,
          -10.8622878937598,
          -16.734995994930156,
          28.354961785324072,
          -12.18168168665295,
          -22.828775034651386,
          40.810347903697696,
          24.82455476918335,
          -26.968973516663645,
          19.455602217961058,
          22.245668710529635,
          -25.220232588615506,
          -29.808126632224937,
          53.45502767717747,
          19.45560221796105,
          -59.29428776941094,
          37.85231021361412,
          32.92786265316413,
          16.532225964861237,
          1.6128711537946898,
          35.240957542089,
          -30.871074989628937,
          17.942447089158673,
          3.705409306127955,
          15.512048727561293,
          5.28578724238807,
          -2.851937567007021,
          52.32974771675873,
          -6.715593152692915,
          56.12434608694927,
          -8.319765692280518,
          -10.129230310271025,
          -51.38628363780316,
          30.487219130460485,
          10.483102477017828,
          -2.1816414035514655,
          55.53918372862821,
          -48.2044690023223,
          17.139240533020804,
          19.662167524950675,
          -35.73791185278378,
          -46.01824621163095,
          -10.016469322717642,
          -63.83464458416822,
          15.512048727561293,
          -11.26956628405723,
          38.36282618129002,
          24.824554769183347,
          -50.52754015165616,
          -9.196655891628891,
          -16.40296798307723,
          22.397597952824846,
          14.931417178137561,
          42.43622978853501,
          10.016469322717642,
          0,
          52.32974771675875,
          -32.927862653164134,
          -8.373026674782395,
          24.642351313556297,
          29.74488129694223,
          -66.78446308651675,
          45.71840472604885,
          -32.927862653164134,
          -39.78256074028419,
          -12.635429180890833,
          52.32974771675873,
          30.87107498962892,
          10.994777349292136,
          6.160456533590615,
          14.838750625403595,
          -20.307901967310784,
          44.169684513741984,
          -8.49997467379305,
          4.356975005846297,
          26.58489043511928,
          -24.642351313556304,
          42.77407610488599,
          7.380080224120985,
          -14.523092131093053,
          14.523092131093058,
          5.285787242388073,
          40.810347903697725,
          23.352080562311883,
          -31.60141278091812,
          -1.6128711537946898,
          -1.8546438750328063,
          50.527540151656154,
          -4.628137537732347,
          -58.29857033049434,
          35.14300734014127,
          -25.906507999514385,
          -31.776628885945097,
          38.99099404250545,
          -37.42928585974291,
          25.906507999514385,
          47.75099042876568,
          22.03622694014543,
          -62.764853300697496,
          32.92786265316413,
          68.89194508075732,
          -8.664135433108067,
          -35.34796551935351,
          54.22392228210536,
          35.05301206344153,
          12.18168168665295,
          -2.0605466502542913,
          -53.81736101153215,
          41.37237000355929,
          -6.59673829789421,
          -26.734564823055052,
          -2.4721872163439333,
          -35.73791185278378,
          10.994777349292134,
          60.93108983891975,
          0,
          37.85231021361413,
          -12.771242564901438,
          -26.734564823055067,
          -10.69651073577811,
          60.68590592006639,
          7.380080224120985,
          59.015596341067784,
          -29.034744210959836,
          -24.386371101801394,
          35.46534772100298,
          47.18580080677562,
          61.1245566037719,
          46.774581738375126,
          -2.0605466502542913,
          25.404007819133874,
          25.9065079995144,
          -12.18168168665295,
          -32.92786265316413,
          -16.94922423382144,
          50.8994636731489,
          -55.53918372862822,
          31.363302213950067,
          29.034744210959825,
          -40.81034790369768,
          51.03325300620072,
          -26.968973516663645,
          3.3693686357925823,
          34.6364701948007,
          -42.53514708200879,
          40.810347903697696,
          34.00372741911257,
          -17.94244708915867,
          24.642351313556297,
          16.641463112483383,
          21.649504175182585,
          -57.551262803270404,
          -29.744881296942243,
          4.935203451166515,
          -4.6281375377323455,
          -12.181681686652933,
          34.755912553541364,
          -42.77407610488598,
          19.662167524950675,
          30.695519823651622,
          -44.16968451374199,
          48.576334374997366,
          -47.18580080677562,
          25.9065079995144,
          19.788140776701688,
          35.84225034751062,
          -11.150156592828939,
          26.96897351666366,
          -24.500268850262316,
          28.722095663828487,
          -19.662167524950682,
          0,
          40.094185450916854,
          53.45502767717747,
          19.22458032044628,
          -1.3740268396097135,
          -22.39759795282484,
          43.0898045170044,
          34.43898930880362,
          -20.695450734063282,
          -40.260810726740374,
          -9.196655891628891,
          34.35642890636523,
          45.02479263346476,
          -2.3925334550124098,
          17.94244708915867,
          19.788140776701702,
          58.29857033049429,
          -27.388458790744934,
          27.144142305646408,
          -28.606435096765008,
          -37.85231021361412,
          -39.49679443151138,
          -30.695519823651622,
          25.906507999514385,
          -12.588563410948135,
          25.90650799951436,
          -49.02352384274162,
          31.86980702811664,
          -15.10109816138543,
          -30.23607619085647,
          -30.786888492358944,
          -38.990994042505484,
          5.440332031005504,
          -21.649504175182585,
          53.45502767717747,
          37.42928585974291,
          27.917780198254395,
          -13.986850566788776,
          7.380080224120985,
          35.05301206344153,
          -30.090088121236768,
          -4.6281375377323455,
          -32.92786265316414,
          45.71840472604885,
          -44.169684513742006,
          58.8587911283291,
          0,
          9.589235728739848,
          -36.50647784642545,
          7.380080224120985,
          -27.66636151983567,
          32.92786265316415,
          32.92786265316413,
          -18.924644416051233,
          11.558251258084296,
          -25.579270527428488,
          -44.169684513742,
          15.512048727561293,
          35.5946884990431,
          50.96963990831817,
          25.220232588615513,
          -32.92786265316412,
          12.18168168665296,
          -14.136061798147061,
          -50.52754015165616,
          13.98685056678879,
          -17.94244708915866,
          -24.14915752042902,
          36.76902489880966,
          -25.906507999514385,
          21.2347041342539,
          -41.88268370243314,
          -22.73600488258145,
          -16.64146311248337,
          5.285787242388073,
          0,
          17.94244708915866,
          -22.036226940145443,
          -38.6598082540901,
          26.481039830374403,
          -35.46534772100297,
          -20.015959602882674,
          12.18168168665295,
          -26.481039830374392,
          -57.24348605303576,
          -10.69651073577811,
          13.650419134756987,
          17.942447089158676,
          1.3490538510929568,
          37.073073317310424,
          -16.641463112483375,
          27.75291785529662,
          -14.523092131093053,
          57.24348605303576,
          24.824554769183358,
          19.788140776701688,
          -22.39759795282484,
          -30.23607619085647,
          22.82877503465138,
          -36.50647784642544,
          12.18168168665295,
          -13.650419134756987,
          -25.90650799951436,
          22.397597952824853,
          32.927862653164134,
          74.75746363613962,
          -20.10492720437738,
          2.648528937495261,
          -25.220232588615524,
          35.737911852783796,
          11.364200102718744,
          -23.35208056231187,
          -11.558251258084296,
          19.788140776701688,
          -3.5861970865443724,
          -30.48721913046047,
          -26.968973516663645,
          -59.92726561090238,
          16.40296798307723,
          47.62163869046318,
          -46.01824621163096,
          -28.831736712839785,
          6.519801751656986,
          17.94244708915868,
          -4.628137537732347,
          -25.06666106606421,
          26.481039830374403,
          3.3693686357925823,
          17.20936594392159,
          2.0605466502542913,
          43.0898045170044,
          29.808126632224937,
          35.46534772100298,
          26.96897351666366,
          -59.29428776941096,
          71.69153172110528,
          33.961204937082925,
          11.558251258084296,
          -49.37558357275066,
          30.487219130460485,
          32.92786265316413,
          52.32974771675873,
          34.35642890636523,
          -4.115776985986843,
          61.1245566037719,
          35.737911852783796,
          -17.94244708915867,
          12.181681686652954,
          5.915821844805735,
          4.115776985986843,
          -65.1447628670635,
          -11.708133616534052,
          49.023523842741604,
          -20.307901967310784,
          50.8994636731489,
          43.28904320188769,
          0,
          4.115776985986843,
          16.40296798307723,
          -26.734564823055052,
          -43.42621755126606,
          47.18580080677562,
          53.67317404787977,
          -12.875001559612475,
          43.662998325117165,
          27.666361519835664,
          -29.679021404508436,
          -22.897263121546562,
          -27.66636151983567,
          0,
          0,
          -24.567171320601314,
          50.8994636731489,
          -30.871074989628912,
          -25.90650799951436,
          -27.079670088195172,
          -42.19754848013323,
          1.4268525831695587,
          40.4867114232607,
          -59.92726561090238,
          -6.426108013768544,
          -15.512048727561293,
          2.9658153093911825,
          -10.483102477017828,
          -22.03622694014543,
          59.92726561090238,
          1.2792990249604372,
          8.49997467379305,
          55.53918372862821,
          -19.106130839264683,
          16.815983639511252,
          8.49997467379305,
          7.380080224120985,
          -14.22031221979403,
          -28.606435096765008,
          31.45163262913673,
          0,
          -6.160456533590612,
          -65.57471928825053,
          -22.036226940145443,
          30.487219130460485,
          -45.502242788829506,
          -1.4268525831695587,
          3.0891563753365396,
          44.169684513742006,
          26.20597196512165,
          26.481039830374403,
          56.50481532625883,
          -18.738427636487447,
          0,
          21.72900237272643,
          -6.426108013768544,
          6.715593152692915,
          15.101098161385437,
          38.1813177954995,
          37.56199872856741,
          -67.16292149866358,
          -23.82426058289543,
          47.18580080677559,
          45.502242788829484,
          -15.675974454627394,
          -38.55728393028017,
          -32.92786265316415,
          -67.61986494804042,
          -7.380080224120985,
          -7.380080224120985,
          37.56199872856741,
          19.330546516050507,
          14.523092131093053,
          47.18580080677559,
          -4.356975005846297,
          38.55728393028018,
          44.169684513741984,
          -6.16045653359061,
          39.49679443151137,
          -6.923448914810531,
          -17.942447089158676,
          0,
          1.324972269376881,
          -24.824554769183358,
          -2.746475082326106,
          31.45163262913673,
          16.057442260839654,
          -22.03622694014543,
          40.094185450916854,
          26.96897351666366,
          -31.02104083563495,
          72.83808119713476,
          44.169684513742,
          -13.85880089063764,
          35.05301206344153,
          17.94244708915868,
          47.75099042876568,
          -10.994777349292129,
          30.695519823651633,
          -24.824554769183358,
          29.425402017865927,
          25.0666610660642,
          50.8994636731489,
          -25.220232588615524,
          0,
          31.776628885945097,
          30.487219130460485,
          -12.635429180890833,
          -15.10109816138543,
          30.948893813985862,
          15.512048727561277,
          5.285787242388073,
          16.057442260839654,
          0,
          -28.35496178532406,
          -29.21860624941389,
          13.251579275087133,
          42.19754848013322,
          16.64146311248337,
          32.92786265316415,
          9.196655891628897,
          -3.474407367531663,
          24.386371101801394,
          -41.88268370243314,
          -16.64146311248337,
          -23.8985041373591,
          20.307901967310777,
          -37.42928585974292,
          -43.289043201887694,
          -29.03474421095981,
          -17.94244708915866,
          -64.24098213999893,
          -29.538782259558097,
          -5.285787242388073,
          -15.252688547419702,
          -13.650419134756977,
          24.824554769183358,
          -16.532225964861233,
          -42.19754848013323,
          38.55728393028016,
          35.38586810396579,
          -17.361524083798745,
          -26.584890435119284,
          -15.819193947500137,
          -32.92786265316414,
          53.67317404787977,
          52.3297477167588,
          42.952071575348334,
          -2.4721872163439333,
          -24.38637110180138,
          3.0891563753365396,
          -26.877364027704044,
          -8.884677087365905,
          25.220232588615524,
          -12.18168168665296,
          41.882683702433134,
          56.504815326258814,
          14.523092131093058,
          -4.273500455338617,
          4.115776985986843,
          -12.588563410948135,
          40.81034790369764,
          20.30790196731078,
          59.92726561090238,
          16.40296798307724,
          -3.3693686357925823,
          68.89194508075727,
          47.18580080677559,
          -32.92786265316414,
          8.49997467379305,
          -15.675974454627394,
          56.50481532625878,
          -14.274440091701669,
          14.780364217435102,
          -31.910960453232004,
          37.85231021361413,
          40.43532347398004,
          72.83808119713474,
          20.99551625424683,
          -27.388458790744934,
          41.2245341757102,
          49.89437519877513,
          -66.1940564815423,
          -40.810347903697725,
          30.236076190856487,
          65.7547397327976,
          43.28904320188769,
          -1.9521830680865255,
          20.01595960288268,
          -14.931417178137558,
          -44.16968451374196,
          10.12923031027103,
          27.186342437494694,
          31.776628885945097,
          61.76044830907992,
          -31.150630557988567,
          46.661328618814025,
          -25.906507999514385,
          48.2044690023223,
          14.523092131093058,
          30.236076190856487,
          -2.9658153093911825,
          62.764853300697446,
          -59.92726561090232,
          -6.16045653359061,
          13.251579275087133,
          13.801353361031603,
          -35.5946884990431,
          29.808126632224937,
          10.483102477017828,
          -28.722095663828473,
          10.016469322717642,
          -22.73600488258145,
          46.01824621163096,
          2.119366469039076,
          41.547860799335815,
          25.627863837148162,
          -15.322579774365494,
          28.722095663828487,
          31.6654572443245,
          -55.30937924317019,
          22.036226940145458,
          -41.88268370243314,
          -52.329747716758746,
          10.994777349292129,
          21.846196297767015,
          -6.160456533590615,
          -22.036226940145454,
          -6.59673829789421,
          22.036226940145447,
          -6.160456533590615,
          -47.7509904287657,
          32.92786265316413,
          -53.67317404787977,
          -46.29216688624992,
          -22.60325747618288,
          -59.53445508054011,
          -61.1245566037719,
          -27.388458790744934,
          4.273500455338617,
          32.92786265316414,
          2.8519375670070226,
          -59.53445508054011,
          5.6898127164199845,
          -25.220232588615506,
          -25.906507999514393,
          35.8973775117081,
          29.808126632224937,
          26.734564823055074,
          -15.675974454627394,
          49.659930503247416,
          45.211422581039294,
          36.76902489880966,
          62.76485330069747,
          3.5294183699567334,
          49.149835290981954,
          -24.252402661467894,
          41.684303451621034,
          46.661328618814025,
          20.55289779157558,
          9.53113215834637,
          -9.89060494175803,
          -44.169684513742006,
          39.49679443151137,
          -30.090088121236768,
          -17.94244708915867,
          58.29857033049434,
          32.92786265316414,
          -32.927862653164134,
          14.274440091701676,
          12.18168168665296,
          7.900789423839791,
          17.94244708915866,
          -42.43622978853501,
          0,
          2.648528937495261,
          22.991616068159637,
          -36.50647784642545,
          38.99099404250548,
          -20.307901967310784,
          7.900789423839791,
          8.189511376946337,
          22.03622694014543,
          -40.810347903697696,
          -15.512048727561293,
          16.057442260839654,
          41.44826664517961,
          -76.63671391880358,
          -62.76485330069753,
          32.92786265316414,
          14.220312219794037,
          22.03622694014543,
          35.240957542089,
          17.94244708915866,
          37.073073317310424,
          -19.45560221796105,
          -37.073073317310424,
          19.330546516050507,
          41.31261241635549,
          -26.481039830374392,
          -16.40296798307723,
          -15.10109816138543,
          6.160456533590611,
          84.48760722089045,
          -49.37558357275066,
          -21.72900237272644,
          24.500268850262316,
          -41.68430345162103,
          59.92726561090233,
          -47.7509904287657,
          -28.831736712839785,
          38.1813177954995,
          -12.18168168665295,
          26.481039830374417,
          21.234704134253892,
          -20.695450734063282,
          -32.92786265316411,
          -25.579270527428488,
          -13.986850566788783,
          29.679021404508436,
          29.679021404508436,
          26.481039830374403,
          0,
          56.12434608694927,
          36.07601155636859,
          47.62163869046318,
          2.4721872163439333,
          8.189511376946337,
          26.20597196512165,
          -22.828775034651386,
          21.234704134253896,
          29.385905947912228,
          9.798243007457405,
          -48.57633437499732,
          -45.502242788829484,
          -1.4268525831695587,
          -67.61986494804042,
          34.89330255069864,
          -34.10021125850712,
          -27.388458790744934,
          52.32974771675873,
          19.45560221796105,
          -10.016469322717642,
          37.85231021361412,
          -34.2824209358808,
          78.3663660010596,
          -19.788140776701688,
          22.30141450466061,
          -46.01824621163096,
          43.28904320188769,
          -52.329747716758746,
          22.03622694014543,
          58.68832038598406,
          -12.181681686652952,
          -37.85231021361412,
          39.78256074028421,
          17.942447089158676,
          16.40296798307723,
          31.021040835634945,
          15.101098161385437,
          -11.708133616534052,
          35.5946884990431,
          29.679021404508436,
          -15.322579774365494,
          42.77407610488599,
          -37.42928585974292,
          -1.4268525831695587,
          19.934020408817528,
          2.4721872163439333,
          -38.36282618129,
          22.397597952824853,
          -13.85880089063764,
          -17.94244708915867,
          26.877364027704036,
          4.443768879358847,
          35.46534772100298,
          52.32974771675877,
          1.6128711537946898,
          27.388458790744945,
          20.69545073406328,
          20.99551625424683,
          45.50224278882952,
          25.90650799951436,
          2.1816414035514655,
          0,
          -26.734564823055074,
          7.099184168725565,
          -17.94244708915866,
          0,
          -7.380080224120985,
          -62.764853300697496,
          -17.94244708915867,
          20.307901967310784,
          28.35496178532406,
          23.352080562311883,
          13.251579275087124,
          -56.969897865390834,
          -3.0891563753365396,
          -27.66636151983567,
          -61.410380214122,
          -17.94244708915867,
          35.46534772100298,
          20.30790196731078,
          -54.93607119615005,
          -4.356975005846297,
          -17.942447089158666,
          -34.89330255069866,
          9.890604941758037,
          -24.000449953683397,
          -32.92786265316414,
          -11.269566284057234,
          -64.58699386342342,
          26.734564823055067,
          -5.285787242388073,
          43.42621755126606,
          0,
          12.492311649850672,
          -40.81034790369768,
          -32.927862653164134,
          -5.285787242388073,
          -5.285787242388068,
          -34.75591255354138,
          -16.057442260839654,
          -31.60141278091812,
          -9.589235728739848,
          -9.196655891628891,
          2.3178496429030178,
          -47.1858008067756,
          31.150630557988556,
          -55.5391837286282,
          3.705409306127955,
          8.664135433108067,
          6.715593152692915,
          33.88550433314374,
          -4.935203451166515,
          21.234704134253892,
          -20.552897791575575,
          -80.26462610449508,
          -37.42928585974292,
          -50.09098836384004,
          24.386371101801394,
          -13.251579275087124,
          -4.273500455338617,
          -66.61861605632949,
          22.397597952824853,
          45.71840472604885,
          20.6954507340633,
          -53.67317404787977,
          58.298570330494265,
          41.547860799335815,
          0,
          17.942447089158673,
          -19.45560221796105,
          -7.763884405677521,
          -16.40296798307723,
          -24.14915752042902,
          -39.36262700162062,
          13.251579275087124,
          70.6622002027522,
          19.45560221796105,
          53.81736101153215,
          -49.02352384274162,
          -27.75291785529663,
          44.16968451374196,
          -19.78814077670171,
          -12.181681686652952,
          43.0898045170044,
          46.01824621163095,
          21.649504175182585,
          -16.40296798307723,
          3.474407367531663,
          -6.160456533590611,
          10.862287893759808,
          49.023523842741604,
          35.954628425603254,
          70.3872452342557,
          -3.223190216249565,
          24.82455476918335,
          23.723365445283243,
          61.87539543870606,
          -31.530524169111693,
          -21.592034282719972,
          7.380080224120985,
          -5.48038633196813,
          -40.36453657309737,
          49.89437519877513,
          0,
          2.3178496429030178,
          37.85231021361413,
          -52.32974771675875,
          -4.6281375377323455,
          0,
          8.834710662155677,
          -13.123671887491446,
          -6.160456533590615,
          -34.04989926367243,
          45.02479263346476,
          -11.26956628405723,
          0,
          -30.487219130460485,
          -38.18131779549951,
          -6.160456533590611,
          29.385905947912228,
          -54.93607119615005,
          -6.715593152692915,
          10.696510735778118,
          29.927372071758477,
          -54.7121713984186,
          -2.851937567007021,
          -38.18131779549951,
          -60.365082096815655,
          -32.92786265316408,
          -70.6622002027522,
          -10.8622878937598,
          -14.136061798147061,
          -38.36282618129,
          20.854458039578358,
          0,
          52.32974771675877,
          -44.169684513742006,
          54.22392228210536,
          44.169684513742055,
          0,
          -14.523092131093053,
          -47.1858008067756,
          -20.307901967310784,
          32.927862653164134,
          40.81034790369772,
          -23.352080562311883,
          47.18580080677559,
          62.764853300697446,
          -9.1966558916289,
          43.28904320188769,
          -3.0891563753365396,
          44.169684513742,
          -5.6898127164199845,
          -10.994777349292129,
          -77.5604379811535,
          -37.073073317310424,
          -25.220232588615524,
          29.034744210959836,
          27.388458790744945,
          0,
          -23.35208056231189,
          -43.08980451700442,
          45.50224278882952,
          32.92786265316414,
          -38.55728393028017,
          -49.659930503247416,
          22.397597952824853,
          -46.46198789878022,
          -4.935203451166515,
          70.03281339419854,
          -45.502242788829506,
          52.32974771675876,
          -8.189511376946337,
          -7.380080224120985,
          -25.906507999514385,
          -8.49997467379305,
          -13.123671887491446,
          -30.48721913046047,
          -14.523092131093053,
          -13.650419134756985,
          -17.94244708915867,
          -11.26956628405723,
          -49.659930503247416,
          -36.76902489880967,
          32.927862653164134,
          14.13606179814707,
          7.631615538405302,
          57.72003299811191,
          -12.181681686652956,
          5.5484662937180635,
          22.73600488258146,
          17.942447089158676,
          44.169684513742,
          0,
          -32.9278626531642,
          55.95894877696031,
          -32.92786265316415,
          12.18168168665296,
          4.6281375377323455,
          31.72360295768404,
          26.734564823055067,
          42.53514708200878,
          29.034744210959825,
          -2.9658153093911825,
          16.057442260839668,
          -10.016469322717642,
          -12.181681686652952,
          -6.59673829789421,
          46.01824621163095,
          14.931417178137561,
          -2.55732376012029,
          -32.927862653164134,
          13.358066183428177,
          -46.01824621163096,
          -3.223190216249565,
          -30.695519823651622,
          -29.83881696980424,
          -26.734564823055074,
          19.662167524950675,
          -56.504815326258814,
          10.994777349292129,
          -32.92786265316414,
          -37.073073317310424,
          -60.365082096815655,
          -10.016469322717642,
          57.72003299811191,
          -41.31261241635549,
          44.169684513741984,
          -35.73791185278378,
          -41.88268370243314,
          -61.410380214122,
          7.763884405677521,
          25.32632481122052,
          -2.4721872163439333,
          37.243856086421374,
          -23.35208056231187,
          -13.576160135881397,
          17.942447089158676,
          46.01824621163095,
          23.687526336720797,
          -27.079670088195172,
          56.50481532625883,
          -24.14915752042902,
          2.0605466502542913,
          32.92786265316415,
          -50.25823975061731,
          -26.26283906417685,
          24.824554769183347,
          -19.60541484125716,
          3.0891563753365383,
          32.92786265316413,
          10.016469322717642,
          53.81736101153215,
          -59.92726561090232,
          22.397597952824853,
          7.144513550796593,
          38.36282618129002,
          -14.780364217435094,
          14.220312219794037,
          37.42928585974291,
          35.240957542089,
          13.858800890637648,
          -30.090088121236768,
          -8.013816501473892,
          18.44982955486508,
          17.26823023887338,
          16.64146311248337,
          -21.592034282719972,
          10.198100845623392,
          -47.7509904287657,
          -6.923448914810531,
          -3.0891563753365396,
          20.104927204377372,
          40.26081072674037,
          47.62163869046318,
          38.99099404250549,
          -21.234704134253892,
          -21.729002372726416,
          -71.06099573975993,
          17.361524083798738,
          43.42621755126606,
          27.666361519835664,
          -67.16292149866352,
          5.6898127164199845,
          -3.8998440419746827,
          -81.22218261386281,
          -22.036226940145454,
          59.015596341067784,
          -10.7842978675626,
          -32.927862653164134,
          -26.481039830374392,
          2.0605466502542913,
          -15.512048727561277,
          -34.89330255069866,
          -50.734892745656694,
          -53.37052383113033,
          -50.8994636731489,
          0,
          -17.94244708915868,
          35.737911852783796,
          14.07351305038447,
          -3.0891563753365396,
          35.737911852783796,
          20.69545073406328,
          22.036226940145447,
          -30.695519823651622,
          -8.884677087365905,
          29.21860624941389,
          -4.6281375377323455,
          30.236076190856487,
          35.46534772100298,
          42.77407610488597,
          -38.55728393028017,
          27.917780198254395,
          0,
          30.871074989628937,
          22.397597952824853,
          17.942447089158673,
          37.85231021361412,
          9.196655891628891,
          36.86530221920059,
          -26.34636605765503,
          9.589235728739848,
          -47.7509904287657,
          62.76485330069747,
          -4.443768879358847,
          55.206381410914325,
          5.285787242388073,
          35.46534772100298,
          26.16475762224623,
          36.86530221920059,
          61.1245566037719,
          23.352080562311883,
          42.19754848013322,
          -49.659930503247416,
          -5.285787242388068,
          -32.92786265316413,
          15.101098161385437,
          -20.307901967310777,
          -30.695519823651622,
          -60.365082096815655,
          -1.4268525831695587,
          13.251579275087124,
          -5.28578724238807,
          -35.73791185278378,
          0,
          -4.115776985986843,
          44.16968451374198,
          31.150630557988556,
          -3.705409306127955,
          -17.94244708915866,
          -13.650419134756977,
          41.16273788267235,
          26.734564823055067,
          1.6128711537946898,
          20.307901967310777,
          -8.013816501473892,
          -23.352080562311883,
          -3.705409306127955,
          -32.92786265316408,
          -17.26823023887337,
          47.18580080677562,
          -15.322579774365494,
          42.53514708200878,
          -5.5484662937180635,
          -38.04459022145636,
          -29.927372071758484,
          -67.16292149866358,
          56.504815326258814,
          46.661328618814025,
          17.94244708915866,
          -22.39759795282484,
          6.16045653359061,
          60.365082096815655,
          45.02479263346476,
          -7.380080224120985,
          55.807350807299194,
          17.94244708915868,
          -16.188646460058557,
          30.487219130460485,
          37.07307331731042,
          35.34796551935351,
          7.683981829733958,
          51.1441571843773,
          -9.196655891628897,
          -29.21860624941389,
          5.28578724238807,
          30.695519823651633,
          30.236076190856487,
          50.73489274565668,
          81.22218261386283,
          -3.9692634567194975,
          65.57471928825053,
          -58.29857033049426,
          -17.942447089158676,
          -10.483102477017823,
          -36.67733693648981,
          14.523092131093058,
          -38.99099404250545,
          -29.538782259558072,
          -56.504815326258814,
          26.16475762224623,
          27.144142305646408,
          49.37558357275065,
          -38.36282618129,
          7.380080224120985,
          57.55126280327039,
          -10.016469322717642,
          -7.763884405677521,
          -37.243856086421374,
          60.68590592006639,
          15.512048727561293,
          21.234704134253892,
          -12.18168168665296,
          29.808126632224937,
          -45.502242788829484,
          59.53445508054011,
          -10.016469322717642,
          -16.64146311248337,
          31.263731694377434,
          32.92786265316414,
          -72.83808119713468,
          28.354961785324072,
          -37.42928585974292,
          32.92786265316414,
          40.26081072674037,
          55.53918372862821,
          2.4721872163439333,
          29.034744210959825,
          31.776628885945097,
          19.934020408817528,
          -65.14476286706355,
          23.352080562311883,
          -42.77407610488597,
          -19.22458032044626,
          17.942447089158673,
          29.034744210959825,
          17.942447089158673,
          19.605414841257172,
          -39.78256074028419,
          -54.93607119615004,
          -54.22392228210538,
          23.898504137359094,
          -62.76485330069743,
          59.015596341067784,
          5.6898127164199845,
          4.356975005846297,
          11.70813361653406,
          -32.927862653164134,
          -25.906507999514385,
          -45.21142258103931,
          44.89487024731449,
          20.854458039578358,
          3.705409306127955,
          -7.380080224120985,
          -29.538782259558097,
          75.56793706386406,
          30.367788104524962,
          -37.42928585974292,
          29.385905947912228,
          -23.82426058289543,
          22.397597952824853,
          12.18168168665295,
          31.45163262913673,
          7.900789423839791,
          -18.924644416051233,
          4.115776985986843,
          0,
          -16.40296798307723,
          -30.695519823651622,
          -4.1157769859868445,
          -38.36282618129,
          3.369368635792581,
          -12.181681686652956,
          39.60820645285758,
          -3.705409306127955,
          -45.502242788829506,
          -10.483102477017823,
          -12.875001559612475,
          36.76902489880966,
          3.3693686357925823,
          40.81034790369772,
          51.1441571843773,
          29.927372071758477,
          -23.352080562311883,
          -20.552897791575575,
          49.023523842741604,
          38.990994042505484,
          16.40296798307724,
          7.380080224120985,
          -37.073073317310424,
          38.990994042505456,
          39.96621304379997,
          36.67733693648981,
          0,
          -64.00539199771832,
          1.6128711537946898,
          -27.917780198254384,
          34.15524631294035,
          30.871074989628937,
          -17.94244708915866,
          19.788140776701702,
          29.927372071758477,
          40.810347903697696,
          24.56717132060132,
          0,
          31.021040835634945,
          76.122470196792,
          67.16292149866354,
          13.358066183428177,
          -11.26956628405723,
          -12.181681686652956,
          2.851937567007021,
          -9.196655891628891,
          -6.715593152692915,
          -16.40296798307723,
          48.576334374997366,
          -30.786888492358944,
          15.101098161385437,
          -17.94244708915867,
          45.50224278882952,
          13.12367188749145,
          -32.927862653164134,
          -10.994777349292129,
          -20.695450734063286,
          -71.99182748898198,
          -3.705409306127955,
          42.53514708200878,
          19.455602217961058,
          21.234704134253892,
          -13.251579275087124,
          56.504815326258814,
          6.16045653359061,
          60.365082096815655,
          19.934020408817528,
          34.89330255069864,
          -20.854458039578347,
          46.661328618814025,
          32.92786265316414,
          64.58699386342342,
          35.737911852783796,
          16.64146311248337,
          16.40296798307723,
          -28.722095663828473,
          -11.364200102718739,
          -9.196655891628891,
          20.94104797543841,
          -36.76902489880967,
          0,
          -38.990994042505484,
          -12.635429180890833,
          -11.364200102718739,
          9.1966558916289,
          4.232949092710534,
          17.361524083798738,
          -32.92786265316414,
          46.774581738375126,
          20.487014193330708,
          30.236076190856487,
          50.25823975061727,
          39.49679443151137,
          -13.650419134756977,
          0,
          37.85231021361413,
          -13.123671887491446,
          28.722095663828487,
          -38.18131779549951,
          -26.877364027704044,
          3.5861970865443724,
          23.352080562311897,
          52.32974771675875,
          -21.234704134253892,
          -13.251579275087124,
          41.2245341757102,
          10.994777349292129,
          32.92786265316415,
          -60.234958331084336,
          -45.211422581039294,
          32.92786265316413,
          -43.42621755126606,
          -6.715593152692915,
          -46.29216688624992,
          14.523092131093058,
          -54.52367984093482,
          3.9692634567194975,
          -59.015596341067784,
          -24.824554769183333,
          55.53918372862824,
          -44.16968451374199,
          40.810347903697696,
          15.512048727561277,
          -22.9498992597488,
          -32.92786265316414,
          -13.35806618342817,
          3.5294183699567334,
          29.21860624941389,
          -44.799219179739104,
          36.20752606901325,
          57.55126280327039,
          -11.643431498761677,
          -5.046794290775168,
          18.738427636487454,
          4.115776985986843,
          -80.76795348557815,
          21.592034282719982,
          32.9278626531642,
          42.197548480133214,
          12.875001559612475,
          -13.650419134756977,
          32.92786265316408,
          10.016469322717642,
          -38.9909940425055,
          0,
          -15.512048727561277,
          -65.14476286706355,
          2.9658153093911825,
          -1.5457014988888864,
          -40.09418545091686,
          38.99099404250549,
          -19.05474993151103,
          38.55728393028016,
          57.24348605303576,
          -74.31798454009592,
          -20.695450734063282,
          -13.123671887491446,
          41.44826664517961,
          -4.628137537732347,
          12.181681686652961,
          -49.37558357275066,
          36.3882027268435,
          0,
          4.935203451166515,
          6.16045653359061,
          -15.512048727561293,
          -8.593016541030492,
          20.104927204377372,
          1.6128711537946898,
          35.05301206344153,
          60.234958331084336,
          -17.942447089158676,
          -22.39759795282484,
          49.37558357275066,
          -59.92726561090232,
          32.92786265316413,
          -32.92786265316411,
          0,
          19.05474993151104,
          18.924644416051244,
          -16.40296798307723,
          -74.31798454009592,
          30.487219130460485,
          -32.92786265316413,
          -37.42928585974292,
          40.810347903697696,
          55.206381410914325,
          -13.85880089063764,
          40.094185450916854,
          21.846196297767015,
          -45.02479263346477,
          50.73489274565668,
          -9.798243007457405,
          -28.07248693585297,
          -20.307901967310784,
          11.269566284057243,
          -29.538782259558072,
          -53.67317404787977,
          24.386371101801387,
          -14.931417178137552,
          44.169684513742055,
          -64.00539199771832,
          7.380080224120985,
          25.627863837148162,
          10.016469322717642,
          35.46534772100298,
          53.45502767717747,
          61.76044830907992,
          -7.900789423839791,
          -40.81034790369771,
          22.397597952824853,
          -48.57633437499732,
          21.234704134253892,
          10.016469322717642,
          -13.123671887491446,
          -6.715593152692915,
          -43.289043201887694,
          16.057442260839654,
          -6.426108013768544,
          67.16292149866354,
          47.18580080677562,
          -62.764853300697496,
          -49.89437519877513,
          40.81034790369772,
          -12.18168168665296,
          -2.1816414035514655,
          -20.01595960288268,
          -37.073073317310396,
          17.942447089158673,
          -27.388458790744934,
          -18.738427636487447,
          -17.139240533020793,
          -24.824554769183358,
          -30.948893813985862,
          44.16968451374198,
          10.483102477017823,
          -13.251579275087124,
          35.14300734014127,
          48.57633437499734,
          -13.023079670604975,
          30.236076190856487,
          -24.14915752042902,
          -3.8998440419746827,
          27.666361519835664,
          20.307901967310777,
          -9.89060494175803,
          -38.0950231023439,
          -42.43622978853501,
          27.388458790744952,
          -50.734892745656694,
          10.016469322717642,
          43.0898045170044,
          -8.013816501473892,
          -32.927862653164134,
          -52.3297477167588,
          22.397597952824853,
          36.506477846425426,
          -53.5544641164968,
          -39.49679443151138,
          -13.986850566788776,
          -4.273500455338617,
          -37.85231021361414,
          -36.76902489880967,
          -27.079670088195172,
          61.76044830907992,
          41.31261241635549,
          40.810347903697696,
          -24.38637110180138,
          -7.380080224120985,
          45.02479263346476,
          11.26956628405723,
          7.380080224120985,
          45.50224278882952,
          37.07307331731042,
          -25.220232588615506,
          -10.129230310271025,
          -14.523092131093053,
          60.68590592006639,
          22.03622694014543,
          6.160456533590615,
          -19.22458032044626,
          -39.78256074028419,
          -19.22458032044626,
          -28.831736712839785,
          61.61138659056721,
          32.927862653164134,
          27.917780198254395,
          35.46534772100298,
          -12.588563410948135,
          21.514502622957547,
          54.22392228210536,
          -51.237584800597276,
          -17.942447089158673,
          17.94244708915867,
          6.160456533590611,
          -48.57633437499735,
          8.373026674782395,
          62.76485330069748,
          65.14476286706355,
          0,
          34.531675134913435,
          0,
          -35.73791185278378,
          47.54046740461034,
          9.196655891628897,
          -26.34636605765503,
          -2.0605466502542913,
          44.89487024731449,
          22.603257476182893,
          36.07601155636859,
          25.906507999514385,
          28.722095663828487,
          53.5544641164968,
          -32.92786265316415,
          -17.94244708915867,
          -26.734564823055052,
          13.12367188749145,
          71.06099573975999,
          -27.917780198254384,
          -24.386371101801394,
          12.771242564901446,
          -54.7121713984186,
          4.115776985986843,
          5.285787242388068,
          -19.60541484125716,
          11.758949766738548,
          -28.35496178532406,
          -43.08980451700442,
          -32.92786265316415,
          25.220232588615524,
          -32.92786265316408,
          -22.73600488258145,
          -5.5484662937180635,
          7.380080224120985,
          20.307901967310777,
          -12.181681686652954,
          37.073073317310424,
          -15.725812822360147,
          0,
          18.519580636575014,
          -15.101098161385437,
          -14.22031221979403,
          -7.099184168725565,
          10.7842978675626,
          11.558251258084296,
          -28.722095663828473,
          -32.92786265316415,
          -24.252402661467894,
          4.6281375377323455,
          -11.643431498761677,
          -2.4721872163439333,
          -41.448266645179615,
          73.61045966596521,
          -37.073073317310424,
          -34.89330255069866,
          -59.92726561090238,
          71.69153172110528,
          -34.75591255354138,
          6.160456533590611,
          -47.18580080677554,
          -71.06099573975999,
          7.380080224120985,
          42.53514708200878,
          -59.92726561090235,
          14.523092131093053,
          36.50647784642547,
          -24.000449953683397,
          15.512048727561277,
          -7.380080224120985,
          1.2792990249604372,
          23.76777858981732,
          22.183676862510776,
          37.85231021361412,
          -32.92786265316412,
          -48.2044690023223,
          33.85166597420545,
          -25.220232588615524,
          32.92786265316414,
          0,
          34.43898930880362,
          -28.509232659916986,
          -1.6128711537946898,
          4.115776985986843,
          -22.03622694014543,
          25.90650799951436,
          -32.92786265316411,
          30.786888492358944,
          0,
          -55.206381410914325,
          -5.6898127164199845,
          -6.923448914810531,
          42.77407610488599,
          -32.9278626531642,
          -9.196655891628897,
          36.50647784642544,
          28.722095663828487,
          38.1813177954995,
          9.890604941758037,
          42.623387225760254,
          63.60371351751467,
          19.45560221796105,
          -24.998967260202665,
          -2.55732376012029,
          -9.196655891628899,
          60.93108983891975,
          -8.319765692280518,
          -19.22458032044626,
          -6.8387887280617266,
          15.101098161385437,
          8.063246165697256,
          -28.35496178532406,
          15.101098161385437,
          -24.500268850262316,
          -42.19754848013323,
          -14.83875062540359,
          9.196655891628899,
          61.410380214122,
          18.82178616748158,
          11.643431498761688,
          -2.648528937495261,
          -35.46534772100298,
          12.181681686652933,
          30.695519823651633,
          27.666361519835664,
          -37.85231021361412,
          16.40296798307723,
          -36.07601155636857,
          62.76485330069753,
          16.05744226083966,
          13.986850566788776,
          20.6954507340633,
          -30.23607619085647,
          -32.92786265316413,
          -18.738427636487447,
          12.635429180890839,
          21.72900237272643,
          -35.73791185278378,
          -17.942447089158676,
          32.927862653164134,
          26.58489043511928,
          0,
          28.7220956638285,
          31.263731694377434,
          -67.88579375972722,
          16.057442260839654,
          -17.94244708915866,
          53.5544641164968,
          8.373026674782395,
          6.519801751656986,
          -17.94244708915867,
          -5.285787242388073,
          0,
          -20.695450734063282,
          -3.3693686357925823,
          31.021040835634945,
          -8.013816501473892,
          -27.917780198254384,
          -71.06099573975999,
          -32.927862653164134,
          -37.0730733173104,
          19.22458032044628,
          -48.2044690023223,
          17.942447089158673,
          10.12923031027103,
          23.352080562311897,
          -4.935203451166515,
          59.92726561090235,
          62.76485330069747,
          21.234704134253892,
          68.89194508075727,
          -4.628137537732347,
          23.352080562311897,
          53.99620997619598,
          -22.39759795282484,
          -38.36282618129,
          16.64146311248337,
          30.236076190856487,
          -29.679021404508436,
          -23.35208056231187,
          21.234704134253892,
          26.34636605765502,
          -43.60281897270363,
          -17.942447089158676,
          23.352080562311883,
          -3.3693686357925823,
          -14.83875062540359,
          -35.5946884990431,
          32.92786265316413,
          59.92726561090238,
          -7.380080224120985,
          46.46198789878024,
          -15.512048727561293,
          -17.139240533020793,
          13.023079670604975,
          36.20752606901325,
          40.81034790369771,
          -35.73791185278378,
          -39.49679443151138,
          1.4268525831695587,
          -59.53445508054011,
          -2.4721872163439333,
          -18.519580636575018,
          -31.26373169437744,
          68.18245085787422,
          -22.03622694014543,
          -37.56199872856741,
          26.34636605765502,
          -62.76485330069748,
          -42.1975484801332,
          15.101098161385437,
          -1.4839016584330798,
          -37.42928585974292,
          -19.224580320446286,
          -74.31798454009586,
          -27.388458790744934,
          -53.45502767717747,
          45.806929455102384,
          -59.29428776941096,
          -36.86530221920059,
          -41.31261241635549,
          -23.352080562311894,
          50.527540151656154,
          -32.927862653164134,
          -36.35049406855038,
          -64.00539199771832,
          -35.737911852783796,
          44.16968451374198,
          25.9065079995144,
          0,
          -44.16968451374196,
          43.0898045170044,
          -49.89437519877513,
          -40.4867114232607,
          25.627863837148162,
          38.99099404250549,
          42.197548480133214,
          42.197548480133214,
          -15.101098161385437,
          -37.0730733173104,
          52.329747716758746,
          -32.927862653164134,
          -43.42621755126606,
          -26.734564823055052,
          34.35642890636523,
          -43.42621755126606,
          4.6281375377323455,
          29.30418349069379,
          -41.68430345162103,
          28.146320076634098,
          -12.694496308668345,
          -27.917780198254384,
          36.506477846425426,
          -32.92786265316415,
          13.02307967060498,
          -43.289043201887694,
          -17.26823023887337,
          -19.330546516050514,
          -10.198100845623392,
          44.169684513741984,
          21.46461710680932,
          -17.94244708915866,
          3.0891563753365396,
          26.481039830374403,
          -24.567171320601314,
          37.07307331731042,
          -37.42928585974292,
          -17.942447089158676,
          0,
          21.592034282719982,
          6.16045653359061,
          -37.0730733173104,
          -52.32974771675876,
          38.990994042505456,
          -65.1447628670635,
          17.94244708915867,
          2.0605466502542913,
          -8.834710662155677,
          -9.1966558916289,
          17.05428101145161,
          -48.814074834290366,
          -12.18168168665295,
          -6.16045653359061,
          49.89437519877513,
          29.034744210959825,
          9.79824300745741,
          55.53918372862821,
          54.52367984093482,
          31.6654572443245,
          -53.67317404787977,
          -53.996209976195985,
          44.16968451374198,
          -68.8919450807573,
          -76.63671391880358,
          -42.19754848013323,
          47.18580080677559,
          -51.1441571843773,
          25.124957815281828,
          -21.898669246121223,
          28.606435096764997,
          5.285787242388073,
          -6.160456533590615,
          -47.18580080677554,
          28.072486935852965,
          -10.198100845623392,
          38.47785974054819,
          -71.69153172110528,
          21.234704134253892,
          1.686142077399159,
          -24.38637110180138,
          53.5544641164968,
          27.079670088195165,
          -8.49997467379305,
          7.032253053117949,
          -25.906507999514393,
          37.63132689865813,
          24.82455476918335,
          -45.21142258103931,
          37.07307331731042,
          -1.6128711537946898,
          29.034744210959836,
          52.32974771675875,
          -8.189511376946337,
          -13.650419134756985,
          -62.76485330069745,
          -1.6128711537946898,
          14.523092131093053,
          30.871074989628937,
          45.50224278882952,
          11.44104386876742,
          -37.303948277983444,
          -22.03622694014543,
          28.354961785324072,
          -52.329747716758774,
          -2.648528937495261,
          -55.95894877696032,
          6.160456533590615,
          37.07307331731042,
          35.8973775117081,
          -31.910960453232004,
          27.186342437494694,
          -23.352080562311876,
          -58.298570330494265,
          35.05301206344153,
          -41.68430345162103,
          -34.893302550698664,
          43.0898045170044,
          47.62163869046318,
          -23.352080562311883,
          29.74488129694223,
          25.124957815281828,
          -20.94104797543842,
          -12.181681686652933,
          46.46198789878021,
          17.94244708915866,
          25.906507999514385,
          -66.19405648154228,
          31.53052416911168,
          36.07601155636859,
          -2.648528937495261,
          -19.788140776701688,
          -3.5861970865443724,
          25.90650799951436,
          9.196655891628897,
          65.7547397327976,
          -52.32974771675872,
          -23.352080562311894,
          -26.481039830374392,
          45.02479263346476,
          0,
          -30.23607619085647,
          -35.46534772100297,
          -62.764853300697496,
          -61.410380214122,
          -47.98952018383268,
          43.28904320188769,
          -61.61138659056721,
          9.1966558916289,
          -24.14915752042902,
          -44.169684513742055,
          -61.12455660377191,
          38.990994042505456,
          24.642351313556297,
          -19.45560221796105,
          -21.234704134253892,
          35.984088976350904,
          44.16968451374198,
          -6.371168015831028,
          37.85231021361413,
          -12.694496308668345,
          3.8998440419746827,
          22.603257476182893,
          -4.356975005846297,
          20.307901967310784,
          -56.50481532625884,
          13.650419134756977,
          -22.73600488258145,
          48.576334374997366,
          24.386371101801394,
          -4.6281375377323455,
          20.6954507340633,
          -65.57471928825055,
          0,
          -4.6281375377323455,
          -5.285787242388068,
          -28.35496178532406,
          -17.94244708915867,
          10.994777349292129,
          -10.198100845623392,
          -50.734892745656694,
          24.386371101801394,
          -15.512048727561293,
          -21.234704134253906,
          -13.986850566788783,
          -21.846196297767026,
          -19.934020408817535,
          15.512048727561277,
          25.220232588615524,
          4.628137537732349,
          -29.927372071758466,
          15.512048727561293,
          3.705409306127955,
          -9.589235728739848,
          28.354961785324072,
          -26.734564823055052,
          -14.83875062540359,
          27.388458790744952,
          25.220232588615524,
          -44.169684513742,
          -27.82014446666337,
          -13.251579275087124,
          47.75099042876568,
          -37.073073317310424,
          16.641463112483383,
          -43.52641858177431,
          55.206381410914325,
          -19.330546516050514,
          -47.1858008067756,
          50.09098836384004,
          -32.927862653164134,
          18.519580636575014,
          5.915821844805735,
          45.02479263346476,
          -22.39759795282484,
          -27.388458790744934,
          10.016469322717642,
          42.43622978853501,
          -3.3693686357925823,
          -1.7663848463315017,
          67.61986494804042,
          -20.307901967310784,
          2.648528937495261,
          7.631615538405302,
          -55.95894877696032,
          61.1245566037719,
          -26.584890435119284,
          28.354961785324072,
          -19.788140776701688,
          -44.169684513742,
          -8.189511376946337,
          70.3872452342557,
          54.93607119615005,
          -40.810347903697725,
          11.643431498761688,
          -46.66132861881403,
          -59.92726561090235,
          6.519801751656986,
          34.04989926367243,
          19.45560221796105,
          41.684303451621034,
          -30.695519823651622,
          -22.545312882836726,
          2.4721872163439333,
          -72.16747491520738,
          -13.123671887491446,
          16.24763157278565,
          34.43898930880362,
          -27.38845879074495,
          10.862287893759808,
          2.648528937495261,
          -46.018246211630945,
          0,
          19.22458032044628,
          -12.635429180890833,
          -13.986850566788776,
          -5.285787242388073,
          -38.9909940425055,
          34.00372741911257,
          21.72900237272643,
          7.380080224120985,
          -32.92786265316413,
          -72.8380811971347,
          -13.023079670604975,
          46.01824621163095,
          -52.32974771675872,
          -22.24566871052963,
          -60.68590592006639,
          46.01824621163096,
          14.780364217435102,
          -52.32974771675873,
          -29.808126632224937,
          55.807350807299194,
          -64.24098213999893,
          15.001662688841556,
          48.57633437499734,
          65.1447628670635,
          10.016469322717642,
          0,
          -37.073073317310424,
          -22.03622694014543,
          -65.1447628670635,
          -65.14476286706355,
          -37.073073317310424,
          -4.356975005846297,
          -35.05301206344154,
          50.527540151656154,
          -40.094185450916854,
          -59.92726561090238,
          -49.023523842741604,
          22.03622694014543,
          59.92726561090235,
          -14.523092131093053,
          48.576334374997366,
          -2.648528937495261,
          0,
          -26.584890435119284,
          38.990994042505456,
          -12.18168168665296,
          26.734564823055067,
          -45.502242788829506,
          -6.715593152692915,
          22.397597952824853,
          -9.1966558916289,
          0,
          5.285787242388073,
          10.483102477017828,
          -56.969897865390834,
          32.92786265316417,
          17.942447089158676,
          17.942447089158684,
          2.648528937495261,
          9.1966558916289,
          15.819193947500152,
          -39.78256074028419,
          -44.169684513741984,
          8.834710662155677,
          52.32974771675868,
          -80.76795348557815,
          -6.160456533590615,
          -25.579270527428488,
          -35.73791185278378,
          -43.08980451700442,
          -20.10492720437738,
          4.6281375377323455,
          12.875001559612475,
          -17.94244708915866,
          53.81736101153215,
          48.57633437499734,
          -22.397597952824853,
          32.92786265316413,
          4.1157769859868445,
          43.52641858177431,
          -20.695450734063286,
          49.023523842741604,
          52.32974771675873,
          -18.611565005936264,
          -10.016469322717642,
          -29.034744210959836,
          -41.88268370243314,
          19.45560221796105,
          -54.7121713984186,
          5.915821844805735,
          45.71840472604885,
          30.236076190856487,
          -13.41967361551386,
          60.93108983891975,
          28.35496178532406,
          -30.23607619085647,
          -16.94922423382144,
          2.648528937495261,
          26.734564823055067,
          35.05301206344153,
          42.197548480133214,
          -1.324972269376881,
          20.30790196731077,
          -23.35208056231187,
          -19.788140776701688,
          -20.94104797543842,
          -19.78814077670171,
          36.07601155636859,
          35.737911852783796,
          40.81034790369772,
          -12.18168168665295,
          67.88579375972722,
          -24.68354067962506,
          16.64146311248337,
          -13.650419134756985,
          -31.02104083563495,
          0,
          35.84225034751062,
          -3.0891563753365396,
          48.2044690023223,
          5.48038633196813,
          0,
          -22.9498992597488,
          -56.50481532625884,
          16.40296798307724,
          -12.181681686652952,
          31.363302213950067,
          -27.388458790744934,
          -13.650419134756985,
          37.85231021361412,
          15.512048727561293,
          41.684303451621034,
          44.169684513742006,
          27.388458790744934,
          8.189511376946337,
          -3.223190216249565,
          29.538782259558097,
          17.942447089158673,
          -64.24098213999893,
          26.96897351666366,
          17.94244708915866,
          45.50224278882952,
          39.49679443151137,
          67.16292149866354,
          8.189511376946337,
          37.63132689865813,
          -16.057442260839654,
          -7.900789423839791,
          -5.28578724238807,
          -3.5861970865443724,
          18.669504109061588,
          -10.016469322717642,
          30.140477673237633,
          59.29428776941094,
          7.380080224120985,
          23.35208056231187,
          -17.318344263916956,
          -26.584890435119284,
          -37.85231021361412,
          59.53445508054011,
          -17.94244708915866,
          13.650419134756993,
          24.25240266146789,
          50.40224729095014,
          -27.388458790744934,
          -36.50647784642544,
          17.942447089158673,
          -25.404007819133874,
          55.206381410914325,
          -19.133643205905482,
          -6.16045653359061,
          -61.61138659056721,
          -60.68590592006639,
          17.94244708915866,
          22.397597952824853,
          -31.72360295768404,
          0,
          -24.824554769183358,
          -1.7663848463315017,
          -22.03622694014543,
          -12.771242564901438,
          44.169684513741984,
          49.149835290981954,
          49.89437519877513,
          -17.942447089158684,
          -7.380080224120985,
          31.363302213950067,
          -19.788140776701688,
          -46.66132861881403,
          0,
          44.169684513742006,
          -51.03325300620072,
          -45.21142258103931,
          47.18580080677562,
          37.07307331731042,
          14.523092131093053,
          0,
          29.927372071758477,
          -6.16045653359061,
          31.088114127665534,
          -18.82178616748157,
          -55.95894877696032,
          29.30418349069379,
          0,
          -46.46198789878022,
          0,
          -45.502242788829506,
          50.527540151656154,
          31.021040835634945,
          -11.150156592828939,
          -9.1966558916289,
          7.032253053117949,
          34.2824209358808,
          -15.512048727561284,
          -17.054281011451604,
          14.13606179814707,
          4.628137537732349,
          -2.1816414035514655,
          16.40296798307723,
          38.36282618129002,
          27.079670088195165,
          -29.03474421095981,
          -2.0605466502542913,
          52.329747716758725,
          -5.689812716419987,
          72.83808119713474,
          0,
          -12.18168168665296,
          12.181681686652963,
          -27.079670088195172,
          -4.115776985986843,
          -40.810347903697725,
          37.073073317310424,
          -41.88268370243314,
          -4.115776985986843,
          58.29857033049429,
          -19.934020408817535,
          -32.92786265316411,
          -7.380080224120985,
          58.298570330494265,
          1.324972269376881,
          -16.40296798307723,
          12.58856341094814,
          -35.24095754208899,
          32.927862653164134,
          -37.42928585974292,
          -12.181681686652954,
          -8.189511376946337,
          10.994777349292129,
          46.774581738375126,
          49.37558357275065,
          15.101098161385437,
          46.46198789878024,
          37.852310213614125,
          60.365082096815655,
          23.35208056231187,
          -38.18131779549951,
          -6.519801751656986,
          21.234704134253892,
          -2.851937567007021,
          -26.734564823055052,
          16.057442260839654,
          15.90502849211302,
          -9.89060494175803,
          0,
          41.684303451621034,
          48.814074834290366,
          -38.36282618129,
          -44.169684513742006,
          -5.285787242388073,
          1.8546438750328063,
          17.94244708915867,
          -55.5391837286282,
          -17.139240533020793,
          -23.352080562311883,
          -22.397597952824853,
          46.661328618814025,
          -21.234704134253892,
          -1.6128711537946898,
          16.40296798307723,
          -10.483102477017828,
          0,
          -35.05301206344154,
          32.92786265316414,
          23.352080562311897,
          -24.642351313556304,
          8.49997467379305,
          -50.25823975061731,
          -40.810347903697725,
          20.69545073406328,
          12.771242564901446,
          -35.84225034751062,
          37.0730733173104,
          24.149157520429036,
          17.942447089158673,
          21.72900237272643,
          -19.330546516050514,
          0,
          4.1157769859868445,
          -7.380080224120985,
          27.75291785529662,
          -6.160456533590615,
          -45.02479263346477,
          -23.35208056231187,
          13.986850566788776,
          48.57633437499734,
          4.82842924274384,
          30.695519823651633,
          -31.02104083563495,
          0,
          -62.764853300697496,
          39.49679443151137,
          17.94244708915868,
          32.92786265316414,
          -35.5946884990431,
          -13.85880089063764,
          -17.20936594392158,
          -5.915821844805735,
          -3.5294183699567334,
          10.994777349292129,
          -1.3740268396097135,
          9.589235728739848,
          -3.5294183699567334,
          13.650419134756977,
          32.92786265316408,
          46.01824621163096,
          -13.35806618342817,
          -50.09098836384004,
          29.385905947912228,
          17.94244708915866,
          -4.628137537732349,
          15.512048727561293,
          9.196655891628891,
          6.426108013768544,
          30.23607619085648,
          29.385905947912228,
          9.196655891628891,
          14.523092131093053,
          6.8387887280617266,
          14.780364217435102,
          -26.584890435119284,
          0,
          -32.927862653164134,
          40.36453657309737,
          22.397597952824853,
          -2.9658153093911825,
          -34.97004084582636,
          32.92786265316413,
          8.765687148326284,
          -44.16968451374199,
          29.53878225955809,
          -52.329747716758774,
          35.240957542089,
          -25.90650799951436,
          -43.0898045170044,
          -19.45560221796105,
          48.886775290419195,
          -36.07601155636857,
          -24.04344533738676,
          42.77407610488599,
          -30.695519823651622,
          46.29216688624992,
          32.92786265316414,
          -13.650419134756987,
          -7.900789423839791,
          -13.650419134756977,
          0,
          -46.01824621163096,
          -49.37558357275065,
          -15.819193947500137,
          -22.73600488258145,
          -2.3925334550124098,
          -4.935203451166515,
          0,
          5.6898127164199845,
          13.023079670604975,
          36.35049406855038,
          17.942447089158676,
          15.90502849211302,
          -8.765687148326284,
          15.101098161385437,
          34.2824209358808,
          -7.380080224120985,
          -17.94244708915866,
          0,
          14.931417178137561,
          16.94922423382145,
          17.942447089158676,
          19.788140776701695,
          62.76485330069748,
          -1.686142077399159,
          -45.71840472604885,
          24.824554769183358,
          20.69545073406328,
          49.023523842741604,
          -28.146320076634098,
          58.298570330494265,
          -19.60541484125716,
          14.220312219794037,
          -5.5484662937180635,
          17.94244708915866,
          -57.243486053035745,
          23.352080562311883,
          -62.76485330069748,
          35.737911852783796,
          -47.1858008067756,
          -9.196655891628891,
          -49.659930503247416,
          17.942447089158676,
          55.30937924317019,
          72.83808119713468,
          -10.48310247701782,
          -19.605414841257172,
          3.705409306127955,
          13.251579275087124,
          22.603257476182893,
          -46.01824621163096,
          19.455602217961058,
          49.37558357275066,
          -56.84419599405823,
          22.397597952824853,
          42.77407610488599,
          -48.57633437499732,
          -14.523092131093053,
          82.66767282530614,
          -15.512048727561293,
          -44.89487024731449,
          4.6281375377323455,
          -22.60325747618288,
          -31.60141278091812,
          71.06099573975992,
          -47.18580080677562,
          36.86530221920059,
          0,
          -33.921915646514975,
          12.181681686652954,
          4.443768879358847,
          17.942447089158676,
          15.819193947500144,
          19.788140776701688,
          -44.169684513742,
          7.380080224120985,
          19.788140776701688,
          62.76485330069753,
          -23.767778589817325,
          -5.689812716419987,
          15.101098161385437,
          36.50647784642547,
          31.363302213950067,
          -64.58699386342342,
          35.5946884990431,
          44.16968451374196,
          -25.220232588615506,
          27.079670088195165,
          -26.481039830374392,
          38.55728393028016,
          8.664135433108067,
          17.26823023887338,
          37.85231021361413,
          39.782560740284175,
          -10.016469322717642,
          -35.8973775117081,
          15.512048727561277,
          -10.994777349292129,
          12.181681686652961,
          -9.196655891628897,
          43.60281897270363,
          2.3178496429030178,
          -42.1975484801332,
          -29.538782259558108,
          -9.196655891628891,
          -78.3663660010596,
          47.75099042876568,
          42.43622978853501,
          -47.1858008067756,
          12.18168168665296,
          23.352080562311883,
          1.4268525831695587,
          0,
          -25.220232588615524,
          -44.169684513742006,
          16.64146311248337,
          7.763884405677521,
          -47.7509904287657,
          24.386371101801387,
          39.78256074028421,
          -17.94244708915867,
          -41.68430345162103,
          -36.50647784642544,
          58.29857033049429,
          20.854458039578358,
          -13.023079670604975,
          42.53514708200878,
          44.169684513741984,
          -38.6598082540901,
          -32.92786265316413,
          -16.057442260839654,
          -36.3882027268435,
          16.641463112483383,
          -49.149835290981954,
          0,
          38.99099404250545,
          35.240957542089,
          -5.48038633196813,
          0,
          4.356975005846297,
          -9.196655891628891,
          17.942447089158673,
          40.810347903697725,
          31.150630557988556,
          8.189511376946337,
          35.240957542089,
          5.915821844805735,
          -55.206381410914325,
          17.942447089158676,
          28.072486935852965,
          14.274440091701676,
          -19.78814077670171,
          -29.538782259558072,
          10.198100845623392,
          32.92786265316414,
          -3.3693686357925823,
          0,
          53.81736101153215,
          30.487219130460485,
          15.512048727561293,
          29.385905947912228,
          -24.824554769183358,
          -76.29814356982716,
          45.71840472604885,
          48.886775290419195,
          36.50647784642547,
          -8.189511376946337,
          -13.650419134756977,
          -54.7121713984186,
          -19.78814077670171,
          -35.84225034751062,
          32.927862653164134,
          -23.352080562311894,
          -6.160456533590611,
          -16.40296798307723,
          17.942447089158676,
          55.53918372862824,
          46.01824621163095,
          -35.73791185278378,
          -7.900789423839791,
          -7.380080224120985,
          -35.24095754208899,
          -50.25823975061731,
          64.82887598994175,
          -50.40224729095014,
          27.388458790744934,
          36.50647784642544,
          0,
          9.196655891628891,
          15.101098161385437,
          -8.189511376946337,
          -3.705409306127955,
          31.60141278091812,
          -46.46198789878022,
          17.942447089158676,
          -22.24566871052963,
          -31.02104083563495,
          30.596009467062675,
          -53.5544641164968,
          9.1966558916289,
          -37.073073317310424,
          37.303948277983444,
          -23.352080562311837,
          -52.329747716758746,
          12.18168168665295,
          -60.365082096815655,
          37.073073317310396,
          -7.380080224120985,
          32.927862653164134,
          19.934020408817528,
          29.034744210959825,
          62.764853300697496,
          -36.27748696679703,
          4.628137537732349,
          -24.000449953683397,
          -13.650419134756985,
          2.1816414035514655,
          3.705409306127955,
          -54.22392228210538,
          -46.29216688624992,
          -38.99099404250545,
          -3.3693686357925823,
          -30.695519823651622,
          19.224580320446275,
          31.021040835634945,
          0,
          -41.31261241635549,
          -19.224580320446286,
          24.149157520429036,
          -2.1816414035514655,
          17.20936594392159,
          -35.240957542089,
          -19.45560221796105,
          15.101098161385437,
          21.234704134253892,
          72.83808119713468,
          37.85231021361413,
          49.37558357275066,
          -7.380080224120985,
          41.44826664517961,
          51.237584800597276,
          53.45502767717747,
          -40.81034790369768,
          55.206381410914325,
          54.93607119615005,
          -38.72312897706813,
          -56.12434608694927,
          0,
          -15.512048727561277,
          10.994777349292129,
          -16.641463112483375,
          -35.737911852783796,
          6.8387887280617266,
          -13.023079670604975,
          17.05428101145161,
          4.1157769859868445,
          3.5294183699567334,
          64.00539199771832,
          58.8587911283291,
          24.642351313556297,
          -18.519580636575018,
          -27.66636151983567,
          -64.24098213999893,
          15.512048727561277,
          -65.7547397327976,
          74.31798454009592,
          -11.44104386876742,
          -25.906507999514385,
          -67.61986494804042,
          -13.35806618342817,
          7.900789423839791,
          48.2044690023223,
          -25.220232588615506,
          -38.9909940425055,
          13.251579275087124,
          6.715593152692915,
          35.46534772100298,
          32.92786265316414,
          0.8245172608515247,
          12.18168168665296,
          54.7121713984186,
          -37.42928585974292,
          -39.49679443151138,
          22.183676862510776,
          -17.94244708915866,
          23.352080562311876,
          -20.307901967310777,
          7.380080224120985,
          -43.52641858177431,
          -21.464617106809328,
          71.06099573975995,
          79.07541386112463,
          37.42928585974291,
          -34.00372741911257,
          -66.1940564815423,
          -26.481039830374417,
          43.28904320188769,
          46.661328618814025,
          5.285787242388073,
          19.788140776701688,
          -11.643431498761677,
          50.8994636731489,
          -6.923448914810531,
          12.181681686652933,
          -13.023079670604975,
          -34.63647019480071,
          12.18168168665296,
          17.94244708915868,
          7.380080224120985,
          -1.2792990249604372,
          -13.986850566788776,
          29.927372071758477,
          -20.30790196731077,
          -21.234704134253892,
          0,
          37.073073317310424,
          -42.898007654102024,
          -39.49679443151138,
          42.197548480133214,
          42.197548480133214,
          17.942447089158676,
          -28.35496178532406,
          -11.269566284057234,
          37.85231021361413,
          -1.9521830680865255,
          -10.48310247701782,
          28.189554310388257,
          2.648528937495261,
          -10.7842978675626,
          -2.9658153093911825,
          36.50647784642547,
          24.824554769183358,
          12.771242564901446,
          -25.90650799951436,
          -16.188646460058557,
          -25.906507999514385,
          -20.695450734063282,
          -13.650419134756977,
          7.380080224120985,
          19.13364320590548,
          6.519801751656986,
          36.506477846425426,
          58.298570330494265,
          13.02307967060498,
          22.603257476182886,
          9.196655891628891,
          2.4721872163439333,
          18.82178616748158,
          7.099184168725565,
          71.06099573975999,
          14.523092131093053,
          32.92786265316415,
          16.057442260839668,
          -25.124957815281828,
          49.37558357275065,
          -2.9658153093911825,
          15.512048727561277,
          -35.24095754208899,
          40.81034790369771,
          0,
          24.824554769183347,
          52.32974771675875,
          9.671769697334895,
          -17.94244708915867,
          2.0605466502542913,
          -2.55732376012029,
          -29.034744210959836,
          19.788140776701688,
          40.81034790369771,
          -42.53514708200879,
          -45.02479263346477,
          -16.05744226083966,
          -39.78256074028419,
          45.502242788829484,
          32.927862653164134,
          72.83808119713468,
          -58.298570330494265,
          -32.92786265316411,
          -36.506477846425426,
          -15.001662688841549,
          15.675974454627386,
          -55.53918372862822,
          48.57633437499734,
          5.104498685313563,
          23.687526336720797,
          3.9692634567194975,
          -9.196655891628899,
          26.877364027704036,
          7.380080224120985,
          -32.017221178888825,
          22.245668710529635,
          -4.356975005846297,
          -70.03281339419854,
          -2.4721872163439333,
          13.98685056678879,
          21.234704134253892,
          -15.512048727561293,
          9.196655891628891,
          -52.32974771675872,
          8.664135433108067,
          -15.512048727561293,
          32.92786265316414,
          -21.592034282719972,
          -9.196655891628897,
          -13.023079670604975,
          34.89330255069864,
          -10.48310247701782,
          -17.942447089158716,
          -6.160456533590615,
          15.512048727561293,
          11.643431498761688,
          16.188646460058553,
          -48.2044690023223,
          37.42928585974291,
          -7.380080224120985,
          -72.83808119713468,
          28.354961785324072,
          9.196655891628891,
          23.824260582895427,
          16.05744226083966,
          29.74488129694223,
          17.94244708915868,
          49.659930503247416,
          50.73489274565668,
          4.628137537732349,
          6.715593152692915,
          10.016469322717642,
          41.882683702433134,
          19.605414841257172,
          -13.251579275087124,
          -17.942447089158716,
          -24.824554769183358,
          37.07307331731042,
          -58.29857033049434,
          25.124957815281828,
          -46.01824621163096,
          -65.14476286706355,
          10.696510735778118,
          -15.512048727561293,
          -34.10021125850712,
          -9.196655891628891,
          53.81736101153215,
          -20.307901967310784,
          28.35496178532406,
          8.013816501473892,
          12.181681686652963,
          -31.776628885945097,
          30.487219130460485,
          7.763884405677521,
          66.1940564815423,
          -8.189511376946342,
          -29.21860624941389,
          -58.298570330494265,
          -40.81034790369764,
          21.592034282719982,
          18.56217832404464,
          17.20936594392159,
          -13.650419134756977,
          -22.828775034651386,
          27.917780198254395,
          -30.695519823651622,
          51.03325300620072,
          -30.48721913046047,
          -26.26283906417685,
          0,
          -19.45560221796105,
          6.160456533590615,
          12.18168168665296,
          27.75291785529662,
          -30.23607619085647,
          -39.78256074028419,
          32.927862653164134,
          -58.29857033049431,
          -25.90650799951436,
          9.589235728739848,
          -3.3693686357925823,
          -14.274440091701669,
          3.3693686357925823,
          -36.07601155636857,
          -40.8103479036977,
          1.1967884362849743,
          15.512048727561277,
          -24.567171320601314,
          50.527540151656154,
          3.8998440419746827,
          4.115776985986843,
          -9.196655891628891,
          -25.092677249305748,
          17.942447089158716,
          -29.538782259558072,
          17.20936594392159,
          -1.6128711537946898,
          32.92786265316413,
          40.81034790369772,
          -34.43898930880363,
          55.53918372862822,
          32.92786265316415,
          -23.352080562311883,
          0,
          57.24348605303576,
          -10.48310247701782,
          36.0760115563686,
          -44.89487024731449,
          40.43532347398004,
          45.50224278882952,
          -29.927372071758466,
          -21.234704134253892,
          12.18168168665296,
          -41.31261241635549,
          0,
          54.93607119615005,
          -30.487219130460485,
          48.57633437499734,
          -41.68430345162103,
          23.352080562311883,
          -25.220232588615506,
          13.251579275087124,
          -13.251579275087124,
          71.06099573975992,
          32.9278626531642,
          17.942447089158676,
          -19.45560221796105,
          -13.650419134756985,
          28.884444642189802,
          -27.388458790744934,
          -12.18168168665295,
          22.03622694014543,
          52.32974771675874,
          0,
          -35.7379118527838,
          3.8328075150827248,
          2.9658153093911825,
          -27.388458790744934,
          0,
          58.298570330494265,
          -71.99182748898198,
          38.99099404250548,
          26.734564823055067,
          -28.831736712839785,
          19.788140776701688,
          -9.1966558916289,
          30.09008812123676,
          10.48310247701782,
          -17.94244708915866,
          -27.388458790744934,
          -10.69651073577811,
          -1.4268525831695587,
          29.385905947912228,
          -9.196655891628899,
          36.76902489880966,
          27.388458790744952,
          -30.695519823651622,
          -7.032253053117949,
          -24.824554769183358,
          58.29857033049429,
          4.6281375377323455,
          29.034744210959836,
          -66.19405648154233,
          12.18168168665296,
          -19.22458032044626,
          10.198100845623392,
          41.97045934438969,
          12.181681686652954,
          22.036226940145458,
          -9.589235728739848,
          -22.036226940145443,
          10.862287893759808,
          -17.942447089158673,
          -6.715593152692915,
          -11.364200102718739,
          53.5544641164968,
          32.92786265316414,
          -35.46534772100297,
          66.61861605632949,
          30.695519823651633,
          32.927862653164134,
          -27.388458790744934,
          26.481039830374417,
          -15.512048727561277,
          28.722095663828487,
          0,
          37.42928585974291,
          -58.29857033049426,
          -38.99099404250545,
          -9.196655891628897,
          46.01824621163095,
          0,
          -6.8387887280617266,
          50.40224729095014,
          25.220232588615524,
          -40.81034790369771,
          -13.251579275087124,
          22.03622694014543,
          36.76902489880966,
          -19.45560221796105,
          39.49679443151137,
          27.388458790744945,
          30.367788104524962,
          30.23607619085648,
          45.71840472604885,
          -25.579270527428488,
          -32.927862653164134,
          24.56717132060132,
          -26.26283906417685,
          36.86530221920059,
          -11.269566284057234,
          0,
          -17.139240533020793,
          34.755912553541364,
          50.2582397506173,
          46.01824621163095,
          -62.764853300697496,
          1.686142077399159,
          26.481039830374403,
          -48.2044690023223,
          2.8519375670070226,
          -21.729002372726416,
          -22.60325747618288,
          16.24763157278565,
          10.483102477017825,
          -34.75591255354138,
          -30.487219130460485,
          -16.40296798307723,
          59.92726561090233,
          14.523092131093053,
          -14.523092131093053,
          23.35208056231187,
          -14.523092131093053,
          17.942447089158676,
          11.150156592828946,
          9.1966558916289,
          -25.906507999514385,
          10.818823049566914,
          -16.734995994930156,
          20.30790196731077,
          40.81034790369772,
          19.05474993151104,
          1.686142077399159,
          -32.927862653164134,
          -17.94244708915867,
          60.365082096815655,
          -10.016469322717642,
          37.42928585974291,
          -52.329747716758746,
          -5.915821844805735,
          35.46534772100298,
          -37.42928585974292,
          25.906507999514385,
          32.92786265316415,
          -19.60541484125716,
          0,
          -16.40296798307723,
          41.68430345162105,
          70.18620675450435,
          3.3693686357925823,
          9.589235728739848,
          -21.51450262295755,
          -40.81034790369768,
          -48.576334374997366,
          -13.488089257158542,
          45.211422581039294,
          49.37558357275065,
          1.7663848463315017,
          -6.160456533590615,
          30.236076190856487,
          -15.512048727561284,
          32.92786265316417,
          -34.89330255069866,
          -40.810347903697725,
          12.18168168665296,
          -21.234704134253892,
          -20.307901967310762,
          -20.695450734063282,
          -9.196655891628899,
          -39.49679443151138,
          3.705409306127955,
          -17.94244708915866,
          15.101098161385437,
          6.715593152692915,
          -6.715593152692915,
          12.18168168665296,
          38.99099404250549,
          -6.715593152692915,
          12.181681686652963,
          -17.139240533020793,
          61.61138659056721,
          8.013816501473892,
          -13.650419134756977,
          53.90171603289201,
          14.220312219794037,
          29.927372071758477,
          -3.3693686357925823,
          -25.627863837148162,
          24.386371101801394,
          50.8994636731489,
          58.298570330494265,
          21.234704134253892,
          -53.67317404787977,
          26.20597196512165,
          -49.37558357275066,
          53.5544641164968,
          29.808126632224937,
          -41.68430345162103,
          -30.487219130460485,
          36.86530221920059,
          -7.380080224120985,
          28.831736712839778,
          40.26081072674037,
          -20.307901967310784,
          42.77407610488597,
          38.99099404250545,
          44.169684513742,
          -12.18168168665296,
          46.01824621163095,
          -42.19754848013322,
          54.22392228210536,
          -68.8919450807573,
          8.834710662155677,
          -46.01824621163096,
          -9.589235728739848,
          -37.42928585974292,
          15.512048727561293,
          9.196655891628891,
          4.870581014000554,
          -43.289043201887694,
          -7.631615538405302,
          -9.196655891628891,
          -3.223190216249565,
          49.659930503247416,
          -15.10109816138543,
          -28.884444642189802,
          2.851937567007021,
          31.363302213950067,
          -57.243486053035745,
          17.139240533020804,
          2.0605466502542913,
          9.589235728739848,
          29.21860624941389,
          0,
          34.35642890636523,
          30.695519823651633,
          24.149157520429036,
          7.380080224120985,
          68.89194508075731,
          -7.380080224120985,
          11.269566284057243,
          20.307901967310777,
          -19.45560221796105,
          -24.824554769183358,
          -32.92786265316413,
          37.073073317310396,
          68.8919450807573,
          -51.03325300620072,
          24.824554769183358,
          28.35496178532406,
          -19.788140776701688,
          13.986850566788776,
          -22.39759795282484,
          0,
          25.0666610660642,
          -16.40296798307723,
          -5.046794290775168,
          30.09008812123676,
          25.90650799951439,
          2.746475082326106,
          -31.530524169111693,
          29.53878225955809,
          -10.483102477017828,
          -32.92786265316415,
          -20.307901967310784,
          -10.48310247701782,
          9.196655891628899,
          28.35496178532406,
          4.115776985986843,
          64.00539199771832,
          23.352080562311876,
          22.397597952824846,
          0,
          14.931417178137561,
          22.603257476182893,
          25.220232588615524,
          -20.10492720437738,
          -6.160456533590615,
          -7.032253053117949,
          -68.89194508075725,
          -17.94244708915867,
          34.97004084582636,
          28.354961785324072,
          -19.55228733989244,
          8.189511376946337,
          6.715593152692913,
          30.695519823651633,
          46.01824621163096,
          -40.260810726740374,
          -48.576334374997366,
          14.523092131093053,
          -30.487219130460485,
          53.67317404787977,
          28.7220956638285,
          5.285787242388068,
          -26.584890435119284,
          -21.234704134253892,
          26.734564823055067,
          24.824554769183347,
          25.906507999514385,
          34.89330255069864,
          -30.48721913046047,
          -59.92726561090238,
          -40.81034790369764,
          -61.87539543870606,
          27.144142305646408,
          17.31834426391695,
          -2.1816414035514655,
          53.81736101153215,
          -56.969897865390834,
          13.251579275087124,
          -35.053012063441514,
          -50.8994636731489,
          15.322579774365499,
          7.380080224120985,
          40.81034790369764,
          18.611565005936257,
          17.942447089158676,
          11.26956628405723,
          -34.89330255069866,
          9.196655891628891,
          -25.90650799951436,
          -23.35208056231187,
          -53.996209976195985,
          2.4721872163439333,
          -47.1858008067756,
          -16.64146311248337,
          85.09692452365954,
          10.7842978675626,
          -20.30790196731077,
          -29.538782259558072,
          -32.92786265316415,
          28.722095663828487,
          45.50224278882952,
          81.76302328559491,
          31.150630557988556,
          -7.295195148885601,
          27.388458790744952,
          -1.8546438750328063,
          -17.942447089158676,
          -27.66636151983567,
          28.35496178532406,
          -65.7547397327976,
          32.92786265316413,
          -56.969897865390834,
          49.659930503247416,
          34.10021125850712,
          22.82877503465138,
          1.1967884362849743,
          13.419673615513869,
          -61.61138659056721,
          -32.92786265316414,
          13.858800890637648,
          38.990994042505456,
          -60.365082096815655,
          28.54619073104337,
          -12.18168168665296,
          -14.523092131093053,
          -17.942447089158684,
          53.5544641164968,
          -32.92786265316415,
          -6.16045653359061,
          25.220232588615513,
          -14.136061798147061,
          29.53878225955809,
          40.810347903697696,
          11.26956628405723,
          10.696510735778118,
          42.19754848013322,
          -29.385905947912228,
          34.694175069572545,
          -5.28578724238807,
          11.558251258084296,
          0,
          15.001662688841556,
          -20.552897791575575,
          -26.481039830374392,
          -10.016469322717642,
          48.2044690023223,
          53.37052383113033,
          9.1966558916289,
          56.50481532625883,
          54.93607119615005,
          5.285787242388068,
          32.92786265316413,
          22.036226940145447,
          -5.6898127164199845,
          -40.810347903697696,
          55.95894877696031,
          -11.269566284057234,
          -8.013816501473892,
          16.057442260839654,
          26.20597196512165,
          -34.89330255069866,
          -14.523092131093053,
          0,
          -15.512048727561293,
          21.72900237272643,
          36.07601155636859,
          -5.48038633196813,
          -1.324972269376881,
          -25.32632481122052,
          -10.322852684236434,
          19.455602217961047,
          -4.115776985986843,
          15.25268854741971,
          12.18168168665295,
          19.224580320446275,
          33.88550433314374,
          -61.61138659056721,
          29.034744210959825,
          17.94244708915868,
          -30.48721913046047,
          -9.196655891628899,
          -8.013816501473892,
          -16.057442260839654,
          -55.53918372862822,
          9.1966558916289,
          -35.053012063441514,
          -42.53514708200879,
          40.810347903697696,
          29.21860624941389,
          5.285787242388068,
          30.948893813985862,
          -28.606435096765008,
          14.523092131093058,
          47.18580080677562,
          -29.538782259558072,
          40.094185450916854,
          22.82877503465138,
          36.50647784642547,
          -39.36262700162062,
          -10.7842978675626,
          -32.92786265316414,
          -42.1975484801332,
          16.057442260839654,
          -21.729002372726416,
          11.558251258084296,
          -31.72360295768404,
          -38.36282618129002,
          5.285787242388068,
          56.77198519545097,
          -12.181681686652954,
          29.927372071758477,
          -45.02479263346477,
          19.224580320446275,
          -20.307901967310762,
          25.9065079995144,
          -11.44104386876742,
          31.263731694377434,
          19.45560221796105,
          25.9065079995144,
          -16.641463112483375,
          73.46143943166977,
          -72.83808119713468,
          -90,
          -47.18580080677562,
          28.606435096764997,
          -46.66132861881403,
          -45.71840472604885,
          52.32974771675873,
          40.81034790369772,
          14.523092131093053,
          16.64146311248337,
          -27.38845879074495,
          0,
          23.76777858981732,
          -1.8546438750328063,
          0,
          -16.40296798307723,
          -3.0891563753365396,
          -50.8994636731489,
          12.55047235880458,
          53.81736101153215,
          55.53918372862822,
          -41.2245341757102,
          -30.090088121236768,
          -48.576334374997366,
          23.352080562311837,
          -30.48721913046047,
          3.0891563753365396,
          11.364200102718744,
          34.89330255069864,
          -22.60325747618288,
          -35.5946884990431,
          -4.6281375377323455,
          45.02479263346476,
          22.397597952824853,
          38.36282618129002,
          17.94244708915866,
          -45.71840472604885,
          -50.25823975061727,
          -6.160456533590615,
          39.28471471776323,
          -52.32974771675875,
          18.82178616748158,
          59.53445508054011,
          -4.6281375377323455,
          -13.251579275087124,
          -55.95894877696032,
          64.00539199771832,
          12.181681686652963,
          7.380080224120985,
          7.683981829733958,
          -47.18580080677562,
          -2.648528937495261,
          -18.56217832404465,
          -13.023079670604975,
          -9.589235728739848,
          52.329747716758725,
          -19.45560221796105,
          -21.234704134253892,
          -3.3693686357925823,
          -12.771242564901438,
          56.50481532625878,
          43.0898045170044,
          38.990994042505456,
          -13.251579275087124,
          -52.32974771675868,
          61.61138659056721,
          4.82842924274384,
          11.70813361653406,
          7.380080224120985,
          41.684303451621034,
          39.49679443151137,
          14.13606179814707,
          -29.034744210959836,
          38.55728393028016,
          -8.189511376946337,
          -52.329747716758746,
          -72.83808119713468,
          -29.538782259558072,
          24.386371101801394,
          -26.734564823055052,
          -45.02479263346477,
          -3.3693686357925823,
          5.509358437021368,
          -48.2044690023223,
          40.810347903697696,
          -42.77407610488598,
          17.942447089158676,
          8.013816501473892,
          -58.29857033049426,
          -9.589235728739848,
          61.410380214122,
          -12.875001559612475,
          -10.483102477017828,
          -14.136061798147061,
          12.18168168665295,
          -13.023079670604975,
          -8.189511376946337,
          26.34636605765502,
          -23.82426058289543,
          3.705409306127955,
          15.101098161385437,
          -8.189511376946337,
          -26.877364027704044,
          7.900789423839791,
          -7.380080224120985,
          15.101098161385437,
          0,
          -24.38637110180138,
          64.00539199771832,
          -4.6281375377323455,
          -34.53167513491344,
          -16.40296798307723,
          41.44826664517961,
          -3.9692634567194975,
          31.088114127665534,
          14.220312219794037,
          38.0950231023439,
          24.824554769183358,
          -35.73791185278378,
          36.76902489880966,
          -9.798243007457405,
          23.687526336720797,
          -32.927862653164134,
          50.2582397506173,
          -49.37558357275066,
          -17.94244708915868,
          49.023523842741604,
          60.365082096815655,
          -7.032253053117949,
          9.1966558916289,
          -16.734995994930156,
          -47.98952018383268,
          -54.93607119615004,
          44.667812411600806,
          20.152335301667527,
          23.352080562311883,
          19.05474993151104,
          35.240957542089,
          -19.45560221796105,
          -9.1966558916289,
          44.169684513742,
          17.94244708915867,
          46.46198789878021,
          15.101098161385437,
          24.000449953683404,
          -46.01824621163096,
          6.715593152692915,
          26.16475762224623,
          22.397597952824853,
          37.67392620517861,
          -16.64146311248337,
          28.884444642189802,
          0,
          41.684303451621034,
          32.92786265316414,
          -3.705409306127955,
          0,
          -10.016469322717642,
          -13.85880089063764,
          -2.0605466502542913,
          -31.60141278091812,
          -16.40296798307723,
          34.10021125850712,
          -56.12434608694927,
          29.034744210959825,
          23.352080562311883,
          -41.80725498819573,
          -28.35496178532406,
          63.83464458416822,
          17.942447089158676,
          35.05301206344153,
          12.181681686652961,
          -55.206381410914325,
          -13.986850566788776,
          6.16045653359061,
          21.72900237272643,
          -41.31261241635549,
          -2.55732376012029,
          -36.50647784642545,
          3.223190216249565,
          -40.81034790369771,
          -48.57633437499734,
          -32.927862653164134,
          0,
          68.8919450807573,
          -3.0891563753365396,
          -17.94244708915867,
          -53.81736101153215,
          20.69545073406328,
          44.169684513742006,
          26.96897351666366,
          46.01824621163096,
          33.961204937082925,
          35.34796551935351,
          -23.352080562311883,
          44.169684513741984,
          6.715593152692915,
          53.5544641164968,
          38.72312897706813,
          42.19754848013323,
          -2.4721872163439333,
          49.89437519877513,
          -67.88579375972722,
          57.55126280327039,
          54.52367984093482,
          7.900789423839791,
          -42.1975484801332,
          -22.828775034651386,
          42.19754848013322,
          24.149157520429036,
          7.380080224120985,
          -32.92786265316414,
          21.234704134253892,
          -17.94244708915867,
          -56.969897865390834,
          49.37558357275065,
          60.234958331084336,
          44.16968451374196,
          21.234704134253892,
          -24.642351313556304,
          -56.504815326258814,
          -42.952071575348334,
          32.92786265316413,
          -44.169684513741984,
          -66.19405648154228,
          50.2582397506173,
          -26.734564823055052,
          35.05301206344153,
          -60.234958331084336,
          46.01824621163095,
          50.2582397506173,
          10.696510735778118,
          37.35323798643282,
          3.705409306127955,
          -26.628384732174403,
          2.3178496429030178,
          14.838750625403595,
          -64.24098213999893,
          -46.29216688624992,
          3.3693686357925823,
          10.994777349292129,
          34.35642890636523,
          -5.915821844805735,
          40.81034790369764,
          16.057442260839654,
          -60.685905920066375,
          30.236076190856487,
          0,
          7.380080224120985,
          19.662167524950675,
          26.96897351666366,
          6.923448914810531,
          -11.44104386876742,
          38.99099404250549,
          -28.54619073104337,
          -6.59673829789421,
          20.104927204377372,
          19.788140776701695,
          3.0891563753365383,
          26.734564823055067,
          30.236076190856487,
          -1.2792990249604372,
          -32.92786265316415,
          27.917780198254395,
          2.648528937495261,
          30.87107498962892,
          3.705409306127955,
          -2.55732376012029,
          37.852310213614125,
          -41.2245341757102,
          45.02479263346476,
          41.44826664517961,
          -24.824554769183358,
          -18.56217832404465,
          43.28904320188769,
          30.596009467062675,
          43.0898045170044,
          17.942447089158676,
          51.1441571843773,
          35.84225034751062,
          -9.671769697334895,
          32.927862653164134,
          23.352080562311883,
          29.92737207175847,
          -55.53918372862822,
          -23.352080562311883,
          6.160456533590615,
          14.13606179814707,
          12.181681686652961,
          34.43898930880362,
          -12.18168168665295,
          4.82842924274384,
          -9.1966558916289,
          -20.30790196731077,
          23.352080562311883,
          14.523092131093053,
          24.25240266146789,
          35.14300734014127,
          -37.85231021361412,
          19.934020408817528,
          30.09008812123676,
          -6.923448914810531,
          32.92786265316413,
          -14.073513050384463,
          17.361524083798738,
          21.592034282719982,
          17.94244708915868,
          55.206381410914325,
          25.404007819133874,
          -22.397597952824853,
          12.18168168665295,
          43.28904320188769,
          31.60141278091812,
          -15.322579774365494,
          -12.181681686652954,
          24.386371101801387,
          -34.75591255354138,
          -37.85231021361414,
          22.603257476182893,
          17.26823023887338,
          21.234704134253892,
          38.72312897706813,
          32.92786265316415,
          9.196655891628891,
          -27.388458790744934,
          -36.67733693648981,
          -12.18168168665296,
          -26.481039830374392,
          -5.48038633196813,
          -25.90650799951436,
          -12.18168168665296,
          19.224580320446275,
          7.380080224120985,
          7.763884405677521,
          44.169684513741984,
          59.015596341067784,
          12.181681686652933,
          15.101098161385437,
          -10.016469322717642,
          30.236076190856487,
          0,
          12.694496308668352,
          23.352080562311897,
          7.380080224120985,
          0,
          -4.935203451166515,
          -27.917780198254384,
          -12.771242564901438,
          5.689812716419987,
          -38.55728393028017,
          22.73600488258146,
          44.89487024731449,
          12.181681686652963,
          -53.45502767717747,
          20.104927204377372,
          -2.4721872163439333,
          -42.19754848013323,
          3.3693686357925823,
          -29.03474421095981,
          -5.285787242388068,
          45.211422581039294,
          -32.92786265316414,
          12.18168168665295,
          -25.220232588615524,
          19.788140776701688,
          24.386371101801394,
          6.160456533590611,
          13.986850566788776,
          -21.729002372726416,
          4.82842924274384,
          22.603257476182893,
          -32.92786265316411,
          8.49997467379305,
          7.032253053117949,
          60.68590592006639,
          -47.98952018383267,
          -3.0891563753365383,
          -32.92786265316415,
          -37.0730733173104,
          -12.181681686652956,
          -46.46198789878022,
          34.6364701948007,
          -19.224580320446286,
          36.35049406855038,
          -71.06099573975999,
          -9.196655891628897,
          -13.801353361031598,
          -46.01824621163096,
          -39.49679443151138,
          3.0891563753365396,
          -12.694496308668345,
          -6.426108013768544,
          -17.94244708915867,
          -8.664135433108067,
          0,
          47.18580080677559,
          13.650419134756977,
          -58.298570330494265,
          -47.98952018383268,
          -29.03474421095981,
          25.9065079995144,
          -25.906507999514385,
          -16.64146311248337,
          -71.69153172110528,
          24.82455476918335,
          38.990994042505456,
          -29.03474421095981,
          -27.388458790744934,
          -12.18168168665295,
          -12.18168168665295,
          48.2044690023223,
          -28.35496178532406,
          -42.19754848013323,
          25.9065079995144,
          -32.92786265316408,
          50.09098836384004,
          -38.55728393028017,
          -50.734892745656694,
          -15.101098161385437,
          -30.695519823651622,
          -20.015959602882674,
          37.852310213614125,
          8.189511376946337,
          23.352080562311897,
          31.60141278091812,
          6.160456533590615,
          -52.32974771675874,
          -30.871074989628912,
          -38.0950231023439,
          21.234704134253903,
          31.150630557988556,
          -12.181681686652933,
          59.53445508054011,
          32.1033769631174,
          -55.95894877696032,
          52.32974771675876,
          1.686142077399159,
          -49.89437519877513,
          8.189511376946337,
          18.924644416051244,
          12.875001559612475,
          -54.7121713984186,
          -25.90650799951436,
          -46.774581738375126,
          13.419673615513869,
          -48.2044690023223,
          13.650419134756987,
          62.76485330069747,
          -45.02479263346477,
          -7.380080224120985,
          -32.9278626531642,
          -55.206381410914325,
          -1.8546438750328063,
          6.16045653359061,
          55.53918372862821,
          31.021040835634945,
          -40.81034790369764,
          0,
          -19.788140776701688,
          37.42928585974291,
          12.18168168665295,
          49.37558357275066,
          13.023079670604975,
          -25.220232588615506,
          -65.7547397327976,
          23.898504137359094,
          -31.6654572443245,
          14.220312219794037,
          25.220232588615524,
          22.397597952824853,
          8.664135433108067,
          0,
          -32.927862653164134,
          -1.4268525831695587,
          37.85231021361413,
          10.994777349292129,
          50.73489274565668,
          -8.49997467379305,
          3.8998440419746827,
          23.352080562311876,
          58.298570330494265,
          35.46534772100298,
          -20.015959602882674,
          20.307901967310777,
          26.734564823055067,
          1.7663848463315017,
          3.705409306127955,
          49.37558357275065,
          -58.298570330494265,
          -15.252688547419702,
          2.746475082326106,
          -25.220232588615524,
          -9.196655891628891,
          -28.35496178532406,
          46.29216688624992,
          0,
          -15.10109816138543,
          17.942447089158676,
          40.81034790369772,
          32.927862653164134,
          0,
          -3.705409306127955,
          4.6281375377323455,
          52.329747716758725,
          -37.073073317310424,
          -2.648528937495261,
          43.42621755126606,
          19.934020408817528,
          20.1817906999817,
          0,
          -61.410380214122,
          -15.819193947500137,
          -59.53445508054011,
          33.921915646514975,
          -2.4721872163439333,
          -23.82426058289543,
          -43.08980451700442,
          -5.963187670969326,
          36.76902489880966,
          -18.482462127760733,
          -4.356975005846297,
          -10.7842978675626,
          15.90502849211302,
          -65.7547397327976,
          13.358066183428177,
          64.24098213999892,
          32.92786265316415,
          13.251579275087124,
          26.96897351666366,
          10.994777349292129,
          -29.927372071758484,
          -20.48701419333071,
          34.10021125850712,
          19.330546516050507,
          10.016469322717642,
          6.160456533590615,
          -61.1245566037719,
          60.365082096815655,
          32.92786265316413,
          -24.000449953683397,
          56.969897865390834,
          30.695519823651633,
          17.94244708915868,
          -16.05744226083966,
          37.073073317310396,
          -40.81034790369768,
          -16.81598363951125,
          -62.764853300697496,
          49.023523842741604,
          -30.695519823651622,
          37.85231021361413,
          22.397597952824853,
          46.01824621163095,
          -23.02549200852804,
          28.722095663828487,
          -35.05301206344154,
          17.139240533020804,
          28.7220956638285,
          22.03622694014543,
          12.18168168665295,
          -24.38637110180138,
          23.35208056231187,
          -22.9498992597488,
          -17.36152408379874,
          32.92786265316415,
          22.82877503465138,
          -5.48038633196813,
          47.98952018383269,
          41.97045934438969,
          -16.302779173364062,
          -25.906507999514393,
          -15.512048727561293,
          -22.828775034651386,
          26.26283906417684,
          22.897263121546555,
          24.386371101801394,
          30.87107498962892,
          -55.5391837286282,
          1.5457014988888864,
          42.197548480133214,
          -5.689812716419987,
          27.079670088195165,
          56.12434608694927,
          -42.952071575348334,
          1.9521830680865255,
          20.55289779157558,
          2.851937567007021,
          -17.94244708915866,
          37.07307331731042,
          -39.78256074028419,
          -4.356975005846297,
          -20.695450734063282,
          -6.16045653359061,
          22.397597952824853,
          5.285787242388073,
          41.31261241635549,
          6.160456533590611,
          -28.7220956638285,
          -10.483102477017823,
          -36.50647784642545,
          -52.32974771675873,
          0,
          40.094185450916854,
          34.6364701948007,
          -46.774581738375126,
          -17.942447089158676,
          21.592034282719982,
          -5.285787242388073,
          -1.5457014988888864,
          6.16045653359061,
          -6.519801751656986,
          12.181681686652933,
          -16.247631572785643,
          68.89194508075731,
          -10.732916469352645,
          20.015959602882674,
          -10.129230310271025,
          32.92786265316411,
          27.388458790744945,
          0,
          37.42928585974291,
          -47.98952018383268,
          -59.92726561090238,
          -3.705409306127955,
          0,
          8.373026674782395,
          -17.942447089158676,
          20.55289779157558,
          -40.09418545091686,
          6.160456533590615,
          9.196655891628891,
          17.94244708915866,
          15.512048727561293,
          -20.10492720437738,
          9.196655891628891,
          38.990994042505456,
          37.852310213614125,
          50.8994636731489,
          28.146320076634098,
          17.942447089158684,
          -13.251579275087124,
          0,
          -28.831736712839785,
          57.24348605303576,
          -60.365082096815655,
          -27.388458790744934,
          32.92786265316415,
          -13.650419134756977,
          -22.397597952824853,
          -79.07541386112463,
          32.92786265316413,
          9.196655891628891,
          -60.68590592006639,
          20.30790196731078,
          -35.24095754208899,
          -47.98952018383267,
          30.236076190856487,
          -27.388458790744934,
          -42.53514708200879,
          -21.729002372726416,
          27.388458790744952,
          64.58699386342342,
          -72.83808119713468,
          69.66588696749949,
          59.92726561090238,
          40.810347903697696,
          10.696510735778118,
          -46.01824621163096,
          -31.530524169111693,
          2.648528937495261,
          42.197548480133214,
          13.12367188749145,
          7.683981829733958,
          15.512048727561293,
          20.30790196731078,
          -20.695450734063286,
          -32.927862653164134,
          -71.06099573975993,
          -3.705409306127955,
          -26.481039830374392,
          0,
          -32.927862653164134,
          0,
          -16.247631572785643,
          -20.307901967310762,
          17.942447089158676,
          -53.67317404787977,
          -15.322579774365494,
          15.101098161385437,
          21.729002372726434,
          18.611565005936257,
          17.20936594392159,
          28.722095663828487,
          -24.386371101801394,
          32.927862653164134,
          -50.52754015165616,
          -41.31261241635549,
          54.36281591780597,
          37.42928585974291,
          12.771242564901446,
          -26.734564823055052,
          -35.737911852783796,
          45.02479263346476,
          -32.927862653164134,
          -39.60820645285758,
          19.45560221796105,
          -57.82661909270259,
          29.034744210959836,
          10.994777349292129,
          -36.50647784642544,
          -25.906507999514385,
          -11.799916873828833,
          -1.686142077399159,
          55.807350807299194,
          29.385905947912228,
          -45.502242788829484,
          22.397597952824853,
          -14.274440091701669,
          24.000449953683404,
          82.00935536214524,
          -28.35496178532406,
          45.502242788829484,
          37.85231021361412,
          17.399115744092665,
          16.491620610640222,
          52.329747716758746,
          20.6954507340633,
          -17.942447089158676,
          68.8919450807573,
          -35.46534772100298,
          45.71840472604885,
          26.481039830374403,
          -14.523092131093053,
          -62.76485330069747,
          58.298570330494265,
          29.174285959920073,
          13.48808925715855,
          42.19754848013323,
          0,
          0,
          60.93108983891975,
          24.386371101801394,
          -56.504815326258814,
          13.650419134756977,
          -2.7610614455801152,
          -6.229133986379425,
          0.4033176661544793,
          27.388458790744952,
          -22.39759795282484,
          -3.8196754122445347,
          -40.09418545091686,
          -8.189511376946337,
          46.01824621163095,
          3.1547517236631237,
          0.382528730299917,
          -6.160456533590615,
          19.224580320446275,
          -23.767778589817325,
          1.7663848463315017,
          45.50224278882952,
          5.339966477137056,
          61.410380214122,
          8.189511376946337,
          68.05976841202902,
          47.98952018383269,
          45.33902432445146,
          35.05301206344153,
          -32.92786265316415,
          -37.073073317310424,
          24.386371101801394,
          19.05474993151104,
          -23.35208056231189,
          -68.05976841202902,
          12.181681686652954,
          24.824554769183347,
          -1.7663848463315017,
          27.75291785529662,
          -41.448266645179615,
          -13.023079670604975,
          16.815983639511252,
          -13.986850566788783,
          55.95894877696031,
          44.16968451374196,
          6.715593152692915,
          6.16045653359061,
          -71.06099573975993,
          -65.91624377246046,
          52.32974771675873,
          40.81034790369772,
          29.53878225955809,
          19.934020408817528,
          -21.464617106809328,
          43.42621755126606,
          -21.234704134253892,
          -40.260810726740374,
          59.92726561090233,
          -30.23607619085647,
          35.240957542089,
          47.62163869046318,
          0,
          -7.380080224120985,
          -52.329747716758746,
          -58.298570330494265,
          -10.198100845623392,
          6.519801751656986,
          -19.22458032044626,
          -59.29428776941096,
          21.846196297767015,
          -10.483102477017823,
          6.160456533590615,
          38.99099404250549,
          21.514502622957547,
          29.034744210959825,
          -24.14915752042902,
          14.13606179814707,
          -51.03325300620072,
          4.356975005846297,
          0,
          -29.538782259558072,
          -7.763884405677521,
          39.49679443151137,
          -3.705409306127955,
          4.443768879358847,
          37.42928585974291,
          -6.160456533590615,
          -42.43622978853501,
          -8.765687148326284,
          -28.722095663828473,
          -45.21142258103931,
          49.023523842741604,
          -12.18168168665296,
          24.386371101801394,
          -30.48721913046047,
          17.94244708915867,
          26.26283906417684,
          -20.48701419333071,
          35.05301206344153,
          -25.579270527428488,
          -18.669504109061585,
          -17.94244708915866,
          -16.057442260839654,
          23.352080562311897,
          37.42928585974291,
          16.81598363951126,
          -28.35496178532406,
          24.998967260202658,
          15.725812822360153,
          -15.101098161385437,
          19.45560221796105,
          -19.788140776701688,
          46.29216688624992,
          -48.886775290419195,
          -11.44104386876742,
          27.388458790744952,
          -20.48701419333071,
          16.641463112483383,
          47.98952018383269,
          -27.388458790744934,
          0,
          -44.16968451374196,
          51.1441571843773,
          36.07601155636859,
          16.815983639511252,
          -27.38845879074495,
          36.50647784642544,
          -16.247631572785643,
          26.734564823055067,
          20.94104797543841,
          14.13606179814707,
          18.669504109061588,
          11.26956628405723,
          7.099184168725565,
          28.606435096764997,
          -20.854458039578347,
          -23.352080562311883,
          4.356975005846297,
          -35.46534772100297,
          -35.05301206344154,
          6.715593152692915,
          25.9065079995144,
          -27.388458790744952,
          53.81736101153215,
          4.356975005846297,
          44.169684513742055,
          -38.0950231023439,
          7.683981829733958,
          42.77407610488599,
          47.75099042876568,
          40.094185450916854,
          30.87107498962892,
          58.29857033049429,
          35.46534772100298,
          8.664135433108067,
          59.29428776941094,
          26.734564823055067,
          -8.189511376946337,
          -12.18168168665296,
          -22.03622694014543,
          -38.99099404250545,
          48.57633437499734,
          13.023079670604975,
          25.9065079995144,
          48.304165192574935,
          -56.504815326258814,
          40.26081072674037,
          -35.14300734014127,
          22.949899259748793,
          -27.388458790744934,
          45.50224278882952,
          0,
          49.023523842741604,
          4.115776985986843,
          -68.89194508075731,
          -23.352080562311883,
          45.02479263346476,
          -58.298570330494265,
          10.483102477017823,
          -47.1858008067756,
          36.63311276739521,
          44.5490346610881,
          29.927372071758477,
          -59.29428776941096,
          -34.63647019480071,
          50.73489274565668,
          36.0760115563686,
          17.942447089158684,
          23.352080562311883,
          7.380080224120985,
          -49.894375198775116,
          43.0898045170044,
          8.189511376946337,
          -37.42928585974292,
          17.94244708915868,
          25.9065079995144,
          -43.289043201887694,
          -29.538782259558072,
          -39.78256074028419,
          11.44104386876742,
          -4.6281375377323455,
          24.56717132060132,
          -44.169684513742,
          -27.388458790744934,
          10.994777349292129,
          30.695519823651633,
          -66.19405648154233,
          37.303948277983444,
          16.057442260839654,
          -4.356975005846297,
          -65.14476286706355,
          -21.234704134253892,
          56.50481532625883,
          -15.512048727561284,
          47.18580080677554,
          43.42621755126606,
          25.9065079995144,
          -4.115776985986843,
          -25.220232588615506,
          -13.650419134756985,
          -39.60820645285758,
          -2.55732376012029,
          -24.38637110180138,
          13.650419134756977,
          38.99099404250545,
          -2.851937567007021,
          12.181681686652963,
          19.552287339892434,
          20.307901967310784,
          -46.01824621163096,
          5.285787242388073,
          28.011762257629094,
          24.824554769183347,
          13.650419134756977,
          -25.906507999514385,
          -4.115776985986843,
          42.197548480133214,
          17.432138084901684,
          26.481039830374403,
          31.53052416911168,
          18.738427636487454,
          -22.9498992597488,
          -53.996209976195985,
          -30.871074989628912,
          -44.16968451374196,
          -32.92786265316411,
          -1.1967884362849743,
          -40.81034790369768,
          34.43898930880362,
          -42.1975484801332,
          -65.14476286706355,
          -40.81034790369768,
          -25.510148955760247,
          -23.352080562311837,
          0,
          17.942447089158676,
          12.18168168665296,
          0,
          12.18168168665296,
          -8.49997467379305,
          -18.738427636487447,
          38.99099404250549,
          34.21570213243741,
          17.31834426391695,
          40.810347903697725,
          56.504815326258814,
          23.35208056231187,
          37.303948277983444,
          61.87539543870606,
          -42.43622978853501,
          -47.18580080677554,
          49.023523842741604,
          -31.6654572443245,
          56.969897865390834,
          9.196655891628891,
          -61.410380214122,
          7.380080224120985,
          -28.7220956638285,
          -28.54619073104337,
          -8.765687148326284,
          -6.160456533590615,
          -68.8919450807573,
          46.661328618814025,
          22.397597952824846,
          -64.24098213999893,
          -66.1940564815423,
          -12.941897334633241,
          -66.1940564815423,
          -6.715593152692915,
          -31.86980702811664,
          -40.8103479036977,
          -13.123671887491446,
          7.380080224120985,
          8.013816501473892,
          -49.37558357275066,
          26.58489043511928,
          -2.648528937495261,
          57.24348605303576,
          -34.00372741911257,
          32.92786265316413,
          -5.285787242388068,
          22.036226940145458,
          58.29857033049429,
          -25.220232588615506,
          27.82014446666337,
          -29.385905947912228,
          13.023079670604975,
          -17.94244708915867,
          21.89866924612122,
          35.5946884990431,
          -56.50481532625884,
          -14.523092131093053,
          -32.92786265316415,
          17.05428101145161,
          -7.380080224120985,
          -40.810347903697725,
          0,
          -20.307901967310784,
          32.92786265316415,
          -43.289043201887694,
          -21.846196297767026,
          35.240957542089,
          -24.824554769183358,
          35.46534772100298,
          -40.81034790369768,
          46.29216688624992,
          -39.60820645285758,
          7.380080224120985,
          17.942447089158676,
          -26.481039830374417,
          54.93607119615005,
          21.72900237272643,
          -47.1858008067756,
          66.78446308651675,
          47.18580080677559,
          0,
          -30.23607619085647,
          35.46534772100298,
          -41.31261241635549,
          -9.798243007457405,
          -29.03474421095981,
          35.05301206344153,
          27.917780198254395,
          -42.53514708200879,
          6.160456533590615,
          27.388458790744952,
          30.87107498962892,
          -35.73791185278378,
          8.834710662155677,
          1.8546438750328063,
          -49.37558357275066,
          32.92786265316413,
          1.4839016584330798,
          46.661328618814025,
          -32.927862653164134,
          13.251579275087133,
          43.42621755126606,
          15.101098161385437,
          -34.75591255354138,
          -32.92786265316413,
          -20.307901967310784,
          44.16968451374198,
          53.99620997619598,
          -32.92786265316413,
          -49.37558357275066,
          -30.23607619085647,
          -29.679021404508436,
          -5.6898127164199845,
          18.82178616748158,
          -27.388458790744952,
          18.924644416051244,
          -5.285787242388073,
          38.990994042505456,
          17.942447089158673,
          -25.579270527428488,
          15.101098161385437,
          22.603257476182893,
          19.788140776701695,
          15.001662688841556,
          -6.160456533590615,
          -12.18168168665296,
          29.53878225955809,
          -32.92786265316414,
          12.18168168665296,
          -12.18168168665296,
          -24.38637110180138,
          38.99099404250547,
          21.429828198710492,
          33.85166597420545,
          71.06099573975999,
          3.5861970865443724,
          38.55728393028016,
          0,
          34.6364701948007,
          -52.32974771675874,
          -16.94922423382144,
          13.251579275087124,
          -23.352080562311876,
          -30.090088121236768,
          29.538782259558097,
          -44.169684513742006,
          -3.177239660533641,
          25.220232588615524,
          -10.994777349292129,
          65.14476286706355,
          -35.46534772100297,
          -34.82212051057543,
          -44.169684513742006,
          10.569948457644706,
          41.44826664517961,
          20.55289779157558,
          -3.0891563753365396,
          0,
          -28.831736712839785,
          10.898107512010753,
          -37.85231021361413,
          9.196655891628891,
          34.755912553541364,
          -52.950773426393,
          38.0950231023439,
          9.196655891628897,
          -32.927862653164134,
          -25.906507999514382,
          1.324972269376881,
          27.388458790744945,
          -17.94244708915867,
          -9.196655891628891,
          47.98952018383269,
          -3.0891563753365396,
          -13.986850566788783,
          4.628137537732347,
          60.68590592006639,
          -38.99099404250545,
          -32.92786265316413,
          1.324972269376881,
          29.679021404508436,
          19.22458032044628,
          6.160456533590611,
          1.9521830680865255,
          47.75099042876568,
          14.523092131093058,
          -6.715593152692915,
          -32.92786265316414,
          -53.996209976195985,
          -3.3693686357925823,
          3.3693686357925823,
          43.42621755126606,
          27.079670088195165,
          22.397597952824846,
          41.44826664517961,
          72.83808119713468,
          -24.824554769183358,
          46.29216688624992,
          11.269566284057243,
          24.386371101801394,
          24.386371101801387,
          46.29216688624992,
          -56.969897865390834,
          53.67317404787977,
          0,
          -22.828775034651386,
          -17.942447089158676,
          12.181681686652961,
          -60.685905920066375,
          30.236076190856487,
          -32.92786265316414,
          3.705409306127955,
          -48.57633437499732,
          31.60141278091812,
          -4.1157769859868445,
          4.1157769859868445,
          48.2044690023223,
          46.661328618814025,
          -40.81034790369764,
          -24.824554769183358,
          53.23461684705985,
          27.666361519835664,
          -39.49679443151138,
          -26.481039830374392,
          -40.43532347398004,
          0,
          16.057442260839654,
          0,
          33.961204937082925,
          -4.408640464920765,
          31.776628885945097,
          46.774581738375126,
          42.19754848013323,
          -41.68430345162103,
          -32.92786265316412,
          55.53918372862822,
          -5.285787242388073,
          -3.8328075150827248,
          7.380080224120985,
          -40.810347903697725,
          -37.85231021361412,
          0,
          30.367788104524962,
          -34.04989926367243,
          38.55728393028016,
          53.99620997619598,
          -25.627863837148162,
          -16.734995994930156,
          55.53918372862821,
          -57.243486053035745,
          32.92786265316413,
          6.160456533590615,
          13.986850566788776,
          4.273500455338617,
          25.510148955760236,
          -20.788702525169903,
          -7.763884405677521,
          -23.352080562311876,
          38.99099404250549,
          8.49997467379305,
          23.352080562311897,
          0,
          -38.99099404250545,
          49.659930503247416,
          -44.89487024731449,
          -12.181681686652954,
          -19.224580320446286,
          -53.996209976195985,
          -47.1858008067756,
          7.380080224120985,
          -21.234704134253892,
          0,
          13.986850566788776,
          0.6871122097716791,
          30.09008812123676,
          1.4839016584330798,
          -12.875001559612475,
          2.1816414035514655,
          10.696510735778118,
          -32.927862653164134,
          26.898752880868503,
          -72.83808119713468,
          -17.942447089158676,
          5.285787242388073,
          -18.924644416051233,
          -6.715593152692915,
          -20.695450734063282,
          -26.734564823055052,
          2.1816414035514655,
          -54.52367984093482,
          34.43898930880362,
          -31.088114127665534,
          0,
          -4.6281375377323455,
          -16.81598363951125,
          -7.683981829733958,
          0,
          -16.64146311248337,
          19.224580320446275,
          4.6281375377323455,
          -25.06666106606421,
          -68.89194508075731,
          -9.196655891628897,
          6.715593152692915,
          -45.21142258103931,
          -16.64146311248337,
          9.196655891628891,
          22.949899259748793,
          -45.21142258103931,
          11.26956628405723,
          0,
          -7.380080224120985,
          -5.6898127164199845,
          -12.771242564901438,
          0,
          38.55728393028016,
          -13.251579275087124,
          -19.455602217961054,
          48.2044690023223,
          -47.7509904287657,
          8.189511376946337,
          31.53052416911168,
          48.2044690023223,
          -42.77407610488598,
          52.3297477167588,
          -38.18131779549951,
          -44.169684513742,
          0,
          35.05301206344153,
          -39.36262700162062,
          -13.650419134756985,
          48.57633437499734,
          3.705409306127955,
          -29.034744210959836,
          -29.927372071758466,
          -19.224580320446286,
          48.57633437499734,
          -6.923448914810531,
          -37.63132689865813,
          -38.99099404250545,
          -47.18580080677562,
          17.94244708915866,
          5.6898127164199845,
          8.189511376946342,
          45.211422581039294,
          23.352080562311883,
          -19.45560221796105,
          -21.234704134253892,
          -6.160456533590611,
          0,
          76.29814356982716,
          17.94244708915866,
          26.96897351666366,
          -1.4268525831695587,
          -14.931417178137552,
          -52.32974771675875,
          -2.746475082326106,
          -14.523092131093053,
          -37.63132689865813,
          -10.994777349292129,
          20.69545073406328,
          0,
          37.073073317310396,
          -9.589235728739848,
          -10.483102477017828,
          -9.196655891628891,
          -38.9909940425055,
          -22.397597952824853,
          -42.1975484801332,
          -8.373026674782395,
          -37.42928585974292,
          -32.927862653164134,
          -41.448266645179615,
          57.55126280327039,
          30.487219130460485,
          48.2044690023223,
          8.189511376946337,
          11.70813361653406,
          9.890604941758037,
          47.18580080677559,
          -11.150156592828939,
          32.92786265316414,
          -47.7509904287657,
          40.36453657309737,
          -1.6128711537946898,
          -23.352080562311883,
          -11.44104386876742,
          -12.18168168665295,
          -14.22031221979403,
          31.776628885945097,
          24.386371101801394,
          11.70813361653406,
          4.935203451166515,
          -35.5946884990431,
          40.094185450916854,
          -37.85231021361412,
          5.48038633196813,
          -46.01824621163096,
          -42.19754848013323,
          -37.42928585974292,
          48.57633437499734,
          41.882683702433134,
          -23.352080562311837,
          -9.196655891628897,
          -7.380080224120985,
          8.664135433108067,
          59.92726561090238,
          64.58699386342342,
          -3.0891563753365383,
          22.245668710529635,
          32.92786265316414,
          -26.481039830374392,
          -42.53514708200879,
          42.77407610488597,
          -17.942447089158673,
          -16.057442260839654,
          25.307814140767494,
          -13.251579275087124,
          -9.798243007457405,
          35.34796551935351,
          0,
          -37.85231021361412,
          23.76777858981732,
          30.236076190856487,
          -5.6898127164199845,
          24.998967260202658,
          27.388458790744952,
          -58.8587911283291,
          32.92786265316408,
          -32.92786265316414,
          10.016469322717642,
          -20.55289779157558,
          5.285787242388073,
          33.921915646514975,
          -11.26956628405723,
          5.963187670969326,
          -2.851937567007021,
          -44.89487024731449,
          17.432138084901684,
          32.92786265316415,
          7.900789423839791,
          15.819193947500152,
          41.44826664517961,
          -32.92786265316413,
          53.81736101153215,
          20.30790196731078,
          0,
          21.234704134253892,
          48.57633437499734,
          -42.77407610488597,
          25.90650799951436,
          -44.169684513741984,
          -10.994777349292129,
          -5.046794290775168,
          13.12367188749145,
          68.89194508075727,
          68.89194508075731,
          -44.620736512740024,
          30.408875504792217,
          19.788140776701695,
          36.50647784642547,
          0,
          -13.650419134756977,
          52.329747716758746,
          47.98952018383269,
          -34.75591255354138,
          -17.942447089158676,
          14.523092131093053,
          -44.169684513742055,
          -10.8622878937598,
          25.32632481122052,
          38.6598082540901,
          32.92786265316415,
          -49.37558357275064,
          -55.206381410914325,
          19.224580320446275,
          30.695519823651633,
          -16.64146311248337,
          20.307901967310784,
          -37.42928585974292,
          9.1966558916289,
          9.798243007457405,
          -9.196655891628891,
          -13.251579275087124,
          -75.56793706386405,
          10.198100845623392,
          -32.927862653164134,
          -6.371168015831028,
          -4.628137537732349,
          -5.838523364424373,
          -56.84419599405823,
          20.307901967310777,
          -2.1816414035514655,
          -8.189511376946337,
          0,
          -53.67317404787977,
          32.92786265316408,
          -21.234704134253892,
          7.380080224120985,
          15.90502849211302,
          -37.85231021361413,
          -43.52641858177431,
          -6.160456533590615,
          24.386371101801394,
          -20.695450734063282,
          -38.9909940425055,
          -12.181681686652954,
          32.927862653164134,
          -2.851937567007021,
          -56.84419599405823,
          -14.780364217435094,
          47.98952018383267,
          27.144142305646408,
          -12.18168168665296,
          0,
          -52.32974771675873,
          5.28578724238807,
          -45.21142258103931,
          0,
          -70.18620675450435,
          10.483102477017828,
          76.63671391880357,
          -27.917780198254395,
          -6.715593152692915,
          29.21860624941389,
          25.9065079995144,
          -16.40296798307723,
          -32.927862653164134,
          38.04459022145636,
          13.986850566788776,
          18.669504109061588,
          50.2582397506173,
          56.504815326258814,
          -18.738427636487447,
          -14.523092131093053,
          17.94244708915867,
          -32.92786265316411,
          0,
          -30.695519823651622,
          -37.85231021361412,
          35.240957542089,
          -14.136061798147061,
          -6.160456533590615,
          65.1447628670635,
          12.18168168665296,
          16.057442260839654,
          54.22392228210536,
          -37.0730733173104,
          -16.64146311248337,
          -32.92786265316414,
          -27.66636151983567,
          -43.0898045170044,
          14.274440091701676,
          4.6281375377323455,
          13.251579275087124,
          41.44826664517961,
          -23.82426058289543,
          17.139240533020804,
          13.023079670604975,
          44.169684513742,
          20.307901967310777,
          5.838523364424373,
          32.927862653164134,
          0,
          -46.46198789878022,
          -23.352080562311883,
          -76.122470196792,
          28.354961785324072,
          32.92786265316413,
          -21.234704134253892,
          4.628137537732349,
          44.16968451374199,
          -17.942447089158676,
          34.15524631294035,
          52.329747716758725,
          50.527540151656154,
          16.64146311248337,
          -34.89330255069866,
          59.53445508054011,
          20.854458039578358,
          25.9065079995144,
          67.16292149866358,
          -43.08980451700442,
          -65.1447628670635,
          -5.6898127164199845,
          35.05301206344153,
          -22.60325747618288,
          49.37558357275066,
          3.705409306127955,
          38.99099404250549,
          27.82014446666337,
          66.19405648154228,
          -23.82426058289543,
          -27.388458790744934,
          16.40296798307723,
          50.73489274565668,
          41.44826664517961,
          -3.0891563753365396,
          37.42928585974291,
          -59.53445508054011,
          -6.160456533590615,
          30.695519823651633,
          50.8994636731489,
          68.89194508075731,
          -5.838523364424373,
          29.034744210959836,
          -12.181681686652956,
          28.354961785324072,
          -61.61138659056721,
          -21.234704134253906,
          21.234704134253892,
          22.03622694014543,
          36.50647784642547,
          0,
          0,
          -11.150156592828939,
          -19.45560221796105,
          35.737911852783796,
          6.160456533590615,
          47.18580080677562,
          59.92726561090238,
          -10.994777349292129,
          36.50647784642547,
          58.75826073502444,
          49.659930503247416,
          -29.927372071758466,
          -30.23607619085647,
          -49.659930503247416,
          -21.234704134253892,
          -61.12455660377191,
          51.1441571843773,
          -15.10109816138543,
          24.824554769183358,
          -19.788140776701688,
          -17.94244708915866,
          23.35208056231187,
          -40.810347903697696,
          0,
          37.073073317310424,
          40.810347903697725,
          -31.6654572443245,
          -47.1858008067756,
          -44.169684513742,
          15.101098161385437,
          -12.18168168665296,
          -29.21860624941389,
          78.10941176971403,
          22.397597952824853,
          -16.057442260839654,
          -10.48310247701782,
          22.183676862510776,
          -6.715593152692915,
          31.9843572348941,
          -8.664135433108067,
          -1.6128711537946898,
          -73.61045966596521,
          -6.160456533590615,
          -20.30790196731077,
          14.931417178137561,
          60.68590592006639,
          -16.057442260839654,
          -24.824554769183358,
          -8.834710662155677,
          43.28904320188769,
          -4.115776985986843,
          -41.448266645179615,
          -9.1966558916289,
          40.26081072674037,
          0,
          52.32974771675873,
          29.92737207175847,
          -39.36262700162062,
          -7.900789423839791,
          13.650419134756977,
          35.34796551935351,
          -30.48721913046047,
          44.169684513742006,
          39.49679443151137,
          -44.16968451374196,
          -32.92786265316411,
          -31.825182637227744,
          60.68590592006639,
          -27.388458790744934,
          26.734564823055067,
          -30.367788104524962,
          -16.057442260839654,
          37.073073317310424,
          46.661328618814025,
          54.36281591780597,
          46.774581738375126,
          24.386371101801394,
          32.92786265316414,
          50.8994636731489,
          29.034744210959836,
          -64.58699386342343,
          20.99551625424683,
          20.6954507340633,
          -42.53514708200879,
          -1.2792990249604372,
          -8.042577044354129,
          10.016469322717642,
          50.8994636731489,
          -44.169684513742006,
          29.74488129694223,
          2.746475082326106,
          61.410380214122,
          15.725812822360153,
          -24.149157520429043,
          -24.824554769183333,
          -35.053012063441514,
          58.298570330494265,
          -4.115776985986843,
          -67.88579375972722,
          -85.09692452365954,
          -65.7547397327976,
          22.397597952824853,
          15.512048727561293,
          57.72003299811191,
          45.71840472604885,
          33.61046246499179,
          72.83808119713468,
          13.650419134756977,
          -32.927862653164134,
          25.220232588615513,
          1.324972269376881,
          29.21860624941389,
          58.8587911283291,
          -6.519801751656986,
          -16.94922423382144,
          21.2347041342539,
          32.92786265316413,
          -11.558251258084296,
          -2.746475082326106,
          18.611565005936257,
          -3.0891563753365383,
          0,
          39.49679443151137,
          26.481039830374403,
          14.931417178137561,
          39.78256074028421,
          1.9521830680865255,
          36.76902489880966,
          21.234704134253892,
          20.6954507340633,
          -29.385905947912228,
          42.38214292253403,
          23.352080562311876,
          23.35208056231187,
          -53.5544641164968,
          36.50647784642547,
          -68.05976841202902,
          0,
          4.115776985986843,
          4.443768879358847,
          37.07307331731042,
          -25.220232588615506,
          -21.234704134253892,
          -56.969897865390834,
          32.92786265316417,
          24.642351313556297,
          -52.329747716758774,
          -22.39759795282484,
          -12.181681686652956,
          -27.388458790744934,
          5.285787242388073,
          -17.94244708915867,
          24.386371101801394,
          -35.05301206344154,
          35.240957542089,
          25.90650799951436,
          -31.150630557988567,
          -24.14915752042902,
          -24.96085667698711,
          17.20936594392159,
          36.506477846425426,
          47.98952018383267,
          4.935203451166515,
          41.68430345162106,
          -30.695519823651622,
          5.915821844805735,
          -3.3693686357925823,
          46.01824621163096,
          38.990994042505484,
          58.29857033049429,
          25.90650799951436,
          29.53878225955809,
          -25.579270527428488,
          -15.10109816138543,
          1.4839016584330798,
          -11.558251258084296,
          25.90650799951436,
          -16.532225964861233,
          -27.917780198254384,
          34.43898930880362,
          -2.4721872163439333,
          -17.942447089158676,
          6.715593152692915,
          -43.08980451700442,
          -38.18131779549951,
          -3.0891563753365383,
          -65.57471928825055,
          -19.788140776701688,
          -3.3693686357925823,
          23.35208056231187,
          19.330546516050507,
          24.000449953683404,
          42.197548480133214,
          48.2044690023223,
          50.73489274565668,
          35.46534772100298,
          10.483102477017828,
          42.53514708200878,
          51.1441571843773,
          -3.9692634567194975,
          36.50647784642544,
          47.18580080677559,
          17.942447089158676,
          34.531675134913435,
          68.05976841202902,
          73.85310388616854,
          -36.76902489880967,
          24.14915752042904,
          6.59673829789421,
          -64.58699386342343,
          -41.448266645179615,
          48.57633437499734,
          21.846196297767015,
          -14.523092131093053,
          51.1441571843773,
          -32.927862653164134,
          10.7842978675626,
          8.189511376946337,
          -32.92786265316413,
          47.18580080677562,
          -31.02104083563495,
          63.83464458416822,
          2.851937567007021,
          -6.519801751656986,
          -52.32974771675875,
          -32.927862653164134,
          42.19754848013323,
          -32.927862653164134,
          -9.589235728739848,
          45.71840472604885,
          48.2044690023223,
          -26.34636605765503,
          -6.160456533590615,
          -4.1157769859868445,
          -16.64146311248337,
          6.519801751656986,
          -58.298570330494265,
          44.799219179739104,
          -14.83875062540359,
          -18.738427636487447,
          10.48310247701782,
          -46.01824621163096,
          -6.519801751656986,
          49.89437519877513,
          41.684303451621034,
          -18.669504109061585,
          -52.32974771675872,
          -35.24095754208899,
          10.994777349292129,
          -18.56217832404465,
          -23.35208056231187,
          47.75099042876568,
          1.9521830680865255,
          -25.90650799951436,
          -29.385905947912228,
          -44.16968451374199,
          14.523092131093053,
          47.75099042876568,
          -24.500268850262316,
          10.994777349292129,
          -27.388458790744934,
          -38.99099404250545,
          -30.695519823651622,
          -19.330546516050514,
          -28.722095663828473,
          -50.8994636731489,
          49.659930503247416,
          -28.35496178532406,
          -19.45560221796105,
          47.62163869046318,
          55.807350807299194,
          1.686142077399159,
          -37.303948277983444,
          -31.451632629136736,
          -38.18131779549951,
          48.2044690023223,
          -32.92786265316411,
          56.50481532625883,
          1.8546438750328063,
          -49.37558357275064,
          -42.53514708200879,
          -71.06099573975993,
          -66.1940564815423,
          11.75894976673855,
          32.927862653164134,
          6.160456533590615,
          -48.576334374997366,
          -25.404007819133863,
          0,
          6.715593152692915,
          -44.89487024731449,
          -4.356975005846297,
          -50.8994636731489,
          26.481039830374403,
          7.763884405677521,
          15.322579774365499,
          -1.7663848463315017,
          62.76485330069748,
          -23.352080562311883,
          -32.92786265316413,
          6.371168015831028,
          8.49997467379305,
          48.57633437499734,
          14.523092131093053,
          -38.0950231023439,
          30.87107498962892,
          -56.969897865390834,
          18.82178616748158,
          40.81034790369772,
          23.352080562311883,
          -12.18168168665296,
          25.220232588615524,
          24.998967260202658,
          41.882683702433134,
          15.101098161385437,
          49.37558357275065,
          49.659930503247416,
          13.650419134756977,
          59.53445508054011,
          -44.16968451374199,
          -4.115776985986843,
          23.352080562311883,
          26.481039830374403,
          -32.92786265316414,
          30.87107498962892,
          5.6898127164199845,
          -56.504815326258814,
          9.671769697334895,
          -15.512048727561277,
          21.729002372726434,
          2.3178496429030178,
          -51.1441571843773,
          35.46534772100298,
          62.76485330069748,
          39.49679443151137,
          -7.900789423839791,
          -60.685905920066375,
          59.92726561090238,
          -19.45560221796105,
          50.09098836384004,
          30.871074989628937,
          -21.234704134253903,
          6.519801751656986,
          47.98952018383269,
          -24.38637110180138,
          3.0891563753365383,
          1.324972269376881,
          55.53918372862821,
          10.994777349292136,
          56.50481532625878,
          16.532225964861237,
          9.1966558916289,
          37.85231021361413,
          17.94244708915868,
          -9.798243007457405,
          -26.734564823055052,
          29.808126632224937,
          -42.43622978853501,
          64.00539199771832,
          -48.886775290419195,
          26.26283906417684,
          17.94244708915866,
          12.18168168665296,
          -19.788140776701688,
          61.1245566037719,
          62.76485330069748,
          0,
          -45.502242788829506,
          -9.196655891628891,
          -16.057442260839654,
          -36.50647784642544,
          12.18168168665295,
          53.5544641164968,
          -31.02104083563495,
          29.927372071758477,
          14.523092131093057,
          55.206381410914325,
          8.664135433108067
         ],
         "xaxis": "x",
         "yaxis": "y"
        }
       ],
       "layout": {
        "barmode": "relative",
        "legend": {
         "tracegroupgap": 0
        },
        "margin": {
         "t": 60
        },
        "template": {
         "data": {
          "bar": [
           {
            "error_x": {
             "color": "#2a3f5f"
            },
            "error_y": {
             "color": "#2a3f5f"
            },
            "marker": {
             "line": {
              "color": "#E5ECF6",
              "width": 0.5
             }
            },
            "type": "bar"
           }
          ],
          "barpolar": [
           {
            "marker": {
             "line": {
              "color": "#E5ECF6",
              "width": 0.5
             }
            },
            "type": "barpolar"
           }
          ],
          "carpet": [
           {
            "aaxis": {
             "endlinecolor": "#2a3f5f",
             "gridcolor": "white",
             "linecolor": "white",
             "minorgridcolor": "white",
             "startlinecolor": "#2a3f5f"
            },
            "baxis": {
             "endlinecolor": "#2a3f5f",
             "gridcolor": "white",
             "linecolor": "white",
             "minorgridcolor": "white",
             "startlinecolor": "#2a3f5f"
            },
            "type": "carpet"
           }
          ],
          "choropleth": [
           {
            "colorbar": {
             "outlinewidth": 0,
             "ticks": ""
            },
            "type": "choropleth"
           }
          ],
          "contour": [
           {
            "colorbar": {
             "outlinewidth": 0,
             "ticks": ""
            },
            "colorscale": [
             [
              0,
              "#0d0887"
             ],
             [
              0.1111111111111111,
              "#46039f"
             ],
             [
              0.2222222222222222,
              "#7201a8"
             ],
             [
              0.3333333333333333,
              "#9c179e"
             ],
             [
              0.4444444444444444,
              "#bd3786"
             ],
             [
              0.5555555555555556,
              "#d8576b"
             ],
             [
              0.6666666666666666,
              "#ed7953"
             ],
             [
              0.7777777777777778,
              "#fb9f3a"
             ],
             [
              0.8888888888888888,
              "#fdca26"
             ],
             [
              1,
              "#f0f921"
             ]
            ],
            "type": "contour"
           }
          ],
          "contourcarpet": [
           {
            "colorbar": {
             "outlinewidth": 0,
             "ticks": ""
            },
            "type": "contourcarpet"
           }
          ],
          "heatmap": [
           {
            "colorbar": {
             "outlinewidth": 0,
             "ticks": ""
            },
            "colorscale": [
             [
              0,
              "#0d0887"
             ],
             [
              0.1111111111111111,
              "#46039f"
             ],
             [
              0.2222222222222222,
              "#7201a8"
             ],
             [
              0.3333333333333333,
              "#9c179e"
             ],
             [
              0.4444444444444444,
              "#bd3786"
             ],
             [
              0.5555555555555556,
              "#d8576b"
             ],
             [
              0.6666666666666666,
              "#ed7953"
             ],
             [
              0.7777777777777778,
              "#fb9f3a"
             ],
             [
              0.8888888888888888,
              "#fdca26"
             ],
             [
              1,
              "#f0f921"
             ]
            ],
            "type": "heatmap"
           }
          ],
          "heatmapgl": [
           {
            "colorbar": {
             "outlinewidth": 0,
             "ticks": ""
            },
            "colorscale": [
             [
              0,
              "#0d0887"
             ],
             [
              0.1111111111111111,
              "#46039f"
             ],
             [
              0.2222222222222222,
              "#7201a8"
             ],
             [
              0.3333333333333333,
              "#9c179e"
             ],
             [
              0.4444444444444444,
              "#bd3786"
             ],
             [
              0.5555555555555556,
              "#d8576b"
             ],
             [
              0.6666666666666666,
              "#ed7953"
             ],
             [
              0.7777777777777778,
              "#fb9f3a"
             ],
             [
              0.8888888888888888,
              "#fdca26"
             ],
             [
              1,
              "#f0f921"
             ]
            ],
            "type": "heatmapgl"
           }
          ],
          "histogram": [
           {
            "marker": {
             "colorbar": {
              "outlinewidth": 0,
              "ticks": ""
             }
            },
            "type": "histogram"
           }
          ],
          "histogram2d": [
           {
            "colorbar": {
             "outlinewidth": 0,
             "ticks": ""
            },
            "colorscale": [
             [
              0,
              "#0d0887"
             ],
             [
              0.1111111111111111,
              "#46039f"
             ],
             [
              0.2222222222222222,
              "#7201a8"
             ],
             [
              0.3333333333333333,
              "#9c179e"
             ],
             [
              0.4444444444444444,
              "#bd3786"
             ],
             [
              0.5555555555555556,
              "#d8576b"
             ],
             [
              0.6666666666666666,
              "#ed7953"
             ],
             [
              0.7777777777777778,
              "#fb9f3a"
             ],
             [
              0.8888888888888888,
              "#fdca26"
             ],
             [
              1,
              "#f0f921"
             ]
            ],
            "type": "histogram2d"
           }
          ],
          "histogram2dcontour": [
           {
            "colorbar": {
             "outlinewidth": 0,
             "ticks": ""
            },
            "colorscale": [
             [
              0,
              "#0d0887"
             ],
             [
              0.1111111111111111,
              "#46039f"
             ],
             [
              0.2222222222222222,
              "#7201a8"
             ],
             [
              0.3333333333333333,
              "#9c179e"
             ],
             [
              0.4444444444444444,
              "#bd3786"
             ],
             [
              0.5555555555555556,
              "#d8576b"
             ],
             [
              0.6666666666666666,
              "#ed7953"
             ],
             [
              0.7777777777777778,
              "#fb9f3a"
             ],
             [
              0.8888888888888888,
              "#fdca26"
             ],
             [
              1,
              "#f0f921"
             ]
            ],
            "type": "histogram2dcontour"
           }
          ],
          "mesh3d": [
           {
            "colorbar": {
             "outlinewidth": 0,
             "ticks": ""
            },
            "type": "mesh3d"
           }
          ],
          "parcoords": [
           {
            "line": {
             "colorbar": {
              "outlinewidth": 0,
              "ticks": ""
             }
            },
            "type": "parcoords"
           }
          ],
          "pie": [
           {
            "automargin": true,
            "type": "pie"
           }
          ],
          "scatter": [
           {
            "marker": {
             "colorbar": {
              "outlinewidth": 0,
              "ticks": ""
             }
            },
            "type": "scatter"
           }
          ],
          "scatter3d": [
           {
            "line": {
             "colorbar": {
              "outlinewidth": 0,
              "ticks": ""
             }
            },
            "marker": {
             "colorbar": {
              "outlinewidth": 0,
              "ticks": ""
             }
            },
            "type": "scatter3d"
           }
          ],
          "scattercarpet": [
           {
            "marker": {
             "colorbar": {
              "outlinewidth": 0,
              "ticks": ""
             }
            },
            "type": "scattercarpet"
           }
          ],
          "scattergeo": [
           {
            "marker": {
             "colorbar": {
              "outlinewidth": 0,
              "ticks": ""
             }
            },
            "type": "scattergeo"
           }
          ],
          "scattergl": [
           {
            "marker": {
             "colorbar": {
              "outlinewidth": 0,
              "ticks": ""
             }
            },
            "type": "scattergl"
           }
          ],
          "scattermapbox": [
           {
            "marker": {
             "colorbar": {
              "outlinewidth": 0,
              "ticks": ""
             }
            },
            "type": "scattermapbox"
           }
          ],
          "scatterpolar": [
           {
            "marker": {
             "colorbar": {
              "outlinewidth": 0,
              "ticks": ""
             }
            },
            "type": "scatterpolar"
           }
          ],
          "scatterpolargl": [
           {
            "marker": {
             "colorbar": {
              "outlinewidth": 0,
              "ticks": ""
             }
            },
            "type": "scatterpolargl"
           }
          ],
          "scatterternary": [
           {
            "marker": {
             "colorbar": {
              "outlinewidth": 0,
              "ticks": ""
             }
            },
            "type": "scatterternary"
           }
          ],
          "surface": [
           {
            "colorbar": {
             "outlinewidth": 0,
             "ticks": ""
            },
            "colorscale": [
             [
              0,
              "#0d0887"
             ],
             [
              0.1111111111111111,
              "#46039f"
             ],
             [
              0.2222222222222222,
              "#7201a8"
             ],
             [
              0.3333333333333333,
              "#9c179e"
             ],
             [
              0.4444444444444444,
              "#bd3786"
             ],
             [
              0.5555555555555556,
              "#d8576b"
             ],
             [
              0.6666666666666666,
              "#ed7953"
             ],
             [
              0.7777777777777778,
              "#fb9f3a"
             ],
             [
              0.8888888888888888,
              "#fdca26"
             ],
             [
              1,
              "#f0f921"
             ]
            ],
            "type": "surface"
           }
          ],
          "table": [
           {
            "cells": {
             "fill": {
              "color": "#EBF0F8"
             },
             "line": {
              "color": "white"
             }
            },
            "header": {
             "fill": {
              "color": "#C8D4E3"
             },
             "line": {
              "color": "white"
             }
            },
            "type": "table"
           }
          ]
         },
         "layout": {
          "annotationdefaults": {
           "arrowcolor": "#2a3f5f",
           "arrowhead": 0,
           "arrowwidth": 1
          },
          "coloraxis": {
           "colorbar": {
            "outlinewidth": 0,
            "ticks": ""
           }
          },
          "colorscale": {
           "diverging": [
            [
             0,
             "#8e0152"
            ],
            [
             0.1,
             "#c51b7d"
            ],
            [
             0.2,
             "#de77ae"
            ],
            [
             0.3,
             "#f1b6da"
            ],
            [
             0.4,
             "#fde0ef"
            ],
            [
             0.5,
             "#f7f7f7"
            ],
            [
             0.6,
             "#e6f5d0"
            ],
            [
             0.7,
             "#b8e186"
            ],
            [
             0.8,
             "#7fbc41"
            ],
            [
             0.9,
             "#4d9221"
            ],
            [
             1,
             "#276419"
            ]
           ],
           "sequential": [
            [
             0,
             "#0d0887"
            ],
            [
             0.1111111111111111,
             "#46039f"
            ],
            [
             0.2222222222222222,
             "#7201a8"
            ],
            [
             0.3333333333333333,
             "#9c179e"
            ],
            [
             0.4444444444444444,
             "#bd3786"
            ],
            [
             0.5555555555555556,
             "#d8576b"
            ],
            [
             0.6666666666666666,
             "#ed7953"
            ],
            [
             0.7777777777777778,
             "#fb9f3a"
            ],
            [
             0.8888888888888888,
             "#fdca26"
            ],
            [
             1,
             "#f0f921"
            ]
           ],
           "sequentialminus": [
            [
             0,
             "#0d0887"
            ],
            [
             0.1111111111111111,
             "#46039f"
            ],
            [
             0.2222222222222222,
             "#7201a8"
            ],
            [
             0.3333333333333333,
             "#9c179e"
            ],
            [
             0.4444444444444444,
             "#bd3786"
            ],
            [
             0.5555555555555556,
             "#d8576b"
            ],
            [
             0.6666666666666666,
             "#ed7953"
            ],
            [
             0.7777777777777778,
             "#fb9f3a"
            ],
            [
             0.8888888888888888,
             "#fdca26"
            ],
            [
             1,
             "#f0f921"
            ]
           ]
          },
          "colorway": [
           "#636efa",
           "#EF553B",
           "#00cc96",
           "#ab63fa",
           "#FFA15A",
           "#19d3f3",
           "#FF6692",
           "#B6E880",
           "#FF97FF",
           "#FECB52"
          ],
          "font": {
           "color": "#2a3f5f"
          },
          "geo": {
           "bgcolor": "white",
           "lakecolor": "white",
           "landcolor": "#E5ECF6",
           "showlakes": true,
           "showland": true,
           "subunitcolor": "white"
          },
          "hoverlabel": {
           "align": "left"
          },
          "hovermode": "closest",
          "mapbox": {
           "style": "light"
          },
          "paper_bgcolor": "white",
          "plot_bgcolor": "#E5ECF6",
          "polar": {
           "angularaxis": {
            "gridcolor": "white",
            "linecolor": "white",
            "ticks": ""
           },
           "bgcolor": "#E5ECF6",
           "radialaxis": {
            "gridcolor": "white",
            "linecolor": "white",
            "ticks": ""
           }
          },
          "scene": {
           "xaxis": {
            "backgroundcolor": "#E5ECF6",
            "gridcolor": "white",
            "gridwidth": 2,
            "linecolor": "white",
            "showbackground": true,
            "ticks": "",
            "zerolinecolor": "white"
           },
           "yaxis": {
            "backgroundcolor": "#E5ECF6",
            "gridcolor": "white",
            "gridwidth": 2,
            "linecolor": "white",
            "showbackground": true,
            "ticks": "",
            "zerolinecolor": "white"
           },
           "zaxis": {
            "backgroundcolor": "#E5ECF6",
            "gridcolor": "white",
            "gridwidth": 2,
            "linecolor": "white",
            "showbackground": true,
            "ticks": "",
            "zerolinecolor": "white"
           }
          },
          "shapedefaults": {
           "line": {
            "color": "#2a3f5f"
           }
          },
          "ternary": {
           "aaxis": {
            "gridcolor": "white",
            "linecolor": "white",
            "ticks": ""
           },
           "baxis": {
            "gridcolor": "white",
            "linecolor": "white",
            "ticks": ""
           },
           "bgcolor": "#E5ECF6",
           "caxis": {
            "gridcolor": "white",
            "linecolor": "white",
            "ticks": ""
           }
          },
          "title": {
           "x": 0.05
          },
          "xaxis": {
           "automargin": true,
           "gridcolor": "white",
           "linecolor": "white",
           "ticks": "",
           "title": {
            "standoff": 15
           },
           "zerolinecolor": "white",
           "zerolinewidth": 2
          },
          "yaxis": {
           "automargin": true,
           "gridcolor": "white",
           "linecolor": "white",
           "ticks": "",
           "title": {
            "standoff": 15
           },
           "zerolinecolor": "white",
           "zerolinewidth": 2
          }
         }
        },
        "xaxis": {
         "anchor": "y",
         "domain": [
          0,
          1
         ],
         "title": {
          "text": "angleShot"
         }
        },
        "yaxis": {
         "anchor": "x",
         "domain": [
          0,
          1
         ],
         "title": {
          "text": "count"
         }
        }
       }
      },
      "text/html": [
       "<div>\n",
       "        \n",
       "        \n",
       "            <div id=\"c77d1020-693a-4a55-9ddd-c0853de4befc\" class=\"plotly-graph-div\" style=\"height:525px; width:100%;\"></div>\n",
       "            <script type=\"text/javascript\">\n",
       "                require([\"plotly\"], function(Plotly) {\n",
       "                    window.PLOTLYENV=window.PLOTLYENV || {};\n",
       "                    \n",
       "                if (document.getElementById(\"c77d1020-693a-4a55-9ddd-c0853de4befc\")) {\n",
       "                    Plotly.newPlot(\n",
       "                        'c77d1020-693a-4a55-9ddd-c0853de4befc',\n",
       "                        [{\"alignmentgroup\": \"True\", \"bingroup\": \"x\", \"hovertemplate\": \"angleShot=%{x}<br>count=%{y}<extra></extra>\", \"legendgroup\": \"\", \"marker\": {\"color\": \"#636efa\"}, \"name\": \"\", \"offsetgroup\": \"\", \"orientation\": \"v\", \"showlegend\": false, \"type\": \"histogram\", \"x\": [-31.363302213950075, -49.37558357275064, -49.02352384274162, 3.0891563753365396, 11.269566284057243, -44.169684513742055, -59.92726561090238, -58.8587911283291, -16.40296798307723, 50.2582397506173, -12.771242564901438, -20.94104797543842, -1.5457014988888864, -34.2824209358808, -82.66767282530614, -73.61045966596521, -55.53918372862822, -34.2824209358808, -28.35496178532406, 0.0, -24.38637110180138, -56.504815326258814, 6.160456533590615, 45.71840472604885, 19.330546516050507, 29.385905947912228, -35.05301206344154, 20.55289779157558, 55.95894877696031, 27.91778019825439, -37.85231021361412, 62.76485330069747, 37.073073317310424, -4.443768879358847, -38.99099404250545, 32.92786265316414, 18.611565005936257, 8.189511376946337, -15.512048727561284, 32.92786265316417, 43.28904320188769, -26.481039830374417, 8.499974673793053, 4.628137537732349, 29.92737207175847, 16.40296798307723, -47.62163869046318, -1.4839016584330798, 13.48808925715855, 23.824260582895427, -30.23607619085647, 11.150156592828946, -28.831736712839785, 13.48808925715855, -38.6598082540901, 19.934020408817528, -35.46534772100297, -16.532225964861233, 7.380080224120985, 32.927862653164134, -30.236076190856487, -54.7121713984186, -82.35257158983939, -9.798243007457405, 39.49679443151137, -9.196655891628899, 40.810347903697696, -45.02479263346477, -52.32974771675872, 36.915270756100306, -27.079670088195172, 17.942447089158676, 53.67317404787977, 59.92726561090233, 52.32974771675876, 30.236076190856487, -12.306022008799285, -14.523092131093053, -39.23380878189716, 26.481039830374417, 64.58699386342342, -65.7547397327976, -52.329747716758746, -55.5391837286282, 65.1447628670635, -17.942447089158676, -4.273500455338617, -24.824554769183358, 48.576334374997366, 52.32974771675875, 20.6954507340633, -1.1967884362849743, 14.523092131093053, 27.388458790744952, -3.3693686357925823, 52.329747716758725, -34.893302550698664, -65.41513114188795, 22.603257476182886, -2.55732376012029, 61.1245566037719, 17.94244708915867, -32.92786265316411, -21.729002372726416, -47.1858008067756, -15.101098161385437, 3.474407367531663, -12.18168168665296, 37.073073317310424, -20.307901967310784, 30.23607619085648, -22.39759795282484, -48.576334374997366, 37.85231021361413, -31.86980702811664, -21.729002372726416, -25.404007819133863, 2.9658153093911825, -9.196655891628891, -37.85231021361412, 41.684303451621034, 1.7663848463315017, 35.05301206344153, 40.094185450916854, -5.778119069126655, 10.648347796326064, 52.32974771675877, 24.06715461460875, -20.854458039578347, -58.8587911283291, -20.307901967310777, -32.927862653164134, 37.243856086421374, 52.329747716758746, 50.73489274565668, -22.397597952824853, 17.94244708915868, 37.073073317310424, 37.35323798643282, -60.365082096815655, -42.53514708200879, 71.69153172110528, 32.92786265316413, 3.8998440419746827, 62.76485330069748, -28.722095663828473, 40.81034790369771, 17.94244708915867, 38.990994042505484, -32.92786265316414, 1.5457014988888864, -22.036226940145454, 17.94244708915866, -23.35208056231187, 0.0, 17.361524083798738, 21.2347041342539, -39.49679443151138, -25.220232588615524, -17.139240533020793, -5.285787242388068, 16.057442260839654, 26.481039830374403, -49.894375198775116, -7.763884405677521, -21.464617106809328, -24.252402661467894, 8.189511376946337, 56.12434608694927, 42.77407610488599, 4.628137537732349, 42.19754848013322, -10.7842978675626, -29.034744210959836, -50.8994636731489, 27.917780198254395, 6.715593152692915, 6.59673829789421, 3.223190216249565, 5.285787242388068, 19.45560221796105, 0.0, 6.371168015831028, 26.96897351666366, -29.03474421095981, 17.94244708915867, -1.5457014988888864, -32.92786265316414, -12.18168168665296, -24.386371101801394, 61.87539543870606, -44.169684513741984, 27.38845879074495, -6.160456533590611, 0.0, -41.448266645179615, -10.277953356677108, 40.810347903697725, 14.780364217435102, -21.234704134253892, 17.05428101145161, 10.7842978675626, 26.734564823055067, -52.32974771675873, -40.36453657309737, 25.90650799951436, 27.61302782308448, 44.89487024731449, -10.198100845623392, -14.523092131093053, 50.2582397506173, 28.35496178532405, -32.04787293980783, -4.6281375377323455, 49.89437519877513, -27.917780198254384, 7.380080224120985, 25.906507999514385, 20.854458039578358, 67.61986494804042, 10.48310247701782, -2.648528937495261, -76.95923896610331, -30.23607619085647, -52.32974771675875, -26.481039830374392, -41.88268370243314, 23.352080562311883, 17.942447089158676, -40.09418545091686, -59.92726561090232, 16.24763157278565, 59.53445508054011, -17.94244708915866, 42.77407610488597, -9.89060494175803, 16.40296798307724, 62.76485330069753, -55.807350807299194, 59.92726561090238, -59.92726561090232, -19.78814077670171, 17.942447089158676, 58.29857033049429, 65.57471928825053, -17.26823023887337, 41.882683702433134, 34.755912553541364, -8.49997467379305, 29.034744210959836, -40.810347903697725, 9.79824300745741, -14.274440091701669, -17.94244708915867, -30.871074989628912, -28.54619073104337, -19.45560221796105, -32.92786265316412, 32.92786265316413, -13.488089257158542, 1.686142077399159, 32.92786265316413, -30.090088121236768, 20.30790196731077, 37.63132689865813, -10.483102477017828, 32.92786265316413, 32.927862653164134, 13.12367188749145, 24.38637110180139, -14.523092131093053, 23.898504137359094, 46.01824621163096, 47.18580080677559, 17.20936594392159, -15.512048727561293, 56.50481532625883, 0.0, -28.35496178532406, -4.115776985986843, -27.388458790744934, -52.32974771675874, 13.986850566788776, 25.0666610660642, 17.432138084901684, 37.30394827798342, 30.325339056506383, -16.05744226083966, -32.92786265316413, -6.160456533590615, 23.352080562311897, 23.898504137359094, -16.88679112394405, 0.0, 6.160456533590615, -13.488089257158542, -24.06715461460875, 44.89487024731449, -15.512048727561293, -31.02104083563495, 43.28904320188769, 4.356975005846295, -8.373026674782395, 0.650951607572517, 16.057442260839654, 7.380080224120985, -7.380080224120985, -54.52367984093483, -40.09418545091686, 21.72900237272643, 6.715593152692915, -41.448266645179615, 54.52367984093482, -22.24566871052963, -49.02352384274162, 15.101098161385437, -59.92726561090238, -45.71840472604885, -4.935203451166515, 56.969897865390834, -35.24095754208899, -18.611565005936264, 5.285787242388068, 38.990994042505484, -20.307901967310762, 15.101098161385437, 19.788140776701688, -17.942447089158666, 41.31261241635549, 40.094185450916854, -60.68590592006639, -13.986850566788776, -58.29857033049428, 21.729002372726434, -5.838523364424373, -25.90650799951436, 49.37558357275065, 0.0, 20.30790196731078, -27.917780198254395, 13.801353361031603, 19.224580320446275, -37.56199872856741, -40.8103479036977, -5.6898127164199845, 34.755912553541364, -47.7509904287657, 2.1816414035514655, -17.942447089158673, -35.24095754208899, 0.0, 60.68590592006639, 6.160456533590611, 48.57633437499734, 64.24098213999892, -41.448266645179615, 4.6281375377323455, -2.55732376012029, -19.788140776701688, 35.46534772100298, 19.788140776701702, -20.695450734063282, -52.329747716758746, 39.49679443151137, -28.35496178532406, -17.942447089158673, 38.990994042505456, -3.0891563753365396, 32.92786265316414, 41.684303451621034, -18.56217832404465, 10.48310247701782, -35.24095754208899, -8.49997467379305, -24.824554769183333, -14.523092131093053, 22.183676862510776, 36.07601155636859, 45.211422581039294, 46.01824621163095, 8.593016541030497, 4.1157769859868445, -7.380080224120985, 46.29216688624992, -10.483102477017828, -42.19754848013323, 16.532225964861237, -22.03622694014543, -14.523092131093053, 35.05301206344153, 0.0, 50.8994636731489, -9.531132158346363, -36.50647784642544, -19.05474993151104, -42.19754848013323, -77.56043798115343, 32.927862653164134, 31.021040835634945, -2.0605466502542913, -21.729002372726416, 35.05301206344153, 27.388458790744952, 26.481039830374403, 43.52641858177431, -7.763884405677521, 65.57471928825053, -16.734995994930156, -23.35208056231189, -3.223190216249565, 32.92786265316415, 44.169684513742, -62.76485330069747, 29.92737207175847, 39.49679443151137, 31.60141278091812, -50.25823975061727, -7.900789423839791, 34.15524631294035, 20.99551625424683, 25.220232588615513, -3.3693686357925823, 51.237584800597276, 13.419673615513869, 24.149157520429036, -47.18580080677554, 21.234704134253892, 32.92786265316413, 34.82212051057543, 41.882683702433134, -18.669504109061585, 17.942447089158676, 20.94104797543841, 26.734564823055067, 60.68590592006639, 27.91778019825439, 41.882683702433134, 27.917780198254395, 27.917780198254395, -49.02352384274162, 7.099184168725565, 37.852310213614125, 41.44826664517961, 32.92786265316415, 31.6654572443245, 68.8919450807573, -8.189511376946337, 4.115776985986843, 24.386371101801394, -53.996209976195985, -1.3740268396097135, 3.3693686357925823, 28.354961785324072, -29.927372071758466, -24.824554769183358, 15.101098161385437, -50.734892745656694, -14.523092131093053, -30.871074989628912, -30.48721913046047, 8.664135433108067, -39.49679443151138, -10.7842978675626, -17.942447089158684, -10.994777349292129, 11.558251258084296, 25.220232588615513, 16.40296798307723, 2.4721872163439333, 25.9065079995144, 24.824554769183358, -29.03474421095981, 4.443768879358847, -20.307901967310777, 5.915821844805735, -8.49997467379305, -4.356975005846297, -36.35049406855038, 43.0898045170044, 15.512048727561293, 47.54046740461034, 42.77407610488599, 40.810347903697725, -12.694496308668345, 10.696510735778118, 14.931417178137561, 7.763884405677521, 32.92786265316415, -14.523092131093053, -1.7663848463315017, 23.824260582895427, -28.07248693585297, 15.322579774365499, -7.380080224120985, -47.1858008067756, -32.92786265316414, -23.352080562311894, -9.589235728739848, 35.737911852783796, 55.206381410914325, 19.788140776701688, 17.94244708915866, -23.352080562311876, 56.969897865390834, 42.77407610488599, 12.635429180890839, 0.0, 30.23607619085648, -9.798243007457405, 25.9065079995144, 38.1813177954995, 0.0, -24.998967260202665, 27.917780198254395, -10.48310247701782, -43.08980451700442, 9.196655891628891, 66.78446308651675, -48.576334374997366, -9.1966558916289, -7.631615538405302, 30.236076190856487, -42.77407610488598, 3.223190216249565, 21.846196297767015, -10.016469322717642, -27.388458790744934, -32.92786265316413, 12.18168168665295, -17.942447089158676, 6.160456533590615, -12.181681686652954, 44.16968451374198, 21.846196297767015, -17.94244708915867, -26.734564823055067, -65.1447628670635, 27.388458790744952, -35.737911852783796, -32.92786265316412, -39.49679443151138, -13.123671887491446, -46.46198789878022, 27.61302782308448, -16.05744226083966, 0.0, 21.234704134253892, 10.696510735778118, 14.523092131093053, 29.92737207175847, 30.786888492358944, 4.776752186165459, 59.92726561090233, 27.388458790744952, -43.289043201887694, -45.502242788829506, -38.72312897706813, -9.196655891628891, -43.08980451700442, 31.45163262913673, 2.3178496429030178, 68.8919450807573, -32.927862653164134, 62.764853300697446, 18.738427636487454, -11.26956628405723, 71.99182748898198, 44.169684513742, -29.03474421095981, -15.10109816138543, 20.69545073406328, 0.0, -12.694496308668345, 3.223190216249565, 34.35642890636523, -17.20936594392158, 25.510148955760236, 74.31798454009592, 28.354961785324072, 29.927372071758484, 43.28904320188769, -23.8985041373591, 39.36262700162062, 29.034744210959836, 49.8943751987751, -11.364200102718739, -41.68430345162106, 39.49679443151137, -16.64146311248337, 16.188646460058553, 15.512048727561284, -21.234704134253906, -27.388458790744934, 31.86980702811664, -10.994777349292129, 52.32974771675876, 43.0898045170044, 15.322579774365499, 9.196655891628897, -41.68430345162106, 43.60281897270363, 18.82178616748158, 52.950773426393006, 11.643431498761688, -2.851937567007021, 3.3693686357925823, 17.942447089158676, -14.523092131093053, -58.29857033049434, 30.23607619085648, 56.969897865390834, -42.19754848013323, -59.92726561090238, -14.274440091701669, 34.89330255069864, 31.45163262913673, 2.9658153093911825, 19.45560221796105, -17.94244708915866, -40.81034790369768, 0.0, -3.0891563753365383, -32.92786265316413, 7.900789423839791, 54.93607119615005, 27.917780198254395, 44.89487024731449, 1.3740268396097135, -22.828775034651386, 44.169684513742, 7.631615538405302, -17.318344263916956, 36.915270756100306, -25.906507999514385, -14.523092131093053, 26.96897351666366, 28.722095663828487, -32.927862653164134, -7.380080224120985, -26.481039830374392, -17.94244708915868, 0.0, 38.36282618129002, 4.6281375377323455, -30.23607619085647, -52.329747716758746, -25.906507999514385, 49.37558357275065, -23.82426058289543, 35.05301206344153, 13.48808925715855, -17.318344263916956, 65.41513114188795, 19.45560221796105, 7.380080224120985, -30.695519823651622, -12.181681686652954, 32.927862653164134, -46.66132861881403, -30.487219130460485, 52.329747716758725, 34.35642890636523, 10.994777349292129, 41.684303451621034, 11.643431498761688, -4.628137537732349, -35.73791185278378, -27.388458790744934, -32.927862653164134, -5.6898127164199845, -25.510148955760247, 20.55289779157558, -9.196655891628897, -17.94244708915867, 8.884677087365912, 8.189511376946337, 37.85231021361413, -41.31261241635549, 40.26081072674037, 17.26823023887338, -1.4839016584330798, -9.196655891628891, 0.0, 40.810347903697725, -40.09418545091686, -2.648528937495261, -39.49679443151138, -16.64146311248337, -15.001662688841549, -69.81419699053515, -36.50647784642545, 49.89437519877513, -1.7663848463315017, 31.363302213950067, 29.927372071758477, 9.53113215834637, 0.0, -51.1441571843773, -6.160456533590615, -40.81034790369768, 23.02549200852804, -48.57633437499734, 29.034744210959825, -52.32974771675873, -8.499974673793053, -47.18580080677554, 39.49679443151137, 10.016469322717642, 27.388458790744934, -29.538782259558072, 9.196655891628891, 65.7547397327976, 41.882683702433134, -9.1966558916289, 38.99099404250545, 32.128583787625736, 32.92786265316413, 8.884677087365912, 47.62163869046318, 24.386371101801394, -36.76902489880967, 26.734564823055056, -3.0891563753365383, 56.50481532625883, 30.487219130460485, 55.95894877696031, -23.352080562311883, -18.82178616748157, 35.05301206344153, -30.236076190856487, -22.60325747618288, -32.92786265316411, -16.057442260839654, 27.079670088195165, 6.923448914810531, -39.912749354494395, 34.89330255069864, -23.352080562311883, 49.742934868529375, -23.352080562311876, 41.882683702433134, -23.352080562311894, -23.82426058289543, 18.985656693189377, -18.669504109061585, 7.380080224120985, 47.62163869046318, -14.22031221979403, 28.35496178532405, -4.6281375377323455, 6.715593152692915, 44.89487024731449, 51.237584800597276, -44.16968451374199, -6.16045653359061, 35.737911852783796, -50.8994636731489, 4.6281375377323455, 0.0, -35.46534772100297, -11.558251258084296, 3.8998440419746827, -34.43898930880363, -28.606435096765008, 20.307901967310784, 17.94244708915866, -30.48721913046047, -32.92786265316415, 68.89194508075731, 30.596009467062675, -4.935203451166515, 20.307901967310784, 0.0, -2.648528937495261, -42.53514708200879, 19.934020408817528, 18.44982955486508, 14.13606179814707, 28.65345298919637, 0.0, -50.52754015165616, 47.18580080677559, -12.18168168665295, -45.502242788829484, 14.780364217435102, 15.90502849211302, -4.935203451166515, 5.104498685313563, -27.66636151983567, 6.16045653359061, 23.352080562311837, 47.18580080677562, -21.234704134253892, 48.2044690023223, -54.7121713984186, -22.397597952824853, -55.206381410914325, -31.451632629136736, 4.628137537732349, -50.8994636731489, 8.834710662155677, 17.942447089158676, 53.67317404787977, 44.16968451374199, 26.481039830374403, 16.641463112483383, -5.28578724238807, -56.969897865390834, 41.44826664517961, -53.996209976195985, -17.94244708915867, 5.48038633196813, -52.32974771675868, 0.0, -32.92786265316413, 21.72900237272643, -13.123671887491446, 43.0898045170044, -7.380080224120985, -53.45502767717747, -29.538782259558097, -55.95894877696032, -13.650419134756977, -4.628137537732347, 3.369368635792581, -9.798243007457405, -10.016469322717642, 24.82455476918335, -29.03474421095983, 21.2347041342539, 30.695519823651622, 31.776628885945097, 31.6654572443245, 15.101098161385437, -16.40296798307723, 45.502242788829484, -13.650419134756977, -14.523092131093053, -10.483102477017828, 14.780364217435102, 49.023523842741604, -13.251579275087124, 49.659930503247416, -1.4268525831695587, 27.388458790744952, 31.6654572443245, 38.1813177954995, -17.942447089158673, 5.48038633196813, -52.32974771675873, 54.93607119615005, 24.642351313556297, 27.82014446666337, 70.3872452342557, 24.14915752042904, 52.32974771675873, 27.388458790744952, 42.197548480133214, -37.303948277983444, 9.196655891628899, 19.455602217961058, 55.53918372862821, -31.6654572443245, -19.330546516050514, 29.034744210959836, 40.81034790369772, 11.558251258084296, -4.273500455338617, -34.89330255069866, -3.705409306127955, -34.10021125850712, -8.834710662155677, 21.234704134253892, 26.734564823055056, 24.386371101801387, -27.61302782308448, 46.29216688624992, 72.16747491520738, 28.35496178532406, 12.181681686652954, -10.994777349292129, 58.298570330494265, 9.1966558916289, 35.14300734014127, 25.9065079995144, 17.942447089158676, -9.589235728739848, -6.715593152692915, -26.734564823055052, 8.834710662155677, 39.23380878189716, 29.927372071758477, 44.16968451374196, 7.032253053117949, 38.04459022145636, -45.21142258103931, -19.133643205905482, 8.499974673793053, -20.94104797543842, -20.995516254246837, -3.3693686357925823, -30.236076190856487, 15.512048727561293, -29.034744210959836, 11.70813361653406, 15.512048727561293, 14.931417178137561, -13.251579275087124, 17.942447089158716, 11.44104386876742, 20.307901967310777, -38.36282618129, -37.42928585974292, -52.32974771675876, 23.352080562311883, -27.388458790744934, -14.523092131093053, -34.89330255069866, 30.236076190856487, -26.734564823055052, -7.631615538405302, 45.50224278882949, 27.666361519835664, 19.054749931511033, -26.481039830374392, 21.234704134253892, -38.9909940425055, -30.695519823651622, 15.101098161385437, 43.0898045170044, 11.26956628405723, -18.738427636487447, -6.8387887280617266, 46.01824621163095, -29.304183490693806, -28.35496178532406, 1.2366691951690205, -17.94244708915867, 11.26956628405723, -40.260810726740374, 60.68590592006639, -26.20597196512165, 63.83464458416822, 41.44826664517961, -46.29216688624992, -65.14476286706355, 0.0, 41.97045934438969, -17.942447089158676, -55.95894877696032, -50.734892745656694, 32.927862653164134, 55.807350807299194, -61.61138659056721, -25.220232588615524, -9.196655891628897, 28.35496178532406, -24.642351313556304, 32.927862653164134, 38.55728393028016, 46.93624732534404, 50.527540151656154, 42.53514708200878, 53.99620997619598, 22.676086257473138, 43.28904320188769, 28.509232659916986, -40.260810726740374, 5.778119069126655, 29.30418349069379, 41.16273788267235, -13.650419134756985, 36.50647784642547, -45.21142258103931, -62.76485330069748, -35.24095754208899, -35.73791185278378, -3.8328075150827248, 25.9065079995144, 9.196655891628891, -3.3693686357925823, -46.01824621163096, 0.0, -54.52367984093483, 3.705409306127955, -46.66132861881403, 32.92786265316408, -25.906507999514385, -32.927862653164134, 13.986850566788776, -45.21142258103931, 1.5457014988888864, 34.755912553541364, 18.669504109061588, 40.525713711440986, 3.8328075150827248, 22.603257476182893, 57.24348605303576, 16.94922423382145, 50.09098836384004, -6.371168015831028, -38.36282618129, -12.18168168665296, 41.2245341757102, 23.352080562311883, -12.18168168665296, 55.53918372862821, -13.251579275087124, 22.603257476182886, -10.483102477017823, 4.628137537732347, 35.84225034751062, -1.2366691951690205, 14.523092131093057, -48.2044690023223, -37.0730733173104, -5.104498685313563, 31.45163262913673, -27.388458790744934, 12.181681686652963, 7.380080224120985, 7.099184168725565, -10.483102477017828, -55.53918372862822, -38.99099404250545, -7.380080224120985, 49.023523842741604, -1.686142077399159, -19.05474993151103, 65.14476286706355, 0.0, -28.35496178532406, -52.329747716758746, -32.92786265316411, -14.523092131093053, 44.89487024731449, 0.0, -13.251579275087124, -15.819193947500137, -17.94244708915866, 26.734564823055074, -41.448266645179615, -39.49679443151138, -15.512048727561293, 21.846196297767015, 2.9658153093911825, -32.92786265316412, 32.927862653164134, -21.234704134253903, 6.715593152692915, 23.352080562311883, 0.0, -55.95894877696032, 23.898504137359094, 6.715593152692915, 25.220232588615524, -62.76485330069745, -6.160456533590615, -19.45560221796105, -22.60325747618288, -47.1858008067756, 5.689812716419987, -4.6281375377323455, 37.42928585974291, 31.9843572348941, -15.252688547419702, -40.09418545091686, 9.671769697334895, -70.38724523425572, 13.650419134756977, -52.32974771675875, -10.7842978675626, 30.695519823651622, -23.35208056231187, 14.523092131093053, 65.1447628670635, -5.285787242388073, 28.7220956638285, 27.917780198254395, 11.44104386876742, 62.76485330069747, -34.89330255069866, -38.9909940425055, -38.9909940425055, 23.35208056231187, -37.0730733173104, -62.76485330069743, 10.198100845623392, 35.34796551935351, -32.927862653164134, -71.69153172110528, 35.46534772100298, -14.83875062540359, 8.189511376946337, -41.31261241635549, -51.03325300620072, 48.57633437499734, 23.35208056231187, -30.871074989628912, 20.99551625424683, 41.2245341757102, 46.46198789878024, 41.31261241635549, -30.871074989628912, -21.234704134253892, 6.715593152692915, 32.927862653164134, 0.0, -2.1816414035514655, 47.18580080677562, 8.49997467379305, -8.49997467379305, -50.09098836384004, -12.18168168665295, 12.18168168665295, -58.298570330494265, -24.38637110180138, 1.6128711537946898, -24.386371101801394, 35.8973775117081, 19.662167524950675, -59.92726561090238, 28.35496178532406, -24.500268850262316, 47.18580080677562, -44.169684513742, -58.29857033049426, -14.523092131093053, 40.43532347398004, 11.44104386876742, 25.404007819133874, 52.329747716758725, -8.664135433108067, 8.499974673793053, 41.44826664517961, 12.18168168665295, -67.16292149866352, -13.251579275087124, 36.07601155636859, 54.52367984093482, -74.75746363613963, -54.7121713984186, 38.99099404250549, -34.2824209358808, -25.906507999514385, 54.36281591780597, 44.169684513741984, 32.92786265316414, 65.7547397327976, -30.48721913046047, 27.917780198254395, 5.285787242388068, 1.2792990249604372, -45.21142258103931, -6.160456533590611, -14.523092131093053, 20.99551625424683, 14.07351305038447, 65.57471928825053, 44.169684513742055, 19.788140776701702, 51.03325300620072, -44.16968451374196, 12.18168168665296, -56.50481532625884, 14.274440091701676, -22.03622694014543, -11.364200102718739, 17.94244708915868, -9.798243007457405, -44.169684513742006, 48.886775290419195, 46.01824621163096, 10.696510735778118, 17.94244708915866, 1.4268525831695587, -58.29857033049426, 10.994777349292129, -10.277953356677108, 21.2347041342539, -43.42621755126606, 21.234704134253892, 21.2347041342539, 11.643431498761688, -61.12455660377191, -68.89194508075725, 0.0, 0.0, 9.196655891628891, 52.329747716758746, 14.838750625403595, 17.20936594392159, -30.090088121236768, -7.380080224120985, 6.715593152692915, -50.40224729095014, 13.650419134756977, 27.666361519835664, 2.648528937495261, -4.443768879358847, -39.96621304379997, -22.03622694014543, -24.824554769183358, 21.592034282719982, 55.206381410914325, 44.169684513742006, -10.48310247701782, -45.502242788829506, 25.510148955760236, 61.1245566037719, 8.189511376946337, 32.92786265316413, 53.5544641164968, -6.519801751656986, -14.523092131093053, -23.352080562311883, 19.788140776701695, -21.51450262295755, 47.62163869046318, -14.780364217435094, 44.16968451374196, 17.94244708915866, 36.0760115563686, 12.181681686652961, -58.29857033049428, -2.1816414035514655, -22.512842636493016, 30.596009467062675, 48.576334374997366, -23.352080562311883, -32.92786265316414, -18.82178616748157, 23.352080562311876, 17.942447089158676, 37.07307331731042, -42.53514708200879, -21.234704134253892, 27.61302782308448, -37.85231021361414, 47.989520183832674, 37.852310213614125, 57.55126280327039, 58.298570330494265, 23.35208056231187, 21.234704134253903, 35.5946884990431, -13.650419134756985, 35.38586810396579, 38.1813177954995, -4.115776985986843, 17.05428101145161, -61.12455660377191, 26.20597196512165, -10.016469322717642, 0.0, 23.824260582895427, 15.725812822360153, 25.220232588615513, 28.722095663828487, -25.220232588615506, 17.139240533020804, -40.81034790369768, -23.352080562311883, -45.02479263346477, -40.26081072674038, 47.98952018383269, -52.32974771675873, 7.032253053117949, 27.079670088195165, 11.558251258084296, -9.196655891628891, -7.380080224120985, 31.021040835634945, -7.032253053117949, -21.51450262295755, 21.72900237272643, 43.28904320188769, 24.386371101801394, -12.18168168665296, -35.14300734014127, -31.150630557988567, -4.356975005846297, -53.81736101153215, 47.98952018383269, -24.38637110180138, -59.015596341067784, -27.576869006475214, 12.181681686652961, -7.380080224120985, 37.85231021361413, 23.352080562311897, 43.28904320188769, 32.92786265316411, -32.927862653164134, 5.28578724238807, 3.705409306127955, 0.0, 7.380080224120985, -9.7275785514016, -24.38637110180138, -2.4721872163439333, -74.31798454009592, 1.6128711537946898, 17.05428101145161, -19.45560221796105, -32.9278626531642, -47.62163869046318, 0.0, -37.42928585974291, 42.53514708200878, 66.92776606063273, 20.30790196731078, -14.83875062540359, -6.923448914810531, -3.5294183699567334, 17.942447089158676, 51.03325300620072, 52.32974771675875, -30.236076190856487, -37.85231021361414, -36.35049406855038, -32.92786265316414, 13.023079670604975, -8.249788977020701, 36.86530221920059, 30.695519823651633, -52.329747716758746, -66.19405648154228, -50.25823975061731, -10.016469322717642, 39.49679443151137, -5.689812716419987, -47.18580080677562, -1.4839016584330798, 2.851937567007021, 23.35208056231187, 23.352080562311897, -8.189511376946337, 15.512048727561277, 20.30790196731078, 7.032253053117949, -22.39759795282484, -16.057442260839654, -21.464617106809328, -25.510148955760247, -48.886775290419195, -22.60325747618288, 0.0, -29.744881296942243, -25.220232588615506, -26.734564823055052, 0.0, -3.3693686357925823, 19.45560221796105, -15.819193947500152, 25.9065079995144, 1.1967884362849743, 1.3740268396097135, 17.94244708915866, 4.1157769859868445, -48.576334374997366, -11.26956628405723, 2.648528937495261, 6.426108013768544, 31.9843572348941, 16.641463112483383, 33.88550433314374, -14.523092131093053, 38.04459022145636, 6.160456533590615, 25.9065079995144, 36.76902489880966, 35.05301206344153, 4.115776985986843, -42.19754848013322, -28.722095663828473, -36.076011556368606, 3.705409306127955, 17.94244708915868, 67.61986494804042, -52.32974771675875, -25.220232588615506, 41.44826664517961, -10.48310247701782, 52.329747716758746, -12.18168168665296, 28.35496178532406, -13.801353361031598, 38.36282618129002, 17.31834426391695, 24.149157520429036, -6.160456533590615, 10.483102477017828, -32.927862653164134, 0.0, 23.723365445283243, 51.03325300620072, 26.734564823055056, -42.19754848013323, -9.798243007457405, -25.906507999514385, 8.189511376946337, 16.40296798307723, -4.115776985986843, -6.715593152692915, 66.19405648154235, -43.60281897270363, -38.99099404250545, 16.40296798307723, -26.481039830374392, 66.19405648154235, -19.330546516050514, 14.931417178137561, -29.927372071758466, 37.85231021361413, -52.329747716758746, 0.0, 24.25240266146789, 36.50647784642547, -13.986850566788783, 9.196655891628891, 24.386371101801394, 45.02479263346476, -49.37558357275064, 49.023523842741604, 15.675974454627386, -46.774581738375126, 48.57633437499734, 25.220232588615524, 15.101098161385437, 38.990994042505456, 16.815983639511252, 65.7547397327976, 12.18168168665296, 24.56717132060132, 13.986850566788776, 32.92786265316413, 41.44826664517961, 46.29216688624992, -8.664135433108067, 29.927372071758477, -70.03281339419854, 35.240957542089, -52.32974771675876, -26.584890435119284, 27.388458790744934, -6.715593152692915, 25.0666610660642, 32.92786265316414, 2.1816414035514655, -32.92786265316411, -36.07601155636857, -15.512048727561293, -19.788140776701688, -39.36262700162062, -1.2792990249604372, -40.260810726740374, -6.160456533590615, 63.83464458416822, -4.443768879358847, 40.26081072674037, -77.5604379811535, -90.0, 32.92786265316413, 25.32632481122052, -19.788140776701688, -5.5484662937180635, 30.236076190856487, 22.245668710529635, 29.30418349069379, -9.196655891628891, -42.53514708200879, -7.380080224120985, 59.53445508054011, 9.798243007457405, 22.03622694014543, -25.906507999514382, -1.4839016584330798, -35.05301206344154, 43.662998325117165, -3.0891563753365396, -32.92786265316415, 0.0, -14.523092131093053, 30.487219130460485, 43.0898045170044, 39.49679443151137, -7.380080224120985, -22.39759795282484, 4.356975005846297, 0.0, 48.576334374997366, 4.115776985986843, 20.307901967310777, -4.6281375377323455, -47.1858008067756, -40.810347903697696, 47.1858008067756, 10.198100845623392, -47.1858008067756, -32.92786265316415, 0.0, -37.85231021361412, -28.011762257629094, -42.77407610488598, 36.63311276739521, 74.31798454009589, -10.322852684236434, -6.371168015831028, 17.94244708915866, 20.695450734063286, 49.37558357275065, 11.10308940324289, 19.788140776701688, -25.627863837148162, 42.77407610488597, -27.388458790744934, 29.538782259558104, 20.307901967310784, -16.057442260839654, 38.1813177954995, 54.22392228210536, 32.92786265316413, 22.949899259748793, 19.455602217961058, 0.0, 31.825182637227744, -11.44104386876742, 32.927862653164134, 26.96897351666366, 12.18168168665296, -17.94244708915867, -8.189511376946337, 16.40296798307723, -40.810347903697725, -27.38845879074495, -7.380080224120985, 18.738427636487454, 24.25240266146789, -19.78814077670171, 8.189511376946337, -37.42928585974292, -34.21570213243741, -41.80725498819573, 37.42928585974291, -12.18168168665295, -30.23607619085647, -32.927862653164134, 64.24098213999892, 8.765687148326284, 40.810347903697725, 24.149157520429036, 10.696510735778118, -56.84419599405823, -4.6281375377323455, -37.85231021361414, 2.0605466502542913, 9.53113215834637, -11.269566284057234, 12.18168168665295, 10.483102477017823, 62.76485330069748, -34.63647019480071, 8.834710662155677, -19.788140776701688, -10.277953356677108, 21.2347041342539, -9.1966558916289, 38.55728393028016, -5.48038633196813, -16.40296798307723, 21.729002372726434, 20.6954507340633, 17.31834426391695, 14.523092131093053, -4.6281375377323455, 49.37558357275066, -59.92726561090235, 13.251579275087124, 38.99099404250549, 49.37558357275066, 27.388458790744934, -10.8622878937598, 7.900789423839791, -21.729002372726416, 24.824554769183347, 54.52367984093482, -24.824554769183358, -26.877364027704044, -53.37052383113033, -4.115776985986843, 12.181681686652961, 47.75099042876568, -10.48310247701782, 16.302779173364055, -4.628137537732349, 22.036226940145447, 0.0, -46.46198789878022, -53.996209976195985, -78.3663660010596, -32.92786265316412, -29.03474421095981, -50.8994636731489, 27.82014446666337, 31.72360295768404, -44.16968451374196, -35.14300734014127, -65.1447628670635, 10.016469322717642, 29.034744210959825, 34.2824209358808, 36.67733693648981, -60.234958331084336, 8.319765692280523, -14.523092131093053, 23.352080562311883, -17.942447089158676, 3.0891563753365396, -15.10109816138543, 68.89194508075727, 60.68590592006639, 29.74488129694223, -21.51450262295755, -62.76485330069747, 56.504815326258814, 0.0, -30.48721913046047, -27.079670088195172, -11.758949766738542, -10.8622878937598, -16.734995994930156, 28.354961785324072, -12.18168168665295, -22.828775034651386, 40.810347903697696, 24.82455476918335, -26.968973516663645, 19.455602217961058, 22.245668710529635, -25.220232588615506, -29.808126632224937, 53.45502767717747, 19.45560221796105, -59.29428776941094, 37.85231021361412, 32.92786265316413, 16.532225964861237, 1.6128711537946898, 35.240957542089, -30.871074989628937, 17.942447089158673, 3.705409306127955, 15.512048727561293, 5.28578724238807, -2.851937567007021, 52.32974771675873, -6.715593152692915, 56.12434608694927, -8.319765692280518, -10.129230310271025, -51.38628363780316, 30.487219130460485, 10.483102477017828, -2.1816414035514655, 55.53918372862821, -48.2044690023223, 17.139240533020804, 19.662167524950675, -35.73791185278378, -46.01824621163095, -10.016469322717642, -63.83464458416822, 15.512048727561293, -11.26956628405723, 38.36282618129002, 24.824554769183347, -50.52754015165616, -9.196655891628891, -16.40296798307723, 22.397597952824846, 14.931417178137561, 42.43622978853501, 10.016469322717642, 0.0, 52.32974771675875, -32.927862653164134, -8.373026674782395, 24.642351313556297, 29.74488129694223, -66.78446308651675, 45.71840472604885, -32.927862653164134, -39.78256074028419, -12.635429180890833, 52.32974771675873, 30.87107498962892, 10.994777349292136, 6.160456533590615, 14.838750625403595, -20.307901967310784, 44.169684513741984, -8.49997467379305, 4.356975005846297, 26.58489043511928, -24.642351313556304, 42.77407610488599, 7.380080224120985, -14.523092131093053, 14.523092131093058, 5.285787242388073, 40.810347903697725, 23.352080562311883, -31.60141278091812, -1.6128711537946898, -1.8546438750328063, 50.527540151656154, -4.628137537732347, -58.29857033049434, 35.14300734014127, -25.906507999514385, -31.776628885945097, 38.99099404250545, -37.42928585974291, 25.906507999514385, 47.75099042876568, 22.03622694014543, -62.764853300697496, 32.92786265316413, 68.89194508075732, -8.664135433108067, -35.34796551935351, 54.22392228210536, 35.05301206344153, 12.18168168665295, -2.0605466502542913, -53.81736101153215, 41.37237000355929, -6.59673829789421, -26.734564823055052, -2.4721872163439333, -35.73791185278378, 10.994777349292134, 60.93108983891975, 0.0, 37.85231021361413, -12.771242564901438, -26.734564823055067, -10.69651073577811, 60.68590592006639, 7.380080224120985, 59.015596341067784, -29.034744210959836, -24.386371101801394, 35.46534772100298, 47.18580080677562, 61.1245566037719, 46.774581738375126, -2.0605466502542913, 25.404007819133874, 25.9065079995144, -12.18168168665295, -32.92786265316413, -16.94922423382144, 50.8994636731489, -55.53918372862822, 31.363302213950067, 29.034744210959825, -40.81034790369768, 51.03325300620072, -26.968973516663645, 3.3693686357925823, 34.6364701948007, -42.53514708200879, 40.810347903697696, 34.00372741911257, -17.94244708915867, 24.642351313556297, 16.641463112483383, 21.649504175182585, -57.551262803270404, -29.744881296942243, 4.935203451166515, -4.6281375377323455, -12.181681686652933, 34.755912553541364, -42.77407610488598, 19.662167524950675, 30.695519823651622, -44.16968451374199, 48.576334374997366, -47.18580080677562, 25.9065079995144, 19.788140776701688, 35.84225034751062, -11.150156592828939, 26.96897351666366, -24.500268850262316, 28.722095663828487, -19.662167524950682, 0.0, 40.094185450916854, 53.45502767717747, 19.22458032044628, -1.3740268396097135, -22.39759795282484, 43.0898045170044, 34.43898930880362, -20.695450734063282, -40.260810726740374, -9.196655891628891, 34.35642890636523, 45.02479263346476, -2.3925334550124098, 17.94244708915867, 19.788140776701702, 58.29857033049429, -27.388458790744934, 27.144142305646408, -28.606435096765008, -37.85231021361412, -39.49679443151138, -30.695519823651622, 25.906507999514385, -12.588563410948135, 25.90650799951436, -49.02352384274162, 31.86980702811664, -15.10109816138543, -30.23607619085647, -30.786888492358944, -38.990994042505484, 5.440332031005504, -21.649504175182585, 53.45502767717747, 37.42928585974291, 27.917780198254395, -13.986850566788776, 7.380080224120985, 35.05301206344153, -30.090088121236768, -4.6281375377323455, -32.92786265316414, 45.71840472604885, -44.169684513742006, 58.8587911283291, 0.0, 9.589235728739848, -36.50647784642545, 7.380080224120985, -27.66636151983567, 32.92786265316415, 32.92786265316413, -18.924644416051233, 11.558251258084296, -25.579270527428488, -44.169684513742, 15.512048727561293, 35.5946884990431, 50.96963990831817, 25.220232588615513, -32.92786265316412, 12.18168168665296, -14.136061798147061, -50.52754015165616, 13.98685056678879, -17.94244708915866, -24.14915752042902, 36.76902489880966, -25.906507999514385, 21.2347041342539, -41.88268370243314, -22.73600488258145, -16.64146311248337, 5.285787242388073, 0.0, 17.94244708915866, -22.036226940145443, -38.6598082540901, 26.481039830374403, -35.46534772100297, -20.015959602882674, 12.18168168665295, -26.481039830374392, -57.24348605303576, -10.69651073577811, 13.650419134756987, 17.942447089158676, 1.3490538510929568, 37.073073317310424, -16.641463112483375, 27.75291785529662, -14.523092131093053, 57.24348605303576, 24.824554769183358, 19.788140776701688, -22.39759795282484, -30.23607619085647, 22.82877503465138, -36.50647784642544, 12.18168168665295, -13.650419134756987, -25.90650799951436, 22.397597952824853, 32.927862653164134, 74.75746363613962, -20.10492720437738, 2.648528937495261, -25.220232588615524, 35.737911852783796, 11.364200102718744, -23.35208056231187, -11.558251258084296, 19.788140776701688, -3.5861970865443724, -30.48721913046047, -26.968973516663645, -59.92726561090238, 16.40296798307723, 47.62163869046318, -46.01824621163096, -28.831736712839785, 6.519801751656986, 17.94244708915868, -4.628137537732347, -25.06666106606421, 26.481039830374403, 3.3693686357925823, 17.20936594392159, 2.0605466502542913, 43.0898045170044, 29.808126632224937, 35.46534772100298, 26.96897351666366, -59.29428776941096, 71.69153172110528, 33.961204937082925, 11.558251258084296, -49.37558357275066, 30.487219130460485, 32.92786265316413, 52.32974771675873, 34.35642890636523, -4.115776985986843, 61.1245566037719, 35.737911852783796, -17.94244708915867, 12.181681686652954, 5.915821844805735, 4.115776985986843, -65.1447628670635, -11.708133616534052, 49.023523842741604, -20.307901967310784, 50.8994636731489, 43.28904320188769, 0.0, 4.115776985986843, 16.40296798307723, -26.734564823055052, -43.42621755126606, 47.18580080677562, 53.67317404787977, -12.875001559612475, 43.662998325117165, 27.666361519835664, -29.679021404508436, -22.897263121546562, -27.66636151983567, 0.0, 0.0, -24.567171320601314, 50.8994636731489, -30.871074989628912, -25.90650799951436, -27.079670088195172, -42.19754848013323, 1.4268525831695587, 40.4867114232607, -59.92726561090238, -6.426108013768544, -15.512048727561293, 2.9658153093911825, -10.483102477017828, -22.03622694014543, 59.92726561090238, 1.2792990249604372, 8.49997467379305, 55.53918372862821, -19.106130839264683, 16.815983639511252, 8.49997467379305, 7.380080224120985, -14.22031221979403, -28.606435096765008, 31.45163262913673, 0.0, -6.160456533590612, -65.57471928825053, -22.036226940145443, 30.487219130460485, -45.502242788829506, -1.4268525831695587, 3.0891563753365396, 44.169684513742006, 26.20597196512165, 26.481039830374403, 56.50481532625883, -18.738427636487447, 0.0, 21.72900237272643, -6.426108013768544, 6.715593152692915, 15.101098161385437, 38.1813177954995, 37.56199872856741, -67.16292149866358, -23.82426058289543, 47.18580080677559, 45.502242788829484, -15.675974454627394, -38.55728393028017, -32.92786265316415, -67.61986494804042, -7.380080224120985, -7.380080224120985, 37.56199872856741, 19.330546516050507, 14.523092131093053, 47.18580080677559, -4.356975005846297, 38.55728393028018, 44.169684513741984, -6.16045653359061, 39.49679443151137, -6.923448914810531, -17.942447089158676, 0.0, 1.324972269376881, -24.824554769183358, -2.746475082326106, 31.45163262913673, 16.057442260839654, -22.03622694014543, 40.094185450916854, 26.96897351666366, -31.02104083563495, 72.83808119713476, 44.169684513742, -13.85880089063764, 35.05301206344153, 17.94244708915868, 47.75099042876568, -10.994777349292129, 30.695519823651633, -24.824554769183358, 29.425402017865927, 25.0666610660642, 50.8994636731489, -25.220232588615524, 0.0, 31.776628885945097, 30.487219130460485, -12.635429180890833, -15.10109816138543, 30.948893813985862, 15.512048727561277, 5.285787242388073, 16.057442260839654, 0.0, -28.35496178532406, -29.21860624941389, 13.251579275087133, 42.19754848013322, 16.64146311248337, 32.92786265316415, 9.196655891628897, -3.474407367531663, 24.386371101801394, -41.88268370243314, -16.64146311248337, -23.8985041373591, 20.307901967310777, -37.42928585974292, -43.289043201887694, -29.03474421095981, -17.94244708915866, -64.24098213999893, -29.538782259558097, -5.285787242388073, -15.252688547419702, -13.650419134756977, 24.824554769183358, -16.532225964861233, -42.19754848013323, 38.55728393028016, 35.38586810396579, -17.361524083798745, -26.584890435119284, -15.819193947500137, -32.92786265316414, 53.67317404787977, 52.3297477167588, 42.952071575348334, -2.4721872163439333, -24.38637110180138, 3.0891563753365396, -26.877364027704044, -8.884677087365905, 25.220232588615524, -12.18168168665296, 41.882683702433134, 56.504815326258814, 14.523092131093058, -4.273500455338617, 4.115776985986843, -12.588563410948135, 40.81034790369764, 20.30790196731078, 59.92726561090238, 16.40296798307724, -3.3693686357925823, 68.89194508075727, 47.18580080677559, -32.92786265316414, 8.49997467379305, -15.675974454627394, 56.50481532625878, -14.274440091701669, 14.780364217435102, -31.910960453232004, 37.85231021361413, 40.43532347398004, 72.83808119713474, 20.99551625424683, -27.388458790744934, 41.2245341757102, 49.89437519877513, -66.1940564815423, -40.810347903697725, 30.236076190856487, 65.7547397327976, 43.28904320188769, -1.9521830680865255, 20.01595960288268, -14.931417178137558, -44.16968451374196, 10.12923031027103, 27.186342437494694, 31.776628885945097, 61.76044830907992, -31.150630557988567, 46.661328618814025, -25.906507999514385, 48.2044690023223, 14.523092131093058, 30.236076190856487, -2.9658153093911825, 62.764853300697446, -59.92726561090232, -6.16045653359061, 13.251579275087133, 13.801353361031603, -35.5946884990431, 29.808126632224937, 10.483102477017828, -28.722095663828473, 10.016469322717642, -22.73600488258145, 46.01824621163096, 2.119366469039076, 41.547860799335815, 25.627863837148162, -15.322579774365494, 28.722095663828487, 31.6654572443245, -55.30937924317019, 22.036226940145458, -41.88268370243314, -52.329747716758746, 10.994777349292129, 21.846196297767015, -6.160456533590615, -22.036226940145454, -6.59673829789421, 22.036226940145447, -6.160456533590615, -47.7509904287657, 32.92786265316413, -53.67317404787977, -46.29216688624992, -22.60325747618288, -59.53445508054011, -61.1245566037719, -27.388458790744934, 4.273500455338617, 32.92786265316414, 2.8519375670070226, -59.53445508054011, 5.6898127164199845, -25.220232588615506, -25.906507999514393, 35.8973775117081, 29.808126632224937, 26.734564823055074, -15.675974454627394, 49.659930503247416, 45.211422581039294, 36.76902489880966, 62.76485330069747, 3.5294183699567334, 49.149835290981954, -24.252402661467894, 41.684303451621034, 46.661328618814025, 20.55289779157558, 9.53113215834637, -9.89060494175803, -44.169684513742006, 39.49679443151137, -30.090088121236768, -17.94244708915867, 58.29857033049434, 32.92786265316414, -32.927862653164134, 14.274440091701676, 12.18168168665296, 7.900789423839791, 17.94244708915866, -42.43622978853501, 0.0, 2.648528937495261, 22.991616068159637, -36.50647784642545, 38.99099404250548, -20.307901967310784, 7.900789423839791, 8.189511376946337, 22.03622694014543, -40.810347903697696, -15.512048727561293, 16.057442260839654, 41.44826664517961, -76.63671391880358, -62.76485330069753, 32.92786265316414, 14.220312219794037, 22.03622694014543, 35.240957542089, 17.94244708915866, 37.073073317310424, -19.45560221796105, -37.073073317310424, 19.330546516050507, 41.31261241635549, -26.481039830374392, -16.40296798307723, -15.10109816138543, 6.160456533590611, 84.48760722089045, -49.37558357275066, -21.72900237272644, 24.500268850262316, -41.68430345162103, 59.92726561090233, -47.7509904287657, -28.831736712839785, 38.1813177954995, -12.18168168665295, 26.481039830374417, 21.234704134253892, -20.695450734063282, -32.92786265316411, -25.579270527428488, -13.986850566788783, 29.679021404508436, 29.679021404508436, 26.481039830374403, 0.0, 56.12434608694927, 36.07601155636859, 47.62163869046318, 2.4721872163439333, 8.189511376946337, 26.20597196512165, -22.828775034651386, 21.234704134253896, 29.385905947912228, 9.798243007457405, -48.57633437499732, -45.502242788829484, -1.4268525831695587, -67.61986494804042, 34.89330255069864, -34.10021125850712, -27.388458790744934, 52.32974771675873, 19.45560221796105, -10.016469322717642, 37.85231021361412, -34.2824209358808, 78.3663660010596, -19.788140776701688, 22.30141450466061, -46.01824621163096, 43.28904320188769, -52.329747716758746, 22.03622694014543, 58.68832038598406, -12.181681686652952, -37.85231021361412, 39.78256074028421, 17.942447089158676, 16.40296798307723, 31.021040835634945, 15.101098161385437, -11.708133616534052, 35.5946884990431, 29.679021404508436, -15.322579774365494, 42.77407610488599, -37.42928585974292, -1.4268525831695587, 19.934020408817528, 2.4721872163439333, -38.36282618129, 22.397597952824853, -13.85880089063764, -17.94244708915867, 26.877364027704036, 4.443768879358847, 35.46534772100298, 52.32974771675877, 1.6128711537946898, 27.388458790744945, 20.69545073406328, 20.99551625424683, 45.50224278882952, 25.90650799951436, 2.1816414035514655, 0.0, -26.734564823055074, 7.099184168725565, -17.94244708915866, 0.0, -7.380080224120985, -62.764853300697496, -17.94244708915867, 20.307901967310784, 28.35496178532406, 23.352080562311883, 13.251579275087124, -56.969897865390834, -3.0891563753365396, -27.66636151983567, -61.410380214122, -17.94244708915867, 35.46534772100298, 20.30790196731078, -54.93607119615005, -4.356975005846297, -17.942447089158666, -34.89330255069866, 9.890604941758037, -24.000449953683397, -32.92786265316414, -11.269566284057234, -64.58699386342342, 26.734564823055067, -5.285787242388073, 43.42621755126606, 0.0, 12.492311649850672, -40.81034790369768, -32.927862653164134, -5.285787242388073, -5.285787242388068, -34.75591255354138, -16.057442260839654, -31.60141278091812, -9.589235728739848, -9.196655891628891, 2.3178496429030178, -47.1858008067756, 31.150630557988556, -55.5391837286282, 3.705409306127955, 8.664135433108067, 6.715593152692915, 33.88550433314374, -4.935203451166515, 21.234704134253892, -20.552897791575575, -80.26462610449508, -37.42928585974292, -50.09098836384004, 24.386371101801394, -13.251579275087124, -4.273500455338617, -66.61861605632949, 22.397597952824853, 45.71840472604885, 20.6954507340633, -53.67317404787977, 58.298570330494265, 41.547860799335815, 0.0, 17.942447089158673, -19.45560221796105, -7.763884405677521, -16.40296798307723, -24.14915752042902, -39.36262700162062, 13.251579275087124, 70.6622002027522, 19.45560221796105, 53.81736101153215, -49.02352384274162, -27.75291785529663, 44.16968451374196, -19.78814077670171, -12.181681686652952, 43.0898045170044, 46.01824621163095, 21.649504175182585, -16.40296798307723, 3.474407367531663, -6.160456533590611, 10.862287893759808, 49.023523842741604, 35.954628425603254, 70.3872452342557, -3.223190216249565, 24.82455476918335, 23.723365445283243, 61.87539543870606, -31.530524169111693, -21.592034282719972, 7.380080224120985, -5.48038633196813, -40.36453657309737, 49.89437519877513, 0.0, 2.3178496429030178, 37.85231021361413, -52.32974771675875, -4.6281375377323455, 0.0, 8.834710662155677, -13.123671887491446, -6.160456533590615, -34.04989926367243, 45.02479263346476, -11.26956628405723, 0.0, -30.487219130460485, -38.18131779549951, -6.160456533590611, 29.385905947912228, -54.93607119615005, -6.715593152692915, 10.696510735778118, 29.927372071758477, -54.7121713984186, -2.851937567007021, -38.18131779549951, -60.365082096815655, -32.92786265316408, -70.6622002027522, -10.8622878937598, -14.136061798147061, -38.36282618129, 20.854458039578358, 0.0, 52.32974771675877, -44.169684513742006, 54.22392228210536, 44.169684513742055, 0.0, -14.523092131093053, -47.1858008067756, -20.307901967310784, 32.927862653164134, 40.81034790369772, -23.352080562311883, 47.18580080677559, 62.764853300697446, -9.1966558916289, 43.28904320188769, -3.0891563753365396, 44.169684513742, -5.6898127164199845, -10.994777349292129, -77.5604379811535, -37.073073317310424, -25.220232588615524, 29.034744210959836, 27.388458790744945, 0.0, -23.35208056231189, -43.08980451700442, 45.50224278882952, 32.92786265316414, -38.55728393028017, -49.659930503247416, 22.397597952824853, -46.46198789878022, -4.935203451166515, 70.03281339419854, -45.502242788829506, 52.32974771675876, -8.189511376946337, -7.380080224120985, -25.906507999514385, -8.49997467379305, -13.123671887491446, -30.48721913046047, -14.523092131093053, -13.650419134756985, -17.94244708915867, -11.26956628405723, -49.659930503247416, -36.76902489880967, 32.927862653164134, 14.13606179814707, 7.631615538405302, 57.72003299811191, -12.181681686652956, 5.5484662937180635, 22.73600488258146, 17.942447089158676, 44.169684513742, 0.0, -32.9278626531642, 55.95894877696031, -32.92786265316415, 12.18168168665296, 4.6281375377323455, 31.72360295768404, 26.734564823055067, 42.53514708200878, 29.034744210959825, -2.9658153093911825, 16.057442260839668, -10.016469322717642, -12.181681686652952, -6.59673829789421, 46.01824621163095, 14.931417178137561, -2.55732376012029, -32.927862653164134, 13.358066183428177, -46.01824621163096, -3.223190216249565, -30.695519823651622, -29.83881696980424, -26.734564823055074, 19.662167524950675, -56.504815326258814, 10.994777349292129, -32.92786265316414, -37.073073317310424, -60.365082096815655, -10.016469322717642, 57.72003299811191, -41.31261241635549, 44.169684513741984, -35.73791185278378, -41.88268370243314, -61.410380214122, 7.763884405677521, 25.32632481122052, -2.4721872163439333, 37.243856086421374, -23.35208056231187, -13.576160135881397, 17.942447089158676, 46.01824621163095, 23.687526336720797, -27.079670088195172, 56.50481532625883, -24.14915752042902, 2.0605466502542913, 32.92786265316415, -50.25823975061731, -26.26283906417685, 24.824554769183347, -19.60541484125716, 3.0891563753365383, 32.92786265316413, 10.016469322717642, 53.81736101153215, -59.92726561090232, 22.397597952824853, 7.144513550796593, 38.36282618129002, -14.780364217435094, 14.220312219794037, 37.42928585974291, 35.240957542089, 13.858800890637648, -30.090088121236768, -8.013816501473892, 18.44982955486508, 17.26823023887338, 16.64146311248337, -21.592034282719972, 10.198100845623392, -47.7509904287657, -6.923448914810531, -3.0891563753365396, 20.104927204377372, 40.26081072674037, 47.62163869046318, 38.99099404250549, -21.234704134253892, -21.729002372726416, -71.06099573975993, 17.361524083798738, 43.42621755126606, 27.666361519835664, -67.16292149866352, 5.6898127164199845, -3.8998440419746827, -81.22218261386281, -22.036226940145454, 59.015596341067784, -10.7842978675626, -32.927862653164134, -26.481039830374392, 2.0605466502542913, -15.512048727561277, -34.89330255069866, -50.734892745656694, -53.37052383113033, -50.8994636731489, 0.0, -17.94244708915868, 35.737911852783796, 14.07351305038447, -3.0891563753365396, 35.737911852783796, 20.69545073406328, 22.036226940145447, -30.695519823651622, -8.884677087365905, 29.21860624941389, -4.6281375377323455, 30.236076190856487, 35.46534772100298, 42.77407610488597, -38.55728393028017, 27.917780198254395, 0.0, 30.871074989628937, 22.397597952824853, 17.942447089158673, 37.85231021361412, 9.196655891628891, 36.86530221920059, -26.34636605765503, 9.589235728739848, -47.7509904287657, 62.76485330069747, -4.443768879358847, 55.206381410914325, 5.285787242388073, 35.46534772100298, 26.16475762224623, 36.86530221920059, 61.1245566037719, 23.352080562311883, 42.19754848013322, -49.659930503247416, -5.285787242388068, -32.92786265316413, 15.101098161385437, -20.307901967310777, -30.695519823651622, -60.365082096815655, -1.4268525831695587, 13.251579275087124, -5.28578724238807, -35.73791185278378, 0.0, -4.115776985986843, 44.16968451374198, 31.150630557988556, -3.705409306127955, -17.94244708915866, -13.650419134756977, 41.16273788267235, 26.734564823055067, 1.6128711537946898, 20.307901967310777, -8.013816501473892, -23.352080562311883, -3.705409306127955, -32.92786265316408, -17.26823023887337, 47.18580080677562, -15.322579774365494, 42.53514708200878, -5.5484662937180635, -38.04459022145636, -29.927372071758484, -67.16292149866358, 56.504815326258814, 46.661328618814025, 17.94244708915866, -22.39759795282484, 6.16045653359061, 60.365082096815655, 45.02479263346476, -7.380080224120985, 55.807350807299194, 17.94244708915868, -16.188646460058557, 30.487219130460485, 37.07307331731042, 35.34796551935351, 7.683981829733958, 51.1441571843773, -9.196655891628897, -29.21860624941389, 5.28578724238807, 30.695519823651633, 30.236076190856487, 50.73489274565668, 81.22218261386283, -3.9692634567194975, 65.57471928825053, -58.29857033049426, -17.942447089158676, -10.483102477017823, -36.67733693648981, 14.523092131093058, -38.99099404250545, -29.538782259558072, -56.504815326258814, 26.16475762224623, 27.144142305646408, 49.37558357275065, -38.36282618129, 7.380080224120985, 57.55126280327039, -10.016469322717642, -7.763884405677521, -37.243856086421374, 60.68590592006639, 15.512048727561293, 21.234704134253892, -12.18168168665296, 29.808126632224937, -45.502242788829484, 59.53445508054011, -10.016469322717642, -16.64146311248337, 31.263731694377434, 32.92786265316414, -72.83808119713468, 28.354961785324072, -37.42928585974292, 32.92786265316414, 40.26081072674037, 55.53918372862821, 2.4721872163439333, 29.034744210959825, 31.776628885945097, 19.934020408817528, -65.14476286706355, 23.352080562311883, -42.77407610488597, -19.22458032044626, 17.942447089158673, 29.034744210959825, 17.942447089158673, 19.605414841257172, -39.78256074028419, -54.93607119615004, -54.22392228210538, 23.898504137359094, -62.76485330069743, 59.015596341067784, 5.6898127164199845, 4.356975005846297, 11.70813361653406, -32.927862653164134, -25.906507999514385, -45.21142258103931, 44.89487024731449, 20.854458039578358, 3.705409306127955, -7.380080224120985, -29.538782259558097, 75.56793706386406, 30.367788104524962, -37.42928585974292, 29.385905947912228, -23.82426058289543, 22.397597952824853, 12.18168168665295, 31.45163262913673, 7.900789423839791, -18.924644416051233, 4.115776985986843, 0.0, -16.40296798307723, -30.695519823651622, -4.1157769859868445, -38.36282618129, 3.369368635792581, -12.181681686652956, 39.60820645285758, -3.705409306127955, -45.502242788829506, -10.483102477017823, -12.875001559612475, 36.76902489880966, 3.3693686357925823, 40.81034790369772, 51.1441571843773, 29.927372071758477, -23.352080562311883, -20.552897791575575, 49.023523842741604, 38.990994042505484, 16.40296798307724, 7.380080224120985, -37.073073317310424, 38.990994042505456, 39.96621304379997, 36.67733693648981, 0.0, -64.00539199771832, 1.6128711537946898, -27.917780198254384, 34.15524631294035, 30.871074989628937, -17.94244708915866, 19.788140776701702, 29.927372071758477, 40.810347903697696, 24.56717132060132, 0.0, 31.021040835634945, 76.122470196792, 67.16292149866354, 13.358066183428177, -11.26956628405723, -12.181681686652956, 2.851937567007021, -9.196655891628891, -6.715593152692915, -16.40296798307723, 48.576334374997366, -30.786888492358944, 15.101098161385437, -17.94244708915867, 45.50224278882952, 13.12367188749145, -32.927862653164134, -10.994777349292129, -20.695450734063286, -71.99182748898198, -3.705409306127955, 42.53514708200878, 19.455602217961058, 21.234704134253892, -13.251579275087124, 56.504815326258814, 6.16045653359061, 60.365082096815655, 19.934020408817528, 34.89330255069864, -20.854458039578347, 46.661328618814025, 32.92786265316414, 64.58699386342342, 35.737911852783796, 16.64146311248337, 16.40296798307723, -28.722095663828473, -11.364200102718739, -9.196655891628891, 20.94104797543841, -36.76902489880967, 0.0, -38.990994042505484, -12.635429180890833, -11.364200102718739, 9.1966558916289, 4.232949092710534, 17.361524083798738, -32.92786265316414, 46.774581738375126, 20.487014193330708, 30.236076190856487, 50.25823975061727, 39.49679443151137, -13.650419134756977, 0.0, 37.85231021361413, -13.123671887491446, 28.722095663828487, -38.18131779549951, -26.877364027704044, 3.5861970865443724, 23.352080562311897, 52.32974771675875, -21.234704134253892, -13.251579275087124, 41.2245341757102, 10.994777349292129, 32.92786265316415, -60.234958331084336, -45.211422581039294, 32.92786265316413, -43.42621755126606, -6.715593152692915, -46.29216688624992, 14.523092131093058, -54.52367984093482, 3.9692634567194975, -59.015596341067784, -24.824554769183333, 55.53918372862824, -44.16968451374199, 40.810347903697696, 15.512048727561277, -22.9498992597488, -32.92786265316414, -13.35806618342817, 3.5294183699567334, 29.21860624941389, -44.799219179739104, 36.20752606901325, 57.55126280327039, -11.643431498761677, -5.046794290775168, 18.738427636487454, 4.115776985986843, -80.76795348557815, 21.592034282719982, 32.9278626531642, 42.197548480133214, 12.875001559612475, -13.650419134756977, 32.92786265316408, 10.016469322717642, -38.9909940425055, 0.0, -15.512048727561277, -65.14476286706355, 2.9658153093911825, -1.5457014988888864, -40.09418545091686, 38.99099404250549, -19.05474993151103, 38.55728393028016, 57.24348605303576, -74.31798454009592, -20.695450734063282, -13.123671887491446, 41.44826664517961, -4.628137537732347, 12.181681686652961, -49.37558357275066, 36.3882027268435, 0.0, 4.935203451166515, 6.16045653359061, -15.512048727561293, -8.593016541030492, 20.104927204377372, 1.6128711537946898, 35.05301206344153, 60.234958331084336, -17.942447089158676, -22.39759795282484, 49.37558357275066, -59.92726561090232, 32.92786265316413, -32.92786265316411, 0.0, 19.05474993151104, 18.924644416051244, -16.40296798307723, -74.31798454009592, 30.487219130460485, -32.92786265316413, -37.42928585974292, 40.810347903697696, 55.206381410914325, -13.85880089063764, 40.094185450916854, 21.846196297767015, -45.02479263346477, 50.73489274565668, -9.798243007457405, -28.07248693585297, -20.307901967310784, 11.269566284057243, -29.538782259558072, -53.67317404787977, 24.386371101801387, -14.931417178137552, 44.169684513742055, -64.00539199771832, 7.380080224120985, 25.627863837148162, 10.016469322717642, 35.46534772100298, 53.45502767717747, 61.76044830907992, -7.900789423839791, -40.81034790369771, 22.397597952824853, -48.57633437499732, 21.234704134253892, 10.016469322717642, -13.123671887491446, -6.715593152692915, -43.289043201887694, 16.057442260839654, -6.426108013768544, 67.16292149866354, 47.18580080677562, -62.764853300697496, -49.89437519877513, 40.81034790369772, -12.18168168665296, -2.1816414035514655, -20.01595960288268, -37.073073317310396, 17.942447089158673, -27.388458790744934, -18.738427636487447, -17.139240533020793, -24.824554769183358, -30.948893813985862, 44.16968451374198, 10.483102477017823, -13.251579275087124, 35.14300734014127, 48.57633437499734, -13.023079670604975, 30.236076190856487, -24.14915752042902, -3.8998440419746827, 27.666361519835664, 20.307901967310777, -9.89060494175803, -38.0950231023439, -42.43622978853501, 27.388458790744952, -50.734892745656694, 10.016469322717642, 43.0898045170044, -8.013816501473892, -32.927862653164134, -52.3297477167588, 22.397597952824853, 36.506477846425426, -53.5544641164968, -39.49679443151138, -13.986850566788776, -4.273500455338617, -37.85231021361414, -36.76902489880967, -27.079670088195172, 61.76044830907992, 41.31261241635549, 40.810347903697696, -24.38637110180138, -7.380080224120985, 45.02479263346476, 11.26956628405723, 7.380080224120985, 45.50224278882952, 37.07307331731042, -25.220232588615506, -10.129230310271025, -14.523092131093053, 60.68590592006639, 22.03622694014543, 6.160456533590615, -19.22458032044626, -39.78256074028419, -19.22458032044626, -28.831736712839785, 61.61138659056721, 32.927862653164134, 27.917780198254395, 35.46534772100298, -12.588563410948135, 21.514502622957547, 54.22392228210536, -51.237584800597276, -17.942447089158673, 17.94244708915867, 6.160456533590611, -48.57633437499735, 8.373026674782395, 62.76485330069748, 65.14476286706355, 0.0, 34.531675134913435, 0.0, -35.73791185278378, 47.54046740461034, 9.196655891628897, -26.34636605765503, -2.0605466502542913, 44.89487024731449, 22.603257476182893, 36.07601155636859, 25.906507999514385, 28.722095663828487, 53.5544641164968, -32.92786265316415, -17.94244708915867, -26.734564823055052, 13.12367188749145, 71.06099573975999, -27.917780198254384, -24.386371101801394, 12.771242564901446, -54.7121713984186, 4.115776985986843, 5.285787242388068, -19.60541484125716, 11.758949766738548, -28.35496178532406, -43.08980451700442, -32.92786265316415, 25.220232588615524, -32.92786265316408, -22.73600488258145, -5.5484662937180635, 7.380080224120985, 20.307901967310777, -12.181681686652954, 37.073073317310424, -15.725812822360147, 0.0, 18.519580636575014, -15.101098161385437, -14.22031221979403, -7.099184168725565, 10.7842978675626, 11.558251258084296, -28.722095663828473, -32.92786265316415, -24.252402661467894, 4.6281375377323455, -11.643431498761677, -2.4721872163439333, -41.448266645179615, 73.61045966596521, -37.073073317310424, -34.89330255069866, -59.92726561090238, 71.69153172110528, -34.75591255354138, 6.160456533590611, -47.18580080677554, -71.06099573975999, 7.380080224120985, 42.53514708200878, -59.92726561090235, 14.523092131093053, 36.50647784642547, -24.000449953683397, 15.512048727561277, -7.380080224120985, 1.2792990249604372, 23.76777858981732, 22.183676862510776, 37.85231021361412, -32.92786265316412, -48.2044690023223, 33.85166597420545, -25.220232588615524, 32.92786265316414, 0.0, 34.43898930880362, -28.509232659916986, -1.6128711537946898, 4.115776985986843, -22.03622694014543, 25.90650799951436, -32.92786265316411, 30.786888492358944, 0.0, -55.206381410914325, -5.6898127164199845, -6.923448914810531, 42.77407610488599, -32.9278626531642, -9.196655891628897, 36.50647784642544, 28.722095663828487, 38.1813177954995, 9.890604941758037, 42.623387225760254, 63.60371351751467, 19.45560221796105, -24.998967260202665, -2.55732376012029, -9.196655891628899, 60.93108983891975, -8.319765692280518, -19.22458032044626, -6.8387887280617266, 15.101098161385437, 8.063246165697256, -28.35496178532406, 15.101098161385437, -24.500268850262316, -42.19754848013323, -14.83875062540359, 9.196655891628899, 61.410380214122, 18.82178616748158, 11.643431498761688, -2.648528937495261, -35.46534772100298, 12.181681686652933, 30.695519823651633, 27.666361519835664, -37.85231021361412, 16.40296798307723, -36.07601155636857, 62.76485330069753, 16.05744226083966, 13.986850566788776, 20.6954507340633, -30.23607619085647, -32.92786265316413, -18.738427636487447, 12.635429180890839, 21.72900237272643, -35.73791185278378, -17.942447089158676, 32.927862653164134, 26.58489043511928, 0.0, 28.7220956638285, 31.263731694377434, -67.88579375972722, 16.057442260839654, -17.94244708915866, 53.5544641164968, 8.373026674782395, 6.519801751656986, -17.94244708915867, -5.285787242388073, 0.0, -20.695450734063282, -3.3693686357925823, 31.021040835634945, -8.013816501473892, -27.917780198254384, -71.06099573975999, -32.927862653164134, -37.0730733173104, 19.22458032044628, -48.2044690023223, 17.942447089158673, 10.12923031027103, 23.352080562311897, -4.935203451166515, 59.92726561090235, 62.76485330069747, 21.234704134253892, 68.89194508075727, -4.628137537732347, 23.352080562311897, 53.99620997619598, -22.39759795282484, -38.36282618129, 16.64146311248337, 30.236076190856487, -29.679021404508436, -23.35208056231187, 21.234704134253892, 26.34636605765502, -43.60281897270363, -17.942447089158676, 23.352080562311883, -3.3693686357925823, -14.83875062540359, -35.5946884990431, 32.92786265316413, 59.92726561090238, -7.380080224120985, 46.46198789878024, -15.512048727561293, -17.139240533020793, 13.023079670604975, 36.20752606901325, 40.81034790369771, -35.73791185278378, -39.49679443151138, 1.4268525831695587, -59.53445508054011, -2.4721872163439333, -18.519580636575018, -31.26373169437744, 68.18245085787422, -22.03622694014543, -37.56199872856741, 26.34636605765502, -62.76485330069748, -42.1975484801332, 15.101098161385437, -1.4839016584330798, -37.42928585974292, -19.224580320446286, -74.31798454009586, -27.388458790744934, -53.45502767717747, 45.806929455102384, -59.29428776941096, -36.86530221920059, -41.31261241635549, -23.352080562311894, 50.527540151656154, -32.927862653164134, -36.35049406855038, -64.00539199771832, -35.737911852783796, 44.16968451374198, 25.9065079995144, 0.0, -44.16968451374196, 43.0898045170044, -49.89437519877513, -40.4867114232607, 25.627863837148162, 38.99099404250549, 42.197548480133214, 42.197548480133214, -15.101098161385437, -37.0730733173104, 52.329747716758746, -32.927862653164134, -43.42621755126606, -26.734564823055052, 34.35642890636523, -43.42621755126606, 4.6281375377323455, 29.30418349069379, -41.68430345162103, 28.146320076634098, -12.694496308668345, -27.917780198254384, 36.506477846425426, -32.92786265316415, 13.02307967060498, -43.289043201887694, -17.26823023887337, -19.330546516050514, -10.198100845623392, 44.169684513741984, 21.46461710680932, -17.94244708915866, 3.0891563753365396, 26.481039830374403, -24.567171320601314, 37.07307331731042, -37.42928585974292, -17.942447089158676, 0.0, 21.592034282719982, 6.16045653359061, -37.0730733173104, -52.32974771675876, 38.990994042505456, -65.1447628670635, 17.94244708915867, 2.0605466502542913, -8.834710662155677, -9.1966558916289, 17.05428101145161, -48.814074834290366, -12.18168168665295, -6.16045653359061, 49.89437519877513, 29.034744210959825, 9.79824300745741, 55.53918372862821, 54.52367984093482, 31.6654572443245, -53.67317404787977, -53.996209976195985, 44.16968451374198, -68.8919450807573, -76.63671391880358, -42.19754848013323, 47.18580080677559, -51.1441571843773, 25.124957815281828, -21.898669246121223, 28.606435096764997, 5.285787242388073, -6.160456533590615, -47.18580080677554, 28.072486935852965, -10.198100845623392, 38.47785974054819, -71.69153172110528, 21.234704134253892, 1.686142077399159, -24.38637110180138, 53.5544641164968, 27.079670088195165, -8.49997467379305, 7.032253053117949, -25.906507999514393, 37.63132689865813, 24.82455476918335, -45.21142258103931, 37.07307331731042, -1.6128711537946898, 29.034744210959836, 52.32974771675875, -8.189511376946337, -13.650419134756985, -62.76485330069745, -1.6128711537946898, 14.523092131093053, 30.871074989628937, 45.50224278882952, 11.44104386876742, -37.303948277983444, -22.03622694014543, 28.354961785324072, -52.329747716758774, -2.648528937495261, -55.95894877696032, 6.160456533590615, 37.07307331731042, 35.8973775117081, -31.910960453232004, 27.186342437494694, -23.352080562311876, -58.298570330494265, 35.05301206344153, -41.68430345162103, -34.893302550698664, 43.0898045170044, 47.62163869046318, -23.352080562311883, 29.74488129694223, 25.124957815281828, -20.94104797543842, -12.181681686652933, 46.46198789878021, 17.94244708915866, 25.906507999514385, -66.19405648154228, 31.53052416911168, 36.07601155636859, -2.648528937495261, -19.788140776701688, -3.5861970865443724, 25.90650799951436, 9.196655891628897, 65.7547397327976, -52.32974771675872, -23.352080562311894, -26.481039830374392, 45.02479263346476, 0.0, -30.23607619085647, -35.46534772100297, -62.764853300697496, -61.410380214122, -47.98952018383268, 43.28904320188769, -61.61138659056721, 9.1966558916289, -24.14915752042902, -44.169684513742055, -61.12455660377191, 38.990994042505456, 24.642351313556297, -19.45560221796105, -21.234704134253892, 35.984088976350904, 44.16968451374198, -6.371168015831028, 37.85231021361413, -12.694496308668345, 3.8998440419746827, 22.603257476182893, -4.356975005846297, 20.307901967310784, -56.50481532625884, 13.650419134756977, -22.73600488258145, 48.576334374997366, 24.386371101801394, -4.6281375377323455, 20.6954507340633, -65.57471928825055, 0.0, -4.6281375377323455, -5.285787242388068, -28.35496178532406, -17.94244708915867, 10.994777349292129, -10.198100845623392, -50.734892745656694, 24.386371101801394, -15.512048727561293, -21.234704134253906, -13.986850566788783, -21.846196297767026, -19.934020408817535, 15.512048727561277, 25.220232588615524, 4.628137537732349, -29.927372071758466, 15.512048727561293, 3.705409306127955, -9.589235728739848, 28.354961785324072, -26.734564823055052, -14.83875062540359, 27.388458790744952, 25.220232588615524, -44.169684513742, -27.82014446666337, -13.251579275087124, 47.75099042876568, -37.073073317310424, 16.641463112483383, -43.52641858177431, 55.206381410914325, -19.330546516050514, -47.1858008067756, 50.09098836384004, -32.927862653164134, 18.519580636575014, 5.915821844805735, 45.02479263346476, -22.39759795282484, -27.388458790744934, 10.016469322717642, 42.43622978853501, -3.3693686357925823, -1.7663848463315017, 67.61986494804042, -20.307901967310784, 2.648528937495261, 7.631615538405302, -55.95894877696032, 61.1245566037719, -26.584890435119284, 28.354961785324072, -19.788140776701688, -44.169684513742, -8.189511376946337, 70.3872452342557, 54.93607119615005, -40.810347903697725, 11.643431498761688, -46.66132861881403, -59.92726561090235, 6.519801751656986, 34.04989926367243, 19.45560221796105, 41.684303451621034, -30.695519823651622, -22.545312882836726, 2.4721872163439333, -72.16747491520738, -13.123671887491446, 16.24763157278565, 34.43898930880362, -27.38845879074495, 10.862287893759808, 2.648528937495261, -46.018246211630945, 0.0, 19.22458032044628, -12.635429180890833, -13.986850566788776, -5.285787242388073, -38.9909940425055, 34.00372741911257, 21.72900237272643, 7.380080224120985, -32.92786265316413, -72.8380811971347, -13.023079670604975, 46.01824621163095, -52.32974771675872, -22.24566871052963, -60.68590592006639, 46.01824621163096, 14.780364217435102, -52.32974771675873, -29.808126632224937, 55.807350807299194, -64.24098213999893, 15.001662688841556, 48.57633437499734, 65.1447628670635, 10.016469322717642, 0.0, -37.073073317310424, -22.03622694014543, -65.1447628670635, -65.14476286706355, -37.073073317310424, -4.356975005846297, -35.05301206344154, 50.527540151656154, -40.094185450916854, -59.92726561090238, -49.023523842741604, 22.03622694014543, 59.92726561090235, -14.523092131093053, 48.576334374997366, -2.648528937495261, 0.0, -26.584890435119284, 38.990994042505456, -12.18168168665296, 26.734564823055067, -45.502242788829506, -6.715593152692915, 22.397597952824853, -9.1966558916289, 0.0, 5.285787242388073, 10.483102477017828, -56.969897865390834, 32.92786265316417, 17.942447089158676, 17.942447089158684, 2.648528937495261, 9.1966558916289, 15.819193947500152, -39.78256074028419, -44.169684513741984, 8.834710662155677, 52.32974771675868, -80.76795348557815, -6.160456533590615, -25.579270527428488, -35.73791185278378, -43.08980451700442, -20.10492720437738, 4.6281375377323455, 12.875001559612475, -17.94244708915866, 53.81736101153215, 48.57633437499734, -22.397597952824853, 32.92786265316413, 4.1157769859868445, 43.52641858177431, -20.695450734063286, 49.023523842741604, 52.32974771675873, -18.611565005936264, -10.016469322717642, -29.034744210959836, -41.88268370243314, 19.45560221796105, -54.7121713984186, 5.915821844805735, 45.71840472604885, 30.236076190856487, -13.41967361551386, 60.93108983891975, 28.35496178532406, -30.23607619085647, -16.94922423382144, 2.648528937495261, 26.734564823055067, 35.05301206344153, 42.197548480133214, -1.324972269376881, 20.30790196731077, -23.35208056231187, -19.788140776701688, -20.94104797543842, -19.78814077670171, 36.07601155636859, 35.737911852783796, 40.81034790369772, -12.18168168665295, 67.88579375972722, -24.68354067962506, 16.64146311248337, -13.650419134756985, -31.02104083563495, 0.0, 35.84225034751062, -3.0891563753365396, 48.2044690023223, 5.48038633196813, 0.0, -22.9498992597488, -56.50481532625884, 16.40296798307724, -12.181681686652952, 31.363302213950067, -27.388458790744934, -13.650419134756985, 37.85231021361412, 15.512048727561293, 41.684303451621034, 44.169684513742006, 27.388458790744934, 8.189511376946337, -3.223190216249565, 29.538782259558097, 17.942447089158673, -64.24098213999893, 26.96897351666366, 17.94244708915866, 45.50224278882952, 39.49679443151137, 67.16292149866354, 8.189511376946337, 37.63132689865813, -16.057442260839654, -7.900789423839791, -5.28578724238807, -3.5861970865443724, 18.669504109061588, -10.016469322717642, 30.140477673237633, 59.29428776941094, 7.380080224120985, 23.35208056231187, -17.318344263916956, -26.584890435119284, -37.85231021361412, 59.53445508054011, -17.94244708915866, 13.650419134756993, 24.25240266146789, 50.40224729095014, -27.388458790744934, -36.50647784642544, 17.942447089158673, -25.404007819133874, 55.206381410914325, -19.133643205905482, -6.16045653359061, -61.61138659056721, -60.68590592006639, 17.94244708915866, 22.397597952824853, -31.72360295768404, 0.0, -24.824554769183358, -1.7663848463315017, -22.03622694014543, -12.771242564901438, 44.169684513741984, 49.149835290981954, 49.89437519877513, -17.942447089158684, -7.380080224120985, 31.363302213950067, -19.788140776701688, -46.66132861881403, 0.0, 44.169684513742006, -51.03325300620072, -45.21142258103931, 47.18580080677562, 37.07307331731042, 14.523092131093053, 0.0, 29.927372071758477, -6.16045653359061, 31.088114127665534, -18.82178616748157, -55.95894877696032, 29.30418349069379, 0.0, -46.46198789878022, 0.0, -45.502242788829506, 50.527540151656154, 31.021040835634945, -11.150156592828939, -9.1966558916289, 7.032253053117949, 34.2824209358808, -15.512048727561284, -17.054281011451604, 14.13606179814707, 4.628137537732349, -2.1816414035514655, 16.40296798307723, 38.36282618129002, 27.079670088195165, -29.03474421095981, -2.0605466502542913, 52.329747716758725, -5.689812716419987, 72.83808119713474, 0.0, -12.18168168665296, 12.181681686652963, -27.079670088195172, -4.115776985986843, -40.810347903697725, 37.073073317310424, -41.88268370243314, -4.115776985986843, 58.29857033049429, -19.934020408817535, -32.92786265316411, -7.380080224120985, 58.298570330494265, 1.324972269376881, -16.40296798307723, 12.58856341094814, -35.24095754208899, 32.927862653164134, -37.42928585974292, -12.181681686652954, -8.189511376946337, 10.994777349292129, 46.774581738375126, 49.37558357275065, 15.101098161385437, 46.46198789878024, 37.852310213614125, 60.365082096815655, 23.35208056231187, -38.18131779549951, -6.519801751656986, 21.234704134253892, -2.851937567007021, -26.734564823055052, 16.057442260839654, 15.90502849211302, -9.89060494175803, 0.0, 41.684303451621034, 48.814074834290366, -38.36282618129, -44.169684513742006, -5.285787242388073, 1.8546438750328063, 17.94244708915867, -55.5391837286282, -17.139240533020793, -23.352080562311883, -22.397597952824853, 46.661328618814025, -21.234704134253892, -1.6128711537946898, 16.40296798307723, -10.483102477017828, 0.0, -35.05301206344154, 32.92786265316414, 23.352080562311897, -24.642351313556304, 8.49997467379305, -50.25823975061731, -40.810347903697725, 20.69545073406328, 12.771242564901446, -35.84225034751062, 37.0730733173104, 24.149157520429036, 17.942447089158673, 21.72900237272643, -19.330546516050514, 0.0, 4.1157769859868445, -7.380080224120985, 27.75291785529662, -6.160456533590615, -45.02479263346477, -23.35208056231187, 13.986850566788776, 48.57633437499734, 4.82842924274384, 30.695519823651633, -31.02104083563495, 0.0, -62.764853300697496, 39.49679443151137, 17.94244708915868, 32.92786265316414, -35.5946884990431, -13.85880089063764, -17.20936594392158, -5.915821844805735, -3.5294183699567334, 10.994777349292129, -1.3740268396097135, 9.589235728739848, -3.5294183699567334, 13.650419134756977, 32.92786265316408, 46.01824621163096, -13.35806618342817, -50.09098836384004, 29.385905947912228, 17.94244708915866, -4.628137537732349, 15.512048727561293, 9.196655891628891, 6.426108013768544, 30.23607619085648, 29.385905947912228, 9.196655891628891, 14.523092131093053, 6.8387887280617266, 14.780364217435102, -26.584890435119284, 0.0, -32.927862653164134, 40.36453657309737, 22.397597952824853, -2.9658153093911825, -34.97004084582636, 32.92786265316413, 8.765687148326284, -44.16968451374199, 29.53878225955809, -52.329747716758774, 35.240957542089, -25.90650799951436, -43.0898045170044, -19.45560221796105, 48.886775290419195, -36.07601155636857, -24.04344533738676, 42.77407610488599, -30.695519823651622, 46.29216688624992, 32.92786265316414, -13.650419134756987, -7.900789423839791, -13.650419134756977, 0.0, -46.01824621163096, -49.37558357275065, -15.819193947500137, -22.73600488258145, -2.3925334550124098, -4.935203451166515, 0.0, 5.6898127164199845, 13.023079670604975, 36.35049406855038, 17.942447089158676, 15.90502849211302, -8.765687148326284, 15.101098161385437, 34.2824209358808, -7.380080224120985, -17.94244708915866, 0.0, 14.931417178137561, 16.94922423382145, 17.942447089158676, 19.788140776701695, 62.76485330069748, -1.686142077399159, -45.71840472604885, 24.824554769183358, 20.69545073406328, 49.023523842741604, -28.146320076634098, 58.298570330494265, -19.60541484125716, 14.220312219794037, -5.5484662937180635, 17.94244708915866, -57.243486053035745, 23.352080562311883, -62.76485330069748, 35.737911852783796, -47.1858008067756, -9.196655891628891, -49.659930503247416, 17.942447089158676, 55.30937924317019, 72.83808119713468, -10.48310247701782, -19.605414841257172, 3.705409306127955, 13.251579275087124, 22.603257476182893, -46.01824621163096, 19.455602217961058, 49.37558357275066, -56.84419599405823, 22.397597952824853, 42.77407610488599, -48.57633437499732, -14.523092131093053, 82.66767282530614, -15.512048727561293, -44.89487024731449, 4.6281375377323455, -22.60325747618288, -31.60141278091812, 71.06099573975992, -47.18580080677562, 36.86530221920059, 0.0, -33.921915646514975, 12.181681686652954, 4.443768879358847, 17.942447089158676, 15.819193947500144, 19.788140776701688, -44.169684513742, 7.380080224120985, 19.788140776701688, 62.76485330069753, -23.767778589817325, -5.689812716419987, 15.101098161385437, 36.50647784642547, 31.363302213950067, -64.58699386342342, 35.5946884990431, 44.16968451374196, -25.220232588615506, 27.079670088195165, -26.481039830374392, 38.55728393028016, 8.664135433108067, 17.26823023887338, 37.85231021361413, 39.782560740284175, -10.016469322717642, -35.8973775117081, 15.512048727561277, -10.994777349292129, 12.181681686652961, -9.196655891628897, 43.60281897270363, 2.3178496429030178, -42.1975484801332, -29.538782259558108, -9.196655891628891, -78.3663660010596, 47.75099042876568, 42.43622978853501, -47.1858008067756, 12.18168168665296, 23.352080562311883, 1.4268525831695587, 0.0, -25.220232588615524, -44.169684513742006, 16.64146311248337, 7.763884405677521, -47.7509904287657, 24.386371101801387, 39.78256074028421, -17.94244708915867, -41.68430345162103, -36.50647784642544, 58.29857033049429, 20.854458039578358, -13.023079670604975, 42.53514708200878, 44.169684513741984, -38.6598082540901, -32.92786265316413, -16.057442260839654, -36.3882027268435, 16.641463112483383, -49.149835290981954, 0.0, 38.99099404250545, 35.240957542089, -5.48038633196813, 0.0, 4.356975005846297, -9.196655891628891, 17.942447089158673, 40.810347903697725, 31.150630557988556, 8.189511376946337, 35.240957542089, 5.915821844805735, -55.206381410914325, 17.942447089158676, 28.072486935852965, 14.274440091701676, -19.78814077670171, -29.538782259558072, 10.198100845623392, 32.92786265316414, -3.3693686357925823, 0.0, 53.81736101153215, 30.487219130460485, 15.512048727561293, 29.385905947912228, -24.824554769183358, -76.29814356982716, 45.71840472604885, 48.886775290419195, 36.50647784642547, -8.189511376946337, -13.650419134756977, -54.7121713984186, -19.78814077670171, -35.84225034751062, 32.927862653164134, -23.352080562311894, -6.160456533590611, -16.40296798307723, 17.942447089158676, 55.53918372862824, 46.01824621163095, -35.73791185278378, -7.900789423839791, -7.380080224120985, -35.24095754208899, -50.25823975061731, 64.82887598994175, -50.40224729095014, 27.388458790744934, 36.50647784642544, 0.0, 9.196655891628891, 15.101098161385437, -8.189511376946337, -3.705409306127955, 31.60141278091812, -46.46198789878022, 17.942447089158676, -22.24566871052963, -31.02104083563495, 30.596009467062675, -53.5544641164968, 9.1966558916289, -37.073073317310424, 37.303948277983444, -23.352080562311837, -52.329747716758746, 12.18168168665295, -60.365082096815655, 37.073073317310396, -7.380080224120985, 32.927862653164134, 19.934020408817528, 29.034744210959825, 62.764853300697496, -36.27748696679703, 4.628137537732349, -24.000449953683397, -13.650419134756985, 2.1816414035514655, 3.705409306127955, -54.22392228210538, -46.29216688624992, -38.99099404250545, -3.3693686357925823, -30.695519823651622, 19.224580320446275, 31.021040835634945, 0.0, -41.31261241635549, -19.224580320446286, 24.149157520429036, -2.1816414035514655, 17.20936594392159, -35.240957542089, -19.45560221796105, 15.101098161385437, 21.234704134253892, 72.83808119713468, 37.85231021361413, 49.37558357275066, -7.380080224120985, 41.44826664517961, 51.237584800597276, 53.45502767717747, -40.81034790369768, 55.206381410914325, 54.93607119615005, -38.72312897706813, -56.12434608694927, 0.0, -15.512048727561277, 10.994777349292129, -16.641463112483375, -35.737911852783796, 6.8387887280617266, -13.023079670604975, 17.05428101145161, 4.1157769859868445, 3.5294183699567334, 64.00539199771832, 58.8587911283291, 24.642351313556297, -18.519580636575018, -27.66636151983567, -64.24098213999893, 15.512048727561277, -65.7547397327976, 74.31798454009592, -11.44104386876742, -25.906507999514385, -67.61986494804042, -13.35806618342817, 7.900789423839791, 48.2044690023223, -25.220232588615506, -38.9909940425055, 13.251579275087124, 6.715593152692915, 35.46534772100298, 32.92786265316414, 0.8245172608515247, 12.18168168665296, 54.7121713984186, -37.42928585974292, -39.49679443151138, 22.183676862510776, -17.94244708915866, 23.352080562311876, -20.307901967310777, 7.380080224120985, -43.52641858177431, -21.464617106809328, 71.06099573975995, 79.07541386112463, 37.42928585974291, -34.00372741911257, -66.1940564815423, -26.481039830374417, 43.28904320188769, 46.661328618814025, 5.285787242388073, 19.788140776701688, -11.643431498761677, 50.8994636731489, -6.923448914810531, 12.181681686652933, -13.023079670604975, -34.63647019480071, 12.18168168665296, 17.94244708915868, 7.380080224120985, -1.2792990249604372, -13.986850566788776, 29.927372071758477, -20.30790196731077, -21.234704134253892, 0.0, 37.073073317310424, -42.898007654102024, -39.49679443151138, 42.197548480133214, 42.197548480133214, 17.942447089158676, -28.35496178532406, -11.269566284057234, 37.85231021361413, -1.9521830680865255, -10.48310247701782, 28.189554310388257, 2.648528937495261, -10.7842978675626, -2.9658153093911825, 36.50647784642547, 24.824554769183358, 12.771242564901446, -25.90650799951436, -16.188646460058557, -25.906507999514385, -20.695450734063282, -13.650419134756977, 7.380080224120985, 19.13364320590548, 6.519801751656986, 36.506477846425426, 58.298570330494265, 13.02307967060498, 22.603257476182886, 9.196655891628891, 2.4721872163439333, 18.82178616748158, 7.099184168725565, 71.06099573975999, 14.523092131093053, 32.92786265316415, 16.057442260839668, -25.124957815281828, 49.37558357275065, -2.9658153093911825, 15.512048727561277, -35.24095754208899, 40.81034790369771, 0.0, 24.824554769183347, 52.32974771675875, 9.671769697334895, -17.94244708915867, 2.0605466502542913, -2.55732376012029, -29.034744210959836, 19.788140776701688, 40.81034790369771, -42.53514708200879, -45.02479263346477, -16.05744226083966, -39.78256074028419, 45.502242788829484, 32.927862653164134, 72.83808119713468, -58.298570330494265, -32.92786265316411, -36.506477846425426, -15.001662688841549, 15.675974454627386, -55.53918372862822, 48.57633437499734, 5.104498685313563, 23.687526336720797, 3.9692634567194975, -9.196655891628899, 26.877364027704036, 7.380080224120985, -32.017221178888825, 22.245668710529635, -4.356975005846297, -70.03281339419854, -2.4721872163439333, 13.98685056678879, 21.234704134253892, -15.512048727561293, 9.196655891628891, -52.32974771675872, 8.664135433108067, -15.512048727561293, 32.92786265316414, -21.592034282719972, -9.196655891628897, -13.023079670604975, 34.89330255069864, -10.48310247701782, -17.942447089158716, -6.160456533590615, 15.512048727561293, 11.643431498761688, 16.188646460058553, -48.2044690023223, 37.42928585974291, -7.380080224120985, -72.83808119713468, 28.354961785324072, 9.196655891628891, 23.824260582895427, 16.05744226083966, 29.74488129694223, 17.94244708915868, 49.659930503247416, 50.73489274565668, 4.628137537732349, 6.715593152692915, 10.016469322717642, 41.882683702433134, 19.605414841257172, -13.251579275087124, -17.942447089158716, -24.824554769183358, 37.07307331731042, -58.29857033049434, 25.124957815281828, -46.01824621163096, -65.14476286706355, 10.696510735778118, -15.512048727561293, -34.10021125850712, -9.196655891628891, 53.81736101153215, -20.307901967310784, 28.35496178532406, 8.013816501473892, 12.181681686652963, -31.776628885945097, 30.487219130460485, 7.763884405677521, 66.1940564815423, -8.189511376946342, -29.21860624941389, -58.298570330494265, -40.81034790369764, 21.592034282719982, 18.56217832404464, 17.20936594392159, -13.650419134756977, -22.828775034651386, 27.917780198254395, -30.695519823651622, 51.03325300620072, -30.48721913046047, -26.26283906417685, 0.0, -19.45560221796105, 6.160456533590615, 12.18168168665296, 27.75291785529662, -30.23607619085647, -39.78256074028419, 32.927862653164134, -58.29857033049431, -25.90650799951436, 9.589235728739848, -3.3693686357925823, -14.274440091701669, 3.3693686357925823, -36.07601155636857, -40.8103479036977, 1.1967884362849743, 15.512048727561277, -24.567171320601314, 50.527540151656154, 3.8998440419746827, 4.115776985986843, -9.196655891628891, -25.092677249305748, 17.942447089158716, -29.538782259558072, 17.20936594392159, -1.6128711537946898, 32.92786265316413, 40.81034790369772, -34.43898930880363, 55.53918372862822, 32.92786265316415, -23.352080562311883, 0.0, 57.24348605303576, -10.48310247701782, 36.0760115563686, -44.89487024731449, 40.43532347398004, 45.50224278882952, -29.927372071758466, -21.234704134253892, 12.18168168665296, -41.31261241635549, 0.0, 54.93607119615005, -30.487219130460485, 48.57633437499734, -41.68430345162103, 23.352080562311883, -25.220232588615506, 13.251579275087124, -13.251579275087124, 71.06099573975992, 32.9278626531642, 17.942447089158676, -19.45560221796105, -13.650419134756985, 28.884444642189802, -27.388458790744934, -12.18168168665295, 22.03622694014543, 52.32974771675874, 0.0, -35.7379118527838, 3.8328075150827248, 2.9658153093911825, -27.388458790744934, 0.0, 58.298570330494265, -71.99182748898198, 38.99099404250548, 26.734564823055067, -28.831736712839785, 19.788140776701688, -9.1966558916289, 30.09008812123676, 10.48310247701782, -17.94244708915866, -27.388458790744934, -10.69651073577811, -1.4268525831695587, 29.385905947912228, -9.196655891628899, 36.76902489880966, 27.388458790744952, -30.695519823651622, -7.032253053117949, -24.824554769183358, 58.29857033049429, 4.6281375377323455, 29.034744210959836, -66.19405648154233, 12.18168168665296, -19.22458032044626, 10.198100845623392, 41.97045934438969, 12.181681686652954, 22.036226940145458, -9.589235728739848, -22.036226940145443, 10.862287893759808, -17.942447089158673, -6.715593152692915, -11.364200102718739, 53.5544641164968, 32.92786265316414, -35.46534772100297, 66.61861605632949, 30.695519823651633, 32.927862653164134, -27.388458790744934, 26.481039830374417, -15.512048727561277, 28.722095663828487, 0.0, 37.42928585974291, -58.29857033049426, -38.99099404250545, -9.196655891628897, 46.01824621163095, 0.0, -6.8387887280617266, 50.40224729095014, 25.220232588615524, -40.81034790369771, -13.251579275087124, 22.03622694014543, 36.76902489880966, -19.45560221796105, 39.49679443151137, 27.388458790744945, 30.367788104524962, 30.23607619085648, 45.71840472604885, -25.579270527428488, -32.927862653164134, 24.56717132060132, -26.26283906417685, 36.86530221920059, -11.269566284057234, 0.0, -17.139240533020793, 34.755912553541364, 50.2582397506173, 46.01824621163095, -62.764853300697496, 1.686142077399159, 26.481039830374403, -48.2044690023223, 2.8519375670070226, -21.729002372726416, -22.60325747618288, 16.24763157278565, 10.483102477017825, -34.75591255354138, -30.487219130460485, -16.40296798307723, 59.92726561090233, 14.523092131093053, -14.523092131093053, 23.35208056231187, -14.523092131093053, 17.942447089158676, 11.150156592828946, 9.1966558916289, -25.906507999514385, 10.818823049566914, -16.734995994930156, 20.30790196731077, 40.81034790369772, 19.05474993151104, 1.686142077399159, -32.927862653164134, -17.94244708915867, 60.365082096815655, -10.016469322717642, 37.42928585974291, -52.329747716758746, -5.915821844805735, 35.46534772100298, -37.42928585974292, 25.906507999514385, 32.92786265316415, -19.60541484125716, 0.0, -16.40296798307723, 41.68430345162105, 70.18620675450435, 3.3693686357925823, 9.589235728739848, -21.51450262295755, -40.81034790369768, -48.576334374997366, -13.488089257158542, 45.211422581039294, 49.37558357275065, 1.7663848463315017, -6.160456533590615, 30.236076190856487, -15.512048727561284, 32.92786265316417, -34.89330255069866, -40.810347903697725, 12.18168168665296, -21.234704134253892, -20.307901967310762, -20.695450734063282, -9.196655891628899, -39.49679443151138, 3.705409306127955, -17.94244708915866, 15.101098161385437, 6.715593152692915, -6.715593152692915, 12.18168168665296, 38.99099404250549, -6.715593152692915, 12.181681686652963, -17.139240533020793, 61.61138659056721, 8.013816501473892, -13.650419134756977, 53.90171603289201, 14.220312219794037, 29.927372071758477, -3.3693686357925823, -25.627863837148162, 24.386371101801394, 50.8994636731489, 58.298570330494265, 21.234704134253892, -53.67317404787977, 26.20597196512165, -49.37558357275066, 53.5544641164968, 29.808126632224937, -41.68430345162103, -30.487219130460485, 36.86530221920059, -7.380080224120985, 28.831736712839778, 40.26081072674037, -20.307901967310784, 42.77407610488597, 38.99099404250545, 44.169684513742, -12.18168168665296, 46.01824621163095, -42.19754848013322, 54.22392228210536, -68.8919450807573, 8.834710662155677, -46.01824621163096, -9.589235728739848, -37.42928585974292, 15.512048727561293, 9.196655891628891, 4.870581014000554, -43.289043201887694, -7.631615538405302, -9.196655891628891, -3.223190216249565, 49.659930503247416, -15.10109816138543, -28.884444642189802, 2.851937567007021, 31.363302213950067, -57.243486053035745, 17.139240533020804, 2.0605466502542913, 9.589235728739848, 29.21860624941389, 0.0, 34.35642890636523, 30.695519823651633, 24.149157520429036, 7.380080224120985, 68.89194508075731, -7.380080224120985, 11.269566284057243, 20.307901967310777, -19.45560221796105, -24.824554769183358, -32.92786265316413, 37.073073317310396, 68.8919450807573, -51.03325300620072, 24.824554769183358, 28.35496178532406, -19.788140776701688, 13.986850566788776, -22.39759795282484, 0.0, 25.0666610660642, -16.40296798307723, -5.046794290775168, 30.09008812123676, 25.90650799951439, 2.746475082326106, -31.530524169111693, 29.53878225955809, -10.483102477017828, -32.92786265316415, -20.307901967310784, -10.48310247701782, 9.196655891628899, 28.35496178532406, 4.115776985986843, 64.00539199771832, 23.352080562311876, 22.397597952824846, 0.0, 14.931417178137561, 22.603257476182893, 25.220232588615524, -20.10492720437738, -6.160456533590615, -7.032253053117949, -68.89194508075725, -17.94244708915867, 34.97004084582636, 28.354961785324072, -19.55228733989244, 8.189511376946337, 6.715593152692913, 30.695519823651633, 46.01824621163096, -40.260810726740374, -48.576334374997366, 14.523092131093053, -30.487219130460485, 53.67317404787977, 28.7220956638285, 5.285787242388068, -26.584890435119284, -21.234704134253892, 26.734564823055067, 24.824554769183347, 25.906507999514385, 34.89330255069864, -30.48721913046047, -59.92726561090238, -40.81034790369764, -61.87539543870606, 27.144142305646408, 17.31834426391695, -2.1816414035514655, 53.81736101153215, -56.969897865390834, 13.251579275087124, -35.053012063441514, -50.8994636731489, 15.322579774365499, 7.380080224120985, 40.81034790369764, 18.611565005936257, 17.942447089158676, 11.26956628405723, -34.89330255069866, 9.196655891628891, -25.90650799951436, -23.35208056231187, -53.996209976195985, 2.4721872163439333, -47.1858008067756, -16.64146311248337, 85.09692452365954, 10.7842978675626, -20.30790196731077, -29.538782259558072, -32.92786265316415, 28.722095663828487, 45.50224278882952, 81.76302328559491, 31.150630557988556, -7.295195148885601, 27.388458790744952, -1.8546438750328063, -17.942447089158676, -27.66636151983567, 28.35496178532406, -65.7547397327976, 32.92786265316413, -56.969897865390834, 49.659930503247416, 34.10021125850712, 22.82877503465138, 1.1967884362849743, 13.419673615513869, -61.61138659056721, -32.92786265316414, 13.858800890637648, 38.990994042505456, -60.365082096815655, 28.54619073104337, -12.18168168665296, -14.523092131093053, -17.942447089158684, 53.5544641164968, -32.92786265316415, -6.16045653359061, 25.220232588615513, -14.136061798147061, 29.53878225955809, 40.810347903697696, 11.26956628405723, 10.696510735778118, 42.19754848013322, -29.385905947912228, 34.694175069572545, -5.28578724238807, 11.558251258084296, 0.0, 15.001662688841556, -20.552897791575575, -26.481039830374392, -10.016469322717642, 48.2044690023223, 53.37052383113033, 9.1966558916289, 56.50481532625883, 54.93607119615005, 5.285787242388068, 32.92786265316413, 22.036226940145447, -5.6898127164199845, -40.810347903697696, 55.95894877696031, -11.269566284057234, -8.013816501473892, 16.057442260839654, 26.20597196512165, -34.89330255069866, -14.523092131093053, 0.0, -15.512048727561293, 21.72900237272643, 36.07601155636859, -5.48038633196813, -1.324972269376881, -25.32632481122052, -10.322852684236434, 19.455602217961047, -4.115776985986843, 15.25268854741971, 12.18168168665295, 19.224580320446275, 33.88550433314374, -61.61138659056721, 29.034744210959825, 17.94244708915868, -30.48721913046047, -9.196655891628899, -8.013816501473892, -16.057442260839654, -55.53918372862822, 9.1966558916289, -35.053012063441514, -42.53514708200879, 40.810347903697696, 29.21860624941389, 5.285787242388068, 30.948893813985862, -28.606435096765008, 14.523092131093058, 47.18580080677562, -29.538782259558072, 40.094185450916854, 22.82877503465138, 36.50647784642547, -39.36262700162062, -10.7842978675626, -32.92786265316414, -42.1975484801332, 16.057442260839654, -21.729002372726416, 11.558251258084296, -31.72360295768404, -38.36282618129002, 5.285787242388068, 56.77198519545097, -12.181681686652954, 29.927372071758477, -45.02479263346477, 19.224580320446275, -20.307901967310762, 25.9065079995144, -11.44104386876742, 31.263731694377434, 19.45560221796105, 25.9065079995144, -16.641463112483375, 73.46143943166977, -72.83808119713468, -90.0, -47.18580080677562, 28.606435096764997, -46.66132861881403, -45.71840472604885, 52.32974771675873, 40.81034790369772, 14.523092131093053, 16.64146311248337, -27.38845879074495, 0.0, 23.76777858981732, -1.8546438750328063, 0.0, -16.40296798307723, -3.0891563753365396, -50.8994636731489, 12.55047235880458, 53.81736101153215, 55.53918372862822, -41.2245341757102, -30.090088121236768, -48.576334374997366, 23.352080562311837, -30.48721913046047, 3.0891563753365396, 11.364200102718744, 34.89330255069864, -22.60325747618288, -35.5946884990431, -4.6281375377323455, 45.02479263346476, 22.397597952824853, 38.36282618129002, 17.94244708915866, -45.71840472604885, -50.25823975061727, -6.160456533590615, 39.28471471776323, -52.32974771675875, 18.82178616748158, 59.53445508054011, -4.6281375377323455, -13.251579275087124, -55.95894877696032, 64.00539199771832, 12.181681686652963, 7.380080224120985, 7.683981829733958, -47.18580080677562, -2.648528937495261, -18.56217832404465, -13.023079670604975, -9.589235728739848, 52.329747716758725, -19.45560221796105, -21.234704134253892, -3.3693686357925823, -12.771242564901438, 56.50481532625878, 43.0898045170044, 38.990994042505456, -13.251579275087124, -52.32974771675868, 61.61138659056721, 4.82842924274384, 11.70813361653406, 7.380080224120985, 41.684303451621034, 39.49679443151137, 14.13606179814707, -29.034744210959836, 38.55728393028016, -8.189511376946337, -52.329747716758746, -72.83808119713468, -29.538782259558072, 24.386371101801394, -26.734564823055052, -45.02479263346477, -3.3693686357925823, 5.509358437021368, -48.2044690023223, 40.810347903697696, -42.77407610488598, 17.942447089158676, 8.013816501473892, -58.29857033049426, -9.589235728739848, 61.410380214122, -12.875001559612475, -10.483102477017828, -14.136061798147061, 12.18168168665295, -13.023079670604975, -8.189511376946337, 26.34636605765502, -23.82426058289543, 3.705409306127955, 15.101098161385437, -8.189511376946337, -26.877364027704044, 7.900789423839791, -7.380080224120985, 15.101098161385437, 0.0, -24.38637110180138, 64.00539199771832, -4.6281375377323455, -34.53167513491344, -16.40296798307723, 41.44826664517961, -3.9692634567194975, 31.088114127665534, 14.220312219794037, 38.0950231023439, 24.824554769183358, -35.73791185278378, 36.76902489880966, -9.798243007457405, 23.687526336720797, -32.927862653164134, 50.2582397506173, -49.37558357275066, -17.94244708915868, 49.023523842741604, 60.365082096815655, -7.032253053117949, 9.1966558916289, -16.734995994930156, -47.98952018383268, -54.93607119615004, 44.667812411600806, 20.152335301667527, 23.352080562311883, 19.05474993151104, 35.240957542089, -19.45560221796105, -9.1966558916289, 44.169684513742, 17.94244708915867, 46.46198789878021, 15.101098161385437, 24.000449953683404, -46.01824621163096, 6.715593152692915, 26.16475762224623, 22.397597952824853, 37.67392620517861, -16.64146311248337, 28.884444642189802, 0.0, 41.684303451621034, 32.92786265316414, -3.705409306127955, 0.0, -10.016469322717642, -13.85880089063764, -2.0605466502542913, -31.60141278091812, -16.40296798307723, 34.10021125850712, -56.12434608694927, 29.034744210959825, 23.352080562311883, -41.80725498819573, -28.35496178532406, 63.83464458416822, 17.942447089158676, 35.05301206344153, 12.181681686652961, -55.206381410914325, -13.986850566788776, 6.16045653359061, 21.72900237272643, -41.31261241635549, -2.55732376012029, -36.50647784642545, 3.223190216249565, -40.81034790369771, -48.57633437499734, -32.927862653164134, 0.0, 68.8919450807573, -3.0891563753365396, -17.94244708915867, -53.81736101153215, 20.69545073406328, 44.169684513742006, 26.96897351666366, 46.01824621163096, 33.961204937082925, 35.34796551935351, -23.352080562311883, 44.169684513741984, 6.715593152692915, 53.5544641164968, 38.72312897706813, 42.19754848013323, -2.4721872163439333, 49.89437519877513, -67.88579375972722, 57.55126280327039, 54.52367984093482, 7.900789423839791, -42.1975484801332, -22.828775034651386, 42.19754848013322, 24.149157520429036, 7.380080224120985, -32.92786265316414, 21.234704134253892, -17.94244708915867, -56.969897865390834, 49.37558357275065, 60.234958331084336, 44.16968451374196, 21.234704134253892, -24.642351313556304, -56.504815326258814, -42.952071575348334, 32.92786265316413, -44.169684513741984, -66.19405648154228, 50.2582397506173, -26.734564823055052, 35.05301206344153, -60.234958331084336, 46.01824621163095, 50.2582397506173, 10.696510735778118, 37.35323798643282, 3.705409306127955, -26.628384732174403, 2.3178496429030178, 14.838750625403595, -64.24098213999893, -46.29216688624992, 3.3693686357925823, 10.994777349292129, 34.35642890636523, -5.915821844805735, 40.81034790369764, 16.057442260839654, -60.685905920066375, 30.236076190856487, 0.0, 7.380080224120985, 19.662167524950675, 26.96897351666366, 6.923448914810531, -11.44104386876742, 38.99099404250549, -28.54619073104337, -6.59673829789421, 20.104927204377372, 19.788140776701695, 3.0891563753365383, 26.734564823055067, 30.236076190856487, -1.2792990249604372, -32.92786265316415, 27.917780198254395, 2.648528937495261, 30.87107498962892, 3.705409306127955, -2.55732376012029, 37.852310213614125, -41.2245341757102, 45.02479263346476, 41.44826664517961, -24.824554769183358, -18.56217832404465, 43.28904320188769, 30.596009467062675, 43.0898045170044, 17.942447089158676, 51.1441571843773, 35.84225034751062, -9.671769697334895, 32.927862653164134, 23.352080562311883, 29.92737207175847, -55.53918372862822, -23.352080562311883, 6.160456533590615, 14.13606179814707, 12.181681686652961, 34.43898930880362, -12.18168168665295, 4.82842924274384, -9.1966558916289, -20.30790196731077, 23.352080562311883, 14.523092131093053, 24.25240266146789, 35.14300734014127, -37.85231021361412, 19.934020408817528, 30.09008812123676, -6.923448914810531, 32.92786265316413, -14.073513050384463, 17.361524083798738, 21.592034282719982, 17.94244708915868, 55.206381410914325, 25.404007819133874, -22.397597952824853, 12.18168168665295, 43.28904320188769, 31.60141278091812, -15.322579774365494, -12.181681686652954, 24.386371101801387, -34.75591255354138, -37.85231021361414, 22.603257476182893, 17.26823023887338, 21.234704134253892, 38.72312897706813, 32.92786265316415, 9.196655891628891, -27.388458790744934, -36.67733693648981, -12.18168168665296, -26.481039830374392, -5.48038633196813, -25.90650799951436, -12.18168168665296, 19.224580320446275, 7.380080224120985, 7.763884405677521, 44.169684513741984, 59.015596341067784, 12.181681686652933, 15.101098161385437, -10.016469322717642, 30.236076190856487, 0.0, 12.694496308668352, 23.352080562311897, 7.380080224120985, 0.0, -4.935203451166515, -27.917780198254384, -12.771242564901438, 5.689812716419987, -38.55728393028017, 22.73600488258146, 44.89487024731449, 12.181681686652963, -53.45502767717747, 20.104927204377372, -2.4721872163439333, -42.19754848013323, 3.3693686357925823, -29.03474421095981, -5.285787242388068, 45.211422581039294, -32.92786265316414, 12.18168168665295, -25.220232588615524, 19.788140776701688, 24.386371101801394, 6.160456533590611, 13.986850566788776, -21.729002372726416, 4.82842924274384, 22.603257476182893, -32.92786265316411, 8.49997467379305, 7.032253053117949, 60.68590592006639, -47.98952018383267, -3.0891563753365383, -32.92786265316415, -37.0730733173104, -12.181681686652956, -46.46198789878022, 34.6364701948007, -19.224580320446286, 36.35049406855038, -71.06099573975999, -9.196655891628897, -13.801353361031598, -46.01824621163096, -39.49679443151138, 3.0891563753365396, -12.694496308668345, -6.426108013768544, -17.94244708915867, -8.664135433108067, 0.0, 47.18580080677559, 13.650419134756977, -58.298570330494265, -47.98952018383268, -29.03474421095981, 25.9065079995144, -25.906507999514385, -16.64146311248337, -71.69153172110528, 24.82455476918335, 38.990994042505456, -29.03474421095981, -27.388458790744934, -12.18168168665295, -12.18168168665295, 48.2044690023223, -28.35496178532406, -42.19754848013323, 25.9065079995144, -32.92786265316408, 50.09098836384004, -38.55728393028017, -50.734892745656694, -15.101098161385437, -30.695519823651622, -20.015959602882674, 37.852310213614125, 8.189511376946337, 23.352080562311897, 31.60141278091812, 6.160456533590615, -52.32974771675874, -30.871074989628912, -38.0950231023439, 21.234704134253903, 31.150630557988556, -12.181681686652933, 59.53445508054011, 32.1033769631174, -55.95894877696032, 52.32974771675876, 1.686142077399159, -49.89437519877513, 8.189511376946337, 18.924644416051244, 12.875001559612475, -54.7121713984186, -25.90650799951436, -46.774581738375126, 13.419673615513869, -48.2044690023223, 13.650419134756987, 62.76485330069747, -45.02479263346477, -7.380080224120985, -32.9278626531642, -55.206381410914325, -1.8546438750328063, 6.16045653359061, 55.53918372862821, 31.021040835634945, -40.81034790369764, 0.0, -19.788140776701688, 37.42928585974291, 12.18168168665295, 49.37558357275066, 13.023079670604975, -25.220232588615506, -65.7547397327976, 23.898504137359094, -31.6654572443245, 14.220312219794037, 25.220232588615524, 22.397597952824853, 8.664135433108067, 0.0, -32.927862653164134, -1.4268525831695587, 37.85231021361413, 10.994777349292129, 50.73489274565668, -8.49997467379305, 3.8998440419746827, 23.352080562311876, 58.298570330494265, 35.46534772100298, -20.015959602882674, 20.307901967310777, 26.734564823055067, 1.7663848463315017, 3.705409306127955, 49.37558357275065, -58.298570330494265, -15.252688547419702, 2.746475082326106, -25.220232588615524, -9.196655891628891, -28.35496178532406, 46.29216688624992, 0.0, -15.10109816138543, 17.942447089158676, 40.81034790369772, 32.927862653164134, 0.0, -3.705409306127955, 4.6281375377323455, 52.329747716758725, -37.073073317310424, -2.648528937495261, 43.42621755126606, 19.934020408817528, 20.1817906999817, 0.0, -61.410380214122, -15.819193947500137, -59.53445508054011, 33.921915646514975, -2.4721872163439333, -23.82426058289543, -43.08980451700442, -5.963187670969326, 36.76902489880966, -18.482462127760733, -4.356975005846297, -10.7842978675626, 15.90502849211302, -65.7547397327976, 13.358066183428177, 64.24098213999892, 32.92786265316415, 13.251579275087124, 26.96897351666366, 10.994777349292129, -29.927372071758484, -20.48701419333071, 34.10021125850712, 19.330546516050507, 10.016469322717642, 6.160456533590615, -61.1245566037719, 60.365082096815655, 32.92786265316413, -24.000449953683397, 56.969897865390834, 30.695519823651633, 17.94244708915868, -16.05744226083966, 37.073073317310396, -40.81034790369768, -16.81598363951125, -62.764853300697496, 49.023523842741604, -30.695519823651622, 37.85231021361413, 22.397597952824853, 46.01824621163095, -23.02549200852804, 28.722095663828487, -35.05301206344154, 17.139240533020804, 28.7220956638285, 22.03622694014543, 12.18168168665295, -24.38637110180138, 23.35208056231187, -22.9498992597488, -17.36152408379874, 32.92786265316415, 22.82877503465138, -5.48038633196813, 47.98952018383269, 41.97045934438969, -16.302779173364062, -25.906507999514393, -15.512048727561293, -22.828775034651386, 26.26283906417684, 22.897263121546555, 24.386371101801394, 30.87107498962892, -55.5391837286282, 1.5457014988888864, 42.197548480133214, -5.689812716419987, 27.079670088195165, 56.12434608694927, -42.952071575348334, 1.9521830680865255, 20.55289779157558, 2.851937567007021, -17.94244708915866, 37.07307331731042, -39.78256074028419, -4.356975005846297, -20.695450734063282, -6.16045653359061, 22.397597952824853, 5.285787242388073, 41.31261241635549, 6.160456533590611, -28.7220956638285, -10.483102477017823, -36.50647784642545, -52.32974771675873, 0.0, 40.094185450916854, 34.6364701948007, -46.774581738375126, -17.942447089158676, 21.592034282719982, -5.285787242388073, -1.5457014988888864, 6.16045653359061, -6.519801751656986, 12.181681686652933, -16.247631572785643, 68.89194508075731, -10.732916469352645, 20.015959602882674, -10.129230310271025, 32.92786265316411, 27.388458790744945, 0.0, 37.42928585974291, -47.98952018383268, -59.92726561090238, -3.705409306127955, 0.0, 8.373026674782395, -17.942447089158676, 20.55289779157558, -40.09418545091686, 6.160456533590615, 9.196655891628891, 17.94244708915866, 15.512048727561293, -20.10492720437738, 9.196655891628891, 38.990994042505456, 37.852310213614125, 50.8994636731489, 28.146320076634098, 17.942447089158684, -13.251579275087124, 0.0, -28.831736712839785, 57.24348605303576, -60.365082096815655, -27.388458790744934, 32.92786265316415, -13.650419134756977, -22.397597952824853, -79.07541386112463, 32.92786265316413, 9.196655891628891, -60.68590592006639, 20.30790196731078, -35.24095754208899, -47.98952018383267, 30.236076190856487, -27.388458790744934, -42.53514708200879, -21.729002372726416, 27.388458790744952, 64.58699386342342, -72.83808119713468, 69.66588696749949, 59.92726561090238, 40.810347903697696, 10.696510735778118, -46.01824621163096, -31.530524169111693, 2.648528937495261, 42.197548480133214, 13.12367188749145, 7.683981829733958, 15.512048727561293, 20.30790196731078, -20.695450734063286, -32.927862653164134, -71.06099573975993, -3.705409306127955, -26.481039830374392, 0.0, -32.927862653164134, 0.0, -16.247631572785643, -20.307901967310762, 17.942447089158676, -53.67317404787977, -15.322579774365494, 15.101098161385437, 21.729002372726434, 18.611565005936257, 17.20936594392159, 28.722095663828487, -24.386371101801394, 32.927862653164134, -50.52754015165616, -41.31261241635549, 54.36281591780597, 37.42928585974291, 12.771242564901446, -26.734564823055052, -35.737911852783796, 45.02479263346476, -32.927862653164134, -39.60820645285758, 19.45560221796105, -57.82661909270259, 29.034744210959836, 10.994777349292129, -36.50647784642544, -25.906507999514385, -11.799916873828833, -1.686142077399159, 55.807350807299194, 29.385905947912228, -45.502242788829484, 22.397597952824853, -14.274440091701669, 24.000449953683404, 82.00935536214524, -28.35496178532406, 45.502242788829484, 37.85231021361412, 17.399115744092665, 16.491620610640222, 52.329747716758746, 20.6954507340633, -17.942447089158676, 68.8919450807573, -35.46534772100298, 45.71840472604885, 26.481039830374403, -14.523092131093053, -62.76485330069747, 58.298570330494265, 29.174285959920073, 13.48808925715855, 42.19754848013323, 0.0, 0.0, 60.93108983891975, 24.386371101801394, -56.504815326258814, 13.650419134756977, -2.7610614455801152, -6.229133986379425, 0.4033176661544793, 27.388458790744952, -22.39759795282484, -3.8196754122445347, -40.09418545091686, -8.189511376946337, 46.01824621163095, 3.1547517236631237, 0.382528730299917, -6.160456533590615, 19.224580320446275, -23.767778589817325, 1.7663848463315017, 45.50224278882952, 5.339966477137056, 61.410380214122, 8.189511376946337, 68.05976841202902, 47.98952018383269, 45.33902432445146, 35.05301206344153, -32.92786265316415, -37.073073317310424, 24.386371101801394, 19.05474993151104, -23.35208056231189, -68.05976841202902, 12.181681686652954, 24.824554769183347, -1.7663848463315017, 27.75291785529662, -41.448266645179615, -13.023079670604975, 16.815983639511252, -13.986850566788783, 55.95894877696031, 44.16968451374196, 6.715593152692915, 6.16045653359061, -71.06099573975993, -65.91624377246046, 52.32974771675873, 40.81034790369772, 29.53878225955809, 19.934020408817528, -21.464617106809328, 43.42621755126606, -21.234704134253892, -40.260810726740374, 59.92726561090233, -30.23607619085647, 35.240957542089, 47.62163869046318, 0.0, -7.380080224120985, -52.329747716758746, -58.298570330494265, -10.198100845623392, 6.519801751656986, -19.22458032044626, -59.29428776941096, 21.846196297767015, -10.483102477017823, 6.160456533590615, 38.99099404250549, 21.514502622957547, 29.034744210959825, -24.14915752042902, 14.13606179814707, -51.03325300620072, 4.356975005846297, 0.0, -29.538782259558072, -7.763884405677521, 39.49679443151137, -3.705409306127955, 4.443768879358847, 37.42928585974291, -6.160456533590615, -42.43622978853501, -8.765687148326284, -28.722095663828473, -45.21142258103931, 49.023523842741604, -12.18168168665296, 24.386371101801394, -30.48721913046047, 17.94244708915867, 26.26283906417684, -20.48701419333071, 35.05301206344153, -25.579270527428488, -18.669504109061585, -17.94244708915866, -16.057442260839654, 23.352080562311897, 37.42928585974291, 16.81598363951126, -28.35496178532406, 24.998967260202658, 15.725812822360153, -15.101098161385437, 19.45560221796105, -19.788140776701688, 46.29216688624992, -48.886775290419195, -11.44104386876742, 27.388458790744952, -20.48701419333071, 16.641463112483383, 47.98952018383269, -27.388458790744934, 0.0, -44.16968451374196, 51.1441571843773, 36.07601155636859, 16.815983639511252, -27.38845879074495, 36.50647784642544, -16.247631572785643, 26.734564823055067, 20.94104797543841, 14.13606179814707, 18.669504109061588, 11.26956628405723, 7.099184168725565, 28.606435096764997, -20.854458039578347, -23.352080562311883, 4.356975005846297, -35.46534772100297, -35.05301206344154, 6.715593152692915, 25.9065079995144, -27.388458790744952, 53.81736101153215, 4.356975005846297, 44.169684513742055, -38.0950231023439, 7.683981829733958, 42.77407610488599, 47.75099042876568, 40.094185450916854, 30.87107498962892, 58.29857033049429, 35.46534772100298, 8.664135433108067, 59.29428776941094, 26.734564823055067, -8.189511376946337, -12.18168168665296, -22.03622694014543, -38.99099404250545, 48.57633437499734, 13.023079670604975, 25.9065079995144, 48.304165192574935, -56.504815326258814, 40.26081072674037, -35.14300734014127, 22.949899259748793, -27.388458790744934, 45.50224278882952, 0.0, 49.023523842741604, 4.115776985986843, -68.89194508075731, -23.352080562311883, 45.02479263346476, -58.298570330494265, 10.483102477017823, -47.1858008067756, 36.63311276739521, 44.5490346610881, 29.927372071758477, -59.29428776941096, -34.63647019480071, 50.73489274565668, 36.0760115563686, 17.942447089158684, 23.352080562311883, 7.380080224120985, -49.894375198775116, 43.0898045170044, 8.189511376946337, -37.42928585974292, 17.94244708915868, 25.9065079995144, -43.289043201887694, -29.538782259558072, -39.78256074028419, 11.44104386876742, -4.6281375377323455, 24.56717132060132, -44.169684513742, -27.388458790744934, 10.994777349292129, 30.695519823651633, -66.19405648154233, 37.303948277983444, 16.057442260839654, -4.356975005846297, -65.14476286706355, -21.234704134253892, 56.50481532625883, -15.512048727561284, 47.18580080677554, 43.42621755126606, 25.9065079995144, -4.115776985986843, -25.220232588615506, -13.650419134756985, -39.60820645285758, -2.55732376012029, -24.38637110180138, 13.650419134756977, 38.99099404250545, -2.851937567007021, 12.181681686652963, 19.552287339892434, 20.307901967310784, -46.01824621163096, 5.285787242388073, 28.011762257629094, 24.824554769183347, 13.650419134756977, -25.906507999514385, -4.115776985986843, 42.197548480133214, 17.432138084901684, 26.481039830374403, 31.53052416911168, 18.738427636487454, -22.9498992597488, -53.996209976195985, -30.871074989628912, -44.16968451374196, -32.92786265316411, -1.1967884362849743, -40.81034790369768, 34.43898930880362, -42.1975484801332, -65.14476286706355, -40.81034790369768, -25.510148955760247, -23.352080562311837, 0.0, 17.942447089158676, 12.18168168665296, 0.0, 12.18168168665296, -8.49997467379305, -18.738427636487447, 38.99099404250549, 34.21570213243741, 17.31834426391695, 40.810347903697725, 56.504815326258814, 23.35208056231187, 37.303948277983444, 61.87539543870606, -42.43622978853501, -47.18580080677554, 49.023523842741604, -31.6654572443245, 56.969897865390834, 9.196655891628891, -61.410380214122, 7.380080224120985, -28.7220956638285, -28.54619073104337, -8.765687148326284, -6.160456533590615, -68.8919450807573, 46.661328618814025, 22.397597952824846, -64.24098213999893, -66.1940564815423, -12.941897334633241, -66.1940564815423, -6.715593152692915, -31.86980702811664, -40.8103479036977, -13.123671887491446, 7.380080224120985, 8.013816501473892, -49.37558357275066, 26.58489043511928, -2.648528937495261, 57.24348605303576, -34.00372741911257, 32.92786265316413, -5.285787242388068, 22.036226940145458, 58.29857033049429, -25.220232588615506, 27.82014446666337, -29.385905947912228, 13.023079670604975, -17.94244708915867, 21.89866924612122, 35.5946884990431, -56.50481532625884, -14.523092131093053, -32.92786265316415, 17.05428101145161, -7.380080224120985, -40.810347903697725, 0.0, -20.307901967310784, 32.92786265316415, -43.289043201887694, -21.846196297767026, 35.240957542089, -24.824554769183358, 35.46534772100298, -40.81034790369768, 46.29216688624992, -39.60820645285758, 7.380080224120985, 17.942447089158676, -26.481039830374417, 54.93607119615005, 21.72900237272643, -47.1858008067756, 66.78446308651675, 47.18580080677559, 0.0, -30.23607619085647, 35.46534772100298, -41.31261241635549, -9.798243007457405, -29.03474421095981, 35.05301206344153, 27.917780198254395, -42.53514708200879, 6.160456533590615, 27.388458790744952, 30.87107498962892, -35.73791185278378, 8.834710662155677, 1.8546438750328063, -49.37558357275066, 32.92786265316413, 1.4839016584330798, 46.661328618814025, -32.927862653164134, 13.251579275087133, 43.42621755126606, 15.101098161385437, -34.75591255354138, -32.92786265316413, -20.307901967310784, 44.16968451374198, 53.99620997619598, -32.92786265316413, -49.37558357275066, -30.23607619085647, -29.679021404508436, -5.6898127164199845, 18.82178616748158, -27.388458790744952, 18.924644416051244, -5.285787242388073, 38.990994042505456, 17.942447089158673, -25.579270527428488, 15.101098161385437, 22.603257476182893, 19.788140776701695, 15.001662688841556, -6.160456533590615, -12.18168168665296, 29.53878225955809, -32.92786265316414, 12.18168168665296, -12.18168168665296, -24.38637110180138, 38.99099404250547, 21.429828198710492, 33.85166597420545, 71.06099573975999, 3.5861970865443724, 38.55728393028016, 0.0, 34.6364701948007, -52.32974771675874, -16.94922423382144, 13.251579275087124, -23.352080562311876, -30.090088121236768, 29.538782259558097, -44.169684513742006, -3.177239660533641, 25.220232588615524, -10.994777349292129, 65.14476286706355, -35.46534772100297, -34.82212051057543, -44.169684513742006, 10.569948457644706, 41.44826664517961, 20.55289779157558, -3.0891563753365396, 0.0, -28.831736712839785, 10.898107512010753, -37.85231021361413, 9.196655891628891, 34.755912553541364, -52.950773426393, 38.0950231023439, 9.196655891628897, -32.927862653164134, -25.906507999514382, 1.324972269376881, 27.388458790744945, -17.94244708915867, -9.196655891628891, 47.98952018383269, -3.0891563753365396, -13.986850566788783, 4.628137537732347, 60.68590592006639, -38.99099404250545, -32.92786265316413, 1.324972269376881, 29.679021404508436, 19.22458032044628, 6.160456533590611, 1.9521830680865255, 47.75099042876568, 14.523092131093058, -6.715593152692915, -32.92786265316414, -53.996209976195985, -3.3693686357925823, 3.3693686357925823, 43.42621755126606, 27.079670088195165, 22.397597952824846, 41.44826664517961, 72.83808119713468, -24.824554769183358, 46.29216688624992, 11.269566284057243, 24.386371101801394, 24.386371101801387, 46.29216688624992, -56.969897865390834, 53.67317404787977, 0.0, -22.828775034651386, -17.942447089158676, 12.181681686652961, -60.685905920066375, 30.236076190856487, -32.92786265316414, 3.705409306127955, -48.57633437499732, 31.60141278091812, -4.1157769859868445, 4.1157769859868445, 48.2044690023223, 46.661328618814025, -40.81034790369764, -24.824554769183358, 53.23461684705985, 27.666361519835664, -39.49679443151138, -26.481039830374392, -40.43532347398004, 0.0, 16.057442260839654, 0.0, 33.961204937082925, -4.408640464920765, 31.776628885945097, 46.774581738375126, 42.19754848013323, -41.68430345162103, -32.92786265316412, 55.53918372862822, -5.285787242388073, -3.8328075150827248, 7.380080224120985, -40.810347903697725, -37.85231021361412, 0.0, 30.367788104524962, -34.04989926367243, 38.55728393028016, 53.99620997619598, -25.627863837148162, -16.734995994930156, 55.53918372862821, -57.243486053035745, 32.92786265316413, 6.160456533590615, 13.986850566788776, 4.273500455338617, 25.510148955760236, -20.788702525169903, -7.763884405677521, -23.352080562311876, 38.99099404250549, 8.49997467379305, 23.352080562311897, 0.0, -38.99099404250545, 49.659930503247416, -44.89487024731449, -12.181681686652954, -19.224580320446286, -53.996209976195985, -47.1858008067756, 7.380080224120985, -21.234704134253892, 0.0, 13.986850566788776, 0.6871122097716791, 30.09008812123676, 1.4839016584330798, -12.875001559612475, 2.1816414035514655, 10.696510735778118, -32.927862653164134, 26.898752880868503, -72.83808119713468, -17.942447089158676, 5.285787242388073, -18.924644416051233, -6.715593152692915, -20.695450734063282, -26.734564823055052, 2.1816414035514655, -54.52367984093482, 34.43898930880362, -31.088114127665534, 0.0, -4.6281375377323455, -16.81598363951125, -7.683981829733958, 0.0, -16.64146311248337, 19.224580320446275, 4.6281375377323455, -25.06666106606421, -68.89194508075731, -9.196655891628897, 6.715593152692915, -45.21142258103931, -16.64146311248337, 9.196655891628891, 22.949899259748793, -45.21142258103931, 11.26956628405723, 0.0, -7.380080224120985, -5.6898127164199845, -12.771242564901438, 0.0, 38.55728393028016, -13.251579275087124, -19.455602217961054, 48.2044690023223, -47.7509904287657, 8.189511376946337, 31.53052416911168, 48.2044690023223, -42.77407610488598, 52.3297477167588, -38.18131779549951, -44.169684513742, 0.0, 35.05301206344153, -39.36262700162062, -13.650419134756985, 48.57633437499734, 3.705409306127955, -29.034744210959836, -29.927372071758466, -19.224580320446286, 48.57633437499734, -6.923448914810531, -37.63132689865813, -38.99099404250545, -47.18580080677562, 17.94244708915866, 5.6898127164199845, 8.189511376946342, 45.211422581039294, 23.352080562311883, -19.45560221796105, -21.234704134253892, -6.160456533590611, 0.0, 76.29814356982716, 17.94244708915866, 26.96897351666366, -1.4268525831695587, -14.931417178137552, -52.32974771675875, -2.746475082326106, -14.523092131093053, -37.63132689865813, -10.994777349292129, 20.69545073406328, 0.0, 37.073073317310396, -9.589235728739848, -10.483102477017828, -9.196655891628891, -38.9909940425055, -22.397597952824853, -42.1975484801332, -8.373026674782395, -37.42928585974292, -32.927862653164134, -41.448266645179615, 57.55126280327039, 30.487219130460485, 48.2044690023223, 8.189511376946337, 11.70813361653406, 9.890604941758037, 47.18580080677559, -11.150156592828939, 32.92786265316414, -47.7509904287657, 40.36453657309737, -1.6128711537946898, -23.352080562311883, -11.44104386876742, -12.18168168665295, -14.22031221979403, 31.776628885945097, 24.386371101801394, 11.70813361653406, 4.935203451166515, -35.5946884990431, 40.094185450916854, -37.85231021361412, 5.48038633196813, -46.01824621163096, -42.19754848013323, -37.42928585974292, 48.57633437499734, 41.882683702433134, -23.352080562311837, -9.196655891628897, -7.380080224120985, 8.664135433108067, 59.92726561090238, 64.58699386342342, -3.0891563753365383, 22.245668710529635, 32.92786265316414, -26.481039830374392, -42.53514708200879, 42.77407610488597, -17.942447089158673, -16.057442260839654, 25.307814140767494, -13.251579275087124, -9.798243007457405, 35.34796551935351, 0.0, -37.85231021361412, 23.76777858981732, 30.236076190856487, -5.6898127164199845, 24.998967260202658, 27.388458790744952, -58.8587911283291, 32.92786265316408, -32.92786265316414, 10.016469322717642, -20.55289779157558, 5.285787242388073, 33.921915646514975, -11.26956628405723, 5.963187670969326, -2.851937567007021, -44.89487024731449, 17.432138084901684, 32.92786265316415, 7.900789423839791, 15.819193947500152, 41.44826664517961, -32.92786265316413, 53.81736101153215, 20.30790196731078, 0.0, 21.234704134253892, 48.57633437499734, -42.77407610488597, 25.90650799951436, -44.169684513741984, -10.994777349292129, -5.046794290775168, 13.12367188749145, 68.89194508075727, 68.89194508075731, -44.620736512740024, 30.408875504792217, 19.788140776701695, 36.50647784642547, 0.0, -13.650419134756977, 52.329747716758746, 47.98952018383269, -34.75591255354138, -17.942447089158676, 14.523092131093053, -44.169684513742055, -10.8622878937598, 25.32632481122052, 38.6598082540901, 32.92786265316415, -49.37558357275064, -55.206381410914325, 19.224580320446275, 30.695519823651633, -16.64146311248337, 20.307901967310784, -37.42928585974292, 9.1966558916289, 9.798243007457405, -9.196655891628891, -13.251579275087124, -75.56793706386405, 10.198100845623392, -32.927862653164134, -6.371168015831028, -4.628137537732349, -5.838523364424373, -56.84419599405823, 20.307901967310777, -2.1816414035514655, -8.189511376946337, 0.0, -53.67317404787977, 32.92786265316408, -21.234704134253892, 7.380080224120985, 15.90502849211302, -37.85231021361413, -43.52641858177431, -6.160456533590615, 24.386371101801394, -20.695450734063282, -38.9909940425055, -12.181681686652954, 32.927862653164134, -2.851937567007021, -56.84419599405823, -14.780364217435094, 47.98952018383267, 27.144142305646408, -12.18168168665296, 0.0, -52.32974771675873, 5.28578724238807, -45.21142258103931, 0.0, -70.18620675450435, 10.483102477017828, 76.63671391880357, -27.917780198254395, -6.715593152692915, 29.21860624941389, 25.9065079995144, -16.40296798307723, -32.927862653164134, 38.04459022145636, 13.986850566788776, 18.669504109061588, 50.2582397506173, 56.504815326258814, -18.738427636487447, -14.523092131093053, 17.94244708915867, -32.92786265316411, 0.0, -30.695519823651622, -37.85231021361412, 35.240957542089, -14.136061798147061, -6.160456533590615, 65.1447628670635, 12.18168168665296, 16.057442260839654, 54.22392228210536, -37.0730733173104, -16.64146311248337, -32.92786265316414, -27.66636151983567, -43.0898045170044, 14.274440091701676, 4.6281375377323455, 13.251579275087124, 41.44826664517961, -23.82426058289543, 17.139240533020804, 13.023079670604975, 44.169684513742, 20.307901967310777, 5.838523364424373, 32.927862653164134, 0.0, -46.46198789878022, -23.352080562311883, -76.122470196792, 28.354961785324072, 32.92786265316413, -21.234704134253892, 4.628137537732349, 44.16968451374199, -17.942447089158676, 34.15524631294035, 52.329747716758725, 50.527540151656154, 16.64146311248337, -34.89330255069866, 59.53445508054011, 20.854458039578358, 25.9065079995144, 67.16292149866358, -43.08980451700442, -65.1447628670635, -5.6898127164199845, 35.05301206344153, -22.60325747618288, 49.37558357275066, 3.705409306127955, 38.99099404250549, 27.82014446666337, 66.19405648154228, -23.82426058289543, -27.388458790744934, 16.40296798307723, 50.73489274565668, 41.44826664517961, -3.0891563753365396, 37.42928585974291, -59.53445508054011, -6.160456533590615, 30.695519823651633, 50.8994636731489, 68.89194508075731, -5.838523364424373, 29.034744210959836, -12.181681686652956, 28.354961785324072, -61.61138659056721, -21.234704134253906, 21.234704134253892, 22.03622694014543, 36.50647784642547, 0.0, 0.0, -11.150156592828939, -19.45560221796105, 35.737911852783796, 6.160456533590615, 47.18580080677562, 59.92726561090238, -10.994777349292129, 36.50647784642547, 58.75826073502444, 49.659930503247416, -29.927372071758466, -30.23607619085647, -49.659930503247416, -21.234704134253892, -61.12455660377191, 51.1441571843773, -15.10109816138543, 24.824554769183358, -19.788140776701688, -17.94244708915866, 23.35208056231187, -40.810347903697696, 0.0, 37.073073317310424, 40.810347903697725, -31.6654572443245, -47.1858008067756, -44.169684513742, 15.101098161385437, -12.18168168665296, -29.21860624941389, 78.10941176971403, 22.397597952824853, -16.057442260839654, -10.48310247701782, 22.183676862510776, -6.715593152692915, 31.9843572348941, -8.664135433108067, -1.6128711537946898, -73.61045966596521, -6.160456533590615, -20.30790196731077, 14.931417178137561, 60.68590592006639, -16.057442260839654, -24.824554769183358, -8.834710662155677, 43.28904320188769, -4.115776985986843, -41.448266645179615, -9.1966558916289, 40.26081072674037, 0.0, 52.32974771675873, 29.92737207175847, -39.36262700162062, -7.900789423839791, 13.650419134756977, 35.34796551935351, -30.48721913046047, 44.169684513742006, 39.49679443151137, -44.16968451374196, -32.92786265316411, -31.825182637227744, 60.68590592006639, -27.388458790744934, 26.734564823055067, -30.367788104524962, -16.057442260839654, 37.073073317310424, 46.661328618814025, 54.36281591780597, 46.774581738375126, 24.386371101801394, 32.92786265316414, 50.8994636731489, 29.034744210959836, -64.58699386342343, 20.99551625424683, 20.6954507340633, -42.53514708200879, -1.2792990249604372, -8.042577044354129, 10.016469322717642, 50.8994636731489, -44.169684513742006, 29.74488129694223, 2.746475082326106, 61.410380214122, 15.725812822360153, -24.149157520429043, -24.824554769183333, -35.053012063441514, 58.298570330494265, -4.115776985986843, -67.88579375972722, -85.09692452365954, -65.7547397327976, 22.397597952824853, 15.512048727561293, 57.72003299811191, 45.71840472604885, 33.61046246499179, 72.83808119713468, 13.650419134756977, -32.927862653164134, 25.220232588615513, 1.324972269376881, 29.21860624941389, 58.8587911283291, -6.519801751656986, -16.94922423382144, 21.2347041342539, 32.92786265316413, -11.558251258084296, -2.746475082326106, 18.611565005936257, -3.0891563753365383, 0.0, 39.49679443151137, 26.481039830374403, 14.931417178137561, 39.78256074028421, 1.9521830680865255, 36.76902489880966, 21.234704134253892, 20.6954507340633, -29.385905947912228, 42.38214292253403, 23.352080562311876, 23.35208056231187, -53.5544641164968, 36.50647784642547, -68.05976841202902, 0.0, 4.115776985986843, 4.443768879358847, 37.07307331731042, -25.220232588615506, -21.234704134253892, -56.969897865390834, 32.92786265316417, 24.642351313556297, -52.329747716758774, -22.39759795282484, -12.181681686652956, -27.388458790744934, 5.285787242388073, -17.94244708915867, 24.386371101801394, -35.05301206344154, 35.240957542089, 25.90650799951436, -31.150630557988567, -24.14915752042902, -24.96085667698711, 17.20936594392159, 36.506477846425426, 47.98952018383267, 4.935203451166515, 41.68430345162106, -30.695519823651622, 5.915821844805735, -3.3693686357925823, 46.01824621163096, 38.990994042505484, 58.29857033049429, 25.90650799951436, 29.53878225955809, -25.579270527428488, -15.10109816138543, 1.4839016584330798, -11.558251258084296, 25.90650799951436, -16.532225964861233, -27.917780198254384, 34.43898930880362, -2.4721872163439333, -17.942447089158676, 6.715593152692915, -43.08980451700442, -38.18131779549951, -3.0891563753365383, -65.57471928825055, -19.788140776701688, -3.3693686357925823, 23.35208056231187, 19.330546516050507, 24.000449953683404, 42.197548480133214, 48.2044690023223, 50.73489274565668, 35.46534772100298, 10.483102477017828, 42.53514708200878, 51.1441571843773, -3.9692634567194975, 36.50647784642544, 47.18580080677559, 17.942447089158676, 34.531675134913435, 68.05976841202902, 73.85310388616854, -36.76902489880967, 24.14915752042904, 6.59673829789421, -64.58699386342343, -41.448266645179615, 48.57633437499734, 21.846196297767015, -14.523092131093053, 51.1441571843773, -32.927862653164134, 10.7842978675626, 8.189511376946337, -32.92786265316413, 47.18580080677562, -31.02104083563495, 63.83464458416822, 2.851937567007021, -6.519801751656986, -52.32974771675875, -32.927862653164134, 42.19754848013323, -32.927862653164134, -9.589235728739848, 45.71840472604885, 48.2044690023223, -26.34636605765503, -6.160456533590615, -4.1157769859868445, -16.64146311248337, 6.519801751656986, -58.298570330494265, 44.799219179739104, -14.83875062540359, -18.738427636487447, 10.48310247701782, -46.01824621163096, -6.519801751656986, 49.89437519877513, 41.684303451621034, -18.669504109061585, -52.32974771675872, -35.24095754208899, 10.994777349292129, -18.56217832404465, -23.35208056231187, 47.75099042876568, 1.9521830680865255, -25.90650799951436, -29.385905947912228, -44.16968451374199, 14.523092131093053, 47.75099042876568, -24.500268850262316, 10.994777349292129, -27.388458790744934, -38.99099404250545, -30.695519823651622, -19.330546516050514, -28.722095663828473, -50.8994636731489, 49.659930503247416, -28.35496178532406, -19.45560221796105, 47.62163869046318, 55.807350807299194, 1.686142077399159, -37.303948277983444, -31.451632629136736, -38.18131779549951, 48.2044690023223, -32.92786265316411, 56.50481532625883, 1.8546438750328063, -49.37558357275064, -42.53514708200879, -71.06099573975993, -66.1940564815423, 11.75894976673855, 32.927862653164134, 6.160456533590615, -48.576334374997366, -25.404007819133863, 0.0, 6.715593152692915, -44.89487024731449, -4.356975005846297, -50.8994636731489, 26.481039830374403, 7.763884405677521, 15.322579774365499, -1.7663848463315017, 62.76485330069748, -23.352080562311883, -32.92786265316413, 6.371168015831028, 8.49997467379305, 48.57633437499734, 14.523092131093053, -38.0950231023439, 30.87107498962892, -56.969897865390834, 18.82178616748158, 40.81034790369772, 23.352080562311883, -12.18168168665296, 25.220232588615524, 24.998967260202658, 41.882683702433134, 15.101098161385437, 49.37558357275065, 49.659930503247416, 13.650419134756977, 59.53445508054011, -44.16968451374199, -4.115776985986843, 23.352080562311883, 26.481039830374403, -32.92786265316414, 30.87107498962892, 5.6898127164199845, -56.504815326258814, 9.671769697334895, -15.512048727561277, 21.729002372726434, 2.3178496429030178, -51.1441571843773, 35.46534772100298, 62.76485330069748, 39.49679443151137, -7.900789423839791, -60.685905920066375, 59.92726561090238, -19.45560221796105, 50.09098836384004, 30.871074989628937, -21.234704134253903, 6.519801751656986, 47.98952018383269, -24.38637110180138, 3.0891563753365383, 1.324972269376881, 55.53918372862821, 10.994777349292136, 56.50481532625878, 16.532225964861237, 9.1966558916289, 37.85231021361413, 17.94244708915868, -9.798243007457405, -26.734564823055052, 29.808126632224937, -42.43622978853501, 64.00539199771832, -48.886775290419195, 26.26283906417684, 17.94244708915866, 12.18168168665296, -19.788140776701688, 61.1245566037719, 62.76485330069748, 0.0, -45.502242788829506, -9.196655891628891, -16.057442260839654, -36.50647784642544, 12.18168168665295, 53.5544641164968, -31.02104083563495, 29.927372071758477, 14.523092131093057, 55.206381410914325, 8.664135433108067], \"xaxis\": \"x\", \"yaxis\": \"y\"}],\n",
       "                        {\"barmode\": \"relative\", \"legend\": {\"tracegroupgap\": 0}, \"margin\": {\"t\": 60}, \"template\": {\"data\": {\"bar\": [{\"error_x\": {\"color\": \"#2a3f5f\"}, \"error_y\": {\"color\": \"#2a3f5f\"}, \"marker\": {\"line\": {\"color\": \"#E5ECF6\", \"width\": 0.5}}, \"type\": \"bar\"}], \"barpolar\": [{\"marker\": {\"line\": {\"color\": \"#E5ECF6\", \"width\": 0.5}}, \"type\": \"barpolar\"}], \"carpet\": [{\"aaxis\": {\"endlinecolor\": \"#2a3f5f\", \"gridcolor\": \"white\", \"linecolor\": \"white\", \"minorgridcolor\": \"white\", \"startlinecolor\": \"#2a3f5f\"}, \"baxis\": {\"endlinecolor\": \"#2a3f5f\", \"gridcolor\": \"white\", \"linecolor\": \"white\", \"minorgridcolor\": \"white\", \"startlinecolor\": \"#2a3f5f\"}, \"type\": \"carpet\"}], \"choropleth\": [{\"colorbar\": {\"outlinewidth\": 0, \"ticks\": \"\"}, \"type\": \"choropleth\"}], \"contour\": [{\"colorbar\": {\"outlinewidth\": 0, \"ticks\": \"\"}, \"colorscale\": [[0.0, \"#0d0887\"], [0.1111111111111111, \"#46039f\"], [0.2222222222222222, \"#7201a8\"], [0.3333333333333333, \"#9c179e\"], [0.4444444444444444, \"#bd3786\"], [0.5555555555555556, \"#d8576b\"], [0.6666666666666666, \"#ed7953\"], [0.7777777777777778, \"#fb9f3a\"], [0.8888888888888888, \"#fdca26\"], [1.0, \"#f0f921\"]], \"type\": \"contour\"}], \"contourcarpet\": [{\"colorbar\": {\"outlinewidth\": 0, \"ticks\": \"\"}, \"type\": \"contourcarpet\"}], \"heatmap\": [{\"colorbar\": {\"outlinewidth\": 0, \"ticks\": \"\"}, \"colorscale\": [[0.0, \"#0d0887\"], [0.1111111111111111, \"#46039f\"], [0.2222222222222222, \"#7201a8\"], [0.3333333333333333, \"#9c179e\"], [0.4444444444444444, \"#bd3786\"], [0.5555555555555556, \"#d8576b\"], [0.6666666666666666, \"#ed7953\"], [0.7777777777777778, \"#fb9f3a\"], [0.8888888888888888, \"#fdca26\"], [1.0, \"#f0f921\"]], \"type\": \"heatmap\"}], \"heatmapgl\": [{\"colorbar\": {\"outlinewidth\": 0, \"ticks\": \"\"}, \"colorscale\": [[0.0, \"#0d0887\"], [0.1111111111111111, \"#46039f\"], [0.2222222222222222, \"#7201a8\"], [0.3333333333333333, \"#9c179e\"], [0.4444444444444444, \"#bd3786\"], [0.5555555555555556, \"#d8576b\"], [0.6666666666666666, \"#ed7953\"], [0.7777777777777778, \"#fb9f3a\"], [0.8888888888888888, \"#fdca26\"], [1.0, \"#f0f921\"]], \"type\": \"heatmapgl\"}], \"histogram\": [{\"marker\": {\"colorbar\": {\"outlinewidth\": 0, \"ticks\": \"\"}}, \"type\": \"histogram\"}], \"histogram2d\": [{\"colorbar\": {\"outlinewidth\": 0, \"ticks\": \"\"}, \"colorscale\": [[0.0, \"#0d0887\"], [0.1111111111111111, \"#46039f\"], [0.2222222222222222, \"#7201a8\"], [0.3333333333333333, \"#9c179e\"], [0.4444444444444444, \"#bd3786\"], [0.5555555555555556, \"#d8576b\"], [0.6666666666666666, \"#ed7953\"], [0.7777777777777778, \"#fb9f3a\"], [0.8888888888888888, \"#fdca26\"], [1.0, \"#f0f921\"]], \"type\": \"histogram2d\"}], \"histogram2dcontour\": [{\"colorbar\": {\"outlinewidth\": 0, \"ticks\": \"\"}, \"colorscale\": [[0.0, \"#0d0887\"], [0.1111111111111111, \"#46039f\"], [0.2222222222222222, \"#7201a8\"], [0.3333333333333333, \"#9c179e\"], [0.4444444444444444, \"#bd3786\"], [0.5555555555555556, \"#d8576b\"], [0.6666666666666666, \"#ed7953\"], [0.7777777777777778, \"#fb9f3a\"], [0.8888888888888888, \"#fdca26\"], [1.0, \"#f0f921\"]], \"type\": \"histogram2dcontour\"}], \"mesh3d\": [{\"colorbar\": {\"outlinewidth\": 0, \"ticks\": \"\"}, \"type\": \"mesh3d\"}], \"parcoords\": [{\"line\": {\"colorbar\": {\"outlinewidth\": 0, \"ticks\": \"\"}}, \"type\": \"parcoords\"}], \"pie\": [{\"automargin\": true, \"type\": \"pie\"}], \"scatter\": [{\"marker\": {\"colorbar\": {\"outlinewidth\": 0, \"ticks\": \"\"}}, \"type\": \"scatter\"}], \"scatter3d\": [{\"line\": {\"colorbar\": {\"outlinewidth\": 0, \"ticks\": \"\"}}, \"marker\": {\"colorbar\": {\"outlinewidth\": 0, \"ticks\": \"\"}}, \"type\": \"scatter3d\"}], \"scattercarpet\": [{\"marker\": {\"colorbar\": {\"outlinewidth\": 0, \"ticks\": \"\"}}, \"type\": \"scattercarpet\"}], \"scattergeo\": [{\"marker\": {\"colorbar\": {\"outlinewidth\": 0, \"ticks\": \"\"}}, \"type\": \"scattergeo\"}], \"scattergl\": [{\"marker\": {\"colorbar\": {\"outlinewidth\": 0, \"ticks\": \"\"}}, \"type\": \"scattergl\"}], \"scattermapbox\": [{\"marker\": {\"colorbar\": {\"outlinewidth\": 0, \"ticks\": \"\"}}, \"type\": \"scattermapbox\"}], \"scatterpolar\": [{\"marker\": {\"colorbar\": {\"outlinewidth\": 0, \"ticks\": \"\"}}, \"type\": \"scatterpolar\"}], \"scatterpolargl\": [{\"marker\": {\"colorbar\": {\"outlinewidth\": 0, \"ticks\": \"\"}}, \"type\": \"scatterpolargl\"}], \"scatterternary\": [{\"marker\": {\"colorbar\": {\"outlinewidth\": 0, \"ticks\": \"\"}}, \"type\": \"scatterternary\"}], \"surface\": [{\"colorbar\": {\"outlinewidth\": 0, \"ticks\": \"\"}, \"colorscale\": [[0.0, \"#0d0887\"], [0.1111111111111111, \"#46039f\"], [0.2222222222222222, \"#7201a8\"], [0.3333333333333333, \"#9c179e\"], [0.4444444444444444, \"#bd3786\"], [0.5555555555555556, \"#d8576b\"], [0.6666666666666666, \"#ed7953\"], [0.7777777777777778, \"#fb9f3a\"], [0.8888888888888888, \"#fdca26\"], [1.0, \"#f0f921\"]], \"type\": \"surface\"}], \"table\": [{\"cells\": {\"fill\": {\"color\": \"#EBF0F8\"}, \"line\": {\"color\": \"white\"}}, \"header\": {\"fill\": {\"color\": \"#C8D4E3\"}, \"line\": {\"color\": \"white\"}}, \"type\": \"table\"}]}, \"layout\": {\"annotationdefaults\": {\"arrowcolor\": \"#2a3f5f\", \"arrowhead\": 0, \"arrowwidth\": 1}, \"coloraxis\": {\"colorbar\": {\"outlinewidth\": 0, \"ticks\": \"\"}}, \"colorscale\": {\"diverging\": [[0, \"#8e0152\"], [0.1, \"#c51b7d\"], [0.2, \"#de77ae\"], [0.3, \"#f1b6da\"], [0.4, \"#fde0ef\"], [0.5, \"#f7f7f7\"], [0.6, \"#e6f5d0\"], [0.7, \"#b8e186\"], [0.8, \"#7fbc41\"], [0.9, \"#4d9221\"], [1, \"#276419\"]], \"sequential\": [[0.0, \"#0d0887\"], [0.1111111111111111, \"#46039f\"], [0.2222222222222222, \"#7201a8\"], [0.3333333333333333, \"#9c179e\"], [0.4444444444444444, \"#bd3786\"], [0.5555555555555556, \"#d8576b\"], [0.6666666666666666, \"#ed7953\"], [0.7777777777777778, \"#fb9f3a\"], [0.8888888888888888, \"#fdca26\"], [1.0, \"#f0f921\"]], \"sequentialminus\": [[0.0, \"#0d0887\"], [0.1111111111111111, \"#46039f\"], [0.2222222222222222, \"#7201a8\"], [0.3333333333333333, \"#9c179e\"], [0.4444444444444444, \"#bd3786\"], [0.5555555555555556, \"#d8576b\"], [0.6666666666666666, \"#ed7953\"], [0.7777777777777778, \"#fb9f3a\"], [0.8888888888888888, \"#fdca26\"], [1.0, \"#f0f921\"]]}, \"colorway\": [\"#636efa\", \"#EF553B\", \"#00cc96\", \"#ab63fa\", \"#FFA15A\", \"#19d3f3\", \"#FF6692\", \"#B6E880\", \"#FF97FF\", \"#FECB52\"], \"font\": {\"color\": \"#2a3f5f\"}, \"geo\": {\"bgcolor\": \"white\", \"lakecolor\": \"white\", \"landcolor\": \"#E5ECF6\", \"showlakes\": true, \"showland\": true, \"subunitcolor\": \"white\"}, \"hoverlabel\": {\"align\": \"left\"}, \"hovermode\": \"closest\", \"mapbox\": {\"style\": \"light\"}, \"paper_bgcolor\": \"white\", \"plot_bgcolor\": \"#E5ECF6\", \"polar\": {\"angularaxis\": {\"gridcolor\": \"white\", \"linecolor\": \"white\", \"ticks\": \"\"}, \"bgcolor\": \"#E5ECF6\", \"radialaxis\": {\"gridcolor\": \"white\", \"linecolor\": \"white\", \"ticks\": \"\"}}, \"scene\": {\"xaxis\": {\"backgroundcolor\": \"#E5ECF6\", \"gridcolor\": \"white\", \"gridwidth\": 2, \"linecolor\": \"white\", \"showbackground\": true, \"ticks\": \"\", \"zerolinecolor\": \"white\"}, \"yaxis\": {\"backgroundcolor\": \"#E5ECF6\", \"gridcolor\": \"white\", \"gridwidth\": 2, \"linecolor\": \"white\", \"showbackground\": true, \"ticks\": \"\", \"zerolinecolor\": \"white\"}, \"zaxis\": {\"backgroundcolor\": \"#E5ECF6\", \"gridcolor\": \"white\", \"gridwidth\": 2, \"linecolor\": \"white\", \"showbackground\": true, \"ticks\": \"\", \"zerolinecolor\": \"white\"}}, \"shapedefaults\": {\"line\": {\"color\": \"#2a3f5f\"}}, \"ternary\": {\"aaxis\": {\"gridcolor\": \"white\", \"linecolor\": \"white\", \"ticks\": \"\"}, \"baxis\": {\"gridcolor\": \"white\", \"linecolor\": \"white\", \"ticks\": \"\"}, \"bgcolor\": \"#E5ECF6\", \"caxis\": {\"gridcolor\": \"white\", \"linecolor\": \"white\", \"ticks\": \"\"}}, \"title\": {\"x\": 0.05}, \"xaxis\": {\"automargin\": true, \"gridcolor\": \"white\", \"linecolor\": \"white\", \"ticks\": \"\", \"title\": {\"standoff\": 15}, \"zerolinecolor\": \"white\", \"zerolinewidth\": 2}, \"yaxis\": {\"automargin\": true, \"gridcolor\": \"white\", \"linecolor\": \"white\", \"ticks\": \"\", \"title\": {\"standoff\": 15}, \"zerolinecolor\": \"white\", \"zerolinewidth\": 2}}}, \"xaxis\": {\"anchor\": \"y\", \"domain\": [0.0, 1.0], \"title\": {\"text\": \"angleShot\"}}, \"yaxis\": {\"anchor\": \"x\", \"domain\": [0.0, 1.0], \"title\": {\"text\": \"count\"}}},\n",
       "                        {\"responsive\": true}\n",
       "                    ).then(function(){\n",
       "                            \n",
       "var gd = document.getElementById('c77d1020-693a-4a55-9ddd-c0853de4befc');\n",
       "var x = new MutationObserver(function (mutations, observer) {{\n",
       "        var display = window.getComputedStyle(gd).display;\n",
       "        if (!display || display === 'none') {{\n",
       "            console.log([gd, 'removed!']);\n",
       "            Plotly.purge(gd);\n",
       "            observer.disconnect();\n",
       "        }}\n",
       "}});\n",
       "\n",
       "// Listen for the removal of the full notebook cells\n",
       "var notebookContainer = gd.closest('#notebook-container');\n",
       "if (notebookContainer) {{\n",
       "    x.observe(notebookContainer, {childList: true});\n",
       "}}\n",
       "\n",
       "// Listen for the clearing of the current output cell\n",
       "var outputEl = gd.closest('.output');\n",
       "if (outputEl) {{\n",
       "    x.observe(outputEl, {childList: true});\n",
       "}}\n",
       "\n",
       "                        })\n",
       "                };\n",
       "                });\n",
       "            </script>\n",
       "        </div>"
      ]
     },
     "metadata": {},
     "output_type": "display_data"
    }
   ],
   "source": [
    "import plotly.express as px\n",
    "fig = px.histogram(df_shots, x=\"angleShot\")\n",
    "fig.show()"
   ]
  },
  {
   "cell_type": "code",
   "execution_count": 781,
   "metadata": {},
   "outputs": [],
   "source": [
    "df_shots[\"angleShotBinned\"] = build_buckets(df_shots, \"angleShot\", 10, min_val=-65, max_val=65)"
   ]
  },
  {
   "cell_type": "code",
   "execution_count": 783,
   "metadata": {},
   "outputs": [
    {
     "data": {
      "application/vnd.plotly.v1+json": {
       "config": {
        "plotlyServerURL": "https://plot.ly"
       },
       "data": [
        {
         "name": "Share of shots",
         "type": "bar",
         "x": [
          "<-50",
          "-50 - -40",
          "-40 - -30",
          "-30 - -20",
          "-20 - -10",
          "-10 - 0",
          "0 - 10",
          "10 - 20",
          "20 - 30",
          "30 - 40",
          "40 - 50",
          "50 - 60",
          ">=60"
         ],
         "y": [
          2.551464192519571,
          3.450275442157147,
          5.479849231661351,
          7.422441287329661,
          8.68367642795013,
          9.756451145259495,
          19.295447955929255,
          10.14786894752102,
          10.278341548274863,
          9.031603363293708,
          7.233980864018556,
          4.08814149028704,
          2.580458103798202
         ]
        },
        {
         "name": "Prob. to score",
         "type": "scatter",
         "x": [
          "<-50",
          "-50 - -40",
          "-40 - -30",
          "-30 - -20",
          "-20 - -10",
          "-10 - 0",
          "0 - 10",
          "10 - 20",
          "20 - 30",
          "30 - 40",
          "40 - 50",
          "50 - 60",
          ">=60"
         ],
         "xaxis": "x",
         "y": [
          10.795454545454545,
          11.344537815126051,
          10.317460317460316,
          11.71875,
          8.180300500834726,
          12.035661218424963,
          11.119459053343352,
          10.571428571428571,
          10.01410437235543,
          7.865168539325842,
          14.428857715430862,
          12.411347517730496,
          12.921348314606742
         ],
         "yaxis": "y2"
        }
       ],
       "layout": {
        "template": {
         "data": {
          "bar": [
           {
            "error_x": {
             "color": "#2a3f5f"
            },
            "error_y": {
             "color": "#2a3f5f"
            },
            "marker": {
             "line": {
              "color": "#E5ECF6",
              "width": 0.5
             }
            },
            "type": "bar"
           }
          ],
          "barpolar": [
           {
            "marker": {
             "line": {
              "color": "#E5ECF6",
              "width": 0.5
             }
            },
            "type": "barpolar"
           }
          ],
          "carpet": [
           {
            "aaxis": {
             "endlinecolor": "#2a3f5f",
             "gridcolor": "white",
             "linecolor": "white",
             "minorgridcolor": "white",
             "startlinecolor": "#2a3f5f"
            },
            "baxis": {
             "endlinecolor": "#2a3f5f",
             "gridcolor": "white",
             "linecolor": "white",
             "minorgridcolor": "white",
             "startlinecolor": "#2a3f5f"
            },
            "type": "carpet"
           }
          ],
          "choropleth": [
           {
            "colorbar": {
             "outlinewidth": 0,
             "ticks": ""
            },
            "type": "choropleth"
           }
          ],
          "contour": [
           {
            "colorbar": {
             "outlinewidth": 0,
             "ticks": ""
            },
            "colorscale": [
             [
              0,
              "#0d0887"
             ],
             [
              0.1111111111111111,
              "#46039f"
             ],
             [
              0.2222222222222222,
              "#7201a8"
             ],
             [
              0.3333333333333333,
              "#9c179e"
             ],
             [
              0.4444444444444444,
              "#bd3786"
             ],
             [
              0.5555555555555556,
              "#d8576b"
             ],
             [
              0.6666666666666666,
              "#ed7953"
             ],
             [
              0.7777777777777778,
              "#fb9f3a"
             ],
             [
              0.8888888888888888,
              "#fdca26"
             ],
             [
              1,
              "#f0f921"
             ]
            ],
            "type": "contour"
           }
          ],
          "contourcarpet": [
           {
            "colorbar": {
             "outlinewidth": 0,
             "ticks": ""
            },
            "type": "contourcarpet"
           }
          ],
          "heatmap": [
           {
            "colorbar": {
             "outlinewidth": 0,
             "ticks": ""
            },
            "colorscale": [
             [
              0,
              "#0d0887"
             ],
             [
              0.1111111111111111,
              "#46039f"
             ],
             [
              0.2222222222222222,
              "#7201a8"
             ],
             [
              0.3333333333333333,
              "#9c179e"
             ],
             [
              0.4444444444444444,
              "#bd3786"
             ],
             [
              0.5555555555555556,
              "#d8576b"
             ],
             [
              0.6666666666666666,
              "#ed7953"
             ],
             [
              0.7777777777777778,
              "#fb9f3a"
             ],
             [
              0.8888888888888888,
              "#fdca26"
             ],
             [
              1,
              "#f0f921"
             ]
            ],
            "type": "heatmap"
           }
          ],
          "heatmapgl": [
           {
            "colorbar": {
             "outlinewidth": 0,
             "ticks": ""
            },
            "colorscale": [
             [
              0,
              "#0d0887"
             ],
             [
              0.1111111111111111,
              "#46039f"
             ],
             [
              0.2222222222222222,
              "#7201a8"
             ],
             [
              0.3333333333333333,
              "#9c179e"
             ],
             [
              0.4444444444444444,
              "#bd3786"
             ],
             [
              0.5555555555555556,
              "#d8576b"
             ],
             [
              0.6666666666666666,
              "#ed7953"
             ],
             [
              0.7777777777777778,
              "#fb9f3a"
             ],
             [
              0.8888888888888888,
              "#fdca26"
             ],
             [
              1,
              "#f0f921"
             ]
            ],
            "type": "heatmapgl"
           }
          ],
          "histogram": [
           {
            "marker": {
             "colorbar": {
              "outlinewidth": 0,
              "ticks": ""
             }
            },
            "type": "histogram"
           }
          ],
          "histogram2d": [
           {
            "colorbar": {
             "outlinewidth": 0,
             "ticks": ""
            },
            "colorscale": [
             [
              0,
              "#0d0887"
             ],
             [
              0.1111111111111111,
              "#46039f"
             ],
             [
              0.2222222222222222,
              "#7201a8"
             ],
             [
              0.3333333333333333,
              "#9c179e"
             ],
             [
              0.4444444444444444,
              "#bd3786"
             ],
             [
              0.5555555555555556,
              "#d8576b"
             ],
             [
              0.6666666666666666,
              "#ed7953"
             ],
             [
              0.7777777777777778,
              "#fb9f3a"
             ],
             [
              0.8888888888888888,
              "#fdca26"
             ],
             [
              1,
              "#f0f921"
             ]
            ],
            "type": "histogram2d"
           }
          ],
          "histogram2dcontour": [
           {
            "colorbar": {
             "outlinewidth": 0,
             "ticks": ""
            },
            "colorscale": [
             [
              0,
              "#0d0887"
             ],
             [
              0.1111111111111111,
              "#46039f"
             ],
             [
              0.2222222222222222,
              "#7201a8"
             ],
             [
              0.3333333333333333,
              "#9c179e"
             ],
             [
              0.4444444444444444,
              "#bd3786"
             ],
             [
              0.5555555555555556,
              "#d8576b"
             ],
             [
              0.6666666666666666,
              "#ed7953"
             ],
             [
              0.7777777777777778,
              "#fb9f3a"
             ],
             [
              0.8888888888888888,
              "#fdca26"
             ],
             [
              1,
              "#f0f921"
             ]
            ],
            "type": "histogram2dcontour"
           }
          ],
          "mesh3d": [
           {
            "colorbar": {
             "outlinewidth": 0,
             "ticks": ""
            },
            "type": "mesh3d"
           }
          ],
          "parcoords": [
           {
            "line": {
             "colorbar": {
              "outlinewidth": 0,
              "ticks": ""
             }
            },
            "type": "parcoords"
           }
          ],
          "pie": [
           {
            "automargin": true,
            "type": "pie"
           }
          ],
          "scatter": [
           {
            "marker": {
             "colorbar": {
              "outlinewidth": 0,
              "ticks": ""
             }
            },
            "type": "scatter"
           }
          ],
          "scatter3d": [
           {
            "line": {
             "colorbar": {
              "outlinewidth": 0,
              "ticks": ""
             }
            },
            "marker": {
             "colorbar": {
              "outlinewidth": 0,
              "ticks": ""
             }
            },
            "type": "scatter3d"
           }
          ],
          "scattercarpet": [
           {
            "marker": {
             "colorbar": {
              "outlinewidth": 0,
              "ticks": ""
             }
            },
            "type": "scattercarpet"
           }
          ],
          "scattergeo": [
           {
            "marker": {
             "colorbar": {
              "outlinewidth": 0,
              "ticks": ""
             }
            },
            "type": "scattergeo"
           }
          ],
          "scattergl": [
           {
            "marker": {
             "colorbar": {
              "outlinewidth": 0,
              "ticks": ""
             }
            },
            "type": "scattergl"
           }
          ],
          "scattermapbox": [
           {
            "marker": {
             "colorbar": {
              "outlinewidth": 0,
              "ticks": ""
             }
            },
            "type": "scattermapbox"
           }
          ],
          "scatterpolar": [
           {
            "marker": {
             "colorbar": {
              "outlinewidth": 0,
              "ticks": ""
             }
            },
            "type": "scatterpolar"
           }
          ],
          "scatterpolargl": [
           {
            "marker": {
             "colorbar": {
              "outlinewidth": 0,
              "ticks": ""
             }
            },
            "type": "scatterpolargl"
           }
          ],
          "scatterternary": [
           {
            "marker": {
             "colorbar": {
              "outlinewidth": 0,
              "ticks": ""
             }
            },
            "type": "scatterternary"
           }
          ],
          "surface": [
           {
            "colorbar": {
             "outlinewidth": 0,
             "ticks": ""
            },
            "colorscale": [
             [
              0,
              "#0d0887"
             ],
             [
              0.1111111111111111,
              "#46039f"
             ],
             [
              0.2222222222222222,
              "#7201a8"
             ],
             [
              0.3333333333333333,
              "#9c179e"
             ],
             [
              0.4444444444444444,
              "#bd3786"
             ],
             [
              0.5555555555555556,
              "#d8576b"
             ],
             [
              0.6666666666666666,
              "#ed7953"
             ],
             [
              0.7777777777777778,
              "#fb9f3a"
             ],
             [
              0.8888888888888888,
              "#fdca26"
             ],
             [
              1,
              "#f0f921"
             ]
            ],
            "type": "surface"
           }
          ],
          "table": [
           {
            "cells": {
             "fill": {
              "color": "#EBF0F8"
             },
             "line": {
              "color": "white"
             }
            },
            "header": {
             "fill": {
              "color": "#C8D4E3"
             },
             "line": {
              "color": "white"
             }
            },
            "type": "table"
           }
          ]
         },
         "layout": {
          "annotationdefaults": {
           "arrowcolor": "#2a3f5f",
           "arrowhead": 0,
           "arrowwidth": 1
          },
          "coloraxis": {
           "colorbar": {
            "outlinewidth": 0,
            "ticks": ""
           }
          },
          "colorscale": {
           "diverging": [
            [
             0,
             "#8e0152"
            ],
            [
             0.1,
             "#c51b7d"
            ],
            [
             0.2,
             "#de77ae"
            ],
            [
             0.3,
             "#f1b6da"
            ],
            [
             0.4,
             "#fde0ef"
            ],
            [
             0.5,
             "#f7f7f7"
            ],
            [
             0.6,
             "#e6f5d0"
            ],
            [
             0.7,
             "#b8e186"
            ],
            [
             0.8,
             "#7fbc41"
            ],
            [
             0.9,
             "#4d9221"
            ],
            [
             1,
             "#276419"
            ]
           ],
           "sequential": [
            [
             0,
             "#0d0887"
            ],
            [
             0.1111111111111111,
             "#46039f"
            ],
            [
             0.2222222222222222,
             "#7201a8"
            ],
            [
             0.3333333333333333,
             "#9c179e"
            ],
            [
             0.4444444444444444,
             "#bd3786"
            ],
            [
             0.5555555555555556,
             "#d8576b"
            ],
            [
             0.6666666666666666,
             "#ed7953"
            ],
            [
             0.7777777777777778,
             "#fb9f3a"
            ],
            [
             0.8888888888888888,
             "#fdca26"
            ],
            [
             1,
             "#f0f921"
            ]
           ],
           "sequentialminus": [
            [
             0,
             "#0d0887"
            ],
            [
             0.1111111111111111,
             "#46039f"
            ],
            [
             0.2222222222222222,
             "#7201a8"
            ],
            [
             0.3333333333333333,
             "#9c179e"
            ],
            [
             0.4444444444444444,
             "#bd3786"
            ],
            [
             0.5555555555555556,
             "#d8576b"
            ],
            [
             0.6666666666666666,
             "#ed7953"
            ],
            [
             0.7777777777777778,
             "#fb9f3a"
            ],
            [
             0.8888888888888888,
             "#fdca26"
            ],
            [
             1,
             "#f0f921"
            ]
           ]
          },
          "colorway": [
           "#636efa",
           "#EF553B",
           "#00cc96",
           "#ab63fa",
           "#FFA15A",
           "#19d3f3",
           "#FF6692",
           "#B6E880",
           "#FF97FF",
           "#FECB52"
          ],
          "font": {
           "color": "#2a3f5f"
          },
          "geo": {
           "bgcolor": "white",
           "lakecolor": "white",
           "landcolor": "#E5ECF6",
           "showlakes": true,
           "showland": true,
           "subunitcolor": "white"
          },
          "hoverlabel": {
           "align": "left"
          },
          "hovermode": "closest",
          "mapbox": {
           "style": "light"
          },
          "paper_bgcolor": "white",
          "plot_bgcolor": "#E5ECF6",
          "polar": {
           "angularaxis": {
            "gridcolor": "white",
            "linecolor": "white",
            "ticks": ""
           },
           "bgcolor": "#E5ECF6",
           "radialaxis": {
            "gridcolor": "white",
            "linecolor": "white",
            "ticks": ""
           }
          },
          "scene": {
           "xaxis": {
            "backgroundcolor": "#E5ECF6",
            "gridcolor": "white",
            "gridwidth": 2,
            "linecolor": "white",
            "showbackground": true,
            "ticks": "",
            "zerolinecolor": "white"
           },
           "yaxis": {
            "backgroundcolor": "#E5ECF6",
            "gridcolor": "white",
            "gridwidth": 2,
            "linecolor": "white",
            "showbackground": true,
            "ticks": "",
            "zerolinecolor": "white"
           },
           "zaxis": {
            "backgroundcolor": "#E5ECF6",
            "gridcolor": "white",
            "gridwidth": 2,
            "linecolor": "white",
            "showbackground": true,
            "ticks": "",
            "zerolinecolor": "white"
           }
          },
          "shapedefaults": {
           "line": {
            "color": "#2a3f5f"
           }
          },
          "ternary": {
           "aaxis": {
            "gridcolor": "white",
            "linecolor": "white",
            "ticks": ""
           },
           "baxis": {
            "gridcolor": "white",
            "linecolor": "white",
            "ticks": ""
           },
           "bgcolor": "#E5ECF6",
           "caxis": {
            "gridcolor": "white",
            "linecolor": "white",
            "ticks": ""
           }
          },
          "title": {
           "x": 0.05
          },
          "xaxis": {
           "automargin": true,
           "gridcolor": "white",
           "linecolor": "white",
           "ticks": "",
           "title": {
            "standoff": 15
           },
           "zerolinecolor": "white",
           "zerolinewidth": 2
          },
          "yaxis": {
           "automargin": true,
           "gridcolor": "white",
           "linecolor": "white",
           "ticks": "",
           "title": {
            "standoff": 15
           },
           "zerolinecolor": "white",
           "zerolinewidth": 2
          }
         }
        },
        "title": {
         "text": "angleShotBinned"
        },
        "xaxis": {
         "anchor": "y",
         "domain": [
          0,
          0.94
         ]
        },
        "yaxis": {
         "anchor": "x",
         "domain": [
          0,
          1
         ],
         "tickfont": {
          "size": 14
         },
         "title": {
          "font": {
           "size": 16
          },
          "text": "Share shots (in %)"
         }
        },
        "yaxis2": {
         "anchor": "x",
         "overlaying": "y",
         "side": "right",
         "tickfont": {
          "size": 14
         },
         "title": {
          "font": {
           "size": 16
          },
          "text": "Goal (in %)"
         }
        }
       }
      },
      "text/html": [
       "<div>\n",
       "        \n",
       "        \n",
       "            <div id=\"1d5eef19-5558-40ab-9703-1f3d1656a830\" class=\"plotly-graph-div\" style=\"height:525px; width:100%;\"></div>\n",
       "            <script type=\"text/javascript\">\n",
       "                require([\"plotly\"], function(Plotly) {\n",
       "                    window.PLOTLYENV=window.PLOTLYENV || {};\n",
       "                    \n",
       "                if (document.getElementById(\"1d5eef19-5558-40ab-9703-1f3d1656a830\")) {\n",
       "                    Plotly.newPlot(\n",
       "                        '1d5eef19-5558-40ab-9703-1f3d1656a830',\n",
       "                        [{\"name\": \"Share of shots\", \"type\": \"bar\", \"x\": [\"<-50\", \"-50 - -40\", \"-40 - -30\", \"-30 - -20\", \"-20 - -10\", \"-10 - 0\", \"0 - 10\", \"10 - 20\", \"20 - 30\", \"30 - 40\", \"40 - 50\", \"50 - 60\", \">=60\"], \"y\": [2.551464192519571, 3.450275442157147, 5.479849231661351, 7.422441287329661, 8.68367642795013, 9.756451145259495, 19.295447955929255, 10.14786894752102, 10.278341548274863, 9.031603363293708, 7.233980864018556, 4.08814149028704, 2.580458103798202]}, {\"name\": \"Prob. to score\", \"type\": \"scatter\", \"x\": [\"<-50\", \"-50 - -40\", \"-40 - -30\", \"-30 - -20\", \"-20 - -10\", \"-10 - 0\", \"0 - 10\", \"10 - 20\", \"20 - 30\", \"30 - 40\", \"40 - 50\", \"50 - 60\", \">=60\"], \"xaxis\": \"x\", \"y\": [10.795454545454545, 11.344537815126051, 10.317460317460316, 11.71875, 8.180300500834726, 12.035661218424963, 11.119459053343352, 10.571428571428571, 10.01410437235543, 7.865168539325842, 14.428857715430862, 12.411347517730496, 12.921348314606742], \"yaxis\": \"y2\"}],\n",
       "                        {\"template\": {\"data\": {\"bar\": [{\"error_x\": {\"color\": \"#2a3f5f\"}, \"error_y\": {\"color\": \"#2a3f5f\"}, \"marker\": {\"line\": {\"color\": \"#E5ECF6\", \"width\": 0.5}}, \"type\": \"bar\"}], \"barpolar\": [{\"marker\": {\"line\": {\"color\": \"#E5ECF6\", \"width\": 0.5}}, \"type\": \"barpolar\"}], \"carpet\": [{\"aaxis\": {\"endlinecolor\": \"#2a3f5f\", \"gridcolor\": \"white\", \"linecolor\": \"white\", \"minorgridcolor\": \"white\", \"startlinecolor\": \"#2a3f5f\"}, \"baxis\": {\"endlinecolor\": \"#2a3f5f\", \"gridcolor\": \"white\", \"linecolor\": \"white\", \"minorgridcolor\": \"white\", \"startlinecolor\": \"#2a3f5f\"}, \"type\": \"carpet\"}], \"choropleth\": [{\"colorbar\": {\"outlinewidth\": 0, \"ticks\": \"\"}, \"type\": \"choropleth\"}], \"contour\": [{\"colorbar\": {\"outlinewidth\": 0, \"ticks\": \"\"}, \"colorscale\": [[0.0, \"#0d0887\"], [0.1111111111111111, \"#46039f\"], [0.2222222222222222, \"#7201a8\"], [0.3333333333333333, \"#9c179e\"], [0.4444444444444444, \"#bd3786\"], [0.5555555555555556, \"#d8576b\"], [0.6666666666666666, \"#ed7953\"], [0.7777777777777778, \"#fb9f3a\"], [0.8888888888888888, \"#fdca26\"], [1.0, \"#f0f921\"]], \"type\": \"contour\"}], \"contourcarpet\": [{\"colorbar\": {\"outlinewidth\": 0, \"ticks\": \"\"}, \"type\": \"contourcarpet\"}], \"heatmap\": [{\"colorbar\": {\"outlinewidth\": 0, \"ticks\": \"\"}, \"colorscale\": [[0.0, \"#0d0887\"], [0.1111111111111111, \"#46039f\"], [0.2222222222222222, \"#7201a8\"], [0.3333333333333333, \"#9c179e\"], [0.4444444444444444, \"#bd3786\"], [0.5555555555555556, \"#d8576b\"], [0.6666666666666666, \"#ed7953\"], [0.7777777777777778, \"#fb9f3a\"], [0.8888888888888888, \"#fdca26\"], [1.0, \"#f0f921\"]], \"type\": \"heatmap\"}], \"heatmapgl\": [{\"colorbar\": {\"outlinewidth\": 0, \"ticks\": \"\"}, \"colorscale\": [[0.0, \"#0d0887\"], [0.1111111111111111, \"#46039f\"], [0.2222222222222222, \"#7201a8\"], [0.3333333333333333, \"#9c179e\"], [0.4444444444444444, \"#bd3786\"], [0.5555555555555556, \"#d8576b\"], [0.6666666666666666, \"#ed7953\"], [0.7777777777777778, \"#fb9f3a\"], [0.8888888888888888, \"#fdca26\"], [1.0, \"#f0f921\"]], \"type\": \"heatmapgl\"}], \"histogram\": [{\"marker\": {\"colorbar\": {\"outlinewidth\": 0, \"ticks\": \"\"}}, \"type\": \"histogram\"}], \"histogram2d\": [{\"colorbar\": {\"outlinewidth\": 0, \"ticks\": \"\"}, \"colorscale\": [[0.0, \"#0d0887\"], [0.1111111111111111, \"#46039f\"], [0.2222222222222222, \"#7201a8\"], [0.3333333333333333, \"#9c179e\"], [0.4444444444444444, \"#bd3786\"], [0.5555555555555556, \"#d8576b\"], [0.6666666666666666, \"#ed7953\"], [0.7777777777777778, \"#fb9f3a\"], [0.8888888888888888, \"#fdca26\"], [1.0, \"#f0f921\"]], \"type\": \"histogram2d\"}], \"histogram2dcontour\": [{\"colorbar\": {\"outlinewidth\": 0, \"ticks\": \"\"}, \"colorscale\": [[0.0, \"#0d0887\"], [0.1111111111111111, \"#46039f\"], [0.2222222222222222, \"#7201a8\"], [0.3333333333333333, \"#9c179e\"], [0.4444444444444444, \"#bd3786\"], [0.5555555555555556, \"#d8576b\"], [0.6666666666666666, \"#ed7953\"], [0.7777777777777778, \"#fb9f3a\"], [0.8888888888888888, \"#fdca26\"], [1.0, \"#f0f921\"]], \"type\": \"histogram2dcontour\"}], \"mesh3d\": [{\"colorbar\": {\"outlinewidth\": 0, \"ticks\": \"\"}, \"type\": \"mesh3d\"}], \"parcoords\": [{\"line\": {\"colorbar\": {\"outlinewidth\": 0, \"ticks\": \"\"}}, \"type\": \"parcoords\"}], \"pie\": [{\"automargin\": true, \"type\": \"pie\"}], \"scatter\": [{\"marker\": {\"colorbar\": {\"outlinewidth\": 0, \"ticks\": \"\"}}, \"type\": \"scatter\"}], \"scatter3d\": [{\"line\": {\"colorbar\": {\"outlinewidth\": 0, \"ticks\": \"\"}}, \"marker\": {\"colorbar\": {\"outlinewidth\": 0, \"ticks\": \"\"}}, \"type\": \"scatter3d\"}], \"scattercarpet\": [{\"marker\": {\"colorbar\": {\"outlinewidth\": 0, \"ticks\": \"\"}}, \"type\": \"scattercarpet\"}], \"scattergeo\": [{\"marker\": {\"colorbar\": {\"outlinewidth\": 0, \"ticks\": \"\"}}, \"type\": \"scattergeo\"}], \"scattergl\": [{\"marker\": {\"colorbar\": {\"outlinewidth\": 0, \"ticks\": \"\"}}, \"type\": \"scattergl\"}], \"scattermapbox\": [{\"marker\": {\"colorbar\": {\"outlinewidth\": 0, \"ticks\": \"\"}}, \"type\": \"scattermapbox\"}], \"scatterpolar\": [{\"marker\": {\"colorbar\": {\"outlinewidth\": 0, \"ticks\": \"\"}}, \"type\": \"scatterpolar\"}], \"scatterpolargl\": [{\"marker\": {\"colorbar\": {\"outlinewidth\": 0, \"ticks\": \"\"}}, \"type\": \"scatterpolargl\"}], \"scatterternary\": [{\"marker\": {\"colorbar\": {\"outlinewidth\": 0, \"ticks\": \"\"}}, \"type\": \"scatterternary\"}], \"surface\": [{\"colorbar\": {\"outlinewidth\": 0, \"ticks\": \"\"}, \"colorscale\": [[0.0, \"#0d0887\"], [0.1111111111111111, \"#46039f\"], [0.2222222222222222, \"#7201a8\"], [0.3333333333333333, \"#9c179e\"], [0.4444444444444444, \"#bd3786\"], [0.5555555555555556, \"#d8576b\"], [0.6666666666666666, \"#ed7953\"], [0.7777777777777778, \"#fb9f3a\"], [0.8888888888888888, \"#fdca26\"], [1.0, \"#f0f921\"]], \"type\": \"surface\"}], \"table\": [{\"cells\": {\"fill\": {\"color\": \"#EBF0F8\"}, \"line\": {\"color\": \"white\"}}, \"header\": {\"fill\": {\"color\": \"#C8D4E3\"}, \"line\": {\"color\": \"white\"}}, \"type\": \"table\"}]}, \"layout\": {\"annotationdefaults\": {\"arrowcolor\": \"#2a3f5f\", \"arrowhead\": 0, \"arrowwidth\": 1}, \"coloraxis\": {\"colorbar\": {\"outlinewidth\": 0, \"ticks\": \"\"}}, \"colorscale\": {\"diverging\": [[0, \"#8e0152\"], [0.1, \"#c51b7d\"], [0.2, \"#de77ae\"], [0.3, \"#f1b6da\"], [0.4, \"#fde0ef\"], [0.5, \"#f7f7f7\"], [0.6, \"#e6f5d0\"], [0.7, \"#b8e186\"], [0.8, \"#7fbc41\"], [0.9, \"#4d9221\"], [1, \"#276419\"]], \"sequential\": [[0.0, \"#0d0887\"], [0.1111111111111111, \"#46039f\"], [0.2222222222222222, \"#7201a8\"], [0.3333333333333333, \"#9c179e\"], [0.4444444444444444, \"#bd3786\"], [0.5555555555555556, \"#d8576b\"], [0.6666666666666666, \"#ed7953\"], [0.7777777777777778, \"#fb9f3a\"], [0.8888888888888888, \"#fdca26\"], [1.0, \"#f0f921\"]], \"sequentialminus\": [[0.0, \"#0d0887\"], [0.1111111111111111, \"#46039f\"], [0.2222222222222222, \"#7201a8\"], [0.3333333333333333, \"#9c179e\"], [0.4444444444444444, \"#bd3786\"], [0.5555555555555556, \"#d8576b\"], [0.6666666666666666, \"#ed7953\"], [0.7777777777777778, \"#fb9f3a\"], [0.8888888888888888, \"#fdca26\"], [1.0, \"#f0f921\"]]}, \"colorway\": [\"#636efa\", \"#EF553B\", \"#00cc96\", \"#ab63fa\", \"#FFA15A\", \"#19d3f3\", \"#FF6692\", \"#B6E880\", \"#FF97FF\", \"#FECB52\"], \"font\": {\"color\": \"#2a3f5f\"}, \"geo\": {\"bgcolor\": \"white\", \"lakecolor\": \"white\", \"landcolor\": \"#E5ECF6\", \"showlakes\": true, \"showland\": true, \"subunitcolor\": \"white\"}, \"hoverlabel\": {\"align\": \"left\"}, \"hovermode\": \"closest\", \"mapbox\": {\"style\": \"light\"}, \"paper_bgcolor\": \"white\", \"plot_bgcolor\": \"#E5ECF6\", \"polar\": {\"angularaxis\": {\"gridcolor\": \"white\", \"linecolor\": \"white\", \"ticks\": \"\"}, \"bgcolor\": \"#E5ECF6\", \"radialaxis\": {\"gridcolor\": \"white\", \"linecolor\": \"white\", \"ticks\": \"\"}}, \"scene\": {\"xaxis\": {\"backgroundcolor\": \"#E5ECF6\", \"gridcolor\": \"white\", \"gridwidth\": 2, \"linecolor\": \"white\", \"showbackground\": true, \"ticks\": \"\", \"zerolinecolor\": \"white\"}, \"yaxis\": {\"backgroundcolor\": \"#E5ECF6\", \"gridcolor\": \"white\", \"gridwidth\": 2, \"linecolor\": \"white\", \"showbackground\": true, \"ticks\": \"\", \"zerolinecolor\": \"white\"}, \"zaxis\": {\"backgroundcolor\": \"#E5ECF6\", \"gridcolor\": \"white\", \"gridwidth\": 2, \"linecolor\": \"white\", \"showbackground\": true, \"ticks\": \"\", \"zerolinecolor\": \"white\"}}, \"shapedefaults\": {\"line\": {\"color\": \"#2a3f5f\"}}, \"ternary\": {\"aaxis\": {\"gridcolor\": \"white\", \"linecolor\": \"white\", \"ticks\": \"\"}, \"baxis\": {\"gridcolor\": \"white\", \"linecolor\": \"white\", \"ticks\": \"\"}, \"bgcolor\": \"#E5ECF6\", \"caxis\": {\"gridcolor\": \"white\", \"linecolor\": \"white\", \"ticks\": \"\"}}, \"title\": {\"x\": 0.05}, \"xaxis\": {\"automargin\": true, \"gridcolor\": \"white\", \"linecolor\": \"white\", \"ticks\": \"\", \"title\": {\"standoff\": 15}, \"zerolinecolor\": \"white\", \"zerolinewidth\": 2}, \"yaxis\": {\"automargin\": true, \"gridcolor\": \"white\", \"linecolor\": \"white\", \"ticks\": \"\", \"title\": {\"standoff\": 15}, \"zerolinecolor\": \"white\", \"zerolinewidth\": 2}}}, \"title\": {\"text\": \"angleShotBinned\"}, \"xaxis\": {\"anchor\": \"y\", \"domain\": [0.0, 0.94]}, \"yaxis\": {\"anchor\": \"x\", \"domain\": [0.0, 1.0], \"tickfont\": {\"size\": 14}, \"title\": {\"font\": {\"size\": 16}, \"text\": \"Share shots (in %)\"}}, \"yaxis2\": {\"anchor\": \"x\", \"overlaying\": \"y\", \"side\": \"right\", \"tickfont\": {\"size\": 14}, \"title\": {\"font\": {\"size\": 16}, \"text\": \"Goal (in %)\"}}},\n",
       "                        {\"responsive\": true}\n",
       "                    ).then(function(){\n",
       "                            \n",
       "var gd = document.getElementById('1d5eef19-5558-40ab-9703-1f3d1656a830');\n",
       "var x = new MutationObserver(function (mutations, observer) {{\n",
       "        var display = window.getComputedStyle(gd).display;\n",
       "        if (!display || display === 'none') {{\n",
       "            console.log([gd, 'removed!']);\n",
       "            Plotly.purge(gd);\n",
       "            observer.disconnect();\n",
       "        }}\n",
       "}});\n",
       "\n",
       "// Listen for the removal of the full notebook cells\n",
       "var notebookContainer = gd.closest('#notebook-container');\n",
       "if (notebookContainer) {{\n",
       "    x.observe(notebookContainer, {childList: true});\n",
       "}}\n",
       "\n",
       "// Listen for the clearing of the current output cell\n",
       "var outputEl = gd.closest('.output');\n",
       "if (outputEl) {{\n",
       "    x.observe(outputEl, {childList: true});\n",
       "}}\n",
       "\n",
       "                        })\n",
       "                };\n",
       "                });\n",
       "            </script>\n",
       "        </div>"
      ]
     },
     "metadata": {},
     "output_type": "display_data"
    }
   ],
   "source": [
    "create_variable_graph(df_shots, \"angleShotBinned\", binned_cols=True)"
   ]
  },
  {
   "cell_type": "markdown",
   "metadata": {},
   "source": [
    "## Passes per game"
   ]
  },
  {
   "cell_type": "code",
   "execution_count": 335,
   "metadata": {},
   "outputs": [],
   "source": [
    "df_pass_data = df_events[df_events[\"eventName\"] == \"Pass\"].copy()"
   ]
  },
  {
   "cell_type": "code",
   "execution_count": 336,
   "metadata": {},
   "outputs": [],
   "source": [
    "df_passes = df_pass_data.groupby(\"teamId\").agg(totalPasses=(\"teamId\", \"count\"), \n",
    "                                            matches=(\"matchId\", \"nunique\"),\n",
    "                                            accuratePasses=(\"Accurate\", \"sum\")).reset_index()\n",
    "df_passes[\"passesPerGame\"] = df_passes[\"totalPasses\"] / df_passes[\"matches\"]\n",
    "df_passes[\"passAccuracy\"] = df_passes[\"accuratePasses\"] / df_passes[\"totalPasses\"]\n",
    "df_passes.sort_values(\"passesPerGame\", inplace=True, ascending=False)\n",
    "df_passes = pd.merge(df_passes, df_teams[[\"teamId\", \"teamName\"]], how=\"left\")"
   ]
  },
  {
   "cell_type": "code",
   "execution_count": 337,
   "metadata": {},
   "outputs": [
    {
     "data": {
      "application/vnd.plotly.v1+json": {
       "config": {
        "plotlyServerURL": "https://plot.ly"
       },
       "data": [
        {
         "alignmentgroup": "True",
         "hovertemplate": "Team=%{x}<br>Passes Per Game=%{y}<br>Pass Accuracy=%{marker.color}<extra></extra>",
         "legendgroup": "",
         "marker": {
          "color": [
           0.8818987054281172,
           0.8529492455418382,
           0.8458087512291053,
           0.846461615403851,
           0.8177682294957664,
           0.8362516212710766,
           0.8291513171613262,
           0.8157443157443157,
           0.8026792179580015,
           0.8265628443399692,
           0.8172337278106508,
           0.810969274157637,
           0.8013822115384616,
           0.8120587068623563,
           0.7793378540087754,
           0.7880165948619754,
           0.771404958677686,
           0.7897227856659905
          ],
          "coloraxis": "coloraxis"
         },
         "name": "",
         "offsetgroup": "",
         "orientation": "v",
         "showlegend": false,
         "textposition": "auto",
         "type": "bar",
         "x": [
          "Bayern München",
          "Borussia Dortmund",
          "Bayer Leverkusen",
          "Borussia M'gladbach",
          "RB Leipzig",
          "Hoffenheim",
          "Wolfsburg",
          "Stuttgart",
          "Werder Bremen",
          "Schalke 04",
          "Hertha BSC",
          "Köln",
          "Eintracht Frankfurt",
          "Freiburg",
          "Hamburger SV",
          "Hannover 96",
          "Augsburg",
          "Mainz 05"
         ],
         "xaxis": "x",
         "y": [
          647.5,
          536.0294117647059,
          478.5882352941176,
          470.47058823529414,
          465.47058823529414,
          453.52941176470586,
          423.1470588235294,
          411.3529411764706,
          406.1764705882353,
          400.38235294117646,
          397.6470588235294,
          396.29411764705884,
          391.52941176470586,
          370.7352941176471,
          368.6764705882353,
          368.6470588235294,
          355.88235294117646,
          348
         ],
         "yaxis": "y"
        }
       ],
       "layout": {
        "barmode": "relative",
        "coloraxis": {
         "colorbar": {
          "title": {
           "text": "Pass Accuracy"
          }
         },
         "colorscale": [
          [
           0,
           "#0d0887"
          ],
          [
           0.1111111111111111,
           "#46039f"
          ],
          [
           0.2222222222222222,
           "#7201a8"
          ],
          [
           0.3333333333333333,
           "#9c179e"
          ],
          [
           0.4444444444444444,
           "#bd3786"
          ],
          [
           0.5555555555555556,
           "#d8576b"
          ],
          [
           0.6666666666666666,
           "#ed7953"
          ],
          [
           0.7777777777777778,
           "#fb9f3a"
          ],
          [
           0.8888888888888888,
           "#fdca26"
          ],
          [
           1,
           "#f0f921"
          ]
         ]
        },
        "legend": {
         "tracegroupgap": 0
        },
        "margin": {
         "t": 60
        },
        "template": {
         "data": {
          "bar": [
           {
            "error_x": {
             "color": "#2a3f5f"
            },
            "error_y": {
             "color": "#2a3f5f"
            },
            "marker": {
             "line": {
              "color": "#E5ECF6",
              "width": 0.5
             }
            },
            "type": "bar"
           }
          ],
          "barpolar": [
           {
            "marker": {
             "line": {
              "color": "#E5ECF6",
              "width": 0.5
             }
            },
            "type": "barpolar"
           }
          ],
          "carpet": [
           {
            "aaxis": {
             "endlinecolor": "#2a3f5f",
             "gridcolor": "white",
             "linecolor": "white",
             "minorgridcolor": "white",
             "startlinecolor": "#2a3f5f"
            },
            "baxis": {
             "endlinecolor": "#2a3f5f",
             "gridcolor": "white",
             "linecolor": "white",
             "minorgridcolor": "white",
             "startlinecolor": "#2a3f5f"
            },
            "type": "carpet"
           }
          ],
          "choropleth": [
           {
            "colorbar": {
             "outlinewidth": 0,
             "ticks": ""
            },
            "type": "choropleth"
           }
          ],
          "contour": [
           {
            "colorbar": {
             "outlinewidth": 0,
             "ticks": ""
            },
            "colorscale": [
             [
              0,
              "#0d0887"
             ],
             [
              0.1111111111111111,
              "#46039f"
             ],
             [
              0.2222222222222222,
              "#7201a8"
             ],
             [
              0.3333333333333333,
              "#9c179e"
             ],
             [
              0.4444444444444444,
              "#bd3786"
             ],
             [
              0.5555555555555556,
              "#d8576b"
             ],
             [
              0.6666666666666666,
              "#ed7953"
             ],
             [
              0.7777777777777778,
              "#fb9f3a"
             ],
             [
              0.8888888888888888,
              "#fdca26"
             ],
             [
              1,
              "#f0f921"
             ]
            ],
            "type": "contour"
           }
          ],
          "contourcarpet": [
           {
            "colorbar": {
             "outlinewidth": 0,
             "ticks": ""
            },
            "type": "contourcarpet"
           }
          ],
          "heatmap": [
           {
            "colorbar": {
             "outlinewidth": 0,
             "ticks": ""
            },
            "colorscale": [
             [
              0,
              "#0d0887"
             ],
             [
              0.1111111111111111,
              "#46039f"
             ],
             [
              0.2222222222222222,
              "#7201a8"
             ],
             [
              0.3333333333333333,
              "#9c179e"
             ],
             [
              0.4444444444444444,
              "#bd3786"
             ],
             [
              0.5555555555555556,
              "#d8576b"
             ],
             [
              0.6666666666666666,
              "#ed7953"
             ],
             [
              0.7777777777777778,
              "#fb9f3a"
             ],
             [
              0.8888888888888888,
              "#fdca26"
             ],
             [
              1,
              "#f0f921"
             ]
            ],
            "type": "heatmap"
           }
          ],
          "heatmapgl": [
           {
            "colorbar": {
             "outlinewidth": 0,
             "ticks": ""
            },
            "colorscale": [
             [
              0,
              "#0d0887"
             ],
             [
              0.1111111111111111,
              "#46039f"
             ],
             [
              0.2222222222222222,
              "#7201a8"
             ],
             [
              0.3333333333333333,
              "#9c179e"
             ],
             [
              0.4444444444444444,
              "#bd3786"
             ],
             [
              0.5555555555555556,
              "#d8576b"
             ],
             [
              0.6666666666666666,
              "#ed7953"
             ],
             [
              0.7777777777777778,
              "#fb9f3a"
             ],
             [
              0.8888888888888888,
              "#fdca26"
             ],
             [
              1,
              "#f0f921"
             ]
            ],
            "type": "heatmapgl"
           }
          ],
          "histogram": [
           {
            "marker": {
             "colorbar": {
              "outlinewidth": 0,
              "ticks": ""
             }
            },
            "type": "histogram"
           }
          ],
          "histogram2d": [
           {
            "colorbar": {
             "outlinewidth": 0,
             "ticks": ""
            },
            "colorscale": [
             [
              0,
              "#0d0887"
             ],
             [
              0.1111111111111111,
              "#46039f"
             ],
             [
              0.2222222222222222,
              "#7201a8"
             ],
             [
              0.3333333333333333,
              "#9c179e"
             ],
             [
              0.4444444444444444,
              "#bd3786"
             ],
             [
              0.5555555555555556,
              "#d8576b"
             ],
             [
              0.6666666666666666,
              "#ed7953"
             ],
             [
              0.7777777777777778,
              "#fb9f3a"
             ],
             [
              0.8888888888888888,
              "#fdca26"
             ],
             [
              1,
              "#f0f921"
             ]
            ],
            "type": "histogram2d"
           }
          ],
          "histogram2dcontour": [
           {
            "colorbar": {
             "outlinewidth": 0,
             "ticks": ""
            },
            "colorscale": [
             [
              0,
              "#0d0887"
             ],
             [
              0.1111111111111111,
              "#46039f"
             ],
             [
              0.2222222222222222,
              "#7201a8"
             ],
             [
              0.3333333333333333,
              "#9c179e"
             ],
             [
              0.4444444444444444,
              "#bd3786"
             ],
             [
              0.5555555555555556,
              "#d8576b"
             ],
             [
              0.6666666666666666,
              "#ed7953"
             ],
             [
              0.7777777777777778,
              "#fb9f3a"
             ],
             [
              0.8888888888888888,
              "#fdca26"
             ],
             [
              1,
              "#f0f921"
             ]
            ],
            "type": "histogram2dcontour"
           }
          ],
          "mesh3d": [
           {
            "colorbar": {
             "outlinewidth": 0,
             "ticks": ""
            },
            "type": "mesh3d"
           }
          ],
          "parcoords": [
           {
            "line": {
             "colorbar": {
              "outlinewidth": 0,
              "ticks": ""
             }
            },
            "type": "parcoords"
           }
          ],
          "pie": [
           {
            "automargin": true,
            "type": "pie"
           }
          ],
          "scatter": [
           {
            "marker": {
             "colorbar": {
              "outlinewidth": 0,
              "ticks": ""
             }
            },
            "type": "scatter"
           }
          ],
          "scatter3d": [
           {
            "line": {
             "colorbar": {
              "outlinewidth": 0,
              "ticks": ""
             }
            },
            "marker": {
             "colorbar": {
              "outlinewidth": 0,
              "ticks": ""
             }
            },
            "type": "scatter3d"
           }
          ],
          "scattercarpet": [
           {
            "marker": {
             "colorbar": {
              "outlinewidth": 0,
              "ticks": ""
             }
            },
            "type": "scattercarpet"
           }
          ],
          "scattergeo": [
           {
            "marker": {
             "colorbar": {
              "outlinewidth": 0,
              "ticks": ""
             }
            },
            "type": "scattergeo"
           }
          ],
          "scattergl": [
           {
            "marker": {
             "colorbar": {
              "outlinewidth": 0,
              "ticks": ""
             }
            },
            "type": "scattergl"
           }
          ],
          "scattermapbox": [
           {
            "marker": {
             "colorbar": {
              "outlinewidth": 0,
              "ticks": ""
             }
            },
            "type": "scattermapbox"
           }
          ],
          "scatterpolar": [
           {
            "marker": {
             "colorbar": {
              "outlinewidth": 0,
              "ticks": ""
             }
            },
            "type": "scatterpolar"
           }
          ],
          "scatterpolargl": [
           {
            "marker": {
             "colorbar": {
              "outlinewidth": 0,
              "ticks": ""
             }
            },
            "type": "scatterpolargl"
           }
          ],
          "scatterternary": [
           {
            "marker": {
             "colorbar": {
              "outlinewidth": 0,
              "ticks": ""
             }
            },
            "type": "scatterternary"
           }
          ],
          "surface": [
           {
            "colorbar": {
             "outlinewidth": 0,
             "ticks": ""
            },
            "colorscale": [
             [
              0,
              "#0d0887"
             ],
             [
              0.1111111111111111,
              "#46039f"
             ],
             [
              0.2222222222222222,
              "#7201a8"
             ],
             [
              0.3333333333333333,
              "#9c179e"
             ],
             [
              0.4444444444444444,
              "#bd3786"
             ],
             [
              0.5555555555555556,
              "#d8576b"
             ],
             [
              0.6666666666666666,
              "#ed7953"
             ],
             [
              0.7777777777777778,
              "#fb9f3a"
             ],
             [
              0.8888888888888888,
              "#fdca26"
             ],
             [
              1,
              "#f0f921"
             ]
            ],
            "type": "surface"
           }
          ],
          "table": [
           {
            "cells": {
             "fill": {
              "color": "#EBF0F8"
             },
             "line": {
              "color": "white"
             }
            },
            "header": {
             "fill": {
              "color": "#C8D4E3"
             },
             "line": {
              "color": "white"
             }
            },
            "type": "table"
           }
          ]
         },
         "layout": {
          "annotationdefaults": {
           "arrowcolor": "#2a3f5f",
           "arrowhead": 0,
           "arrowwidth": 1
          },
          "coloraxis": {
           "colorbar": {
            "outlinewidth": 0,
            "ticks": ""
           }
          },
          "colorscale": {
           "diverging": [
            [
             0,
             "#8e0152"
            ],
            [
             0.1,
             "#c51b7d"
            ],
            [
             0.2,
             "#de77ae"
            ],
            [
             0.3,
             "#f1b6da"
            ],
            [
             0.4,
             "#fde0ef"
            ],
            [
             0.5,
             "#f7f7f7"
            ],
            [
             0.6,
             "#e6f5d0"
            ],
            [
             0.7,
             "#b8e186"
            ],
            [
             0.8,
             "#7fbc41"
            ],
            [
             0.9,
             "#4d9221"
            ],
            [
             1,
             "#276419"
            ]
           ],
           "sequential": [
            [
             0,
             "#0d0887"
            ],
            [
             0.1111111111111111,
             "#46039f"
            ],
            [
             0.2222222222222222,
             "#7201a8"
            ],
            [
             0.3333333333333333,
             "#9c179e"
            ],
            [
             0.4444444444444444,
             "#bd3786"
            ],
            [
             0.5555555555555556,
             "#d8576b"
            ],
            [
             0.6666666666666666,
             "#ed7953"
            ],
            [
             0.7777777777777778,
             "#fb9f3a"
            ],
            [
             0.8888888888888888,
             "#fdca26"
            ],
            [
             1,
             "#f0f921"
            ]
           ],
           "sequentialminus": [
            [
             0,
             "#0d0887"
            ],
            [
             0.1111111111111111,
             "#46039f"
            ],
            [
             0.2222222222222222,
             "#7201a8"
            ],
            [
             0.3333333333333333,
             "#9c179e"
            ],
            [
             0.4444444444444444,
             "#bd3786"
            ],
            [
             0.5555555555555556,
             "#d8576b"
            ],
            [
             0.6666666666666666,
             "#ed7953"
            ],
            [
             0.7777777777777778,
             "#fb9f3a"
            ],
            [
             0.8888888888888888,
             "#fdca26"
            ],
            [
             1,
             "#f0f921"
            ]
           ]
          },
          "colorway": [
           "#636efa",
           "#EF553B",
           "#00cc96",
           "#ab63fa",
           "#FFA15A",
           "#19d3f3",
           "#FF6692",
           "#B6E880",
           "#FF97FF",
           "#FECB52"
          ],
          "font": {
           "color": "#2a3f5f"
          },
          "geo": {
           "bgcolor": "white",
           "lakecolor": "white",
           "landcolor": "#E5ECF6",
           "showlakes": true,
           "showland": true,
           "subunitcolor": "white"
          },
          "hoverlabel": {
           "align": "left"
          },
          "hovermode": "closest",
          "mapbox": {
           "style": "light"
          },
          "paper_bgcolor": "white",
          "plot_bgcolor": "#E5ECF6",
          "polar": {
           "angularaxis": {
            "gridcolor": "white",
            "linecolor": "white",
            "ticks": ""
           },
           "bgcolor": "#E5ECF6",
           "radialaxis": {
            "gridcolor": "white",
            "linecolor": "white",
            "ticks": ""
           }
          },
          "scene": {
           "xaxis": {
            "backgroundcolor": "#E5ECF6",
            "gridcolor": "white",
            "gridwidth": 2,
            "linecolor": "white",
            "showbackground": true,
            "ticks": "",
            "zerolinecolor": "white"
           },
           "yaxis": {
            "backgroundcolor": "#E5ECF6",
            "gridcolor": "white",
            "gridwidth": 2,
            "linecolor": "white",
            "showbackground": true,
            "ticks": "",
            "zerolinecolor": "white"
           },
           "zaxis": {
            "backgroundcolor": "#E5ECF6",
            "gridcolor": "white",
            "gridwidth": 2,
            "linecolor": "white",
            "showbackground": true,
            "ticks": "",
            "zerolinecolor": "white"
           }
          },
          "shapedefaults": {
           "line": {
            "color": "#2a3f5f"
           }
          },
          "ternary": {
           "aaxis": {
            "gridcolor": "white",
            "linecolor": "white",
            "ticks": ""
           },
           "baxis": {
            "gridcolor": "white",
            "linecolor": "white",
            "ticks": ""
           },
           "bgcolor": "#E5ECF6",
           "caxis": {
            "gridcolor": "white",
            "linecolor": "white",
            "ticks": ""
           }
          },
          "title": {
           "x": 0.05
          },
          "xaxis": {
           "automargin": true,
           "gridcolor": "white",
           "linecolor": "white",
           "ticks": "",
           "title": {
            "standoff": 15
           },
           "zerolinecolor": "white",
           "zerolinewidth": 2
          },
          "yaxis": {
           "automargin": true,
           "gridcolor": "white",
           "linecolor": "white",
           "ticks": "",
           "title": {
            "standoff": 15
           },
           "zerolinecolor": "white",
           "zerolinewidth": 2
          }
         }
        },
        "xaxis": {
         "anchor": "y",
         "domain": [
          0,
          1
         ],
         "title": {
          "text": "Team"
         }
        },
        "yaxis": {
         "anchor": "x",
         "domain": [
          0,
          1
         ],
         "title": {
          "text": "Passes Per Game"
         }
        }
       }
      },
      "text/html": [
       "<div>\n",
       "        \n",
       "        \n",
       "            <div id=\"27da912c-3025-4663-8ce3-c4b846731602\" class=\"plotly-graph-div\" style=\"height:525px; width:100%;\"></div>\n",
       "            <script type=\"text/javascript\">\n",
       "                require([\"plotly\"], function(Plotly) {\n",
       "                    window.PLOTLYENV=window.PLOTLYENV || {};\n",
       "                    \n",
       "                if (document.getElementById(\"27da912c-3025-4663-8ce3-c4b846731602\")) {\n",
       "                    Plotly.newPlot(\n",
       "                        '27da912c-3025-4663-8ce3-c4b846731602',\n",
       "                        [{\"alignmentgroup\": \"True\", \"hovertemplate\": \"Team=%{x}<br>Passes Per Game=%{y}<br>Pass Accuracy=%{marker.color}<extra></extra>\", \"legendgroup\": \"\", \"marker\": {\"color\": [0.8818987054281172, 0.8529492455418382, 0.8458087512291053, 0.846461615403851, 0.8177682294957664, 0.8362516212710766, 0.8291513171613262, 0.8157443157443157, 0.8026792179580015, 0.8265628443399692, 0.8172337278106508, 0.810969274157637, 0.8013822115384616, 0.8120587068623563, 0.7793378540087754, 0.7880165948619754, 0.771404958677686, 0.7897227856659905], \"coloraxis\": \"coloraxis\"}, \"name\": \"\", \"offsetgroup\": \"\", \"orientation\": \"v\", \"showlegend\": false, \"textposition\": \"auto\", \"type\": \"bar\", \"x\": [\"Bayern M\\u00fcnchen\", \"Borussia Dortmund\", \"Bayer Leverkusen\", \"Borussia M'gladbach\", \"RB Leipzig\", \"Hoffenheim\", \"Wolfsburg\", \"Stuttgart\", \"Werder Bremen\", \"Schalke 04\", \"Hertha BSC\", \"K\\u00f6ln\", \"Eintracht Frankfurt\", \"Freiburg\", \"Hamburger SV\", \"Hannover 96\", \"Augsburg\", \"Mainz 05\"], \"xaxis\": \"x\", \"y\": [647.5, 536.0294117647059, 478.5882352941176, 470.47058823529414, 465.47058823529414, 453.52941176470586, 423.1470588235294, 411.3529411764706, 406.1764705882353, 400.38235294117646, 397.6470588235294, 396.29411764705884, 391.52941176470586, 370.7352941176471, 368.6764705882353, 368.6470588235294, 355.88235294117646, 348.0], \"yaxis\": \"y\"}],\n",
       "                        {\"barmode\": \"relative\", \"coloraxis\": {\"colorbar\": {\"title\": {\"text\": \"Pass Accuracy\"}}, \"colorscale\": [[0.0, \"#0d0887\"], [0.1111111111111111, \"#46039f\"], [0.2222222222222222, \"#7201a8\"], [0.3333333333333333, \"#9c179e\"], [0.4444444444444444, \"#bd3786\"], [0.5555555555555556, \"#d8576b\"], [0.6666666666666666, \"#ed7953\"], [0.7777777777777778, \"#fb9f3a\"], [0.8888888888888888, \"#fdca26\"], [1.0, \"#f0f921\"]]}, \"legend\": {\"tracegroupgap\": 0}, \"margin\": {\"t\": 60}, \"template\": {\"data\": {\"bar\": [{\"error_x\": {\"color\": \"#2a3f5f\"}, \"error_y\": {\"color\": \"#2a3f5f\"}, \"marker\": {\"line\": {\"color\": \"#E5ECF6\", \"width\": 0.5}}, \"type\": \"bar\"}], \"barpolar\": [{\"marker\": {\"line\": {\"color\": \"#E5ECF6\", \"width\": 0.5}}, \"type\": \"barpolar\"}], \"carpet\": [{\"aaxis\": {\"endlinecolor\": \"#2a3f5f\", \"gridcolor\": \"white\", \"linecolor\": \"white\", \"minorgridcolor\": \"white\", \"startlinecolor\": \"#2a3f5f\"}, \"baxis\": {\"endlinecolor\": \"#2a3f5f\", \"gridcolor\": \"white\", \"linecolor\": \"white\", \"minorgridcolor\": \"white\", \"startlinecolor\": \"#2a3f5f\"}, \"type\": \"carpet\"}], \"choropleth\": [{\"colorbar\": {\"outlinewidth\": 0, \"ticks\": \"\"}, \"type\": \"choropleth\"}], \"contour\": [{\"colorbar\": {\"outlinewidth\": 0, \"ticks\": \"\"}, \"colorscale\": [[0.0, \"#0d0887\"], [0.1111111111111111, \"#46039f\"], [0.2222222222222222, \"#7201a8\"], [0.3333333333333333, \"#9c179e\"], [0.4444444444444444, \"#bd3786\"], [0.5555555555555556, \"#d8576b\"], [0.6666666666666666, \"#ed7953\"], [0.7777777777777778, \"#fb9f3a\"], [0.8888888888888888, \"#fdca26\"], [1.0, \"#f0f921\"]], \"type\": \"contour\"}], \"contourcarpet\": [{\"colorbar\": {\"outlinewidth\": 0, \"ticks\": \"\"}, \"type\": \"contourcarpet\"}], \"heatmap\": [{\"colorbar\": {\"outlinewidth\": 0, \"ticks\": \"\"}, \"colorscale\": [[0.0, \"#0d0887\"], [0.1111111111111111, \"#46039f\"], [0.2222222222222222, \"#7201a8\"], [0.3333333333333333, \"#9c179e\"], [0.4444444444444444, \"#bd3786\"], [0.5555555555555556, \"#d8576b\"], [0.6666666666666666, \"#ed7953\"], [0.7777777777777778, \"#fb9f3a\"], [0.8888888888888888, \"#fdca26\"], [1.0, \"#f0f921\"]], \"type\": \"heatmap\"}], \"heatmapgl\": [{\"colorbar\": {\"outlinewidth\": 0, \"ticks\": \"\"}, \"colorscale\": [[0.0, \"#0d0887\"], [0.1111111111111111, \"#46039f\"], [0.2222222222222222, \"#7201a8\"], [0.3333333333333333, \"#9c179e\"], [0.4444444444444444, \"#bd3786\"], [0.5555555555555556, \"#d8576b\"], [0.6666666666666666, \"#ed7953\"], [0.7777777777777778, \"#fb9f3a\"], [0.8888888888888888, \"#fdca26\"], [1.0, \"#f0f921\"]], \"type\": \"heatmapgl\"}], \"histogram\": [{\"marker\": {\"colorbar\": {\"outlinewidth\": 0, \"ticks\": \"\"}}, \"type\": \"histogram\"}], \"histogram2d\": [{\"colorbar\": {\"outlinewidth\": 0, \"ticks\": \"\"}, \"colorscale\": [[0.0, \"#0d0887\"], [0.1111111111111111, \"#46039f\"], [0.2222222222222222, \"#7201a8\"], [0.3333333333333333, \"#9c179e\"], [0.4444444444444444, \"#bd3786\"], [0.5555555555555556, \"#d8576b\"], [0.6666666666666666, \"#ed7953\"], [0.7777777777777778, \"#fb9f3a\"], [0.8888888888888888, \"#fdca26\"], [1.0, \"#f0f921\"]], \"type\": \"histogram2d\"}], \"histogram2dcontour\": [{\"colorbar\": {\"outlinewidth\": 0, \"ticks\": \"\"}, \"colorscale\": [[0.0, \"#0d0887\"], [0.1111111111111111, \"#46039f\"], [0.2222222222222222, \"#7201a8\"], [0.3333333333333333, \"#9c179e\"], [0.4444444444444444, \"#bd3786\"], [0.5555555555555556, \"#d8576b\"], [0.6666666666666666, \"#ed7953\"], [0.7777777777777778, \"#fb9f3a\"], [0.8888888888888888, \"#fdca26\"], [1.0, \"#f0f921\"]], \"type\": \"histogram2dcontour\"}], \"mesh3d\": [{\"colorbar\": {\"outlinewidth\": 0, \"ticks\": \"\"}, \"type\": \"mesh3d\"}], \"parcoords\": [{\"line\": {\"colorbar\": {\"outlinewidth\": 0, \"ticks\": \"\"}}, \"type\": \"parcoords\"}], \"pie\": [{\"automargin\": true, \"type\": \"pie\"}], \"scatter\": [{\"marker\": {\"colorbar\": {\"outlinewidth\": 0, \"ticks\": \"\"}}, \"type\": \"scatter\"}], \"scatter3d\": [{\"line\": {\"colorbar\": {\"outlinewidth\": 0, \"ticks\": \"\"}}, \"marker\": {\"colorbar\": {\"outlinewidth\": 0, \"ticks\": \"\"}}, \"type\": \"scatter3d\"}], \"scattercarpet\": [{\"marker\": {\"colorbar\": {\"outlinewidth\": 0, \"ticks\": \"\"}}, \"type\": \"scattercarpet\"}], \"scattergeo\": [{\"marker\": {\"colorbar\": {\"outlinewidth\": 0, \"ticks\": \"\"}}, \"type\": \"scattergeo\"}], \"scattergl\": [{\"marker\": {\"colorbar\": {\"outlinewidth\": 0, \"ticks\": \"\"}}, \"type\": \"scattergl\"}], \"scattermapbox\": [{\"marker\": {\"colorbar\": {\"outlinewidth\": 0, \"ticks\": \"\"}}, \"type\": \"scattermapbox\"}], \"scatterpolar\": [{\"marker\": {\"colorbar\": {\"outlinewidth\": 0, \"ticks\": \"\"}}, \"type\": \"scatterpolar\"}], \"scatterpolargl\": [{\"marker\": {\"colorbar\": {\"outlinewidth\": 0, \"ticks\": \"\"}}, \"type\": \"scatterpolargl\"}], \"scatterternary\": [{\"marker\": {\"colorbar\": {\"outlinewidth\": 0, \"ticks\": \"\"}}, \"type\": \"scatterternary\"}], \"surface\": [{\"colorbar\": {\"outlinewidth\": 0, \"ticks\": \"\"}, \"colorscale\": [[0.0, \"#0d0887\"], [0.1111111111111111, \"#46039f\"], [0.2222222222222222, \"#7201a8\"], [0.3333333333333333, \"#9c179e\"], [0.4444444444444444, \"#bd3786\"], [0.5555555555555556, \"#d8576b\"], [0.6666666666666666, \"#ed7953\"], [0.7777777777777778, \"#fb9f3a\"], [0.8888888888888888, \"#fdca26\"], [1.0, \"#f0f921\"]], \"type\": \"surface\"}], \"table\": [{\"cells\": {\"fill\": {\"color\": \"#EBF0F8\"}, \"line\": {\"color\": \"white\"}}, \"header\": {\"fill\": {\"color\": \"#C8D4E3\"}, \"line\": {\"color\": \"white\"}}, \"type\": \"table\"}]}, \"layout\": {\"annotationdefaults\": {\"arrowcolor\": \"#2a3f5f\", \"arrowhead\": 0, \"arrowwidth\": 1}, \"coloraxis\": {\"colorbar\": {\"outlinewidth\": 0, \"ticks\": \"\"}}, \"colorscale\": {\"diverging\": [[0, \"#8e0152\"], [0.1, \"#c51b7d\"], [0.2, \"#de77ae\"], [0.3, \"#f1b6da\"], [0.4, \"#fde0ef\"], [0.5, \"#f7f7f7\"], [0.6, \"#e6f5d0\"], [0.7, \"#b8e186\"], [0.8, \"#7fbc41\"], [0.9, \"#4d9221\"], [1, \"#276419\"]], \"sequential\": [[0.0, \"#0d0887\"], [0.1111111111111111, \"#46039f\"], [0.2222222222222222, \"#7201a8\"], [0.3333333333333333, \"#9c179e\"], [0.4444444444444444, \"#bd3786\"], [0.5555555555555556, \"#d8576b\"], [0.6666666666666666, \"#ed7953\"], [0.7777777777777778, \"#fb9f3a\"], [0.8888888888888888, \"#fdca26\"], [1.0, \"#f0f921\"]], \"sequentialminus\": [[0.0, \"#0d0887\"], [0.1111111111111111, \"#46039f\"], [0.2222222222222222, \"#7201a8\"], [0.3333333333333333, \"#9c179e\"], [0.4444444444444444, \"#bd3786\"], [0.5555555555555556, \"#d8576b\"], [0.6666666666666666, \"#ed7953\"], [0.7777777777777778, \"#fb9f3a\"], [0.8888888888888888, \"#fdca26\"], [1.0, \"#f0f921\"]]}, \"colorway\": [\"#636efa\", \"#EF553B\", \"#00cc96\", \"#ab63fa\", \"#FFA15A\", \"#19d3f3\", \"#FF6692\", \"#B6E880\", \"#FF97FF\", \"#FECB52\"], \"font\": {\"color\": \"#2a3f5f\"}, \"geo\": {\"bgcolor\": \"white\", \"lakecolor\": \"white\", \"landcolor\": \"#E5ECF6\", \"showlakes\": true, \"showland\": true, \"subunitcolor\": \"white\"}, \"hoverlabel\": {\"align\": \"left\"}, \"hovermode\": \"closest\", \"mapbox\": {\"style\": \"light\"}, \"paper_bgcolor\": \"white\", \"plot_bgcolor\": \"#E5ECF6\", \"polar\": {\"angularaxis\": {\"gridcolor\": \"white\", \"linecolor\": \"white\", \"ticks\": \"\"}, \"bgcolor\": \"#E5ECF6\", \"radialaxis\": {\"gridcolor\": \"white\", \"linecolor\": \"white\", \"ticks\": \"\"}}, \"scene\": {\"xaxis\": {\"backgroundcolor\": \"#E5ECF6\", \"gridcolor\": \"white\", \"gridwidth\": 2, \"linecolor\": \"white\", \"showbackground\": true, \"ticks\": \"\", \"zerolinecolor\": \"white\"}, \"yaxis\": {\"backgroundcolor\": \"#E5ECF6\", \"gridcolor\": \"white\", \"gridwidth\": 2, \"linecolor\": \"white\", \"showbackground\": true, \"ticks\": \"\", \"zerolinecolor\": \"white\"}, \"zaxis\": {\"backgroundcolor\": \"#E5ECF6\", \"gridcolor\": \"white\", \"gridwidth\": 2, \"linecolor\": \"white\", \"showbackground\": true, \"ticks\": \"\", \"zerolinecolor\": \"white\"}}, \"shapedefaults\": {\"line\": {\"color\": \"#2a3f5f\"}}, \"ternary\": {\"aaxis\": {\"gridcolor\": \"white\", \"linecolor\": \"white\", \"ticks\": \"\"}, \"baxis\": {\"gridcolor\": \"white\", \"linecolor\": \"white\", \"ticks\": \"\"}, \"bgcolor\": \"#E5ECF6\", \"caxis\": {\"gridcolor\": \"white\", \"linecolor\": \"white\", \"ticks\": \"\"}}, \"title\": {\"x\": 0.05}, \"xaxis\": {\"automargin\": true, \"gridcolor\": \"white\", \"linecolor\": \"white\", \"ticks\": \"\", \"title\": {\"standoff\": 15}, \"zerolinecolor\": \"white\", \"zerolinewidth\": 2}, \"yaxis\": {\"automargin\": true, \"gridcolor\": \"white\", \"linecolor\": \"white\", \"ticks\": \"\", \"title\": {\"standoff\": 15}, \"zerolinecolor\": \"white\", \"zerolinewidth\": 2}}}, \"xaxis\": {\"anchor\": \"y\", \"domain\": [0.0, 1.0], \"title\": {\"text\": \"Team\"}}, \"yaxis\": {\"anchor\": \"x\", \"domain\": [0.0, 1.0], \"title\": {\"text\": \"Passes Per Game\"}}},\n",
       "                        {\"responsive\": true}\n",
       "                    ).then(function(){\n",
       "                            \n",
       "var gd = document.getElementById('27da912c-3025-4663-8ce3-c4b846731602');\n",
       "var x = new MutationObserver(function (mutations, observer) {{\n",
       "        var display = window.getComputedStyle(gd).display;\n",
       "        if (!display || display === 'none') {{\n",
       "            console.log([gd, 'removed!']);\n",
       "            Plotly.purge(gd);\n",
       "            observer.disconnect();\n",
       "        }}\n",
       "}});\n",
       "\n",
       "// Listen for the removal of the full notebook cells\n",
       "var notebookContainer = gd.closest('#notebook-container');\n",
       "if (notebookContainer) {{\n",
       "    x.observe(notebookContainer, {childList: true});\n",
       "}}\n",
       "\n",
       "// Listen for the clearing of the current output cell\n",
       "var outputEl = gd.closest('.output');\n",
       "if (outputEl) {{\n",
       "    x.observe(outputEl, {childList: true});\n",
       "}}\n",
       "\n",
       "                        })\n",
       "                };\n",
       "                });\n",
       "            </script>\n",
       "        </div>"
      ]
     },
     "metadata": {},
     "output_type": "display_data"
    }
   ],
   "source": [
    "fig = px.bar(df_passes, x=\"teamName\", y=\"passesPerGame\", \n",
    "             color=\"passAccuracy\", \n",
    "             labels={'passesPerGame':\"Passes Per Game\", \"teamName\": \"Team\", \"passAccuracy\": \"Pass Accuracy\"})\n",
    "fig.show()"
   ]
  },
  {
   "cell_type": "code",
   "execution_count": 338,
   "metadata": {},
   "outputs": [],
   "source": [
    "df_pass_data[\"passLength\"] = np.sqrt(np.square((df_pass_data[\"posBeforeY\"] - df_pass_data[\"posAfterY\"])*68/100) + np.square((df_pass_data[\"posBeforeX\"] - df_pass_data[\"posAfterX\"])*105/100))"
   ]
  },
  {
   "cell_type": "code",
   "execution_count": 356,
   "metadata": {},
   "outputs": [],
   "source": [
    "df_pass_data[\"passLengthBin\"] = df_pass_data[\"passLength\"].map(lambda x: int(x/5)*5)\n",
    "df_pass_data[\"passLengthBin\"] = df_pass_data[\"passLengthBin\"].clip(upper=60)"
   ]
  },
  {
   "cell_type": "code",
   "execution_count": 364,
   "metadata": {},
   "outputs": [
    {
     "name": "stdout",
     "output_type": "stream",
     "text": [
      "Average length of pass: 20.630867891994786\n"
     ]
    }
   ],
   "source": [
    "print(f\"Average length of pass: {df_pass_data['passLength'].mean()}\")"
   ]
  },
  {
   "cell_type": "code",
   "execution_count": 360,
   "metadata": {},
   "outputs": [],
   "source": [
    "df_pass_length = df_pass_data.groupby(\"passLengthBin\").agg(totalPasses=(\"passLengthBin\", \"count\"),\n",
    "                                                        accuratePasses=(\"Accurate\", \"sum\")).reset_index()\n",
    "df_pass_length[\"sharePasses\"] = df_pass_length[\"totalPasses\"] / len(df_pass_data) * 100\n",
    "df_pass_length[\"shareAccurate\"] = df_pass_length[\"accuratePasses\"] / df_pass_length[\"totalPasses\"] * 100"
   ]
  },
  {
   "cell_type": "code",
   "execution_count": 362,
   "metadata": {},
   "outputs": [
    {
     "data": {
      "application/vnd.plotly.v1+json": {
       "config": {
        "plotlyServerURL": "https://plot.ly"
       },
       "data": [
        {
         "alignmentgroup": "True",
         "hovertemplate": "Pass length (in m)=%{x}<br>Share passes (in %)=%{y}<br>Pass Accuracy (in %)=%{marker.color}<extra></extra>",
         "legendgroup": "",
         "marker": {
          "color": [
           0.6876482548288716,
           0.8346138086457693,
           0.8780178127975802,
           0.8799847357374547,
           0.8629626585572998,
           0.8432161982566548,
           0.7992849217112563,
           0.7381402287419194,
           0.6745959133882281,
           0.6166320166320166,
           0.6208035222894882,
           0.5614366729678639,
           0.29669762641898867
          ],
          "coloraxis": "coloraxis"
         },
         "name": "",
         "offsetgroup": "",
         "orientation": "v",
         "showlegend": false,
         "textposition": "auto",
         "type": "bar",
         "x": [
          0,
          5,
          10,
          15,
          20,
          25,
          30,
          35,
          40,
          45,
          50,
          55,
          60
         ],
         "xaxis": "x",
         "y": [
          0.04514613978321898,
          0.14934483787318997,
          0.20483664930276674,
          0.18040480069761572,
          0.13960346054111114,
          0.0978459584949247,
          0.06204343269767691,
          0.038456831203004645,
          0.025082038690134704,
          0.0183965547574791,
          0.0138987692284156,
          0.01011619279283414,
          0.014824333937627648
         ],
         "yaxis": "y"
        }
       ],
       "layout": {
        "barmode": "relative",
        "coloraxis": {
         "colorbar": {
          "title": {
           "text": "Pass Accuracy (in %)"
          }
         },
         "colorscale": [
          [
           0,
           "#0d0887"
          ],
          [
           0.1111111111111111,
           "#46039f"
          ],
          [
           0.2222222222222222,
           "#7201a8"
          ],
          [
           0.3333333333333333,
           "#9c179e"
          ],
          [
           0.4444444444444444,
           "#bd3786"
          ],
          [
           0.5555555555555556,
           "#d8576b"
          ],
          [
           0.6666666666666666,
           "#ed7953"
          ],
          [
           0.7777777777777778,
           "#fb9f3a"
          ],
          [
           0.8888888888888888,
           "#fdca26"
          ],
          [
           1,
           "#f0f921"
          ]
         ]
        },
        "legend": {
         "tracegroupgap": 0
        },
        "margin": {
         "t": 60
        },
        "template": {
         "data": {
          "bar": [
           {
            "error_x": {
             "color": "#2a3f5f"
            },
            "error_y": {
             "color": "#2a3f5f"
            },
            "marker": {
             "line": {
              "color": "#E5ECF6",
              "width": 0.5
             }
            },
            "type": "bar"
           }
          ],
          "barpolar": [
           {
            "marker": {
             "line": {
              "color": "#E5ECF6",
              "width": 0.5
             }
            },
            "type": "barpolar"
           }
          ],
          "carpet": [
           {
            "aaxis": {
             "endlinecolor": "#2a3f5f",
             "gridcolor": "white",
             "linecolor": "white",
             "minorgridcolor": "white",
             "startlinecolor": "#2a3f5f"
            },
            "baxis": {
             "endlinecolor": "#2a3f5f",
             "gridcolor": "white",
             "linecolor": "white",
             "minorgridcolor": "white",
             "startlinecolor": "#2a3f5f"
            },
            "type": "carpet"
           }
          ],
          "choropleth": [
           {
            "colorbar": {
             "outlinewidth": 0,
             "ticks": ""
            },
            "type": "choropleth"
           }
          ],
          "contour": [
           {
            "colorbar": {
             "outlinewidth": 0,
             "ticks": ""
            },
            "colorscale": [
             [
              0,
              "#0d0887"
             ],
             [
              0.1111111111111111,
              "#46039f"
             ],
             [
              0.2222222222222222,
              "#7201a8"
             ],
             [
              0.3333333333333333,
              "#9c179e"
             ],
             [
              0.4444444444444444,
              "#bd3786"
             ],
             [
              0.5555555555555556,
              "#d8576b"
             ],
             [
              0.6666666666666666,
              "#ed7953"
             ],
             [
              0.7777777777777778,
              "#fb9f3a"
             ],
             [
              0.8888888888888888,
              "#fdca26"
             ],
             [
              1,
              "#f0f921"
             ]
            ],
            "type": "contour"
           }
          ],
          "contourcarpet": [
           {
            "colorbar": {
             "outlinewidth": 0,
             "ticks": ""
            },
            "type": "contourcarpet"
           }
          ],
          "heatmap": [
           {
            "colorbar": {
             "outlinewidth": 0,
             "ticks": ""
            },
            "colorscale": [
             [
              0,
              "#0d0887"
             ],
             [
              0.1111111111111111,
              "#46039f"
             ],
             [
              0.2222222222222222,
              "#7201a8"
             ],
             [
              0.3333333333333333,
              "#9c179e"
             ],
             [
              0.4444444444444444,
              "#bd3786"
             ],
             [
              0.5555555555555556,
              "#d8576b"
             ],
             [
              0.6666666666666666,
              "#ed7953"
             ],
             [
              0.7777777777777778,
              "#fb9f3a"
             ],
             [
              0.8888888888888888,
              "#fdca26"
             ],
             [
              1,
              "#f0f921"
             ]
            ],
            "type": "heatmap"
           }
          ],
          "heatmapgl": [
           {
            "colorbar": {
             "outlinewidth": 0,
             "ticks": ""
            },
            "colorscale": [
             [
              0,
              "#0d0887"
             ],
             [
              0.1111111111111111,
              "#46039f"
             ],
             [
              0.2222222222222222,
              "#7201a8"
             ],
             [
              0.3333333333333333,
              "#9c179e"
             ],
             [
              0.4444444444444444,
              "#bd3786"
             ],
             [
              0.5555555555555556,
              "#d8576b"
             ],
             [
              0.6666666666666666,
              "#ed7953"
             ],
             [
              0.7777777777777778,
              "#fb9f3a"
             ],
             [
              0.8888888888888888,
              "#fdca26"
             ],
             [
              1,
              "#f0f921"
             ]
            ],
            "type": "heatmapgl"
           }
          ],
          "histogram": [
           {
            "marker": {
             "colorbar": {
              "outlinewidth": 0,
              "ticks": ""
             }
            },
            "type": "histogram"
           }
          ],
          "histogram2d": [
           {
            "colorbar": {
             "outlinewidth": 0,
             "ticks": ""
            },
            "colorscale": [
             [
              0,
              "#0d0887"
             ],
             [
              0.1111111111111111,
              "#46039f"
             ],
             [
              0.2222222222222222,
              "#7201a8"
             ],
             [
              0.3333333333333333,
              "#9c179e"
             ],
             [
              0.4444444444444444,
              "#bd3786"
             ],
             [
              0.5555555555555556,
              "#d8576b"
             ],
             [
              0.6666666666666666,
              "#ed7953"
             ],
             [
              0.7777777777777778,
              "#fb9f3a"
             ],
             [
              0.8888888888888888,
              "#fdca26"
             ],
             [
              1,
              "#f0f921"
             ]
            ],
            "type": "histogram2d"
           }
          ],
          "histogram2dcontour": [
           {
            "colorbar": {
             "outlinewidth": 0,
             "ticks": ""
            },
            "colorscale": [
             [
              0,
              "#0d0887"
             ],
             [
              0.1111111111111111,
              "#46039f"
             ],
             [
              0.2222222222222222,
              "#7201a8"
             ],
             [
              0.3333333333333333,
              "#9c179e"
             ],
             [
              0.4444444444444444,
              "#bd3786"
             ],
             [
              0.5555555555555556,
              "#d8576b"
             ],
             [
              0.6666666666666666,
              "#ed7953"
             ],
             [
              0.7777777777777778,
              "#fb9f3a"
             ],
             [
              0.8888888888888888,
              "#fdca26"
             ],
             [
              1,
              "#f0f921"
             ]
            ],
            "type": "histogram2dcontour"
           }
          ],
          "mesh3d": [
           {
            "colorbar": {
             "outlinewidth": 0,
             "ticks": ""
            },
            "type": "mesh3d"
           }
          ],
          "parcoords": [
           {
            "line": {
             "colorbar": {
              "outlinewidth": 0,
              "ticks": ""
             }
            },
            "type": "parcoords"
           }
          ],
          "pie": [
           {
            "automargin": true,
            "type": "pie"
           }
          ],
          "scatter": [
           {
            "marker": {
             "colorbar": {
              "outlinewidth": 0,
              "ticks": ""
             }
            },
            "type": "scatter"
           }
          ],
          "scatter3d": [
           {
            "line": {
             "colorbar": {
              "outlinewidth": 0,
              "ticks": ""
             }
            },
            "marker": {
             "colorbar": {
              "outlinewidth": 0,
              "ticks": ""
             }
            },
            "type": "scatter3d"
           }
          ],
          "scattercarpet": [
           {
            "marker": {
             "colorbar": {
              "outlinewidth": 0,
              "ticks": ""
             }
            },
            "type": "scattercarpet"
           }
          ],
          "scattergeo": [
           {
            "marker": {
             "colorbar": {
              "outlinewidth": 0,
              "ticks": ""
             }
            },
            "type": "scattergeo"
           }
          ],
          "scattergl": [
           {
            "marker": {
             "colorbar": {
              "outlinewidth": 0,
              "ticks": ""
             }
            },
            "type": "scattergl"
           }
          ],
          "scattermapbox": [
           {
            "marker": {
             "colorbar": {
              "outlinewidth": 0,
              "ticks": ""
             }
            },
            "type": "scattermapbox"
           }
          ],
          "scatterpolar": [
           {
            "marker": {
             "colorbar": {
              "outlinewidth": 0,
              "ticks": ""
             }
            },
            "type": "scatterpolar"
           }
          ],
          "scatterpolargl": [
           {
            "marker": {
             "colorbar": {
              "outlinewidth": 0,
              "ticks": ""
             }
            },
            "type": "scatterpolargl"
           }
          ],
          "scatterternary": [
           {
            "marker": {
             "colorbar": {
              "outlinewidth": 0,
              "ticks": ""
             }
            },
            "type": "scatterternary"
           }
          ],
          "surface": [
           {
            "colorbar": {
             "outlinewidth": 0,
             "ticks": ""
            },
            "colorscale": [
             [
              0,
              "#0d0887"
             ],
             [
              0.1111111111111111,
              "#46039f"
             ],
             [
              0.2222222222222222,
              "#7201a8"
             ],
             [
              0.3333333333333333,
              "#9c179e"
             ],
             [
              0.4444444444444444,
              "#bd3786"
             ],
             [
              0.5555555555555556,
              "#d8576b"
             ],
             [
              0.6666666666666666,
              "#ed7953"
             ],
             [
              0.7777777777777778,
              "#fb9f3a"
             ],
             [
              0.8888888888888888,
              "#fdca26"
             ],
             [
              1,
              "#f0f921"
             ]
            ],
            "type": "surface"
           }
          ],
          "table": [
           {
            "cells": {
             "fill": {
              "color": "#EBF0F8"
             },
             "line": {
              "color": "white"
             }
            },
            "header": {
             "fill": {
              "color": "#C8D4E3"
             },
             "line": {
              "color": "white"
             }
            },
            "type": "table"
           }
          ]
         },
         "layout": {
          "annotationdefaults": {
           "arrowcolor": "#2a3f5f",
           "arrowhead": 0,
           "arrowwidth": 1
          },
          "coloraxis": {
           "colorbar": {
            "outlinewidth": 0,
            "ticks": ""
           }
          },
          "colorscale": {
           "diverging": [
            [
             0,
             "#8e0152"
            ],
            [
             0.1,
             "#c51b7d"
            ],
            [
             0.2,
             "#de77ae"
            ],
            [
             0.3,
             "#f1b6da"
            ],
            [
             0.4,
             "#fde0ef"
            ],
            [
             0.5,
             "#f7f7f7"
            ],
            [
             0.6,
             "#e6f5d0"
            ],
            [
             0.7,
             "#b8e186"
            ],
            [
             0.8,
             "#7fbc41"
            ],
            [
             0.9,
             "#4d9221"
            ],
            [
             1,
             "#276419"
            ]
           ],
           "sequential": [
            [
             0,
             "#0d0887"
            ],
            [
             0.1111111111111111,
             "#46039f"
            ],
            [
             0.2222222222222222,
             "#7201a8"
            ],
            [
             0.3333333333333333,
             "#9c179e"
            ],
            [
             0.4444444444444444,
             "#bd3786"
            ],
            [
             0.5555555555555556,
             "#d8576b"
            ],
            [
             0.6666666666666666,
             "#ed7953"
            ],
            [
             0.7777777777777778,
             "#fb9f3a"
            ],
            [
             0.8888888888888888,
             "#fdca26"
            ],
            [
             1,
             "#f0f921"
            ]
           ],
           "sequentialminus": [
            [
             0,
             "#0d0887"
            ],
            [
             0.1111111111111111,
             "#46039f"
            ],
            [
             0.2222222222222222,
             "#7201a8"
            ],
            [
             0.3333333333333333,
             "#9c179e"
            ],
            [
             0.4444444444444444,
             "#bd3786"
            ],
            [
             0.5555555555555556,
             "#d8576b"
            ],
            [
             0.6666666666666666,
             "#ed7953"
            ],
            [
             0.7777777777777778,
             "#fb9f3a"
            ],
            [
             0.8888888888888888,
             "#fdca26"
            ],
            [
             1,
             "#f0f921"
            ]
           ]
          },
          "colorway": [
           "#636efa",
           "#EF553B",
           "#00cc96",
           "#ab63fa",
           "#FFA15A",
           "#19d3f3",
           "#FF6692",
           "#B6E880",
           "#FF97FF",
           "#FECB52"
          ],
          "font": {
           "color": "#2a3f5f"
          },
          "geo": {
           "bgcolor": "white",
           "lakecolor": "white",
           "landcolor": "#E5ECF6",
           "showlakes": true,
           "showland": true,
           "subunitcolor": "white"
          },
          "hoverlabel": {
           "align": "left"
          },
          "hovermode": "closest",
          "mapbox": {
           "style": "light"
          },
          "paper_bgcolor": "white",
          "plot_bgcolor": "#E5ECF6",
          "polar": {
           "angularaxis": {
            "gridcolor": "white",
            "linecolor": "white",
            "ticks": ""
           },
           "bgcolor": "#E5ECF6",
           "radialaxis": {
            "gridcolor": "white",
            "linecolor": "white",
            "ticks": ""
           }
          },
          "scene": {
           "xaxis": {
            "backgroundcolor": "#E5ECF6",
            "gridcolor": "white",
            "gridwidth": 2,
            "linecolor": "white",
            "showbackground": true,
            "ticks": "",
            "zerolinecolor": "white"
           },
           "yaxis": {
            "backgroundcolor": "#E5ECF6",
            "gridcolor": "white",
            "gridwidth": 2,
            "linecolor": "white",
            "showbackground": true,
            "ticks": "",
            "zerolinecolor": "white"
           },
           "zaxis": {
            "backgroundcolor": "#E5ECF6",
            "gridcolor": "white",
            "gridwidth": 2,
            "linecolor": "white",
            "showbackground": true,
            "ticks": "",
            "zerolinecolor": "white"
           }
          },
          "shapedefaults": {
           "line": {
            "color": "#2a3f5f"
           }
          },
          "ternary": {
           "aaxis": {
            "gridcolor": "white",
            "linecolor": "white",
            "ticks": ""
           },
           "baxis": {
            "gridcolor": "white",
            "linecolor": "white",
            "ticks": ""
           },
           "bgcolor": "#E5ECF6",
           "caxis": {
            "gridcolor": "white",
            "linecolor": "white",
            "ticks": ""
           }
          },
          "title": {
           "x": 0.05
          },
          "xaxis": {
           "automargin": true,
           "gridcolor": "white",
           "linecolor": "white",
           "ticks": "",
           "title": {
            "standoff": 15
           },
           "zerolinecolor": "white",
           "zerolinewidth": 2
          },
          "yaxis": {
           "automargin": true,
           "gridcolor": "white",
           "linecolor": "white",
           "ticks": "",
           "title": {
            "standoff": 15
           },
           "zerolinecolor": "white",
           "zerolinewidth": 2
          }
         }
        },
        "xaxis": {
         "anchor": "y",
         "domain": [
          0,
          1
         ],
         "title": {
          "text": "Pass length (in m)"
         }
        },
        "yaxis": {
         "anchor": "x",
         "domain": [
          0,
          1
         ],
         "title": {
          "text": "Share passes (in %)"
         }
        }
       }
      },
      "text/html": [
       "<div>\n",
       "        \n",
       "        \n",
       "            <div id=\"e55853c5-775f-4402-b4d6-a92379b4fca9\" class=\"plotly-graph-div\" style=\"height:525px; width:100%;\"></div>\n",
       "            <script type=\"text/javascript\">\n",
       "                require([\"plotly\"], function(Plotly) {\n",
       "                    window.PLOTLYENV=window.PLOTLYENV || {};\n",
       "                    \n",
       "                if (document.getElementById(\"e55853c5-775f-4402-b4d6-a92379b4fca9\")) {\n",
       "                    Plotly.newPlot(\n",
       "                        'e55853c5-775f-4402-b4d6-a92379b4fca9',\n",
       "                        [{\"alignmentgroup\": \"True\", \"hovertemplate\": \"Pass length (in m)=%{x}<br>Share passes (in %)=%{y}<br>Pass Accuracy (in %)=%{marker.color}<extra></extra>\", \"legendgroup\": \"\", \"marker\": {\"color\": [0.6876482548288716, 0.8346138086457693, 0.8780178127975802, 0.8799847357374547, 0.8629626585572998, 0.8432161982566548, 0.7992849217112563, 0.7381402287419194, 0.6745959133882281, 0.6166320166320166, 0.6208035222894882, 0.5614366729678639, 0.29669762641898867], \"coloraxis\": \"coloraxis\"}, \"name\": \"\", \"offsetgroup\": \"\", \"orientation\": \"v\", \"showlegend\": false, \"textposition\": \"auto\", \"type\": \"bar\", \"x\": [0, 5, 10, 15, 20, 25, 30, 35, 40, 45, 50, 55, 60], \"xaxis\": \"x\", \"y\": [0.04514613978321898, 0.14934483787318997, 0.20483664930276674, 0.18040480069761572, 0.13960346054111114, 0.0978459584949247, 0.06204343269767691, 0.038456831203004645, 0.025082038690134704, 0.0183965547574791, 0.0138987692284156, 0.01011619279283414, 0.014824333937627648], \"yaxis\": \"y\"}],\n",
       "                        {\"barmode\": \"relative\", \"coloraxis\": {\"colorbar\": {\"title\": {\"text\": \"Pass Accuracy (in %)\"}}, \"colorscale\": [[0.0, \"#0d0887\"], [0.1111111111111111, \"#46039f\"], [0.2222222222222222, \"#7201a8\"], [0.3333333333333333, \"#9c179e\"], [0.4444444444444444, \"#bd3786\"], [0.5555555555555556, \"#d8576b\"], [0.6666666666666666, \"#ed7953\"], [0.7777777777777778, \"#fb9f3a\"], [0.8888888888888888, \"#fdca26\"], [1.0, \"#f0f921\"]]}, \"legend\": {\"tracegroupgap\": 0}, \"margin\": {\"t\": 60}, \"template\": {\"data\": {\"bar\": [{\"error_x\": {\"color\": \"#2a3f5f\"}, \"error_y\": {\"color\": \"#2a3f5f\"}, \"marker\": {\"line\": {\"color\": \"#E5ECF6\", \"width\": 0.5}}, \"type\": \"bar\"}], \"barpolar\": [{\"marker\": {\"line\": {\"color\": \"#E5ECF6\", \"width\": 0.5}}, \"type\": \"barpolar\"}], \"carpet\": [{\"aaxis\": {\"endlinecolor\": \"#2a3f5f\", \"gridcolor\": \"white\", \"linecolor\": \"white\", \"minorgridcolor\": \"white\", \"startlinecolor\": \"#2a3f5f\"}, \"baxis\": {\"endlinecolor\": \"#2a3f5f\", \"gridcolor\": \"white\", \"linecolor\": \"white\", \"minorgridcolor\": \"white\", \"startlinecolor\": \"#2a3f5f\"}, \"type\": \"carpet\"}], \"choropleth\": [{\"colorbar\": {\"outlinewidth\": 0, \"ticks\": \"\"}, \"type\": \"choropleth\"}], \"contour\": [{\"colorbar\": {\"outlinewidth\": 0, \"ticks\": \"\"}, \"colorscale\": [[0.0, \"#0d0887\"], [0.1111111111111111, \"#46039f\"], [0.2222222222222222, \"#7201a8\"], [0.3333333333333333, \"#9c179e\"], [0.4444444444444444, \"#bd3786\"], [0.5555555555555556, \"#d8576b\"], [0.6666666666666666, \"#ed7953\"], [0.7777777777777778, \"#fb9f3a\"], [0.8888888888888888, \"#fdca26\"], [1.0, \"#f0f921\"]], \"type\": \"contour\"}], \"contourcarpet\": [{\"colorbar\": {\"outlinewidth\": 0, \"ticks\": \"\"}, \"type\": \"contourcarpet\"}], \"heatmap\": [{\"colorbar\": {\"outlinewidth\": 0, \"ticks\": \"\"}, \"colorscale\": [[0.0, \"#0d0887\"], [0.1111111111111111, \"#46039f\"], [0.2222222222222222, \"#7201a8\"], [0.3333333333333333, \"#9c179e\"], [0.4444444444444444, \"#bd3786\"], [0.5555555555555556, \"#d8576b\"], [0.6666666666666666, \"#ed7953\"], [0.7777777777777778, \"#fb9f3a\"], [0.8888888888888888, \"#fdca26\"], [1.0, \"#f0f921\"]], \"type\": \"heatmap\"}], \"heatmapgl\": [{\"colorbar\": {\"outlinewidth\": 0, \"ticks\": \"\"}, \"colorscale\": [[0.0, \"#0d0887\"], [0.1111111111111111, \"#46039f\"], [0.2222222222222222, \"#7201a8\"], [0.3333333333333333, \"#9c179e\"], [0.4444444444444444, \"#bd3786\"], [0.5555555555555556, \"#d8576b\"], [0.6666666666666666, \"#ed7953\"], [0.7777777777777778, \"#fb9f3a\"], [0.8888888888888888, \"#fdca26\"], [1.0, \"#f0f921\"]], \"type\": \"heatmapgl\"}], \"histogram\": [{\"marker\": {\"colorbar\": {\"outlinewidth\": 0, \"ticks\": \"\"}}, \"type\": \"histogram\"}], \"histogram2d\": [{\"colorbar\": {\"outlinewidth\": 0, \"ticks\": \"\"}, \"colorscale\": [[0.0, \"#0d0887\"], [0.1111111111111111, \"#46039f\"], [0.2222222222222222, \"#7201a8\"], [0.3333333333333333, \"#9c179e\"], [0.4444444444444444, \"#bd3786\"], [0.5555555555555556, \"#d8576b\"], [0.6666666666666666, \"#ed7953\"], [0.7777777777777778, \"#fb9f3a\"], [0.8888888888888888, \"#fdca26\"], [1.0, \"#f0f921\"]], \"type\": \"histogram2d\"}], \"histogram2dcontour\": [{\"colorbar\": {\"outlinewidth\": 0, \"ticks\": \"\"}, \"colorscale\": [[0.0, \"#0d0887\"], [0.1111111111111111, \"#46039f\"], [0.2222222222222222, \"#7201a8\"], [0.3333333333333333, \"#9c179e\"], [0.4444444444444444, \"#bd3786\"], [0.5555555555555556, \"#d8576b\"], [0.6666666666666666, \"#ed7953\"], [0.7777777777777778, \"#fb9f3a\"], [0.8888888888888888, \"#fdca26\"], [1.0, \"#f0f921\"]], \"type\": \"histogram2dcontour\"}], \"mesh3d\": [{\"colorbar\": {\"outlinewidth\": 0, \"ticks\": \"\"}, \"type\": \"mesh3d\"}], \"parcoords\": [{\"line\": {\"colorbar\": {\"outlinewidth\": 0, \"ticks\": \"\"}}, \"type\": \"parcoords\"}], \"pie\": [{\"automargin\": true, \"type\": \"pie\"}], \"scatter\": [{\"marker\": {\"colorbar\": {\"outlinewidth\": 0, \"ticks\": \"\"}}, \"type\": \"scatter\"}], \"scatter3d\": [{\"line\": {\"colorbar\": {\"outlinewidth\": 0, \"ticks\": \"\"}}, \"marker\": {\"colorbar\": {\"outlinewidth\": 0, \"ticks\": \"\"}}, \"type\": \"scatter3d\"}], \"scattercarpet\": [{\"marker\": {\"colorbar\": {\"outlinewidth\": 0, \"ticks\": \"\"}}, \"type\": \"scattercarpet\"}], \"scattergeo\": [{\"marker\": {\"colorbar\": {\"outlinewidth\": 0, \"ticks\": \"\"}}, \"type\": \"scattergeo\"}], \"scattergl\": [{\"marker\": {\"colorbar\": {\"outlinewidth\": 0, \"ticks\": \"\"}}, \"type\": \"scattergl\"}], \"scattermapbox\": [{\"marker\": {\"colorbar\": {\"outlinewidth\": 0, \"ticks\": \"\"}}, \"type\": \"scattermapbox\"}], \"scatterpolar\": [{\"marker\": {\"colorbar\": {\"outlinewidth\": 0, \"ticks\": \"\"}}, \"type\": \"scatterpolar\"}], \"scatterpolargl\": [{\"marker\": {\"colorbar\": {\"outlinewidth\": 0, \"ticks\": \"\"}}, \"type\": \"scatterpolargl\"}], \"scatterternary\": [{\"marker\": {\"colorbar\": {\"outlinewidth\": 0, \"ticks\": \"\"}}, \"type\": \"scatterternary\"}], \"surface\": [{\"colorbar\": {\"outlinewidth\": 0, \"ticks\": \"\"}, \"colorscale\": [[0.0, \"#0d0887\"], [0.1111111111111111, \"#46039f\"], [0.2222222222222222, \"#7201a8\"], [0.3333333333333333, \"#9c179e\"], [0.4444444444444444, \"#bd3786\"], [0.5555555555555556, \"#d8576b\"], [0.6666666666666666, \"#ed7953\"], [0.7777777777777778, \"#fb9f3a\"], [0.8888888888888888, \"#fdca26\"], [1.0, \"#f0f921\"]], \"type\": \"surface\"}], \"table\": [{\"cells\": {\"fill\": {\"color\": \"#EBF0F8\"}, \"line\": {\"color\": \"white\"}}, \"header\": {\"fill\": {\"color\": \"#C8D4E3\"}, \"line\": {\"color\": \"white\"}}, \"type\": \"table\"}]}, \"layout\": {\"annotationdefaults\": {\"arrowcolor\": \"#2a3f5f\", \"arrowhead\": 0, \"arrowwidth\": 1}, \"coloraxis\": {\"colorbar\": {\"outlinewidth\": 0, \"ticks\": \"\"}}, \"colorscale\": {\"diverging\": [[0, \"#8e0152\"], [0.1, \"#c51b7d\"], [0.2, \"#de77ae\"], [0.3, \"#f1b6da\"], [0.4, \"#fde0ef\"], [0.5, \"#f7f7f7\"], [0.6, \"#e6f5d0\"], [0.7, \"#b8e186\"], [0.8, \"#7fbc41\"], [0.9, \"#4d9221\"], [1, \"#276419\"]], \"sequential\": [[0.0, \"#0d0887\"], [0.1111111111111111, \"#46039f\"], [0.2222222222222222, \"#7201a8\"], [0.3333333333333333, \"#9c179e\"], [0.4444444444444444, \"#bd3786\"], [0.5555555555555556, \"#d8576b\"], [0.6666666666666666, \"#ed7953\"], [0.7777777777777778, \"#fb9f3a\"], [0.8888888888888888, \"#fdca26\"], [1.0, \"#f0f921\"]], \"sequentialminus\": [[0.0, \"#0d0887\"], [0.1111111111111111, \"#46039f\"], [0.2222222222222222, \"#7201a8\"], [0.3333333333333333, \"#9c179e\"], [0.4444444444444444, \"#bd3786\"], [0.5555555555555556, \"#d8576b\"], [0.6666666666666666, \"#ed7953\"], [0.7777777777777778, \"#fb9f3a\"], [0.8888888888888888, \"#fdca26\"], [1.0, \"#f0f921\"]]}, \"colorway\": [\"#636efa\", \"#EF553B\", \"#00cc96\", \"#ab63fa\", \"#FFA15A\", \"#19d3f3\", \"#FF6692\", \"#B6E880\", \"#FF97FF\", \"#FECB52\"], \"font\": {\"color\": \"#2a3f5f\"}, \"geo\": {\"bgcolor\": \"white\", \"lakecolor\": \"white\", \"landcolor\": \"#E5ECF6\", \"showlakes\": true, \"showland\": true, \"subunitcolor\": \"white\"}, \"hoverlabel\": {\"align\": \"left\"}, \"hovermode\": \"closest\", \"mapbox\": {\"style\": \"light\"}, \"paper_bgcolor\": \"white\", \"plot_bgcolor\": \"#E5ECF6\", \"polar\": {\"angularaxis\": {\"gridcolor\": \"white\", \"linecolor\": \"white\", \"ticks\": \"\"}, \"bgcolor\": \"#E5ECF6\", \"radialaxis\": {\"gridcolor\": \"white\", \"linecolor\": \"white\", \"ticks\": \"\"}}, \"scene\": {\"xaxis\": {\"backgroundcolor\": \"#E5ECF6\", \"gridcolor\": \"white\", \"gridwidth\": 2, \"linecolor\": \"white\", \"showbackground\": true, \"ticks\": \"\", \"zerolinecolor\": \"white\"}, \"yaxis\": {\"backgroundcolor\": \"#E5ECF6\", \"gridcolor\": \"white\", \"gridwidth\": 2, \"linecolor\": \"white\", \"showbackground\": true, \"ticks\": \"\", \"zerolinecolor\": \"white\"}, \"zaxis\": {\"backgroundcolor\": \"#E5ECF6\", \"gridcolor\": \"white\", \"gridwidth\": 2, \"linecolor\": \"white\", \"showbackground\": true, \"ticks\": \"\", \"zerolinecolor\": \"white\"}}, \"shapedefaults\": {\"line\": {\"color\": \"#2a3f5f\"}}, \"ternary\": {\"aaxis\": {\"gridcolor\": \"white\", \"linecolor\": \"white\", \"ticks\": \"\"}, \"baxis\": {\"gridcolor\": \"white\", \"linecolor\": \"white\", \"ticks\": \"\"}, \"bgcolor\": \"#E5ECF6\", \"caxis\": {\"gridcolor\": \"white\", \"linecolor\": \"white\", \"ticks\": \"\"}}, \"title\": {\"x\": 0.05}, \"xaxis\": {\"automargin\": true, \"gridcolor\": \"white\", \"linecolor\": \"white\", \"ticks\": \"\", \"title\": {\"standoff\": 15}, \"zerolinecolor\": \"white\", \"zerolinewidth\": 2}, \"yaxis\": {\"automargin\": true, \"gridcolor\": \"white\", \"linecolor\": \"white\", \"ticks\": \"\", \"title\": {\"standoff\": 15}, \"zerolinecolor\": \"white\", \"zerolinewidth\": 2}}}, \"xaxis\": {\"anchor\": \"y\", \"domain\": [0.0, 1.0], \"title\": {\"text\": \"Pass length (in m)\"}}, \"yaxis\": {\"anchor\": \"x\", \"domain\": [0.0, 1.0], \"title\": {\"text\": \"Share passes (in %)\"}}},\n",
       "                        {\"responsive\": true}\n",
       "                    ).then(function(){\n",
       "                            \n",
       "var gd = document.getElementById('e55853c5-775f-4402-b4d6-a92379b4fca9');\n",
       "var x = new MutationObserver(function (mutations, observer) {{\n",
       "        var display = window.getComputedStyle(gd).display;\n",
       "        if (!display || display === 'none') {{\n",
       "            console.log([gd, 'removed!']);\n",
       "            Plotly.purge(gd);\n",
       "            observer.disconnect();\n",
       "        }}\n",
       "}});\n",
       "\n",
       "// Listen for the removal of the full notebook cells\n",
       "var notebookContainer = gd.closest('#notebook-container');\n",
       "if (notebookContainer) {{\n",
       "    x.observe(notebookContainer, {childList: true});\n",
       "}}\n",
       "\n",
       "// Listen for the clearing of the current output cell\n",
       "var outputEl = gd.closest('.output');\n",
       "if (outputEl) {{\n",
       "    x.observe(outputEl, {childList: true});\n",
       "}}\n",
       "\n",
       "                        })\n",
       "                };\n",
       "                });\n",
       "            </script>\n",
       "        </div>"
      ]
     },
     "metadata": {},
     "output_type": "display_data"
    }
   ],
   "source": [
    "fig = px.bar(df_pass_length, x=\"passLengthBin\", y=\"sharePasses\", \n",
    "             color=\"shareAccurate\", \n",
    "             labels={\"passLengthBin\": \"Pass length (in m)\", \n",
    "                     \"sharePasses\": \"Share passes (in %)\", \n",
    "                     \"shareAccurate\": \"Pass Accuracy (in %)\"})\n",
    "fig.show()"
   ]
  },
  {
   "cell_type": "code",
   "execution_count": 365,
   "metadata": {},
   "outputs": [],
   "source": [
    "df_length_team = df_pass_data.groupby(\"teamId\").agg(meanPassLength=(\"passLength\", \"mean\"),\n",
    "                                                    medianPassLength=(\"passLength\", \"median\")).reset_index()"
   ]
  },
  {
   "cell_type": "code",
   "execution_count": 367,
   "metadata": {},
   "outputs": [],
   "source": [
    "df_length_team = pd.merge(df_length_team, df_teams[[\"teamId\", \"teamName\"]], how=\"left\")"
   ]
  },
  {
   "cell_type": "code",
   "execution_count": 369,
   "metadata": {},
   "outputs": [],
   "source": [
    "df_length_team.sort_values(\"meanPassLength\", inplace=True)"
   ]
  },
  {
   "cell_type": "code",
   "execution_count": 372,
   "metadata": {},
   "outputs": [
    {
     "data": {
      "application/vnd.plotly.v1+json": {
       "config": {
        "plotlyServerURL": "https://plot.ly"
       },
       "data": [
        {
         "alignmentgroup": "True",
         "hovertemplate": "Team=%{x}<br>Avg.pass length (in m)=%{y}<extra></extra>",
         "legendgroup": "",
         "marker": {
          "color": "#636efa"
         },
         "name": "",
         "offsetgroup": "",
         "orientation": "v",
         "showlegend": false,
         "textposition": "auto",
         "type": "bar",
         "x": [
          "RB Leipzig",
          "Bayer Leverkusen",
          "Borussia Dortmund",
          "Borussia M'gladbach",
          "Bayern München",
          "Schalke 04",
          "Hoffenheim",
          "Hannover 96",
          "Hertha BSC",
          "Köln",
          "Wolfsburg",
          "Freiburg",
          "Stuttgart",
          "Werder Bremen",
          "Hamburger SV",
          "Mainz 05",
          "Eintracht Frankfurt",
          "Augsburg"
         ],
         "xaxis": "x",
         "y": [
          19.3128529133111,
          19.36081534600098,
          19.537662376331983,
          19.806846198409847,
          19.858182951663935,
          20.404587969530716,
          20.55569125670874,
          20.66360661311185,
          20.92169763540338,
          21.06679923789719,
          21.14284848750475,
          21.182034781377975,
          21.18268719588837,
          21.295189173704482,
          21.355423879045542,
          21.423252721616716,
          21.863965814925425,
          22.249537094949243
         ],
         "yaxis": "y"
        }
       ],
       "layout": {
        "barmode": "relative",
        "legend": {
         "tracegroupgap": 0
        },
        "margin": {
         "t": 60
        },
        "template": {
         "data": {
          "bar": [
           {
            "error_x": {
             "color": "#2a3f5f"
            },
            "error_y": {
             "color": "#2a3f5f"
            },
            "marker": {
             "line": {
              "color": "#E5ECF6",
              "width": 0.5
             }
            },
            "type": "bar"
           }
          ],
          "barpolar": [
           {
            "marker": {
             "line": {
              "color": "#E5ECF6",
              "width": 0.5
             }
            },
            "type": "barpolar"
           }
          ],
          "carpet": [
           {
            "aaxis": {
             "endlinecolor": "#2a3f5f",
             "gridcolor": "white",
             "linecolor": "white",
             "minorgridcolor": "white",
             "startlinecolor": "#2a3f5f"
            },
            "baxis": {
             "endlinecolor": "#2a3f5f",
             "gridcolor": "white",
             "linecolor": "white",
             "minorgridcolor": "white",
             "startlinecolor": "#2a3f5f"
            },
            "type": "carpet"
           }
          ],
          "choropleth": [
           {
            "colorbar": {
             "outlinewidth": 0,
             "ticks": ""
            },
            "type": "choropleth"
           }
          ],
          "contour": [
           {
            "colorbar": {
             "outlinewidth": 0,
             "ticks": ""
            },
            "colorscale": [
             [
              0,
              "#0d0887"
             ],
             [
              0.1111111111111111,
              "#46039f"
             ],
             [
              0.2222222222222222,
              "#7201a8"
             ],
             [
              0.3333333333333333,
              "#9c179e"
             ],
             [
              0.4444444444444444,
              "#bd3786"
             ],
             [
              0.5555555555555556,
              "#d8576b"
             ],
             [
              0.6666666666666666,
              "#ed7953"
             ],
             [
              0.7777777777777778,
              "#fb9f3a"
             ],
             [
              0.8888888888888888,
              "#fdca26"
             ],
             [
              1,
              "#f0f921"
             ]
            ],
            "type": "contour"
           }
          ],
          "contourcarpet": [
           {
            "colorbar": {
             "outlinewidth": 0,
             "ticks": ""
            },
            "type": "contourcarpet"
           }
          ],
          "heatmap": [
           {
            "colorbar": {
             "outlinewidth": 0,
             "ticks": ""
            },
            "colorscale": [
             [
              0,
              "#0d0887"
             ],
             [
              0.1111111111111111,
              "#46039f"
             ],
             [
              0.2222222222222222,
              "#7201a8"
             ],
             [
              0.3333333333333333,
              "#9c179e"
             ],
             [
              0.4444444444444444,
              "#bd3786"
             ],
             [
              0.5555555555555556,
              "#d8576b"
             ],
             [
              0.6666666666666666,
              "#ed7953"
             ],
             [
              0.7777777777777778,
              "#fb9f3a"
             ],
             [
              0.8888888888888888,
              "#fdca26"
             ],
             [
              1,
              "#f0f921"
             ]
            ],
            "type": "heatmap"
           }
          ],
          "heatmapgl": [
           {
            "colorbar": {
             "outlinewidth": 0,
             "ticks": ""
            },
            "colorscale": [
             [
              0,
              "#0d0887"
             ],
             [
              0.1111111111111111,
              "#46039f"
             ],
             [
              0.2222222222222222,
              "#7201a8"
             ],
             [
              0.3333333333333333,
              "#9c179e"
             ],
             [
              0.4444444444444444,
              "#bd3786"
             ],
             [
              0.5555555555555556,
              "#d8576b"
             ],
             [
              0.6666666666666666,
              "#ed7953"
             ],
             [
              0.7777777777777778,
              "#fb9f3a"
             ],
             [
              0.8888888888888888,
              "#fdca26"
             ],
             [
              1,
              "#f0f921"
             ]
            ],
            "type": "heatmapgl"
           }
          ],
          "histogram": [
           {
            "marker": {
             "colorbar": {
              "outlinewidth": 0,
              "ticks": ""
             }
            },
            "type": "histogram"
           }
          ],
          "histogram2d": [
           {
            "colorbar": {
             "outlinewidth": 0,
             "ticks": ""
            },
            "colorscale": [
             [
              0,
              "#0d0887"
             ],
             [
              0.1111111111111111,
              "#46039f"
             ],
             [
              0.2222222222222222,
              "#7201a8"
             ],
             [
              0.3333333333333333,
              "#9c179e"
             ],
             [
              0.4444444444444444,
              "#bd3786"
             ],
             [
              0.5555555555555556,
              "#d8576b"
             ],
             [
              0.6666666666666666,
              "#ed7953"
             ],
             [
              0.7777777777777778,
              "#fb9f3a"
             ],
             [
              0.8888888888888888,
              "#fdca26"
             ],
             [
              1,
              "#f0f921"
             ]
            ],
            "type": "histogram2d"
           }
          ],
          "histogram2dcontour": [
           {
            "colorbar": {
             "outlinewidth": 0,
             "ticks": ""
            },
            "colorscale": [
             [
              0,
              "#0d0887"
             ],
             [
              0.1111111111111111,
              "#46039f"
             ],
             [
              0.2222222222222222,
              "#7201a8"
             ],
             [
              0.3333333333333333,
              "#9c179e"
             ],
             [
              0.4444444444444444,
              "#bd3786"
             ],
             [
              0.5555555555555556,
              "#d8576b"
             ],
             [
              0.6666666666666666,
              "#ed7953"
             ],
             [
              0.7777777777777778,
              "#fb9f3a"
             ],
             [
              0.8888888888888888,
              "#fdca26"
             ],
             [
              1,
              "#f0f921"
             ]
            ],
            "type": "histogram2dcontour"
           }
          ],
          "mesh3d": [
           {
            "colorbar": {
             "outlinewidth": 0,
             "ticks": ""
            },
            "type": "mesh3d"
           }
          ],
          "parcoords": [
           {
            "line": {
             "colorbar": {
              "outlinewidth": 0,
              "ticks": ""
             }
            },
            "type": "parcoords"
           }
          ],
          "pie": [
           {
            "automargin": true,
            "type": "pie"
           }
          ],
          "scatter": [
           {
            "marker": {
             "colorbar": {
              "outlinewidth": 0,
              "ticks": ""
             }
            },
            "type": "scatter"
           }
          ],
          "scatter3d": [
           {
            "line": {
             "colorbar": {
              "outlinewidth": 0,
              "ticks": ""
             }
            },
            "marker": {
             "colorbar": {
              "outlinewidth": 0,
              "ticks": ""
             }
            },
            "type": "scatter3d"
           }
          ],
          "scattercarpet": [
           {
            "marker": {
             "colorbar": {
              "outlinewidth": 0,
              "ticks": ""
             }
            },
            "type": "scattercarpet"
           }
          ],
          "scattergeo": [
           {
            "marker": {
             "colorbar": {
              "outlinewidth": 0,
              "ticks": ""
             }
            },
            "type": "scattergeo"
           }
          ],
          "scattergl": [
           {
            "marker": {
             "colorbar": {
              "outlinewidth": 0,
              "ticks": ""
             }
            },
            "type": "scattergl"
           }
          ],
          "scattermapbox": [
           {
            "marker": {
             "colorbar": {
              "outlinewidth": 0,
              "ticks": ""
             }
            },
            "type": "scattermapbox"
           }
          ],
          "scatterpolar": [
           {
            "marker": {
             "colorbar": {
              "outlinewidth": 0,
              "ticks": ""
             }
            },
            "type": "scatterpolar"
           }
          ],
          "scatterpolargl": [
           {
            "marker": {
             "colorbar": {
              "outlinewidth": 0,
              "ticks": ""
             }
            },
            "type": "scatterpolargl"
           }
          ],
          "scatterternary": [
           {
            "marker": {
             "colorbar": {
              "outlinewidth": 0,
              "ticks": ""
             }
            },
            "type": "scatterternary"
           }
          ],
          "surface": [
           {
            "colorbar": {
             "outlinewidth": 0,
             "ticks": ""
            },
            "colorscale": [
             [
              0,
              "#0d0887"
             ],
             [
              0.1111111111111111,
              "#46039f"
             ],
             [
              0.2222222222222222,
              "#7201a8"
             ],
             [
              0.3333333333333333,
              "#9c179e"
             ],
             [
              0.4444444444444444,
              "#bd3786"
             ],
             [
              0.5555555555555556,
              "#d8576b"
             ],
             [
              0.6666666666666666,
              "#ed7953"
             ],
             [
              0.7777777777777778,
              "#fb9f3a"
             ],
             [
              0.8888888888888888,
              "#fdca26"
             ],
             [
              1,
              "#f0f921"
             ]
            ],
            "type": "surface"
           }
          ],
          "table": [
           {
            "cells": {
             "fill": {
              "color": "#EBF0F8"
             },
             "line": {
              "color": "white"
             }
            },
            "header": {
             "fill": {
              "color": "#C8D4E3"
             },
             "line": {
              "color": "white"
             }
            },
            "type": "table"
           }
          ]
         },
         "layout": {
          "annotationdefaults": {
           "arrowcolor": "#2a3f5f",
           "arrowhead": 0,
           "arrowwidth": 1
          },
          "coloraxis": {
           "colorbar": {
            "outlinewidth": 0,
            "ticks": ""
           }
          },
          "colorscale": {
           "diverging": [
            [
             0,
             "#8e0152"
            ],
            [
             0.1,
             "#c51b7d"
            ],
            [
             0.2,
             "#de77ae"
            ],
            [
             0.3,
             "#f1b6da"
            ],
            [
             0.4,
             "#fde0ef"
            ],
            [
             0.5,
             "#f7f7f7"
            ],
            [
             0.6,
             "#e6f5d0"
            ],
            [
             0.7,
             "#b8e186"
            ],
            [
             0.8,
             "#7fbc41"
            ],
            [
             0.9,
             "#4d9221"
            ],
            [
             1,
             "#276419"
            ]
           ],
           "sequential": [
            [
             0,
             "#0d0887"
            ],
            [
             0.1111111111111111,
             "#46039f"
            ],
            [
             0.2222222222222222,
             "#7201a8"
            ],
            [
             0.3333333333333333,
             "#9c179e"
            ],
            [
             0.4444444444444444,
             "#bd3786"
            ],
            [
             0.5555555555555556,
             "#d8576b"
            ],
            [
             0.6666666666666666,
             "#ed7953"
            ],
            [
             0.7777777777777778,
             "#fb9f3a"
            ],
            [
             0.8888888888888888,
             "#fdca26"
            ],
            [
             1,
             "#f0f921"
            ]
           ],
           "sequentialminus": [
            [
             0,
             "#0d0887"
            ],
            [
             0.1111111111111111,
             "#46039f"
            ],
            [
             0.2222222222222222,
             "#7201a8"
            ],
            [
             0.3333333333333333,
             "#9c179e"
            ],
            [
             0.4444444444444444,
             "#bd3786"
            ],
            [
             0.5555555555555556,
             "#d8576b"
            ],
            [
             0.6666666666666666,
             "#ed7953"
            ],
            [
             0.7777777777777778,
             "#fb9f3a"
            ],
            [
             0.8888888888888888,
             "#fdca26"
            ],
            [
             1,
             "#f0f921"
            ]
           ]
          },
          "colorway": [
           "#636efa",
           "#EF553B",
           "#00cc96",
           "#ab63fa",
           "#FFA15A",
           "#19d3f3",
           "#FF6692",
           "#B6E880",
           "#FF97FF",
           "#FECB52"
          ],
          "font": {
           "color": "#2a3f5f"
          },
          "geo": {
           "bgcolor": "white",
           "lakecolor": "white",
           "landcolor": "#E5ECF6",
           "showlakes": true,
           "showland": true,
           "subunitcolor": "white"
          },
          "hoverlabel": {
           "align": "left"
          },
          "hovermode": "closest",
          "mapbox": {
           "style": "light"
          },
          "paper_bgcolor": "white",
          "plot_bgcolor": "#E5ECF6",
          "polar": {
           "angularaxis": {
            "gridcolor": "white",
            "linecolor": "white",
            "ticks": ""
           },
           "bgcolor": "#E5ECF6",
           "radialaxis": {
            "gridcolor": "white",
            "linecolor": "white",
            "ticks": ""
           }
          },
          "scene": {
           "xaxis": {
            "backgroundcolor": "#E5ECF6",
            "gridcolor": "white",
            "gridwidth": 2,
            "linecolor": "white",
            "showbackground": true,
            "ticks": "",
            "zerolinecolor": "white"
           },
           "yaxis": {
            "backgroundcolor": "#E5ECF6",
            "gridcolor": "white",
            "gridwidth": 2,
            "linecolor": "white",
            "showbackground": true,
            "ticks": "",
            "zerolinecolor": "white"
           },
           "zaxis": {
            "backgroundcolor": "#E5ECF6",
            "gridcolor": "white",
            "gridwidth": 2,
            "linecolor": "white",
            "showbackground": true,
            "ticks": "",
            "zerolinecolor": "white"
           }
          },
          "shapedefaults": {
           "line": {
            "color": "#2a3f5f"
           }
          },
          "ternary": {
           "aaxis": {
            "gridcolor": "white",
            "linecolor": "white",
            "ticks": ""
           },
           "baxis": {
            "gridcolor": "white",
            "linecolor": "white",
            "ticks": ""
           },
           "bgcolor": "#E5ECF6",
           "caxis": {
            "gridcolor": "white",
            "linecolor": "white",
            "ticks": ""
           }
          },
          "title": {
           "x": 0.05
          },
          "xaxis": {
           "automargin": true,
           "gridcolor": "white",
           "linecolor": "white",
           "ticks": "",
           "title": {
            "standoff": 15
           },
           "zerolinecolor": "white",
           "zerolinewidth": 2
          },
          "yaxis": {
           "automargin": true,
           "gridcolor": "white",
           "linecolor": "white",
           "ticks": "",
           "title": {
            "standoff": 15
           },
           "zerolinecolor": "white",
           "zerolinewidth": 2
          }
         }
        },
        "xaxis": {
         "anchor": "y",
         "domain": [
          0,
          1
         ],
         "title": {
          "text": "Team"
         }
        },
        "yaxis": {
         "anchor": "x",
         "domain": [
          0,
          1
         ],
         "title": {
          "text": "Avg.pass length (in m)"
         }
        }
       }
      },
      "text/html": [
       "<div>\n",
       "        \n",
       "        \n",
       "            <div id=\"0935dcbd-ffe7-497a-9a56-eee74e14570d\" class=\"plotly-graph-div\" style=\"height:525px; width:100%;\"></div>\n",
       "            <script type=\"text/javascript\">\n",
       "                require([\"plotly\"], function(Plotly) {\n",
       "                    window.PLOTLYENV=window.PLOTLYENV || {};\n",
       "                    \n",
       "                if (document.getElementById(\"0935dcbd-ffe7-497a-9a56-eee74e14570d\")) {\n",
       "                    Plotly.newPlot(\n",
       "                        '0935dcbd-ffe7-497a-9a56-eee74e14570d',\n",
       "                        [{\"alignmentgroup\": \"True\", \"hovertemplate\": \"Team=%{x}<br>Avg.pass length (in m)=%{y}<extra></extra>\", \"legendgroup\": \"\", \"marker\": {\"color\": \"#636efa\"}, \"name\": \"\", \"offsetgroup\": \"\", \"orientation\": \"v\", \"showlegend\": false, \"textposition\": \"auto\", \"type\": \"bar\", \"x\": [\"RB Leipzig\", \"Bayer Leverkusen\", \"Borussia Dortmund\", \"Borussia M'gladbach\", \"Bayern M\\u00fcnchen\", \"Schalke 04\", \"Hoffenheim\", \"Hannover 96\", \"Hertha BSC\", \"K\\u00f6ln\", \"Wolfsburg\", \"Freiburg\", \"Stuttgart\", \"Werder Bremen\", \"Hamburger SV\", \"Mainz 05\", \"Eintracht Frankfurt\", \"Augsburg\"], \"xaxis\": \"x\", \"y\": [19.3128529133111, 19.36081534600098, 19.537662376331983, 19.806846198409847, 19.858182951663935, 20.404587969530716, 20.55569125670874, 20.66360661311185, 20.92169763540338, 21.06679923789719, 21.14284848750475, 21.182034781377975, 21.18268719588837, 21.295189173704482, 21.355423879045542, 21.423252721616716, 21.863965814925425, 22.249537094949243], \"yaxis\": \"y\"}],\n",
       "                        {\"barmode\": \"relative\", \"legend\": {\"tracegroupgap\": 0}, \"margin\": {\"t\": 60}, \"template\": {\"data\": {\"bar\": [{\"error_x\": {\"color\": \"#2a3f5f\"}, \"error_y\": {\"color\": \"#2a3f5f\"}, \"marker\": {\"line\": {\"color\": \"#E5ECF6\", \"width\": 0.5}}, \"type\": \"bar\"}], \"barpolar\": [{\"marker\": {\"line\": {\"color\": \"#E5ECF6\", \"width\": 0.5}}, \"type\": \"barpolar\"}], \"carpet\": [{\"aaxis\": {\"endlinecolor\": \"#2a3f5f\", \"gridcolor\": \"white\", \"linecolor\": \"white\", \"minorgridcolor\": \"white\", \"startlinecolor\": \"#2a3f5f\"}, \"baxis\": {\"endlinecolor\": \"#2a3f5f\", \"gridcolor\": \"white\", \"linecolor\": \"white\", \"minorgridcolor\": \"white\", \"startlinecolor\": \"#2a3f5f\"}, \"type\": \"carpet\"}], \"choropleth\": [{\"colorbar\": {\"outlinewidth\": 0, \"ticks\": \"\"}, \"type\": \"choropleth\"}], \"contour\": [{\"colorbar\": {\"outlinewidth\": 0, \"ticks\": \"\"}, \"colorscale\": [[0.0, \"#0d0887\"], [0.1111111111111111, \"#46039f\"], [0.2222222222222222, \"#7201a8\"], [0.3333333333333333, \"#9c179e\"], [0.4444444444444444, \"#bd3786\"], [0.5555555555555556, \"#d8576b\"], [0.6666666666666666, \"#ed7953\"], [0.7777777777777778, \"#fb9f3a\"], [0.8888888888888888, \"#fdca26\"], [1.0, \"#f0f921\"]], \"type\": \"contour\"}], \"contourcarpet\": [{\"colorbar\": {\"outlinewidth\": 0, \"ticks\": \"\"}, \"type\": \"contourcarpet\"}], \"heatmap\": [{\"colorbar\": {\"outlinewidth\": 0, \"ticks\": \"\"}, \"colorscale\": [[0.0, \"#0d0887\"], [0.1111111111111111, \"#46039f\"], [0.2222222222222222, \"#7201a8\"], [0.3333333333333333, \"#9c179e\"], [0.4444444444444444, \"#bd3786\"], [0.5555555555555556, \"#d8576b\"], [0.6666666666666666, \"#ed7953\"], [0.7777777777777778, \"#fb9f3a\"], [0.8888888888888888, \"#fdca26\"], [1.0, \"#f0f921\"]], \"type\": \"heatmap\"}], \"heatmapgl\": [{\"colorbar\": {\"outlinewidth\": 0, \"ticks\": \"\"}, \"colorscale\": [[0.0, \"#0d0887\"], [0.1111111111111111, \"#46039f\"], [0.2222222222222222, \"#7201a8\"], [0.3333333333333333, \"#9c179e\"], [0.4444444444444444, \"#bd3786\"], [0.5555555555555556, \"#d8576b\"], [0.6666666666666666, \"#ed7953\"], [0.7777777777777778, \"#fb9f3a\"], [0.8888888888888888, \"#fdca26\"], [1.0, \"#f0f921\"]], \"type\": \"heatmapgl\"}], \"histogram\": [{\"marker\": {\"colorbar\": {\"outlinewidth\": 0, \"ticks\": \"\"}}, \"type\": \"histogram\"}], \"histogram2d\": [{\"colorbar\": {\"outlinewidth\": 0, \"ticks\": \"\"}, \"colorscale\": [[0.0, \"#0d0887\"], [0.1111111111111111, \"#46039f\"], [0.2222222222222222, \"#7201a8\"], [0.3333333333333333, \"#9c179e\"], [0.4444444444444444, \"#bd3786\"], [0.5555555555555556, \"#d8576b\"], [0.6666666666666666, \"#ed7953\"], [0.7777777777777778, \"#fb9f3a\"], [0.8888888888888888, \"#fdca26\"], [1.0, \"#f0f921\"]], \"type\": \"histogram2d\"}], \"histogram2dcontour\": [{\"colorbar\": {\"outlinewidth\": 0, \"ticks\": \"\"}, \"colorscale\": [[0.0, \"#0d0887\"], [0.1111111111111111, \"#46039f\"], [0.2222222222222222, \"#7201a8\"], [0.3333333333333333, \"#9c179e\"], [0.4444444444444444, \"#bd3786\"], [0.5555555555555556, \"#d8576b\"], [0.6666666666666666, \"#ed7953\"], [0.7777777777777778, \"#fb9f3a\"], [0.8888888888888888, \"#fdca26\"], [1.0, \"#f0f921\"]], \"type\": \"histogram2dcontour\"}], \"mesh3d\": [{\"colorbar\": {\"outlinewidth\": 0, \"ticks\": \"\"}, \"type\": \"mesh3d\"}], \"parcoords\": [{\"line\": {\"colorbar\": {\"outlinewidth\": 0, \"ticks\": \"\"}}, \"type\": \"parcoords\"}], \"pie\": [{\"automargin\": true, \"type\": \"pie\"}], \"scatter\": [{\"marker\": {\"colorbar\": {\"outlinewidth\": 0, \"ticks\": \"\"}}, \"type\": \"scatter\"}], \"scatter3d\": [{\"line\": {\"colorbar\": {\"outlinewidth\": 0, \"ticks\": \"\"}}, \"marker\": {\"colorbar\": {\"outlinewidth\": 0, \"ticks\": \"\"}}, \"type\": \"scatter3d\"}], \"scattercarpet\": [{\"marker\": {\"colorbar\": {\"outlinewidth\": 0, \"ticks\": \"\"}}, \"type\": \"scattercarpet\"}], \"scattergeo\": [{\"marker\": {\"colorbar\": {\"outlinewidth\": 0, \"ticks\": \"\"}}, \"type\": \"scattergeo\"}], \"scattergl\": [{\"marker\": {\"colorbar\": {\"outlinewidth\": 0, \"ticks\": \"\"}}, \"type\": \"scattergl\"}], \"scattermapbox\": [{\"marker\": {\"colorbar\": {\"outlinewidth\": 0, \"ticks\": \"\"}}, \"type\": \"scattermapbox\"}], \"scatterpolar\": [{\"marker\": {\"colorbar\": {\"outlinewidth\": 0, \"ticks\": \"\"}}, \"type\": \"scatterpolar\"}], \"scatterpolargl\": [{\"marker\": {\"colorbar\": {\"outlinewidth\": 0, \"ticks\": \"\"}}, \"type\": \"scatterpolargl\"}], \"scatterternary\": [{\"marker\": {\"colorbar\": {\"outlinewidth\": 0, \"ticks\": \"\"}}, \"type\": \"scatterternary\"}], \"surface\": [{\"colorbar\": {\"outlinewidth\": 0, \"ticks\": \"\"}, \"colorscale\": [[0.0, \"#0d0887\"], [0.1111111111111111, \"#46039f\"], [0.2222222222222222, \"#7201a8\"], [0.3333333333333333, \"#9c179e\"], [0.4444444444444444, \"#bd3786\"], [0.5555555555555556, \"#d8576b\"], [0.6666666666666666, \"#ed7953\"], [0.7777777777777778, \"#fb9f3a\"], [0.8888888888888888, \"#fdca26\"], [1.0, \"#f0f921\"]], \"type\": \"surface\"}], \"table\": [{\"cells\": {\"fill\": {\"color\": \"#EBF0F8\"}, \"line\": {\"color\": \"white\"}}, \"header\": {\"fill\": {\"color\": \"#C8D4E3\"}, \"line\": {\"color\": \"white\"}}, \"type\": \"table\"}]}, \"layout\": {\"annotationdefaults\": {\"arrowcolor\": \"#2a3f5f\", \"arrowhead\": 0, \"arrowwidth\": 1}, \"coloraxis\": {\"colorbar\": {\"outlinewidth\": 0, \"ticks\": \"\"}}, \"colorscale\": {\"diverging\": [[0, \"#8e0152\"], [0.1, \"#c51b7d\"], [0.2, \"#de77ae\"], [0.3, \"#f1b6da\"], [0.4, \"#fde0ef\"], [0.5, \"#f7f7f7\"], [0.6, \"#e6f5d0\"], [0.7, \"#b8e186\"], [0.8, \"#7fbc41\"], [0.9, \"#4d9221\"], [1, \"#276419\"]], \"sequential\": [[0.0, \"#0d0887\"], [0.1111111111111111, \"#46039f\"], [0.2222222222222222, \"#7201a8\"], [0.3333333333333333, \"#9c179e\"], [0.4444444444444444, \"#bd3786\"], [0.5555555555555556, \"#d8576b\"], [0.6666666666666666, \"#ed7953\"], [0.7777777777777778, \"#fb9f3a\"], [0.8888888888888888, \"#fdca26\"], [1.0, \"#f0f921\"]], \"sequentialminus\": [[0.0, \"#0d0887\"], [0.1111111111111111, \"#46039f\"], [0.2222222222222222, \"#7201a8\"], [0.3333333333333333, \"#9c179e\"], [0.4444444444444444, \"#bd3786\"], [0.5555555555555556, \"#d8576b\"], [0.6666666666666666, \"#ed7953\"], [0.7777777777777778, \"#fb9f3a\"], [0.8888888888888888, \"#fdca26\"], [1.0, \"#f0f921\"]]}, \"colorway\": [\"#636efa\", \"#EF553B\", \"#00cc96\", \"#ab63fa\", \"#FFA15A\", \"#19d3f3\", \"#FF6692\", \"#B6E880\", \"#FF97FF\", \"#FECB52\"], \"font\": {\"color\": \"#2a3f5f\"}, \"geo\": {\"bgcolor\": \"white\", \"lakecolor\": \"white\", \"landcolor\": \"#E5ECF6\", \"showlakes\": true, \"showland\": true, \"subunitcolor\": \"white\"}, \"hoverlabel\": {\"align\": \"left\"}, \"hovermode\": \"closest\", \"mapbox\": {\"style\": \"light\"}, \"paper_bgcolor\": \"white\", \"plot_bgcolor\": \"#E5ECF6\", \"polar\": {\"angularaxis\": {\"gridcolor\": \"white\", \"linecolor\": \"white\", \"ticks\": \"\"}, \"bgcolor\": \"#E5ECF6\", \"radialaxis\": {\"gridcolor\": \"white\", \"linecolor\": \"white\", \"ticks\": \"\"}}, \"scene\": {\"xaxis\": {\"backgroundcolor\": \"#E5ECF6\", \"gridcolor\": \"white\", \"gridwidth\": 2, \"linecolor\": \"white\", \"showbackground\": true, \"ticks\": \"\", \"zerolinecolor\": \"white\"}, \"yaxis\": {\"backgroundcolor\": \"#E5ECF6\", \"gridcolor\": \"white\", \"gridwidth\": 2, \"linecolor\": \"white\", \"showbackground\": true, \"ticks\": \"\", \"zerolinecolor\": \"white\"}, \"zaxis\": {\"backgroundcolor\": \"#E5ECF6\", \"gridcolor\": \"white\", \"gridwidth\": 2, \"linecolor\": \"white\", \"showbackground\": true, \"ticks\": \"\", \"zerolinecolor\": \"white\"}}, \"shapedefaults\": {\"line\": {\"color\": \"#2a3f5f\"}}, \"ternary\": {\"aaxis\": {\"gridcolor\": \"white\", \"linecolor\": \"white\", \"ticks\": \"\"}, \"baxis\": {\"gridcolor\": \"white\", \"linecolor\": \"white\", \"ticks\": \"\"}, \"bgcolor\": \"#E5ECF6\", \"caxis\": {\"gridcolor\": \"white\", \"linecolor\": \"white\", \"ticks\": \"\"}}, \"title\": {\"x\": 0.05}, \"xaxis\": {\"automargin\": true, \"gridcolor\": \"white\", \"linecolor\": \"white\", \"ticks\": \"\", \"title\": {\"standoff\": 15}, \"zerolinecolor\": \"white\", \"zerolinewidth\": 2}, \"yaxis\": {\"automargin\": true, \"gridcolor\": \"white\", \"linecolor\": \"white\", \"ticks\": \"\", \"title\": {\"standoff\": 15}, \"zerolinecolor\": \"white\", \"zerolinewidth\": 2}}}, \"xaxis\": {\"anchor\": \"y\", \"domain\": [0.0, 1.0], \"title\": {\"text\": \"Team\"}}, \"yaxis\": {\"anchor\": \"x\", \"domain\": [0.0, 1.0], \"title\": {\"text\": \"Avg.pass length (in m)\"}}},\n",
       "                        {\"responsive\": true}\n",
       "                    ).then(function(){\n",
       "                            \n",
       "var gd = document.getElementById('0935dcbd-ffe7-497a-9a56-eee74e14570d');\n",
       "var x = new MutationObserver(function (mutations, observer) {{\n",
       "        var display = window.getComputedStyle(gd).display;\n",
       "        if (!display || display === 'none') {{\n",
       "            console.log([gd, 'removed!']);\n",
       "            Plotly.purge(gd);\n",
       "            observer.disconnect();\n",
       "        }}\n",
       "}});\n",
       "\n",
       "// Listen for the removal of the full notebook cells\n",
       "var notebookContainer = gd.closest('#notebook-container');\n",
       "if (notebookContainer) {{\n",
       "    x.observe(notebookContainer, {childList: true});\n",
       "}}\n",
       "\n",
       "// Listen for the clearing of the current output cell\n",
       "var outputEl = gd.closest('.output');\n",
       "if (outputEl) {{\n",
       "    x.observe(outputEl, {childList: true});\n",
       "}}\n",
       "\n",
       "                        })\n",
       "                };\n",
       "                });\n",
       "            </script>\n",
       "        </div>"
      ]
     },
     "metadata": {},
     "output_type": "display_data"
    }
   ],
   "source": [
    "fig = px.bar(df_length_team, x=\"teamName\", y=\"meanPassLength\", \n",
    "             labels={'meanPassLength':\"Avg.pass length (in m)\", \"teamName\": \"Team\"})\n",
    "fig.show()"
   ]
  },
  {
   "cell_type": "code",
   "execution_count": null,
   "metadata": {},
   "outputs": [],
   "source": []
  }
 ],
 "metadata": {
  "kernelspec": {
   "display_name": "Python 3",
   "language": "python",
   "name": "python3"
  },
  "language_info": {
   "codemirror_mode": {
    "name": "ipython",
    "version": 3
   },
   "file_extension": ".py",
   "mimetype": "text/x-python",
   "name": "python",
   "nbconvert_exporter": "python",
   "pygments_lexer": "ipython3",
   "version": "3.6.10"
  }
 },
 "nbformat": 4,
 "nbformat_minor": 4
}
